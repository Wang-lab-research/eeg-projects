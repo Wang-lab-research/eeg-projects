{
 "cells": [
  {
   "cell_type": "code",
   "execution_count": 28,
   "id": "b9b30bda-9a4e-4139-b56e-bd77d1d738e0",
   "metadata": {},
   "outputs": [],
   "source": [
    "import matplotlib.pyplot as plt\n",
    "import pydicom\n",
    "import pydicom.data\n",
    "import os\n",
    "\n",
    "# Full path of the DICOM file is passed in base\n",
    "sub_id = \"040\"\n",
    "base = f\"../../Data/MRI/{sub_id}/IMAGES/\"\n",
    "\n",
    "# enter DICOM image name for pattern\n",
    "filename = pydicom.data.data_manager.get_files(base)"
   ]
  },
  {
   "cell_type": "code",
   "execution_count": null,
   "id": "19bc94fb-0643-432e-982a-cd9e0ec4cf50",
   "metadata": {},
   "outputs": [
    {
     "ename": "KeyboardInterrupt",
     "evalue": "",
     "output_type": "error",
     "traceback": [
      "\u001b[0;31m---------------------------------------------------------------------------\u001b[0m",
      "\u001b[0;31mKeyboardInterrupt\u001b[0m                         Traceback (most recent call last)",
      "Cell \u001b[0;32mIn[34], line 26\u001b[0m\n\u001b[1;32m     20\u001b[0m \u001b[38;5;66;03m# drawing updated values\u001b[39;00m\n\u001b[1;32m     21\u001b[0m \u001b[38;5;66;03m# figure.canvas.draw()\u001b[39;00m\n\u001b[1;32m     22\u001b[0m \n\u001b[1;32m     23\u001b[0m \u001b[38;5;66;03m# This will run the GUI event\u001b[39;00m\n\u001b[1;32m     24\u001b[0m figure\u001b[38;5;241m.\u001b[39mcanvas\u001b[38;5;241m.\u001b[39mflush_events()\n\u001b[0;32m---> 26\u001b[0m \u001b[43mtime\u001b[49m\u001b[38;5;241;43m.\u001b[39;49m\u001b[43msleep\u001b[49m\u001b[43m(\u001b[49m\u001b[38;5;241;43m0.1\u001b[39;49m\u001b[43m)\u001b[49m\n",
      "\u001b[0;31mKeyboardInterrupt\u001b[0m: "
     ]
    }
   ],
   "source": [
    "# importing libraries\n",
    "import numpy as np\n",
    "import time\n",
    "import matplotlib.pyplot as plt\n",
    " \n",
    "# to run GUI event loop\n",
    "plt.ion()\n",
    " \n",
    "# here we are creating sub plots\n",
    "figure, ax = plt.subplots(figsize=(10, 8))\n",
    "ds = pydicom.dcmread(filename[0])\n",
    "startplt = ax.imshow(ds.pixel_array, cmap=plt.cm.bone) # set the color map to bone\n",
    "# ax.show()\n",
    "\n",
    "# Loop\n",
    "for ii in range(len(filename)):\n",
    "    ds = pydicom.dcmread(filename[ii])\n",
    "    startplt = ax.imshow(ds.pixel_array, cmap=plt.cm.bone) # set the color map to bone\n",
    "\n",
    "    # drawing updated values\n",
    "    # figure.canvas.draw()\n",
    " \n",
    "    # This will run the GUI event\n",
    "    figure.canvas.flush_events()\n",
    " \n",
    "    time.sleep(0.1)"
   ]
  },
  {
   "cell_type": "code",
   "execution_count": null,
   "id": "36f9e578-d158-43f6-b6b2-349bd1ca1754",
   "metadata": {},
   "outputs": [],
   "source": []
  }
 ],
 "metadata": {
  "kernelspec": {
   "display_name": "eeg_env",
   "language": "python",
   "name": "eeg_env"
  },
  "language_info": {
   "codemirror_mode": {
    "name": "ipython",
    "version": 3
   },
   "file_extension": ".py",
   "mimetype": "text/x-python",
   "name": "python",
   "nbconvert_exporter": "python",
   "pygments_lexer": "ipython3",
   "version": "3.9.16"
  }
 },
 "nbformat": 4,
 "nbformat_minor": 5
}
