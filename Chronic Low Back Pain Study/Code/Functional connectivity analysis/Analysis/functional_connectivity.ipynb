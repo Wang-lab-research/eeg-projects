{
 "cells": [
  {
   "cell_type": "markdown",
   "id": "0c556c1c-fefc-4f4b-83a0-e434ba7d5bfc",
   "metadata": {
    "tags": []
   },
   "source": [
    "## Perform functional connectivity analysis on trial data, eyes open, and eyes closed data for all viable CLBP subjects\n",
    "#### Input: *stc.mat\n",
    "####  Output: con, visualization"
   ]
  },
  {
   "cell_type": "code",
   "execution_count": 1,
   "id": "61f19c56-d9b6-4b71-8f09-7c14ce18f2fb",
   "metadata": {
    "tags": []
   },
   "outputs": [
    {
     "ename": "SyntaxError",
     "evalue": "'continue' not properly in loop (functional_connectivity.py, line 98)",
     "output_type": "error",
     "traceback": [
      "Traceback \u001b[0;36m(most recent call last)\u001b[0m:\n",
      "\u001b[0m  File \u001b[1;32m~/mambaforge/envs/mne/lib/python3.11/site-packages/IPython/core/interactiveshell.py:3550\u001b[0m in \u001b[1;35mrun_code\u001b[0m\n    exec(code_obj, self.user_global_ns, self.user_ns)\u001b[0m\n",
      "\u001b[0;36m  Cell \u001b[0;32mIn[1], line 6\u001b[0;36m\n\u001b[0;31m    from eeg_toolkit.functional_connectivity import *\u001b[0;36m\n",
      "\u001b[0;36m  File \u001b[0;32m~/Documents/George Kenefati/Code/eeg_toolkit/eeg_toolkit/functional_connectivity.py:98\u001b[0;36m\u001b[0m\n\u001b[0;31m    continue\u001b[0m\n\u001b[0m    ^\u001b[0m\n\u001b[0;31mSyntaxError\u001b[0m\u001b[0;31m:\u001b[0m 'continue' not properly in loop\n"
     ]
    }
   ],
   "source": [
    "import os \n",
    "from pathlib import Path\n",
    "import sys\n",
    "sys.path.append(\"/home/wanglab/Documents/George Kenefati/Code/eeg_toolkit/\")\n",
    "from eeg_toolkit import utils, preprocess\n",
    "from eeg_toolkit.functional_connectivity import *"
   ]
  },
  {
   "cell_type": "code",
   "execution_count": 2,
   "id": "bc472cac-3bcd-47d6-aa8b-a22a81e8562f",
   "metadata": {},
   "outputs": [
    {
     "name": "stdout",
     "output_type": "stream",
     "text": [
      "[-2.5,0.0,2.5]\n"
     ]
    },
    {
     "data": {
      "text/plain": [
       "[]"
      ]
     },
     "execution_count": 2,
     "metadata": {},
     "output_type": "execute_result"
    }
   ],
   "source": [
    "# Settings\n",
    "times_tup, time_win_path = preprocess.get_time_window(5)\n",
    "\n",
    "data_dir = Path(\"../../../Data\")\n",
    "processed_data_path = data_dir / \"Processed_Data\"\n",
    "EC_resting_data_path = data_dir / \"STC_EC_resting\"\n",
    "EO_resting_data_path = data_dir / \"STC_EO_resting\"\n",
    "zscored_epochs_data_path = data_dir / \"STC_zscored_Epochs\" / time_win_path\n",
    "\n",
    "EC_resting_save_path = data_dir / \"FC_EC_resting\"\n",
    "EO_resting_save_path = data_dir / \"FC_EO_resting\"\n",
    "zscored_epochs_save_path = data_dir / \"FC_zscored_Epochs\" / time_win_path\n",
    "\n",
    "save_paths = [EC_resting_save_path, EO_resting_save_path, zscored_epochs_save_path]\n",
    "\n",
    "[os.makedirs(save_paths) for path in save_paths if not os.path.exists(path)]"
   ]
  },
  {
   "cell_type": "code",
   "execution_count": 3,
   "id": "e38fc4d6-2341-428f-9131-1868ca9a799a",
   "metadata": {},
   "outputs": [
    {
     "name": "stdout",
     "output_type": "stream",
     "text": [
      "['020', '022', '023', '027', '029', '032', '035', '036', '039', '041', '042', '043', '044', '046', '048', '050', '051', '053', '055', '056', 'C10', 'C11', 'C15', 'C17', 'C22', 'C25', 'C27']\n"
     ]
    }
   ],
   "source": [
    "# viable subjects\n",
    "sub_ids = utils.import_subs(data_dir, \"sub_ids.txt\")\n",
    "sub_ids = sub_ids[7:]  # select only 64ch subs and turn into set\n",
    "# print(sub_ids)\n",
    "\n",
    "EXCLUDE_SUBS = [\n",
    "    # Chronic Pain Subjects\n",
    "    '018', '024', '030', '031', '033', '034', '037', \n",
    "    '038', '040', '045', '049', '052', '054', '057', '058',\n",
    "    # Control Subjects\n",
    "    'C5.', 'C6.', 'C7.', 'C8.', 'C9.', 'C12', 'C13',\n",
    "    'C14', 'C16', 'C18', 'C19', 'C20', 'C21', 'C24', 'C26'\n",
    "    ]\n",
    "\n",
    "SKIP_NANS = ['018','021','C1.','C2.','C3.']\n",
    "# TODO: these are just for the grant figures\n",
    "sub_ids = [sub for sub in sub_ids if sub not in EXCLUDE_SUBS]\n",
    "sub_ids = [sub for sub in sub_ids if sub not in SKIP_NANS]\n",
    "print(sub_ids)"
   ]
  },
  {
   "cell_type": "code",
   "execution_count": 4,
   "id": "dd542c98",
   "metadata": {},
   "outputs": [
    {
     "name": "stdout",
     "output_type": "stream",
     "text": [
      "Chronics: 20\n",
      "Controls: 7\n",
      "Total: 27\n"
     ]
    }
   ],
   "source": [
    "sub_ids_CP = [el for el in sub_ids if el.startswith('0')]\n",
    "sub_ids_HC = [el for el in sub_ids if el.startswith('C')]\n",
    "\n",
    "print(f\"Chronics: {len(sub_ids_CP)}\")\n",
    "print(f\"Controls: {len(sub_ids_HC)}\")\n",
    "print(f\"Total: {len(sub_ids)}\")"
   ]
  },
  {
   "cell_type": "code",
   "execution_count": 5,
   "id": "3dad3845-35ee-450f-8e4f-20317e5cb64c",
   "metadata": {
    "tags": []
   },
   "outputs": [],
   "source": [
    "# Get stc only from selected labels\n",
    "roi_names = [  # Left\n",
    "    \"rostralanteriorcingulate-lh\",  # Left Rostral ACC\n",
    "    \"caudalanteriorcingulate-lh\",  # Left Caudal ACC\n",
    "    \"postcentral-lh\",  # Left S1,\n",
    "    \"insula-lh\",\n",
    "    \"superiorfrontal-lh\",  # Left Insula, Left DL-PFC,\n",
    "    \"medialorbitofrontal-lh\",  # Left Medial-OFC\n",
    "    # Right\n",
    "    \"rostralanteriorcingulate-rh\",  # Right Rostral ACC\n",
    "    \"caudalanteriorcingulate-rh\",  # Right Caudal ACC\n",
    "    \"postcentral-rh\",  # , Right S1\n",
    "    \"insula-rh\",\n",
    "    \"superiorfrontal-rh\",  # Right Insula, Right DL-PFC\n",
    "    \"medialorbitofrontal-rh\",\n",
    "]  # Right Medial-OFC\n",
    "\n",
    "Freq_Bands = {\n",
    "    # 'delta': [0, 4],\n",
    "    \"theta\": [4.0, 8.0],\n",
    "    \"alpha\": [8.0, 13.0],\n",
    "    \"beta\": [13.0, 30.0],\n",
    "    \"low-gamma\": [30.0, 58.5],\n",
    "    \"notch\": [58.5, 61.5],\n",
    "    \"high-gamma\": [61.5, 100.0],\n",
    "}\n",
    "\n",
    "sfreq = 400  # Hz\n",
    "tmin, tmax = 0.0, 1.0  # exclude the baseline period for connectivity estimation\n",
    "\n",
    "con_methods = [\n",
    "    \"wpli\",\n",
    "    \"dpli\",\n",
    "    \"plv\",\n",
    "    # \"\",\n",
    "]"
   ]
  },
  {
   "cell_type": "code",
   "execution_count": null,
   "id": "e90c5cee-98bd-4244-a519-0396a80b0c22",
   "metadata": {
    "scrolled": true
   },
   "outputs": [
    {
     "ename": "OSError",
     "evalue": "SourceEstimate File(s) not found for: '../../../Data/STC_Z_scored_Epochs/018.stc'",
     "output_type": "error",
     "traceback": [
      "\u001b[0;31m---------------------------------------------------------------------------\u001b[0m",
      "\u001b[0;31mOSError\u001b[0m                                   Traceback (most recent call last)",
      "Cell \u001b[0;32mIn[8], line 10\u001b[0m\n\u001b[1;32m      3\u001b[0m sub_data_path_zepo \u001b[38;5;241m=\u001b[39m os\u001b[38;5;241m.\u001b[39mpath\u001b[38;5;241m.\u001b[39mjoin(Z_scored_epochs_data_path, sub_id)\n\u001b[1;32m      4\u001b[0m con_methods \u001b[38;5;241m=\u001b[39m [\n\u001b[1;32m      5\u001b[0m     \u001b[38;5;124m\"\u001b[39m\u001b[38;5;124mwpli\u001b[39m\u001b[38;5;124m\"\u001b[39m,\n\u001b[1;32m      6\u001b[0m     \u001b[38;5;124m\"\u001b[39m\u001b[38;5;124mdpli\u001b[39m\u001b[38;5;124m\"\u001b[39m,\n\u001b[1;32m      7\u001b[0m     \u001b[38;5;124m\"\u001b[39m\u001b[38;5;124mplv\u001b[39m\u001b[38;5;124m\"\u001b[39m,\n\u001b[1;32m      8\u001b[0m     \u001b[38;5;66;03m# \"\",\u001b[39;00m\n\u001b[1;32m      9\u001b[0m ]\n\u001b[0;32m---> 10\u001b[0m \u001b[43mcompute_connectivity_epochs\u001b[49m\u001b[43m(\u001b[49m\n\u001b[1;32m     11\u001b[0m \u001b[43m    \u001b[49m\u001b[43msub_data_path_zepo\u001b[49m\u001b[43m,\u001b[49m\u001b[43m \u001b[49m\u001b[43mroi_names\u001b[49m\u001b[43m,\u001b[49m\u001b[43m \u001b[49m\u001b[43mcon_methods\u001b[49m\u001b[43m,\u001b[49m\u001b[43m \u001b[49m\u001b[43mFreq_Bands\u001b[49m\u001b[43m,\u001b[49m\u001b[43m \u001b[49m\u001b[43msfreq\u001b[49m\n\u001b[1;32m     12\u001b[0m \u001b[43m\u001b[49m\u001b[43m)\u001b[49m\n\u001b[1;32m     14\u001b[0m \u001b[38;5;66;03m# Resting state\u001b[39;00m\n\u001b[1;32m     15\u001b[0m \u001b[38;5;66;03m# eyes closed\u001b[39;00m\n\u001b[1;32m     16\u001b[0m condition \u001b[38;5;241m=\u001b[39m \u001b[38;5;124m\"\u001b[39m\u001b[38;5;124meyes open\u001b[39m\u001b[38;5;124m\"\u001b[39m  \u001b[38;5;66;03m# replace with the actual condition\u001b[39;00m\n",
      "File \u001b[0;32m~/Documents/George Kenefati/Code/eeg_toolkit/eeg_toolkit/functional_connectivity.py:111\u001b[0m, in \u001b[0;36mcompute_connectivity_epochs\u001b[0;34m(data_path, roi_names, con_methods, Freq_Bands, sfreq)\u001b[0m\n\u001b[1;32m    108\u001b[0m \u001b[38;5;28;01mdef\u001b[39;00m \u001b[38;5;21mcompute_connectivity_epochs\u001b[39m(data_path, roi_names, con_methods, Freq_Bands, sfreq):\n\u001b[1;32m    109\u001b[0m     \u001b[38;5;66;03m# Load the data\u001b[39;00m\n\u001b[1;32m    110\u001b[0m     fname \u001b[38;5;241m=\u001b[39m os\u001b[38;5;241m.\u001b[39mpath\u001b[38;5;241m.\u001b[39mjoin(data_path \u001b[38;5;241m+\u001b[39m \u001b[38;5;124m\"\u001b[39m\u001b[38;5;124m.stc\u001b[39m\u001b[38;5;124m\"\u001b[39m)\n\u001b[0;32m--> 111\u001b[0m     stc \u001b[38;5;241m=\u001b[39m \u001b[43mmne\u001b[49m\u001b[38;5;241;43m.\u001b[39;49m\u001b[43mread_source_estimate\u001b[49m\u001b[43m(\u001b[49m\u001b[43mfname\u001b[49m\u001b[43m)\u001b[49m\n\u001b[1;32m    113\u001b[0m     \u001b[38;5;66;03m# Create epochs from the data\u001b[39;00m\n\u001b[1;32m    114\u001b[0m     epochs_data \u001b[38;5;241m=\u001b[39m np\u001b[38;5;241m.\u001b[39mtranspose(np\u001b[38;5;241m.\u001b[39marray(data), (\u001b[38;5;241m1\u001b[39m, \u001b[38;5;241m0\u001b[39m, \u001b[38;5;241m2\u001b[39m))\n",
      "File \u001b[0;32m~/mambaforge/envs/mne/lib/python3.11/site-packages/mne/source_estimate.py:331\u001b[0m, in \u001b[0;36mread_source_estimate\u001b[0;34m(fname, subject)\u001b[0m\n\u001b[1;32m    329\u001b[0m         \u001b[38;5;28;01mraise\u001b[39;00m \u001b[38;5;167;01mOSError\u001b[39;00m(\u001b[38;5;124m\"\u001b[39m\u001b[38;5;124mHemisphere missing for \u001b[39m\u001b[38;5;132;01m%r\u001b[39;00m\u001b[38;5;124m\"\u001b[39m \u001b[38;5;241m%\u001b[39m fname_arg)\n\u001b[1;32m    330\u001b[0m     \u001b[38;5;28;01melse\u001b[39;00m:\n\u001b[0;32m--> 331\u001b[0m         \u001b[38;5;28;01mraise\u001b[39;00m \u001b[38;5;167;01mOSError\u001b[39;00m(\u001b[38;5;124m\"\u001b[39m\u001b[38;5;124mSourceEstimate File(s) not found for: \u001b[39m\u001b[38;5;132;01m%r\u001b[39;00m\u001b[38;5;124m\"\u001b[39m \u001b[38;5;241m%\u001b[39m fname_arg)\n\u001b[1;32m    333\u001b[0m \u001b[38;5;66;03m# read the files\u001b[39;00m\n\u001b[1;32m    334\u001b[0m \u001b[38;5;28;01mif\u001b[39;00m ftype \u001b[38;5;241m==\u001b[39m \u001b[38;5;124m\"\u001b[39m\u001b[38;5;124mvolume\u001b[39m\u001b[38;5;124m\"\u001b[39m:  \u001b[38;5;66;03m# volume source space\u001b[39;00m\n",
      "\u001b[0;31mOSError\u001b[0m: SourceEstimate File(s) not found for: '../../../Data/STC_Z_scored_Epochs/018.stc'"
     ]
    }
   ],
   "source": [
    "con_all_epochs_CP = []\n",
    "con_all_eo_CP = []\n",
    "con_all_ec_CP = []\n",
    "\n",
    "for sub_id in sub_ids_CP:\n",
    "    # First load in STC data and separate epochs by stimulus\n",
    "    \n",
    "    # Epochs\n",
    "    sub_data_path_zepo = os.path.join(zscored_epochs_data_path, sub_id)\n",
    "    stc_array = load_stc_epochs(zscored_epochs_data_path)\n",
    "    hand_All_Stim_epochs, back_All_Stim_epochs, pain_ratings, stim_labels = separate_epochs_by_stim(sub_id,\n",
    "                                                                                                    processed_data_path, \n",
    "                                                                                                    stc_array,\n",
    "                                                                                                    )\n",
    "\n",
    "\n",
    "    \n",
    "    for method in con_methods:   \n",
    "        for band in Freq_Bands:    \n",
    "            con_epochs = compute_connectivity_epochs(\n",
    "                sub_data_path_zepo, roi_names, method, Freq_Bands, sfreq\n",
    "            )\n",
    "    \n",
    "    # Resting state\n",
    "    # eyes closed\n",
    "    condition = \"EO\"  # replace with the actual condition\n",
    "    sub_data_path_EO = f\"{EO_resting_data_path}/{time_win_path}/{sub_id}/\"\n",
    "    con_eo = compute_connectivity_resting_state(sub_data_path_EO, roi_names, con_methods, freq_bounds, sfreq, condition)\n",
    "\n",
    "    # eyes open\n",
    "    condition = \"EC\"  # replace with the actual condition\n",
    "    sub_data_path_EC = f\"{data_path_EC}/{time_win_path}/{sub_id}/\"\n",
    "    con_ec = compute_connectivity_resting_state(sub_data_path_EC, roi_names, con_methods, freq_bounds, sfreq, condition)\n",
    "\n",
    "    con_all_epochs.append(con_epochs)\n",
    "    con_all_eo.append(con_eo)\n",
    "    con_all_ec.append(con_ec)"
   ]
  },
  {
   "cell_type": "code",
   "execution_count": null,
   "id": "be8053ed",
   "metadata": {},
   "outputs": [],
   "source": [
    "# Plot averaged data\n",
    "plot_connectivity_circle(con_epochs_array, con_methods, Freq_Bands, roi_names)\n",
    "plot_global_connectivity(epochs, tmin, tmax, n_connections, con_epochs, Freq_Bands)\n",
    "plot_connectivity(con_epochs, t_con_max, roi_names, con_methods)\n",
    "plot_con_matrix(con_data, n_con_methods, connectivity_methods, roi_names, foi)\n"
   ]
  }
 ],
 "metadata": {
  "kernelspec": {
   "display_name": "Python 3",
   "language": "python",
   "name": "python3"
  },
  "language_info": {
   "codemirror_mode": {
    "name": "ipython",
    "version": 3
   },
   "file_extension": ".py",
   "mimetype": "text/x-python",
   "name": "python",
   "nbconvert_exporter": "python",
   "pygments_lexer": "ipython3",
   "version": "3.11.6"
  }
 },
 "nbformat": 4,
 "nbformat_minor": 5
}
