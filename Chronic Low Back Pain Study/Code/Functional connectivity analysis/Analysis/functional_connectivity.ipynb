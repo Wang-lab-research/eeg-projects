{
 "cells": [
  {
   "cell_type": "markdown",
   "id": "0c556c1c-fefc-4f4b-83a0-e434ba7d5bfc",
   "metadata": {
    "tags": []
   },
   "source": [
    "## Perform functional connectivity analysis on trial data, eyes open, and eyes closed data for all viable CLBP subjects\n",
    "#### Input: *stc.mat\n",
    "####  Output: con, visualization"
   ]
  },
  {
   "cell_type": "code",
   "execution_count": 1,
   "id": "61f19c56-d9b6-4b71-8f09-7c14ce18f2fb",
   "metadata": {
    "tags": []
   },
   "outputs": [
    {
     "ename": "ModuleNotFoundError",
     "evalue": "No module named 'utils'",
     "output_type": "error",
     "traceback": [
      "\u001b[0;31m---------------------------------------------------------------------------\u001b[0m",
      "\u001b[0;31mModuleNotFoundError\u001b[0m                       Traceback (most recent call last)",
      "Cell \u001b[0;32mIn[1], line 3\u001b[0m\n\u001b[1;32m      1\u001b[0m \u001b[38;5;28;01mimport\u001b[39;00m \u001b[38;5;21;01msys\u001b[39;00m\n\u001b[1;32m      2\u001b[0m sys\u001b[38;5;241m.\u001b[39mpath\u001b[38;5;241m.\u001b[39mappend(\u001b[38;5;124m\"\u001b[39m\u001b[38;5;124m/home/wanglab/Documents/George Kenefati/Code/eeg_toolkit/\u001b[39m\u001b[38;5;124m\"\u001b[39m)\n\u001b[0;32m----> 3\u001b[0m \u001b[38;5;28;01mfrom\u001b[39;00m \u001b[38;5;21;01meeg_toolkit\u001b[39;00m\u001b[38;5;21;01m.\u001b[39;00m\u001b[38;5;21;01mfunctional_connectivity\u001b[39;00m \u001b[38;5;28;01mimport\u001b[39;00m \u001b[38;5;241m*\u001b[39m\n",
      "File \u001b[0;32m~/Documents/George Kenefati/Code/eeg_toolkit/eeg_toolkit/functional_connectivity.py:1\u001b[0m\n\u001b[0;32m----> 1\u001b[0m \u001b[38;5;28;01mfrom\u001b[39;00m \u001b[38;5;21;01mutils\u001b[39;00m \u001b[38;5;28;01mimport\u001b[39;00m \u001b[38;5;241m*\u001b[39m\n\u001b[1;32m      2\u001b[0m \u001b[38;5;28;01mimport\u001b[39;00m \u001b[38;5;21;01mmne_connectivity\u001b[39;00m\n\u001b[1;32m      3\u001b[0m \u001b[38;5;28;01mimport\u001b[39;00m \u001b[38;5;21;01mmatplotlib\u001b[39;00m\u001b[38;5;21;01m.\u001b[39;00m\u001b[38;5;21;01mpyplot\u001b[39;00m \u001b[38;5;28;01mas\u001b[39;00m \u001b[38;5;21;01mplt\u001b[39;00m\n",
      "\u001b[0;31mModuleNotFoundError\u001b[0m: No module named 'utils'"
     ]
    }
   ],
   "source": [
    "import os\n",
    "from pathlib import Path\n",
    "\n",
    "import mne\n",
    "import numpy as np\n",
    "import scipy.io as sio\n",
    "from mne_connectivity import (spectral_connectivity_epochs,\n",
    "                              spectral_connectivity_time,)\n",
    "import sys\n",
    "sys.path.append(\"/home/wanglab/Documents/George Kenefati/Code/eeg_toolkit/\")\n",
    "from eeg_toolkit import preprocess, utils\n",
    "from eeg_toolkit.functional_connectivity import *"
   ]
  },
  {
   "cell_type": "code",
   "execution_count": 9,
   "id": "bc472cac-3bcd-47d6-aa8b-a22a81e8562f",
   "metadata": {},
   "outputs": [
    {
     "name": "stdout",
     "output_type": "stream",
     "text": [
      "[-2.5,0.0,2.5]\n"
     ]
    }
   ],
   "source": [
    "# Settings\n",
    "times_tup, time_win_path = preprocess.get_time_window(5)\n",
    "\n",
    "data_dir = Path(\"../../../Data\")\n",
    "EC_resting_data_path = data_dir / \"STC_EC_resting\"\n",
    "EO_resting_data_path = data_dir / \"STC_EO_resting\"\n",
    "Z_scored_epochs_data_path = data_dir / \"STC_Z_scored_Epochs\"\n",
    "\n",
    "EC_resting_save_path = data_dir / \"FC_EC_resting\"\n",
    "EO_resting_save_path = data_dir / \"FC_EO_resting\"\n",
    "Z_scored_epochs_save_path = data_dir / \"FC_Z_scored_Epochs\" / time_win_path\n",
    "\n",
    "save_paths = [EC_resting_save_path, EO_resting_save_path, Z_scored_epochs_save_path]\n",
    "\n",
    "[os.makedirs(path) for path in save_paths if not os.path.exists(path)]\n",
    "\n",
    "# Noise cov: crop raw during eyes-open resting condition\n",
    "noise_cov_win = 5.5, 7.5  # rest_min, rest_max"
   ]
  },
  {
   "cell_type": "code",
   "execution_count": 10,
   "id": "e38fc4d6-2341-428f-9131-1868ca9a799a",
   "metadata": {},
   "outputs": [
    {
     "name": "stdout",
     "output_type": "stream",
     "text": [
      "['018', '020', '021', '022', '023', '024', '027', '029', '030', '031', '032', '033', '034', '035', '036', '037', '038', '039', '040', '041', '042', '043', '044', '045', '046', '048', '049', '050', '051', '052', '053', '054', '055', '056', '057', '058', 'C1.', 'C2.', 'C3.', 'C5.', 'C6.', 'C7.', 'C8.', 'C9.', 'C10', 'C11', 'C12', 'C13', 'C14', 'C15', 'C16', 'C17', 'C18', 'C19', 'C20', 'C21', 'C22', 'C24', 'C25', 'C26', 'C27']\n"
     ]
    }
   ],
   "source": [
    "# viable subjects\n",
    "sub_ids = utils.import_subs(data_dir, \"sub_ids.txt\")\n",
    "sub_ids = sub_ids[7:]  # select only 64ch subs and turn into set\n",
    "print(sub_ids)"
   ]
  },
  {
   "cell_type": "code",
   "execution_count": 26,
   "id": "3dad3845-35ee-450f-8e4f-20317e5cb64c",
   "metadata": {
    "tags": []
   },
   "outputs": [],
   "source": [
    "# Get stc only from selected labels\n",
    "roi_names = [  # Left\n",
    "    \"rostralanteriorcingulate-lh\",  # Left Rostral ACC\n",
    "    \"caudalanteriorcingulate-lh\",  # Left Caudal ACC\n",
    "    \"postcentral-lh\",  # Left S1,\n",
    "    \"insula-lh\",\n",
    "    \"superiorfrontal-lh\",  # Left Insula, Left DL-PFC,\n",
    "    \"medialorbitofrontal-lh\",  # Left Medial-OFC\n",
    "    # Right\n",
    "    \"rostralanteriorcingulate-rh\",  # Right Rostral ACC\n",
    "    \"caudalanteriorcingulate-rh\",  # Right Caudal ACC\n",
    "    \"postcentral-rh\",  # , Right S1\n",
    "    \"insula-rh\",\n",
    "    \"superiorfrontal-rh\",  # Right Insula, Right DL-PFC\n",
    "    \"medialorbitofrontal-rh\",\n",
    "]  # Right Medial-OFC\n",
    "\n",
    "Freq_Bands = {\n",
    "    # 'delta': [0, 4],\n",
    "    \"theta\": [4.0, 8.0],\n",
    "    \"alpha\": [8.0, 13.0],\n",
    "    \"beta\": [13.0, 30.0],\n",
    "    \"low-gamma\": [30.0, 58.5],\n",
    "    \"notch\": [58.5, 61.5],\n",
    "    \"high-gamma\": [61.5, 100.0],\n",
    "}\n",
    "\n",
    "sfreq = 400  # Hz\n",
    "tmin, tmax = 0.0, 1.0  # exclude the baseline period for connectivity estimation"
   ]
  },
  {
   "cell_type": "code",
   "execution_count": 27,
   "id": "e90c5cee-98bd-4244-a519-0396a80b0c22",
   "metadata": {
    "scrolled": true
   },
   "outputs": [
    {
     "name": "stdout",
     "output_type": "stream",
     "text": [
      "Not setting metadata\n",
      "73 matching events found\n",
      "No baseline correction applied\n",
      "0 projection items activated\n",
      "Connectivity computation...\n",
      "only using indices for lower-triangular matrix\n",
      "    computing connectivity for 66 connections\n",
      "    using t=0.000s..5.000s for estimation (2001 points)\n",
      "    frequencies: 4.2Hz..8.0Hz (20 points)\n",
      "    connectivity scores will be averaged for each band\n",
      "    Using multitaper spectrum estimation with 7 DPSS windows\n",
      "    the following metrics will be computed: WPLI\n",
      "    computing cross-spectral density for epochs 1..1\n"
     ]
    },
    {
     "name": "stderr",
     "output_type": "stream",
     "text": [
      "/home/wanglab/Documents/George Kenefati/Code/eeg_toolkit/eeg_toolkit/functional_connectivity.py:37: RuntimeWarning: There were no Annotations stored in <EpochsArray |  73 events (all good), 0 – 5 s, baseline off, ~13.4 MB, data loaded,\n",
      " '1': 73>, so metadata was not modified.\n",
      "  con = mne_connectivity.spectral_connectivity_epochs(\n",
      "[Parallel(n_jobs=-1)]: Using backend LokyBackend with 8 concurrent workers.\n"
     ]
    },
    {
     "name": "stdout",
     "output_type": "stream",
     "text": [
      "    computing cross-spectral density for epochs 2..2\n"
     ]
    },
    {
     "name": "stderr",
     "output_type": "stream",
     "text": [
      "[Parallel(n_jobs=-1)]: Using backend LokyBackend with 8 concurrent workers.\n"
     ]
    },
    {
     "name": "stdout",
     "output_type": "stream",
     "text": [
      "    computing cross-spectral density for epochs 3..3\n"
     ]
    },
    {
     "name": "stderr",
     "output_type": "stream",
     "text": [
      "[Parallel(n_jobs=-1)]: Using backend LokyBackend with 8 concurrent workers.\n"
     ]
    },
    {
     "name": "stdout",
     "output_type": "stream",
     "text": [
      "    computing cross-spectral density for epochs 4..4\n"
     ]
    },
    {
     "name": "stderr",
     "output_type": "stream",
     "text": [
      "[Parallel(n_jobs=-1)]: Using backend LokyBackend with 8 concurrent workers.\n"
     ]
    },
    {
     "name": "stdout",
     "output_type": "stream",
     "text": [
      "    computing cross-spectral density for epochs 5..5\n"
     ]
    },
    {
     "name": "stderr",
     "output_type": "stream",
     "text": [
      "[Parallel(n_jobs=-1)]: Using backend LokyBackend with 8 concurrent workers.\n"
     ]
    },
    {
     "name": "stdout",
     "output_type": "stream",
     "text": [
      "    computing cross-spectral density for epochs 6..6\n"
     ]
    },
    {
     "name": "stderr",
     "output_type": "stream",
     "text": [
      "[Parallel(n_jobs=-1)]: Using backend LokyBackend with 8 concurrent workers.\n"
     ]
    },
    {
     "name": "stdout",
     "output_type": "stream",
     "text": [
      "    computing cross-spectral density for epochs 7..7\n"
     ]
    },
    {
     "name": "stderr",
     "output_type": "stream",
     "text": [
      "[Parallel(n_jobs=-1)]: Using backend LokyBackend with 8 concurrent workers.\n"
     ]
    },
    {
     "name": "stdout",
     "output_type": "stream",
     "text": [
      "    computing cross-spectral density for epochs 8..8\n"
     ]
    },
    {
     "name": "stderr",
     "output_type": "stream",
     "text": [
      "[Parallel(n_jobs=-1)]: Using backend LokyBackend with 8 concurrent workers.\n"
     ]
    },
    {
     "name": "stdout",
     "output_type": "stream",
     "text": [
      "    computing cross-spectral density for epochs 9..9\n",
      "    computing cross-spectral density for epochs 10..10\n",
      "    computing cross-spectral density for epochs 11..11\n",
      "    computing cross-spectral density for epochs 12..12\n",
      "    computing cross-spectral density for epochs 13..13\n",
      "    computing cross-spectral density for epochs 14..14\n",
      "    computing cross-spectral density for epochs 15..15\n",
      "    computing cross-spectral density for epochs 16..16\n",
      "    computing cross-spectral density for epochs 17..17\n",
      "    computing cross-spectral density for epochs 18..18\n",
      "    computing cross-spectral density for epochs 19..19\n",
      "    computing cross-spectral density for epochs 20..20\n",
      "    computing cross-spectral density for epochs 21..21\n",
      "    computing cross-spectral density for epochs 22..22\n",
      "    computing cross-spectral density for epochs 23..23\n",
      "    computing cross-spectral density for epochs 24..24\n"
     ]
    },
    {
     "name": "stderr",
     "output_type": "stream",
     "text": [
      "[Parallel(n_jobs=-1)]: Using backend LokyBackend with 8 concurrent workers.\n",
      "[Parallel(n_jobs=-1)]: Using backend LokyBackend with 8 concurrent workers.\n",
      "[Parallel(n_jobs=-1)]: Using backend LokyBackend with 8 concurrent workers.\n",
      "[Parallel(n_jobs=-1)]: Using backend LokyBackend with 8 concurrent workers.\n",
      "[Parallel(n_jobs=-1)]: Using backend LokyBackend with 8 concurrent workers.\n",
      "[Parallel(n_jobs=-1)]: Using backend LokyBackend with 8 concurrent workers.\n",
      "[Parallel(n_jobs=-1)]: Using backend LokyBackend with 8 concurrent workers.\n",
      "[Parallel(n_jobs=-1)]: Using backend LokyBackend with 8 concurrent workers.\n",
      "[Parallel(n_jobs=-1)]: Using backend LokyBackend with 8 concurrent workers.\n",
      "[Parallel(n_jobs=-1)]: Using backend LokyBackend with 8 concurrent workers.\n",
      "[Parallel(n_jobs=-1)]: Using backend LokyBackend with 8 concurrent workers.\n",
      "[Parallel(n_jobs=-1)]: Using backend LokyBackend with 8 concurrent workers.\n",
      "[Parallel(n_jobs=-1)]: Using backend LokyBackend with 8 concurrent workers.\n",
      "[Parallel(n_jobs=-1)]: Using backend LokyBackend with 8 concurrent workers.\n",
      "[Parallel(n_jobs=-1)]: Using backend LokyBackend with 8 concurrent workers.\n",
      "[Parallel(n_jobs=-1)]: Using backend LokyBackend with 8 concurrent workers.\n"
     ]
    },
    {
     "name": "stdout",
     "output_type": "stream",
     "text": [
      "    computing cross-spectral density for epochs 25..25\n",
      "    computing cross-spectral density for epochs 26..26\n",
      "    computing cross-spectral density for epochs 27..27\n",
      "    computing cross-spectral density for epochs 28..28\n",
      "    computing cross-spectral density for epochs 29..29\n",
      "    computing cross-spectral density for epochs 30..30\n",
      "    computing cross-spectral density for epochs 31..31\n",
      "    computing cross-spectral density for epochs 32..32\n",
      "    computing cross-spectral density for epochs 33..33\n",
      "    computing cross-spectral density for epochs 34..34\n",
      "    computing cross-spectral density for epochs 35..35\n",
      "    computing cross-spectral density for epochs 36..36\n",
      "    computing cross-spectral density for epochs 37..37\n",
      "    computing cross-spectral density for epochs 38..38\n",
      "    computing cross-spectral density for epochs 39..39\n",
      "    computing cross-spectral density for epochs 40..40\n"
     ]
    },
    {
     "name": "stderr",
     "output_type": "stream",
     "text": [
      "[Parallel(n_jobs=-1)]: Using backend LokyBackend with 8 concurrent workers.\n",
      "[Parallel(n_jobs=-1)]: Using backend LokyBackend with 8 concurrent workers.\n",
      "[Parallel(n_jobs=-1)]: Using backend LokyBackend with 8 concurrent workers.\n",
      "[Parallel(n_jobs=-1)]: Done   1 out of   1 | elapsed:    0.0s finished\n",
      "[Parallel(n_jobs=-1)]: Using backend LokyBackend with 8 concurrent workers.\n",
      "[Parallel(n_jobs=-1)]: Using backend LokyBackend with 8 concurrent workers.\n",
      "[Parallel(n_jobs=-1)]: Using backend LokyBackend with 8 concurrent workers.\n",
      "[Parallel(n_jobs=-1)]: Using backend LokyBackend with 8 concurrent workers.\n",
      "[Parallel(n_jobs=-1)]: Using backend LokyBackend with 8 concurrent workers.\n",
      "[Parallel(n_jobs=-1)]: Using backend LokyBackend with 8 concurrent workers.\n",
      "[Parallel(n_jobs=-1)]: Using backend LokyBackend with 8 concurrent workers.\n",
      "[Parallel(n_jobs=-1)]: Using backend LokyBackend with 8 concurrent workers.\n",
      "[Parallel(n_jobs=-1)]: Using backend LokyBackend with 8 concurrent workers.\n",
      "[Parallel(n_jobs=-1)]: Using backend LokyBackend with 8 concurrent workers.\n",
      "[Parallel(n_jobs=-1)]: Using backend LokyBackend with 8 concurrent workers.\n",
      "[Parallel(n_jobs=-1)]: Using backend LokyBackend with 8 concurrent workers.\n",
      "[Parallel(n_jobs=-1)]: Using backend LokyBackend with 8 concurrent workers.\n"
     ]
    },
    {
     "name": "stdout",
     "output_type": "stream",
     "text": [
      "    computing cross-spectral density for epochs 41..41\n",
      "    computing cross-spectral density for epochs 42..42\n",
      "    computing cross-spectral density for epochs 43..43\n",
      "    computing cross-spectral density for epochs 44..44\n",
      "    computing cross-spectral density for epochs 45..45\n",
      "    computing cross-spectral density for epochs 46..46\n",
      "    computing cross-spectral density for epochs 47..47\n",
      "    computing cross-spectral density for epochs 48..48\n",
      "    computing cross-spectral density for epochs 49..49\n",
      "    computing cross-spectral density for epochs 50..50\n",
      "    computing cross-spectral density for epochs 51..51\n",
      "    computing cross-spectral density for epochs 52..52\n",
      "    computing cross-spectral density for epochs 53..53\n",
      "    computing cross-spectral density for epochs 54..54\n",
      "    computing cross-spectral density for epochs 55..55\n",
      "    computing cross-spectral density for epochs 56..56\n"
     ]
    },
    {
     "name": "stderr",
     "output_type": "stream",
     "text": [
      "[Parallel(n_jobs=-1)]: Using backend LokyBackend with 8 concurrent workers.\n",
      "[Parallel(n_jobs=-1)]: Using backend LokyBackend with 8 concurrent workers.\n",
      "[Parallel(n_jobs=-1)]: Using backend LokyBackend with 8 concurrent workers.\n",
      "[Parallel(n_jobs=-1)]: Using backend LokyBackend with 8 concurrent workers.\n",
      "[Parallel(n_jobs=-1)]: Using backend LokyBackend with 8 concurrent workers.\n",
      "[Parallel(n_jobs=-1)]: Using backend LokyBackend with 8 concurrent workers.\n",
      "[Parallel(n_jobs=-1)]: Using backend LokyBackend with 8 concurrent workers.\n",
      "[Parallel(n_jobs=-1)]: Using backend LokyBackend with 8 concurrent workers.\n",
      "[Parallel(n_jobs=-1)]: Using backend LokyBackend with 8 concurrent workers.\n",
      "[Parallel(n_jobs=-1)]: Using backend LokyBackend with 8 concurrent workers.\n",
      "[Parallel(n_jobs=-1)]: Using backend LokyBackend with 8 concurrent workers.\n",
      "[Parallel(n_jobs=-1)]: Using backend LokyBackend with 8 concurrent workers.\n",
      "[Parallel(n_jobs=-1)]: Using backend LokyBackend with 8 concurrent workers.\n",
      "[Parallel(n_jobs=-1)]: Using backend LokyBackend with 8 concurrent workers.\n",
      "[Parallel(n_jobs=-1)]: Using backend LokyBackend with 8 concurrent workers.\n",
      "[Parallel(n_jobs=-1)]: Using backend LokyBackend with 8 concurrent workers.\n"
     ]
    },
    {
     "name": "stdout",
     "output_type": "stream",
     "text": [
      "    computing cross-spectral density for epochs 57..57\n",
      "    computing cross-spectral density for epochs 58..58\n",
      "    computing cross-spectral density for epochs 59..59\n",
      "    computing cross-spectral density for epochs 60..60\n",
      "    computing cross-spectral density for epochs 61..61\n",
      "    computing cross-spectral density for epochs 62..62\n",
      "    computing cross-spectral density for epochs 63..63\n",
      "    computing cross-spectral density for epochs 64..64\n",
      "    computing cross-spectral density for epochs 65..65\n",
      "    computing cross-spectral density for epochs 66..66\n",
      "    computing cross-spectral density for epochs 67..67\n",
      "    computing cross-spectral density for epochs 68..68\n",
      "    computing cross-spectral density for epochs 69..69\n",
      "    computing cross-spectral density for epochs 70..70\n",
      "    computing cross-spectral density for epochs 71..71\n",
      "    computing cross-spectral density for epochs 72..72\n",
      "    computing cross-spectral density for epochs 73..73\n"
     ]
    },
    {
     "name": "stderr",
     "output_type": "stream",
     "text": [
      "[Parallel(n_jobs=-1)]: Using backend LokyBackend with 8 concurrent workers.\n",
      "[Parallel(n_jobs=-1)]: Using backend LokyBackend with 8 concurrent workers.\n",
      "[Parallel(n_jobs=-1)]: Using backend LokyBackend with 8 concurrent workers.\n",
      "[Parallel(n_jobs=-1)]: Using backend LokyBackend with 8 concurrent workers.\n",
      "[Parallel(n_jobs=-1)]: Using backend LokyBackend with 8 concurrent workers.\n",
      "[Parallel(n_jobs=-1)]: Using backend LokyBackend with 8 concurrent workers.\n",
      "[Parallel(n_jobs=-1)]: Using backend LokyBackend with 8 concurrent workers.\n",
      "[Parallel(n_jobs=-1)]: Using backend LokyBackend with 8 concurrent workers.\n",
      "[Parallel(n_jobs=-1)]: Using backend LokyBackend with 8 concurrent workers.\n",
      "[Parallel(n_jobs=-1)]: Using backend LokyBackend with 8 concurrent workers.\n",
      "[Parallel(n_jobs=-1)]: Using backend LokyBackend with 8 concurrent workers.\n",
      "[Parallel(n_jobs=-1)]: Using backend LokyBackend with 8 concurrent workers.\n",
      "[Parallel(n_jobs=-1)]: Using backend LokyBackend with 8 concurrent workers.\n",
      "[Parallel(n_jobs=-1)]: Using backend LokyBackend with 8 concurrent workers.\n",
      "[Parallel(n_jobs=-1)]: Using backend LokyBackend with 8 concurrent workers.\n",
      "[Parallel(n_jobs=-1)]: Using backend LokyBackend with 8 concurrent workers.\n",
      "[Parallel(n_jobs=-1)]: Using backend LokyBackend with 8 concurrent workers.\n"
     ]
    },
    {
     "name": "stdout",
     "output_type": "stream",
     "text": [
      "    assembling connectivity matrix\n",
      "[Connectivity computation done]\n",
      "Connectivity computation...\n",
      "only using indices for lower-triangular matrix\n",
      "    computing connectivity for 66 connections\n",
      "    using t=0.000s..5.000s for estimation (2001 points)\n",
      "    frequencies: 4.2Hz..8.0Hz (20 points)\n",
      "    connectivity scores will be averaged for each band\n",
      "    Using multitaper spectrum estimation with 7 DPSS windows\n",
      "    the following metrics will be computed: DPLI\n",
      "    computing cross-spectral density for epochs 1..1\n",
      "    computing cross-spectral density for epochs 2..2\n",
      "    computing cross-spectral density for epochs 3..3\n",
      "    computing cross-spectral density for epochs 4..4\n",
      "    computing cross-spectral density for epochs 5..5\n",
      "    computing cross-spectral density for epochs 6..6\n",
      "    computing cross-spectral density for epochs 7..7\n",
      "    computing cross-spectral density for epochs 8..8\n",
      "    computing cross-spectral density for epochs 9..9\n",
      "    computing cross-spectral density for epochs 10..10\n",
      "    computing cross-spectral density for epochs 11..11\n",
      "    computing cross-spectral density for epochs 12..12\n",
      "    computing cross-spectral density for epochs 13..13\n"
     ]
    },
    {
     "name": "stderr",
     "output_type": "stream",
     "text": [
      "/home/wanglab/Documents/George Kenefati/Code/eeg_toolkit/eeg_toolkit/functional_connectivity.py:37: RuntimeWarning: There were no Annotations stored in <EpochsArray |  73 events (all good), 0 – 5 s, baseline off, ~13.4 MB, data loaded,\n",
      " '1': 73>, so metadata was not modified.\n",
      "  con = mne_connectivity.spectral_connectivity_epochs(\n",
      "[Parallel(n_jobs=-1)]: Using backend LokyBackend with 8 concurrent workers.\n",
      "[Parallel(n_jobs=-1)]: Using backend LokyBackend with 8 concurrent workers.\n",
      "[Parallel(n_jobs=-1)]: Using backend LokyBackend with 8 concurrent workers.\n",
      "[Parallel(n_jobs=-1)]: Using backend LokyBackend with 8 concurrent workers.\n",
      "[Parallel(n_jobs=-1)]: Using backend LokyBackend with 8 concurrent workers.\n",
      "[Parallel(n_jobs=-1)]: Using backend LokyBackend with 8 concurrent workers.\n",
      "[Parallel(n_jobs=-1)]: Using backend LokyBackend with 8 concurrent workers.\n",
      "[Parallel(n_jobs=-1)]: Using backend LokyBackend with 8 concurrent workers.\n",
      "[Parallel(n_jobs=-1)]: Using backend LokyBackend with 8 concurrent workers.\n",
      "[Parallel(n_jobs=-1)]: Using backend LokyBackend with 8 concurrent workers.\n",
      "[Parallel(n_jobs=-1)]: Using backend LokyBackend with 8 concurrent workers.\n",
      "[Parallel(n_jobs=-1)]: Using backend LokyBackend with 8 concurrent workers.\n",
      "[Parallel(n_jobs=-1)]: Using backend LokyBackend with 8 concurrent workers.\n"
     ]
    },
    {
     "name": "stdout",
     "output_type": "stream",
     "text": [
      "    computing cross-spectral density for epochs 14..14\n",
      "    computing cross-spectral density for epochs 15..15\n",
      "    computing cross-spectral density for epochs 16..16\n",
      "    computing cross-spectral density for epochs 17..17\n",
      "    computing cross-spectral density for epochs 18..18\n",
      "    computing cross-spectral density for epochs 19..19\n",
      "    computing cross-spectral density for epochs 20..20\n",
      "    computing cross-spectral density for epochs 21..21\n",
      "    computing cross-spectral density for epochs 22..22\n",
      "    computing cross-spectral density for epochs 23..23\n",
      "    computing cross-spectral density for epochs 24..24\n",
      "    computing cross-spectral density for epochs 25..25\n",
      "    computing cross-spectral density for epochs 26..26\n",
      "    computing cross-spectral density for epochs 27..27\n",
      "    computing cross-spectral density for epochs 28..28\n",
      "    computing cross-spectral density for epochs 29..29\n"
     ]
    },
    {
     "name": "stderr",
     "output_type": "stream",
     "text": [
      "[Parallel(n_jobs=-1)]: Using backend LokyBackend with 8 concurrent workers.\n",
      "[Parallel(n_jobs=-1)]: Using backend LokyBackend with 8 concurrent workers.\n",
      "[Parallel(n_jobs=-1)]: Using backend LokyBackend with 8 concurrent workers.\n",
      "[Parallel(n_jobs=-1)]: Using backend LokyBackend with 8 concurrent workers.\n",
      "[Parallel(n_jobs=-1)]: Using backend LokyBackend with 8 concurrent workers.\n",
      "[Parallel(n_jobs=-1)]: Using backend LokyBackend with 8 concurrent workers.\n",
      "[Parallel(n_jobs=-1)]: Using backend LokyBackend with 8 concurrent workers.\n",
      "[Parallel(n_jobs=-1)]: Using backend LokyBackend with 8 concurrent workers.\n",
      "[Parallel(n_jobs=-1)]: Using backend LokyBackend with 8 concurrent workers.\n",
      "[Parallel(n_jobs=-1)]: Using backend LokyBackend with 8 concurrent workers.\n",
      "[Parallel(n_jobs=-1)]: Using backend LokyBackend with 8 concurrent workers.\n",
      "[Parallel(n_jobs=-1)]: Using backend LokyBackend with 8 concurrent workers.\n",
      "[Parallel(n_jobs=-1)]: Using backend LokyBackend with 8 concurrent workers.\n",
      "[Parallel(n_jobs=-1)]: Using backend LokyBackend with 8 concurrent workers.\n",
      "[Parallel(n_jobs=-1)]: Using backend LokyBackend with 8 concurrent workers.\n",
      "[Parallel(n_jobs=-1)]: Using backend LokyBackend with 8 concurrent workers.\n"
     ]
    },
    {
     "name": "stdout",
     "output_type": "stream",
     "text": [
      "    computing cross-spectral density for epochs 30..30\n",
      "    computing cross-spectral density for epochs 31..31\n",
      "    computing cross-spectral density for epochs 32..32\n",
      "    computing cross-spectral density for epochs 33..33\n",
      "    computing cross-spectral density for epochs 34..34\n",
      "    computing cross-spectral density for epochs 35..35\n",
      "    computing cross-spectral density for epochs 36..36\n",
      "    computing cross-spectral density for epochs 37..37\n",
      "    computing cross-spectral density for epochs 38..38\n",
      "    computing cross-spectral density for epochs 39..39\n",
      "    computing cross-spectral density for epochs 40..40\n",
      "    computing cross-spectral density for epochs 41..41\n",
      "    computing cross-spectral density for epochs 42..42\n",
      "    computing cross-spectral density for epochs 43..43\n",
      "    computing cross-spectral density for epochs 44..44\n",
      "    computing cross-spectral density for epochs 45..45\n"
     ]
    },
    {
     "name": "stderr",
     "output_type": "stream",
     "text": [
      "[Parallel(n_jobs=-1)]: Using backend LokyBackend with 8 concurrent workers.\n",
      "[Parallel(n_jobs=-1)]: Using backend LokyBackend with 8 concurrent workers.\n",
      "[Parallel(n_jobs=-1)]: Using backend LokyBackend with 8 concurrent workers.\n",
      "[Parallel(n_jobs=-1)]: Using backend LokyBackend with 8 concurrent workers.\n",
      "[Parallel(n_jobs=-1)]: Using backend LokyBackend with 8 concurrent workers.\n",
      "[Parallel(n_jobs=-1)]: Using backend LokyBackend with 8 concurrent workers.\n",
      "[Parallel(n_jobs=-1)]: Using backend LokyBackend with 8 concurrent workers.\n",
      "[Parallel(n_jobs=-1)]: Using backend LokyBackend with 8 concurrent workers.\n",
      "[Parallel(n_jobs=-1)]: Using backend LokyBackend with 8 concurrent workers.\n",
      "[Parallel(n_jobs=-1)]: Using backend LokyBackend with 8 concurrent workers.\n",
      "[Parallel(n_jobs=-1)]: Using backend LokyBackend with 8 concurrent workers.\n",
      "[Parallel(n_jobs=-1)]: Using backend LokyBackend with 8 concurrent workers.\n",
      "[Parallel(n_jobs=-1)]: Using backend LokyBackend with 8 concurrent workers.\n",
      "[Parallel(n_jobs=-1)]: Using backend LokyBackend with 8 concurrent workers.\n",
      "[Parallel(n_jobs=-1)]: Using backend LokyBackend with 8 concurrent workers.\n",
      "[Parallel(n_jobs=-1)]: Using backend LokyBackend with 8 concurrent workers.\n"
     ]
    },
    {
     "name": "stdout",
     "output_type": "stream",
     "text": [
      "    computing cross-spectral density for epochs 46..46\n",
      "    computing cross-spectral density for epochs 47..47\n",
      "    computing cross-spectral density for epochs 48..48\n",
      "    computing cross-spectral density for epochs 49..49\n",
      "    computing cross-spectral density for epochs 50..50\n",
      "    computing cross-spectral density for epochs 51..51\n",
      "    computing cross-spectral density for epochs 52..52\n",
      "    computing cross-spectral density for epochs 53..53\n",
      "    computing cross-spectral density for epochs 54..54\n",
      "    computing cross-spectral density for epochs 55..55\n",
      "    computing cross-spectral density for epochs 56..56\n",
      "    computing cross-spectral density for epochs 57..57\n",
      "    computing cross-spectral density for epochs 58..58\n",
      "    computing cross-spectral density for epochs 59..59\n",
      "    computing cross-spectral density for epochs 60..60\n",
      "    computing cross-spectral density for epochs 61..61\n"
     ]
    },
    {
     "name": "stderr",
     "output_type": "stream",
     "text": [
      "[Parallel(n_jobs=-1)]: Using backend LokyBackend with 8 concurrent workers.\n",
      "[Parallel(n_jobs=-1)]: Using backend LokyBackend with 8 concurrent workers.\n",
      "[Parallel(n_jobs=-1)]: Using backend LokyBackend with 8 concurrent workers.\n",
      "[Parallel(n_jobs=-1)]: Using backend LokyBackend with 8 concurrent workers.\n",
      "[Parallel(n_jobs=-1)]: Using backend LokyBackend with 8 concurrent workers.\n",
      "[Parallel(n_jobs=-1)]: Using backend LokyBackend with 8 concurrent workers.\n",
      "[Parallel(n_jobs=-1)]: Using backend LokyBackend with 8 concurrent workers.\n",
      "[Parallel(n_jobs=-1)]: Using backend LokyBackend with 8 concurrent workers.\n",
      "[Parallel(n_jobs=-1)]: Using backend LokyBackend with 8 concurrent workers.\n",
      "[Parallel(n_jobs=-1)]: Using backend LokyBackend with 8 concurrent workers.\n",
      "[Parallel(n_jobs=-1)]: Using backend LokyBackend with 8 concurrent workers.\n",
      "[Parallel(n_jobs=-1)]: Using backend LokyBackend with 8 concurrent workers.\n",
      "[Parallel(n_jobs=-1)]: Using backend LokyBackend with 8 concurrent workers.\n",
      "[Parallel(n_jobs=-1)]: Using backend LokyBackend with 8 concurrent workers.\n",
      "[Parallel(n_jobs=-1)]: Using backend LokyBackend with 8 concurrent workers.\n",
      "[Parallel(n_jobs=-1)]: Using backend LokyBackend with 8 concurrent workers.\n"
     ]
    },
    {
     "name": "stdout",
     "output_type": "stream",
     "text": [
      "    computing cross-spectral density for epochs 62..62\n",
      "    computing cross-spectral density for epochs 63..63\n",
      "    computing cross-spectral density for epochs 64..64\n",
      "    computing cross-spectral density for epochs 65..65\n",
      "    computing cross-spectral density for epochs 66..66\n",
      "    computing cross-spectral density for epochs 67..67\n",
      "    computing cross-spectral density for epochs 68..68\n",
      "    computing cross-spectral density for epochs 69..69\n",
      "    computing cross-spectral density for epochs 70..70\n",
      "    computing cross-spectral density for epochs 71..71\n",
      "    computing cross-spectral density for epochs 72..72\n",
      "    computing cross-spectral density for epochs 73..73\n",
      "    assembling connectivity matrix\n",
      "[Connectivity computation done]\n",
      "Connectivity computation...\n",
      "only using indices for lower-triangular matrix\n",
      "    computing connectivity for 66 connections\n",
      "    using t=0.000s..5.000s for estimation (2001 points)\n",
      "    frequencies: 4.2Hz..8.0Hz (20 points)\n",
      "    connectivity scores will be averaged for each band\n",
      "    Using multitaper spectrum estimation with 7 DPSS windows\n",
      "    the following metrics will be computed: PLV\n",
      "    computing cross-spectral density for epochs 1..1\n",
      "    computing cross-spectral density for epochs 2..2\n"
     ]
    },
    {
     "name": "stderr",
     "output_type": "stream",
     "text": [
      "[Parallel(n_jobs=-1)]: Using backend LokyBackend with 8 concurrent workers.\n",
      "[Parallel(n_jobs=-1)]: Using backend LokyBackend with 8 concurrent workers.\n",
      "[Parallel(n_jobs=-1)]: Using backend LokyBackend with 8 concurrent workers.\n",
      "[Parallel(n_jobs=-1)]: Using backend LokyBackend with 8 concurrent workers.\n",
      "[Parallel(n_jobs=-1)]: Using backend LokyBackend with 8 concurrent workers.\n",
      "[Parallel(n_jobs=-1)]: Using backend LokyBackend with 8 concurrent workers.\n",
      "[Parallel(n_jobs=-1)]: Using backend LokyBackend with 8 concurrent workers.\n",
      "[Parallel(n_jobs=-1)]: Using backend LokyBackend with 8 concurrent workers.\n",
      "[Parallel(n_jobs=-1)]: Using backend LokyBackend with 8 concurrent workers.\n",
      "[Parallel(n_jobs=-1)]: Using backend LokyBackend with 8 concurrent workers.\n",
      "[Parallel(n_jobs=-1)]: Using backend LokyBackend with 8 concurrent workers.\n",
      "[Parallel(n_jobs=-1)]: Using backend LokyBackend with 8 concurrent workers.\n",
      "/home/wanglab/Documents/George Kenefati/Code/eeg_toolkit/eeg_toolkit/functional_connectivity.py:37: RuntimeWarning: There were no Annotations stored in <EpochsArray |  73 events (all good), 0 – 5 s, baseline off, ~13.4 MB, data loaded,\n",
      " '1': 73>, so metadata was not modified.\n",
      "  con = mne_connectivity.spectral_connectivity_epochs(\n",
      "[Parallel(n_jobs=-1)]: Using backend LokyBackend with 8 concurrent workers.\n",
      "[Parallel(n_jobs=-1)]: Using backend LokyBackend with 8 concurrent workers.\n"
     ]
    },
    {
     "name": "stdout",
     "output_type": "stream",
     "text": [
      "    computing cross-spectral density for epochs 3..3\n",
      "    computing cross-spectral density for epochs 4..4\n",
      "    computing cross-spectral density for epochs 5..5\n",
      "    computing cross-spectral density for epochs 6..6\n",
      "    computing cross-spectral density for epochs 7..7\n",
      "    computing cross-spectral density for epochs 8..8\n",
      "    computing cross-spectral density for epochs 9..9\n",
      "    computing cross-spectral density for epochs 10..10\n",
      "    computing cross-spectral density for epochs 11..11\n",
      "    computing cross-spectral density for epochs 12..12\n",
      "    computing cross-spectral density for epochs 13..13\n",
      "    computing cross-spectral density for epochs 14..14\n",
      "    computing cross-spectral density for epochs 15..15\n",
      "    computing cross-spectral density for epochs 16..16\n",
      "    computing cross-spectral density for epochs 17..17\n"
     ]
    },
    {
     "name": "stderr",
     "output_type": "stream",
     "text": [
      "[Parallel(n_jobs=-1)]: Using backend LokyBackend with 8 concurrent workers.\n",
      "[Parallel(n_jobs=-1)]: Using backend LokyBackend with 8 concurrent workers.\n",
      "[Parallel(n_jobs=-1)]: Done   1 out of   1 | elapsed:    0.0s finished\n",
      "[Parallel(n_jobs=-1)]: Using backend LokyBackend with 8 concurrent workers.\n",
      "[Parallel(n_jobs=-1)]: Using backend LokyBackend with 8 concurrent workers.\n",
      "[Parallel(n_jobs=-1)]: Using backend LokyBackend with 8 concurrent workers.\n",
      "[Parallel(n_jobs=-1)]: Using backend LokyBackend with 8 concurrent workers.\n",
      "[Parallel(n_jobs=-1)]: Using backend LokyBackend with 8 concurrent workers.\n",
      "[Parallel(n_jobs=-1)]: Using backend LokyBackend with 8 concurrent workers.\n",
      "[Parallel(n_jobs=-1)]: Using backend LokyBackend with 8 concurrent workers.\n",
      "[Parallel(n_jobs=-1)]: Using backend LokyBackend with 8 concurrent workers.\n",
      "[Parallel(n_jobs=-1)]: Using backend LokyBackend with 8 concurrent workers.\n",
      "[Parallel(n_jobs=-1)]: Using backend LokyBackend with 8 concurrent workers.\n",
      "[Parallel(n_jobs=-1)]: Using backend LokyBackend with 8 concurrent workers.\n",
      "[Parallel(n_jobs=-1)]: Using backend LokyBackend with 8 concurrent workers.\n"
     ]
    },
    {
     "name": "stdout",
     "output_type": "stream",
     "text": [
      "    computing cross-spectral density for epochs 18..18\n",
      "    computing cross-spectral density for epochs 19..19\n",
      "    computing cross-spectral density for epochs 20..20\n",
      "    computing cross-spectral density for epochs 21..21\n",
      "    computing cross-spectral density for epochs 22..22\n",
      "    computing cross-spectral density for epochs 23..23\n",
      "    computing cross-spectral density for epochs 24..24\n",
      "    computing cross-spectral density for epochs 25..25\n",
      "    computing cross-spectral density for epochs 26..26\n",
      "    computing cross-spectral density for epochs 27..27\n",
      "    computing cross-spectral density for epochs 28..28\n",
      "    computing cross-spectral density for epochs 29..29\n",
      "    computing cross-spectral density for epochs 30..30\n",
      "    computing cross-spectral density for epochs 31..31\n",
      "    computing cross-spectral density for epochs 32..32\n"
     ]
    },
    {
     "name": "stderr",
     "output_type": "stream",
     "text": [
      "[Parallel(n_jobs=-1)]: Using backend LokyBackend with 8 concurrent workers.\n",
      "[Parallel(n_jobs=-1)]: Using backend LokyBackend with 8 concurrent workers.\n",
      "[Parallel(n_jobs=-1)]: Using backend LokyBackend with 8 concurrent workers.\n",
      "[Parallel(n_jobs=-1)]: Using backend LokyBackend with 8 concurrent workers.\n",
      "[Parallel(n_jobs=-1)]: Using backend LokyBackend with 8 concurrent workers.\n",
      "[Parallel(n_jobs=-1)]: Using backend LokyBackend with 8 concurrent workers.\n",
      "[Parallel(n_jobs=-1)]: Using backend LokyBackend with 8 concurrent workers.\n",
      "[Parallel(n_jobs=-1)]: Using backend LokyBackend with 8 concurrent workers.\n",
      "[Parallel(n_jobs=-1)]: Using backend LokyBackend with 8 concurrent workers.\n",
      "[Parallel(n_jobs=-1)]: Using backend LokyBackend with 8 concurrent workers.\n",
      "[Parallel(n_jobs=-1)]: Using backend LokyBackend with 8 concurrent workers.\n",
      "[Parallel(n_jobs=-1)]: Using backend LokyBackend with 8 concurrent workers.\n",
      "[Parallel(n_jobs=-1)]: Using backend LokyBackend with 8 concurrent workers.\n",
      "[Parallel(n_jobs=-1)]: Using backend LokyBackend with 8 concurrent workers.\n",
      "[Parallel(n_jobs=-1)]: Using backend LokyBackend with 8 concurrent workers.\n",
      "[Parallel(n_jobs=-1)]: Using backend LokyBackend with 8 concurrent workers.\n"
     ]
    },
    {
     "name": "stdout",
     "output_type": "stream",
     "text": [
      "    computing cross-spectral density for epochs 33..33\n",
      "    computing cross-spectral density for epochs 34..34\n",
      "    computing cross-spectral density for epochs 35..35\n",
      "    computing cross-spectral density for epochs 36..36\n",
      "    computing cross-spectral density for epochs 37..37\n",
      "    computing cross-spectral density for epochs 38..38\n",
      "    computing cross-spectral density for epochs 39..39\n",
      "    computing cross-spectral density for epochs 40..40\n",
      "    computing cross-spectral density for epochs 41..41\n",
      "    computing cross-spectral density for epochs 42..42\n",
      "    computing cross-spectral density for epochs 43..43\n",
      "    computing cross-spectral density for epochs 44..44\n",
      "    computing cross-spectral density for epochs 45..45\n",
      "    computing cross-spectral density for epochs 46..46\n",
      "    computing cross-spectral density for epochs 47..47\n",
      "    computing cross-spectral density for epochs 48..48\n",
      "    computing cross-spectral density for epochs 49..49\n"
     ]
    },
    {
     "name": "stderr",
     "output_type": "stream",
     "text": [
      "[Parallel(n_jobs=-1)]: Using backend LokyBackend with 8 concurrent workers.\n",
      "[Parallel(n_jobs=-1)]: Using backend LokyBackend with 8 concurrent workers.\n",
      "[Parallel(n_jobs=-1)]: Using backend LokyBackend with 8 concurrent workers.\n",
      "[Parallel(n_jobs=-1)]: Using backend LokyBackend with 8 concurrent workers.\n",
      "[Parallel(n_jobs=-1)]: Using backend LokyBackend with 8 concurrent workers.\n",
      "[Parallel(n_jobs=-1)]: Using backend LokyBackend with 8 concurrent workers.\n",
      "[Parallel(n_jobs=-1)]: Using backend LokyBackend with 8 concurrent workers.\n",
      "[Parallel(n_jobs=-1)]: Using backend LokyBackend with 8 concurrent workers.\n",
      "[Parallel(n_jobs=-1)]: Using backend LokyBackend with 8 concurrent workers.\n",
      "[Parallel(n_jobs=-1)]: Using backend LokyBackend with 8 concurrent workers.\n",
      "[Parallel(n_jobs=-1)]: Using backend LokyBackend with 8 concurrent workers.\n",
      "[Parallel(n_jobs=-1)]: Using backend LokyBackend with 8 concurrent workers.\n",
      "[Parallel(n_jobs=-1)]: Using backend LokyBackend with 8 concurrent workers.\n",
      "[Parallel(n_jobs=-1)]: Using backend LokyBackend with 8 concurrent workers.\n",
      "[Parallel(n_jobs=-1)]: Using backend LokyBackend with 8 concurrent workers.\n",
      "[Parallel(n_jobs=-1)]: Using backend LokyBackend with 8 concurrent workers.\n"
     ]
    },
    {
     "name": "stdout",
     "output_type": "stream",
     "text": [
      "    computing cross-spectral density for epochs 50..50\n",
      "    computing cross-spectral density for epochs 51..51\n",
      "    computing cross-spectral density for epochs 52..52\n",
      "    computing cross-spectral density for epochs 53..53\n",
      "    computing cross-spectral density for epochs 54..54\n",
      "    computing cross-spectral density for epochs 55..55\n",
      "    computing cross-spectral density for epochs 56..56\n",
      "    computing cross-spectral density for epochs 57..57\n",
      "    computing cross-spectral density for epochs 58..58\n",
      "    computing cross-spectral density for epochs 59..59\n",
      "    computing cross-spectral density for epochs 60..60\n",
      "    computing cross-spectral density for epochs 61..61\n",
      "    computing cross-spectral density for epochs 62..62\n",
      "    computing cross-spectral density for epochs 63..63\n",
      "    computing cross-spectral density for epochs 64..64\n"
     ]
    },
    {
     "name": "stderr",
     "output_type": "stream",
     "text": [
      "[Parallel(n_jobs=-1)]: Using backend LokyBackend with 8 concurrent workers.\n",
      "[Parallel(n_jobs=-1)]: Using backend LokyBackend with 8 concurrent workers.\n",
      "[Parallel(n_jobs=-1)]: Using backend LokyBackend with 8 concurrent workers.\n",
      "[Parallel(n_jobs=-1)]: Using backend LokyBackend with 8 concurrent workers.\n",
      "[Parallel(n_jobs=-1)]: Using backend LokyBackend with 8 concurrent workers.\n",
      "[Parallel(n_jobs=-1)]: Using backend LokyBackend with 8 concurrent workers.\n",
      "[Parallel(n_jobs=-1)]: Using backend LokyBackend with 8 concurrent workers.\n",
      "[Parallel(n_jobs=-1)]: Using backend LokyBackend with 8 concurrent workers.\n",
      "[Parallel(n_jobs=-1)]: Using backend LokyBackend with 8 concurrent workers.\n",
      "[Parallel(n_jobs=-1)]: Using backend LokyBackend with 8 concurrent workers.\n",
      "[Parallel(n_jobs=-1)]: Using backend LokyBackend with 8 concurrent workers.\n",
      "[Parallel(n_jobs=-1)]: Using backend LokyBackend with 8 concurrent workers.\n",
      "[Parallel(n_jobs=-1)]: Using backend LokyBackend with 8 concurrent workers.\n",
      "[Parallel(n_jobs=-1)]: Using backend LokyBackend with 8 concurrent workers.\n",
      "[Parallel(n_jobs=-1)]: Using backend LokyBackend with 8 concurrent workers.\n",
      "[Parallel(n_jobs=-1)]: Using backend LokyBackend with 8 concurrent workers.\n"
     ]
    },
    {
     "name": "stdout",
     "output_type": "stream",
     "text": [
      "    computing cross-spectral density for epochs 65..65\n",
      "    computing cross-spectral density for epochs 66..66\n",
      "    computing cross-spectral density for epochs 67..67\n",
      "    computing cross-spectral density for epochs 68..68\n",
      "    computing cross-spectral density for epochs 69..69\n",
      "    computing cross-spectral density for epochs 70..70\n",
      "    computing cross-spectral density for epochs 71..71\n",
      "    computing cross-spectral density for epochs 72..72\n",
      "    computing cross-spectral density for epochs 73..73\n",
      "    assembling connectivity matrix\n",
      "[Connectivity computation done]\n",
      "Connectivity computation...\n",
      "only using indices for lower-triangular matrix\n",
      "    computing connectivity for 66 connections\n",
      "    using t=0.000s..5.000s for estimation (2001 points)\n",
      "    frequencies: 8.2Hz..13.0Hz (25 points)\n",
      "    connectivity scores will be averaged for each band\n",
      "    Using multitaper spectrum estimation with 7 DPSS windows\n",
      "    the following metrics will be computed: WPLI\n",
      "    computing cross-spectral density for epochs 1..1\n",
      "    computing cross-spectral density for epochs 2..2\n",
      "    computing cross-spectral density for epochs 3..3\n",
      "    computing cross-spectral density for epochs 4..4\n",
      "    computing cross-spectral density for epochs 5..5\n"
     ]
    },
    {
     "name": "stderr",
     "output_type": "stream",
     "text": [
      "[Parallel(n_jobs=-1)]: Using backend LokyBackend with 8 concurrent workers.\n",
      "[Parallel(n_jobs=-1)]: Using backend LokyBackend with 8 concurrent workers.\n",
      "[Parallel(n_jobs=-1)]: Using backend LokyBackend with 8 concurrent workers.\n",
      "[Parallel(n_jobs=-1)]: Using backend LokyBackend with 8 concurrent workers.\n",
      "[Parallel(n_jobs=-1)]: Using backend LokyBackend with 8 concurrent workers.\n",
      "[Parallel(n_jobs=-1)]: Using backend LokyBackend with 8 concurrent workers.\n",
      "[Parallel(n_jobs=-1)]: Using backend LokyBackend with 8 concurrent workers.\n",
      "[Parallel(n_jobs=-1)]: Using backend LokyBackend with 8 concurrent workers.\n",
      "[Parallel(n_jobs=-1)]: Using backend LokyBackend with 8 concurrent workers.\n",
      "/home/wanglab/Documents/George Kenefati/Code/eeg_toolkit/eeg_toolkit/functional_connectivity.py:37: RuntimeWarning: There were no Annotations stored in <EpochsArray |  73 events (all good), 0 – 5 s, baseline off, ~13.4 MB, data loaded,\n",
      " '1': 73>, so metadata was not modified.\n",
      "  con = mne_connectivity.spectral_connectivity_epochs(\n",
      "[Parallel(n_jobs=-1)]: Using backend LokyBackend with 8 concurrent workers.\n",
      "[Parallel(n_jobs=-1)]: Using backend LokyBackend with 8 concurrent workers.\n",
      "[Parallel(n_jobs=-1)]: Using backend LokyBackend with 8 concurrent workers.\n",
      "[Parallel(n_jobs=-1)]: Using backend LokyBackend with 8 concurrent workers.\n",
      "[Parallel(n_jobs=-1)]: Using backend LokyBackend with 8 concurrent workers.\n"
     ]
    },
    {
     "name": "stdout",
     "output_type": "stream",
     "text": [
      "    computing cross-spectral density for epochs 6..6\n",
      "    computing cross-spectral density for epochs 7..7\n",
      "    computing cross-spectral density for epochs 8..8\n",
      "    computing cross-spectral density for epochs 9..9\n",
      "    computing cross-spectral density for epochs 10..10\n",
      "    computing cross-spectral density for epochs 11..11\n",
      "    computing cross-spectral density for epochs 12..12\n",
      "    computing cross-spectral density for epochs 13..13\n",
      "    computing cross-spectral density for epochs 14..14\n",
      "    computing cross-spectral density for epochs 15..15\n",
      "    computing cross-spectral density for epochs 16..16\n",
      "    computing cross-spectral density for epochs 17..17\n",
      "    computing cross-spectral density for epochs 18..18\n",
      "    computing cross-spectral density for epochs 19..19\n",
      "    computing cross-spectral density for epochs 20..20\n",
      "    computing cross-spectral density for epochs 21..21\n",
      "    computing cross-spectral density for epochs 22..22\n"
     ]
    },
    {
     "name": "stderr",
     "output_type": "stream",
     "text": [
      "[Parallel(n_jobs=-1)]: Using backend LokyBackend with 8 concurrent workers.\n",
      "[Parallel(n_jobs=-1)]: Using backend LokyBackend with 8 concurrent workers.\n",
      "[Parallel(n_jobs=-1)]: Using backend LokyBackend with 8 concurrent workers.\n",
      "[Parallel(n_jobs=-1)]: Using backend LokyBackend with 8 concurrent workers.\n",
      "[Parallel(n_jobs=-1)]: Using backend LokyBackend with 8 concurrent workers.\n",
      "[Parallel(n_jobs=-1)]: Using backend LokyBackend with 8 concurrent workers.\n",
      "[Parallel(n_jobs=-1)]: Using backend LokyBackend with 8 concurrent workers.\n",
      "[Parallel(n_jobs=-1)]: Using backend LokyBackend with 8 concurrent workers.\n",
      "[Parallel(n_jobs=-1)]: Using backend LokyBackend with 8 concurrent workers.\n",
      "[Parallel(n_jobs=-1)]: Using backend LokyBackend with 8 concurrent workers.\n",
      "[Parallel(n_jobs=-1)]: Using backend LokyBackend with 8 concurrent workers.\n",
      "[Parallel(n_jobs=-1)]: Using backend LokyBackend with 8 concurrent workers.\n",
      "[Parallel(n_jobs=-1)]: Using backend LokyBackend with 8 concurrent workers.\n",
      "[Parallel(n_jobs=-1)]: Using backend LokyBackend with 8 concurrent workers.\n",
      "[Parallel(n_jobs=-1)]: Using backend LokyBackend with 8 concurrent workers.\n",
      "[Parallel(n_jobs=-1)]: Using backend LokyBackend with 8 concurrent workers.\n",
      "[Parallel(n_jobs=-1)]: Using backend LokyBackend with 8 concurrent workers.\n"
     ]
    },
    {
     "name": "stdout",
     "output_type": "stream",
     "text": [
      "    computing cross-spectral density for epochs 23..23\n",
      "    computing cross-spectral density for epochs 24..24\n",
      "    computing cross-spectral density for epochs 25..25\n",
      "    computing cross-spectral density for epochs 26..26\n",
      "    computing cross-spectral density for epochs 27..27\n",
      "    computing cross-spectral density for epochs 28..28\n",
      "    computing cross-spectral density for epochs 29..29\n",
      "    computing cross-spectral density for epochs 30..30\n",
      "    computing cross-spectral density for epochs 31..31\n",
      "    computing cross-spectral density for epochs 32..32\n",
      "    computing cross-spectral density for epochs 33..33\n",
      "    computing cross-spectral density for epochs 34..34\n",
      "    computing cross-spectral density for epochs 35..35\n",
      "    computing cross-spectral density for epochs 36..36\n",
      "    computing cross-spectral density for epochs 37..37\n",
      "    computing cross-spectral density for epochs 38..38\n"
     ]
    },
    {
     "name": "stderr",
     "output_type": "stream",
     "text": [
      "[Parallel(n_jobs=-1)]: Using backend LokyBackend with 8 concurrent workers.\n",
      "[Parallel(n_jobs=-1)]: Using backend LokyBackend with 8 concurrent workers.\n",
      "[Parallel(n_jobs=-1)]: Using backend LokyBackend with 8 concurrent workers.\n",
      "[Parallel(n_jobs=-1)]: Using backend LokyBackend with 8 concurrent workers.\n",
      "[Parallel(n_jobs=-1)]: Using backend LokyBackend with 8 concurrent workers.\n",
      "[Parallel(n_jobs=-1)]: Using backend LokyBackend with 8 concurrent workers.\n",
      "[Parallel(n_jobs=-1)]: Using backend LokyBackend with 8 concurrent workers.\n",
      "[Parallel(n_jobs=-1)]: Using backend LokyBackend with 8 concurrent workers.\n",
      "[Parallel(n_jobs=-1)]: Using backend LokyBackend with 8 concurrent workers.\n",
      "[Parallel(n_jobs=-1)]: Using backend LokyBackend with 8 concurrent workers.\n",
      "[Parallel(n_jobs=-1)]: Using backend LokyBackend with 8 concurrent workers.\n",
      "[Parallel(n_jobs=-1)]: Using backend LokyBackend with 8 concurrent workers.\n",
      "[Parallel(n_jobs=-1)]: Using backend LokyBackend with 8 concurrent workers.\n",
      "[Parallel(n_jobs=-1)]: Using backend LokyBackend with 8 concurrent workers.\n",
      "[Parallel(n_jobs=-1)]: Using backend LokyBackend with 8 concurrent workers.\n",
      "[Parallel(n_jobs=-1)]: Using backend LokyBackend with 8 concurrent workers.\n"
     ]
    },
    {
     "name": "stdout",
     "output_type": "stream",
     "text": [
      "    computing cross-spectral density for epochs 39..39\n",
      "    computing cross-spectral density for epochs 40..40\n",
      "    computing cross-spectral density for epochs 41..41\n",
      "    computing cross-spectral density for epochs 42..42\n",
      "    computing cross-spectral density for epochs 43..43\n",
      "    computing cross-spectral density for epochs 44..44\n",
      "    computing cross-spectral density for epochs 45..45\n",
      "    computing cross-spectral density for epochs 46..46\n",
      "    computing cross-spectral density for epochs 47..47\n",
      "    computing cross-spectral density for epochs 48..48\n",
      "    computing cross-spectral density for epochs 49..49\n",
      "    computing cross-spectral density for epochs 50..50\n",
      "    computing cross-spectral density for epochs 51..51\n",
      "    computing cross-spectral density for epochs 52..52\n",
      "    computing cross-spectral density for epochs 53..53\n",
      "    computing cross-spectral density for epochs 54..54\n"
     ]
    },
    {
     "name": "stderr",
     "output_type": "stream",
     "text": [
      "[Parallel(n_jobs=-1)]: Using backend LokyBackend with 8 concurrent workers.\n",
      "[Parallel(n_jobs=-1)]: Using backend LokyBackend with 8 concurrent workers.\n",
      "[Parallel(n_jobs=-1)]: Using backend LokyBackend with 8 concurrent workers.\n",
      "[Parallel(n_jobs=-1)]: Using backend LokyBackend with 8 concurrent workers.\n",
      "[Parallel(n_jobs=-1)]: Using backend LokyBackend with 8 concurrent workers.\n",
      "[Parallel(n_jobs=-1)]: Using backend LokyBackend with 8 concurrent workers.\n",
      "[Parallel(n_jobs=-1)]: Using backend LokyBackend with 8 concurrent workers.\n",
      "[Parallel(n_jobs=-1)]: Using backend LokyBackend with 8 concurrent workers.\n",
      "[Parallel(n_jobs=-1)]: Using backend LokyBackend with 8 concurrent workers.\n",
      "[Parallel(n_jobs=-1)]: Using backend LokyBackend with 8 concurrent workers.\n",
      "[Parallel(n_jobs=-1)]: Using backend LokyBackend with 8 concurrent workers.\n",
      "[Parallel(n_jobs=-1)]: Using backend LokyBackend with 8 concurrent workers.\n",
      "[Parallel(n_jobs=-1)]: Using backend LokyBackend with 8 concurrent workers.\n",
      "[Parallel(n_jobs=-1)]: Using backend LokyBackend with 8 concurrent workers.\n",
      "[Parallel(n_jobs=-1)]: Using backend LokyBackend with 8 concurrent workers.\n",
      "[Parallel(n_jobs=-1)]: Using backend LokyBackend with 8 concurrent workers.\n"
     ]
    },
    {
     "name": "stdout",
     "output_type": "stream",
     "text": [
      "    computing cross-spectral density for epochs 55..55\n",
      "    computing cross-spectral density for epochs 56..56\n",
      "    computing cross-spectral density for epochs 57..57\n",
      "    computing cross-spectral density for epochs 58..58\n",
      "    computing cross-spectral density for epochs 59..59\n",
      "    computing cross-spectral density for epochs 60..60\n",
      "    computing cross-spectral density for epochs 61..61\n",
      "    computing cross-spectral density for epochs 62..62\n",
      "    computing cross-spectral density for epochs 63..63\n",
      "    computing cross-spectral density for epochs 64..64\n",
      "    computing cross-spectral density for epochs 65..65\n",
      "    computing cross-spectral density for epochs 66..66\n",
      "    computing cross-spectral density for epochs 67..67\n",
      "    computing cross-spectral density for epochs 68..68\n",
      "    computing cross-spectral density for epochs 69..69\n"
     ]
    },
    {
     "name": "stderr",
     "output_type": "stream",
     "text": [
      "[Parallel(n_jobs=-1)]: Using backend LokyBackend with 8 concurrent workers.\n",
      "[Parallel(n_jobs=-1)]: Using backend LokyBackend with 8 concurrent workers.\n",
      "[Parallel(n_jobs=-1)]: Using backend LokyBackend with 8 concurrent workers.\n",
      "[Parallel(n_jobs=-1)]: Using backend LokyBackend with 8 concurrent workers.\n",
      "[Parallel(n_jobs=-1)]: Using backend LokyBackend with 8 concurrent workers.\n",
      "[Parallel(n_jobs=-1)]: Using backend LokyBackend with 8 concurrent workers.\n",
      "[Parallel(n_jobs=-1)]: Using backend LokyBackend with 8 concurrent workers.\n",
      "[Parallel(n_jobs=-1)]: Using backend LokyBackend with 8 concurrent workers.\n",
      "[Parallel(n_jobs=-1)]: Using backend LokyBackend with 8 concurrent workers.\n",
      "[Parallel(n_jobs=-1)]: Using backend LokyBackend with 8 concurrent workers.\n",
      "[Parallel(n_jobs=-1)]: Using backend LokyBackend with 8 concurrent workers.\n",
      "[Parallel(n_jobs=-1)]: Using backend LokyBackend with 8 concurrent workers.\n",
      "[Parallel(n_jobs=-1)]: Using backend LokyBackend with 8 concurrent workers.\n",
      "[Parallel(n_jobs=-1)]: Using backend LokyBackend with 8 concurrent workers.\n",
      "[Parallel(n_jobs=-1)]: Using backend LokyBackend with 8 concurrent workers.\n"
     ]
    },
    {
     "name": "stdout",
     "output_type": "stream",
     "text": [
      "    computing cross-spectral density for epochs 70..70\n",
      "    computing cross-spectral density for epochs 71..71\n",
      "    computing cross-spectral density for epochs 72..72\n",
      "    computing cross-spectral density for epochs 73..73\n",
      "    assembling connectivity matrix\n",
      "[Connectivity computation done]\n",
      "Connectivity computation...\n",
      "only using indices for lower-triangular matrix\n",
      "    computing connectivity for 66 connections\n",
      "    using t=0.000s..5.000s for estimation (2001 points)\n",
      "    frequencies: 8.2Hz..13.0Hz (25 points)\n",
      "    connectivity scores will be averaged for each band\n",
      "    Using multitaper spectrum estimation with 7 DPSS windows\n",
      "    the following metrics will be computed: DPLI\n",
      "    computing cross-spectral density for epochs 1..1\n",
      "    computing cross-spectral density for epochs 2..2\n",
      "    computing cross-spectral density for epochs 3..3\n",
      "    computing cross-spectral density for epochs 4..4\n",
      "    computing cross-spectral density for epochs 5..5\n",
      "    computing cross-spectral density for epochs 6..6\n",
      "    computing cross-spectral density for epochs 7..7\n",
      "    computing cross-spectral density for epochs 8..8\n",
      "    computing cross-spectral density for epochs 9..9\n",
      "    computing cross-spectral density for epochs 10..10\n",
      "    computing cross-spectral density for epochs 11..11\n"
     ]
    },
    {
     "name": "stderr",
     "output_type": "stream",
     "text": [
      "[Parallel(n_jobs=-1)]: Using backend LokyBackend with 8 concurrent workers.\n",
      "[Parallel(n_jobs=-1)]: Using backend LokyBackend with 8 concurrent workers.\n",
      "[Parallel(n_jobs=-1)]: Using backend LokyBackend with 8 concurrent workers.\n",
      "[Parallel(n_jobs=-1)]: Using backend LokyBackend with 8 concurrent workers.\n",
      "/home/wanglab/Documents/George Kenefati/Code/eeg_toolkit/eeg_toolkit/functional_connectivity.py:37: RuntimeWarning: There were no Annotations stored in <EpochsArray |  73 events (all good), 0 – 5 s, baseline off, ~13.4 MB, data loaded,\n",
      " '1': 73>, so metadata was not modified.\n",
      "  con = mne_connectivity.spectral_connectivity_epochs(\n",
      "[Parallel(n_jobs=-1)]: Using backend LokyBackend with 8 concurrent workers.\n",
      "[Parallel(n_jobs=-1)]: Using backend LokyBackend with 8 concurrent workers.\n",
      "[Parallel(n_jobs=-1)]: Using backend LokyBackend with 8 concurrent workers.\n",
      "[Parallel(n_jobs=-1)]: Using backend LokyBackend with 8 concurrent workers.\n",
      "[Parallel(n_jobs=-1)]: Using backend LokyBackend with 8 concurrent workers.\n",
      "[Parallel(n_jobs=-1)]: Using backend LokyBackend with 8 concurrent workers.\n",
      "[Parallel(n_jobs=-1)]: Using backend LokyBackend with 8 concurrent workers.\n",
      "[Parallel(n_jobs=-1)]: Using backend LokyBackend with 8 concurrent workers.\n",
      "[Parallel(n_jobs=-1)]: Using backend LokyBackend with 8 concurrent workers.\n",
      "[Parallel(n_jobs=-1)]: Using backend LokyBackend with 8 concurrent workers.\n",
      "[Parallel(n_jobs=-1)]: Using backend LokyBackend with 8 concurrent workers.\n"
     ]
    },
    {
     "name": "stdout",
     "output_type": "stream",
     "text": [
      "    computing cross-spectral density for epochs 12..12\n",
      "    computing cross-spectral density for epochs 13..13\n",
      "    computing cross-spectral density for epochs 14..14\n",
      "    computing cross-spectral density for epochs 15..15\n",
      "    computing cross-spectral density for epochs 16..16\n",
      "    computing cross-spectral density for epochs 17..17\n",
      "    computing cross-spectral density for epochs 18..18\n",
      "    computing cross-spectral density for epochs 19..19\n",
      "    computing cross-spectral density for epochs 20..20\n",
      "    computing cross-spectral density for epochs 21..21\n",
      "    computing cross-spectral density for epochs 22..22\n",
      "    computing cross-spectral density for epochs 23..23\n",
      "    computing cross-spectral density for epochs 24..24\n",
      "    computing cross-spectral density for epochs 25..25\n",
      "    computing cross-spectral density for epochs 26..26\n",
      "    computing cross-spectral density for epochs 27..27\n"
     ]
    },
    {
     "name": "stderr",
     "output_type": "stream",
     "text": [
      "[Parallel(n_jobs=-1)]: Using backend LokyBackend with 8 concurrent workers.\n",
      "[Parallel(n_jobs=-1)]: Using backend LokyBackend with 8 concurrent workers.\n",
      "[Parallel(n_jobs=-1)]: Using backend LokyBackend with 8 concurrent workers.\n",
      "[Parallel(n_jobs=-1)]: Using backend LokyBackend with 8 concurrent workers.\n",
      "[Parallel(n_jobs=-1)]: Using backend LokyBackend with 8 concurrent workers.\n",
      "[Parallel(n_jobs=-1)]: Using backend LokyBackend with 8 concurrent workers.\n",
      "[Parallel(n_jobs=-1)]: Using backend LokyBackend with 8 concurrent workers.\n",
      "[Parallel(n_jobs=-1)]: Using backend LokyBackend with 8 concurrent workers.\n",
      "[Parallel(n_jobs=-1)]: Using backend LokyBackend with 8 concurrent workers.\n",
      "[Parallel(n_jobs=-1)]: Using backend LokyBackend with 8 concurrent workers.\n",
      "[Parallel(n_jobs=-1)]: Using backend LokyBackend with 8 concurrent workers.\n",
      "[Parallel(n_jobs=-1)]: Using backend LokyBackend with 8 concurrent workers.\n",
      "[Parallel(n_jobs=-1)]: Using backend LokyBackend with 8 concurrent workers.\n",
      "[Parallel(n_jobs=-1)]: Using backend LokyBackend with 8 concurrent workers.\n",
      "[Parallel(n_jobs=-1)]: Using backend LokyBackend with 8 concurrent workers.\n",
      "[Parallel(n_jobs=-1)]: Using backend LokyBackend with 8 concurrent workers.\n"
     ]
    },
    {
     "name": "stdout",
     "output_type": "stream",
     "text": [
      "    computing cross-spectral density for epochs 28..28\n",
      "    computing cross-spectral density for epochs 29..29\n",
      "    computing cross-spectral density for epochs 30..30\n",
      "    computing cross-spectral density for epochs 31..31\n",
      "    computing cross-spectral density for epochs 32..32\n",
      "    computing cross-spectral density for epochs 33..33\n",
      "    computing cross-spectral density for epochs 34..34\n",
      "    computing cross-spectral density for epochs 35..35\n",
      "    computing cross-spectral density for epochs 36..36\n",
      "    computing cross-spectral density for epochs 37..37\n",
      "    computing cross-spectral density for epochs 38..38\n",
      "    computing cross-spectral density for epochs 39..39\n",
      "    computing cross-spectral density for epochs 40..40\n",
      "    computing cross-spectral density for epochs 41..41\n",
      "    computing cross-spectral density for epochs 42..42\n",
      "    computing cross-spectral density for epochs 43..43\n"
     ]
    },
    {
     "name": "stderr",
     "output_type": "stream",
     "text": [
      "[Parallel(n_jobs=-1)]: Using backend LokyBackend with 8 concurrent workers.\n",
      "[Parallel(n_jobs=-1)]: Using backend LokyBackend with 8 concurrent workers.\n",
      "[Parallel(n_jobs=-1)]: Using backend LokyBackend with 8 concurrent workers.\n",
      "[Parallel(n_jobs=-1)]: Using backend LokyBackend with 8 concurrent workers.\n",
      "[Parallel(n_jobs=-1)]: Using backend LokyBackend with 8 concurrent workers.\n",
      "[Parallel(n_jobs=-1)]: Using backend LokyBackend with 8 concurrent workers.\n",
      "[Parallel(n_jobs=-1)]: Using backend LokyBackend with 8 concurrent workers.\n",
      "[Parallel(n_jobs=-1)]: Using backend LokyBackend with 8 concurrent workers.\n",
      "[Parallel(n_jobs=-1)]: Using backend LokyBackend with 8 concurrent workers.\n",
      "[Parallel(n_jobs=-1)]: Using backend LokyBackend with 8 concurrent workers.\n",
      "[Parallel(n_jobs=-1)]: Using backend LokyBackend with 8 concurrent workers.\n",
      "[Parallel(n_jobs=-1)]: Using backend LokyBackend with 8 concurrent workers.\n",
      "[Parallel(n_jobs=-1)]: Using backend LokyBackend with 8 concurrent workers.\n",
      "[Parallel(n_jobs=-1)]: Using backend LokyBackend with 8 concurrent workers.\n",
      "[Parallel(n_jobs=-1)]: Using backend LokyBackend with 8 concurrent workers.\n",
      "[Parallel(n_jobs=-1)]: Using backend LokyBackend with 8 concurrent workers.\n"
     ]
    },
    {
     "name": "stdout",
     "output_type": "stream",
     "text": [
      "    computing cross-spectral density for epochs 44..44\n",
      "    computing cross-spectral density for epochs 45..45\n",
      "    computing cross-spectral density for epochs 46..46\n",
      "    computing cross-spectral density for epochs 47..47\n",
      "    computing cross-spectral density for epochs 48..48\n",
      "    computing cross-spectral density for epochs 49..49\n",
      "    computing cross-spectral density for epochs 50..50\n",
      "    computing cross-spectral density for epochs 51..51\n",
      "    computing cross-spectral density for epochs 52..52\n",
      "    computing cross-spectral density for epochs 53..53\n",
      "    computing cross-spectral density for epochs 54..54\n",
      "    computing cross-spectral density for epochs 55..55\n",
      "    computing cross-spectral density for epochs 56..56\n",
      "    computing cross-spectral density for epochs 57..57\n",
      "    computing cross-spectral density for epochs 58..58\n"
     ]
    },
    {
     "name": "stderr",
     "output_type": "stream",
     "text": [
      "[Parallel(n_jobs=-1)]: Using backend LokyBackend with 8 concurrent workers.\n",
      "[Parallel(n_jobs=-1)]: Using backend LokyBackend with 8 concurrent workers.\n",
      "[Parallel(n_jobs=-1)]: Using backend LokyBackend with 8 concurrent workers.\n",
      "[Parallel(n_jobs=-1)]: Using backend LokyBackend with 8 concurrent workers.\n",
      "[Parallel(n_jobs=-1)]: Using backend LokyBackend with 8 concurrent workers.\n",
      "[Parallel(n_jobs=-1)]: Using backend LokyBackend with 8 concurrent workers.\n",
      "[Parallel(n_jobs=-1)]: Using backend LokyBackend with 8 concurrent workers.\n",
      "[Parallel(n_jobs=-1)]: Using backend LokyBackend with 8 concurrent workers.\n",
      "[Parallel(n_jobs=-1)]: Using backend LokyBackend with 8 concurrent workers.\n",
      "[Parallel(n_jobs=-1)]: Using backend LokyBackend with 8 concurrent workers.\n",
      "[Parallel(n_jobs=-1)]: Using backend LokyBackend with 8 concurrent workers.\n",
      "[Parallel(n_jobs=-1)]: Using backend LokyBackend with 8 concurrent workers.\n",
      "[Parallel(n_jobs=-1)]: Using backend LokyBackend with 8 concurrent workers.\n",
      "[Parallel(n_jobs=-1)]: Using backend LokyBackend with 8 concurrent workers.\n",
      "[Parallel(n_jobs=-1)]: Using backend LokyBackend with 8 concurrent workers.\n"
     ]
    },
    {
     "name": "stdout",
     "output_type": "stream",
     "text": [
      "    computing cross-spectral density for epochs 59..59\n",
      "    computing cross-spectral density for epochs 60..60\n",
      "    computing cross-spectral density for epochs 61..61\n",
      "    computing cross-spectral density for epochs 62..62\n",
      "    computing cross-spectral density for epochs 63..63\n",
      "    computing cross-spectral density for epochs 64..64\n",
      "    computing cross-spectral density for epochs 65..65\n",
      "    computing cross-spectral density for epochs 66..66\n",
      "    computing cross-spectral density for epochs 67..67\n",
      "    computing cross-spectral density for epochs 68..68\n",
      "    computing cross-spectral density for epochs 69..69\n",
      "    computing cross-spectral density for epochs 70..70\n",
      "    computing cross-spectral density for epochs 71..71\n",
      "    computing cross-spectral density for epochs 72..72\n",
      "    computing cross-spectral density for epochs 73..73\n",
      "    assembling connectivity matrix\n",
      "[Connectivity computation done]\n",
      "Connectivity computation...\n",
      "only using indices for lower-triangular matrix\n",
      "    computing connectivity for 66 connections\n",
      "    using t=0.000s..5.000s for estimation (2001 points)\n",
      "    frequencies: 8.2Hz..13.0Hz (25 points)\n"
     ]
    },
    {
     "name": "stderr",
     "output_type": "stream",
     "text": [
      "[Parallel(n_jobs=-1)]: Using backend LokyBackend with 8 concurrent workers.\n",
      "[Parallel(n_jobs=-1)]: Using backend LokyBackend with 8 concurrent workers.\n",
      "[Parallel(n_jobs=-1)]: Using backend LokyBackend with 8 concurrent workers.\n",
      "[Parallel(n_jobs=-1)]: Using backend LokyBackend with 8 concurrent workers.\n",
      "[Parallel(n_jobs=-1)]: Using backend LokyBackend with 8 concurrent workers.\n",
      "[Parallel(n_jobs=-1)]: Using backend LokyBackend with 8 concurrent workers.\n",
      "[Parallel(n_jobs=-1)]: Using backend LokyBackend with 8 concurrent workers.\n",
      "[Parallel(n_jobs=-1)]: Using backend LokyBackend with 8 concurrent workers.\n",
      "[Parallel(n_jobs=-1)]: Using backend LokyBackend with 8 concurrent workers.\n",
      "[Parallel(n_jobs=-1)]: Using backend LokyBackend with 8 concurrent workers.\n",
      "[Parallel(n_jobs=-1)]: Using backend LokyBackend with 8 concurrent workers.\n",
      "[Parallel(n_jobs=-1)]: Using backend LokyBackend with 8 concurrent workers.\n",
      "[Parallel(n_jobs=-1)]: Using backend LokyBackend with 8 concurrent workers.\n",
      "[Parallel(n_jobs=-1)]: Using backend LokyBackend with 8 concurrent workers.\n",
      "[Parallel(n_jobs=-1)]: Using backend LokyBackend with 8 concurrent workers.\n",
      "/home/wanglab/Documents/George Kenefati/Code/eeg_toolkit/eeg_toolkit/functional_connectivity.py:37: RuntimeWarning: There were no Annotations stored in <EpochsArray |  73 events (all good), 0 – 5 s, baseline off, ~13.4 MB, data loaded,\n",
      " '1': 73>, so metadata was not modified.\n",
      "  con = mne_connectivity.spectral_connectivity_epochs(\n"
     ]
    },
    {
     "name": "stdout",
     "output_type": "stream",
     "text": [
      "    connectivity scores will be averaged for each band\n",
      "    Using multitaper spectrum estimation with 7 DPSS windows\n",
      "    the following metrics will be computed: PLV\n",
      "    computing cross-spectral density for epochs 1..1\n",
      "    computing cross-spectral density for epochs 2..2\n",
      "    computing cross-spectral density for epochs 3..3\n",
      "    computing cross-spectral density for epochs 4..4\n",
      "    computing cross-spectral density for epochs 5..5\n",
      "    computing cross-spectral density for epochs 6..6\n",
      "    computing cross-spectral density for epochs 7..7\n",
      "    computing cross-spectral density for epochs 8..8\n",
      "    computing cross-spectral density for epochs 9..9\n",
      "    computing cross-spectral density for epochs 10..10\n",
      "    computing cross-spectral density for epochs 11..11\n",
      "    computing cross-spectral density for epochs 12..12\n",
      "    computing cross-spectral density for epochs 13..13\n",
      "    computing cross-spectral density for epochs 14..14\n",
      "    computing cross-spectral density for epochs 15..15\n",
      "    computing cross-spectral density for epochs 16..16\n",
      "    computing cross-spectral density for epochs 17..17\n"
     ]
    },
    {
     "name": "stderr",
     "output_type": "stream",
     "text": [
      "[Parallel(n_jobs=-1)]: Using backend LokyBackend with 8 concurrent workers.\n",
      "[Parallel(n_jobs=-1)]: Using backend LokyBackend with 8 concurrent workers.\n",
      "[Parallel(n_jobs=-1)]: Using backend LokyBackend with 8 concurrent workers.\n",
      "[Parallel(n_jobs=-1)]: Using backend LokyBackend with 8 concurrent workers.\n",
      "[Parallel(n_jobs=-1)]: Using backend LokyBackend with 8 concurrent workers.\n",
      "[Parallel(n_jobs=-1)]: Using backend LokyBackend with 8 concurrent workers.\n",
      "[Parallel(n_jobs=-1)]: Using backend LokyBackend with 8 concurrent workers.\n",
      "[Parallel(n_jobs=-1)]: Using backend LokyBackend with 8 concurrent workers.\n",
      "[Parallel(n_jobs=-1)]: Using backend LokyBackend with 8 concurrent workers.\n",
      "[Parallel(n_jobs=-1)]: Using backend LokyBackend with 8 concurrent workers.\n",
      "[Parallel(n_jobs=-1)]: Using backend LokyBackend with 8 concurrent workers.\n",
      "[Parallel(n_jobs=-1)]: Using backend LokyBackend with 8 concurrent workers.\n",
      "[Parallel(n_jobs=-1)]: Using backend LokyBackend with 8 concurrent workers.\n",
      "[Parallel(n_jobs=-1)]: Using backend LokyBackend with 8 concurrent workers.\n",
      "[Parallel(n_jobs=-1)]: Using backend LokyBackend with 8 concurrent workers.\n",
      "[Parallel(n_jobs=-1)]: Using backend LokyBackend with 8 concurrent workers.\n",
      "[Parallel(n_jobs=-1)]: Using backend LokyBackend with 8 concurrent workers.\n"
     ]
    },
    {
     "name": "stdout",
     "output_type": "stream",
     "text": [
      "    computing cross-spectral density for epochs 18..18\n",
      "    computing cross-spectral density for epochs 19..19\n",
      "    computing cross-spectral density for epochs 20..20\n",
      "    computing cross-spectral density for epochs 21..21\n",
      "    computing cross-spectral density for epochs 22..22\n",
      "    computing cross-spectral density for epochs 23..23\n",
      "    computing cross-spectral density for epochs 24..24\n",
      "    computing cross-spectral density for epochs 25..25\n",
      "    computing cross-spectral density for epochs 26..26\n",
      "    computing cross-spectral density for epochs 27..27\n",
      "    computing cross-spectral density for epochs 28..28\n",
      "    computing cross-spectral density for epochs 29..29\n",
      "    computing cross-spectral density for epochs 30..30\n",
      "    computing cross-spectral density for epochs 31..31\n",
      "    computing cross-spectral density for epochs 32..32\n",
      "    computing cross-spectral density for epochs 33..33\n",
      "    computing cross-spectral density for epochs 34..34\n"
     ]
    },
    {
     "name": "stderr",
     "output_type": "stream",
     "text": [
      "[Parallel(n_jobs=-1)]: Using backend LokyBackend with 8 concurrent workers.\n",
      "[Parallel(n_jobs=-1)]: Using backend LokyBackend with 8 concurrent workers.\n",
      "[Parallel(n_jobs=-1)]: Using backend LokyBackend with 8 concurrent workers.\n",
      "[Parallel(n_jobs=-1)]: Using backend LokyBackend with 8 concurrent workers.\n",
      "[Parallel(n_jobs=-1)]: Using backend LokyBackend with 8 concurrent workers.\n",
      "[Parallel(n_jobs=-1)]: Using backend LokyBackend with 8 concurrent workers.\n",
      "[Parallel(n_jobs=-1)]: Using backend LokyBackend with 8 concurrent workers.\n",
      "[Parallel(n_jobs=-1)]: Using backend LokyBackend with 8 concurrent workers.\n",
      "[Parallel(n_jobs=-1)]: Using backend LokyBackend with 8 concurrent workers.\n",
      "[Parallel(n_jobs=-1)]: Using backend LokyBackend with 8 concurrent workers.\n",
      "[Parallel(n_jobs=-1)]: Using backend LokyBackend with 8 concurrent workers.\n",
      "[Parallel(n_jobs=-1)]: Using backend LokyBackend with 8 concurrent workers.\n",
      "[Parallel(n_jobs=-1)]: Using backend LokyBackend with 8 concurrent workers.\n",
      "[Parallel(n_jobs=-1)]: Using backend LokyBackend with 8 concurrent workers.\n",
      "[Parallel(n_jobs=-1)]: Using backend LokyBackend with 8 concurrent workers.\n",
      "[Parallel(n_jobs=-1)]: Using backend LokyBackend with 8 concurrent workers.\n",
      "[Parallel(n_jobs=-1)]: Using backend LokyBackend with 8 concurrent workers.\n"
     ]
    },
    {
     "name": "stdout",
     "output_type": "stream",
     "text": [
      "    computing cross-spectral density for epochs 35..35\n",
      "    computing cross-spectral density for epochs 36..36\n",
      "    computing cross-spectral density for epochs 37..37\n",
      "    computing cross-spectral density for epochs 38..38\n",
      "    computing cross-spectral density for epochs 39..39\n",
      "    computing cross-spectral density for epochs 40..40\n",
      "    computing cross-spectral density for epochs 41..41\n",
      "    computing cross-spectral density for epochs 42..42\n",
      "    computing cross-spectral density for epochs 43..43\n",
      "    computing cross-spectral density for epochs 44..44\n",
      "    computing cross-spectral density for epochs 45..45\n",
      "    computing cross-spectral density for epochs 46..46\n",
      "    computing cross-spectral density for epochs 47..47\n",
      "    computing cross-spectral density for epochs 48..48\n",
      "    computing cross-spectral density for epochs 49..49\n",
      "    computing cross-spectral density for epochs 50..50\n",
      "    computing cross-spectral density for epochs 51..51\n"
     ]
    },
    {
     "name": "stderr",
     "output_type": "stream",
     "text": [
      "[Parallel(n_jobs=-1)]: Using backend LokyBackend with 8 concurrent workers.\n",
      "[Parallel(n_jobs=-1)]: Using backend LokyBackend with 8 concurrent workers.\n",
      "[Parallel(n_jobs=-1)]: Using backend LokyBackend with 8 concurrent workers.\n",
      "[Parallel(n_jobs=-1)]: Using backend LokyBackend with 8 concurrent workers.\n",
      "[Parallel(n_jobs=-1)]: Using backend LokyBackend with 8 concurrent workers.\n",
      "[Parallel(n_jobs=-1)]: Using backend LokyBackend with 8 concurrent workers.\n",
      "[Parallel(n_jobs=-1)]: Using backend LokyBackend with 8 concurrent workers.\n",
      "[Parallel(n_jobs=-1)]: Using backend LokyBackend with 8 concurrent workers.\n",
      "[Parallel(n_jobs=-1)]: Using backend LokyBackend with 8 concurrent workers.\n",
      "[Parallel(n_jobs=-1)]: Using backend LokyBackend with 8 concurrent workers.\n",
      "[Parallel(n_jobs=-1)]: Using backend LokyBackend with 8 concurrent workers.\n",
      "[Parallel(n_jobs=-1)]: Using backend LokyBackend with 8 concurrent workers.\n",
      "[Parallel(n_jobs=-1)]: Using backend LokyBackend with 8 concurrent workers.\n",
      "[Parallel(n_jobs=-1)]: Using backend LokyBackend with 8 concurrent workers.\n",
      "[Parallel(n_jobs=-1)]: Using backend LokyBackend with 8 concurrent workers.\n",
      "[Parallel(n_jobs=-1)]: Using backend LokyBackend with 8 concurrent workers.\n",
      "[Parallel(n_jobs=-1)]: Using backend LokyBackend with 8 concurrent workers.\n"
     ]
    },
    {
     "name": "stdout",
     "output_type": "stream",
     "text": [
      "    computing cross-spectral density for epochs 52..52\n",
      "    computing cross-spectral density for epochs 53..53\n",
      "    computing cross-spectral density for epochs 54..54\n",
      "    computing cross-spectral density for epochs 55..55\n",
      "    computing cross-spectral density for epochs 56..56\n",
      "    computing cross-spectral density for epochs 57..57\n",
      "    computing cross-spectral density for epochs 58..58\n",
      "    computing cross-spectral density for epochs 59..59\n",
      "    computing cross-spectral density for epochs 60..60\n",
      "    computing cross-spectral density for epochs 61..61\n",
      "    computing cross-spectral density for epochs 62..62\n",
      "    computing cross-spectral density for epochs 63..63\n",
      "    computing cross-spectral density for epochs 64..64\n",
      "    computing cross-spectral density for epochs 65..65\n",
      "    computing cross-spectral density for epochs 66..66\n",
      "    computing cross-spectral density for epochs 67..67\n"
     ]
    },
    {
     "name": "stderr",
     "output_type": "stream",
     "text": [
      "[Parallel(n_jobs=-1)]: Using backend LokyBackend with 8 concurrent workers.\n",
      "[Parallel(n_jobs=-1)]: Using backend LokyBackend with 8 concurrent workers.\n",
      "[Parallel(n_jobs=-1)]: Using backend LokyBackend with 8 concurrent workers.\n",
      "[Parallel(n_jobs=-1)]: Using backend LokyBackend with 8 concurrent workers.\n",
      "[Parallel(n_jobs=-1)]: Using backend LokyBackend with 8 concurrent workers.\n",
      "[Parallel(n_jobs=-1)]: Using backend LokyBackend with 8 concurrent workers.\n",
      "[Parallel(n_jobs=-1)]: Using backend LokyBackend with 8 concurrent workers.\n",
      "[Parallel(n_jobs=-1)]: Using backend LokyBackend with 8 concurrent workers.\n",
      "[Parallel(n_jobs=-1)]: Using backend LokyBackend with 8 concurrent workers.\n",
      "[Parallel(n_jobs=-1)]: Using backend LokyBackend with 8 concurrent workers.\n",
      "[Parallel(n_jobs=-1)]: Using backend LokyBackend with 8 concurrent workers.\n",
      "[Parallel(n_jobs=-1)]: Using backend LokyBackend with 8 concurrent workers.\n",
      "[Parallel(n_jobs=-1)]: Done   1 out of   1 | elapsed:    0.0s finished\n",
      "[Parallel(n_jobs=-1)]: Using backend LokyBackend with 8 concurrent workers.\n",
      "[Parallel(n_jobs=-1)]: Using backend LokyBackend with 8 concurrent workers.\n",
      "[Parallel(n_jobs=-1)]: Using backend LokyBackend with 8 concurrent workers.\n",
      "[Parallel(n_jobs=-1)]: Using backend LokyBackend with 8 concurrent workers.\n"
     ]
    },
    {
     "name": "stdout",
     "output_type": "stream",
     "text": [
      "    computing cross-spectral density for epochs 68..68\n",
      "    computing cross-spectral density for epochs 69..69\n",
      "    computing cross-spectral density for epochs 70..70\n",
      "    computing cross-spectral density for epochs 71..71\n",
      "    computing cross-spectral density for epochs 72..72\n",
      "    computing cross-spectral density for epochs 73..73\n",
      "    assembling connectivity matrix\n",
      "[Connectivity computation done]\n",
      "Connectivity computation...\n",
      "only using indices for lower-triangular matrix\n",
      "    computing connectivity for 66 connections\n",
      "    using t=0.000s..5.000s for estimation (2001 points)\n",
      "    frequencies: 13.2Hz..30.0Hz (85 points)\n",
      "    connectivity scores will be averaged for each band\n",
      "    Using multitaper spectrum estimation with 7 DPSS windows\n",
      "    the following metrics will be computed: WPLI\n",
      "    computing cross-spectral density for epochs 1..1\n",
      "    computing cross-spectral density for epochs 2..2\n",
      "    computing cross-spectral density for epochs 3..3\n",
      "    computing cross-spectral density for epochs 4..4\n",
      "    computing cross-spectral density for epochs 5..5\n",
      "    computing cross-spectral density for epochs 6..6\n",
      "    computing cross-spectral density for epochs 7..7\n",
      "    computing cross-spectral density for epochs 8..8\n",
      "    computing cross-spectral density for epochs 9..9\n"
     ]
    },
    {
     "name": "stderr",
     "output_type": "stream",
     "text": [
      "[Parallel(n_jobs=-1)]: Using backend LokyBackend with 8 concurrent workers.\n",
      "[Parallel(n_jobs=-1)]: Using backend LokyBackend with 8 concurrent workers.\n",
      "[Parallel(n_jobs=-1)]: Using backend LokyBackend with 8 concurrent workers.\n",
      "[Parallel(n_jobs=-1)]: Using backend LokyBackend with 8 concurrent workers.\n",
      "[Parallel(n_jobs=-1)]: Using backend LokyBackend with 8 concurrent workers.\n",
      "[Parallel(n_jobs=-1)]: Using backend LokyBackend with 8 concurrent workers.\n",
      "/home/wanglab/Documents/George Kenefati/Code/eeg_toolkit/eeg_toolkit/functional_connectivity.py:37: RuntimeWarning: There were no Annotations stored in <EpochsArray |  73 events (all good), 0 – 5 s, baseline off, ~13.4 MB, data loaded,\n",
      " '1': 73>, so metadata was not modified.\n",
      "  con = mne_connectivity.spectral_connectivity_epochs(\n",
      "[Parallel(n_jobs=-1)]: Using backend LokyBackend with 8 concurrent workers.\n",
      "[Parallel(n_jobs=-1)]: Using backend LokyBackend with 8 concurrent workers.\n",
      "[Parallel(n_jobs=-1)]: Using backend LokyBackend with 8 concurrent workers.\n",
      "[Parallel(n_jobs=-1)]: Using backend LokyBackend with 8 concurrent workers.\n",
      "[Parallel(n_jobs=-1)]: Using backend LokyBackend with 8 concurrent workers.\n",
      "[Parallel(n_jobs=-1)]: Using backend LokyBackend with 8 concurrent workers.\n",
      "[Parallel(n_jobs=-1)]: Using backend LokyBackend with 8 concurrent workers.\n",
      "[Parallel(n_jobs=-1)]: Using backend LokyBackend with 8 concurrent workers.\n",
      "[Parallel(n_jobs=-1)]: Using backend LokyBackend with 8 concurrent workers.\n"
     ]
    },
    {
     "name": "stdout",
     "output_type": "stream",
     "text": [
      "    computing cross-spectral density for epochs 10..10\n",
      "    computing cross-spectral density for epochs 11..11\n",
      "    computing cross-spectral density for epochs 12..12\n",
      "    computing cross-spectral density for epochs 13..13\n",
      "    computing cross-spectral density for epochs 14..14\n",
      "    computing cross-spectral density for epochs 15..15\n",
      "    computing cross-spectral density for epochs 16..16\n",
      "    computing cross-spectral density for epochs 17..17\n",
      "    computing cross-spectral density for epochs 18..18\n",
      "    computing cross-spectral density for epochs 19..19\n",
      "    computing cross-spectral density for epochs 20..20\n",
      "    computing cross-spectral density for epochs 21..21\n",
      "    computing cross-spectral density for epochs 22..22\n",
      "    computing cross-spectral density for epochs 23..23\n",
      "    computing cross-spectral density for epochs 24..24\n"
     ]
    },
    {
     "name": "stderr",
     "output_type": "stream",
     "text": [
      "[Parallel(n_jobs=-1)]: Using backend LokyBackend with 8 concurrent workers.\n",
      "[Parallel(n_jobs=-1)]: Using backend LokyBackend with 8 concurrent workers.\n",
      "[Parallel(n_jobs=-1)]: Using backend LokyBackend with 8 concurrent workers.\n",
      "[Parallel(n_jobs=-1)]: Using backend LokyBackend with 8 concurrent workers.\n",
      "[Parallel(n_jobs=-1)]: Using backend LokyBackend with 8 concurrent workers.\n",
      "[Parallel(n_jobs=-1)]: Using backend LokyBackend with 8 concurrent workers.\n",
      "[Parallel(n_jobs=-1)]: Using backend LokyBackend with 8 concurrent workers.\n",
      "[Parallel(n_jobs=-1)]: Using backend LokyBackend with 8 concurrent workers.\n",
      "[Parallel(n_jobs=-1)]: Using backend LokyBackend with 8 concurrent workers.\n",
      "[Parallel(n_jobs=-1)]: Using backend LokyBackend with 8 concurrent workers.\n",
      "[Parallel(n_jobs=-1)]: Using backend LokyBackend with 8 concurrent workers.\n",
      "[Parallel(n_jobs=-1)]: Using backend LokyBackend with 8 concurrent workers.\n",
      "[Parallel(n_jobs=-1)]: Using backend LokyBackend with 8 concurrent workers.\n",
      "[Parallel(n_jobs=-1)]: Using backend LokyBackend with 8 concurrent workers.\n",
      "[Parallel(n_jobs=-1)]: Using backend LokyBackend with 8 concurrent workers.\n"
     ]
    },
    {
     "name": "stdout",
     "output_type": "stream",
     "text": [
      "    computing cross-spectral density for epochs 25..25\n",
      "    computing cross-spectral density for epochs 26..26\n",
      "    computing cross-spectral density for epochs 27..27\n",
      "    computing cross-spectral density for epochs 28..28\n",
      "    computing cross-spectral density for epochs 29..29\n",
      "    computing cross-spectral density for epochs 30..30\n",
      "    computing cross-spectral density for epochs 31..31\n",
      "    computing cross-spectral density for epochs 32..32\n",
      "    computing cross-spectral density for epochs 33..33\n",
      "    computing cross-spectral density for epochs 34..34\n",
      "    computing cross-spectral density for epochs 35..35\n",
      "    computing cross-spectral density for epochs 36..36\n",
      "    computing cross-spectral density for epochs 37..37\n",
      "    computing cross-spectral density for epochs 38..38\n"
     ]
    },
    {
     "name": "stderr",
     "output_type": "stream",
     "text": [
      "[Parallel(n_jobs=-1)]: Using backend LokyBackend with 8 concurrent workers.\n",
      "[Parallel(n_jobs=-1)]: Using backend LokyBackend with 8 concurrent workers.\n",
      "[Parallel(n_jobs=-1)]: Using backend LokyBackend with 8 concurrent workers.\n",
      "[Parallel(n_jobs=-1)]: Using backend LokyBackend with 8 concurrent workers.\n",
      "[Parallel(n_jobs=-1)]: Using backend LokyBackend with 8 concurrent workers.\n",
      "[Parallel(n_jobs=-1)]: Using backend LokyBackend with 8 concurrent workers.\n",
      "[Parallel(n_jobs=-1)]: Using backend LokyBackend with 8 concurrent workers.\n",
      "[Parallel(n_jobs=-1)]: Using backend LokyBackend with 8 concurrent workers.\n",
      "[Parallel(n_jobs=-1)]: Using backend LokyBackend with 8 concurrent workers.\n",
      "[Parallel(n_jobs=-1)]: Using backend LokyBackend with 8 concurrent workers.\n",
      "[Parallel(n_jobs=-1)]: Using backend LokyBackend with 8 concurrent workers.\n",
      "[Parallel(n_jobs=-1)]: Using backend LokyBackend with 8 concurrent workers.\n",
      "[Parallel(n_jobs=-1)]: Using backend LokyBackend with 8 concurrent workers.\n",
      "[Parallel(n_jobs=-1)]: Using backend LokyBackend with 8 concurrent workers.\n"
     ]
    },
    {
     "name": "stdout",
     "output_type": "stream",
     "text": [
      "    computing cross-spectral density for epochs 39..39\n",
      "    computing cross-spectral density for epochs 40..40\n",
      "    computing cross-spectral density for epochs 41..41\n",
      "    computing cross-spectral density for epochs 42..42\n",
      "    computing cross-spectral density for epochs 43..43\n",
      "    computing cross-spectral density for epochs 44..44\n",
      "    computing cross-spectral density for epochs 45..45\n",
      "    computing cross-spectral density for epochs 46..46\n",
      "    computing cross-spectral density for epochs 47..47\n",
      "    computing cross-spectral density for epochs 48..48\n",
      "    computing cross-spectral density for epochs 49..49\n"
     ]
    },
    {
     "name": "stderr",
     "output_type": "stream",
     "text": [
      "[Parallel(n_jobs=-1)]: Using backend LokyBackend with 8 concurrent workers.\n",
      "[Parallel(n_jobs=-1)]: Using backend LokyBackend with 8 concurrent workers.\n",
      "[Parallel(n_jobs=-1)]: Using backend LokyBackend with 8 concurrent workers.\n",
      "[Parallel(n_jobs=-1)]: Using backend LokyBackend with 8 concurrent workers.\n",
      "[Parallel(n_jobs=-1)]: Using backend LokyBackend with 8 concurrent workers.\n",
      "[Parallel(n_jobs=-1)]: Using backend LokyBackend with 8 concurrent workers.\n",
      "[Parallel(n_jobs=-1)]: Using backend LokyBackend with 8 concurrent workers.\n",
      "[Parallel(n_jobs=-1)]: Using backend LokyBackend with 8 concurrent workers.\n",
      "[Parallel(n_jobs=-1)]: Using backend LokyBackend with 8 concurrent workers.\n",
      "[Parallel(n_jobs=-1)]: Using backend LokyBackend with 8 concurrent workers.\n",
      "[Parallel(n_jobs=-1)]: Using backend LokyBackend with 8 concurrent workers.\n"
     ]
    },
    {
     "name": "stdout",
     "output_type": "stream",
     "text": [
      "    computing cross-spectral density for epochs 50..50\n",
      "    computing cross-spectral density for epochs 51..51\n",
      "    computing cross-spectral density for epochs 52..52\n",
      "    computing cross-spectral density for epochs 53..53\n",
      "    computing cross-spectral density for epochs 54..54\n",
      "    computing cross-spectral density for epochs 55..55\n",
      "    computing cross-spectral density for epochs 56..56\n",
      "    computing cross-spectral density for epochs 57..57\n",
      "    computing cross-spectral density for epochs 58..58\n",
      "    computing cross-spectral density for epochs 59..59\n",
      "    computing cross-spectral density for epochs 60..60\n",
      "    computing cross-spectral density for epochs 61..61\n",
      "    computing cross-spectral density for epochs 62..62\n"
     ]
    },
    {
     "name": "stderr",
     "output_type": "stream",
     "text": [
      "[Parallel(n_jobs=-1)]: Using backend LokyBackend with 8 concurrent workers.\n",
      "[Parallel(n_jobs=-1)]: Using backend LokyBackend with 8 concurrent workers.\n",
      "[Parallel(n_jobs=-1)]: Using backend LokyBackend with 8 concurrent workers.\n",
      "[Parallel(n_jobs=-1)]: Using backend LokyBackend with 8 concurrent workers.\n",
      "[Parallel(n_jobs=-1)]: Using backend LokyBackend with 8 concurrent workers.\n",
      "[Parallel(n_jobs=-1)]: Using backend LokyBackend with 8 concurrent workers.\n",
      "[Parallel(n_jobs=-1)]: Using backend LokyBackend with 8 concurrent workers.\n",
      "[Parallel(n_jobs=-1)]: Using backend LokyBackend with 8 concurrent workers.\n",
      "[Parallel(n_jobs=-1)]: Using backend LokyBackend with 8 concurrent workers.\n",
      "[Parallel(n_jobs=-1)]: Using backend LokyBackend with 8 concurrent workers.\n",
      "[Parallel(n_jobs=-1)]: Using backend LokyBackend with 8 concurrent workers.\n",
      "[Parallel(n_jobs=-1)]: Using backend LokyBackend with 8 concurrent workers.\n"
     ]
    },
    {
     "name": "stdout",
     "output_type": "stream",
     "text": [
      "    computing cross-spectral density for epochs 63..63\n",
      "    computing cross-spectral density for epochs 64..64\n",
      "    computing cross-spectral density for epochs 65..65\n",
      "    computing cross-spectral density for epochs 66..66\n",
      "    computing cross-spectral density for epochs 67..67\n",
      "    computing cross-spectral density for epochs 68..68\n",
      "    computing cross-spectral density for epochs 69..69\n",
      "    computing cross-spectral density for epochs 70..70\n",
      "    computing cross-spectral density for epochs 71..71\n",
      "    computing cross-spectral density for epochs 72..72\n",
      "    computing cross-spectral density for epochs 73..73\n",
      "    assembling connectivity matrix\n",
      "[Connectivity computation done]\n",
      "Connectivity computation...\n",
      "only using indices for lower-triangular matrix\n",
      "    computing connectivity for 66 connections\n",
      "    using t=0.000s..5.000s for estimation (2001 points)\n",
      "    frequencies: 13.2Hz..30.0Hz (85 points)\n",
      "    connectivity scores will be averaged for each band\n"
     ]
    },
    {
     "name": "stderr",
     "output_type": "stream",
     "text": [
      "[Parallel(n_jobs=-1)]: Using backend LokyBackend with 8 concurrent workers.\n",
      "[Parallel(n_jobs=-1)]: Using backend LokyBackend with 8 concurrent workers.\n",
      "[Parallel(n_jobs=-1)]: Using backend LokyBackend with 8 concurrent workers.\n",
      "[Parallel(n_jobs=-1)]: Using backend LokyBackend with 8 concurrent workers.\n",
      "[Parallel(n_jobs=-1)]: Using backend LokyBackend with 8 concurrent workers.\n",
      "[Parallel(n_jobs=-1)]: Using backend LokyBackend with 8 concurrent workers.\n",
      "[Parallel(n_jobs=-1)]: Using backend LokyBackend with 8 concurrent workers.\n",
      "[Parallel(n_jobs=-1)]: Using backend LokyBackend with 8 concurrent workers.\n",
      "[Parallel(n_jobs=-1)]: Using backend LokyBackend with 8 concurrent workers.\n",
      "[Parallel(n_jobs=-1)]: Using backend LokyBackend with 8 concurrent workers.\n",
      "[Parallel(n_jobs=-1)]: Using backend LokyBackend with 8 concurrent workers.\n",
      "[Parallel(n_jobs=-1)]: Using backend LokyBackend with 8 concurrent workers.\n",
      "/home/wanglab/Documents/George Kenefati/Code/eeg_toolkit/eeg_toolkit/functional_connectivity.py:37: RuntimeWarning: There were no Annotations stored in <EpochsArray |  73 events (all good), 0 – 5 s, baseline off, ~13.4 MB, data loaded,\n",
      " '1': 73>, so metadata was not modified.\n",
      "  con = mne_connectivity.spectral_connectivity_epochs(\n"
     ]
    },
    {
     "name": "stdout",
     "output_type": "stream",
     "text": [
      "    Using multitaper spectrum estimation with 7 DPSS windows\n",
      "    the following metrics will be computed: DPLI\n",
      "    computing cross-spectral density for epochs 1..1\n",
      "    computing cross-spectral density for epochs 2..2\n",
      "    computing cross-spectral density for epochs 3..3\n",
      "    computing cross-spectral density for epochs 4..4\n",
      "    computing cross-spectral density for epochs 5..5\n",
      "    computing cross-spectral density for epochs 6..6\n",
      "    computing cross-spectral density for epochs 7..7\n",
      "    computing cross-spectral density for epochs 8..8\n",
      "    computing cross-spectral density for epochs 9..9\n",
      "    computing cross-spectral density for epochs 10..10\n",
      "    computing cross-spectral density for epochs 11..11\n",
      "    computing cross-spectral density for epochs 12..12\n",
      "    computing cross-spectral density for epochs 13..13\n",
      "    computing cross-spectral density for epochs 14..14\n",
      "    computing cross-spectral density for epochs 15..15\n",
      "    computing cross-spectral density for epochs 16..16\n",
      "    computing cross-spectral density for epochs 17..17\n"
     ]
    },
    {
     "name": "stderr",
     "output_type": "stream",
     "text": [
      "[Parallel(n_jobs=-1)]: Using backend LokyBackend with 8 concurrent workers.\n",
      "[Parallel(n_jobs=-1)]: Using backend LokyBackend with 8 concurrent workers.\n",
      "[Parallel(n_jobs=-1)]: Using backend LokyBackend with 8 concurrent workers.\n",
      "[Parallel(n_jobs=-1)]: Using backend LokyBackend with 8 concurrent workers.\n",
      "[Parallel(n_jobs=-1)]: Using backend LokyBackend with 8 concurrent workers.\n",
      "[Parallel(n_jobs=-1)]: Using backend LokyBackend with 8 concurrent workers.\n",
      "[Parallel(n_jobs=-1)]: Using backend LokyBackend with 8 concurrent workers.\n",
      "[Parallel(n_jobs=-1)]: Using backend LokyBackend with 8 concurrent workers.\n",
      "[Parallel(n_jobs=-1)]: Using backend LokyBackend with 8 concurrent workers.\n",
      "[Parallel(n_jobs=-1)]: Using backend LokyBackend with 8 concurrent workers.\n",
      "[Parallel(n_jobs=-1)]: Using backend LokyBackend with 8 concurrent workers.\n",
      "[Parallel(n_jobs=-1)]: Using backend LokyBackend with 8 concurrent workers.\n",
      "[Parallel(n_jobs=-1)]: Using backend LokyBackend with 8 concurrent workers.\n",
      "[Parallel(n_jobs=-1)]: Using backend LokyBackend with 8 concurrent workers.\n",
      "[Parallel(n_jobs=-1)]: Using backend LokyBackend with 8 concurrent workers.\n",
      "[Parallel(n_jobs=-1)]: Using backend LokyBackend with 8 concurrent workers.\n",
      "[Parallel(n_jobs=-1)]: Using backend LokyBackend with 8 concurrent workers.\n"
     ]
    },
    {
     "name": "stdout",
     "output_type": "stream",
     "text": [
      "    computing cross-spectral density for epochs 18..18\n",
      "    computing cross-spectral density for epochs 19..19\n",
      "    computing cross-spectral density for epochs 20..20\n",
      "    computing cross-spectral density for epochs 21..21\n",
      "    computing cross-spectral density for epochs 22..22\n",
      "    computing cross-spectral density for epochs 23..23\n",
      "    computing cross-spectral density for epochs 24..24\n",
      "    computing cross-spectral density for epochs 25..25\n",
      "    computing cross-spectral density for epochs 26..26\n",
      "    computing cross-spectral density for epochs 27..27\n",
      "    computing cross-spectral density for epochs 28..28\n",
      "    computing cross-spectral density for epochs 29..29\n"
     ]
    },
    {
     "name": "stderr",
     "output_type": "stream",
     "text": [
      "[Parallel(n_jobs=-1)]: Using backend LokyBackend with 8 concurrent workers.\n",
      "[Parallel(n_jobs=-1)]: Using backend LokyBackend with 8 concurrent workers.\n",
      "[Parallel(n_jobs=-1)]: Using backend LokyBackend with 8 concurrent workers.\n",
      "[Parallel(n_jobs=-1)]: Using backend LokyBackend with 8 concurrent workers.\n",
      "[Parallel(n_jobs=-1)]: Using backend LokyBackend with 8 concurrent workers.\n",
      "[Parallel(n_jobs=-1)]: Using backend LokyBackend with 8 concurrent workers.\n",
      "[Parallel(n_jobs=-1)]: Using backend LokyBackend with 8 concurrent workers.\n",
      "[Parallel(n_jobs=-1)]: Using backend LokyBackend with 8 concurrent workers.\n",
      "[Parallel(n_jobs=-1)]: Using backend LokyBackend with 8 concurrent workers.\n",
      "[Parallel(n_jobs=-1)]: Using backend LokyBackend with 8 concurrent workers.\n",
      "[Parallel(n_jobs=-1)]: Using backend LokyBackend with 8 concurrent workers.\n",
      "[Parallel(n_jobs=-1)]: Using backend LokyBackend with 8 concurrent workers.\n"
     ]
    },
    {
     "name": "stdout",
     "output_type": "stream",
     "text": [
      "    computing cross-spectral density for epochs 30..30\n",
      "    computing cross-spectral density for epochs 31..31\n",
      "    computing cross-spectral density for epochs 32..32\n",
      "    computing cross-spectral density for epochs 33..33\n",
      "    computing cross-spectral density for epochs 34..34\n",
      "    computing cross-spectral density for epochs 35..35\n",
      "    computing cross-spectral density for epochs 36..36\n",
      "    computing cross-spectral density for epochs 37..37\n",
      "    computing cross-spectral density for epochs 38..38\n",
      "    computing cross-spectral density for epochs 39..39\n",
      "    computing cross-spectral density for epochs 40..40\n",
      "    computing cross-spectral density for epochs 41..41\n",
      "    computing cross-spectral density for epochs 42..42\n",
      "    computing cross-spectral density for epochs 43..43\n",
      "    computing cross-spectral density for epochs 44..44\n",
      "    computing cross-spectral density for epochs 45..45\n"
     ]
    },
    {
     "name": "stderr",
     "output_type": "stream",
     "text": [
      "[Parallel(n_jobs=-1)]: Using backend LokyBackend with 8 concurrent workers.\n",
      "[Parallel(n_jobs=-1)]: Using backend LokyBackend with 8 concurrent workers.\n",
      "[Parallel(n_jobs=-1)]: Using backend LokyBackend with 8 concurrent workers.\n",
      "[Parallel(n_jobs=-1)]: Using backend LokyBackend with 8 concurrent workers.\n",
      "[Parallel(n_jobs=-1)]: Using backend LokyBackend with 8 concurrent workers.\n",
      "[Parallel(n_jobs=-1)]: Using backend LokyBackend with 8 concurrent workers.\n",
      "[Parallel(n_jobs=-1)]: Using backend LokyBackend with 8 concurrent workers.\n",
      "[Parallel(n_jobs=-1)]: Using backend LokyBackend with 8 concurrent workers.\n",
      "[Parallel(n_jobs=-1)]: Using backend LokyBackend with 8 concurrent workers.\n",
      "[Parallel(n_jobs=-1)]: Using backend LokyBackend with 8 concurrent workers.\n",
      "[Parallel(n_jobs=-1)]: Using backend LokyBackend with 8 concurrent workers.\n",
      "[Parallel(n_jobs=-1)]: Using backend LokyBackend with 8 concurrent workers.\n",
      "[Parallel(n_jobs=-1)]: Using backend LokyBackend with 8 concurrent workers.\n",
      "[Parallel(n_jobs=-1)]: Using backend LokyBackend with 8 concurrent workers.\n",
      "[Parallel(n_jobs=-1)]: Using backend LokyBackend with 8 concurrent workers.\n",
      "[Parallel(n_jobs=-1)]: Using backend LokyBackend with 8 concurrent workers.\n"
     ]
    },
    {
     "name": "stdout",
     "output_type": "stream",
     "text": [
      "    computing cross-spectral density for epochs 46..46\n",
      "    computing cross-spectral density for epochs 47..47\n",
      "    computing cross-spectral density for epochs 48..48\n",
      "    computing cross-spectral density for epochs 49..49\n",
      "    computing cross-spectral density for epochs 50..50\n",
      "    computing cross-spectral density for epochs 51..51\n",
      "    computing cross-spectral density for epochs 52..52\n",
      "    computing cross-spectral density for epochs 53..53\n",
      "    computing cross-spectral density for epochs 54..54\n",
      "    computing cross-spectral density for epochs 55..55\n",
      "    computing cross-spectral density for epochs 56..56\n",
      "    computing cross-spectral density for epochs 57..57\n",
      "    computing cross-spectral density for epochs 58..58\n",
      "    computing cross-spectral density for epochs 59..59\n"
     ]
    },
    {
     "name": "stderr",
     "output_type": "stream",
     "text": [
      "[Parallel(n_jobs=-1)]: Using backend LokyBackend with 8 concurrent workers.\n",
      "[Parallel(n_jobs=-1)]: Using backend LokyBackend with 8 concurrent workers.\n",
      "[Parallel(n_jobs=-1)]: Using backend LokyBackend with 8 concurrent workers.\n",
      "[Parallel(n_jobs=-1)]: Using backend LokyBackend with 8 concurrent workers.\n",
      "[Parallel(n_jobs=-1)]: Using backend LokyBackend with 8 concurrent workers.\n",
      "[Parallel(n_jobs=-1)]: Using backend LokyBackend with 8 concurrent workers.\n",
      "[Parallel(n_jobs=-1)]: Using backend LokyBackend with 8 concurrent workers.\n",
      "[Parallel(n_jobs=-1)]: Using backend LokyBackend with 8 concurrent workers.\n",
      "[Parallel(n_jobs=-1)]: Using backend LokyBackend with 8 concurrent workers.\n",
      "[Parallel(n_jobs=-1)]: Using backend LokyBackend with 8 concurrent workers.\n",
      "[Parallel(n_jobs=-1)]: Using backend LokyBackend with 8 concurrent workers.\n",
      "[Parallel(n_jobs=-1)]: Using backend LokyBackend with 8 concurrent workers.\n",
      "[Parallel(n_jobs=-1)]: Using backend LokyBackend with 8 concurrent workers.\n",
      "[Parallel(n_jobs=-1)]: Using backend LokyBackend with 8 concurrent workers.\n"
     ]
    },
    {
     "name": "stdout",
     "output_type": "stream",
     "text": [
      "    computing cross-spectral density for epochs 60..60\n",
      "    computing cross-spectral density for epochs 61..61\n",
      "    computing cross-spectral density for epochs 62..62\n",
      "    computing cross-spectral density for epochs 63..63\n",
      "    computing cross-spectral density for epochs 64..64\n",
      "    computing cross-spectral density for epochs 65..65\n",
      "    computing cross-spectral density for epochs 66..66\n",
      "    computing cross-spectral density for epochs 67..67\n",
      "    computing cross-spectral density for epochs 68..68\n",
      "    computing cross-spectral density for epochs 69..69\n",
      "    computing cross-spectral density for epochs 70..70\n",
      "    computing cross-spectral density for epochs 71..71\n",
      "    computing cross-spectral density for epochs 72..72\n",
      "    computing cross-spectral density for epochs 73..73\n",
      "    assembling connectivity matrix\n",
      "[Connectivity computation done]\n",
      "Connectivity computation...\n",
      "only using indices for lower-triangular matrix\n",
      "    computing connectivity for 66 connections\n",
      "    using t=0.000s..5.000s for estimation (2001 points)\n",
      "    frequencies: 13.2Hz..30.0Hz (85 points)\n",
      "    connectivity scores will be averaged for each band\n",
      "    Using multitaper spectrum estimation with 7 DPSS windows\n"
     ]
    },
    {
     "name": "stderr",
     "output_type": "stream",
     "text": [
      "[Parallel(n_jobs=-1)]: Using backend LokyBackend with 8 concurrent workers.\n",
      "[Parallel(n_jobs=-1)]: Using backend LokyBackend with 8 concurrent workers.\n",
      "[Parallel(n_jobs=-1)]: Using backend LokyBackend with 8 concurrent workers.\n",
      "[Parallel(n_jobs=-1)]: Using backend LokyBackend with 8 concurrent workers.\n",
      "[Parallel(n_jobs=-1)]: Using backend LokyBackend with 8 concurrent workers.\n",
      "[Parallel(n_jobs=-1)]: Using backend LokyBackend with 8 concurrent workers.\n",
      "[Parallel(n_jobs=-1)]: Using backend LokyBackend with 8 concurrent workers.\n",
      "[Parallel(n_jobs=-1)]: Using backend LokyBackend with 8 concurrent workers.\n",
      "[Parallel(n_jobs=-1)]: Using backend LokyBackend with 8 concurrent workers.\n",
      "[Parallel(n_jobs=-1)]: Using backend LokyBackend with 8 concurrent workers.\n",
      "[Parallel(n_jobs=-1)]: Using backend LokyBackend with 8 concurrent workers.\n",
      "[Parallel(n_jobs=-1)]: Using backend LokyBackend with 8 concurrent workers.\n",
      "[Parallel(n_jobs=-1)]: Using backend LokyBackend with 8 concurrent workers.\n",
      "[Parallel(n_jobs=-1)]: Using backend LokyBackend with 8 concurrent workers.\n",
      "/home/wanglab/Documents/George Kenefati/Code/eeg_toolkit/eeg_toolkit/functional_connectivity.py:37: RuntimeWarning: There were no Annotations stored in <EpochsArray |  73 events (all good), 0 – 5 s, baseline off, ~13.4 MB, data loaded,\n",
      " '1': 73>, so metadata was not modified.\n",
      "  con = mne_connectivity.spectral_connectivity_epochs(\n"
     ]
    },
    {
     "name": "stdout",
     "output_type": "stream",
     "text": [
      "    the following metrics will be computed: PLV\n",
      "    computing cross-spectral density for epochs 1..1\n",
      "    computing cross-spectral density for epochs 2..2\n",
      "    computing cross-spectral density for epochs 3..3\n",
      "    computing cross-spectral density for epochs 4..4\n",
      "    computing cross-spectral density for epochs 5..5\n",
      "    computing cross-spectral density for epochs 6..6\n",
      "    computing cross-spectral density for epochs 7..7\n",
      "    computing cross-spectral density for epochs 8..8\n",
      "    computing cross-spectral density for epochs 9..9\n",
      "    computing cross-spectral density for epochs 10..10\n",
      "    computing cross-spectral density for epochs 11..11\n",
      "    computing cross-spectral density for epochs 12..12\n",
      "    computing cross-spectral density for epochs 13..13\n",
      "    computing cross-spectral density for epochs 14..14\n"
     ]
    },
    {
     "name": "stderr",
     "output_type": "stream",
     "text": [
      "[Parallel(n_jobs=-1)]: Using backend LokyBackend with 8 concurrent workers.\n",
      "[Parallel(n_jobs=-1)]: Using backend LokyBackend with 8 concurrent workers.\n",
      "[Parallel(n_jobs=-1)]: Using backend LokyBackend with 8 concurrent workers.\n",
      "[Parallel(n_jobs=-1)]: Using backend LokyBackend with 8 concurrent workers.\n",
      "[Parallel(n_jobs=-1)]: Using backend LokyBackend with 8 concurrent workers.\n",
      "[Parallel(n_jobs=-1)]: Using backend LokyBackend with 8 concurrent workers.\n",
      "[Parallel(n_jobs=-1)]: Using backend LokyBackend with 8 concurrent workers.\n",
      "[Parallel(n_jobs=-1)]: Using backend LokyBackend with 8 concurrent workers.\n",
      "[Parallel(n_jobs=-1)]: Using backend LokyBackend with 8 concurrent workers.\n",
      "[Parallel(n_jobs=-1)]: Using backend LokyBackend with 8 concurrent workers.\n",
      "[Parallel(n_jobs=-1)]: Using backend LokyBackend with 8 concurrent workers.\n",
      "[Parallel(n_jobs=-1)]: Using backend LokyBackend with 8 concurrent workers.\n",
      "[Parallel(n_jobs=-1)]: Using backend LokyBackend with 8 concurrent workers.\n",
      "[Parallel(n_jobs=-1)]: Using backend LokyBackend with 8 concurrent workers.\n"
     ]
    },
    {
     "name": "stdout",
     "output_type": "stream",
     "text": [
      "    computing cross-spectral density for epochs 15..15\n",
      "    computing cross-spectral density for epochs 16..16\n",
      "    computing cross-spectral density for epochs 17..17\n",
      "    computing cross-spectral density for epochs 18..18\n",
      "    computing cross-spectral density for epochs 19..19\n",
      "    computing cross-spectral density for epochs 20..20\n",
      "    computing cross-spectral density for epochs 21..21\n",
      "    computing cross-spectral density for epochs 22..22\n",
      "    computing cross-spectral density for epochs 23..23\n",
      "    computing cross-spectral density for epochs 24..24\n",
      "    computing cross-spectral density for epochs 25..25\n",
      "    computing cross-spectral density for epochs 26..26\n",
      "    computing cross-spectral density for epochs 27..27\n",
      "    computing cross-spectral density for epochs 28..28\n",
      "    computing cross-spectral density for epochs 29..29\n"
     ]
    },
    {
     "name": "stderr",
     "output_type": "stream",
     "text": [
      "[Parallel(n_jobs=-1)]: Using backend LokyBackend with 8 concurrent workers.\n",
      "[Parallel(n_jobs=-1)]: Using backend LokyBackend with 8 concurrent workers.\n",
      "[Parallel(n_jobs=-1)]: Using backend LokyBackend with 8 concurrent workers.\n",
      "[Parallel(n_jobs=-1)]: Using backend LokyBackend with 8 concurrent workers.\n",
      "[Parallel(n_jobs=-1)]: Using backend LokyBackend with 8 concurrent workers.\n",
      "[Parallel(n_jobs=-1)]: Using backend LokyBackend with 8 concurrent workers.\n",
      "[Parallel(n_jobs=-1)]: Using backend LokyBackend with 8 concurrent workers.\n",
      "[Parallel(n_jobs=-1)]: Using backend LokyBackend with 8 concurrent workers.\n",
      "[Parallel(n_jobs=-1)]: Using backend LokyBackend with 8 concurrent workers.\n",
      "[Parallel(n_jobs=-1)]: Using backend LokyBackend with 8 concurrent workers.\n",
      "[Parallel(n_jobs=-1)]: Using backend LokyBackend with 8 concurrent workers.\n",
      "[Parallel(n_jobs=-1)]: Using backend LokyBackend with 8 concurrent workers.\n",
      "[Parallel(n_jobs=-1)]: Using backend LokyBackend with 8 concurrent workers.\n",
      "[Parallel(n_jobs=-1)]: Using backend LokyBackend with 8 concurrent workers.\n",
      "[Parallel(n_jobs=-1)]: Using backend LokyBackend with 8 concurrent workers.\n"
     ]
    },
    {
     "name": "stdout",
     "output_type": "stream",
     "text": [
      "    computing cross-spectral density for epochs 30..30\n",
      "    computing cross-spectral density for epochs 31..31\n",
      "    computing cross-spectral density for epochs 32..32\n",
      "    computing cross-spectral density for epochs 33..33\n",
      "    computing cross-spectral density for epochs 34..34\n",
      "    computing cross-spectral density for epochs 35..35\n",
      "    computing cross-spectral density for epochs 36..36\n",
      "    computing cross-spectral density for epochs 37..37\n",
      "    computing cross-spectral density for epochs 38..38\n",
      "    computing cross-spectral density for epochs 39..39\n",
      "    computing cross-spectral density for epochs 40..40\n",
      "    computing cross-spectral density for epochs 41..41\n",
      "    computing cross-spectral density for epochs 42..42\n",
      "    computing cross-spectral density for epochs 43..43\n",
      "    computing cross-spectral density for epochs 44..44\n"
     ]
    },
    {
     "name": "stderr",
     "output_type": "stream",
     "text": [
      "[Parallel(n_jobs=-1)]: Using backend LokyBackend with 8 concurrent workers.\n",
      "[Parallel(n_jobs=-1)]: Using backend LokyBackend with 8 concurrent workers.\n",
      "[Parallel(n_jobs=-1)]: Using backend LokyBackend with 8 concurrent workers.\n",
      "[Parallel(n_jobs=-1)]: Using backend LokyBackend with 8 concurrent workers.\n",
      "[Parallel(n_jobs=-1)]: Using backend LokyBackend with 8 concurrent workers.\n",
      "[Parallel(n_jobs=-1)]: Using backend LokyBackend with 8 concurrent workers.\n",
      "[Parallel(n_jobs=-1)]: Using backend LokyBackend with 8 concurrent workers.\n",
      "[Parallel(n_jobs=-1)]: Using backend LokyBackend with 8 concurrent workers.\n",
      "[Parallel(n_jobs=-1)]: Using backend LokyBackend with 8 concurrent workers.\n",
      "[Parallel(n_jobs=-1)]: Using backend LokyBackend with 8 concurrent workers.\n",
      "[Parallel(n_jobs=-1)]: Using backend LokyBackend with 8 concurrent workers.\n",
      "[Parallel(n_jobs=-1)]: Using backend LokyBackend with 8 concurrent workers.\n",
      "[Parallel(n_jobs=-1)]: Using backend LokyBackend with 8 concurrent workers.\n",
      "[Parallel(n_jobs=-1)]: Using backend LokyBackend with 8 concurrent workers.\n",
      "[Parallel(n_jobs=-1)]: Using backend LokyBackend with 8 concurrent workers.\n"
     ]
    },
    {
     "name": "stdout",
     "output_type": "stream",
     "text": [
      "    computing cross-spectral density for epochs 45..45\n",
      "    computing cross-spectral density for epochs 46..46\n",
      "    computing cross-spectral density for epochs 47..47\n",
      "    computing cross-spectral density for epochs 48..48\n",
      "    computing cross-spectral density for epochs 49..49\n",
      "    computing cross-spectral density for epochs 50..50\n",
      "    computing cross-spectral density for epochs 51..51\n",
      "    computing cross-spectral density for epochs 52..52\n",
      "    computing cross-spectral density for epochs 53..53\n",
      "    computing cross-spectral density for epochs 54..54\n",
      "    computing cross-spectral density for epochs 55..55\n",
      "    computing cross-spectral density for epochs 56..56\n",
      "    computing cross-spectral density for epochs 57..57\n",
      "    computing cross-spectral density for epochs 58..58\n",
      "    computing cross-spectral density for epochs 59..59\n"
     ]
    },
    {
     "name": "stderr",
     "output_type": "stream",
     "text": [
      "[Parallel(n_jobs=-1)]: Using backend LokyBackend with 8 concurrent workers.\n",
      "[Parallel(n_jobs=-1)]: Using backend LokyBackend with 8 concurrent workers.\n",
      "[Parallel(n_jobs=-1)]: Using backend LokyBackend with 8 concurrent workers.\n",
      "[Parallel(n_jobs=-1)]: Using backend LokyBackend with 8 concurrent workers.\n",
      "[Parallel(n_jobs=-1)]: Using backend LokyBackend with 8 concurrent workers.\n",
      "[Parallel(n_jobs=-1)]: Using backend LokyBackend with 8 concurrent workers.\n",
      "[Parallel(n_jobs=-1)]: Using backend LokyBackend with 8 concurrent workers.\n",
      "[Parallel(n_jobs=-1)]: Using backend LokyBackend with 8 concurrent workers.\n",
      "[Parallel(n_jobs=-1)]: Using backend LokyBackend with 8 concurrent workers.\n",
      "[Parallel(n_jobs=-1)]: Using backend LokyBackend with 8 concurrent workers.\n",
      "[Parallel(n_jobs=-1)]: Using backend LokyBackend with 8 concurrent workers.\n",
      "[Parallel(n_jobs=-1)]: Using backend LokyBackend with 8 concurrent workers.\n",
      "[Parallel(n_jobs=-1)]: Using backend LokyBackend with 8 concurrent workers.\n",
      "[Parallel(n_jobs=-1)]: Using backend LokyBackend with 8 concurrent workers.\n",
      "[Parallel(n_jobs=-1)]: Using backend LokyBackend with 8 concurrent workers.\n"
     ]
    },
    {
     "name": "stdout",
     "output_type": "stream",
     "text": [
      "    computing cross-spectral density for epochs 60..60\n",
      "    computing cross-spectral density for epochs 61..61\n",
      "    computing cross-spectral density for epochs 62..62\n",
      "    computing cross-spectral density for epochs 63..63\n",
      "    computing cross-spectral density for epochs 64..64\n",
      "    computing cross-spectral density for epochs 65..65\n",
      "    computing cross-spectral density for epochs 66..66\n",
      "    computing cross-spectral density for epochs 67..67\n",
      "    computing cross-spectral density for epochs 68..68\n",
      "    computing cross-spectral density for epochs 69..69\n",
      "    computing cross-spectral density for epochs 70..70\n",
      "    computing cross-spectral density for epochs 71..71\n"
     ]
    },
    {
     "name": "stderr",
     "output_type": "stream",
     "text": [
      "[Parallel(n_jobs=-1)]: Using backend LokyBackend with 8 concurrent workers.\n",
      "[Parallel(n_jobs=-1)]: Using backend LokyBackend with 8 concurrent workers.\n",
      "[Parallel(n_jobs=-1)]: Using backend LokyBackend with 8 concurrent workers.\n",
      "[Parallel(n_jobs=-1)]: Using backend LokyBackend with 8 concurrent workers.\n",
      "[Parallel(n_jobs=-1)]: Using backend LokyBackend with 8 concurrent workers.\n",
      "[Parallel(n_jobs=-1)]: Using backend LokyBackend with 8 concurrent workers.\n",
      "[Parallel(n_jobs=-1)]: Using backend LokyBackend with 8 concurrent workers.\n",
      "[Parallel(n_jobs=-1)]: Using backend LokyBackend with 8 concurrent workers.\n",
      "[Parallel(n_jobs=-1)]: Using backend LokyBackend with 8 concurrent workers.\n",
      "[Parallel(n_jobs=-1)]: Using backend LokyBackend with 8 concurrent workers.\n",
      "[Parallel(n_jobs=-1)]: Using backend LokyBackend with 8 concurrent workers.\n",
      "[Parallel(n_jobs=-1)]: Using backend LokyBackend with 8 concurrent workers.\n"
     ]
    },
    {
     "name": "stdout",
     "output_type": "stream",
     "text": [
      "    computing cross-spectral density for epochs 72..72\n",
      "    computing cross-spectral density for epochs 73..73\n",
      "    assembling connectivity matrix\n",
      "[Connectivity computation done]\n",
      "Connectivity computation...\n",
      "only using indices for lower-triangular matrix\n",
      "    computing connectivity for 66 connections\n",
      "    using t=0.000s..5.000s for estimation (2001 points)\n",
      "    frequencies: 30.2Hz..58.4Hz (142 points)\n",
      "    connectivity scores will be averaged for each band\n",
      "    Using multitaper spectrum estimation with 7 DPSS windows\n",
      "    the following metrics will be computed: WPLI\n",
      "    computing cross-spectral density for epochs 1..1\n",
      "    computing cross-spectral density for epochs 2..2\n",
      "    computing cross-spectral density for epochs 3..3\n",
      "    computing cross-spectral density for epochs 4..4\n",
      "    computing cross-spectral density for epochs 5..5\n",
      "    computing cross-spectral density for epochs 6..6\n",
      "    computing cross-spectral density for epochs 7..7\n",
      "    computing cross-spectral density for epochs 8..8\n",
      "    computing cross-spectral density for epochs 9..9\n",
      "    computing cross-spectral density for epochs 10..10\n"
     ]
    },
    {
     "name": "stderr",
     "output_type": "stream",
     "text": [
      "[Parallel(n_jobs=-1)]: Using backend LokyBackend with 8 concurrent workers.\n",
      "[Parallel(n_jobs=-1)]: Using backend LokyBackend with 8 concurrent workers.\n",
      "/home/wanglab/Documents/George Kenefati/Code/eeg_toolkit/eeg_toolkit/functional_connectivity.py:37: RuntimeWarning: There were no Annotations stored in <EpochsArray |  73 events (all good), 0 – 5 s, baseline off, ~13.4 MB, data loaded,\n",
      " '1': 73>, so metadata was not modified.\n",
      "  con = mne_connectivity.spectral_connectivity_epochs(\n",
      "[Parallel(n_jobs=-1)]: Using backend LokyBackend with 8 concurrent workers.\n",
      "[Parallel(n_jobs=-1)]: Using backend LokyBackend with 8 concurrent workers.\n",
      "[Parallel(n_jobs=-1)]: Using backend LokyBackend with 8 concurrent workers.\n",
      "[Parallel(n_jobs=-1)]: Using backend LokyBackend with 8 concurrent workers.\n",
      "[Parallel(n_jobs=-1)]: Using backend LokyBackend with 8 concurrent workers.\n",
      "[Parallel(n_jobs=-1)]: Using backend LokyBackend with 8 concurrent workers.\n",
      "[Parallel(n_jobs=-1)]: Using backend LokyBackend with 8 concurrent workers.\n",
      "[Parallel(n_jobs=-1)]: Using backend LokyBackend with 8 concurrent workers.\n",
      "[Parallel(n_jobs=-1)]: Using backend LokyBackend with 8 concurrent workers.\n",
      "[Parallel(n_jobs=-1)]: Using backend LokyBackend with 8 concurrent workers.\n"
     ]
    },
    {
     "name": "stdout",
     "output_type": "stream",
     "text": [
      "    computing cross-spectral density for epochs 11..11\n",
      "    computing cross-spectral density for epochs 12..12\n",
      "    computing cross-spectral density for epochs 13..13\n",
      "    computing cross-spectral density for epochs 14..14\n",
      "    computing cross-spectral density for epochs 15..15\n",
      "    computing cross-spectral density for epochs 16..16\n",
      "    computing cross-spectral density for epochs 17..17\n",
      "    computing cross-spectral density for epochs 18..18\n",
      "    computing cross-spectral density for epochs 19..19\n",
      "    computing cross-spectral density for epochs 20..20\n",
      "    computing cross-spectral density for epochs 21..21\n"
     ]
    },
    {
     "name": "stderr",
     "output_type": "stream",
     "text": [
      "[Parallel(n_jobs=-1)]: Using backend LokyBackend with 8 concurrent workers.\n",
      "[Parallel(n_jobs=-1)]: Using backend LokyBackend with 8 concurrent workers.\n",
      "[Parallel(n_jobs=-1)]: Using backend LokyBackend with 8 concurrent workers.\n",
      "[Parallel(n_jobs=-1)]: Using backend LokyBackend with 8 concurrent workers.\n",
      "[Parallel(n_jobs=-1)]: Using backend LokyBackend with 8 concurrent workers.\n",
      "[Parallel(n_jobs=-1)]: Using backend LokyBackend with 8 concurrent workers.\n",
      "[Parallel(n_jobs=-1)]: Using backend LokyBackend with 8 concurrent workers.\n",
      "[Parallel(n_jobs=-1)]: Using backend LokyBackend with 8 concurrent workers.\n",
      "[Parallel(n_jobs=-1)]: Using backend LokyBackend with 8 concurrent workers.\n",
      "[Parallel(n_jobs=-1)]: Using backend LokyBackend with 8 concurrent workers.\n",
      "[Parallel(n_jobs=-1)]: Using backend LokyBackend with 8 concurrent workers.\n"
     ]
    },
    {
     "name": "stdout",
     "output_type": "stream",
     "text": [
      "    computing cross-spectral density for epochs 22..22\n",
      "    computing cross-spectral density for epochs 23..23\n",
      "    computing cross-spectral density for epochs 24..24\n",
      "    computing cross-spectral density for epochs 25..25\n",
      "    computing cross-spectral density for epochs 26..26\n",
      "    computing cross-spectral density for epochs 27..27\n",
      "    computing cross-spectral density for epochs 28..28\n",
      "    computing cross-spectral density for epochs 29..29\n",
      "    computing cross-spectral density for epochs 30..30\n",
      "    computing cross-spectral density for epochs 31..31\n"
     ]
    },
    {
     "name": "stderr",
     "output_type": "stream",
     "text": [
      "[Parallel(n_jobs=-1)]: Using backend LokyBackend with 8 concurrent workers.\n",
      "[Parallel(n_jobs=-1)]: Using backend LokyBackend with 8 concurrent workers.\n",
      "[Parallel(n_jobs=-1)]: Using backend LokyBackend with 8 concurrent workers.\n",
      "[Parallel(n_jobs=-1)]: Using backend LokyBackend with 8 concurrent workers.\n",
      "[Parallel(n_jobs=-1)]: Using backend LokyBackend with 8 concurrent workers.\n",
      "[Parallel(n_jobs=-1)]: Using backend LokyBackend with 8 concurrent workers.\n",
      "[Parallel(n_jobs=-1)]: Using backend LokyBackend with 8 concurrent workers.\n",
      "[Parallel(n_jobs=-1)]: Using backend LokyBackend with 8 concurrent workers.\n",
      "[Parallel(n_jobs=-1)]: Using backend LokyBackend with 8 concurrent workers.\n",
      "[Parallel(n_jobs=-1)]: Using backend LokyBackend with 8 concurrent workers.\n"
     ]
    },
    {
     "name": "stdout",
     "output_type": "stream",
     "text": [
      "    computing cross-spectral density for epochs 32..32\n",
      "    computing cross-spectral density for epochs 33..33\n",
      "    computing cross-spectral density for epochs 34..34\n",
      "    computing cross-spectral density for epochs 35..35\n",
      "    computing cross-spectral density for epochs 36..36\n",
      "    computing cross-spectral density for epochs 37..37\n",
      "    computing cross-spectral density for epochs 38..38\n",
      "    computing cross-spectral density for epochs 39..39\n",
      "    computing cross-spectral density for epochs 40..40\n",
      "    computing cross-spectral density for epochs 41..41\n"
     ]
    },
    {
     "name": "stderr",
     "output_type": "stream",
     "text": [
      "[Parallel(n_jobs=-1)]: Using backend LokyBackend with 8 concurrent workers.\n",
      "[Parallel(n_jobs=-1)]: Using backend LokyBackend with 8 concurrent workers.\n",
      "[Parallel(n_jobs=-1)]: Using backend LokyBackend with 8 concurrent workers.\n",
      "[Parallel(n_jobs=-1)]: Using backend LokyBackend with 8 concurrent workers.\n",
      "[Parallel(n_jobs=-1)]: Using backend LokyBackend with 8 concurrent workers.\n",
      "[Parallel(n_jobs=-1)]: Using backend LokyBackend with 8 concurrent workers.\n",
      "[Parallel(n_jobs=-1)]: Using backend LokyBackend with 8 concurrent workers.\n",
      "[Parallel(n_jobs=-1)]: Using backend LokyBackend with 8 concurrent workers.\n",
      "[Parallel(n_jobs=-1)]: Using backend LokyBackend with 8 concurrent workers.\n",
      "[Parallel(n_jobs=-1)]: Using backend LokyBackend with 8 concurrent workers.\n"
     ]
    },
    {
     "name": "stdout",
     "output_type": "stream",
     "text": [
      "    computing cross-spectral density for epochs 42..42\n",
      "    computing cross-spectral density for epochs 43..43\n",
      "    computing cross-spectral density for epochs 44..44\n",
      "    computing cross-spectral density for epochs 45..45\n",
      "    computing cross-spectral density for epochs 46..46\n",
      "    computing cross-spectral density for epochs 47..47\n",
      "    computing cross-spectral density for epochs 48..48\n",
      "    computing cross-spectral density for epochs 49..49\n",
      "    computing cross-spectral density for epochs 50..50\n",
      "    computing cross-spectral density for epochs 51..51\n"
     ]
    },
    {
     "name": "stderr",
     "output_type": "stream",
     "text": [
      "[Parallel(n_jobs=-1)]: Using backend LokyBackend with 8 concurrent workers.\n",
      "[Parallel(n_jobs=-1)]: Using backend LokyBackend with 8 concurrent workers.\n",
      "[Parallel(n_jobs=-1)]: Using backend LokyBackend with 8 concurrent workers.\n",
      "[Parallel(n_jobs=-1)]: Using backend LokyBackend with 8 concurrent workers.\n",
      "[Parallel(n_jobs=-1)]: Using backend LokyBackend with 8 concurrent workers.\n",
      "[Parallel(n_jobs=-1)]: Using backend LokyBackend with 8 concurrent workers.\n",
      "[Parallel(n_jobs=-1)]: Using backend LokyBackend with 8 concurrent workers.\n",
      "[Parallel(n_jobs=-1)]: Using backend LokyBackend with 8 concurrent workers.\n",
      "[Parallel(n_jobs=-1)]: Using backend LokyBackend with 8 concurrent workers.\n",
      "[Parallel(n_jobs=-1)]: Using backend LokyBackend with 8 concurrent workers.\n"
     ]
    },
    {
     "name": "stdout",
     "output_type": "stream",
     "text": [
      "    computing cross-spectral density for epochs 52..52\n",
      "    computing cross-spectral density for epochs 53..53\n",
      "    computing cross-spectral density for epochs 54..54\n",
      "    computing cross-spectral density for epochs 55..55\n",
      "    computing cross-spectral density for epochs 56..56\n",
      "    computing cross-spectral density for epochs 57..57\n",
      "    computing cross-spectral density for epochs 58..58\n",
      "    computing cross-spectral density for epochs 59..59\n",
      "    computing cross-spectral density for epochs 60..60\n",
      "    computing cross-spectral density for epochs 61..61\n",
      "    computing cross-spectral density for epochs 62..62\n"
     ]
    },
    {
     "name": "stderr",
     "output_type": "stream",
     "text": [
      "[Parallel(n_jobs=-1)]: Using backend LokyBackend with 8 concurrent workers.\n",
      "[Parallel(n_jobs=-1)]: Using backend LokyBackend with 8 concurrent workers.\n",
      "[Parallel(n_jobs=-1)]: Using backend LokyBackend with 8 concurrent workers.\n",
      "[Parallel(n_jobs=-1)]: Using backend LokyBackend with 8 concurrent workers.\n",
      "[Parallel(n_jobs=-1)]: Using backend LokyBackend with 8 concurrent workers.\n",
      "[Parallel(n_jobs=-1)]: Using backend LokyBackend with 8 concurrent workers.\n",
      "[Parallel(n_jobs=-1)]: Using backend LokyBackend with 8 concurrent workers.\n",
      "[Parallel(n_jobs=-1)]: Using backend LokyBackend with 8 concurrent workers.\n",
      "[Parallel(n_jobs=-1)]: Using backend LokyBackend with 8 concurrent workers.\n",
      "[Parallel(n_jobs=-1)]: Using backend LokyBackend with 8 concurrent workers.\n",
      "[Parallel(n_jobs=-1)]: Using backend LokyBackend with 8 concurrent workers.\n"
     ]
    },
    {
     "name": "stdout",
     "output_type": "stream",
     "text": [
      "    computing cross-spectral density for epochs 63..63\n",
      "    computing cross-spectral density for epochs 64..64\n",
      "    computing cross-spectral density for epochs 65..65\n",
      "    computing cross-spectral density for epochs 66..66\n",
      "    computing cross-spectral density for epochs 67..67\n",
      "    computing cross-spectral density for epochs 68..68\n",
      "    computing cross-spectral density for epochs 69..69\n",
      "    computing cross-spectral density for epochs 70..70\n",
      "    computing cross-spectral density for epochs 71..71\n",
      "    computing cross-spectral density for epochs 72..72\n"
     ]
    },
    {
     "name": "stderr",
     "output_type": "stream",
     "text": [
      "[Parallel(n_jobs=-1)]: Using backend LokyBackend with 8 concurrent workers.\n",
      "[Parallel(n_jobs=-1)]: Using backend LokyBackend with 8 concurrent workers.\n",
      "[Parallel(n_jobs=-1)]: Using backend LokyBackend with 8 concurrent workers.\n",
      "[Parallel(n_jobs=-1)]: Using backend LokyBackend with 8 concurrent workers.\n",
      "[Parallel(n_jobs=-1)]: Using backend LokyBackend with 8 concurrent workers.\n",
      "[Parallel(n_jobs=-1)]: Using backend LokyBackend with 8 concurrent workers.\n",
      "[Parallel(n_jobs=-1)]: Using backend LokyBackend with 8 concurrent workers.\n",
      "[Parallel(n_jobs=-1)]: Using backend LokyBackend with 8 concurrent workers.\n",
      "[Parallel(n_jobs=-1)]: Using backend LokyBackend with 8 concurrent workers.\n",
      "[Parallel(n_jobs=-1)]: Using backend LokyBackend with 8 concurrent workers.\n"
     ]
    },
    {
     "name": "stdout",
     "output_type": "stream",
     "text": [
      "    computing cross-spectral density for epochs 73..73\n",
      "    assembling connectivity matrix\n",
      "[Connectivity computation done]\n",
      "Connectivity computation...\n",
      "only using indices for lower-triangular matrix\n",
      "    computing connectivity for 66 connections\n",
      "    using t=0.000s..5.000s for estimation (2001 points)\n",
      "    frequencies: 30.2Hz..58.4Hz (142 points)\n",
      "    connectivity scores will be averaged for each band\n",
      "    Using multitaper spectrum estimation with 7 DPSS windows\n",
      "    the following metrics will be computed: DPLI\n",
      "    computing cross-spectral density for epochs 1..1\n",
      "    computing cross-spectral density for epochs 2..2\n",
      "    computing cross-spectral density for epochs 3..3\n",
      "    computing cross-spectral density for epochs 4..4\n",
      "    computing cross-spectral density for epochs 5..5\n",
      "    computing cross-spectral density for epochs 6..6\n",
      "    computing cross-spectral density for epochs 7..7\n",
      "    computing cross-spectral density for epochs 8..8\n",
      "    computing cross-spectral density for epochs 9..9\n",
      "    computing cross-spectral density for epochs 10..10\n"
     ]
    },
    {
     "name": "stderr",
     "output_type": "stream",
     "text": [
      "[Parallel(n_jobs=-1)]: Using backend LokyBackend with 8 concurrent workers.\n",
      "/home/wanglab/Documents/George Kenefati/Code/eeg_toolkit/eeg_toolkit/functional_connectivity.py:37: RuntimeWarning: There were no Annotations stored in <EpochsArray |  73 events (all good), 0 – 5 s, baseline off, ~13.4 MB, data loaded,\n",
      " '1': 73>, so metadata was not modified.\n",
      "  con = mne_connectivity.spectral_connectivity_epochs(\n",
      "[Parallel(n_jobs=-1)]: Using backend LokyBackend with 8 concurrent workers.\n",
      "[Parallel(n_jobs=-1)]: Using backend LokyBackend with 8 concurrent workers.\n",
      "[Parallel(n_jobs=-1)]: Using backend LokyBackend with 8 concurrent workers.\n",
      "[Parallel(n_jobs=-1)]: Using backend LokyBackend with 8 concurrent workers.\n",
      "[Parallel(n_jobs=-1)]: Using backend LokyBackend with 8 concurrent workers.\n",
      "[Parallel(n_jobs=-1)]: Using backend LokyBackend with 8 concurrent workers.\n",
      "[Parallel(n_jobs=-1)]: Using backend LokyBackend with 8 concurrent workers.\n",
      "[Parallel(n_jobs=-1)]: Using backend LokyBackend with 8 concurrent workers.\n",
      "[Parallel(n_jobs=-1)]: Using backend LokyBackend with 8 concurrent workers.\n",
      "[Parallel(n_jobs=-1)]: Using backend LokyBackend with 8 concurrent workers.\n"
     ]
    },
    {
     "name": "stdout",
     "output_type": "stream",
     "text": [
      "    computing cross-spectral density for epochs 11..11\n",
      "    computing cross-spectral density for epochs 12..12\n",
      "    computing cross-spectral density for epochs 13..13\n",
      "    computing cross-spectral density for epochs 14..14\n",
      "    computing cross-spectral density for epochs 15..15\n",
      "    computing cross-spectral density for epochs 16..16\n",
      "    computing cross-spectral density for epochs 17..17\n",
      "    computing cross-spectral density for epochs 18..18\n",
      "    computing cross-spectral density for epochs 19..19\n"
     ]
    },
    {
     "name": "stderr",
     "output_type": "stream",
     "text": [
      "[Parallel(n_jobs=-1)]: Using backend LokyBackend with 8 concurrent workers.\n",
      "[Parallel(n_jobs=-1)]: Using backend LokyBackend with 8 concurrent workers.\n",
      "[Parallel(n_jobs=-1)]: Using backend LokyBackend with 8 concurrent workers.\n",
      "[Parallel(n_jobs=-1)]: Using backend LokyBackend with 8 concurrent workers.\n",
      "[Parallel(n_jobs=-1)]: Using backend LokyBackend with 8 concurrent workers.\n",
      "[Parallel(n_jobs=-1)]: Using backend LokyBackend with 8 concurrent workers.\n",
      "[Parallel(n_jobs=-1)]: Using backend LokyBackend with 8 concurrent workers.\n",
      "[Parallel(n_jobs=-1)]: Using backend LokyBackend with 8 concurrent workers.\n",
      "[Parallel(n_jobs=-1)]: Using backend LokyBackend with 8 concurrent workers.\n"
     ]
    },
    {
     "name": "stdout",
     "output_type": "stream",
     "text": [
      "    computing cross-spectral density for epochs 20..20\n",
      "    computing cross-spectral density for epochs 21..21\n",
      "    computing cross-spectral density for epochs 22..22\n",
      "    computing cross-spectral density for epochs 23..23\n",
      "    computing cross-spectral density for epochs 24..24\n",
      "    computing cross-spectral density for epochs 25..25\n",
      "    computing cross-spectral density for epochs 26..26\n",
      "    computing cross-spectral density for epochs 27..27\n",
      "    computing cross-spectral density for epochs 28..28\n"
     ]
    },
    {
     "name": "stderr",
     "output_type": "stream",
     "text": [
      "[Parallel(n_jobs=-1)]: Using backend LokyBackend with 8 concurrent workers.\n",
      "[Parallel(n_jobs=-1)]: Using backend LokyBackend with 8 concurrent workers.\n",
      "[Parallel(n_jobs=-1)]: Using backend LokyBackend with 8 concurrent workers.\n",
      "[Parallel(n_jobs=-1)]: Using backend LokyBackend with 8 concurrent workers.\n",
      "[Parallel(n_jobs=-1)]: Using backend LokyBackend with 8 concurrent workers.\n",
      "[Parallel(n_jobs=-1)]: Using backend LokyBackend with 8 concurrent workers.\n",
      "[Parallel(n_jobs=-1)]: Using backend LokyBackend with 8 concurrent workers.\n",
      "[Parallel(n_jobs=-1)]: Using backend LokyBackend with 8 concurrent workers.\n",
      "[Parallel(n_jobs=-1)]: Using backend LokyBackend with 8 concurrent workers.\n"
     ]
    },
    {
     "name": "stdout",
     "output_type": "stream",
     "text": [
      "    computing cross-spectral density for epochs 29..29\n",
      "    computing cross-spectral density for epochs 30..30\n",
      "    computing cross-spectral density for epochs 31..31\n",
      "    computing cross-spectral density for epochs 32..32\n",
      "    computing cross-spectral density for epochs 33..33\n",
      "    computing cross-spectral density for epochs 34..34\n",
      "    computing cross-spectral density for epochs 35..35\n",
      "    computing cross-spectral density for epochs 36..36\n",
      "    computing cross-spectral density for epochs 37..37\n"
     ]
    },
    {
     "name": "stderr",
     "output_type": "stream",
     "text": [
      "[Parallel(n_jobs=-1)]: Using backend LokyBackend with 8 concurrent workers.\n",
      "[Parallel(n_jobs=-1)]: Using backend LokyBackend with 8 concurrent workers.\n",
      "[Parallel(n_jobs=-1)]: Using backend LokyBackend with 8 concurrent workers.\n",
      "[Parallel(n_jobs=-1)]: Using backend LokyBackend with 8 concurrent workers.\n",
      "[Parallel(n_jobs=-1)]: Using backend LokyBackend with 8 concurrent workers.\n",
      "[Parallel(n_jobs=-1)]: Using backend LokyBackend with 8 concurrent workers.\n",
      "[Parallel(n_jobs=-1)]: Using backend LokyBackend with 8 concurrent workers.\n",
      "[Parallel(n_jobs=-1)]: Using backend LokyBackend with 8 concurrent workers.\n",
      "[Parallel(n_jobs=-1)]: Using backend LokyBackend with 8 concurrent workers.\n"
     ]
    },
    {
     "name": "stdout",
     "output_type": "stream",
     "text": [
      "    computing cross-spectral density for epochs 38..38\n",
      "    computing cross-spectral density for epochs 39..39\n",
      "    computing cross-spectral density for epochs 40..40\n",
      "    computing cross-spectral density for epochs 41..41\n",
      "    computing cross-spectral density for epochs 42..42\n",
      "    computing cross-spectral density for epochs 43..43\n",
      "    computing cross-spectral density for epochs 44..44\n",
      "    computing cross-spectral density for epochs 45..45\n",
      "    computing cross-spectral density for epochs 46..46\n",
      "    computing cross-spectral density for epochs 47..47\n",
      "    computing cross-spectral density for epochs 48..48\n"
     ]
    },
    {
     "name": "stderr",
     "output_type": "stream",
     "text": [
      "[Parallel(n_jobs=-1)]: Using backend LokyBackend with 8 concurrent workers.\n",
      "[Parallel(n_jobs=-1)]: Using backend LokyBackend with 8 concurrent workers.\n",
      "[Parallel(n_jobs=-1)]: Using backend LokyBackend with 8 concurrent workers.\n",
      "[Parallel(n_jobs=-1)]: Using backend LokyBackend with 8 concurrent workers.\n",
      "[Parallel(n_jobs=-1)]: Using backend LokyBackend with 8 concurrent workers.\n",
      "[Parallel(n_jobs=-1)]: Using backend LokyBackend with 8 concurrent workers.\n",
      "[Parallel(n_jobs=-1)]: Using backend LokyBackend with 8 concurrent workers.\n",
      "[Parallel(n_jobs=-1)]: Using backend LokyBackend with 8 concurrent workers.\n",
      "[Parallel(n_jobs=-1)]: Using backend LokyBackend with 8 concurrent workers.\n",
      "[Parallel(n_jobs=-1)]: Using backend LokyBackend with 8 concurrent workers.\n",
      "[Parallel(n_jobs=-1)]: Using backend LokyBackend with 8 concurrent workers.\n"
     ]
    },
    {
     "name": "stdout",
     "output_type": "stream",
     "text": [
      "    computing cross-spectral density for epochs 49..49\n",
      "    computing cross-spectral density for epochs 50..50\n",
      "    computing cross-spectral density for epochs 51..51\n",
      "    computing cross-spectral density for epochs 52..52\n",
      "    computing cross-spectral density for epochs 53..53\n",
      "    computing cross-spectral density for epochs 54..54\n",
      "    computing cross-spectral density for epochs 55..55\n",
      "    computing cross-spectral density for epochs 56..56\n",
      "    computing cross-spectral density for epochs 57..57\n",
      "    computing cross-spectral density for epochs 58..58\n"
     ]
    },
    {
     "name": "stderr",
     "output_type": "stream",
     "text": [
      "[Parallel(n_jobs=-1)]: Using backend LokyBackend with 8 concurrent workers.\n",
      "[Parallel(n_jobs=-1)]: Using backend LokyBackend with 8 concurrent workers.\n",
      "[Parallel(n_jobs=-1)]: Using backend LokyBackend with 8 concurrent workers.\n",
      "[Parallel(n_jobs=-1)]: Using backend LokyBackend with 8 concurrent workers.\n",
      "[Parallel(n_jobs=-1)]: Using backend LokyBackend with 8 concurrent workers.\n",
      "[Parallel(n_jobs=-1)]: Using backend LokyBackend with 8 concurrent workers.\n",
      "[Parallel(n_jobs=-1)]: Using backend LokyBackend with 8 concurrent workers.\n",
      "[Parallel(n_jobs=-1)]: Using backend LokyBackend with 8 concurrent workers.\n",
      "[Parallel(n_jobs=-1)]: Using backend LokyBackend with 8 concurrent workers.\n",
      "[Parallel(n_jobs=-1)]: Using backend LokyBackend with 8 concurrent workers.\n"
     ]
    },
    {
     "name": "stdout",
     "output_type": "stream",
     "text": [
      "    computing cross-spectral density for epochs 59..59\n",
      "    computing cross-spectral density for epochs 60..60\n",
      "    computing cross-spectral density for epochs 61..61\n",
      "    computing cross-spectral density for epochs 62..62\n",
      "    computing cross-spectral density for epochs 63..63\n",
      "    computing cross-spectral density for epochs 64..64\n",
      "    computing cross-spectral density for epochs 65..65\n",
      "    computing cross-spectral density for epochs 66..66\n",
      "    computing cross-spectral density for epochs 67..67\n",
      "    computing cross-spectral density for epochs 68..68\n",
      "    computing cross-spectral density for epochs 69..69\n",
      "    computing cross-spectral density for epochs 70..70\n",
      "    computing cross-spectral density for epochs 71..71\n"
     ]
    },
    {
     "name": "stderr",
     "output_type": "stream",
     "text": [
      "[Parallel(n_jobs=-1)]: Using backend LokyBackend with 8 concurrent workers.\n",
      "[Parallel(n_jobs=-1)]: Using backend LokyBackend with 8 concurrent workers.\n",
      "[Parallel(n_jobs=-1)]: Using backend LokyBackend with 8 concurrent workers.\n",
      "[Parallel(n_jobs=-1)]: Using backend LokyBackend with 8 concurrent workers.\n",
      "[Parallel(n_jobs=-1)]: Using backend LokyBackend with 8 concurrent workers.\n",
      "[Parallel(n_jobs=-1)]: Using backend LokyBackend with 8 concurrent workers.\n",
      "[Parallel(n_jobs=-1)]: Using backend LokyBackend with 8 concurrent workers.\n",
      "[Parallel(n_jobs=-1)]: Using backend LokyBackend with 8 concurrent workers.\n",
      "[Parallel(n_jobs=-1)]: Using backend LokyBackend with 8 concurrent workers.\n",
      "[Parallel(n_jobs=-1)]: Using backend LokyBackend with 8 concurrent workers.\n",
      "[Parallel(n_jobs=-1)]: Using backend LokyBackend with 8 concurrent workers.\n",
      "[Parallel(n_jobs=-1)]: Using backend LokyBackend with 8 concurrent workers.\n",
      "[Parallel(n_jobs=-1)]: Using backend LokyBackend with 8 concurrent workers.\n"
     ]
    },
    {
     "name": "stdout",
     "output_type": "stream",
     "text": [
      "    computing cross-spectral density for epochs 72..72\n",
      "    computing cross-spectral density for epochs 73..73\n",
      "    assembling connectivity matrix\n",
      "[Connectivity computation done]\n",
      "Connectivity computation...\n",
      "only using indices for lower-triangular matrix\n",
      "    computing connectivity for 66 connections\n",
      "    using t=0.000s..5.000s for estimation (2001 points)\n",
      "    frequencies: 30.2Hz..58.4Hz (142 points)\n",
      "    connectivity scores will be averaged for each band\n",
      "    Using multitaper spectrum estimation with 7 DPSS windows\n",
      "    the following metrics will be computed: PLV\n",
      "    computing cross-spectral density for epochs 1..1\n",
      "    computing cross-spectral density for epochs 2..2\n",
      "    computing cross-spectral density for epochs 3..3\n",
      "    computing cross-spectral density for epochs 4..4\n",
      "    computing cross-spectral density for epochs 5..5\n",
      "    computing cross-spectral density for epochs 6..6\n",
      "    computing cross-spectral density for epochs 7..7\n",
      "    computing cross-spectral density for epochs 8..8\n"
     ]
    },
    {
     "name": "stderr",
     "output_type": "stream",
     "text": [
      "[Parallel(n_jobs=-1)]: Using backend LokyBackend with 8 concurrent workers.\n",
      "[Parallel(n_jobs=-1)]: Using backend LokyBackend with 8 concurrent workers.\n",
      "/home/wanglab/Documents/George Kenefati/Code/eeg_toolkit/eeg_toolkit/functional_connectivity.py:37: RuntimeWarning: There were no Annotations stored in <EpochsArray |  73 events (all good), 0 – 5 s, baseline off, ~13.4 MB, data loaded,\n",
      " '1': 73>, so metadata was not modified.\n",
      "  con = mne_connectivity.spectral_connectivity_epochs(\n",
      "[Parallel(n_jobs=-1)]: Using backend LokyBackend with 8 concurrent workers.\n",
      "[Parallel(n_jobs=-1)]: Using backend LokyBackend with 8 concurrent workers.\n",
      "[Parallel(n_jobs=-1)]: Using backend LokyBackend with 8 concurrent workers.\n",
      "[Parallel(n_jobs=-1)]: Using backend LokyBackend with 8 concurrent workers.\n",
      "[Parallel(n_jobs=-1)]: Using backend LokyBackend with 8 concurrent workers.\n",
      "[Parallel(n_jobs=-1)]: Using backend LokyBackend with 8 concurrent workers.\n",
      "[Parallel(n_jobs=-1)]: Using backend LokyBackend with 8 concurrent workers.\n",
      "[Parallel(n_jobs=-1)]: Using backend LokyBackend with 8 concurrent workers.\n"
     ]
    },
    {
     "name": "stdout",
     "output_type": "stream",
     "text": [
      "    computing cross-spectral density for epochs 9..9\n",
      "    computing cross-spectral density for epochs 10..10\n",
      "    computing cross-spectral density for epochs 11..11\n",
      "    computing cross-spectral density for epochs 12..12\n",
      "    computing cross-spectral density for epochs 13..13\n",
      "    computing cross-spectral density for epochs 14..14\n",
      "    computing cross-spectral density for epochs 15..15\n",
      "    computing cross-spectral density for epochs 16..16\n",
      "    computing cross-spectral density for epochs 17..17\n",
      "    computing cross-spectral density for epochs 18..18\n"
     ]
    },
    {
     "name": "stderr",
     "output_type": "stream",
     "text": [
      "[Parallel(n_jobs=-1)]: Using backend LokyBackend with 8 concurrent workers.\n",
      "[Parallel(n_jobs=-1)]: Using backend LokyBackend with 8 concurrent workers.\n",
      "[Parallel(n_jobs=-1)]: Using backend LokyBackend with 8 concurrent workers.\n",
      "[Parallel(n_jobs=-1)]: Using backend LokyBackend with 8 concurrent workers.\n",
      "[Parallel(n_jobs=-1)]: Using backend LokyBackend with 8 concurrent workers.\n",
      "[Parallel(n_jobs=-1)]: Using backend LokyBackend with 8 concurrent workers.\n",
      "[Parallel(n_jobs=-1)]: Using backend LokyBackend with 8 concurrent workers.\n",
      "[Parallel(n_jobs=-1)]: Using backend LokyBackend with 8 concurrent workers.\n",
      "[Parallel(n_jobs=-1)]: Using backend LokyBackend with 8 concurrent workers.\n",
      "[Parallel(n_jobs=-1)]: Using backend LokyBackend with 8 concurrent workers.\n"
     ]
    },
    {
     "name": "stdout",
     "output_type": "stream",
     "text": [
      "    computing cross-spectral density for epochs 19..19\n",
      "    computing cross-spectral density for epochs 20..20\n",
      "    computing cross-spectral density for epochs 21..21\n",
      "    computing cross-spectral density for epochs 22..22\n",
      "    computing cross-spectral density for epochs 23..23\n",
      "    computing cross-spectral density for epochs 24..24\n",
      "    computing cross-spectral density for epochs 25..25\n",
      "    computing cross-spectral density for epochs 26..26\n",
      "    computing cross-spectral density for epochs 27..27\n"
     ]
    },
    {
     "name": "stderr",
     "output_type": "stream",
     "text": [
      "[Parallel(n_jobs=-1)]: Using backend LokyBackend with 8 concurrent workers.\n",
      "[Parallel(n_jobs=-1)]: Using backend LokyBackend with 8 concurrent workers.\n",
      "[Parallel(n_jobs=-1)]: Using backend LokyBackend with 8 concurrent workers.\n",
      "[Parallel(n_jobs=-1)]: Using backend LokyBackend with 8 concurrent workers.\n",
      "[Parallel(n_jobs=-1)]: Using backend LokyBackend with 8 concurrent workers.\n",
      "[Parallel(n_jobs=-1)]: Using backend LokyBackend with 8 concurrent workers.\n",
      "[Parallel(n_jobs=-1)]: Using backend LokyBackend with 8 concurrent workers.\n",
      "[Parallel(n_jobs=-1)]: Using backend LokyBackend with 8 concurrent workers.\n",
      "[Parallel(n_jobs=-1)]: Using backend LokyBackend with 8 concurrent workers.\n"
     ]
    },
    {
     "name": "stdout",
     "output_type": "stream",
     "text": [
      "    computing cross-spectral density for epochs 28..28\n",
      "    computing cross-spectral density for epochs 29..29\n",
      "    computing cross-spectral density for epochs 30..30\n",
      "    computing cross-spectral density for epochs 31..31\n",
      "    computing cross-spectral density for epochs 32..32\n",
      "    computing cross-spectral density for epochs 33..33\n",
      "    computing cross-spectral density for epochs 34..34\n",
      "    computing cross-spectral density for epochs 35..35\n",
      "    computing cross-spectral density for epochs 36..36\n",
      "    computing cross-spectral density for epochs 37..37\n"
     ]
    },
    {
     "name": "stderr",
     "output_type": "stream",
     "text": [
      "[Parallel(n_jobs=-1)]: Using backend LokyBackend with 8 concurrent workers.\n",
      "[Parallel(n_jobs=-1)]: Using backend LokyBackend with 8 concurrent workers.\n",
      "[Parallel(n_jobs=-1)]: Using backend LokyBackend with 8 concurrent workers.\n",
      "[Parallel(n_jobs=-1)]: Using backend LokyBackend with 8 concurrent workers.\n",
      "[Parallel(n_jobs=-1)]: Using backend LokyBackend with 8 concurrent workers.\n",
      "[Parallel(n_jobs=-1)]: Using backend LokyBackend with 8 concurrent workers.\n",
      "[Parallel(n_jobs=-1)]: Using backend LokyBackend with 8 concurrent workers.\n",
      "[Parallel(n_jobs=-1)]: Using backend LokyBackend with 8 concurrent workers.\n",
      "[Parallel(n_jobs=-1)]: Using backend LokyBackend with 8 concurrent workers.\n",
      "[Parallel(n_jobs=-1)]: Using backend LokyBackend with 8 concurrent workers.\n"
     ]
    },
    {
     "name": "stdout",
     "output_type": "stream",
     "text": [
      "    computing cross-spectral density for epochs 38..38\n",
      "    computing cross-spectral density for epochs 39..39\n",
      "    computing cross-spectral density for epochs 40..40\n",
      "    computing cross-spectral density for epochs 41..41\n",
      "    computing cross-spectral density for epochs 42..42\n",
      "    computing cross-spectral density for epochs 43..43\n",
      "    computing cross-spectral density for epochs 44..44\n",
      "    computing cross-spectral density for epochs 45..45\n",
      "    computing cross-spectral density for epochs 46..46\n",
      "    computing cross-spectral density for epochs 47..47\n"
     ]
    },
    {
     "name": "stderr",
     "output_type": "stream",
     "text": [
      "[Parallel(n_jobs=-1)]: Using backend LokyBackend with 8 concurrent workers.\n",
      "[Parallel(n_jobs=-1)]: Using backend LokyBackend with 8 concurrent workers.\n",
      "[Parallel(n_jobs=-1)]: Using backend LokyBackend with 8 concurrent workers.\n",
      "[Parallel(n_jobs=-1)]: Using backend LokyBackend with 8 concurrent workers.\n",
      "[Parallel(n_jobs=-1)]: Using backend LokyBackend with 8 concurrent workers.\n",
      "[Parallel(n_jobs=-1)]: Using backend LokyBackend with 8 concurrent workers.\n",
      "[Parallel(n_jobs=-1)]: Using backend LokyBackend with 8 concurrent workers.\n",
      "[Parallel(n_jobs=-1)]: Using backend LokyBackend with 8 concurrent workers.\n",
      "[Parallel(n_jobs=-1)]: Using backend LokyBackend with 8 concurrent workers.\n",
      "[Parallel(n_jobs=-1)]: Using backend LokyBackend with 8 concurrent workers.\n"
     ]
    },
    {
     "name": "stdout",
     "output_type": "stream",
     "text": [
      "    computing cross-spectral density for epochs 48..48\n",
      "    computing cross-spectral density for epochs 49..49\n",
      "    computing cross-spectral density for epochs 50..50\n",
      "    computing cross-spectral density for epochs 51..51\n",
      "    computing cross-spectral density for epochs 52..52\n",
      "    computing cross-spectral density for epochs 53..53\n",
      "    computing cross-spectral density for epochs 54..54\n",
      "    computing cross-spectral density for epochs 55..55\n",
      "    computing cross-spectral density for epochs 56..56\n"
     ]
    },
    {
     "name": "stderr",
     "output_type": "stream",
     "text": [
      "[Parallel(n_jobs=-1)]: Using backend LokyBackend with 8 concurrent workers.\n",
      "[Parallel(n_jobs=-1)]: Using backend LokyBackend with 8 concurrent workers.\n",
      "[Parallel(n_jobs=-1)]: Using backend LokyBackend with 8 concurrent workers.\n",
      "[Parallel(n_jobs=-1)]: Using backend LokyBackend with 8 concurrent workers.\n",
      "[Parallel(n_jobs=-1)]: Using backend LokyBackend with 8 concurrent workers.\n",
      "[Parallel(n_jobs=-1)]: Using backend LokyBackend with 8 concurrent workers.\n",
      "[Parallel(n_jobs=-1)]: Using backend LokyBackend with 8 concurrent workers.\n",
      "[Parallel(n_jobs=-1)]: Using backend LokyBackend with 8 concurrent workers.\n",
      "[Parallel(n_jobs=-1)]: Using backend LokyBackend with 8 concurrent workers.\n"
     ]
    },
    {
     "name": "stdout",
     "output_type": "stream",
     "text": [
      "    computing cross-spectral density for epochs 57..57\n",
      "    computing cross-spectral density for epochs 58..58\n",
      "    computing cross-spectral density for epochs 59..59\n",
      "    computing cross-spectral density for epochs 60..60\n",
      "    computing cross-spectral density for epochs 61..61\n",
      "    computing cross-spectral density for epochs 62..62\n",
      "    computing cross-spectral density for epochs 63..63\n",
      "    computing cross-spectral density for epochs 64..64\n",
      "    computing cross-spectral density for epochs 65..65\n"
     ]
    },
    {
     "name": "stderr",
     "output_type": "stream",
     "text": [
      "[Parallel(n_jobs=-1)]: Using backend LokyBackend with 8 concurrent workers.\n",
      "[Parallel(n_jobs=-1)]: Using backend LokyBackend with 8 concurrent workers.\n",
      "[Parallel(n_jobs=-1)]: Using backend LokyBackend with 8 concurrent workers.\n",
      "[Parallel(n_jobs=-1)]: Using backend LokyBackend with 8 concurrent workers.\n",
      "[Parallel(n_jobs=-1)]: Using backend LokyBackend with 8 concurrent workers.\n",
      "[Parallel(n_jobs=-1)]: Using backend LokyBackend with 8 concurrent workers.\n",
      "[Parallel(n_jobs=-1)]: Using backend LokyBackend with 8 concurrent workers.\n",
      "[Parallel(n_jobs=-1)]: Using backend LokyBackend with 8 concurrent workers.\n",
      "[Parallel(n_jobs=-1)]: Using backend LokyBackend with 8 concurrent workers.\n"
     ]
    },
    {
     "name": "stdout",
     "output_type": "stream",
     "text": [
      "    computing cross-spectral density for epochs 66..66\n",
      "    computing cross-spectral density for epochs 67..67\n",
      "    computing cross-spectral density for epochs 68..68\n",
      "    computing cross-spectral density for epochs 69..69\n",
      "    computing cross-spectral density for epochs 70..70\n",
      "    computing cross-spectral density for epochs 71..71\n",
      "    computing cross-spectral density for epochs 72..72\n",
      "    computing cross-spectral density for epochs 73..73\n",
      "    assembling connectivity matrix\n",
      "[Connectivity computation done]\n",
      "Connectivity computation...\n",
      "only using indices for lower-triangular matrix\n",
      "    computing connectivity for 66 connections\n",
      "    using t=0.000s..5.000s for estimation (2001 points)\n",
      "    frequencies: 58.6Hz..61.4Hz (15 points)\n",
      "    connectivity scores will be averaged for each band\n"
     ]
    },
    {
     "name": "stderr",
     "output_type": "stream",
     "text": [
      "[Parallel(n_jobs=-1)]: Using backend LokyBackend with 8 concurrent workers.\n",
      "[Parallel(n_jobs=-1)]: Using backend LokyBackend with 8 concurrent workers.\n",
      "[Parallel(n_jobs=-1)]: Using backend LokyBackend with 8 concurrent workers.\n",
      "[Parallel(n_jobs=-1)]: Using backend LokyBackend with 8 concurrent workers.\n",
      "[Parallel(n_jobs=-1)]: Using backend LokyBackend with 8 concurrent workers.\n",
      "[Parallel(n_jobs=-1)]: Using backend LokyBackend with 8 concurrent workers.\n",
      "[Parallel(n_jobs=-1)]: Using backend LokyBackend with 8 concurrent workers.\n",
      "[Parallel(n_jobs=-1)]: Using backend LokyBackend with 8 concurrent workers.\n",
      "/home/wanglab/Documents/George Kenefati/Code/eeg_toolkit/eeg_toolkit/functional_connectivity.py:37: RuntimeWarning: There were no Annotations stored in <EpochsArray |  73 events (all good), 0 – 5 s, baseline off, ~13.4 MB, data loaded,\n",
      " '1': 73>, so metadata was not modified.\n",
      "  con = mne_connectivity.spectral_connectivity_epochs(\n"
     ]
    },
    {
     "name": "stdout",
     "output_type": "stream",
     "text": [
      "    Using multitaper spectrum estimation with 7 DPSS windows\n",
      "    the following metrics will be computed: WPLI\n",
      "    computing cross-spectral density for epochs 1..1\n",
      "    computing cross-spectral density for epochs 2..2\n",
      "    computing cross-spectral density for epochs 3..3\n",
      "    computing cross-spectral density for epochs 4..4\n",
      "    computing cross-spectral density for epochs 5..5\n",
      "    computing cross-spectral density for epochs 6..6\n",
      "    computing cross-spectral density for epochs 7..7\n",
      "    computing cross-spectral density for epochs 8..8\n",
      "    computing cross-spectral density for epochs 9..9\n",
      "    computing cross-spectral density for epochs 10..10\n",
      "    computing cross-spectral density for epochs 11..11\n",
      "    computing cross-spectral density for epochs 12..12\n",
      "    computing cross-spectral density for epochs 13..13\n",
      "    computing cross-spectral density for epochs 14..14\n"
     ]
    },
    {
     "name": "stderr",
     "output_type": "stream",
     "text": [
      "[Parallel(n_jobs=-1)]: Using backend LokyBackend with 8 concurrent workers.\n",
      "[Parallel(n_jobs=-1)]: Using backend LokyBackend with 8 concurrent workers.\n",
      "[Parallel(n_jobs=-1)]: Using backend LokyBackend with 8 concurrent workers.\n",
      "[Parallel(n_jobs=-1)]: Using backend LokyBackend with 8 concurrent workers.\n",
      "[Parallel(n_jobs=-1)]: Using backend LokyBackend with 8 concurrent workers.\n",
      "[Parallel(n_jobs=-1)]: Using backend LokyBackend with 8 concurrent workers.\n",
      "[Parallel(n_jobs=-1)]: Using backend LokyBackend with 8 concurrent workers.\n",
      "[Parallel(n_jobs=-1)]: Using backend LokyBackend with 8 concurrent workers.\n",
      "[Parallel(n_jobs=-1)]: Using backend LokyBackend with 8 concurrent workers.\n",
      "[Parallel(n_jobs=-1)]: Using backend LokyBackend with 8 concurrent workers.\n",
      "[Parallel(n_jobs=-1)]: Using backend LokyBackend with 8 concurrent workers.\n",
      "[Parallel(n_jobs=-1)]: Using backend LokyBackend with 8 concurrent workers.\n",
      "[Parallel(n_jobs=-1)]: Using backend LokyBackend with 8 concurrent workers.\n",
      "[Parallel(n_jobs=-1)]: Using backend LokyBackend with 8 concurrent workers.\n"
     ]
    },
    {
     "name": "stdout",
     "output_type": "stream",
     "text": [
      "    computing cross-spectral density for epochs 15..15\n",
      "    computing cross-spectral density for epochs 16..16\n",
      "    computing cross-spectral density for epochs 17..17\n",
      "    computing cross-spectral density for epochs 18..18\n",
      "    computing cross-spectral density for epochs 19..19\n",
      "    computing cross-spectral density for epochs 20..20\n",
      "    computing cross-spectral density for epochs 21..21\n",
      "    computing cross-spectral density for epochs 22..22\n",
      "    computing cross-spectral density for epochs 23..23\n",
      "    computing cross-spectral density for epochs 24..24\n",
      "    computing cross-spectral density for epochs 25..25\n",
      "    computing cross-spectral density for epochs 26..26\n",
      "    computing cross-spectral density for epochs 27..27\n",
      "    computing cross-spectral density for epochs 28..28\n",
      "    computing cross-spectral density for epochs 29..29\n",
      "    computing cross-spectral density for epochs 30..30\n"
     ]
    },
    {
     "name": "stderr",
     "output_type": "stream",
     "text": [
      "[Parallel(n_jobs=-1)]: Using backend LokyBackend with 8 concurrent workers.\n",
      "[Parallel(n_jobs=-1)]: Using backend LokyBackend with 8 concurrent workers.\n",
      "[Parallel(n_jobs=-1)]: Using backend LokyBackend with 8 concurrent workers.\n",
      "[Parallel(n_jobs=-1)]: Using backend LokyBackend with 8 concurrent workers.\n",
      "[Parallel(n_jobs=-1)]: Using backend LokyBackend with 8 concurrent workers.\n",
      "[Parallel(n_jobs=-1)]: Using backend LokyBackend with 8 concurrent workers.\n",
      "[Parallel(n_jobs=-1)]: Using backend LokyBackend with 8 concurrent workers.\n",
      "[Parallel(n_jobs=-1)]: Using backend LokyBackend with 8 concurrent workers.\n",
      "[Parallel(n_jobs=-1)]: Using backend LokyBackend with 8 concurrent workers.\n",
      "[Parallel(n_jobs=-1)]: Using backend LokyBackend with 8 concurrent workers.\n",
      "[Parallel(n_jobs=-1)]: Using backend LokyBackend with 8 concurrent workers.\n",
      "[Parallel(n_jobs=-1)]: Using backend LokyBackend with 8 concurrent workers.\n",
      "[Parallel(n_jobs=-1)]: Using backend LokyBackend with 8 concurrent workers.\n",
      "[Parallel(n_jobs=-1)]: Using backend LokyBackend with 8 concurrent workers.\n",
      "[Parallel(n_jobs=-1)]: Using backend LokyBackend with 8 concurrent workers.\n",
      "[Parallel(n_jobs=-1)]: Using backend LokyBackend with 8 concurrent workers.\n"
     ]
    },
    {
     "name": "stdout",
     "output_type": "stream",
     "text": [
      "    computing cross-spectral density for epochs 31..31\n",
      "    computing cross-spectral density for epochs 32..32\n",
      "    computing cross-spectral density for epochs 33..33\n",
      "    computing cross-spectral density for epochs 34..34\n",
      "    computing cross-spectral density for epochs 35..35\n",
      "    computing cross-spectral density for epochs 36..36\n",
      "    computing cross-spectral density for epochs 37..37\n",
      "    computing cross-spectral density for epochs 38..38\n",
      "    computing cross-spectral density for epochs 39..39\n",
      "    computing cross-spectral density for epochs 40..40\n",
      "    computing cross-spectral density for epochs 41..41\n",
      "    computing cross-spectral density for epochs 42..42\n",
      "    computing cross-spectral density for epochs 43..43\n",
      "    computing cross-spectral density for epochs 44..44\n",
      "    computing cross-spectral density for epochs 45..45\n",
      "    computing cross-spectral density for epochs 46..46\n"
     ]
    },
    {
     "name": "stderr",
     "output_type": "stream",
     "text": [
      "[Parallel(n_jobs=-1)]: Using backend LokyBackend with 8 concurrent workers.\n",
      "[Parallel(n_jobs=-1)]: Using backend LokyBackend with 8 concurrent workers.\n",
      "[Parallel(n_jobs=-1)]: Using backend LokyBackend with 8 concurrent workers.\n",
      "[Parallel(n_jobs=-1)]: Using backend LokyBackend with 8 concurrent workers.\n",
      "[Parallel(n_jobs=-1)]: Using backend LokyBackend with 8 concurrent workers.\n",
      "[Parallel(n_jobs=-1)]: Using backend LokyBackend with 8 concurrent workers.\n",
      "[Parallel(n_jobs=-1)]: Using backend LokyBackend with 8 concurrent workers.\n",
      "[Parallel(n_jobs=-1)]: Using backend LokyBackend with 8 concurrent workers.\n",
      "[Parallel(n_jobs=-1)]: Using backend LokyBackend with 8 concurrent workers.\n",
      "[Parallel(n_jobs=-1)]: Using backend LokyBackend with 8 concurrent workers.\n",
      "[Parallel(n_jobs=-1)]: Using backend LokyBackend with 8 concurrent workers.\n",
      "[Parallel(n_jobs=-1)]: Using backend LokyBackend with 8 concurrent workers.\n",
      "[Parallel(n_jobs=-1)]: Using backend LokyBackend with 8 concurrent workers.\n",
      "[Parallel(n_jobs=-1)]: Using backend LokyBackend with 8 concurrent workers.\n",
      "[Parallel(n_jobs=-1)]: Using backend LokyBackend with 8 concurrent workers.\n",
      "[Parallel(n_jobs=-1)]: Using backend LokyBackend with 8 concurrent workers.\n"
     ]
    },
    {
     "name": "stdout",
     "output_type": "stream",
     "text": [
      "    computing cross-spectral density for epochs 47..47\n",
      "    computing cross-spectral density for epochs 48..48\n",
      "    computing cross-spectral density for epochs 49..49\n",
      "    computing cross-spectral density for epochs 50..50\n",
      "    computing cross-spectral density for epochs 51..51\n",
      "    computing cross-spectral density for epochs 52..52\n",
      "    computing cross-spectral density for epochs 53..53\n",
      "    computing cross-spectral density for epochs 54..54\n",
      "    computing cross-spectral density for epochs 55..55\n",
      "    computing cross-spectral density for epochs 56..56\n",
      "    computing cross-spectral density for epochs 57..57\n",
      "    computing cross-spectral density for epochs 58..58\n",
      "    computing cross-spectral density for epochs 59..59\n",
      "    computing cross-spectral density for epochs 60..60\n",
      "    computing cross-spectral density for epochs 61..61\n",
      "    computing cross-spectral density for epochs 62..62\n"
     ]
    },
    {
     "name": "stderr",
     "output_type": "stream",
     "text": [
      "[Parallel(n_jobs=-1)]: Using backend LokyBackend with 8 concurrent workers.\n",
      "[Parallel(n_jobs=-1)]: Using backend LokyBackend with 8 concurrent workers.\n",
      "[Parallel(n_jobs=-1)]: Using backend LokyBackend with 8 concurrent workers.\n",
      "[Parallel(n_jobs=-1)]: Using backend LokyBackend with 8 concurrent workers.\n",
      "[Parallel(n_jobs=-1)]: Using backend LokyBackend with 8 concurrent workers.\n",
      "[Parallel(n_jobs=-1)]: Using backend LokyBackend with 8 concurrent workers.\n",
      "[Parallel(n_jobs=-1)]: Using backend LokyBackend with 8 concurrent workers.\n",
      "[Parallel(n_jobs=-1)]: Using backend LokyBackend with 8 concurrent workers.\n",
      "[Parallel(n_jobs=-1)]: Using backend LokyBackend with 8 concurrent workers.\n",
      "[Parallel(n_jobs=-1)]: Using backend LokyBackend with 8 concurrent workers.\n",
      "[Parallel(n_jobs=-1)]: Using backend LokyBackend with 8 concurrent workers.\n",
      "[Parallel(n_jobs=-1)]: Using backend LokyBackend with 8 concurrent workers.\n",
      "[Parallel(n_jobs=-1)]: Using backend LokyBackend with 8 concurrent workers.\n",
      "[Parallel(n_jobs=-1)]: Using backend LokyBackend with 8 concurrent workers.\n",
      "[Parallel(n_jobs=-1)]: Using backend LokyBackend with 8 concurrent workers.\n",
      "[Parallel(n_jobs=-1)]: Using backend LokyBackend with 8 concurrent workers.\n"
     ]
    },
    {
     "name": "stdout",
     "output_type": "stream",
     "text": [
      "    computing cross-spectral density for epochs 63..63\n",
      "    computing cross-spectral density for epochs 64..64\n",
      "    computing cross-spectral density for epochs 65..65\n",
      "    computing cross-spectral density for epochs 66..66\n",
      "    computing cross-spectral density for epochs 67..67\n",
      "    computing cross-spectral density for epochs 68..68\n",
      "    computing cross-spectral density for epochs 69..69\n",
      "    computing cross-spectral density for epochs 70..70\n",
      "    computing cross-spectral density for epochs 71..71\n",
      "    computing cross-spectral density for epochs 72..72\n",
      "    computing cross-spectral density for epochs 73..73\n",
      "    assembling connectivity matrix\n",
      "[Connectivity computation done]\n",
      "Connectivity computation...\n",
      "only using indices for lower-triangular matrix\n",
      "    computing connectivity for 66 connections\n",
      "    using t=0.000s..5.000s for estimation (2001 points)\n",
      "    frequencies: 58.6Hz..61.4Hz (15 points)\n",
      "    connectivity scores will be averaged for each band\n",
      "    Using multitaper spectrum estimation with 7 DPSS windows\n",
      "    the following metrics will be computed: DPLI\n",
      "    computing cross-spectral density for epochs 1..1\n",
      "    computing cross-spectral density for epochs 2..2\n",
      "    computing cross-spectral density for epochs 3..3\n",
      "    computing cross-spectral density for epochs 4..4\n"
     ]
    },
    {
     "name": "stderr",
     "output_type": "stream",
     "text": [
      "[Parallel(n_jobs=-1)]: Using backend LokyBackend with 8 concurrent workers.\n",
      "[Parallel(n_jobs=-1)]: Using backend LokyBackend with 8 concurrent workers.\n",
      "[Parallel(n_jobs=-1)]: Using backend LokyBackend with 8 concurrent workers.\n",
      "[Parallel(n_jobs=-1)]: Using backend LokyBackend with 8 concurrent workers.\n",
      "[Parallel(n_jobs=-1)]: Using backend LokyBackend with 8 concurrent workers.\n",
      "[Parallel(n_jobs=-1)]: Using backend LokyBackend with 8 concurrent workers.\n",
      "[Parallel(n_jobs=-1)]: Done   1 out of   1 | elapsed:    0.0s finished\n",
      "[Parallel(n_jobs=-1)]: Using backend LokyBackend with 8 concurrent workers.\n",
      "[Parallel(n_jobs=-1)]: Using backend LokyBackend with 8 concurrent workers.\n",
      "[Parallel(n_jobs=-1)]: Using backend LokyBackend with 8 concurrent workers.\n",
      "[Parallel(n_jobs=-1)]: Using backend LokyBackend with 8 concurrent workers.\n",
      "[Parallel(n_jobs=-1)]: Using backend LokyBackend with 8 concurrent workers.\n",
      "/home/wanglab/Documents/George Kenefati/Code/eeg_toolkit/eeg_toolkit/functional_connectivity.py:37: RuntimeWarning: There were no Annotations stored in <EpochsArray |  73 events (all good), 0 – 5 s, baseline off, ~13.4 MB, data loaded,\n",
      " '1': 73>, so metadata was not modified.\n",
      "  con = mne_connectivity.spectral_connectivity_epochs(\n",
      "[Parallel(n_jobs=-1)]: Using backend LokyBackend with 8 concurrent workers.\n",
      "[Parallel(n_jobs=-1)]: Using backend LokyBackend with 8 concurrent workers.\n",
      "[Parallel(n_jobs=-1)]: Using backend LokyBackend with 8 concurrent workers.\n"
     ]
    },
    {
     "name": "stdout",
     "output_type": "stream",
     "text": [
      "    computing cross-spectral density for epochs 5..5\n",
      "    computing cross-spectral density for epochs 6..6\n",
      "    computing cross-spectral density for epochs 7..7\n",
      "    computing cross-spectral density for epochs 8..8\n",
      "    computing cross-spectral density for epochs 9..9\n",
      "    computing cross-spectral density for epochs 10..10\n",
      "    computing cross-spectral density for epochs 11..11\n",
      "    computing cross-spectral density for epochs 12..12\n",
      "    computing cross-spectral density for epochs 13..13\n",
      "    computing cross-spectral density for epochs 14..14\n",
      "    computing cross-spectral density for epochs 15..15\n",
      "    computing cross-spectral density for epochs 16..16\n",
      "    computing cross-spectral density for epochs 17..17\n",
      "    computing cross-spectral density for epochs 18..18\n",
      "    computing cross-spectral density for epochs 19..19\n"
     ]
    },
    {
     "name": "stderr",
     "output_type": "stream",
     "text": [
      "[Parallel(n_jobs=-1)]: Using backend LokyBackend with 8 concurrent workers.\n",
      "[Parallel(n_jobs=-1)]: Using backend LokyBackend with 8 concurrent workers.\n",
      "[Parallel(n_jobs=-1)]: Using backend LokyBackend with 8 concurrent workers.\n",
      "[Parallel(n_jobs=-1)]: Using backend LokyBackend with 8 concurrent workers.\n",
      "[Parallel(n_jobs=-1)]: Using backend LokyBackend with 8 concurrent workers.\n",
      "[Parallel(n_jobs=-1)]: Using backend LokyBackend with 8 concurrent workers.\n",
      "[Parallel(n_jobs=-1)]: Using backend LokyBackend with 8 concurrent workers.\n",
      "[Parallel(n_jobs=-1)]: Using backend LokyBackend with 8 concurrent workers.\n",
      "[Parallel(n_jobs=-1)]: Using backend LokyBackend with 8 concurrent workers.\n",
      "[Parallel(n_jobs=-1)]: Using backend LokyBackend with 8 concurrent workers.\n",
      "[Parallel(n_jobs=-1)]: Using backend LokyBackend with 8 concurrent workers.\n",
      "[Parallel(n_jobs=-1)]: Using backend LokyBackend with 8 concurrent workers.\n",
      "[Parallel(n_jobs=-1)]: Using backend LokyBackend with 8 concurrent workers.\n",
      "[Parallel(n_jobs=-1)]: Using backend LokyBackend with 8 concurrent workers.\n",
      "[Parallel(n_jobs=-1)]: Using backend LokyBackend with 8 concurrent workers.\n",
      "[Parallel(n_jobs=-1)]: Using backend LokyBackend with 8 concurrent workers.\n"
     ]
    },
    {
     "name": "stdout",
     "output_type": "stream",
     "text": [
      "    computing cross-spectral density for epochs 20..20\n",
      "    computing cross-spectral density for epochs 21..21\n",
      "    computing cross-spectral density for epochs 22..22\n",
      "    computing cross-spectral density for epochs 23..23\n",
      "    computing cross-spectral density for epochs 24..24\n",
      "    computing cross-spectral density for epochs 25..25\n",
      "    computing cross-spectral density for epochs 26..26\n",
      "    computing cross-spectral density for epochs 27..27\n",
      "    computing cross-spectral density for epochs 28..28\n",
      "    computing cross-spectral density for epochs 29..29\n",
      "    computing cross-spectral density for epochs 30..30\n",
      "    computing cross-spectral density for epochs 31..31\n",
      "    computing cross-spectral density for epochs 32..32\n",
      "    computing cross-spectral density for epochs 33..33\n",
      "    computing cross-spectral density for epochs 34..34\n",
      "    computing cross-spectral density for epochs 35..35\n"
     ]
    },
    {
     "name": "stderr",
     "output_type": "stream",
     "text": [
      "[Parallel(n_jobs=-1)]: Using backend LokyBackend with 8 concurrent workers.\n",
      "[Parallel(n_jobs=-1)]: Using backend LokyBackend with 8 concurrent workers.\n",
      "[Parallel(n_jobs=-1)]: Using backend LokyBackend with 8 concurrent workers.\n",
      "[Parallel(n_jobs=-1)]: Using backend LokyBackend with 8 concurrent workers.\n",
      "[Parallel(n_jobs=-1)]: Using backend LokyBackend with 8 concurrent workers.\n",
      "[Parallel(n_jobs=-1)]: Using backend LokyBackend with 8 concurrent workers.\n",
      "[Parallel(n_jobs=-1)]: Using backend LokyBackend with 8 concurrent workers.\n",
      "[Parallel(n_jobs=-1)]: Using backend LokyBackend with 8 concurrent workers.\n",
      "[Parallel(n_jobs=-1)]: Using backend LokyBackend with 8 concurrent workers.\n",
      "[Parallel(n_jobs=-1)]: Using backend LokyBackend with 8 concurrent workers.\n",
      "[Parallel(n_jobs=-1)]: Using backend LokyBackend with 8 concurrent workers.\n",
      "[Parallel(n_jobs=-1)]: Using backend LokyBackend with 8 concurrent workers.\n",
      "[Parallel(n_jobs=-1)]: Using backend LokyBackend with 8 concurrent workers.\n",
      "[Parallel(n_jobs=-1)]: Using backend LokyBackend with 8 concurrent workers.\n",
      "[Parallel(n_jobs=-1)]: Using backend LokyBackend with 8 concurrent workers.\n",
      "[Parallel(n_jobs=-1)]: Using backend LokyBackend with 8 concurrent workers.\n"
     ]
    },
    {
     "name": "stdout",
     "output_type": "stream",
     "text": [
      "    computing cross-spectral density for epochs 36..36\n",
      "    computing cross-spectral density for epochs 37..37\n",
      "    computing cross-spectral density for epochs 38..38\n",
      "    computing cross-spectral density for epochs 39..39\n",
      "    computing cross-spectral density for epochs 40..40\n",
      "    computing cross-spectral density for epochs 41..41\n",
      "    computing cross-spectral density for epochs 42..42\n",
      "    computing cross-spectral density for epochs 43..43\n",
      "    computing cross-spectral density for epochs 44..44\n",
      "    computing cross-spectral density for epochs 45..45\n",
      "    computing cross-spectral density for epochs 46..46\n",
      "    computing cross-spectral density for epochs 47..47\n",
      "    computing cross-spectral density for epochs 48..48\n",
      "    computing cross-spectral density for epochs 49..49\n",
      "    computing cross-spectral density for epochs 50..50\n",
      "    computing cross-spectral density for epochs 51..51\n"
     ]
    },
    {
     "name": "stderr",
     "output_type": "stream",
     "text": [
      "[Parallel(n_jobs=-1)]: Using backend LokyBackend with 8 concurrent workers.\n",
      "[Parallel(n_jobs=-1)]: Using backend LokyBackend with 8 concurrent workers.\n",
      "[Parallel(n_jobs=-1)]: Using backend LokyBackend with 8 concurrent workers.\n",
      "[Parallel(n_jobs=-1)]: Using backend LokyBackend with 8 concurrent workers.\n",
      "[Parallel(n_jobs=-1)]: Using backend LokyBackend with 8 concurrent workers.\n",
      "[Parallel(n_jobs=-1)]: Using backend LokyBackend with 8 concurrent workers.\n",
      "[Parallel(n_jobs=-1)]: Using backend LokyBackend with 8 concurrent workers.\n",
      "[Parallel(n_jobs=-1)]: Using backend LokyBackend with 8 concurrent workers.\n",
      "[Parallel(n_jobs=-1)]: Using backend LokyBackend with 8 concurrent workers.\n",
      "[Parallel(n_jobs=-1)]: Using backend LokyBackend with 8 concurrent workers.\n",
      "[Parallel(n_jobs=-1)]: Using backend LokyBackend with 8 concurrent workers.\n",
      "[Parallel(n_jobs=-1)]: Using backend LokyBackend with 8 concurrent workers.\n",
      "[Parallel(n_jobs=-1)]: Using backend LokyBackend with 8 concurrent workers.\n",
      "[Parallel(n_jobs=-1)]: Using backend LokyBackend with 8 concurrent workers.\n",
      "[Parallel(n_jobs=-1)]: Using backend LokyBackend with 8 concurrent workers.\n",
      "[Parallel(n_jobs=-1)]: Using backend LokyBackend with 8 concurrent workers.\n"
     ]
    },
    {
     "name": "stdout",
     "output_type": "stream",
     "text": [
      "    computing cross-spectral density for epochs 52..52\n",
      "    computing cross-spectral density for epochs 53..53\n",
      "    computing cross-spectral density for epochs 54..54\n",
      "    computing cross-spectral density for epochs 55..55\n",
      "    computing cross-spectral density for epochs 56..56\n",
      "    computing cross-spectral density for epochs 57..57\n",
      "    computing cross-spectral density for epochs 58..58\n",
      "    computing cross-spectral density for epochs 59..59\n",
      "    computing cross-spectral density for epochs 60..60\n",
      "    computing cross-spectral density for epochs 61..61\n",
      "    computing cross-spectral density for epochs 62..62\n",
      "    computing cross-spectral density for epochs 63..63\n",
      "    computing cross-spectral density for epochs 64..64\n",
      "    computing cross-spectral density for epochs 65..65\n",
      "    computing cross-spectral density for epochs 66..66\n",
      "    computing cross-spectral density for epochs 67..67\n"
     ]
    },
    {
     "name": "stderr",
     "output_type": "stream",
     "text": [
      "[Parallel(n_jobs=-1)]: Using backend LokyBackend with 8 concurrent workers.\n",
      "[Parallel(n_jobs=-1)]: Using backend LokyBackend with 8 concurrent workers.\n",
      "[Parallel(n_jobs=-1)]: Using backend LokyBackend with 8 concurrent workers.\n",
      "[Parallel(n_jobs=-1)]: Using backend LokyBackend with 8 concurrent workers.\n",
      "[Parallel(n_jobs=-1)]: Using backend LokyBackend with 8 concurrent workers.\n",
      "[Parallel(n_jobs=-1)]: Using backend LokyBackend with 8 concurrent workers.\n",
      "[Parallel(n_jobs=-1)]: Using backend LokyBackend with 8 concurrent workers.\n",
      "[Parallel(n_jobs=-1)]: Using backend LokyBackend with 8 concurrent workers.\n",
      "[Parallel(n_jobs=-1)]: Using backend LokyBackend with 8 concurrent workers.\n",
      "[Parallel(n_jobs=-1)]: Using backend LokyBackend with 8 concurrent workers.\n",
      "[Parallel(n_jobs=-1)]: Using backend LokyBackend with 8 concurrent workers.\n",
      "[Parallel(n_jobs=-1)]: Using backend LokyBackend with 8 concurrent workers.\n",
      "[Parallel(n_jobs=-1)]: Using backend LokyBackend with 8 concurrent workers.\n",
      "[Parallel(n_jobs=-1)]: Using backend LokyBackend with 8 concurrent workers.\n",
      "[Parallel(n_jobs=-1)]: Using backend LokyBackend with 8 concurrent workers.\n",
      "[Parallel(n_jobs=-1)]: Using backend LokyBackend with 8 concurrent workers.\n"
     ]
    },
    {
     "name": "stdout",
     "output_type": "stream",
     "text": [
      "    computing cross-spectral density for epochs 68..68\n",
      "    computing cross-spectral density for epochs 69..69\n",
      "    computing cross-spectral density for epochs 70..70\n",
      "    computing cross-spectral density for epochs 71..71\n",
      "    computing cross-spectral density for epochs 72..72\n",
      "    computing cross-spectral density for epochs 73..73\n",
      "    assembling connectivity matrix\n",
      "[Connectivity computation done]\n",
      "Connectivity computation...\n",
      "only using indices for lower-triangular matrix\n",
      "    computing connectivity for 66 connections\n",
      "    using t=0.000s..5.000s for estimation (2001 points)\n",
      "    frequencies: 58.6Hz..61.4Hz (15 points)\n",
      "    connectivity scores will be averaged for each band\n",
      "    Using multitaper spectrum estimation with 7 DPSS windows\n",
      "    the following metrics will be computed: PLV\n",
      "    computing cross-spectral density for epochs 1..1\n",
      "    computing cross-spectral density for epochs 2..2\n",
      "    computing cross-spectral density for epochs 3..3\n",
      "    computing cross-spectral density for epochs 4..4\n",
      "    computing cross-spectral density for epochs 5..5\n",
      "    computing cross-spectral density for epochs 6..6\n",
      "    computing cross-spectral density for epochs 7..7\n",
      "    computing cross-spectral density for epochs 8..8\n"
     ]
    },
    {
     "name": "stderr",
     "output_type": "stream",
     "text": [
      "[Parallel(n_jobs=-1)]: Using backend LokyBackend with 8 concurrent workers.\n",
      "[Parallel(n_jobs=-1)]: Using backend LokyBackend with 8 concurrent workers.\n",
      "[Parallel(n_jobs=-1)]: Using backend LokyBackend with 8 concurrent workers.\n",
      "[Parallel(n_jobs=-1)]: Using backend LokyBackend with 8 concurrent workers.\n",
      "[Parallel(n_jobs=-1)]: Using backend LokyBackend with 8 concurrent workers.\n",
      "[Parallel(n_jobs=-1)]: Using backend LokyBackend with 8 concurrent workers.\n",
      "/home/wanglab/Documents/George Kenefati/Code/eeg_toolkit/eeg_toolkit/functional_connectivity.py:37: RuntimeWarning: There were no Annotations stored in <EpochsArray |  73 events (all good), 0 – 5 s, baseline off, ~13.4 MB, data loaded,\n",
      " '1': 73>, so metadata was not modified.\n",
      "  con = mne_connectivity.spectral_connectivity_epochs(\n",
      "[Parallel(n_jobs=-1)]: Using backend LokyBackend with 8 concurrent workers.\n",
      "[Parallel(n_jobs=-1)]: Using backend LokyBackend with 8 concurrent workers.\n",
      "[Parallel(n_jobs=-1)]: Using backend LokyBackend with 8 concurrent workers.\n",
      "[Parallel(n_jobs=-1)]: Using backend LokyBackend with 8 concurrent workers.\n",
      "[Parallel(n_jobs=-1)]: Using backend LokyBackend with 8 concurrent workers.\n",
      "[Parallel(n_jobs=-1)]: Using backend LokyBackend with 8 concurrent workers.\n",
      "[Parallel(n_jobs=-1)]: Using backend LokyBackend with 8 concurrent workers.\n",
      "[Parallel(n_jobs=-1)]: Using backend LokyBackend with 8 concurrent workers.\n"
     ]
    },
    {
     "name": "stdout",
     "output_type": "stream",
     "text": [
      "    computing cross-spectral density for epochs 9..9\n",
      "    computing cross-spectral density for epochs 10..10\n",
      "    computing cross-spectral density for epochs 11..11\n",
      "    computing cross-spectral density for epochs 12..12\n",
      "    computing cross-spectral density for epochs 13..13\n",
      "    computing cross-spectral density for epochs 14..14\n",
      "    computing cross-spectral density for epochs 15..15\n",
      "    computing cross-spectral density for epochs 16..16\n",
      "    computing cross-spectral density for epochs 17..17\n",
      "    computing cross-spectral density for epochs 18..18\n",
      "    computing cross-spectral density for epochs 19..19\n",
      "    computing cross-spectral density for epochs 20..20\n",
      "    computing cross-spectral density for epochs 21..21\n",
      "    computing cross-spectral density for epochs 22..22\n",
      "    computing cross-spectral density for epochs 23..23\n",
      "    computing cross-spectral density for epochs 24..24\n"
     ]
    },
    {
     "name": "stderr",
     "output_type": "stream",
     "text": [
      "[Parallel(n_jobs=-1)]: Using backend LokyBackend with 8 concurrent workers.\n",
      "[Parallel(n_jobs=-1)]: Using backend LokyBackend with 8 concurrent workers.\n",
      "[Parallel(n_jobs=-1)]: Using backend LokyBackend with 8 concurrent workers.\n",
      "[Parallel(n_jobs=-1)]: Using backend LokyBackend with 8 concurrent workers.\n",
      "[Parallel(n_jobs=-1)]: Using backend LokyBackend with 8 concurrent workers.\n",
      "[Parallel(n_jobs=-1)]: Using backend LokyBackend with 8 concurrent workers.\n",
      "[Parallel(n_jobs=-1)]: Using backend LokyBackend with 8 concurrent workers.\n",
      "[Parallel(n_jobs=-1)]: Using backend LokyBackend with 8 concurrent workers.\n",
      "[Parallel(n_jobs=-1)]: Using backend LokyBackend with 8 concurrent workers.\n",
      "[Parallel(n_jobs=-1)]: Using backend LokyBackend with 8 concurrent workers.\n",
      "[Parallel(n_jobs=-1)]: Using backend LokyBackend with 8 concurrent workers.\n",
      "[Parallel(n_jobs=-1)]: Using backend LokyBackend with 8 concurrent workers.\n",
      "[Parallel(n_jobs=-1)]: Using backend LokyBackend with 8 concurrent workers.\n",
      "[Parallel(n_jobs=-1)]: Using backend LokyBackend with 8 concurrent workers.\n",
      "[Parallel(n_jobs=-1)]: Using backend LokyBackend with 8 concurrent workers.\n",
      "[Parallel(n_jobs=-1)]: Using backend LokyBackend with 8 concurrent workers.\n"
     ]
    },
    {
     "name": "stdout",
     "output_type": "stream",
     "text": [
      "    computing cross-spectral density for epochs 25..25\n",
      "    computing cross-spectral density for epochs 26..26\n",
      "    computing cross-spectral density for epochs 27..27\n",
      "    computing cross-spectral density for epochs 28..28\n",
      "    computing cross-spectral density for epochs 29..29\n",
      "    computing cross-spectral density for epochs 30..30\n",
      "    computing cross-spectral density for epochs 31..31\n",
      "    computing cross-spectral density for epochs 32..32\n",
      "    computing cross-spectral density for epochs 33..33\n",
      "    computing cross-spectral density for epochs 34..34\n",
      "    computing cross-spectral density for epochs 35..35\n",
      "    computing cross-spectral density for epochs 36..36\n",
      "    computing cross-spectral density for epochs 37..37\n",
      "    computing cross-spectral density for epochs 38..38\n",
      "    computing cross-spectral density for epochs 39..39\n",
      "    computing cross-spectral density for epochs 40..40\n"
     ]
    },
    {
     "name": "stderr",
     "output_type": "stream",
     "text": [
      "[Parallel(n_jobs=-1)]: Using backend LokyBackend with 8 concurrent workers.\n",
      "[Parallel(n_jobs=-1)]: Using backend LokyBackend with 8 concurrent workers.\n",
      "[Parallel(n_jobs=-1)]: Using backend LokyBackend with 8 concurrent workers.\n",
      "[Parallel(n_jobs=-1)]: Using backend LokyBackend with 8 concurrent workers.\n",
      "[Parallel(n_jobs=-1)]: Using backend LokyBackend with 8 concurrent workers.\n",
      "[Parallel(n_jobs=-1)]: Using backend LokyBackend with 8 concurrent workers.\n",
      "[Parallel(n_jobs=-1)]: Done   1 out of   1 | elapsed:    0.0s finished\n",
      "[Parallel(n_jobs=-1)]: Using backend LokyBackend with 8 concurrent workers.\n",
      "[Parallel(n_jobs=-1)]: Done   1 out of   1 | elapsed:    0.0s finished\n",
      "[Parallel(n_jobs=-1)]: Using backend LokyBackend with 8 concurrent workers.\n",
      "[Parallel(n_jobs=-1)]: Using backend LokyBackend with 8 concurrent workers.\n",
      "[Parallel(n_jobs=-1)]: Using backend LokyBackend with 8 concurrent workers.\n",
      "[Parallel(n_jobs=-1)]: Using backend LokyBackend with 8 concurrent workers.\n",
      "[Parallel(n_jobs=-1)]: Using backend LokyBackend with 8 concurrent workers.\n",
      "[Parallel(n_jobs=-1)]: Using backend LokyBackend with 8 concurrent workers.\n",
      "[Parallel(n_jobs=-1)]: Using backend LokyBackend with 8 concurrent workers.\n",
      "[Parallel(n_jobs=-1)]: Using backend LokyBackend with 8 concurrent workers.\n",
      "[Parallel(n_jobs=-1)]: Using backend LokyBackend with 8 concurrent workers.\n"
     ]
    },
    {
     "name": "stdout",
     "output_type": "stream",
     "text": [
      "    computing cross-spectral density for epochs 41..41\n",
      "    computing cross-spectral density for epochs 42..42\n",
      "    computing cross-spectral density for epochs 43..43\n",
      "    computing cross-spectral density for epochs 44..44\n",
      "    computing cross-spectral density for epochs 45..45\n",
      "    computing cross-spectral density for epochs 46..46\n",
      "    computing cross-spectral density for epochs 47..47\n",
      "    computing cross-spectral density for epochs 48..48\n",
      "    computing cross-spectral density for epochs 49..49\n",
      "    computing cross-spectral density for epochs 50..50\n",
      "    computing cross-spectral density for epochs 51..51\n",
      "    computing cross-spectral density for epochs 52..52\n",
      "    computing cross-spectral density for epochs 53..53\n",
      "    computing cross-spectral density for epochs 54..54\n",
      "    computing cross-spectral density for epochs 55..55\n",
      "    computing cross-spectral density for epochs 56..56\n"
     ]
    },
    {
     "name": "stderr",
     "output_type": "stream",
     "text": [
      "[Parallel(n_jobs=-1)]: Using backend LokyBackend with 8 concurrent workers.\n",
      "[Parallel(n_jobs=-1)]: Using backend LokyBackend with 8 concurrent workers.\n",
      "[Parallel(n_jobs=-1)]: Using backend LokyBackend with 8 concurrent workers.\n",
      "[Parallel(n_jobs=-1)]: Using backend LokyBackend with 8 concurrent workers.\n",
      "[Parallel(n_jobs=-1)]: Using backend LokyBackend with 8 concurrent workers.\n",
      "[Parallel(n_jobs=-1)]: Using backend LokyBackend with 8 concurrent workers.\n",
      "[Parallel(n_jobs=-1)]: Using backend LokyBackend with 8 concurrent workers.\n",
      "[Parallel(n_jobs=-1)]: Using backend LokyBackend with 8 concurrent workers.\n",
      "[Parallel(n_jobs=-1)]: Using backend LokyBackend with 8 concurrent workers.\n",
      "[Parallel(n_jobs=-1)]: Using backend LokyBackend with 8 concurrent workers.\n",
      "[Parallel(n_jobs=-1)]: Using backend LokyBackend with 8 concurrent workers.\n",
      "[Parallel(n_jobs=-1)]: Using backend LokyBackend with 8 concurrent workers.\n",
      "[Parallel(n_jobs=-1)]: Using backend LokyBackend with 8 concurrent workers.\n",
      "[Parallel(n_jobs=-1)]: Using backend LokyBackend with 8 concurrent workers.\n",
      "[Parallel(n_jobs=-1)]: Using backend LokyBackend with 8 concurrent workers.\n",
      "[Parallel(n_jobs=-1)]: Using backend LokyBackend with 8 concurrent workers.\n"
     ]
    },
    {
     "name": "stdout",
     "output_type": "stream",
     "text": [
      "    computing cross-spectral density for epochs 57..57\n",
      "    computing cross-spectral density for epochs 58..58\n",
      "    computing cross-spectral density for epochs 59..59\n",
      "    computing cross-spectral density for epochs 60..60\n",
      "    computing cross-spectral density for epochs 61..61\n",
      "    computing cross-spectral density for epochs 62..62\n",
      "    computing cross-spectral density for epochs 63..63\n",
      "    computing cross-spectral density for epochs 64..64\n",
      "    computing cross-spectral density for epochs 65..65\n",
      "    computing cross-spectral density for epochs 66..66\n",
      "    computing cross-spectral density for epochs 67..67\n",
      "    computing cross-spectral density for epochs 68..68\n",
      "    computing cross-spectral density for epochs 69..69\n",
      "    computing cross-spectral density for epochs 70..70\n",
      "    computing cross-spectral density for epochs 71..71\n",
      "    computing cross-spectral density for epochs 72..72\n",
      "    computing cross-spectral density for epochs 73..73\n"
     ]
    },
    {
     "name": "stderr",
     "output_type": "stream",
     "text": [
      "[Parallel(n_jobs=-1)]: Using backend LokyBackend with 8 concurrent workers.\n",
      "[Parallel(n_jobs=-1)]: Using backend LokyBackend with 8 concurrent workers.\n",
      "[Parallel(n_jobs=-1)]: Using backend LokyBackend with 8 concurrent workers.\n",
      "[Parallel(n_jobs=-1)]: Using backend LokyBackend with 8 concurrent workers.\n",
      "[Parallel(n_jobs=-1)]: Using backend LokyBackend with 8 concurrent workers.\n",
      "[Parallel(n_jobs=-1)]: Using backend LokyBackend with 8 concurrent workers.\n",
      "[Parallel(n_jobs=-1)]: Using backend LokyBackend with 8 concurrent workers.\n",
      "[Parallel(n_jobs=-1)]: Using backend LokyBackend with 8 concurrent workers.\n",
      "[Parallel(n_jobs=-1)]: Using backend LokyBackend with 8 concurrent workers.\n",
      "[Parallel(n_jobs=-1)]: Using backend LokyBackend with 8 concurrent workers.\n",
      "[Parallel(n_jobs=-1)]: Using backend LokyBackend with 8 concurrent workers.\n",
      "[Parallel(n_jobs=-1)]: Using backend LokyBackend with 8 concurrent workers.\n",
      "[Parallel(n_jobs=-1)]: Using backend LokyBackend with 8 concurrent workers.\n",
      "[Parallel(n_jobs=-1)]: Using backend LokyBackend with 8 concurrent workers.\n",
      "[Parallel(n_jobs=-1)]: Using backend LokyBackend with 8 concurrent workers.\n",
      "[Parallel(n_jobs=-1)]: Using backend LokyBackend with 8 concurrent workers.\n"
     ]
    },
    {
     "name": "stdout",
     "output_type": "stream",
     "text": [
      "    assembling connectivity matrix\n",
      "[Connectivity computation done]\n",
      "Connectivity computation...\n",
      "only using indices for lower-triangular matrix\n",
      "    computing connectivity for 66 connections\n",
      "    using t=0.000s..5.000s for estimation (2001 points)\n",
      "    frequencies: 61.6Hz..100.0Hz (193 points)\n",
      "    connectivity scores will be averaged for each band\n",
      "    Using multitaper spectrum estimation with 7 DPSS windows\n",
      "    the following metrics will be computed: WPLI\n",
      "    computing cross-spectral density for epochs 1..1\n",
      "    computing cross-spectral density for epochs 2..2\n",
      "    computing cross-spectral density for epochs 3..3\n",
      "    computing cross-spectral density for epochs 4..4\n",
      "    computing cross-spectral density for epochs 5..5\n",
      "    computing cross-spectral density for epochs 6..6\n",
      "    computing cross-spectral density for epochs 7..7\n",
      "    computing cross-spectral density for epochs 8..8\n"
     ]
    },
    {
     "name": "stderr",
     "output_type": "stream",
     "text": [
      "[Parallel(n_jobs=-1)]: Using backend LokyBackend with 8 concurrent workers.\n",
      "/home/wanglab/Documents/George Kenefati/Code/eeg_toolkit/eeg_toolkit/functional_connectivity.py:37: RuntimeWarning: There were no Annotations stored in <EpochsArray |  73 events (all good), 0 – 5 s, baseline off, ~13.4 MB, data loaded,\n",
      " '1': 73>, so metadata was not modified.\n",
      "  con = mne_connectivity.spectral_connectivity_epochs(\n",
      "[Parallel(n_jobs=-1)]: Using backend LokyBackend with 8 concurrent workers.\n",
      "[Parallel(n_jobs=-1)]: Using backend LokyBackend with 8 concurrent workers.\n",
      "[Parallel(n_jobs=-1)]: Using backend LokyBackend with 8 concurrent workers.\n",
      "[Parallel(n_jobs=-1)]: Using backend LokyBackend with 8 concurrent workers.\n",
      "[Parallel(n_jobs=-1)]: Using backend LokyBackend with 8 concurrent workers.\n",
      "[Parallel(n_jobs=-1)]: Using backend LokyBackend with 8 concurrent workers.\n",
      "[Parallel(n_jobs=-1)]: Using backend LokyBackend with 8 concurrent workers.\n",
      "[Parallel(n_jobs=-1)]: Using backend LokyBackend with 8 concurrent workers.\n"
     ]
    },
    {
     "name": "stdout",
     "output_type": "stream",
     "text": [
      "    computing cross-spectral density for epochs 9..9\n",
      "    computing cross-spectral density for epochs 10..10\n",
      "    computing cross-spectral density for epochs 11..11\n",
      "    computing cross-spectral density for epochs 12..12\n",
      "    computing cross-spectral density for epochs 13..13\n",
      "    computing cross-spectral density for epochs 14..14\n",
      "    computing cross-spectral density for epochs 15..15\n",
      "    computing cross-spectral density for epochs 16..16\n",
      "    computing cross-spectral density for epochs 17..17\n"
     ]
    },
    {
     "name": "stderr",
     "output_type": "stream",
     "text": [
      "[Parallel(n_jobs=-1)]: Using backend LokyBackend with 8 concurrent workers.\n",
      "[Parallel(n_jobs=-1)]: Using backend LokyBackend with 8 concurrent workers.\n",
      "[Parallel(n_jobs=-1)]: Using backend LokyBackend with 8 concurrent workers.\n",
      "[Parallel(n_jobs=-1)]: Using backend LokyBackend with 8 concurrent workers.\n",
      "[Parallel(n_jobs=-1)]: Using backend LokyBackend with 8 concurrent workers.\n",
      "[Parallel(n_jobs=-1)]: Using backend LokyBackend with 8 concurrent workers.\n",
      "[Parallel(n_jobs=-1)]: Using backend LokyBackend with 8 concurrent workers.\n",
      "[Parallel(n_jobs=-1)]: Using backend LokyBackend with 8 concurrent workers.\n",
      "[Parallel(n_jobs=-1)]: Using backend LokyBackend with 8 concurrent workers.\n"
     ]
    },
    {
     "name": "stdout",
     "output_type": "stream",
     "text": [
      "    computing cross-spectral density for epochs 18..18\n",
      "    computing cross-spectral density for epochs 19..19\n",
      "    computing cross-spectral density for epochs 20..20\n",
      "    computing cross-spectral density for epochs 21..21\n",
      "    computing cross-spectral density for epochs 22..22\n",
      "    computing cross-spectral density for epochs 23..23\n",
      "    computing cross-spectral density for epochs 24..24\n",
      "    computing cross-spectral density for epochs 25..25\n",
      "    computing cross-spectral density for epochs 26..26\n"
     ]
    },
    {
     "name": "stderr",
     "output_type": "stream",
     "text": [
      "[Parallel(n_jobs=-1)]: Using backend LokyBackend with 8 concurrent workers.\n",
      "[Parallel(n_jobs=-1)]: Using backend LokyBackend with 8 concurrent workers.\n",
      "[Parallel(n_jobs=-1)]: Using backend LokyBackend with 8 concurrent workers.\n",
      "[Parallel(n_jobs=-1)]: Using backend LokyBackend with 8 concurrent workers.\n",
      "[Parallel(n_jobs=-1)]: Using backend LokyBackend with 8 concurrent workers.\n",
      "[Parallel(n_jobs=-1)]: Using backend LokyBackend with 8 concurrent workers.\n",
      "[Parallel(n_jobs=-1)]: Using backend LokyBackend with 8 concurrent workers.\n",
      "[Parallel(n_jobs=-1)]: Using backend LokyBackend with 8 concurrent workers.\n",
      "[Parallel(n_jobs=-1)]: Using backend LokyBackend with 8 concurrent workers.\n"
     ]
    },
    {
     "name": "stdout",
     "output_type": "stream",
     "text": [
      "    computing cross-spectral density for epochs 27..27\n",
      "    computing cross-spectral density for epochs 28..28\n",
      "    computing cross-spectral density for epochs 29..29\n",
      "    computing cross-spectral density for epochs 30..30\n",
      "    computing cross-spectral density for epochs 31..31\n",
      "    computing cross-spectral density for epochs 32..32\n",
      "    computing cross-spectral density for epochs 33..33\n",
      "    computing cross-spectral density for epochs 34..34\n",
      "    computing cross-spectral density for epochs 35..35\n"
     ]
    },
    {
     "name": "stderr",
     "output_type": "stream",
     "text": [
      "[Parallel(n_jobs=-1)]: Using backend LokyBackend with 8 concurrent workers.\n",
      "[Parallel(n_jobs=-1)]: Using backend LokyBackend with 8 concurrent workers.\n",
      "[Parallel(n_jobs=-1)]: Using backend LokyBackend with 8 concurrent workers.\n",
      "[Parallel(n_jobs=-1)]: Using backend LokyBackend with 8 concurrent workers.\n",
      "[Parallel(n_jobs=-1)]: Using backend LokyBackend with 8 concurrent workers.\n",
      "[Parallel(n_jobs=-1)]: Using backend LokyBackend with 8 concurrent workers.\n",
      "[Parallel(n_jobs=-1)]: Using backend LokyBackend with 8 concurrent workers.\n",
      "[Parallel(n_jobs=-1)]: Using backend LokyBackend with 8 concurrent workers.\n",
      "[Parallel(n_jobs=-1)]: Using backend LokyBackend with 8 concurrent workers.\n"
     ]
    },
    {
     "name": "stdout",
     "output_type": "stream",
     "text": [
      "    computing cross-spectral density for epochs 36..36\n",
      "    computing cross-spectral density for epochs 37..37\n",
      "    computing cross-spectral density for epochs 38..38\n",
      "    computing cross-spectral density for epochs 39..39\n",
      "    computing cross-spectral density for epochs 40..40\n",
      "    computing cross-spectral density for epochs 41..41\n",
      "    computing cross-spectral density for epochs 42..42\n",
      "    computing cross-spectral density for epochs 43..43\n",
      "    computing cross-spectral density for epochs 44..44\n"
     ]
    },
    {
     "name": "stderr",
     "output_type": "stream",
     "text": [
      "[Parallel(n_jobs=-1)]: Using backend LokyBackend with 8 concurrent workers.\n",
      "[Parallel(n_jobs=-1)]: Using backend LokyBackend with 8 concurrent workers.\n",
      "[Parallel(n_jobs=-1)]: Using backend LokyBackend with 8 concurrent workers.\n",
      "[Parallel(n_jobs=-1)]: Using backend LokyBackend with 8 concurrent workers.\n",
      "[Parallel(n_jobs=-1)]: Using backend LokyBackend with 8 concurrent workers.\n",
      "[Parallel(n_jobs=-1)]: Using backend LokyBackend with 8 concurrent workers.\n",
      "[Parallel(n_jobs=-1)]: Using backend LokyBackend with 8 concurrent workers.\n",
      "[Parallel(n_jobs=-1)]: Using backend LokyBackend with 8 concurrent workers.\n",
      "[Parallel(n_jobs=-1)]: Using backend LokyBackend with 8 concurrent workers.\n"
     ]
    },
    {
     "name": "stdout",
     "output_type": "stream",
     "text": [
      "    computing cross-spectral density for epochs 45..45\n",
      "    computing cross-spectral density for epochs 46..46\n",
      "    computing cross-spectral density for epochs 47..47\n",
      "    computing cross-spectral density for epochs 48..48\n",
      "    computing cross-spectral density for epochs 49..49\n",
      "    computing cross-spectral density for epochs 50..50\n",
      "    computing cross-spectral density for epochs 51..51\n",
      "    computing cross-spectral density for epochs 52..52\n",
      "    computing cross-spectral density for epochs 53..53\n"
     ]
    },
    {
     "name": "stderr",
     "output_type": "stream",
     "text": [
      "[Parallel(n_jobs=-1)]: Using backend LokyBackend with 8 concurrent workers.\n",
      "[Parallel(n_jobs=-1)]: Using backend LokyBackend with 8 concurrent workers.\n",
      "[Parallel(n_jobs=-1)]: Using backend LokyBackend with 8 concurrent workers.\n",
      "[Parallel(n_jobs=-1)]: Using backend LokyBackend with 8 concurrent workers.\n",
      "[Parallel(n_jobs=-1)]: Using backend LokyBackend with 8 concurrent workers.\n",
      "[Parallel(n_jobs=-1)]: Using backend LokyBackend with 8 concurrent workers.\n",
      "[Parallel(n_jobs=-1)]: Using backend LokyBackend with 8 concurrent workers.\n",
      "[Parallel(n_jobs=-1)]: Using backend LokyBackend with 8 concurrent workers.\n",
      "[Parallel(n_jobs=-1)]: Using backend LokyBackend with 8 concurrent workers.\n"
     ]
    },
    {
     "name": "stdout",
     "output_type": "stream",
     "text": [
      "    computing cross-spectral density for epochs 54..54\n",
      "    computing cross-spectral density for epochs 55..55\n",
      "    computing cross-spectral density for epochs 56..56\n",
      "    computing cross-spectral density for epochs 57..57\n",
      "    computing cross-spectral density for epochs 58..58\n",
      "    computing cross-spectral density for epochs 59..59\n",
      "    computing cross-spectral density for epochs 60..60\n",
      "    computing cross-spectral density for epochs 61..61\n",
      "    computing cross-spectral density for epochs 62..62\n"
     ]
    },
    {
     "name": "stderr",
     "output_type": "stream",
     "text": [
      "[Parallel(n_jobs=-1)]: Using backend LokyBackend with 8 concurrent workers.\n",
      "[Parallel(n_jobs=-1)]: Using backend LokyBackend with 8 concurrent workers.\n",
      "[Parallel(n_jobs=-1)]: Using backend LokyBackend with 8 concurrent workers.\n",
      "[Parallel(n_jobs=-1)]: Using backend LokyBackend with 8 concurrent workers.\n",
      "[Parallel(n_jobs=-1)]: Using backend LokyBackend with 8 concurrent workers.\n",
      "[Parallel(n_jobs=-1)]: Using backend LokyBackend with 8 concurrent workers.\n",
      "[Parallel(n_jobs=-1)]: Using backend LokyBackend with 8 concurrent workers.\n",
      "[Parallel(n_jobs=-1)]: Using backend LokyBackend with 8 concurrent workers.\n",
      "[Parallel(n_jobs=-1)]: Using backend LokyBackend with 8 concurrent workers.\n"
     ]
    },
    {
     "name": "stdout",
     "output_type": "stream",
     "text": [
      "    computing cross-spectral density for epochs 63..63\n",
      "    computing cross-spectral density for epochs 64..64\n",
      "    computing cross-spectral density for epochs 65..65\n",
      "    computing cross-spectral density for epochs 66..66\n",
      "    computing cross-spectral density for epochs 67..67\n",
      "    computing cross-spectral density for epochs 68..68\n",
      "    computing cross-spectral density for epochs 69..69\n",
      "    computing cross-spectral density for epochs 70..70\n",
      "    computing cross-spectral density for epochs 71..71\n"
     ]
    },
    {
     "name": "stderr",
     "output_type": "stream",
     "text": [
      "[Parallel(n_jobs=-1)]: Using backend LokyBackend with 8 concurrent workers.\n",
      "[Parallel(n_jobs=-1)]: Using backend LokyBackend with 8 concurrent workers.\n",
      "[Parallel(n_jobs=-1)]: Using backend LokyBackend with 8 concurrent workers.\n",
      "[Parallel(n_jobs=-1)]: Using backend LokyBackend with 8 concurrent workers.\n",
      "[Parallel(n_jobs=-1)]: Using backend LokyBackend with 8 concurrent workers.\n",
      "[Parallel(n_jobs=-1)]: Using backend LokyBackend with 8 concurrent workers.\n",
      "[Parallel(n_jobs=-1)]: Using backend LokyBackend with 8 concurrent workers.\n",
      "[Parallel(n_jobs=-1)]: Using backend LokyBackend with 8 concurrent workers.\n",
      "[Parallel(n_jobs=-1)]: Using backend LokyBackend with 8 concurrent workers.\n"
     ]
    },
    {
     "name": "stdout",
     "output_type": "stream",
     "text": [
      "    computing cross-spectral density for epochs 72..72\n",
      "    computing cross-spectral density for epochs 73..73\n",
      "    assembling connectivity matrix\n",
      "[Connectivity computation done]\n",
      "Connectivity computation...\n",
      "only using indices for lower-triangular matrix\n",
      "    computing connectivity for 66 connections\n",
      "    using t=0.000s..5.000s for estimation (2001 points)\n",
      "    frequencies: 61.6Hz..100.0Hz (193 points)\n",
      "    connectivity scores will be averaged for each band\n",
      "    Using multitaper spectrum estimation with 7 DPSS windows\n",
      "    the following metrics will be computed: DPLI\n",
      "    computing cross-spectral density for epochs 1..1\n",
      "    computing cross-spectral density for epochs 2..2\n",
      "    computing cross-spectral density for epochs 3..3\n",
      "    computing cross-spectral density for epochs 4..4\n",
      "    computing cross-spectral density for epochs 5..5\n",
      "    computing cross-spectral density for epochs 6..6\n",
      "    computing cross-spectral density for epochs 7..7\n"
     ]
    },
    {
     "name": "stderr",
     "output_type": "stream",
     "text": [
      "[Parallel(n_jobs=-1)]: Using backend LokyBackend with 8 concurrent workers.\n",
      "[Parallel(n_jobs=-1)]: Using backend LokyBackend with 8 concurrent workers.\n",
      "/home/wanglab/Documents/George Kenefati/Code/eeg_toolkit/eeg_toolkit/functional_connectivity.py:37: RuntimeWarning: There were no Annotations stored in <EpochsArray |  73 events (all good), 0 – 5 s, baseline off, ~13.4 MB, data loaded,\n",
      " '1': 73>, so metadata was not modified.\n",
      "  con = mne_connectivity.spectral_connectivity_epochs(\n",
      "[Parallel(n_jobs=-1)]: Using backend LokyBackend with 8 concurrent workers.\n",
      "[Parallel(n_jobs=-1)]: Using backend LokyBackend with 8 concurrent workers.\n",
      "[Parallel(n_jobs=-1)]: Using backend LokyBackend with 8 concurrent workers.\n",
      "[Parallel(n_jobs=-1)]: Using backend LokyBackend with 8 concurrent workers.\n",
      "[Parallel(n_jobs=-1)]: Using backend LokyBackend with 8 concurrent workers.\n",
      "[Parallel(n_jobs=-1)]: Using backend LokyBackend with 8 concurrent workers.\n",
      "[Parallel(n_jobs=-1)]: Using backend LokyBackend with 8 concurrent workers.\n"
     ]
    },
    {
     "name": "stdout",
     "output_type": "stream",
     "text": [
      "    computing cross-spectral density for epochs 8..8\n",
      "    computing cross-spectral density for epochs 9..9\n",
      "    computing cross-spectral density for epochs 10..10\n",
      "    computing cross-spectral density for epochs 11..11\n",
      "    computing cross-spectral density for epochs 12..12\n",
      "    computing cross-spectral density for epochs 13..13\n",
      "    computing cross-spectral density for epochs 14..14\n",
      "    computing cross-spectral density for epochs 15..15\n",
      "    computing cross-spectral density for epochs 16..16\n",
      "    computing cross-spectral density for epochs 17..17\n"
     ]
    },
    {
     "name": "stderr",
     "output_type": "stream",
     "text": [
      "[Parallel(n_jobs=-1)]: Using backend LokyBackend with 8 concurrent workers.\n",
      "[Parallel(n_jobs=-1)]: Using backend LokyBackend with 8 concurrent workers.\n",
      "[Parallel(n_jobs=-1)]: Using backend LokyBackend with 8 concurrent workers.\n",
      "[Parallel(n_jobs=-1)]: Using backend LokyBackend with 8 concurrent workers.\n",
      "[Parallel(n_jobs=-1)]: Using backend LokyBackend with 8 concurrent workers.\n",
      "[Parallel(n_jobs=-1)]: Using backend LokyBackend with 8 concurrent workers.\n",
      "[Parallel(n_jobs=-1)]: Using backend LokyBackend with 8 concurrent workers.\n",
      "[Parallel(n_jobs=-1)]: Using backend LokyBackend with 8 concurrent workers.\n",
      "[Parallel(n_jobs=-1)]: Using backend LokyBackend with 8 concurrent workers.\n",
      "[Parallel(n_jobs=-1)]: Using backend LokyBackend with 8 concurrent workers.\n"
     ]
    },
    {
     "name": "stdout",
     "output_type": "stream",
     "text": [
      "    computing cross-spectral density for epochs 18..18\n",
      "    computing cross-spectral density for epochs 19..19\n",
      "    computing cross-spectral density for epochs 20..20\n",
      "    computing cross-spectral density for epochs 21..21\n",
      "    computing cross-spectral density for epochs 22..22\n",
      "    computing cross-spectral density for epochs 23..23\n",
      "    computing cross-spectral density for epochs 24..24\n",
      "    computing cross-spectral density for epochs 25..25\n",
      "    computing cross-spectral density for epochs 26..26\n"
     ]
    },
    {
     "name": "stderr",
     "output_type": "stream",
     "text": [
      "[Parallel(n_jobs=-1)]: Using backend LokyBackend with 8 concurrent workers.\n",
      "[Parallel(n_jobs=-1)]: Using backend LokyBackend with 8 concurrent workers.\n",
      "[Parallel(n_jobs=-1)]: Using backend LokyBackend with 8 concurrent workers.\n",
      "[Parallel(n_jobs=-1)]: Using backend LokyBackend with 8 concurrent workers.\n",
      "[Parallel(n_jobs=-1)]: Using backend LokyBackend with 8 concurrent workers.\n",
      "[Parallel(n_jobs=-1)]: Using backend LokyBackend with 8 concurrent workers.\n",
      "[Parallel(n_jobs=-1)]: Using backend LokyBackend with 8 concurrent workers.\n",
      "[Parallel(n_jobs=-1)]: Using backend LokyBackend with 8 concurrent workers.\n",
      "[Parallel(n_jobs=-1)]: Using backend LokyBackend with 8 concurrent workers.\n"
     ]
    },
    {
     "name": "stdout",
     "output_type": "stream",
     "text": [
      "    computing cross-spectral density for epochs 27..27\n",
      "    computing cross-spectral density for epochs 28..28\n",
      "    computing cross-spectral density for epochs 29..29\n",
      "    computing cross-spectral density for epochs 30..30\n",
      "    computing cross-spectral density for epochs 31..31\n",
      "    computing cross-spectral density for epochs 32..32\n",
      "    computing cross-spectral density for epochs 33..33\n",
      "    computing cross-spectral density for epochs 34..34\n",
      "    computing cross-spectral density for epochs 35..35\n",
      "    computing cross-spectral density for epochs 36..36\n"
     ]
    },
    {
     "name": "stderr",
     "output_type": "stream",
     "text": [
      "[Parallel(n_jobs=-1)]: Using backend LokyBackend with 8 concurrent workers.\n",
      "[Parallel(n_jobs=-1)]: Using backend LokyBackend with 8 concurrent workers.\n",
      "[Parallel(n_jobs=-1)]: Using backend LokyBackend with 8 concurrent workers.\n",
      "[Parallel(n_jobs=-1)]: Using backend LokyBackend with 8 concurrent workers.\n",
      "[Parallel(n_jobs=-1)]: Using backend LokyBackend with 8 concurrent workers.\n",
      "[Parallel(n_jobs=-1)]: Using backend LokyBackend with 8 concurrent workers.\n",
      "[Parallel(n_jobs=-1)]: Using backend LokyBackend with 8 concurrent workers.\n",
      "[Parallel(n_jobs=-1)]: Using backend LokyBackend with 8 concurrent workers.\n",
      "[Parallel(n_jobs=-1)]: Using backend LokyBackend with 8 concurrent workers.\n",
      "[Parallel(n_jobs=-1)]: Using backend LokyBackend with 8 concurrent workers.\n"
     ]
    },
    {
     "name": "stdout",
     "output_type": "stream",
     "text": [
      "    computing cross-spectral density for epochs 37..37\n",
      "    computing cross-spectral density for epochs 38..38\n",
      "    computing cross-spectral density for epochs 39..39\n",
      "    computing cross-spectral density for epochs 40..40\n",
      "    computing cross-spectral density for epochs 41..41\n",
      "    computing cross-spectral density for epochs 42..42\n",
      "    computing cross-spectral density for epochs 43..43\n",
      "    computing cross-spectral density for epochs 44..44\n",
      "    computing cross-spectral density for epochs 45..45\n",
      "    computing cross-spectral density for epochs 46..46\n"
     ]
    },
    {
     "name": "stderr",
     "output_type": "stream",
     "text": [
      "[Parallel(n_jobs=-1)]: Using backend LokyBackend with 8 concurrent workers.\n",
      "[Parallel(n_jobs=-1)]: Using backend LokyBackend with 8 concurrent workers.\n",
      "[Parallel(n_jobs=-1)]: Using backend LokyBackend with 8 concurrent workers.\n",
      "[Parallel(n_jobs=-1)]: Using backend LokyBackend with 8 concurrent workers.\n",
      "[Parallel(n_jobs=-1)]: Using backend LokyBackend with 8 concurrent workers.\n",
      "[Parallel(n_jobs=-1)]: Using backend LokyBackend with 8 concurrent workers.\n",
      "[Parallel(n_jobs=-1)]: Using backend LokyBackend with 8 concurrent workers.\n",
      "[Parallel(n_jobs=-1)]: Using backend LokyBackend with 8 concurrent workers.\n",
      "[Parallel(n_jobs=-1)]: Using backend LokyBackend with 8 concurrent workers.\n",
      "[Parallel(n_jobs=-1)]: Using backend LokyBackend with 8 concurrent workers.\n"
     ]
    },
    {
     "name": "stdout",
     "output_type": "stream",
     "text": [
      "    computing cross-spectral density for epochs 47..47\n",
      "    computing cross-spectral density for epochs 48..48\n",
      "    computing cross-spectral density for epochs 49..49\n",
      "    computing cross-spectral density for epochs 50..50\n",
      "    computing cross-spectral density for epochs 51..51\n",
      "    computing cross-spectral density for epochs 52..52\n",
      "    computing cross-spectral density for epochs 53..53\n",
      "    computing cross-spectral density for epochs 54..54\n",
      "    computing cross-spectral density for epochs 55..55\n",
      "    computing cross-spectral density for epochs 56..56\n"
     ]
    },
    {
     "name": "stderr",
     "output_type": "stream",
     "text": [
      "[Parallel(n_jobs=-1)]: Using backend LokyBackend with 8 concurrent workers.\n",
      "[Parallel(n_jobs=-1)]: Using backend LokyBackend with 8 concurrent workers.\n",
      "[Parallel(n_jobs=-1)]: Using backend LokyBackend with 8 concurrent workers.\n",
      "[Parallel(n_jobs=-1)]: Using backend LokyBackend with 8 concurrent workers.\n",
      "[Parallel(n_jobs=-1)]: Using backend LokyBackend with 8 concurrent workers.\n",
      "[Parallel(n_jobs=-1)]: Using backend LokyBackend with 8 concurrent workers.\n",
      "[Parallel(n_jobs=-1)]: Using backend LokyBackend with 8 concurrent workers.\n",
      "[Parallel(n_jobs=-1)]: Using backend LokyBackend with 8 concurrent workers.\n",
      "[Parallel(n_jobs=-1)]: Using backend LokyBackend with 8 concurrent workers.\n",
      "[Parallel(n_jobs=-1)]: Using backend LokyBackend with 8 concurrent workers.\n"
     ]
    },
    {
     "name": "stdout",
     "output_type": "stream",
     "text": [
      "    computing cross-spectral density for epochs 57..57\n",
      "    computing cross-spectral density for epochs 58..58\n",
      "    computing cross-spectral density for epochs 59..59\n",
      "    computing cross-spectral density for epochs 60..60\n",
      "    computing cross-spectral density for epochs 61..61\n",
      "    computing cross-spectral density for epochs 62..62\n",
      "    computing cross-spectral density for epochs 63..63\n",
      "    computing cross-spectral density for epochs 64..64\n",
      "    computing cross-spectral density for epochs 65..65\n",
      "    computing cross-spectral density for epochs 66..66\n"
     ]
    },
    {
     "name": "stderr",
     "output_type": "stream",
     "text": [
      "[Parallel(n_jobs=-1)]: Using backend LokyBackend with 8 concurrent workers.\n",
      "[Parallel(n_jobs=-1)]: Using backend LokyBackend with 8 concurrent workers.\n",
      "[Parallel(n_jobs=-1)]: Using backend LokyBackend with 8 concurrent workers.\n",
      "[Parallel(n_jobs=-1)]: Using backend LokyBackend with 8 concurrent workers.\n",
      "[Parallel(n_jobs=-1)]: Using backend LokyBackend with 8 concurrent workers.\n",
      "[Parallel(n_jobs=-1)]: Using backend LokyBackend with 8 concurrent workers.\n",
      "[Parallel(n_jobs=-1)]: Using backend LokyBackend with 8 concurrent workers.\n",
      "[Parallel(n_jobs=-1)]: Using backend LokyBackend with 8 concurrent workers.\n",
      "[Parallel(n_jobs=-1)]: Using backend LokyBackend with 8 concurrent workers.\n",
      "[Parallel(n_jobs=-1)]: Using backend LokyBackend with 8 concurrent workers.\n"
     ]
    },
    {
     "name": "stdout",
     "output_type": "stream",
     "text": [
      "    computing cross-spectral density for epochs 67..67\n",
      "    computing cross-spectral density for epochs 68..68\n",
      "    computing cross-spectral density for epochs 69..69\n",
      "    computing cross-spectral density for epochs 70..70\n",
      "    computing cross-spectral density for epochs 71..71\n",
      "    computing cross-spectral density for epochs 72..72\n",
      "    computing cross-spectral density for epochs 73..73\n",
      "    assembling connectivity matrix\n",
      "[Connectivity computation done]\n",
      "Connectivity computation...\n",
      "only using indices for lower-triangular matrix\n",
      "    computing connectivity for 66 connections\n",
      "    using t=0.000s..5.000s for estimation (2001 points)\n",
      "    frequencies: 61.6Hz..100.0Hz (193 points)\n",
      "    connectivity scores will be averaged for each band\n",
      "    Using multitaper spectrum estimation with 7 DPSS windows\n",
      "    the following metrics will be computed: PLV\n",
      "    computing cross-spectral density for epochs 1..1\n",
      "    computing cross-spectral density for epochs 2..2\n"
     ]
    },
    {
     "name": "stderr",
     "output_type": "stream",
     "text": [
      "[Parallel(n_jobs=-1)]: Using backend LokyBackend with 8 concurrent workers.\n",
      "[Parallel(n_jobs=-1)]: Using backend LokyBackend with 8 concurrent workers.\n",
      "[Parallel(n_jobs=-1)]: Using backend LokyBackend with 8 concurrent workers.\n",
      "[Parallel(n_jobs=-1)]: Using backend LokyBackend with 8 concurrent workers.\n",
      "[Parallel(n_jobs=-1)]: Using backend LokyBackend with 8 concurrent workers.\n",
      "[Parallel(n_jobs=-1)]: Using backend LokyBackend with 8 concurrent workers.\n",
      "[Parallel(n_jobs=-1)]: Using backend LokyBackend with 8 concurrent workers.\n",
      "/home/wanglab/Documents/George Kenefati/Code/eeg_toolkit/eeg_toolkit/functional_connectivity.py:37: RuntimeWarning: There were no Annotations stored in <EpochsArray |  73 events (all good), 0 – 5 s, baseline off, ~13.4 MB, data loaded,\n",
      " '1': 73>, so metadata was not modified.\n",
      "  con = mne_connectivity.spectral_connectivity_epochs(\n",
      "[Parallel(n_jobs=-1)]: Using backend LokyBackend with 8 concurrent workers.\n",
      "[Parallel(n_jobs=-1)]: Using backend LokyBackend with 8 concurrent workers.\n"
     ]
    },
    {
     "name": "stdout",
     "output_type": "stream",
     "text": [
      "    computing cross-spectral density for epochs 3..3\n",
      "    computing cross-spectral density for epochs 4..4\n",
      "    computing cross-spectral density for epochs 5..5\n",
      "    computing cross-spectral density for epochs 6..6\n",
      "    computing cross-spectral density for epochs 7..7\n",
      "    computing cross-spectral density for epochs 8..8\n",
      "    computing cross-spectral density for epochs 9..9\n",
      "    computing cross-spectral density for epochs 10..10\n",
      "    computing cross-spectral density for epochs 11..11\n"
     ]
    },
    {
     "name": "stderr",
     "output_type": "stream",
     "text": [
      "[Parallel(n_jobs=-1)]: Using backend LokyBackend with 8 concurrent workers.\n",
      "[Parallel(n_jobs=-1)]: Using backend LokyBackend with 8 concurrent workers.\n",
      "[Parallel(n_jobs=-1)]: Using backend LokyBackend with 8 concurrent workers.\n",
      "[Parallel(n_jobs=-1)]: Using backend LokyBackend with 8 concurrent workers.\n",
      "[Parallel(n_jobs=-1)]: Using backend LokyBackend with 8 concurrent workers.\n",
      "[Parallel(n_jobs=-1)]: Using backend LokyBackend with 8 concurrent workers.\n",
      "[Parallel(n_jobs=-1)]: Using backend LokyBackend with 8 concurrent workers.\n",
      "[Parallel(n_jobs=-1)]: Using backend LokyBackend with 8 concurrent workers.\n",
      "[Parallel(n_jobs=-1)]: Using backend LokyBackend with 8 concurrent workers.\n"
     ]
    },
    {
     "name": "stdout",
     "output_type": "stream",
     "text": [
      "    computing cross-spectral density for epochs 12..12\n",
      "    computing cross-spectral density for epochs 13..13\n",
      "    computing cross-spectral density for epochs 14..14\n",
      "    computing cross-spectral density for epochs 15..15\n",
      "    computing cross-spectral density for epochs 16..16\n",
      "    computing cross-spectral density for epochs 17..17\n",
      "    computing cross-spectral density for epochs 18..18\n",
      "    computing cross-spectral density for epochs 19..19\n",
      "    computing cross-spectral density for epochs 20..20\n"
     ]
    },
    {
     "name": "stderr",
     "output_type": "stream",
     "text": [
      "[Parallel(n_jobs=-1)]: Using backend LokyBackend with 8 concurrent workers.\n",
      "[Parallel(n_jobs=-1)]: Using backend LokyBackend with 8 concurrent workers.\n",
      "[Parallel(n_jobs=-1)]: Using backend LokyBackend with 8 concurrent workers.\n",
      "[Parallel(n_jobs=-1)]: Using backend LokyBackend with 8 concurrent workers.\n",
      "[Parallel(n_jobs=-1)]: Using backend LokyBackend with 8 concurrent workers.\n",
      "[Parallel(n_jobs=-1)]: Using backend LokyBackend with 8 concurrent workers.\n",
      "[Parallel(n_jobs=-1)]: Using backend LokyBackend with 8 concurrent workers.\n",
      "[Parallel(n_jobs=-1)]: Using backend LokyBackend with 8 concurrent workers.\n",
      "[Parallel(n_jobs=-1)]: Using backend LokyBackend with 8 concurrent workers.\n"
     ]
    },
    {
     "name": "stdout",
     "output_type": "stream",
     "text": [
      "    computing cross-spectral density for epochs 21..21\n",
      "    computing cross-spectral density for epochs 22..22\n",
      "    computing cross-spectral density for epochs 23..23\n",
      "    computing cross-spectral density for epochs 24..24\n",
      "    computing cross-spectral density for epochs 25..25\n",
      "    computing cross-spectral density for epochs 26..26\n",
      "    computing cross-spectral density for epochs 27..27\n",
      "    computing cross-spectral density for epochs 28..28\n",
      "    computing cross-spectral density for epochs 29..29\n"
     ]
    },
    {
     "name": "stderr",
     "output_type": "stream",
     "text": [
      "[Parallel(n_jobs=-1)]: Using backend LokyBackend with 8 concurrent workers.\n",
      "[Parallel(n_jobs=-1)]: Using backend LokyBackend with 8 concurrent workers.\n",
      "[Parallel(n_jobs=-1)]: Using backend LokyBackend with 8 concurrent workers.\n",
      "[Parallel(n_jobs=-1)]: Using backend LokyBackend with 8 concurrent workers.\n",
      "[Parallel(n_jobs=-1)]: Using backend LokyBackend with 8 concurrent workers.\n",
      "[Parallel(n_jobs=-1)]: Using backend LokyBackend with 8 concurrent workers.\n",
      "[Parallel(n_jobs=-1)]: Using backend LokyBackend with 8 concurrent workers.\n",
      "[Parallel(n_jobs=-1)]: Using backend LokyBackend with 8 concurrent workers.\n",
      "[Parallel(n_jobs=-1)]: Using backend LokyBackend with 8 concurrent workers.\n"
     ]
    },
    {
     "name": "stdout",
     "output_type": "stream",
     "text": [
      "    computing cross-spectral density for epochs 30..30\n",
      "    computing cross-spectral density for epochs 31..31\n",
      "    computing cross-spectral density for epochs 32..32\n",
      "    computing cross-spectral density for epochs 33..33\n",
      "    computing cross-spectral density for epochs 34..34\n",
      "    computing cross-spectral density for epochs 35..35\n",
      "    computing cross-spectral density for epochs 36..36\n",
      "    computing cross-spectral density for epochs 37..37\n",
      "    computing cross-spectral density for epochs 38..38\n"
     ]
    },
    {
     "name": "stderr",
     "output_type": "stream",
     "text": [
      "[Parallel(n_jobs=-1)]: Using backend LokyBackend with 8 concurrent workers.\n",
      "[Parallel(n_jobs=-1)]: Using backend LokyBackend with 8 concurrent workers.\n",
      "[Parallel(n_jobs=-1)]: Using backend LokyBackend with 8 concurrent workers.\n",
      "[Parallel(n_jobs=-1)]: Using backend LokyBackend with 8 concurrent workers.\n",
      "[Parallel(n_jobs=-1)]: Using backend LokyBackend with 8 concurrent workers.\n",
      "[Parallel(n_jobs=-1)]: Using backend LokyBackend with 8 concurrent workers.\n",
      "[Parallel(n_jobs=-1)]: Using backend LokyBackend with 8 concurrent workers.\n",
      "[Parallel(n_jobs=-1)]: Using backend LokyBackend with 8 concurrent workers.\n",
      "[Parallel(n_jobs=-1)]: Using backend LokyBackend with 8 concurrent workers.\n"
     ]
    },
    {
     "name": "stdout",
     "output_type": "stream",
     "text": [
      "    computing cross-spectral density for epochs 39..39\n",
      "    computing cross-spectral density for epochs 40..40\n",
      "    computing cross-spectral density for epochs 41..41\n",
      "    computing cross-spectral density for epochs 42..42\n",
      "    computing cross-spectral density for epochs 43..43\n",
      "    computing cross-spectral density for epochs 44..44\n",
      "    computing cross-spectral density for epochs 45..45\n",
      "    computing cross-spectral density for epochs 46..46\n",
      "    computing cross-spectral density for epochs 47..47\n"
     ]
    },
    {
     "name": "stderr",
     "output_type": "stream",
     "text": [
      "[Parallel(n_jobs=-1)]: Using backend LokyBackend with 8 concurrent workers.\n",
      "[Parallel(n_jobs=-1)]: Using backend LokyBackend with 8 concurrent workers.\n",
      "[Parallel(n_jobs=-1)]: Using backend LokyBackend with 8 concurrent workers.\n",
      "[Parallel(n_jobs=-1)]: Using backend LokyBackend with 8 concurrent workers.\n",
      "[Parallel(n_jobs=-1)]: Using backend LokyBackend with 8 concurrent workers.\n",
      "[Parallel(n_jobs=-1)]: Using backend LokyBackend with 8 concurrent workers.\n",
      "[Parallel(n_jobs=-1)]: Using backend LokyBackend with 8 concurrent workers.\n",
      "[Parallel(n_jobs=-1)]: Using backend LokyBackend with 8 concurrent workers.\n",
      "[Parallel(n_jobs=-1)]: Using backend LokyBackend with 8 concurrent workers.\n"
     ]
    },
    {
     "name": "stdout",
     "output_type": "stream",
     "text": [
      "    computing cross-spectral density for epochs 48..48\n",
      "    computing cross-spectral density for epochs 49..49\n",
      "    computing cross-spectral density for epochs 50..50\n",
      "    computing cross-spectral density for epochs 51..51\n",
      "    computing cross-spectral density for epochs 52..52\n",
      "    computing cross-spectral density for epochs 53..53\n",
      "    computing cross-spectral density for epochs 54..54\n",
      "    computing cross-spectral density for epochs 55..55\n",
      "    computing cross-spectral density for epochs 56..56\n"
     ]
    },
    {
     "name": "stderr",
     "output_type": "stream",
     "text": [
      "[Parallel(n_jobs=-1)]: Using backend LokyBackend with 8 concurrent workers.\n",
      "[Parallel(n_jobs=-1)]: Using backend LokyBackend with 8 concurrent workers.\n",
      "[Parallel(n_jobs=-1)]: Using backend LokyBackend with 8 concurrent workers.\n",
      "[Parallel(n_jobs=-1)]: Using backend LokyBackend with 8 concurrent workers.\n",
      "[Parallel(n_jobs=-1)]: Using backend LokyBackend with 8 concurrent workers.\n",
      "[Parallel(n_jobs=-1)]: Using backend LokyBackend with 8 concurrent workers.\n",
      "[Parallel(n_jobs=-1)]: Using backend LokyBackend with 8 concurrent workers.\n",
      "[Parallel(n_jobs=-1)]: Using backend LokyBackend with 8 concurrent workers.\n",
      "[Parallel(n_jobs=-1)]: Using backend LokyBackend with 8 concurrent workers.\n"
     ]
    },
    {
     "name": "stdout",
     "output_type": "stream",
     "text": [
      "    computing cross-spectral density for epochs 57..57\n",
      "    computing cross-spectral density for epochs 58..58\n",
      "    computing cross-spectral density for epochs 59..59\n",
      "    computing cross-spectral density for epochs 60..60\n",
      "    computing cross-spectral density for epochs 61..61\n",
      "    computing cross-spectral density for epochs 62..62\n",
      "    computing cross-spectral density for epochs 63..63\n",
      "    computing cross-spectral density for epochs 64..64\n",
      "    computing cross-spectral density for epochs 65..65\n"
     ]
    },
    {
     "name": "stderr",
     "output_type": "stream",
     "text": [
      "[Parallel(n_jobs=-1)]: Using backend LokyBackend with 8 concurrent workers.\n",
      "[Parallel(n_jobs=-1)]: Using backend LokyBackend with 8 concurrent workers.\n",
      "[Parallel(n_jobs=-1)]: Using backend LokyBackend with 8 concurrent workers.\n",
      "[Parallel(n_jobs=-1)]: Using backend LokyBackend with 8 concurrent workers.\n",
      "[Parallel(n_jobs=-1)]: Using backend LokyBackend with 8 concurrent workers.\n",
      "[Parallel(n_jobs=-1)]: Using backend LokyBackend with 8 concurrent workers.\n",
      "[Parallel(n_jobs=-1)]: Using backend LokyBackend with 8 concurrent workers.\n",
      "[Parallel(n_jobs=-1)]: Using backend LokyBackend with 8 concurrent workers.\n",
      "[Parallel(n_jobs=-1)]: Using backend LokyBackend with 8 concurrent workers.\n"
     ]
    },
    {
     "name": "stdout",
     "output_type": "stream",
     "text": [
      "    computing cross-spectral density for epochs 66..66\n",
      "    computing cross-spectral density for epochs 67..67\n",
      "    computing cross-spectral density for epochs 68..68\n",
      "    computing cross-spectral density for epochs 69..69\n",
      "    computing cross-spectral density for epochs 70..70\n",
      "    computing cross-spectral density for epochs 71..71\n",
      "    computing cross-spectral density for epochs 72..72\n",
      "    computing cross-spectral density for epochs 73..73\n",
      "    assembling connectivity matrix\n",
      "[Connectivity computation done]\n"
     ]
    },
    {
     "name": "stderr",
     "output_type": "stream",
     "text": [
      "[Parallel(n_jobs=-1)]: Using backend LokyBackend with 8 concurrent workers.\n",
      "[Parallel(n_jobs=-1)]: Using backend LokyBackend with 8 concurrent workers.\n",
      "[Parallel(n_jobs=-1)]: Using backend LokyBackend with 8 concurrent workers.\n",
      "[Parallel(n_jobs=-1)]: Using backend LokyBackend with 8 concurrent workers.\n",
      "[Parallel(n_jobs=-1)]: Using backend LokyBackend with 8 concurrent workers.\n",
      "[Parallel(n_jobs=-1)]: Using backend LokyBackend with 8 concurrent workers.\n",
      "[Parallel(n_jobs=-1)]: Using backend LokyBackend with 8 concurrent workers.\n",
      "[Parallel(n_jobs=-1)]: Using backend LokyBackend with 8 concurrent workers.\n"
     ]
    },
    {
     "ename": "NameError",
     "evalue": "name 'con_epochs' is not defined",
     "output_type": "error",
     "traceback": [
      "\u001b[0;31m---------------------------------------------------------------------------\u001b[0m",
      "\u001b[0;31mNameError\u001b[0m                                 Traceback (most recent call last)",
      "Cell \u001b[0;32mIn[27], line 10\u001b[0m\n\u001b[1;32m      3\u001b[0m sub_data_path_zepo \u001b[38;5;241m=\u001b[39m Z_scored_epochs_data_path \u001b[38;5;241m/\u001b[39m time_win_path \u001b[38;5;241m/\u001b[39m sub_id \n\u001b[1;32m      4\u001b[0m con_methods \u001b[38;5;241m=\u001b[39m [\n\u001b[1;32m      5\u001b[0m     \u001b[38;5;124m\"\u001b[39m\u001b[38;5;124mwpli\u001b[39m\u001b[38;5;124m\"\u001b[39m,\n\u001b[1;32m      6\u001b[0m     \u001b[38;5;124m\"\u001b[39m\u001b[38;5;124mdpli\u001b[39m\u001b[38;5;124m\"\u001b[39m,\n\u001b[1;32m      7\u001b[0m     \u001b[38;5;124m\"\u001b[39m\u001b[38;5;124mplv\u001b[39m\u001b[38;5;124m\"\u001b[39m,\n\u001b[1;32m      8\u001b[0m     \u001b[38;5;66;03m# \"\",\u001b[39;00m\n\u001b[1;32m      9\u001b[0m ]\n\u001b[0;32m---> 10\u001b[0m \u001b[43mcompute_connectivity_epochs\u001b[49m\u001b[43m(\u001b[49m\n\u001b[1;32m     11\u001b[0m \u001b[43m    \u001b[49m\u001b[43msub_data_path_zepo\u001b[49m\u001b[43m,\u001b[49m\u001b[43m \u001b[49m\u001b[43mroi_names\u001b[49m\u001b[43m,\u001b[49m\u001b[43m \u001b[49m\u001b[43mcon_methods\u001b[49m\u001b[43m,\u001b[49m\u001b[43m \u001b[49m\u001b[43mFreq_Bands\u001b[49m\u001b[43m,\u001b[49m\u001b[43m \u001b[49m\u001b[43msfreq\u001b[49m\n\u001b[1;32m     12\u001b[0m \u001b[43m\u001b[49m\u001b[43m)\u001b[49m\n\u001b[1;32m     14\u001b[0m \u001b[38;5;66;03m# Resting state\u001b[39;00m\n\u001b[1;32m     15\u001b[0m \u001b[38;5;66;03m# eyes closed\u001b[39;00m\n\u001b[1;32m     16\u001b[0m condition \u001b[38;5;241m=\u001b[39m \u001b[38;5;124m\"\u001b[39m\u001b[38;5;124meyes open\u001b[39m\u001b[38;5;124m\"\u001b[39m  \u001b[38;5;66;03m# replace with the actual condition\u001b[39;00m\n",
      "File \u001b[0;32m~/Documents/George Kenefati/Code/eeg_toolkit/eeg_toolkit/functional_connectivity.py:50\u001b[0m, in \u001b[0;36mcompute_connectivity_epochs\u001b[0;34m(data_path, roi_names, con_methods, Freq_Bands, sfreq)\u001b[0m\n\u001b[1;32m     37\u001b[0m         con \u001b[38;5;241m=\u001b[39m mne_connectivity\u001b[38;5;241m.\u001b[39mspectral_connectivity_epochs(\n\u001b[1;32m     38\u001b[0m             epochs,\n\u001b[1;32m     39\u001b[0m             method\u001b[38;5;241m=\u001b[39mmethod,\n\u001b[0;32m   (...)\u001b[0m\n\u001b[1;32m     46\u001b[0m             n_jobs\u001b[38;5;241m=\u001b[39m\u001b[38;5;241m-\u001b[39m\u001b[38;5;241m1\u001b[39m,\n\u001b[1;32m     47\u001b[0m         )\n\u001b[1;32m     49\u001b[0m \u001b[38;5;28;01mfor\u001b[39;00m c \u001b[38;5;129;01min\u001b[39;00m \u001b[38;5;28mrange\u001b[39m(n_con_methods):\n\u001b[0;32m---> 50\u001b[0m     con_epochs_array[c] \u001b[38;5;241m=\u001b[39m \u001b[43mcon_epochs\u001b[49m[c]\u001b[38;5;241m.\u001b[39mget_data(output\u001b[38;5;241m=\u001b[39m\u001b[38;5;124m\"\u001b[39m\u001b[38;5;124mdense\u001b[39m\u001b[38;5;124m\"\u001b[39m)\n\u001b[1;32m     52\u001b[0m \u001b[38;5;66;03m# Plotting\u001b[39;00m\n\u001b[1;32m     53\u001b[0m \u001b[38;5;28;01mfor\u001b[39;00m (band, method), con \u001b[38;5;129;01min\u001b[39;00m con_matrices\u001b[38;5;241m.\u001b[39mitems():\n",
      "\u001b[0;31mNameError\u001b[0m: name 'con_epochs' is not defined"
     ]
    }
   ],
   "source": [
    "for sub_id in sub_ids:\n",
    "    # Epochs\n",
    "    sub_data_path_zepo = Z_scored_epochs_data_path / time_win_path / sub_id\n",
    "    con_methods = [\n",
    "        \"wpli\",\n",
    "        \"dpli\",\n",
    "        \"plv\",\n",
    "        # \"\",\n",
    "    ]\n",
    "    compute_connectivity_epochs(\n",
    "        sub_data_path_zepo, roi_names, con_methods, Freq_Bands, sfreq\n",
    "    )\n",
    "\n",
    "    # Resting state\n",
    "    # eyes closed\n",
    "    condition = \"eyes open\"  # replace with the actual condition\n",
    "    sub_data_path_EO = f\"{data_path_EO}/{time_win_path}/{sub_id}/\"\n",
    "    # compute_connectivity_resting_state(sub_data_path_EO, roi_names, con_methods, freq_bounds, sfreq, condition)\n",
    "\n",
    "    # eyes open\n",
    "    condition = \"eyes closed\"  # replace with the actual condition\n",
    "    sub_data_path_EC = f\"{data_path_EC}/{time_win_path}/{sub_id}/\"\n",
    "    # compute_connectivity_resting_state(sub_data_path_EC, roi_names, con_methods, freq_bounds, sfreq, condition)"
   ]
  },
  {
   "cell_type": "markdown",
   "id": "d3dc723b-cca8-4029-8c75-c42293a264b4",
   "metadata": {},
   "source": [
    "## testing"
   ]
  },
  {
   "cell_type": "code",
   "execution_count": null,
   "id": "75b4d5be-f60f-47f2-8a6c-5ade494711ef",
   "metadata": {},
   "outputs": [],
   "source": [
    "data_path = sub_data_path_zepo"
   ]
  },
  {
   "cell_type": "code",
   "execution_count": 36,
   "id": "18bcac75",
   "metadata": {},
   "outputs": [
    {
     "data": {
      "text/plain": [
       "'../../../Data/STC_Z_scored_Epochs/5_sec_time_window//018/'"
      ]
     },
     "execution_count": 36,
     "metadata": {},
     "output_type": "execute_result"
    }
   ],
   "source": [
    "data_path"
   ]
  },
  {
   "cell_type": "code",
   "execution_count": 20,
   "id": "24631010-bee8-47c4-9bc5-08797f3be1c8",
   "metadata": {
    "scrolled": true
   },
   "outputs": [
    {
     "name": "stdout",
     "output_type": "stream",
     "text": [
      "Connectivity computation...\n",
      "only using indices for lower-triangular matrix\n",
      "    computing connectivity for 66 connections\n",
      "    using t=0.000s..2.000s for estimation (801 points)\n",
      "    computing connectivity for the bands:\n",
      "     band 1: 4.0Hz..8.0Hz (17 points)\n",
      "     band 2: 8.0Hz..13.0Hz (21 points)\n",
      "     band 3: 13.0Hz..30.0Hz (69 points)\n",
      "     band 4: 30.0Hz..58.5Hz (115 points)\n",
      "     band 5: 58.5Hz..61.5Hz (13 points)\n",
      "     band 6: 61.5Hz..100.0Hz (155 points)\n",
      "    connectivity scores will be averaged for each band\n",
      "    using CWT with Morlet wavelets to estimate spectra\n",
      "    the following metrics will be computed: WPLI, DPLI\n",
      "    computing cross-spectral density for epoch 1\n"
     ]
    },
    {
     "name": "stderr",
     "output_type": "stream",
     "text": [
      "/tmp/ipykernel_97381/2899385425.py:22: RuntimeWarning: There were no Annotations stored in <EpochsArray |  73 events (all good), 0 – 5 s, baseline off, ~13.4 MB, data loaded,\n",
      " '1': 73>, so metadata was not modified.\n",
      "  con_epochs = spectral_connectivity_epochs(\n"
     ]
    },
    {
     "name": "stdout",
     "output_type": "stream",
     "text": [
      "    computing cross-spectral density for epoch 2\n",
      "    computing cross-spectral density for epoch 3\n",
      "    computing cross-spectral density for epoch 4\n",
      "    computing cross-spectral density for epoch 5\n",
      "    computing cross-spectral density for epoch 6\n",
      "    computing cross-spectral density for epoch 7\n",
      "    computing cross-spectral density for epoch 8\n",
      "    computing cross-spectral density for epoch 9\n",
      "    computing cross-spectral density for epoch 10\n",
      "    computing cross-spectral density for epoch 11\n",
      "    computing cross-spectral density for epoch 12\n",
      "    computing cross-spectral density for epoch 13\n",
      "    computing cross-spectral density for epoch 14\n",
      "    computing cross-spectral density for epoch 15\n",
      "    computing cross-spectral density for epoch 16\n",
      "    computing cross-spectral density for epoch 17\n",
      "    computing cross-spectral density for epoch 18\n",
      "    computing cross-spectral density for epoch 19\n",
      "    computing cross-spectral density for epoch 20\n",
      "    computing cross-spectral density for epoch 21\n",
      "    computing cross-spectral density for epoch 22\n",
      "    computing cross-spectral density for epoch 23\n",
      "    computing cross-spectral density for epoch 24\n",
      "    computing cross-spectral density for epoch 25\n",
      "    computing cross-spectral density for epoch 26\n",
      "    computing cross-spectral density for epoch 27\n",
      "    computing cross-spectral density for epoch 28\n",
      "    computing cross-spectral density for epoch 29\n",
      "    computing cross-spectral density for epoch 30\n",
      "    computing cross-spectral density for epoch 31\n",
      "    computing cross-spectral density for epoch 32\n",
      "    computing cross-spectral density for epoch 33\n",
      "    computing cross-spectral density for epoch 34\n",
      "    computing cross-spectral density for epoch 35\n",
      "    computing cross-spectral density for epoch 36\n",
      "    computing cross-spectral density for epoch 37\n",
      "    computing cross-spectral density for epoch 38\n",
      "    computing cross-spectral density for epoch 39\n",
      "    computing cross-spectral density for epoch 40\n",
      "    computing cross-spectral density for epoch 41\n",
      "    computing cross-spectral density for epoch 42\n",
      "    computing cross-spectral density for epoch 43\n",
      "    computing cross-spectral density for epoch 44\n",
      "    computing cross-spectral density for epoch 45\n",
      "    computing cross-spectral density for epoch 46\n",
      "    computing cross-spectral density for epoch 47\n",
      "    computing cross-spectral density for epoch 48\n",
      "    computing cross-spectral density for epoch 49\n",
      "    computing cross-spectral density for epoch 50\n",
      "    computing cross-spectral density for epoch 51\n",
      "    computing cross-spectral density for epoch 52\n",
      "    computing cross-spectral density for epoch 53\n",
      "    computing cross-spectral density for epoch 54\n",
      "    computing cross-spectral density for epoch 55\n",
      "    computing cross-spectral density for epoch 56\n",
      "    computing cross-spectral density for epoch 57\n",
      "    computing cross-spectral density for epoch 58\n",
      "    computing cross-spectral density for epoch 59\n",
      "    computing cross-spectral density for epoch 60\n",
      "    computing cross-spectral density for epoch 61\n",
      "    computing cross-spectral density for epoch 62\n",
      "    computing cross-spectral density for epoch 63\n",
      "    computing cross-spectral density for epoch 64\n",
      "    computing cross-spectral density for epoch 65\n",
      "    computing cross-spectral density for epoch 66\n",
      "    computing cross-spectral density for epoch 67\n",
      "    computing cross-spectral density for epoch 68\n",
      "    computing cross-spectral density for epoch 69\n",
      "    computing cross-spectral density for epoch 70\n",
      "    computing cross-spectral density for epoch 71\n",
      "    computing cross-spectral density for epoch 72\n",
      "    computing cross-spectral density for epoch 73\n",
      "    assembling connectivity matrix\n",
      "[Connectivity computation done]\n"
     ]
    }
   ],
   "source": [
    "sfreq = epochs.info[\"sfreq\"]  # the sampling frequency\n",
    "n_freq_bands = len(Freq_Bands)\n",
    "min_freq = np.min(list(Freq_Bands.values()))\n",
    "max_freq = np.max(list(Freq_Bands.values()))\n",
    "\n",
    "# Prepare the freq points\n",
    "freqs = np.linspace(min_freq, max_freq, int((max_freq - min_freq) * 4 + 1))\n",
    "\n",
    "fmin = tuple([list(Freq_Bands.values())[f][0] for f in range(len(Freq_Bands))])\n",
    "fmax = tuple([list(Freq_Bands.values())[f][1] for f in range(len(Freq_Bands))])\n",
    "\n",
    "# We specify the connectivity measurements\n",
    "connectivity_methods = [\n",
    "    \"wpli\",\n",
    "    \"dpli\",\n",
    "    \"plv\",\n",
    "]\n",
    "n_con_methods = len(connectivity_methods)\n",
    "\n",
    "# Compute connectivity over trials\n",
    "con_epochs = spectral_connectivity_epochs(\n",
    "    epochs,\n",
    "    method=connectivity_methods,\n",
    "    sfreq=sfreq,\n",
    "    mode=\"cwt_morlet\",\n",
    "    cwt_freqs=freqs,\n",
    "    fmin=fmin,\n",
    "    fmax=fmax,\n",
    "    faverage=True,\n",
    "    tmin=tmin,\n",
    "    tmax=tmax,\n",
    "    cwt_n_cycles=4,\n",
    ")\n",
    "\n",
    "# Plotting\n",
    "plot_connectivity_circle(con_epochs_array, con_methods, Freq_Bands, roi_names)\n",
    "plot_global_connectivity(epochs, tmin, tmax, n_connections, con_epochs, Freq_Bands)\n",
    "plot_connectivity(con_epochs, t_con_max, roi_names, con_methods)\n",
    "plot_con_matrix(con_data, n_con_methods, connectivity_methods, roi_names, foi)\n",
    "\n"
   ]
  },
  {
   "cell_type": "code",
   "execution_count": null,
   "id": "442cea13-8444-4b48-9d35-1ccb05b3bd5a",
   "metadata": {},
   "outputs": [],
   "source": []
  }
 ],
 "metadata": {
  "kernelspec": {
   "display_name": "Python 3",
   "language": "python",
   "name": "python3"
  },
  "language_info": {
   "codemirror_mode": {
    "name": "ipython",
    "version": 3
   },
   "file_extension": ".py",
   "mimetype": "text/x-python",
   "name": "python",
   "nbconvert_exporter": "python",
   "pygments_lexer": "ipython3",
   "version": "3.11.6"
  }
 },
 "nbformat": 4,
 "nbformat_minor": 5
}
