{
 "cells": [
  {
   "cell_type": "code",
   "execution_count": 6,
   "id": "f106c97e-0ed1-45e8-a660-09b064a6ee27",
   "metadata": {},
   "outputs": [],
   "source": [
    "import numpy as np\n",
    "import mne\n",
    "import mne_connectivity # import spectral_connectivity\n",
    "import scipy.io\n",
    "import os\n",
    "from glob import glob"
   ]
  },
  {
   "cell_type": "code",
   "execution_count": 7,
   "id": "3dad3845-35ee-450f-8e4f-20317e5cb64c",
   "metadata": {
    "tags": []
   },
   "outputs": [],
   "source": [
    "# Get stc only from selected labels\n",
    "roi_names = [# Left\n",
    "             'rostralanteriorcingulate-lh', # Left Rostral ACC\n",
    "             'caudalanteriorcingulate-lh', # Left Caudal ACC\n",
    "             'postcentral-lh', # Left S1,\n",
    "             'insula-lh', 'superiorfrontal-lh', # Left Insula, Left DL-PFC,\n",
    "             'medialorbitofrontal-lh', # Left Medial-OFC\n",
    "             # Right\n",
    "             'rostralanteriorcingulate-rh', # Right Rostral ACC\n",
    "             'caudalanteriorcingulate-rh', # Right Caudal ACC\n",
    "             'postcentral-rh', # , Right S1\n",
    "             'insula-rh', 'superiorfrontal-rh', # Right Insula, Right DL-PFC\n",
    "             'medialorbitofrontal-rh'] # Right Medial-OFC"
   ]
  },
  {
   "cell_type": "code",
   "execution_count": 11,
   "id": "e90c5cee-98bd-4244-a519-0396a80b0c22",
   "metadata": {},
   "outputs": [
    {
     "ename": "TypeError",
     "evalue": "glob() takes 1 positional argument but 2 were given",
     "output_type": "error",
     "traceback": [
      "\u001b[0;31m---------------------------------------------------------------------------\u001b[0m",
      "\u001b[0;31mTypeError\u001b[0m                                 Traceback (most recent call last)",
      "Cell \u001b[0;32mIn[11], line 5\u001b[0m\n\u001b[1;32m      2\u001b[0m sub_id\u001b[38;5;241m=\u001b[39m\u001b[38;5;124m'\u001b[39m\u001b[38;5;124m015\u001b[39m\u001b[38;5;124m'\u001b[39m\n\u001b[1;32m      3\u001b[0m data_path \u001b[38;5;241m=\u001b[39m \u001b[38;5;124mf\u001b[39m\u001b[38;5;124m'\u001b[39m\u001b[38;5;124m/../../Data/STC_Z_scored_Epochs/5_sec_time_window/\u001b[39m\u001b[38;5;132;01m{\u001b[39;00msub_id\u001b[38;5;132;01m}\u001b[39;00m\u001b[38;5;124m/\u001b[39m\u001b[38;5;124m'\u001b[39m\n\u001b[0;32m----> 5\u001b[0m file_path \u001b[38;5;241m=\u001b[39m \u001b[43mglob\u001b[49m\u001b[43m(\u001b[49m\u001b[43mdata_path\u001b[49m\u001b[43m,\u001b[49m\u001b[43m \u001b[49m\u001b[38;5;124;43m'\u001b[39;49m\u001b[38;5;124;43m*rh_stc_zepo.mat\u001b[39;49m\u001b[38;5;124;43m'\u001b[39;49m\u001b[43m)\u001b[49m\n\u001b[1;32m      6\u001b[0m \u001b[38;5;66;03m# 'caudalanteriorcingulate-rh_stc_zepo.mat'\u001b[39;00m\n\u001b[1;32m      7\u001b[0m data \u001b[38;5;241m=\u001b[39m scipy\u001b[38;5;241m.\u001b[39mio\u001b[38;5;241m.\u001b[39mloadmat(file_path)\n",
      "\u001b[0;31mTypeError\u001b[0m: glob() takes 1 positional argument but 2 were given"
     ]
    }
   ],
   "source": [
    "# Load the MATLAB file\n",
    "sub_id='015'\n",
    "data_path = f'/../../Data/STC_Z_scored_Epochs/5_sec_time_window/{sub_id}/'\n",
    "\n",
    "file_path = glob(data_path, '*rh_stc_zepo.mat')\n",
    "# 'caudalanteriorcingulate-rh_stc_zepo.mat'\n",
    "data = scipy.io.loadmat(file_path)\n",
    "\n",
    "# Display the keys and structure of the data\n",
    "data.keys(), {key: type(data[key]) for key in data.keys()}\n",
    "\n",
    "# Examine the shape and basic information of the 'data' array\n",
    "data_shape = data['data'].shape\n",
    "data_info = data['data']\n",
    "\n",
    "# Display the shape and some basic info about the data\n",
    "data_shape, data_info.dtype, data_info.ndim"
   ]
  },
  {
   "cell_type": "code",
   "execution_count": null,
   "id": "a5febb0f-ab31-4007-8859-c511ff1f1230",
   "metadata": {},
   "outputs": [],
   "source": [
    "# Reshape the data to be compatible with MNE-Connectivity\n",
    "# Assuming each sample is a separate time point and each trial is independent\n",
    "\n",
    "# Current shape is (trials, samples), need (trials, channels, samples)\n",
    "# Since we have only one channel (region), we add an extra dimension\n",
    "data_reshaped = data['data'][:, np.newaxis, :]\n",
    "\n",
    "# Create artificial data for a second region (placeholder)\n",
    "# In real analysis, this should be different data from another region\n",
    "data_region2 = np.copy(data_reshaped)\n",
    "\n",
    "# Verify the new shape\n",
    "data_reshaped.shape, data_region2.shape\n"
   ]
  },
  {
   "cell_type": "code",
   "execution_count": null,
   "id": "cc20bd4b-7c99-4b11-8997-696218a3256e",
   "metadata": {},
   "outputs": [],
   "source": [
    "# Assuming data_reshaped is your EEG data reshaped to (trials, channels, samples)\n",
    "# data_region2 is the placeholder for the second region, identical to data_reshaped\n",
    "\n",
    "# Concatenate the two regions along the channel dimension\n",
    "combined_data = np.concatenate([data_reshaped, data_region2], axis=1)\n",
    "\n",
    "# Create an MNE EpochsArray for compatibility with MNE-Connectivity\n",
    "info = mne.create_info(['region1', 'region2'], sfreq=100, ch_types='eeg')  # sfreq is the sampling frequency\n",
    "epochs = mne.EpochsArray(combined_data, info)\n",
    "\n",
    "# Compute wPLI\n",
    "fmin, fmax = 8, 13  # Define frequency band (e.g., alpha band)\n",
    "sfreq = epochs.info['sfreq']  # Sampling frequency\n",
    "con, freqs, times, n_epochs, n_tapers = spectral_connectivity(\n",
    "    epochs, method='wpli2_debiased', mode='multitaper', sfreq=sfreq,\n",
    "    fmin=fmin, fmax=fmax, faverage=True, mt_adaptive=True, n_jobs=1)\n",
    "\n",
    "# con contains the wPLI values between the two regions\n",
    "print(con)\n"
   ]
  }
 ],
 "metadata": {
  "kernelspec": {
   "display_name": "mne",
   "language": "python",
   "name": "mne"
  },
  "language_info": {
   "codemirror_mode": {
    "name": "ipython",
    "version": 3
   },
   "file_extension": ".py",
   "mimetype": "text/x-python",
   "name": "python",
   "nbconvert_exporter": "python",
   "pygments_lexer": "ipython3",
   "version": "3.11.6"
  }
 },
 "nbformat": 4,
 "nbformat_minor": 5
}
