{
 "cells": [
  {
   "cell_type": "markdown",
   "id": "0c556c1c-fefc-4f4b-83a0-e434ba7d5bfc",
   "metadata": {
    "tags": []
   },
   "source": [
    "## Extract eyes open and eyes closed and stop timestamps to crop data for resting state functional connectivity analysis\n",
    "#### Input: *stc.mat\n",
    "####  Output: *.mat or pickle"
   ]
  },
  {
   "cell_type": "code",
   "execution_count": 1,
   "id": "61f19c56-d9b6-4b71-8f09-7c14ce18f2fb",
   "metadata": {
    "tags": []
   },
   "outputs": [],
   "source": [
    "import sys\n",
    "import os\n",
    "sys.path.append('/home/wanglab/Documents/George Kenefati/Code/eeg_toolkit/')\n",
    "import mne\n",
    "import eeg_toolkit\n",
    "from eeg_toolkit import utils, preprocess\n",
    "# functional_connectivity\n",
    "from glob import glob"
   ]
  },
  {
   "cell_type": "code",
   "execution_count": 2,
   "id": "bc472cac-3bcd-47d6-aa8b-a22a81e8562f",
   "metadata": {},
   "outputs": [
    {
     "name": "stdout",
     "output_type": "stream",
     "text": [
      "[-2.5,0.0,2.5]\n"
     ]
    }
   ],
   "source": [
    "# Settings\n",
    "times_tup,time_win_path = preprocess.get_time_window(5)\n",
    "\n",
    "# Read in processed raw data\n",
    "data_path = '../../../Data/Processed Data/'\n",
    "epo_path = '../../../Data/Processed Data/' + time_win_path\n",
    "\n",
    "save_path_EC = '../../Data/FC_EC_resting/'\n",
    "save_path_EO = '../../Data/FC_EO_resting/'\n",
    "save_path_zepo = '../../Data/FC_Z_scored_Epochs/' + time_win_path\n",
    "save_paths = [save_path_EC,save_path_EO,save_path_zepo]\n",
    "\n",
    "[os.makedirs(path) for path in save_paths if not os.path.exists(path)]\n",
    "\n",
    "# Noise cov: crop raw during eyes-open resting condition\n",
    "noise_cov_win = 5.5, 7.5 # rest_min, rest_max"
   ]
  },
  {
   "cell_type": "code",
   "execution_count": 8,
   "id": "e38fc4d6-2341-428f-9131-1868ca9a799a",
   "metadata": {},
   "outputs": [
    {
     "name": "stdout",
     "output_type": "stream",
     "text": [
      "['018', '020', '021', '022', '023', '024', '027', '029', '030', '031', '032', '033', '034', '035', '036', '037', '038', '039', '040', '041', '042', '043', '044', '045', '046', '048', '049', '050', '051', '052', '053', '054', '055', '056', '057', '058', 'C1.', 'C2.', 'C3.', 'C5.', 'C6.', 'C7.', 'C8.', 'C9.', 'C10', 'C11', 'C12', 'C13', 'C14', 'C15', 'C16', 'C17', 'C18', 'C19', 'C20', 'C21', 'C22', 'C24', 'C25', 'C26', 'C27']\n"
     ]
    }
   ],
   "source": [
    "# viable subjects\n",
    "sub_ids = utils.import_subs(os.path.join(data_path,os.pardir),'sub_ids.txt')\n",
    "sub_ids = sub_ids[7:] # select only 64ch subs and turn into set\n",
    "print(sub_ids)"
   ]
  },
  {
   "cell_type": "code",
   "execution_count": null,
   "id": "3dad3845-35ee-450f-8e4f-20317e5cb64c",
   "metadata": {
    "tags": []
   },
   "outputs": [],
   "source": [
    "# Get stc only from selected labels\n",
    "roi_names = [# Left\n",
    "             'rostralanteriorcingulate-lh', # Left Rostral ACC\n",
    "             'caudalanteriorcingulate-lh', # Left Caudal ACC\n",
    "             'postcentral-lh', # Left S1,\n",
    "             'insula-lh', 'superiorfrontal-lh', # Left Insula, Left DL-PFC,\n",
    "             'medialorbitofrontal-lh', # Left Medial-OFC\n",
    "             # Right\n",
    "             'rostralanteriorcingulate-rh', # Right Rostral ACC\n",
    "             'caudalanteriorcingulate-rh', # Right Caudal ACC\n",
    "             'postcentral-rh', # , Right S1\n",
    "             'insula-rh', 'superiorfrontal-rh', # Right Insula, Right DL-PFC\n",
    "             'medialorbitofrontal-rh'] # Right Medial-OFC"
   ]
  },
  {
   "cell_type": "code",
   "execution_count": null,
   "id": "e90c5cee-98bd-4244-a519-0396a80b0c22",
   "metadata": {},
   "outputs": [],
   "source": [
    "# Load the MATLAB file\n",
    "sub_id='015'\n",
    "data_path = f'/../../Data/STC_Z_scored_Epochs/5_sec_time_window/{sub_id}/'\n",
    "\n",
    "file_path = glob(data_path, '*rh_stc_zepo.mat')\n",
    "# 'caudalanteriorcingulate-rh_stc_zepo.mat'\n",
    "data = scipy.io.loadmat(file_path)\n",
    "\n",
    "# Display the keys and structure of the data\n",
    "data.keys(), {key: type(data[key]) for key in data.keys()}\n",
    "\n",
    "# Examine the shape and basic information of the 'data' array\n",
    "data_shape = data['data'].shape\n",
    "data_info = data['data']\n",
    "\n",
    "# Display the shape and some basic info about the data\n",
    "data_shape, data_info.dtype, data_info.ndim"
   ]
  },
  {
   "cell_type": "code",
   "execution_count": null,
   "id": "a5febb0f-ab31-4007-8859-c511ff1f1230",
   "metadata": {},
   "outputs": [],
   "source": [
    "# Reshape the data to be compatible with MNE-Connectivity\n",
    "# Assuming each sample is a separate time point and each trial is independent\n",
    "\n",
    "# Current shape is (trials, samples), need (trials, channels, samples)\n",
    "# Since we have only one channel (region), we add an extra dimension\n",
    "data_reshaped = data['data'][:, np.newaxis, :]\n",
    "\n",
    "# Create artificial data for a second region (placeholder)\n",
    "# In real analysis, this should be different data from another region\n",
    "data_region2 = np.copy(data_reshaped)\n",
    "\n",
    "# Verify the new shape\n",
    "data_reshaped.shape, data_region2.shape\n"
   ]
  },
  {
   "cell_type": "code",
   "execution_count": null,
   "id": "cc20bd4b-7c99-4b11-8997-696218a3256e",
   "metadata": {},
   "outputs": [],
   "source": [
    "# Assuming data_reshaped is your EEG data reshaped to (trials, channels, samples)\n",
    "# data_region2 is the placeholder for the second region, identical to data_reshaped\n",
    "\n",
    "# Concatenate the two regions along the channel dimension\n",
    "combined_data = np.concatenate([data_reshaped, data_region2], axis=1)\n",
    "\n",
    "# Create an MNE EpochsArray for compatibility with MNE-Connectivity\n",
    "info = mne.create_info(['region1', 'region2'], sfreq=100, ch_types='eeg')  # sfreq is the sampling frequency\n",
    "epochs = mne.EpochsArray(combined_data, info)\n",
    "\n",
    "# Compute wPLI\n",
    "fmin, fmax = 8, 13  # Define frequency band (e.g., alpha band)\n",
    "sfreq = epochs.info['sfreq']  # Sampling frequency\n",
    "con, freqs, times, n_epochs, n_tapers = spectral_connectivity(\n",
    "    epochs, method='wpli2_debiased', mode='multitaper', sfreq=sfreq,\n",
    "    fmin=fmin, fmax=fmax, faverage=True, mt_adaptive=True, n_jobs=1)\n",
    "\n",
    "# con contains the wPLI values between the two regions\n",
    "print(con)\n"
   ]
  }
 ],
 "metadata": {
  "kernelspec": {
   "display_name": "mne",
   "language": "python",
   "name": "mne"
  },
  "language_info": {
   "codemirror_mode": {
    "name": "ipython",
    "version": 3
   },
   "file_extension": ".py",
   "mimetype": "text/x-python",
   "name": "python",
   "nbconvert_exporter": "python",
   "pygments_lexer": "ipython3",
   "version": "3.11.6"
  }
 },
 "nbformat": 4,
 "nbformat_minor": 5
}
