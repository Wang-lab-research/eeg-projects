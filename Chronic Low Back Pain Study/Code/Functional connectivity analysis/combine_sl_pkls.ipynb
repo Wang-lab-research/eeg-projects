{
 "cells": [
  {
   "cell_type": "markdown",
   "metadata": {},
   "source": [
    "### Combine pkl's of existing SL ROI's with added controls (rather than re-compute all regions over again)"
   ]
  },
  {
   "cell_type": "code",
   "execution_count": 1,
   "metadata": {},
   "outputs": [
    {
     "name": "stdout",
     "output_type": "stream",
     "text": [
      "0 files missing from root.txt in /home/wanglab/mne_data/MNE-fsaverage-data\n",
      "0 files missing from bem.txt in /home/wanglab/mne_data/MNE-fsaverage-data/fsaverage\n"
     ]
    }
   ],
   "source": [
    "import os\n",
    "from pathlib import Path\n",
    "import sys\n",
    "sys.path.append('/home/wanglab/Documents/George Kenefati/Code/eeg_toolkit/')\n",
    "from eeg_toolkit import utils, preprocess\n",
    "from eeg_toolkit import source_localization as sl"
   ]
  },
  {
   "cell_type": "markdown",
   "metadata": {},
   "source": [
    "### Paths"
   ]
  },
  {
   "cell_type": "code",
   "execution_count": 2,
   "metadata": {},
   "outputs": [
    {
     "name": "stdout",
     "output_type": "stream",
     "text": [
      "[-2.5,0.0,2.5]\n"
     ]
    }
   ],
   "source": [
    "# Time window for source localization computation\n",
    "times_tup,time_win_path = preprocess.get_time_window(5)\n",
    "\n",
    "# Average dipoles, always true unless you have subject-specific MRI and know what you're doing\n",
    "average_dipoles = True\n",
    "\n",
    "# Save inverse. True if you want to plot the brain model with AEC connectivity\n",
    "save_inv = True"
   ]
  },
  {
   "cell_type": "code",
   "execution_count": 3,
   "metadata": {},
   "outputs": [],
   "source": [
    "# Read in processed raw data\n",
    "data_dir = Path(\"../../Data\")\n",
    "processed_data_path = data_dir / 'Processed Data'\n",
    "epo_path = data_dir / time_win_path"
   ]
  },
  {
   "cell_type": "markdown",
   "metadata": {},
   "source": [
    "### Subject IDs"
   ]
  },
  {
   "cell_type": "code",
   "execution_count": 4,
   "metadata": {},
   "outputs": [
    {
     "name": "stdout",
     "output_type": "stream",
     "text": [
      "['018', '020', '021', '022', '023', '024', '027', '029', '030', '031', '032', '033', '034', '035', '036', '037', '038', '039', '040', '041', '042', '043', '044', '045', '046', '048', '049', '050', '051', '052', '053', '054', '055', '056', '057', '058', '059', 'C1.', 'C2.', 'C3.', 'C5.', 'C6.', 'C7.', 'C8.', 'C9.', 'C10', 'C11', 'C12', 'C13', 'C14', 'C15', 'C16', 'C17', 'C18', 'C19', 'C20', 'C21', 'C22', 'C24', 'C25', 'C26', 'C27']\n"
     ]
    }
   ],
   "source": [
    "# viable subjects\n",
    "sub_ids = utils.import_subs(os.path.join(data_dir),'sub_ids.txt')\n",
    "# select only 64ch subs and turn into set\n",
    "sub_ids = sub_ids[7:]\n",
    "print(sub_ids)"
   ]
  },
  {
   "cell_type": "code",
   "execution_count": 16,
   "metadata": {},
   "outputs": [],
   "source": [
    "# All CP and HC subs\n",
    "sub_ids_CP = [  \n",
    "    '018',  \n",
    "    '020',  \n",
    "    '021',  \n",
    "    '027',  \n",
    "    '031',  \n",
    "    '032',  \n",
    "    '033',  \n",
    "    '035',  \n",
    "    '036',  \n",
    "    '037',  \n",
    "    '038',  \n",
    "    '040',  \n",
    "    '043',  \n",
    "    '044',  \n",
    "    '048',  \n",
    "    '049',  \n",
    "    '050',  \n",
    "    '057',  \n",
    "    '059',\n",
    "]\n",
    "\n",
    "sub_ids_HC = [\n",
    "    'C10',  \n",
    "    'C11',  \n",
    "    'C12',  \n",
    "    'C13',  \n",
    "    'C14',  \n",
    "    'C15',  \n",
    "    'C16',  \n",
    "    'C17',  \n",
    "    'C18',  \n",
    "    'C19',  \n",
    "    'C2.',  \n",
    "    'C24',  \n",
    "    'C25',  \n",
    "    'C26',  \n",
    "    'C27',  \n",
    "    'C3.',  \n",
    "    'C6.',  \n",
    "    'C7.',  \n",
    "    'C9.'   \n",
    "]\n",
    " \n",
    "\n",
    "# CP Subs with widespread pain\n",
    "sub_ids_WSP = [\n",
    "    '018',\n",
    "    '022',\n",
    "    '024',\n",
    "    '031',\n",
    "    '032',\n",
    "    '034',\n",
    "    '036',\n",
    "    '039',\n",
    "    '040',\n",
    "    '045',\n",
    "    '046',\n",
    "    '052',\n",
    "]\n",
    "\n",
    "# CP Subs with localized pain\n",
    "sub_ids_LP = [  \n",
    "    '020',  \n",
    "    '021',  \n",
    "    '023',  \n",
    "    '029',  \n",
    "    '031',  \n",
    "    '037',  \n",
    "    '041',  \n",
    "    '042',  \n",
    "    '048',  \n",
    "    '049',  \n",
    "    '050',  \n",
    "    '056'  \n",
    "]  \n",
    "\n",
    " \n",
    "sub_ids = sub_ids_CP + sub_ids_HC + sub_ids_WSP + sub_ids_LP\n",
    "\n",
    "# keep only unique\n",
    "sub_ids = sorted(list(set(sub_ids)))"
   ]
  },
  {
   "cell_type": "code",
   "execution_count": 6,
   "metadata": {},
   "outputs": [
    {
     "name": "stdout",
     "output_type": "stream",
     "text": [
      "Chronics: 31\n",
      "Controls: 19\n",
      "Total: 50\n"
     ]
    }
   ],
   "source": [
    "print(f\"Chronics: {len([el for el in sub_ids if el.startswith('0')])}\")\n",
    "print(f\"Controls: {len([el for el in sub_ids if el.startswith('C')])}\")\n",
    "print(f\"Total: {len(sub_ids)}\")"
   ]
  },
  {
   "cell_type": "code",
   "execution_count": 41,
   "metadata": {},
   "outputs": [],
   "source": [
    "# Get stc only from selected labels\n",
    "roi_names = [# Left\n",
    "             'rostralanteriorcingulate-lh', # Left Rostral ACC\n",
    "             'caudalanteriorcingulate-lh', # Left Caudal ACC\n",
    "             'postcentral-lh', # Left S1,\n",
    "             'insula-lh', 'superiorfrontal-lh', # Left Insula, Left DL-PFC,\n",
    "             'medialorbitofrontal-lh', # Left Medial-OFC\n",
    "             # CONTROLS\n",
    "             # lateral occipital\n",
    "             'lateraloccipital-lh', # Left Visual Cortex\n",
    "             'superiortemporal-lh', # Left Auditory Cortex\n",
    "             # Right\n",
    "             'rostralanteriorcingulate-rh', # Right Rostral ACC\n",
    "             'caudalanteriorcingulate-rh', # Right Caudal ACC\n",
    "             'postcentral-rh', # , Right S1\n",
    "             'insula-rh', 'superiorfrontal-rh', # Right Insula, Right DL-PFC\n",
    "             'medialorbitofrontal-rh', # Right Medial-OFC\n",
    "             # CONTROLS\n",
    "             'lateraloccipital-rh', # Right Visual Cortex\n",
    "             'superiortemporal-rh', # Right Auditory Cortex\n",
    "]"
   ]
  },
  {
   "cell_type": "code",
   "execution_count": 42,
   "metadata": {},
   "outputs": [],
   "source": [
    "roi_names_control = [# Left\n",
    "             # CONTROLS\n",
    "             # lateral occipital\n",
    "             'lateraloccipital-lh', # Left Visual Cortex\n",
    "             'superiortemporal-lh', # Left Auditory Cortex\n",
    "             'lateraloccipital-rh', # Right Visual Cortex\n",
    "             'superiortemporal-rh', # Right Auditory Cortex\n",
    "]"
   ]
  },
  {
   "cell_type": "code",
   "execution_count": 45,
   "metadata": {},
   "outputs": [],
   "source": [
    "# make a dict with the control roi labels and their index in roi_names\n",
    "control_roi_ids = dict([(roi_names[i], i) for i in range(len(roi_names)) if roi_names[i] in roi_names_control])"
   ]
  },
  {
   "cell_type": "code",
   "execution_count": 47,
   "metadata": {},
   "outputs": [
    {
     "data": {
      "text/plain": [
       "{'lateraloccipital-lh': 6,\n",
       " 'superiortemporal-lh': 7,\n",
       " 'lateraloccipital-rh': 14,\n",
       " 'superiortemporal-rh': 15}"
      ]
     },
     "execution_count": 47,
     "metadata": {},
     "output_type": "execute_result"
    }
   ],
   "source": [
    "control_roi_ids"
   ]
  },
  {
   "cell_type": "code",
   "execution_count": 63,
   "metadata": {},
   "outputs": [
    {
     "name": "stdout",
     "output_type": "stream",
     "text": [
      "Source Localization Method: MNE\n",
      "Loading 018 data...\n",
      "Source Localization Method: MNE\n",
      "Loading 020 data...\n"
     ]
    },
    {
     "ename": "FileNotFoundError",
     "evalue": "[Errno 2] No such file or directory: '../../Data/Source Time Courses (MNE)/Eyes Open/020_eyes_open_control.pkl'",
     "output_type": "error",
     "traceback": [
      "\u001b[0;31m---------------------------------------------------------------------------\u001b[0m",
      "\u001b[0;31mFileNotFoundError\u001b[0m                         Traceback (most recent call last)",
      "Cell \u001b[0;32mIn[63], line 29\u001b[0m\n\u001b[1;32m     27\u001b[0m \u001b[38;5;66;03m# eyes open\u001b[39;00m\n\u001b[1;32m     28\u001b[0m eo_data \u001b[38;5;241m=\u001b[39m utils\u001b[38;5;241m.\u001b[39munpickle_data(EO_resting_save_path, \u001b[38;5;124mf\u001b[39m\u001b[38;5;124m\"\u001b[39m\u001b[38;5;132;01m{\u001b[39;00msub_id\u001b[38;5;132;01m}\u001b[39;00m\u001b[38;5;124m_eyes_open.pkl\u001b[39m\u001b[38;5;124m\"\u001b[39m)\n\u001b[0;32m---> 29\u001b[0m eo_control \u001b[38;5;241m=\u001b[39m \u001b[43mutils\u001b[49m\u001b[38;5;241;43m.\u001b[39;49m\u001b[43munpickle_data\u001b[49m\u001b[43m(\u001b[49m\u001b[43mEO_resting_save_path\u001b[49m\u001b[43m,\u001b[49m\u001b[43m \u001b[49m\u001b[38;5;124;43mf\u001b[39;49m\u001b[38;5;124;43m\"\u001b[39;49m\u001b[38;5;132;43;01m{\u001b[39;49;00m\u001b[43msub_id\u001b[49m\u001b[38;5;132;43;01m}\u001b[39;49;00m\u001b[38;5;124;43m_eyes_open_control.pkl\u001b[39;49m\u001b[38;5;124;43m\"\u001b[39;49m\u001b[43m)\u001b[49m\n\u001b[1;32m     31\u001b[0m \u001b[38;5;66;03m# epochs\u001b[39;00m\n\u001b[1;32m     32\u001b[0m epochs \u001b[38;5;241m=\u001b[39m utils\u001b[38;5;241m.\u001b[39munpickle_data(zscored_epochs_save_path, \u001b[38;5;124mf\u001b[39m\u001b[38;5;124m\"\u001b[39m\u001b[38;5;132;01m{\u001b[39;00msub_id\u001b[38;5;132;01m}\u001b[39;00m\u001b[38;5;124m_epochs.pkl\u001b[39m\u001b[38;5;124m\"\u001b[39m)\n",
      "File \u001b[0;32m~/Documents/George Kenefati/Code/eeg_toolkit/eeg_toolkit/utils.py:69\u001b[0m, in \u001b[0;36munpickle_data\u001b[0;34m(path, fname)\u001b[0m\n\u001b[1;32m     68\u001b[0m \u001b[38;5;28;01mdef\u001b[39;00m \u001b[38;5;21munpickle_data\u001b[39m(path, fname):\n\u001b[0;32m---> 69\u001b[0m     \u001b[38;5;28;01mwith\u001b[39;00m \u001b[38;5;28mopen\u001b[39m(os\u001b[38;5;241m.\u001b[39mpath\u001b[38;5;241m.\u001b[39mjoin(path, fname), \u001b[38;5;124m\"\u001b[39m\u001b[38;5;124mrb\u001b[39m\u001b[38;5;124m\"\u001b[39m) \u001b[38;5;28;01mas\u001b[39;00m f:\n\u001b[1;32m     70\u001b[0m         deserialized_object \u001b[38;5;241m=\u001b[39m pickle\u001b[38;5;241m.\u001b[39mload(f)\n\u001b[1;32m     71\u001b[0m     \u001b[38;5;28;01mreturn\u001b[39;00m deserialized_object\n",
      "\u001b[0;31mFileNotFoundError\u001b[0m: [Errno 2] No such file or directory: '../../Data/Source Time Courses (MNE)/Eyes Open/020_eyes_open_control.pkl'"
     ]
    }
   ],
   "source": [
    "nan_subjects=[]\n",
    "\n",
    "methods = [\n",
    "    'MNE',\n",
    "    # 'dSPM',\n",
    "    ]\n",
    "\n",
    "for sub_id in sub_ids:    \n",
    "    for save_stc_mat in [\n",
    "        False,\n",
    "        # True,\n",
    "        ]:    \n",
    "        for method in methods:\n",
    "            print(f\"Source Localization Method: {method}\")                          \n",
    "\n",
    "            # Paths\n",
    "            stc_path = (data_dir / f'Source Time Courses ({method}) (MAT)' \n",
    "                        if save_stc_mat \n",
    "                        else data_dir / f'Source Time Courses ({method})')\n",
    "                           \n",
    "            EO_resting_save_path = stc_path / \"Eyes Open\"\n",
    "            EC_resting_save_path = stc_path / \"Eyes Closed\"\n",
    "            zscored_epochs_save_path = stc_path / \"zscored_Epochs\" / time_win_path\n",
    "\n",
    "            # open the pkl's\n",
    "            print(f\"Loading {sub_id} data...\")\n",
    "            # eyes open\n",
    "            eo_data = utils.unpickle_data(EO_resting_save_path, f\"{sub_id}_eyes_open.pkl\")\n",
    "            eo_control = utils.unpickle_data(EO_resting_save_path, f\"{sub_id}_eyes_open_control.pkl\")\n",
    "            \n",
    "            # epochs\n",
    "            epochs = utils.unpickle_data(zscored_epochs_save_path, f\"{sub_id}_epochs.pkl\")\n",
    "            epochs_control = utils.unpickle_data(zscored_epochs_save_path, f\"{sub_id}_epochs_control.pkl\")"
   ]
  },
  {
   "cell_type": "code",
   "execution_count": 62,
   "metadata": {},
   "outputs": [
    {
     "data": {
      "text/plain": [
       "(12, 121815)"
      ]
     },
     "execution_count": 62,
     "metadata": {},
     "output_type": "execute_result"
    }
   ],
   "source": [
    "eo_data.shape"
   ]
  },
  {
   "cell_type": "code",
   "execution_count": 61,
   "metadata": {},
   "outputs": [
    {
     "data": {
      "text/plain": [
       "(4, 141299)"
      ]
     },
     "execution_count": 61,
     "metadata": {},
     "output_type": "execute_result"
    }
   ],
   "source": [
    "eo_control.shape"
   ]
  },
  {
   "cell_type": "code",
   "execution_count": 66,
   "metadata": {},
   "outputs": [
    {
     "ename": "ValueError",
     "evalue": "could not broadcast input array from shape (4,) into shape (121815,)",
     "output_type": "error",
     "traceback": [
      "\u001b[0;31m---------------------------------------------------------------------------\u001b[0m",
      "\u001b[0;31mValueError\u001b[0m                                Traceback (most recent call last)",
      "Cell \u001b[0;32mIn[66], line 2\u001b[0m\n\u001b[1;32m      1\u001b[0m \u001b[38;5;66;03m# Insert eo_control data into eo_data using the control_roi_ids dict\u001b[39;00m\n\u001b[0;32m----> 2\u001b[0m \u001b[43meo_data\u001b[49m\u001b[43m[\u001b[49m\u001b[43mcontrol_roi_ids\u001b[49m\u001b[43m[\u001b[49m\u001b[38;5;124;43m'\u001b[39;49m\u001b[38;5;124;43mlateraloccipital-lh\u001b[39;49m\u001b[38;5;124;43m'\u001b[39;49m\u001b[43m]\u001b[49m\u001b[43m,\u001b[49m\u001b[43m:\u001b[49m\u001b[43m]\u001b[49m\u001b[38;5;241m=\u001b[39meo_control[:,\u001b[38;5;241m0\u001b[39m]\n\u001b[1;32m      3\u001b[0m eo_data[control_roi_ids[\u001b[38;5;124m'\u001b[39m\u001b[38;5;124msuperiortemporal-lh\u001b[39m\u001b[38;5;124m'\u001b[39m],:]\u001b[38;5;241m=\u001b[39meo_control[:,\u001b[38;5;241m1\u001b[39m]\n\u001b[1;32m      4\u001b[0m eo_data[control_roi_ids[\u001b[38;5;124m'\u001b[39m\u001b[38;5;124mlateraloccipital-rh\u001b[39m\u001b[38;5;124m'\u001b[39m],:]\u001b[38;5;241m=\u001b[39meo_control[:,\u001b[38;5;241m2\u001b[39m]\n",
      "\u001b[0;31mValueError\u001b[0m: could not broadcast input array from shape (4,) into shape (121815,)"
     ]
    }
   ],
   "source": [
    "# Insert eo_control data into eo_data using the control_roi_ids dict\n",
    "eo_data[control_roi_ids['lateraloccipital-lh'],:]=eo_control[:,0]\n",
    "eo_data[control_roi_ids['superiortemporal-lh'],:]=eo_control[:,1]\n",
    "eo_data[control_roi_ids['lateraloccipital-rh'],:]=eo_control[:,2]\n",
    "eo_data[control_roi_ids['superiortemporal-rh'],:]=eo_control[:,3]"
   ]
  },
  {
   "cell_type": "code",
   "execution_count": null,
   "metadata": {},
   "outputs": [],
   "source": []
  }
 ],
 "metadata": {
  "kernelspec": {
   "display_name": "mne",
   "language": "python",
   "name": "mne"
  },
  "language_info": {
   "codemirror_mode": {
    "name": "ipython",
    "version": 3
   },
   "file_extension": ".py",
   "mimetype": "text/x-python",
   "name": "python",
   "nbconvert_exporter": "python",
   "pygments_lexer": "ipython3",
   "version": "3.11.7"
  }
 },
 "nbformat": 4,
 "nbformat_minor": 2
}
