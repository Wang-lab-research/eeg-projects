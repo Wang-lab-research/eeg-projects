{
 "cells": [
  {
   "cell_type": "markdown",
   "id": "0c556c1c-fefc-4f4b-83a0-e434ba7d5bfc",
   "metadata": {
    "tags": []
   },
   "source": [
    "## Perform functional connectivity analysis on trial data, eyes open, and eyes closed data for all viable CLBP subjects\n",
    "#### Input: *stc.mat\n",
    "####  Output: con, visualization"
   ]
  },
  {
   "cell_type": "code",
   "execution_count": 1,
   "id": "61f19c56-d9b6-4b71-8f09-7c14ce18f2fb",
   "metadata": {
    "tags": []
   },
   "outputs": [
    {
     "name": "stderr",
     "output_type": "stream",
     "text": [
      "2024-01-09 16:59:12,684 - numexpr.utils - INFO - NumExpr defaulting to 8 threads.\n"
     ]
    }
   ],
   "source": [
    "import os\n",
    "from pathlib import Path\n",
    "import sys\n",
    "sys.path.append(\"/home/wanglab/Documents/George Kenefati/Code/eeg_toolkit/\")\n",
    "from eeg_toolkit import preprocess, utils\n",
    "import eeg_toolkit.functional_connectivity as fc"
   ]
  },
  {
   "cell_type": "code",
   "execution_count": 2,
   "id": "bc472cac-3bcd-47d6-aa8b-a22a81e8562f",
   "metadata": {},
   "outputs": [
    {
     "name": "stdout",
     "output_type": "stream",
     "text": [
      "[-2.5,0.0,2.5]\n"
     ]
    },
    {
     "data": {
      "text/plain": [
       "[]"
      ]
     },
     "execution_count": 2,
     "metadata": {},
     "output_type": "execute_result"
    }
   ],
   "source": [
    "# Settings\n",
    "times_tup, time_win_path = preprocess.get_time_window(5)\n",
    "\n",
    "# data paths\n",
    "data_dir = Path(\"../../Data\")\n",
    "processed_data_path = data_dir / \"Processed Data\"\n",
    "stc_path = data_dir / \"Source time courses\"\n",
    "EO_resting_data_path = stc_path / \"Eyes Open\"\n",
    "EC_resting_data_path = stc_path / \"Eyes Closed\"\n",
    "zscored_epochs_data_path = stc_path / \"zscored_Epochs\" / time_win_path\n",
    "\n",
    "# save paths\n",
    "fc_path = data_dir / \"Functional connectivity\"\n",
    "EC_resting_save_path = fc_path / \"Eyes Open\"\n",
    "EO_resting_save_path = fc_path / \"Eyes Open\"\n",
    "zscored_epochs_save_path = fc_path / \"zscored_Epochs\" / time_win_path\n",
    "\n",
    "save_paths = [EC_resting_save_path, EO_resting_save_path, zscored_epochs_save_path]\n",
    "\n",
    "[os.makedirs(path) for path in save_paths if not os.path.exists(path)]"
   ]
  },
  {
   "cell_type": "code",
   "execution_count": 3,
   "id": "e38fc4d6-2341-428f-9131-1868ca9a799a",
   "metadata": {},
   "outputs": [
    {
     "name": "stdout",
     "output_type": "stream",
     "text": [
      "['020', '022', '023', '027', '029', '032', '035', '036', '039', '041', '042', '043', '044', '046', '048', '050', '051', '053', '055', '056', 'C10', 'C11', 'C15', 'C17', 'C22', 'C25', 'C27']\n"
     ]
    }
   ],
   "source": [
    "# viable subjects\n",
    "sub_ids = utils.import_subs(data_dir, \"sub_ids.txt\")\n",
    "sub_ids = sub_ids[7:]  # select only 64ch subs and turn into set\n",
    "# print(sub_ids)\n",
    "\n",
    "EXCLUDE_SUBS = [\n",
    "    # Chronic Pain Subjects\n",
    "    '018', '024', '030', '031', '033', '034', '037', \n",
    "    '038', '040', '045', '049', '052', '054', '057', '058',\n",
    "    # Control Subjects\n",
    "    'C5.', 'C6.', 'C7.', 'C8.', 'C9.', 'C12', 'C13',\n",
    "    'C14', 'C16', 'C18', 'C19', 'C20', 'C21', 'C24', 'C26'\n",
    "    ]\n",
    "# TODO: figure out why these have NaNs\n",
    "SKIP_NANS = ['018','021','C1.','C2.','C3.']\n",
    "# TODO: these are just for the grant figures\n",
    "sub_ids = [sub for sub in sub_ids if sub not in EXCLUDE_SUBS]\n",
    "sub_ids = [sub for sub in sub_ids if sub not in SKIP_NANS]\n",
    "print(sub_ids)"
   ]
  },
  {
   "cell_type": "code",
   "execution_count": 4,
   "id": "dd542c98",
   "metadata": {},
   "outputs": [
    {
     "name": "stdout",
     "output_type": "stream",
     "text": [
      "Chronics: 20\n",
      "Controls: 7\n",
      "Total: 27\n"
     ]
    }
   ],
   "source": [
    "sub_ids_CP = [el for el in sub_ids if el.startswith('0')]\n",
    "sub_ids_HC = [el for el in sub_ids if el.startswith('C')]\n",
    "\n",
    "print(f\"Chronics: {len(sub_ids_CP)}\")\n",
    "print(f\"Controls: {len(sub_ids_HC)}\")\n",
    "print(f\"Total: {len(sub_ids)}\")"
   ]
  },
  {
   "cell_type": "code",
   "execution_count": 5,
   "id": "3dad3845-35ee-450f-8e4f-20317e5cb64c",
   "metadata": {
    "tags": []
   },
   "outputs": [],
   "source": [
    "# Get stc only from selected labels\n",
    "roi_names = [  # Left\n",
    "    \"rostralanteriorcingulate-lh\",  # Left Rostral ACC\n",
    "    \"caudalanteriorcingulate-lh\",  # Left Caudal ACC\n",
    "    \"postcentral-lh\",  # Left S1,\n",
    "    \"insula-lh\",\n",
    "    \"superiorfrontal-lh\",  # Left Insula, Left DL-PFC,\n",
    "    \"medialorbitofrontal-lh\",  # Left Medial-OFC\n",
    "    # Right\n",
    "    \"rostralanteriorcingulate-rh\",  # Right Rostral ACC\n",
    "    \"caudalanteriorcingulate-rh\",  # Right Caudal ACC\n",
    "    \"postcentral-rh\",  # , Right S1\n",
    "    \"insula-rh\",\n",
    "    \"superiorfrontal-rh\",  # Right Insula, Right DL-PFC\n",
    "    \"medialorbitofrontal-rh\",\n",
    "]  # Right Medial-OFC\n",
    "\n",
    "Freq_Bands = {\n",
    "    # 'delta': [0, 4],\n",
    "    \"theta\": [4.0, 8.0],\n",
    "    \"alpha\": [8.0, 13.0],\n",
    "    \"beta\": [13.0, 30.0],\n",
    "    \"low-gamma\": [30.0, 58.5],\n",
    "    \"notch\": [58.5, 61.5],\n",
    "    \"high-gamma\": [61.5, 100.0],\n",
    "}\n",
    "\n",
    "sfreq = 400  # Hz\n",
    "tmin, tmax = 0.0, 1.5  # exclude the baseline period for connectivity estimation\n",
    "\n",
    "connectivity_methods = [\n",
    "    \"wpli\",\n",
    "    \"dpli\",\n",
    "    \"plv\",\n",
    "    # \"\",\n",
    "]\n",
    "\n",
    "conditions = ['Hand NS', \n",
    "              'Hand LS',\n",
    "              'Hand HS', \n",
    "              'Back NS',\n",
    "              'Back LS',\n",
    "              'Back HS',\n",
    "              'Eyes Open',\n",
    "              'Eyes Closed']"
   ]
  },
  {
   "cell_type": "code",
   "execution_count": 6,
   "id": "e86dfdcb",
   "metadata": {},
   "outputs": [
    {
     "name": "stdout",
     "output_type": "stream",
     "text": [
      "Reading stimulus labels and pain ratings for Subject 020...\n",
      "\n",
      "*stim_labels length = 80*\n",
      "*pain_ratings_raw length = 80*\n",
      "\n",
      "Connectivity computation...\n",
      "only using indices for lower-triangular matrix\n",
      "    computing connectivity for 66 connections\n",
      "    using t=0.000s..1.000s for estimation (401 points)\n",
      "    frequencies: 5.0Hz..8.0Hz (4 points)\n",
      "    Using multitaper spectrum estimation with 7 DPSS windows\n",
      "    the following metrics will be computed: WPLI\n",
      "    computing cross-spectral density for epoch 1\n",
      "    computing cross-spectral density for epoch 2\n",
      "    computing cross-spectral density for epoch 3\n",
      "    computing cross-spectral density for epoch 4\n",
      "    computing cross-spectral density for epoch 5\n",
      "    computing cross-spectral density for epoch 6\n",
      "    computing cross-spectral density for epoch 7\n",
      "    computing cross-spectral density for epoch 8\n",
      "    computing cross-spectral density for epoch 9\n",
      "    computing cross-spectral density for epoch 10\n",
      "    computing cross-spectral density for epoch 11\n",
      "    computing cross-spectral density for epoch 12\n",
      "    computing cross-spectral density for epoch 13\n",
      "    computing cross-spectral density for epoch 14\n",
      "    computing cross-spectral density for epoch 15\n",
      "    computing cross-spectral density for epoch 16\n",
      "    computing cross-spectral density for epoch 17\n",
      "    computing cross-spectral density for epoch 18\n",
      "    computing cross-spectral density for epoch 19\n",
      "    computing cross-spectral density for epoch 20\n",
      "    assembling connectivity matrix\n",
      "[Connectivity computation done]\n",
      "Connectivity computation...\n",
      "only using indices for lower-triangular matrix\n",
      "    computing connectivity for 66 connections\n",
      "    using t=0.000s..1.000s for estimation (401 points)\n",
      "    frequencies: 9.0Hz..13.0Hz (5 points)\n",
      "    Using multitaper spectrum estimation with 7 DPSS windows\n",
      "    the following metrics will be computed: WPLI\n",
      "    computing cross-spectral density for epoch 1\n",
      "    computing cross-spectral density for epoch 2\n",
      "    computing cross-spectral density for epoch 3\n",
      "    computing cross-spectral density for epoch 4\n",
      "    computing cross-spectral density for epoch 5\n",
      "    computing cross-spectral density for epoch 6\n",
      "    computing cross-spectral density for epoch 7\n",
      "    computing cross-spectral density for epoch 8\n",
      "    computing cross-spectral density for epoch 9\n",
      "    computing cross-spectral density for epoch 10\n"
     ]
    },
    {
     "name": "stderr",
     "output_type": "stream",
     "text": [
      "/home/wanglab/Documents/George Kenefati/Code/eeg_toolkit/eeg_toolkit/functional_connectivity.py:144: RuntimeWarning: fmin=4.000 Hz corresponds to 4.010 < 5 cycles based on the epoch length 1.002 sec, need at least 1.250 sec epochs or fmin=4.988. Spectrum estimate will be unreliable.\n",
      "  con_epochs = mne_conn.spectral_connectivity_epochs(\n"
     ]
    },
    {
     "name": "stdout",
     "output_type": "stream",
     "text": [
      "    computing cross-spectral density for epoch 11\n",
      "    computing cross-spectral density for epoch 12\n",
      "    computing cross-spectral density for epoch 13\n",
      "    computing cross-spectral density for epoch 14\n",
      "    computing cross-spectral density for epoch 15\n",
      "    computing cross-spectral density for epoch 16\n",
      "    computing cross-spectral density for epoch 17\n",
      "    computing cross-spectral density for epoch 18\n",
      "    computing cross-spectral density for epoch 19\n",
      "    computing cross-spectral density for epoch 20\n",
      "    assembling connectivity matrix\n",
      "[Connectivity computation done]\n",
      "Connectivity computation...\n",
      "only using indices for lower-triangular matrix\n",
      "    computing connectivity for 66 connections\n",
      "    using t=0.000s..1.000s for estimation (401 points)\n",
      "    frequencies: 14.0Hz..29.9Hz (17 points)\n",
      "    Using multitaper spectrum estimation with 7 DPSS windows\n",
      "    the following metrics will be computed: WPLI\n",
      "    computing cross-spectral density for epoch 1\n",
      "    computing cross-spectral density for epoch 2\n",
      "    computing cross-spectral density for epoch 3\n",
      "    computing cross-spectral density for epoch 4\n",
      "    computing cross-spectral density for epoch 5\n",
      "    computing cross-spectral density for epoch 6\n",
      "    computing cross-spectral density for epoch 7\n",
      "    computing cross-spectral density for epoch 8\n",
      "    computing cross-spectral density for epoch 9\n",
      "    computing cross-spectral density for epoch 10\n",
      "    computing cross-spectral density for epoch 11\n",
      "    computing cross-spectral density for epoch 12\n",
      "    computing cross-spectral density for epoch 13\n",
      "    computing cross-spectral density for epoch 14\n",
      "    computing cross-spectral density for epoch 15\n",
      "    computing cross-spectral density for epoch 16\n",
      "    computing cross-spectral density for epoch 17\n",
      "    computing cross-spectral density for epoch 18\n",
      "    computing cross-spectral density for epoch 19\n",
      "    computing cross-spectral density for epoch 20\n",
      "    assembling connectivity matrix\n",
      "[Connectivity computation done]\n",
      "Connectivity computation...\n",
      "only using indices for lower-triangular matrix\n",
      "    computing connectivity for 66 connections\n",
      "    using t=0.000s..1.000s for estimation (401 points)\n",
      "    frequencies: 30.9Hz..57.9Hz (28 points)\n",
      "    Using multitaper spectrum estimation with 7 DPSS windows\n",
      "    the following metrics will be computed: WPLI\n",
      "    computing cross-spectral density for epoch 1\n",
      "    computing cross-spectral density for epoch 2\n",
      "    computing cross-spectral density for epoch 3\n",
      "    computing cross-spectral density for epoch 4\n",
      "    computing cross-spectral density for epoch 5\n",
      "    computing cross-spectral density for epoch 6\n",
      "    computing cross-spectral density for epoch 7\n",
      "    computing cross-spectral density for epoch 8\n",
      "    computing cross-spectral density for epoch 9\n",
      "    computing cross-spectral density for epoch 10\n",
      "    computing cross-spectral density for epoch 11\n",
      "    computing cross-spectral density for epoch 12\n",
      "    computing cross-spectral density for epoch 13\n",
      "    computing cross-spectral density for epoch 14\n",
      "    computing cross-spectral density for epoch 15\n",
      "    computing cross-spectral density for epoch 16\n",
      "    computing cross-spectral density for epoch 17\n",
      "    computing cross-spectral density for epoch 18\n",
      "    computing cross-spectral density for epoch 19\n",
      "    computing cross-spectral density for epoch 20\n",
      "    assembling connectivity matrix\n",
      "[Connectivity computation done]\n",
      "Connectivity computation...\n",
      "only using indices for lower-triangular matrix\n",
      "    computing connectivity for 66 connections\n",
      "    using t=0.000s..1.000s for estimation (401 points)\n",
      "    frequencies: 58.9Hz..60.8Hz (3 points)\n",
      "    Using multitaper spectrum estimation with 7 DPSS windows\n",
      "    the following metrics will be computed: WPLI\n",
      "    computing cross-spectral density for epoch 1\n",
      "    computing cross-spectral density for epoch 2\n",
      "    computing cross-spectral density for epoch 3\n",
      "    computing cross-spectral density for epoch 4\n",
      "    computing cross-spectral density for epoch 5\n",
      "    computing cross-spectral density for epoch 6\n",
      "    computing cross-spectral density for epoch 7\n",
      "    computing cross-spectral density for epoch 8\n",
      "    computing cross-spectral density for epoch 9\n",
      "    computing cross-spectral density for epoch 10\n",
      "    computing cross-spectral density for epoch 11\n",
      "    computing cross-spectral density for epoch 12\n",
      "    computing cross-spectral density for epoch 13\n",
      "    computing cross-spectral density for epoch 14\n",
      "    computing cross-spectral density for epoch 15\n",
      "    computing cross-spectral density for epoch 16\n",
      "    computing cross-spectral density for epoch 17\n",
      "    computing cross-spectral density for epoch 18\n",
      "    computing cross-spectral density for epoch 19\n",
      "    computing cross-spectral density for epoch 20\n",
      "    assembling connectivity matrix\n",
      "[Connectivity computation done]\n",
      "Connectivity computation...\n",
      "only using indices for lower-triangular matrix\n",
      "    computing connectivity for 66 connections\n",
      "    using t=0.000s..1.000s for estimation (401 points)\n",
      "    frequencies: 61.8Hz..99.8Hz (39 points)\n",
      "    Using multitaper spectrum estimation with 7 DPSS windows\n",
      "    the following metrics will be computed: WPLI\n",
      "    computing cross-spectral density for epoch 1\n",
      "    computing cross-spectral density for epoch 2\n",
      "    computing cross-spectral density for epoch 3\n",
      "    computing cross-spectral density for epoch 4\n",
      "    computing cross-spectral density for epoch 5\n",
      "    computing cross-spectral density for epoch 6\n",
      "    computing cross-spectral density for epoch 7\n",
      "    computing cross-spectral density for epoch 8\n",
      "    computing cross-spectral density for epoch 9\n",
      "    computing cross-spectral density for epoch 10\n",
      "    computing cross-spectral density for epoch 11\n",
      "    computing cross-spectral density for epoch 12\n",
      "    computing cross-spectral density for epoch 13\n",
      "    computing cross-spectral density for epoch 14\n",
      "    computing cross-spectral density for epoch 15\n",
      "    computing cross-spectral density for epoch 16\n",
      "    computing cross-spectral density for epoch 17\n",
      "    computing cross-spectral density for epoch 18\n",
      "    computing cross-spectral density for epoch 19\n",
      "    computing cross-spectral density for epoch 20\n",
      "    assembling connectivity matrix\n",
      "[Connectivity computation done]\n",
      "(144, 39)\n",
      "Connectivity computation...\n"
     ]
    },
    {
     "ename": "UnboundLocalError",
     "evalue": "cannot access local variable 'con_methods' where it is not associated with a value",
     "output_type": "error",
     "traceback": [
      "\u001b[0;31m---------------------------------------------------------------------------\u001b[0m",
      "\u001b[0;31mUnboundLocalError\u001b[0m                         Traceback (most recent call last)",
      "Cell \u001b[0;32mIn[6], line 2\u001b[0m\n\u001b[1;32m      1\u001b[0m \u001b[38;5;66;03m# Compute the average connectivity for each subject in the Chronic Pain and Healthy Control groups separately\u001b[39;00m\n\u001b[0;32m----> 2\u001b[0m sub_avg_cons \u001b[38;5;241m=\u001b[39m \u001b[43mfc\u001b[49m\u001b[38;5;241;43m.\u001b[39;49m\u001b[43mcompute_sub_avg_con\u001b[49m\u001b[43m(\u001b[49m\u001b[43msub_ids_CP\u001b[49m\u001b[43m,\u001b[49m\u001b[43m \u001b[49m\u001b[43msub_ids_HC\u001b[49m\u001b[43m,\u001b[49m\u001b[43m \u001b[49m\u001b[43mprocessed_data_path\u001b[49m\u001b[43m,\u001b[49m\u001b[43m \u001b[49m\u001b[43mzscored_epochs_data_path\u001b[49m\u001b[43m,\u001b[49m\u001b[43m \u001b[49m\n\u001b[1;32m      3\u001b[0m \u001b[43m                                          \u001b[49m\u001b[43mEO_resting_data_path\u001b[49m\u001b[43m,\u001b[49m\u001b[43m \u001b[49m\u001b[43mEC_resting_data_path\u001b[49m\u001b[43m,\u001b[49m\u001b[43m \u001b[49m\u001b[43mconnectivity_methods\u001b[49m\u001b[43m,\u001b[49m\u001b[43m \u001b[49m\u001b[43mconditions\u001b[49m\u001b[43m,\u001b[49m\n\u001b[1;32m      4\u001b[0m \u001b[43m                                          \u001b[49m\u001b[43mroi_names\u001b[49m\u001b[43m,\u001b[49m\u001b[43m \u001b[49m\u001b[43mFreq_Bands\u001b[49m\u001b[43m,\u001b[49m\u001b[43m \u001b[49m\u001b[43mtmin\u001b[49m\u001b[43m,\u001b[49m\u001b[43m \u001b[49m\u001b[43mtmax\u001b[49m\u001b[43m,\u001b[49m\u001b[43m \u001b[49m\u001b[43msfreq\u001b[49m\u001b[43m)\u001b[49m\n",
      "File \u001b[0;32m~/Documents/George Kenefati/Code/eeg_toolkit/eeg_toolkit/functional_connectivity.py:256\u001b[0m, in \u001b[0;36mcompute_sub_avg_con\u001b[0;34m(sub_ids_CP, sub_ids_HC, processed_data_path, zscored_epochs_data_path, EO_resting_data_path, EC_resting_data_path, connectivity_methods, conditions, roi_names, Freq_Bands, tmin, tmax, sfreq)\u001b[0m\n\u001b[1;32m    254\u001b[0m \u001b[38;5;28;01mfor\u001b[39;00m label_ts, condition \u001b[38;5;129;01min\u001b[39;00m \u001b[38;5;28mzip\u001b[39m(label_ts_all, conditions):\n\u001b[1;32m    255\u001b[0m     \u001b[38;5;28;01mif\u001b[39;00m \u001b[38;5;28misinstance\u001b[39m(label_ts, \u001b[38;5;28mlist\u001b[39m):\n\u001b[0;32m--> 256\u001b[0m         con_epochs \u001b[38;5;241m=\u001b[39m \u001b[43mcompute_connectivity_epochs\u001b[49m\u001b[43m(\u001b[49m\n\u001b[1;32m    257\u001b[0m \u001b[43m            \u001b[49m\u001b[43mlabel_ts\u001b[49m\u001b[43m,\u001b[49m\u001b[43m \u001b[49m\u001b[43mroi_names\u001b[49m\u001b[43m,\u001b[49m\u001b[43m \u001b[49m\u001b[43mmethod\u001b[49m\u001b[43m,\u001b[49m\u001b[43m \u001b[49m\u001b[43mFreq_Bands\u001b[49m\u001b[43m,\u001b[49m\u001b[43m \u001b[49m\u001b[43mtmin\u001b[49m\u001b[43m,\u001b[49m\u001b[43m \u001b[49m\u001b[43mtmax\u001b[49m\u001b[43m,\u001b[49m\u001b[43m \u001b[49m\u001b[43msfreq\u001b[49m\n\u001b[1;32m    258\u001b[0m \u001b[43m        \u001b[49m\u001b[43m)\u001b[49m\n\u001b[1;32m    260\u001b[0m         \u001b[38;5;66;03m# average epochs within subject first\u001b[39;00m\n\u001b[1;32m    261\u001b[0m         con_epochs_mean \u001b[38;5;241m=\u001b[39m np\u001b[38;5;241m.\u001b[39mmean(con_epochs\u001b[38;5;241m.\u001b[39mget_data(), axis\u001b[38;5;241m=\u001b[39m\u001b[38;5;241m1\u001b[39m)\n",
      "File \u001b[0;32m~/Documents/George Kenefati/Code/eeg_toolkit/eeg_toolkit/functional_connectivity.py:144\u001b[0m, in \u001b[0;36mcompute_connectivity_epochs\u001b[0;34m(label_ts, roi_names, method, Freq_Bands, tmin, tmax, sfreq, plot_freq_matrix)\u001b[0m\n\u001b[1;32m    141\u001b[0m     fmaxs \u001b[38;5;241m=\u001b[39m \u001b[38;5;28mtuple\u001b[39m([\u001b[38;5;28mlist\u001b[39m(Freq_Bands\u001b[38;5;241m.\u001b[39mvalues())[f][\u001b[38;5;241m1\u001b[39m] \u001b[38;5;28;01mfor\u001b[39;00m f \u001b[38;5;129;01min\u001b[39;00m \u001b[38;5;28mrange\u001b[39m(\u001b[38;5;28mlen\u001b[39m(Freq_Bands))])\n\u001b[1;32m    143\u001b[0m     \u001b[38;5;28;01mfor\u001b[39;00m fmin, fmax \u001b[38;5;129;01min\u001b[39;00m \u001b[38;5;28mzip\u001b[39m(fmins, fmaxs):\n\u001b[0;32m--> 144\u001b[0m         con_epochs \u001b[38;5;241m=\u001b[39m \u001b[43mmne_conn\u001b[49m\u001b[38;5;241;43m.\u001b[39;49m\u001b[43mspectral_connectivity_epochs\u001b[49m\u001b[43m(\u001b[49m\n\u001b[1;32m    145\u001b[0m \u001b[43m            \u001b[49m\u001b[43mlabel_ts\u001b[49m\u001b[43m,\u001b[49m\n\u001b[1;32m    146\u001b[0m \u001b[43m            \u001b[49m\u001b[43mmethod\u001b[49m\u001b[38;5;241;43m=\u001b[39;49m\u001b[43mmethod\u001b[49m\u001b[43m,\u001b[49m\n\u001b[1;32m    147\u001b[0m \u001b[43m            \u001b[49m\u001b[43mmode\u001b[49m\u001b[38;5;241;43m=\u001b[39;49m\u001b[38;5;124;43m\"\u001b[39;49m\u001b[38;5;124;43mmultitaper\u001b[39;49m\u001b[38;5;124;43m\"\u001b[39;49m\u001b[43m,\u001b[49m\n\u001b[1;32m    148\u001b[0m \u001b[43m            \u001b[49m\u001b[43msfreq\u001b[49m\u001b[38;5;241;43m=\u001b[39;49m\u001b[43msfreq\u001b[49m\u001b[43m,\u001b[49m\n\u001b[1;32m    149\u001b[0m \u001b[43m            \u001b[49m\u001b[43mfmin\u001b[49m\u001b[38;5;241;43m=\u001b[39;49m\u001b[43mfmin\u001b[49m\u001b[43m,\u001b[49m\n\u001b[1;32m    150\u001b[0m \u001b[43m            \u001b[49m\u001b[43mfmax\u001b[49m\u001b[38;5;241;43m=\u001b[39;49m\u001b[43mfmax\u001b[49m\u001b[43m,\u001b[49m\n\u001b[1;32m    151\u001b[0m \u001b[43m            \u001b[49m\u001b[43mmt_adaptive\u001b[49m\u001b[38;5;241;43m=\u001b[39;49m\u001b[38;5;28;43;01mTrue\u001b[39;49;00m\u001b[43m,\u001b[49m\n\u001b[1;32m    152\u001b[0m \u001b[43m            \u001b[49m\u001b[43mn_jobs\u001b[49m\u001b[38;5;241;43m=\u001b[39;49m\u001b[38;5;241;43m1\u001b[39;49m\u001b[43m,\u001b[49m\n\u001b[1;32m    153\u001b[0m \u001b[43m        \u001b[49m\u001b[43m)\u001b[49m\n\u001b[1;32m    154\u001b[0m \u001b[38;5;28mprint\u001b[39m(con_epochs\u001b[38;5;241m.\u001b[39mshape)\n\u001b[1;32m    155\u001b[0m \u001b[38;5;28;01mreturn\u001b[39;00m con_epochs\n",
      "File \u001b[0;32m<decorator-gen-388>:12\u001b[0m, in \u001b[0;36mspectral_connectivity_epochs\u001b[0;34m(data, names, method, indices, sfreq, mode, fmin, fmax, fskip, faverage, tmin, tmax, mt_bandwidth, mt_adaptive, mt_low_bias, cwt_freqs, cwt_n_cycles, gc_n_lags, rank, block_size, n_jobs, verbose)\u001b[0m\n",
      "File \u001b[0;32m~/mambaforge/envs/mne/lib/python3.11/site-packages/mne_connectivity/spectral/epochs.py:1161\u001b[0m, in \u001b[0;36mspectral_connectivity_epochs\u001b[0;34m(data, names, method, indices, sfreq, mode, fmin, fmax, fskip, faverage, tmin, tmax, mt_bandwidth, mt_adaptive, mt_low_bias, cwt_freqs, cwt_n_cycles, gc_n_lags, rank, block_size, n_jobs, verbose)\u001b[0m\n\u001b[1;32m   1159\u001b[0m con \u001b[38;5;241m=\u001b[39m \u001b[38;5;28mlist\u001b[39m()\n\u001b[1;32m   1160\u001b[0m patterns \u001b[38;5;241m=\u001b[39m \u001b[38;5;28mlist\u001b[39m()\n\u001b[0;32m-> 1161\u001b[0m \u001b[38;5;28;01mfor\u001b[39;00m method_i, conn_method \u001b[38;5;129;01min\u001b[39;00m \u001b[38;5;28menumerate\u001b[39m(\u001b[43mcon_methods\u001b[49m):\n\u001b[1;32m   1162\u001b[0m     \u001b[38;5;66;03m# future estimators will need to be handled here\u001b[39;00m\n\u001b[1;32m   1163\u001b[0m     \u001b[38;5;28;01mif\u001b[39;00m conn_method\u001b[38;5;241m.\u001b[39maccumulate_psd:\n\u001b[1;32m   1164\u001b[0m         \u001b[38;5;66;03m# compute scores block-wise to save memory\u001b[39;00m\n\u001b[1;32m   1165\u001b[0m         \u001b[38;5;28;01mfor\u001b[39;00m i \u001b[38;5;129;01min\u001b[39;00m \u001b[38;5;28mrange\u001b[39m(\u001b[38;5;241m0\u001b[39m, n_cons, block_size):\n",
      "\u001b[0;31mUnboundLocalError\u001b[0m: cannot access local variable 'con_methods' where it is not associated with a value"
     ]
    }
   ],
   "source": [
    "# Compute the average connectivity for each subject in the Chronic Pain and Healthy Control groups separately\n",
    "sub_avg_cons = fc.compute_sub_avg_con(sub_ids_CP, sub_ids_HC, processed_data_path, zscored_epochs_data_path, \n",
    "                                          EO_resting_data_path, EC_resting_data_path, connectivity_methods, conditions,\n",
    "                                          roi_names, Freq_Bands, tmin, tmax, sfreq)\n"
   ]
  },
  {
   "cell_type": "code",
   "execution_count": null,
   "id": "829136f5",
   "metadata": {},
   "outputs": [
    {
     "ename": "NameError",
     "evalue": "name 'sub_avg_cons' is not defined",
     "output_type": "error",
     "traceback": [
      "\u001b[0;31m---------------------------------------------------------------------------\u001b[0m",
      "\u001b[0;31mNameError\u001b[0m                                 Traceback (most recent call last)",
      "Cell \u001b[0;32mIn[7], line 1\u001b[0m\n\u001b[0;32m----> 1\u001b[0m group_avg_cons \u001b[38;5;241m=\u001b[39m fc\u001b[38;5;241m.\u001b[39mcompute_group_avg_con(\u001b[43msub_avg_cons\u001b[49m, fc_path, Freq_Bands, roi_names)\n",
      "\u001b[0;31mNameError\u001b[0m: name 'sub_avg_cons' is not defined"
     ]
    }
   ],
   "source": [
    "group_avg_cons = fc.compute_group_avg_con(sub_avg_cons, fc_path, Freq_Bands, roi_names)"
   ]
  },
  {
   "cell_type": "code",
   "execution_count": null,
   "id": "93c84393",
   "metadata": {},
   "outputs": [],
   "source": [
    "group_avg_cons"
   ]
  },
  {
   "cell_type": "code",
   "execution_count": null,
   "id": "702f640d",
   "metadata": {},
   "outputs": [],
   "source": [
    "fc.plot_and_save(avg_result_current, fc.plot_connectivity_circle, method, Freq_Bands, roi_names, group, condition, fc_path)\n",
    "fc.plot_and_save(avg_result_current, fc.plot_global_connectivity, method, Freq_Bands, roi_names, group, condition, fc_path)\n",
    "fc.plot_and_save(avg_result_current, fc.plot_connectivity, method, Freq_Bands, roi_names, group, condition, fc_path)\n",
    "# fc.plot_and_save(avg_result_current, fc.plot_con_matrix, method, Freq_Bands, roi_names, group, condition, fc_path)"
   ]
  }
 ],
 "metadata": {
  "kernelspec": {
   "display_name": "Python 3",
   "language": "python",
   "name": "python3"
  },
  "language_info": {
   "codemirror_mode": {
    "name": "ipython",
    "version": 3
   },
   "file_extension": ".py",
   "mimetype": "text/x-python",
   "name": "python",
   "nbconvert_exporter": "python",
   "pygments_lexer": "ipython3",
   "version": "3.11.7"
  }
 },
 "nbformat": 4,
 "nbformat_minor": 5
}
