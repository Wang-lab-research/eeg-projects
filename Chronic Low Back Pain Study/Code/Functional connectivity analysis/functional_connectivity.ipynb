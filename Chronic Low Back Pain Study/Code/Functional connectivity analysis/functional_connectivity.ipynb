{
 "cells": [
  {
   "cell_type": "markdown",
   "id": "0c556c1c-fefc-4f4b-83a0-e434ba7d5bfc",
   "metadata": {
    "tags": []
   },
   "source": [
    "## Perform functional connectivity analysis on trial data, eyes open, and eyes closed data for all viable CLBP subjects\n",
    "#### Input: *stc.mat\n",
    "####  Output: con, visualization"
   ]
  },
  {
   "cell_type": "code",
   "execution_count": 1,
   "id": "61f19c56-d9b6-4b71-8f09-7c14ce18f2fb",
   "metadata": {
    "tags": []
   },
   "outputs": [],
   "source": [
    "import os\n",
    "from pathlib import Path\n",
    "import sys\n",
    "sys.path.append(\"/home/wanglab/Documents/George Kenefati/Code/eeg_toolkit/\")\n",
    "from eeg_toolkit import preprocess, utils\n",
    "import eeg_toolkit.functional_connectivity as fc"
   ]
  },
  {
   "cell_type": "code",
   "execution_count": 2,
   "id": "bc472cac-3bcd-47d6-aa8b-a22a81e8562f",
   "metadata": {},
   "outputs": [
    {
     "name": "stdout",
     "output_type": "stream",
     "text": [
      "[-2.5,0.0,2.5]\n"
     ]
    }
   ],
   "source": [
    "# Settings\n",
    "times_tup, time_win_path = preprocess.get_time_window(5)\n",
    "\n",
    "# data paths\n",
    "data_dir = Path(\"../../Data\")\n",
    "processed_data_path = data_dir / \"Processed Data\"\n",
    "stc_path = data_dir / \"Source Time Courses\"\n",
    "EO_resting_data_path = stc_path / \"Eyes Open\"\n",
    "EC_resting_data_path = stc_path / \"Eyes Closed\"\n",
    "zscored_epochs_data_path = stc_path / \"zscored_Epochs\" / time_win_path\n",
    "\n",
    "# save paths\n",
    "fc_path = data_dir / \"Functional Connectivity\""
   ]
  },
  {
   "cell_type": "code",
   "execution_count": 3,
   "id": "e38fc4d6-2341-428f-9131-1868ca9a799a",
   "metadata": {},
   "outputs": [
    {
     "name": "stdout",
     "output_type": "stream",
     "text": [
      "['020', '022', '023', '027', '029', '032', '035', '036', '039', '041', '042', '043', '044', '046', '048', '050', '051', '053', '055', '056', 'C10', 'C11', 'C15', 'C17', 'C25', 'C27']\n"
     ]
    }
   ],
   "source": [
    "# viable subjects\n",
    "sub_ids = utils.import_subs(data_dir, \"sub_ids.txt\")\n",
    "sub_ids = sub_ids[7:]  # select only 64ch subs and turn into set\n",
    "# print(sub_ids)\n",
    "\n",
    "# TODO: replace these subs, temporarility removed just for grant figures\n",
    "TEMP_EXCLUDE = [\n",
    "    # Chronic Pain Subjects\n",
    "    '018', '024', '030', '031', '033', '034', '037', \n",
    "    '038', '040', '045', '049', '052', '054', '057', '058',\n",
    "    # Control Subjects\n",
    "    'C5.', 'C6.', 'C7.', 'C8.', 'C9.', 'C12', 'C13',\n",
    "    'C14', 'C16', 'C18', 'C19', 'C20', 'C21', 'C24', 'C26'\n",
    "    ]\n",
    "# TODO: figure out why these have NaNs\n",
    "NAN_SUBS = ['018','021','C1.','C2.','C3.']\n",
    "# TODO: temporarily remove subjects with no key presses\n",
    "NO_KEYPRESS = ['045', 'C1.', 'C5.', 'C8.', 'C20', 'C21', 'C22']\n",
    "\n",
    "sub_ids = [sub for sub in sub_ids if sub not in TEMP_EXCLUDE]\n",
    "sub_ids = [sub for sub in sub_ids if sub not in NAN_SUBS]\n",
    "sub_ids = [sub for sub in sub_ids if sub not in NO_KEYPRESS]\n",
    "print(sub_ids)"
   ]
  },
  {
   "cell_type": "code",
   "execution_count": 4,
   "id": "dd542c98",
   "metadata": {},
   "outputs": [
    {
     "name": "stdout",
     "output_type": "stream",
     "text": [
      "Chronics: 20\n",
      "Controls: 6\n",
      "Total: 26\n"
     ]
    }
   ],
   "source": [
    "sub_ids_CP = [el for el in sub_ids if el.startswith('0')]\n",
    "sub_ids_HC = [el for el in sub_ids if el.startswith('C')]\n",
    "\n",
    "print(f\"Chronics: {len(sub_ids_CP)}\")\n",
    "print(f\"Controls: {len(sub_ids_HC)}\")\n",
    "print(f\"Total: {len(sub_ids)}\")"
   ]
  },
  {
   "cell_type": "code",
   "execution_count": 5,
   "id": "3dad3845-35ee-450f-8e4f-20317e5cb64c",
   "metadata": {
    "tags": []
   },
   "outputs": [],
   "source": [
    "# Get stc only from selected labels\n",
    "roi_names = [  # Left\n",
    "    \"rostralanteriorcingulate-lh\",  # Left Rostral ACC\n",
    "    \"caudalanteriorcingulate-lh\",  # Left Caudal ACC\n",
    "    \"postcentral-lh\",  # Left S1,\n",
    "    \"insula-lh\",\n",
    "    \"superiorfrontal-lh\",  # Left Insula, Left DL-PFC,\n",
    "    \"medialorbitofrontal-lh\",  # Left Medial-OFC\n",
    "    # Right\n",
    "    \"rostralanteriorcingulate-rh\",  # Right Rostral ACC\n",
    "    \"caudalanteriorcingulate-rh\",  # Right Caudal ACC\n",
    "    \"postcentral-rh\",  # , Right S1\n",
    "    \"insula-rh\",\n",
    "    \"superiorfrontal-rh\",  # Right Insula, Right DL-PFC\n",
    "    \"medialorbitofrontal-rh\",\n",
    "]  # Right Medial-OFC\n",
    "\n",
    "Freq_Bands = {\n",
    "    # 'delta': [0, 4],\n",
    "    \"theta\": [4.0, 8.0],\n",
    "    # \"alpha\": [8.0, 13.0],\n",
    "    \"beta\": [13.0, 30.0],\n",
    "    \"low-gamma\": [30.0, 58.5],\n",
    "    # \"notch\": [58.5, 61.5],\n",
    "    \"high-gamma\": [61.5, 100.0],\n",
    "}\n",
    "band_names = [band for band in Freq_Bands]\n",
    "\n",
    "sfreq = 400  # Hz\n",
    "tmin, tmax = 0.0, 1.5  # exclude the baseline period for connectivity estimation\n",
    "\n",
    "con_methods = [\n",
    "  \"wpli2_debiased\",\n",
    "  \"dpli\",\n",
    "  \"plv\",\n",
    "]\n",
    "\n",
    "# Include intermediate stimulus?\n",
    "include_LS = False\n",
    "\n",
    "conditions = (\n",
    "    [\n",
    "        \"Hand NS\",\n",
    "        \"Hand LS\",\n",
    "        \"Hand HS\",\n",
    "        \"Back NS\",\n",
    "        \"Back LS\",\n",
    "        \"Back HS\",\n",
    "        \"Eyes Open\",\n",
    "        \"Eyes Closed\",\n",
    "    ]\n",
    "    if include_LS\n",
    "    else [\n",
    "        \"Hand NS\",\n",
    "        # 'Hand LS',\n",
    "        \"Hand HS\",\n",
    "        \"Back NS\",\n",
    "        # 'Back LS',\n",
    "        \"Back HS\",\n",
    "        \"Eyes Open\",\n",
    "        \"Eyes Closed\",\n",
    "    ]\n",
    ")\n",
    "\n",
    "groups=['Chronic Pain', 'Healthy Control']"
   ]
  },
  {
   "cell_type": "code",
   "execution_count": 6,
   "id": "e86dfdcb",
   "metadata": {},
   "outputs": [
    {
     "name": "stdout",
     "output_type": "stream",
     "text": [
      "020\n",
      "Reading stimulus labels and pain ratings for Subject 020...\n",
      "\n",
      "*stim_labels length = 80*\n",
      "*pain_ratings_raw length = 80*\n",
      "\n",
      "(12, 72001)\n"
     ]
    },
    {
     "ename": "ValueError",
     "evalue": "",
     "output_type": "error",
     "traceback": [
      "\u001b[0;31m---------------------------------------------------------------------------\u001b[0m",
      "\u001b[0;31mValueError\u001b[0m                                Traceback (most recent call last)",
      "Cell \u001b[0;32mIn[6], line 5\u001b[0m\n\u001b[1;32m      3\u001b[0m \u001b[38;5;28;01mfor\u001b[39;00m sub_id \u001b[38;5;129;01min\u001b[39;00m sub_ids_CP:\n\u001b[1;32m      4\u001b[0m     \u001b[38;5;28mprint\u001b[39m(sub_id)\n\u001b[0;32m----> 5\u001b[0m     sub_avg_cons \u001b[38;5;241m=\u001b[39m \u001b[43mfc\u001b[49m\u001b[38;5;241;43m.\u001b[39;49m\u001b[43mcompute_sub_avg_con\u001b[49m\u001b[43m(\u001b[49m\n\u001b[1;32m      6\u001b[0m \u001b[43m        \u001b[49m\u001b[43msub_id\u001b[49m\u001b[43m,\u001b[49m\n\u001b[1;32m      7\u001b[0m \u001b[43m        \u001b[49m\u001b[38;5;124;43m\"\u001b[39;49m\u001b[38;5;124;43mChronic Pain\u001b[39;49m\u001b[38;5;124;43m\"\u001b[39;49m\u001b[43m,\u001b[49m\n\u001b[1;32m      8\u001b[0m \u001b[43m        \u001b[49m\u001b[43mprocessed_data_path\u001b[49m\u001b[43m,\u001b[49m\n\u001b[1;32m      9\u001b[0m \u001b[43m        \u001b[49m\u001b[43mzscored_epochs_data_path\u001b[49m\u001b[43m,\u001b[49m\n\u001b[1;32m     10\u001b[0m \u001b[43m        \u001b[49m\u001b[43mEO_resting_data_path\u001b[49m\u001b[43m,\u001b[49m\n\u001b[1;32m     11\u001b[0m \u001b[43m        \u001b[49m\u001b[43mEC_resting_data_path\u001b[49m\u001b[43m,\u001b[49m\n\u001b[1;32m     12\u001b[0m \u001b[43m        \u001b[49m\u001b[43mcon_methods\u001b[49m\u001b[43m,\u001b[49m\n\u001b[1;32m     13\u001b[0m \u001b[43m        \u001b[49m\u001b[43mconditions\u001b[49m\u001b[43m,\u001b[49m\n\u001b[1;32m     14\u001b[0m \u001b[43m        \u001b[49m\u001b[43mroi_names\u001b[49m\u001b[43m,\u001b[49m\n\u001b[1;32m     15\u001b[0m \u001b[43m        \u001b[49m\u001b[43mFreq_Bands\u001b[49m\u001b[43m,\u001b[49m\n\u001b[1;32m     16\u001b[0m \u001b[43m        \u001b[49m\u001b[43mtmin\u001b[49m\u001b[43m,\u001b[49m\n\u001b[1;32m     17\u001b[0m \u001b[43m        \u001b[49m\u001b[43mtmax\u001b[49m\u001b[43m,\u001b[49m\n\u001b[1;32m     18\u001b[0m \u001b[43m        \u001b[49m\u001b[43msfreq\u001b[49m\u001b[43m,\u001b[49m\n\u001b[1;32m     19\u001b[0m \u001b[43m        \u001b[49m\u001b[43minclude_LS\u001b[49m\u001b[38;5;241;43m=\u001b[39;49m\u001b[43minclude_LS\u001b[49m\u001b[43m,\u001b[49m\n\u001b[1;32m     20\u001b[0m \u001b[43m    \u001b[49m\u001b[43m)\u001b[49m\n\u001b[1;32m     21\u001b[0m     sub_con_CP[sub_id] \u001b[38;5;241m=\u001b[39m sub_avg_cons\n\u001b[1;32m     22\u001b[0m     \u001b[38;5;28;01mbreak\u001b[39;00m\n",
      "File \u001b[0;32m~/Documents/George Kenefati/Code/eeg_toolkit/eeg_toolkit/functional_connectivity.py:251\u001b[0m, in \u001b[0;36mcompute_sub_avg_con\u001b[0;34m(sub_id, group_name, processed_data_path, zscored_epochs_data_path, EO_resting_data_path, EC_resting_data_path, connectivity_methods, conditions, roi_names, Freq_Bands, tmin, tmax, sfreq, include_LS)\u001b[0m\n\u001b[1;32m    248\u001b[0m label_ts_all\u001b[38;5;241m.\u001b[39mextend([label_ts_EO, label_ts_EC])\n\u001b[1;32m    250\u001b[0m \u001b[38;5;28mprint\u001b[39m(label_ts_all[\u001b[38;5;241m-\u001b[39m\u001b[38;5;241m1\u001b[39m]\u001b[38;5;241m.\u001b[39mshape)\n\u001b[0;32m--> 251\u001b[0m \u001b[38;5;28;01mraise\u001b[39;00m \u001b[38;5;167;01mValueError\u001b[39;00m\n\u001b[1;32m    253\u001b[0m \u001b[38;5;66;03m# Get the frequency bands\u001b[39;00m\n\u001b[1;32m    254\u001b[0m fmins \u001b[38;5;241m=\u001b[39m \u001b[38;5;28mtuple\u001b[39m([\u001b[38;5;28mlist\u001b[39m(Freq_Bands\u001b[38;5;241m.\u001b[39mvalues())[f][\u001b[38;5;241m0\u001b[39m] \u001b[38;5;28;01mfor\u001b[39;00m f \u001b[38;5;129;01min\u001b[39;00m \u001b[38;5;28mrange\u001b[39m(\u001b[38;5;28mlen\u001b[39m(Freq_Bands))])\n",
      "\u001b[0;31mValueError\u001b[0m: "
     ]
    }
   ],
   "source": [
    "# Compute the average connectivity for each subject in the Chronic Pain\n",
    "sub_con_CP = {}\n",
    "for sub_id in sub_ids_CP:\n",
    "    print(sub_id)\n",
    "    sub_avg_cons = fc.compute_sub_avg_con(\n",
    "        sub_id,\n",
    "        \"Chronic Pain\",\n",
    "        processed_data_path,\n",
    "        zscored_epochs_data_path,\n",
    "        EO_resting_data_path,\n",
    "        EC_resting_data_path,\n",
    "        con_methods,\n",
    "        conditions,\n",
    "        roi_names,\n",
    "        Freq_Bands,\n",
    "        tmin,\n",
    "        tmax,\n",
    "        sfreq,\n",
    "        include_LS=include_LS,\n",
    "    )\n",
    "    sub_con_CP[sub_id] = sub_avg_cons\n",
    "    break\n"
   ]
  },
  {
   "cell_type": "code",
   "execution_count": null,
   "id": "14e6acae",
   "metadata": {},
   "outputs": [],
   "source": [
    "# Repeat for the Healthy Control group\n",
    "sub_con_HC = {}\n",
    "for sub_id in sub_ids_HC:\n",
    "    print(sub_id)\n",
    "    sub_avg_cons = fc.compute_sub_avg_con(\n",
    "        sub_id,\n",
    "        \"Healthy Control\",\n",
    "        processed_data_path,\n",
    "        zscored_epochs_data_path,\n",
    "        EO_resting_data_path,\n",
    "        EC_resting_data_path,\n",
    "        con_methods,\n",
    "        conditions,\n",
    "        roi_names,\n",
    "        Freq_Bands,\n",
    "        tmin,\n",
    "        tmax,\n",
    "        sfreq,\n",
    "        include_LS=include_LS,\n",
    "    )\n",
    "    sub_con_HC[sub_id] = sub_avg_cons\n",
    "    break\n"
   ]
  },
  {
   "cell_type": "code",
   "execution_count": null,
   "id": "93c84393",
   "metadata": {},
   "outputs": [],
   "source": [
    "# Compute the average connectivity across subjects in each group\n",
    "group_con_CP = fc.compute_group_con(sub_con_CP, conditions, con_methods, band_names)\n",
    "group_con_HC = fc.compute_group_con(sub_con_HC, conditions, con_methods, band_names)"
   ]
  },
  {
   "cell_type": "code",
   "execution_count": null,
   "id": "ace7e72f",
   "metadata": {},
   "outputs": [],
   "source": [
    "# Save result as pickle\n",
    "utils.pickle_data(fc_path, \"sub_con_CP.pkl\", sub_con_CP)\n",
    "utils.pickle_data(fc_path, \"sub_con_HC.pkl\", sub_con_HC)\n",
    "\n",
    "utils.pickle_data(fc_path, \"group_con_CP.pkl\", group_con_CP)\n",
    "utils.pickle_data(fc_path, \"group_con_HC.pkl\", group_con_HC)"
   ]
  },
  {
   "cell_type": "markdown",
   "id": "61db1680",
   "metadata": {},
   "source": [
    "### Assess results"
   ]
  },
  {
   "cell_type": "code",
   "execution_count": null,
   "id": "e604da3e",
   "metadata": {},
   "outputs": [],
   "source": [
    "use_saved_data = True\n",
    "\n",
    "if use_saved_data:\n",
    "    group_con_CP = utils.unpickle_data(fc_path/\"group_con_CP.pkl\")\n",
    "    group_con_HC = utils.unpickle_data(fc_path/\"group_con_HC.pkl\")"
   ]
  },
  {
   "cell_type": "code",
   "execution_count": null,
   "id": "e4d68990",
   "metadata": {},
   "outputs": [],
   "source": [
    "# Plot connectivity\n",
    "for group, group_name in zip([group_con_CP, group_con_HC], groups):\n",
    "    for condition in conditions:\n",
    "        for method in con_methods:\n",
    "            for band in band_names:\n",
    "                num_epochs = group_con_CP[condition]['num_epochs']\n",
    "                # Gather the information for plotting\n",
    "                plot_kwargs= dict(\n",
    "                    method=method, band=band, \n",
    "                    roi_names=roi_names,\n",
    "                    group_name=group_name, condition=condition,\n",
    "                    num_epochs=num_epochs)\n",
    "    \n",
    "                # Epochs\n",
    "                con_data = group[condition][method][band]\n",
    "                \n",
    "                # fc.plot_connectivity(con_data, **plot_kwargs, save_path=fc_path)\n",
    "                fc.plot_connectivity_circle(con_data, **plot_kwargs, save_path=fc_path)\n",
    "                \n",
    "                break"
   ]
  },
  {
   "cell_type": "markdown",
   "id": "9ac20a47",
   "metadata": {},
   "source": []
  },
  {
   "cell_type": "code",
   "execution_count": null,
   "id": "13df88ee",
   "metadata": {},
   "outputs": [],
   "source": []
  }
 ],
 "metadata": {
  "kernelspec": {
   "display_name": "Python 3",
   "language": "python",
   "name": "python3"
  },
  "language_info": {
   "codemirror_mode": {
    "name": "ipython",
    "version": 3
   },
   "file_extension": ".py",
   "mimetype": "text/x-python",
   "name": "python",
   "nbconvert_exporter": "python",
   "pygments_lexer": "ipython3",
   "version": "3.11.7"
  }
 },
 "nbformat": 4,
 "nbformat_minor": 5
}
