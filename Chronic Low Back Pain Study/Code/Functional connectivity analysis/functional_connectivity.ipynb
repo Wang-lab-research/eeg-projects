{
 "cells": [
  {
   "cell_type": "markdown",
   "id": "0c556c1c-fefc-4f4b-83a0-e434ba7d5bfc",
   "metadata": {
    "tags": []
   },
   "source": [
    "## Perform functional connectivity analysis on trial data, eyes open, and eyes closed data for all viable CLBP subjects\n",
    "#### Input: *stc.mat\n",
    "####  Output: con, visualization"
   ]
  },
  {
   "cell_type": "code",
   "execution_count": 3,
   "id": "61f19c56-d9b6-4b71-8f09-7c14ce18f2fb",
   "metadata": {
    "tags": []
   },
   "outputs": [],
   "source": [
    "import os\n",
    "from pathlib import Path\n",
    "import sys\n",
    "sys.path.append(\"/home/wanglab/Documents/George Kenefati/Code/eeg_toolkit/\")\n",
    "from eeg_toolkit import preprocess, utils\n",
    "import eeg_toolkit.functional_connectivity as fc"
   ]
  },
  {
   "cell_type": "code",
   "execution_count": 4,
   "id": "bc472cac-3bcd-47d6-aa8b-a22a81e8562f",
   "metadata": {},
   "outputs": [
    {
     "name": "stdout",
     "output_type": "stream",
     "text": [
      "[-2.5,0.0,2.5]\n"
     ]
    },
    {
     "data": {
      "text/plain": [
       "[]"
      ]
     },
     "execution_count": 4,
     "metadata": {},
     "output_type": "execute_result"
    }
   ],
   "source": [
    "# Settings\n",
    "times_tup, time_win_path = preprocess.get_time_window(5)\n",
    "\n",
    "# data paths\n",
    "data_dir = Path(\"../../Data\")\n",
    "processed_data_path = data_dir / \"Processed Data\"\n",
    "stc_path = data_dir / \"Source time courses\"\n",
    "EO_resting_data_path = stc_path / \"Eyes Open\"\n",
    "EC_resting_data_path = stc_path / \"Eyes Closed\"\n",
    "zscored_epochs_data_path = stc_path / \"zscored_Epochs\" / time_win_path\n",
    "\n",
    "# save paths\n",
    "fc_path = data_dir / \"Functional connectivity\"\n",
    "EC_resting_save_path = fc_path / \"Eyes Open\"\n",
    "EO_resting_save_path = fc_path / \"Eyes Open\"\n",
    "zscored_epochs_save_path = fc_path / \"zscored_Epochs\" / time_win_path\n",
    "\n",
    "save_paths = [EC_resting_save_path, EO_resting_save_path, zscored_epochs_save_path]\n",
    "\n",
    "[os.makedirs(path) for path in save_paths if not os.path.exists(path)]"
   ]
  },
  {
   "cell_type": "code",
   "execution_count": 5,
   "id": "e38fc4d6-2341-428f-9131-1868ca9a799a",
   "metadata": {},
   "outputs": [
    {
     "name": "stdout",
     "output_type": "stream",
     "text": [
      "['020', '022', '023', '027', '029', '032', '035', '036', '039', '041', '042', '043', '044', '046', '048', '050', '051', '053', '055', '056', 'C10', 'C11', 'C15', 'C17', 'C22', 'C25', 'C27']\n"
     ]
    }
   ],
   "source": [
    "# viable subjects\n",
    "sub_ids = utils.import_subs(data_dir, \"sub_ids.txt\")\n",
    "sub_ids = sub_ids[7:]  # select only 64ch subs and turn into set\n",
    "# print(sub_ids)\n",
    "\n",
    "EXCLUDE_SUBS = [\n",
    "    # Chronic Pain Subjects\n",
    "    '018', '024', '030', '031', '033', '034', '037', \n",
    "    '038', '040', '045', '049', '052', '054', '057', '058',\n",
    "    # Control Subjects\n",
    "    'C5.', 'C6.', 'C7.', 'C8.', 'C9.', 'C12', 'C13',\n",
    "    'C14', 'C16', 'C18', 'C19', 'C20', 'C21', 'C24', 'C26'\n",
    "    ]\n",
    "\n",
    "SKIP_NANS = ['018','021','C1.','C2.','C3.']\n",
    "# TODO: these are just for the grant figures\n",
    "sub_ids = [sub for sub in sub_ids if sub not in EXCLUDE_SUBS]\n",
    "sub_ids = [sub for sub in sub_ids if sub not in SKIP_NANS]\n",
    "print(sub_ids)"
   ]
  },
  {
   "cell_type": "code",
   "execution_count": 6,
   "id": "dd542c98",
   "metadata": {},
   "outputs": [
    {
     "name": "stdout",
     "output_type": "stream",
     "text": [
      "Chronics: 20\n",
      "Controls: 7\n",
      "Total: 27\n"
     ]
    }
   ],
   "source": [
    "sub_ids_CP = [el for el in sub_ids if el.startswith('0')]\n",
    "sub_ids_HC = [el for el in sub_ids if el.startswith('C')]\n",
    "\n",
    "print(f\"Chronics: {len(sub_ids_CP)}\")\n",
    "print(f\"Controls: {len(sub_ids_HC)}\")\n",
    "print(f\"Total: {len(sub_ids)}\")"
   ]
  },
  {
   "cell_type": "code",
   "execution_count": 7,
   "id": "3dad3845-35ee-450f-8e4f-20317e5cb64c",
   "metadata": {
    "tags": []
   },
   "outputs": [],
   "source": [
    "# Get stc only from selected labels\n",
    "roi_names = [  # Left\n",
    "    \"rostralanteriorcingulate-lh\",  # Left Rostral ACC\n",
    "    \"caudalanteriorcingulate-lh\",  # Left Caudal ACC\n",
    "    \"postcentral-lh\",  # Left S1,\n",
    "    \"insula-lh\",\n",
    "    \"superiorfrontal-lh\",  # Left Insula, Left DL-PFC,\n",
    "    \"medialorbitofrontal-lh\",  # Left Medial-OFC\n",
    "    # Right\n",
    "    \"rostralanteriorcingulate-rh\",  # Right Rostral ACC\n",
    "    \"caudalanteriorcingulate-rh\",  # Right Caudal ACC\n",
    "    \"postcentral-rh\",  # , Right S1\n",
    "    \"insula-rh\",\n",
    "    \"superiorfrontal-rh\",  # Right Insula, Right DL-PFC\n",
    "    \"medialorbitofrontal-rh\",\n",
    "]  # Right Medial-OFC\n",
    "\n",
    "Freq_Bands = {\n",
    "    # 'delta': [0, 4],\n",
    "    \"theta\": [4.0, 8.0],\n",
    "    \"alpha\": [8.0, 13.0],\n",
    "    \"beta\": [13.0, 30.0],\n",
    "    \"low-gamma\": [30.0, 58.5],\n",
    "    \"notch\": [58.5, 61.5],\n",
    "    \"high-gamma\": [61.5, 100.0],\n",
    "}\n",
    "\n",
    "sfreq = 400  # Hz\n",
    "tmin, tmax = 0.0, 1.0  # exclude the baseline period for connectivity estimation\n",
    "\n",
    "con_methods = [\n",
    "    \"wpli\",\n",
    "    \"dpli\",\n",
    "    \"plv\",\n",
    "    # \"\",\n",
    "]\n",
    "\n",
    "conditions = ['Hand NS', \n",
    "                'Hand LS',\n",
    "                'Hand HS', \n",
    "                'Back NS',\n",
    "                'Back LS',\n",
    "                'Back HS',\n",
    "                'Eyes Open',\n",
    "                'Eyes Closed']"
   ]
  },
  {
   "cell_type": "code",
   "execution_count": 8,
   "id": "e90c5cee-98bd-4244-a519-0396a80b0c22",
   "metadata": {
    "scrolled": true
   },
   "outputs": [
    {
     "name": "stdout",
     "output_type": "stream",
     "text": [
      "Reading stimulus labels and pain ratings for Subject 020...\n",
      "\n",
      "*stim_labels length = 80*\n",
      "*pain_ratings_raw length = 80*\n",
      "\n"
     ]
    },
    {
     "ename": "NameError",
     "evalue": "name 'epochs' is not defined",
     "output_type": "error",
     "traceback": [
      "\u001b[0;31m---------------------------------------------------------------------------\u001b[0m",
      "\u001b[0;31mNameError\u001b[0m                                 Traceback (most recent call last)",
      "Cell \u001b[0;32mIn[8], line 30\u001b[0m\n\u001b[1;32m     28\u001b[0m \u001b[38;5;28;01mfor\u001b[39;00m method \u001b[38;5;129;01min\u001b[39;00m con_methods: \n\u001b[1;32m     29\u001b[0m     \u001b[38;5;28;01mif\u001b[39;00m \u001b[38;5;28misinstance\u001b[39m(label_ts, \u001b[38;5;28mlist\u001b[39m):\n\u001b[0;32m---> 30\u001b[0m         con_epochs \u001b[38;5;241m=\u001b[39m \u001b[43mfc\u001b[49m\u001b[38;5;241;43m.\u001b[39;49m\u001b[43mcompute_connectivity_epochs\u001b[49m\u001b[43m(\u001b[49m\n\u001b[1;32m     31\u001b[0m \u001b[43m            \u001b[49m\u001b[43mlabel_ts\u001b[49m\u001b[43m,\u001b[49m\u001b[43m \u001b[49m\u001b[43mroi_names\u001b[49m\u001b[43m,\u001b[49m\u001b[43m \u001b[49m\u001b[43mmethod\u001b[49m\u001b[43m,\u001b[49m\u001b[43m \u001b[49m\u001b[43mFreq_Bands\u001b[49m\u001b[43m,\u001b[49m\u001b[43m \u001b[49m\u001b[43mtmin\u001b[49m\u001b[43m,\u001b[49m\u001b[43m \u001b[49m\u001b[43mtmax\u001b[49m\u001b[43m,\u001b[49m\u001b[43m \u001b[49m\u001b[43msfreq\u001b[49m\n\u001b[1;32m     32\u001b[0m \u001b[43m        \u001b[49m\u001b[43m)\u001b[49m\n\u001b[1;32m     33\u001b[0m     \u001b[38;5;28;01melse\u001b[39;00m:   \n\u001b[1;32m     34\u001b[0m         con_eo \u001b[38;5;241m=\u001b[39m fc\u001b[38;5;241m.\u001b[39mcompute_connectivity_resting_state(label_ts, roi_names, method, Freq_Bands, sfreq, condition\u001b[38;5;241m=\u001b[39m\u001b[38;5;124m\"\u001b[39m\u001b[38;5;124mEO\u001b[39m\u001b[38;5;124m\"\u001b[39m)\n",
      "File \u001b[0;32m~/Documents/George Kenefati/Code/eeg_toolkit/eeg_toolkit/functional_connectivity.py:131\u001b[0m, in \u001b[0;36mcompute_connectivity_epochs\u001b[0;34m(label_ts, roi_names, method, Freq_Bands, tmin, tmax, sfreq)\u001b[0m\n\u001b[1;32m    127\u001b[0m fmax \u001b[38;5;241m=\u001b[39m \u001b[38;5;28mtuple\u001b[39m([\u001b[38;5;28mlist\u001b[39m(Freq_Bands\u001b[38;5;241m.\u001b[39mvalues())[f][\u001b[38;5;241m1\u001b[39m] \u001b[38;5;28;01mfor\u001b[39;00m f \u001b[38;5;129;01min\u001b[39;00m \u001b[38;5;28mrange\u001b[39m(\u001b[38;5;28mlen\u001b[39m(Freq_Bands))])\n\u001b[1;32m    129\u001b[0m \u001b[38;5;66;03m# Compute connectivity over trials\u001b[39;00m\n\u001b[1;32m    130\u001b[0m con_epochs \u001b[38;5;241m=\u001b[39m mne_conn\u001b[38;5;241m.\u001b[39mspectral_connectivity_epochs(\n\u001b[0;32m--> 131\u001b[0m     \u001b[43mepochs\u001b[49m,\n\u001b[1;32m    132\u001b[0m     method\u001b[38;5;241m=\u001b[39mmethod,\n\u001b[1;32m    133\u001b[0m     sfreq\u001b[38;5;241m=\u001b[39msfreq,\n\u001b[1;32m    134\u001b[0m     mode\u001b[38;5;241m=\u001b[39m\u001b[38;5;124m\"\u001b[39m\u001b[38;5;124mcwt_morlet\u001b[39m\u001b[38;5;124m\"\u001b[39m,\n\u001b[1;32m    135\u001b[0m     cwt_freqs\u001b[38;5;241m=\u001b[39mfreqs,\n\u001b[1;32m    136\u001b[0m     fmin\u001b[38;5;241m=\u001b[39mfmin,\n\u001b[1;32m    137\u001b[0m     fmax\u001b[38;5;241m=\u001b[39mfmax,\n\u001b[1;32m    138\u001b[0m     faverage\u001b[38;5;241m=\u001b[39m\u001b[38;5;28;01mTrue\u001b[39;00m,\n\u001b[1;32m    139\u001b[0m     tmin\u001b[38;5;241m=\u001b[39mtmin,\n\u001b[1;32m    140\u001b[0m     tmax\u001b[38;5;241m=\u001b[39mtmax,\n\u001b[1;32m    141\u001b[0m     cwt_n_cycles\u001b[38;5;241m=\u001b[39m\u001b[38;5;241m4\u001b[39m,\n\u001b[1;32m    142\u001b[0m )\n\u001b[1;32m    144\u001b[0m \u001b[38;5;28;01mreturn\u001b[39;00m con_epochs\n",
      "\u001b[0;31mNameError\u001b[0m: name 'epochs' is not defined"
     ]
    }
   ],
   "source": [
    "con_all_epochs_CP = []\n",
    "con_all_eo_CP = []\n",
    "con_all_ec_CP = []\n",
    "\n",
    "for sub_id in sub_ids_CP:\n",
    "    # First load in STC data and separate epochs by stimulus\n",
    "    # Epochs\n",
    "    hand_all_label_ts, back_all_label_ts, hand_all_ratings, back_all_ratings = fc.separate_epochs_by_stim(\n",
    "    sub_id, processed_data_path, zscored_epochs_data_path\n",
    ")\n",
    "    # Resting state\n",
    "    # label_ts_EO = utils.unpickle_data(\n",
    "    #     EO_resting_data_path, f\"{sub_id}_EO.pkl\"\n",
    "    # )\n",
    "    # label_ts_EC = utils.unpickle_data(\n",
    "    #     EC_resting_data_path, f\"{sub_id}_EC.pkl\"\n",
    "    # )\n",
    "    \n",
    "    # Unpack label_ts for each site and stimulus level\n",
    "    label_ts_all = []\n",
    "    label_ts_all.extend(list(hand_all_label_ts))\n",
    "    label_ts_all.extend(list(back_all_label_ts))\n",
    "    # label_ts_all.extend([label_ts_EO, label_ts_EC])\n",
    "    \n",
    "    \n",
    "    # Compute connectivity for epochs\n",
    "    for label_ts,condition in zip(label_ts_all,conditions):\n",
    "        for method in con_methods: \n",
    "            if isinstance(label_ts, list):\n",
    "                con_epochs = fc.compute_connectivity_epochs(\n",
    "                    label_ts, roi_names, method, Freq_Bands, tmin, tmax, sfreq\n",
    "                )\n",
    "            else:   \n",
    "                con_eo = fc.compute_connectivity_resting_state(label_ts, roi_names, method, Freq_Bands, sfreq, condition=\"EO\")\n",
    "                con_ec = fc.compute_connectivity_resting_state(label_ts, roi_names, method, Freq_Bands, sfreq, condition=\"EC\")\n",
    "\n",
    "    con_all_epochs.append(con_epochs)\n",
    "    con_all_eo.append(con_eo)\n",
    "    con_all_ec.append(con_ec)"
   ]
  },
  {
   "cell_type": "code",
   "execution_count": null,
   "id": "be8053ed",
   "metadata": {},
   "outputs": [],
   "source": [
    "# Plot averaged data\n",
    "plot_connectivity_circle(con_epochs_array, con_methods, Freq_Bands, roi_names)\n",
    "plot_global_connectivity(epochs, tmin, tmax, n_connections, con_epochs, Freq_Bands)\n",
    "plot_connectivity(con_epochs, t_con_max, roi_names, con_methods)\n",
    "plot_con_matrix(con_data, n_con_methods, connectivity_methods, roi_names, foi)\n"
   ]
  }
 ],
 "metadata": {
  "kernelspec": {
   "display_name": "Python 3",
   "language": "python",
   "name": "python3"
  },
  "language_info": {
   "codemirror_mode": {
    "name": "ipython",
    "version": 3
   },
   "file_extension": ".py",
   "mimetype": "text/x-python",
   "name": "python",
   "nbconvert_exporter": "python",
   "pygments_lexer": "ipython3",
   "version": "3.11.6"
  }
 },
 "nbformat": 4,
 "nbformat_minor": 5
}
