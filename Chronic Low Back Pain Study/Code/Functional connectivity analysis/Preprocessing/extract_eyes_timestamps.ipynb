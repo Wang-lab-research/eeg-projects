{
 "cells": [
  {
   "cell_type": "markdown",
   "id": "2947c985-edb4-4e37-ac38-e2abc335d541",
   "metadata": {
    "tags": []
   },
   "source": [
    "## Extract eyes open and eyes closed and stop timestamps to crop data for resting state functional connectivity analysis\n",
    "##### Input: *_preprocessed-raw.fif\n",
    "#####  Output: *_RestingTStamps.csv\n",
    "######   * = Subject e.g. 018 or C14 etc"
   ]
  },
  {
   "cell_type": "code",
   "execution_count": 35,
   "id": "97247369-753f-4a4c-8a06-d0115590d4cc",
   "metadata": {
    "tags": []
   },
   "outputs": [],
   "source": [
    "import csv\n",
    "import os\n",
    "import sys\n",
    "import mne\n",
    "from mne.io import read_raw_fif\n",
    "#%conda install utils\n",
    "#import something to save in pickle"
   ]
  },
  {
   "cell_type": "code",
   "execution_count": 9,
   "id": "5ff2ca0f-ec76-40da-a67d-a57d3fb7b3c0",
   "metadata": {},
   "outputs": [],
   "source": [
    "annotation_keys = {'eyes closed': 1, 'Trigger#1': 1, 'EYES CLOSED': 1, # eyes closed\n",
    "                      'eyes open': 2, 'eyes opened': 2, 'Trigger#2': 2, 'EYES OPEN': 2, 'eyes openned':2, # eyes open\n",
    "                      'stop': 9, 'Stop': 9, 'STOP': 9, 'Sop': 9, # stop\n",
    "                      }"
   ]
  },
  {
   "cell_type": "code",
   "execution_count": 10,
   "id": "842b367f-9d3c-4436-868f-6fb7ffe7b719",
   "metadata": {},
   "outputs": [],
   "source": [
    "# Settings\n",
    "# Read in processed raw data\n",
    "#data_path = '../../Data/Processed Data/'\n",
    "#This data path is local to sbflpc002\n",
    "data_path = '/run/user/1000/gvfs/smb-share:server=research-cifs.nyumc.org,share=research/jwanglab/jwanglabspace/George Kenefati/Chronic Low Back Pain Study/Data/Processed Data'\n",
    "save_path = '../../../Data/Eyes Timestamps/'\n",
    "\n",
    "if not os.path.exists(save_path):\n",
    "    os.makedirs(save_path)"
   ]
  },
  {
   "cell_type": "code",
   "execution_count": 11,
   "id": "e26e75c4-73bd-4a3d-9e47-2c3ee930b96c",
   "metadata": {},
   "outputs": [],
   "source": [
    "file_list = os.listdir(data_path)\n",
    "# Only select files that end in \"raw.fif\"\n",
    "raw_fif_files = [file for file in file_list if file.endswith('raw.fif')]\n"
   ]
  },
  {
   "cell_type": "code",
   "execution_count": 5,
   "id": "d4249ff7-a4a4-45e7-a4dd-11d09a45038c",
   "metadata": {},
   "outputs": [
    {
     "name": "stdout",
     "output_type": "stream",
     "text": [
      "Opening raw data file /run/user/1000/gvfs/smb-share:server=research-cifs.nyumc.org,share=research/jwanglab/jwanglabspace/George Kenefati/Chronic Low Back Pain Study/Data/Processed Data/039_preprocessed-raw.fif...\n",
      "    Range : 0 ... 602879 =      0.000 ...  1507.197 secs\n",
      "Ready.\n",
      "Used Annotations descriptions: ['Stop', 'eyes closed', 'eyes opened']\n",
      "Timestamps and Associated Event IDs:\n",
      "Timestamp: 5.223 seconds, Event ID: 1\n",
      "Timestamp: 309.095 seconds, Event ID: 9\n",
      "Timestamp: 339.295 seconds, Event ID: 2\n",
      "Timestamp: 647.395 seconds, Event ID: 9\n",
      "Timestamp: 1504.095 seconds, Event ID: 9\n"
     ]
    }
   ],
   "source": [
    "# Manually change index to identify timestamps of eyes closed/open\n",
    "# Manually checking bc little standardization\n",
    "file = raw_fif_files[0]\n",
    "file_path = os.path.join(data_path, file)\n",
    "raw = read_raw_fif(file_path, preload = False)\n",
    "\n",
    "\n",
    "events_from_annot, event_dict = mne.events_from_annotations(raw, event_id = annotation_keys)\n",
    "# Extract timestamps from the events\n",
    "timestamps_with_id = [(event[0] / raw.info['sfreq'], event[2]) for event in events_from_annot]\n",
    "\n",
    "# Get name of the file we're looking at\n",
    "#print(file_path)\n",
    "\n",
    "# Output timestamps with associated event IDs\n",
    "print(\"Timestamps and Associated Event IDs:\")\n",
    "for timestamp, event_id in timestamps_with_id:\n",
    "    print(f\"Timestamp: {timestamp:.3f} seconds, Event ID: {event_id}\")"
   ]
  },
  {
   "cell_type": "markdown",
   "id": "3621955b-a614-4a90-82a4-8e7de8943019",
   "metadata": {},
   "source": [
    "##### Next, collect the timepoints for the eyes closed, eyes closed stop, eyes open, and eyes open stop"
   ]
  },
  {
   "cell_type": "code",
   "execution_count": 6,
   "id": "f73dc3c3-770e-40a0-8dd4-01e97c974300",
   "metadata": {},
   "outputs": [
    {
     "name": "stdout",
     "output_type": "stream",
     "text": [
      "Saved Times: [5.2225, 309.095, 339.295, 647.395]\n"
     ]
    }
   ],
   "source": [
    "### Script for a normal timestamp\n",
    "saved_times = [None, None, None, None]  # Initialize an array to store timestamps\n",
    "\n",
    "for idx, (timestamp, event_id) in enumerate(timestamps_with_id):\n",
    "    # Find first instance of event ID 1, then the first instance of event ID 9 afterwards\n",
    "    # Find first instance of event ID 2, the the first instance of event ID 9 afterwards\n",
    "    if event_id == 1:\n",
    "        if saved_times[0] is None:  # Check if the first index is empty\n",
    "            saved_times[0] = timestamp\n",
    "    elif event_id == 9 and idx > 0 and timestamps_with_id[idx - 1][1] == 1:\n",
    "        saved_times[1] = timestamp\n",
    "    elif event_id == 2:\n",
    "        if saved_times[2] is None:  # Check if the third index is empty\n",
    "            saved_times[2] = timestamp\n",
    "    elif event_id == 9 and idx > 0 and timestamps_with_id[idx - 1][1] == 2:\n",
    "        saved_times[3] = timestamp\n",
    "\n",
    "print(\"Saved Times:\", saved_times)"
   ]
  },
  {
   "cell_type": "code",
   "execution_count": 16,
   "id": "0a73df93-a65a-4c12-8a39-d625b7e6ddd8",
   "metadata": {},
   "outputs": [],
   "source": [
    "# Function to extract subject ID from the file path\n",
    "def extract_subject_id(file_path):\n",
    "    file_name = file_path.split('/')[-1]  # Extract the file name\n",
    "    subject_id = file_name.split('_')[0]  # Get the part before '_preprocessed-raw.fif'\n",
    "    return subject_id\n",
    "\n",
    "# Extract subject ID from the given file paths\n",
    "subject_id = extract_subject_id(file_path)\n",
    "\n",
    "# Define the CSV file name\n",
    "csv_file_name = f\"{subject_id}_RestingTStamps.csv\"\n",
    "\n",
    "# Construct the full file path\n",
    "full_file_path = os.path.join(save_path, csv_file_name)\n",
    "\n",
    "# Write data to the CSV file\n",
    "with open(full_file_path, mode='w', newline='') as file:\n",
    "    writer = csv.writer(file)\n",
    "    writer.writerow([\"Seconds\"])\n",
    "\n",
    "    for timestamp in saved_times:\n",
    "        writer.writerow([timestamp])\n",
    "    "
   ]
  },
  {
   "cell_type": "code",
   "execution_count": 19,
   "id": "68084d04-5a2b-403d-b190-bc96229c3291",
   "metadata": {},
   "outputs": [
    {
     "name": "stdout",
     "output_type": "stream",
     "text": [
      "Opening raw data file /run/user/1000/gvfs/smb-share:server=research-cifs.nyumc.org,share=research/jwanglab/jwanglabspace/George Kenefati/Chronic Low Back Pain Study/Data/Processed Data/008_preprocessed-raw.fif...\n",
      "    Range : 0 ... 712799 =      0.000 ...  1781.997 secs\n",
      "Ready.\n"
     ]
    },
    {
     "ename": "TypeError",
     "evalue": "'datetime.datetime' object cannot be interpreted as an integer",
     "output_type": "error",
     "traceback": [
      "\u001b[0;31m---------------------------------------------------------------------------\u001b[0m",
      "\u001b[0;31mTypeError\u001b[0m                                 Traceback (most recent call last)",
      "Cell \u001b[0;32mIn[19], line 14\u001b[0m\n\u001b[1;32m     11\u001b[0m recording_date \u001b[38;5;241m=\u001b[39m raw\u001b[38;5;241m.\u001b[39minfo[\u001b[38;5;124m'\u001b[39m\u001b[38;5;124mmeas_date\u001b[39m\u001b[38;5;124m'\u001b[39m]\n\u001b[1;32m     13\u001b[0m \u001b[38;5;66;03m# Convert the mne date into something readable\u001b[39;00m\n\u001b[0;32m---> 14\u001b[0m recording_date_readable \u001b[38;5;241m=\u001b[39m \u001b[43mdatetime\u001b[49m\u001b[38;5;241;43m.\u001b[39;49m\u001b[43mfromtimestamp\u001b[49m\u001b[43m(\u001b[49m\u001b[43mrecording_date\u001b[49m\u001b[43m)\u001b[49m\u001b[38;5;241m.\u001b[39mstrftime(\u001b[38;5;124m'\u001b[39m\u001b[38;5;124m%\u001b[39m\u001b[38;5;124mY-\u001b[39m\u001b[38;5;124m%\u001b[39m\u001b[38;5;124mm-\u001b[39m\u001b[38;5;132;01m%d\u001b[39;00m\u001b[38;5;124m \u001b[39m\u001b[38;5;124m%\u001b[39m\u001b[38;5;124mH:\u001b[39m\u001b[38;5;124m%\u001b[39m\u001b[38;5;124mM:\u001b[39m\u001b[38;5;124m%\u001b[39m\u001b[38;5;124mS\u001b[39m\u001b[38;5;124m'\u001b[39m)\n\u001b[1;32m     15\u001b[0m \u001b[38;5;28mprint\u001b[39m(\u001b[38;5;124mf\u001b[39m\u001b[38;5;124m\"\u001b[39m\u001b[38;5;124mThe recording date in human-readable format is: \u001b[39m\u001b[38;5;132;01m{\u001b[39;00mrecording_date_readable\u001b[38;5;132;01m}\u001b[39;00m\u001b[38;5;124m\"\u001b[39m)\n\u001b[1;32m     16\u001b[0m \u001b[38;5;124;03m\"\"\"\u001b[39;00m\n\u001b[1;32m     17\u001b[0m \u001b[38;5;124;03mevents_from_annot, event_dict = mne.events_from_annotations(raw) #Removed annotations_key to see all annotations\u001b[39;00m\n\u001b[1;32m     18\u001b[0m \n\u001b[0;32m   (...)\u001b[0m\n\u001b[1;32m     32\u001b[0m \n\u001b[1;32m     33\u001b[0m \u001b[38;5;124;03m\"\"\"\u001b[39;00m\n",
      "\u001b[0;31mTypeError\u001b[0m: 'datetime.datetime' object cannot be interpreted as an integer"
     ]
    },
    {
     "name": "stdout",
     "output_type": "stream",
     "text": [
      "Channels marked as bad:\n",
      "none\n"
     ]
    }
   ],
   "source": [
    "## SCRIPT START FOR IRREGULAR TIMES/ANNOTATIONS\n",
    "#\"\"\"  #USE IF FILE DOES NOT COMPLY WITH PARSING \n",
    "from datetime import datetime\n",
    "\n",
    "file = raw_fif_files[43]\n",
    "file_path = os.path.join(data_path, file)\n",
    "raw = read_raw_fif(file_path, preload = False)\n",
    "\n",
    "#### Find the dates of the files\n",
    "# Get the recording date\n",
    "recording_date = raw.info['meas_date']\n",
    "\n",
    "# Convert the mne date into something readable\n",
    "recording_date_readable = datetime.fromtimestamp(recording_date).strftime('%Y-%m-%d %H:%M:%S')\n",
    "print(f\"The recording date in human-readable format is: {recording_date_readable}\")\n",
    "\"\"\"\n",
    "events_from_annot, event_dict = mne.events_from_annotations(raw) #Removed annotations_key to see all annotations\n",
    "\n",
    "# Extract timestamps from the events\n",
    "timestamps_with_id = [(event[0] / raw.info['sfreq'], event[2]) for event in events_from_annot]\n",
    "\n",
    "timestamps_event_ids_annotations = []\n",
    "for idx, event in enumerate(events_from_annot):\n",
    "    timestamp = event[0] / raw.info['sfreq']  # Timestamp in seconds\n",
    "    event_id = event[2]  # Event ID\n",
    "    #use event_dict to get the annotation\n",
    "    timestamps_event_ids_annotations.append((timestamp, event_id))\n",
    "\n",
    "# Print the extracted data\n",
    "for timestamp, event_id in timestamps_event_ids_annotations:\n",
    "    print(f\"Timestamp: {timestamp:.3f}s, Event ID: {event_id}\")\n",
    "\n",
    "\"\"\""
   ]
  },
  {
   "cell_type": "code",
   "execution_count": 13,
   "id": "9638118c-c782-42bf-a210-5a1e498b6998",
   "metadata": {},
   "outputs": [
    {
     "data": {
      "text/plain": [
       "{'Trigger#1': 1,\n",
       " 'Trigger#2': 2,\n",
       " 'Trigger#3': 3,\n",
       " 'Trigger#4': 4,\n",
       " 'Trigger#6': 5}"
      ]
     },
     "execution_count": 13,
     "metadata": {},
     "output_type": "execute_result"
    }
   ],
   "source": [
    "event_dict"
   ]
  },
  {
   "cell_type": "code",
   "execution_count": 14,
   "id": "1200466d-3205-4086-86ad-2868d4a151cd",
   "metadata": {},
   "outputs": [
    {
     "name": "stdout",
     "output_type": "stream",
     "text": [
      "Using qt as 2D backend.\n"
     ]
    },
    {
     "data": {
      "text/plain": [
       "<mne_qt_browser._pg_figure.MNEQtBrowser at 0x7fbdd6d284c0>"
      ]
     },
     "execution_count": 14,
     "metadata": {},
     "output_type": "execute_result"
    }
   ],
   "source": [
    "raw.plot()"
   ]
  },
  {
   "cell_type": "code",
   "execution_count": 15,
   "id": "cd91584a-7f07-4478-a24f-eca37513e8a2",
   "metadata": {},
   "outputs": [
    {
     "name": "stdout",
     "output_type": "stream",
     "text": [
      "Saved Times: [590.695, 598.705, 290.42, 560.695]\n"
     ]
    }
   ],
   "source": [
    "## SCRIPT CONTINUED FOR IRREGULAR TIMES/ANNOTATIONS\n",
    "saved_times = [None, None, None, None]  # Initialize an array to store timestamps\n",
    "# Have manual adjustments to saved times\n",
    "saved_times[0] = 590.695\n",
    "saved_times[1] = 628.705 - 30\n",
    "saved_times[2] = 290.420\n",
    "saved_times[3] = 590.695 - 30\n",
    "print(\"Saved Times:\", saved_times)"
   ]
  },
  {
   "cell_type": "markdown",
   "id": "67393ff4-8b38-489c-9e8a-f06412f2f025",
   "metadata": {},
   "source": [
    "## Script below should be used after all CSVs are created"
   ]
  },
  {
   "cell_type": "code",
   "execution_count": 17,
   "id": "cea253f5-d930-4cb0-b085-2147be4d313a",
   "metadata": {},
   "outputs": [
    {
     "name": "stdout",
     "output_type": "stream",
     "text": [
      "File: 037_RestingTStamps.csv\n",
      "Length of time between EC_start and EC_stop: 5 minutes and 12 seconds\n",
      "Length of time between EO_start and EO_stop: 5 minutes and 13 seconds\n",
      "=============================\n",
      "File: 034_RestingTStamps.csv\n",
      "Length of time between EC_start and EC_stop: 5 minutes and 3 seconds\n",
      "Length of time between EO_start and EO_stop: 5 minutes and 1 seconds\n",
      "=============================\n",
      "File: 049_RestingTStamps.csv\n",
      "Length of time between EC_start and EC_stop: 5 minutes and 17 seconds\n",
      "Length of time between EO_start and EO_stop: 5 minutes and 4 seconds\n",
      "=============================\n",
      "File: 056_RestingTStamps.csv\n",
      "Length of time between EC_start and EC_stop: 4 minutes and 57 seconds\n",
      "Length of time between EO_start and EO_stop: 5 minutes and 1 seconds\n",
      "=============================\n",
      "File: 021_RestingTStamps.csv\n",
      "Length of time between EC_start and EC_stop: 5 minutes and 14 seconds\n",
      "Length of time between EO_start and EO_stop: 4 minutes and 53 seconds\n",
      "=============================\n",
      "File: 014_RestingTStamps.csv\n",
      "Length of time between EC_start and EC_stop: 0 minutes and 8 seconds\n",
      "Length of time between EO_start and EO_stop: 4 minutes and 30 seconds\n",
      "=============================\n",
      "File: C2._RestingTStamps.csv\n",
      "Length of time between EC_start and EC_stop: 5 minutes and 10 seconds\n",
      "Length of time between EO_start and EO_stop: 6 minutes and 1 seconds\n",
      "=============================\n",
      "File: 052_RestingTStamps.csv\n",
      "Length of time between EC_start and EC_stop: 6 minutes and 11 seconds\n",
      "Length of time between EO_start and EO_stop: 5 minutes and 9 seconds\n",
      "=============================\n",
      "File: 040_RestingTStamps.csv\n",
      "Length of time between EC_start and EC_stop: 4 minutes and 57 seconds\n",
      "Length of time between EO_start and EO_stop: 5 minutes and 0 seconds\n",
      "=============================\n",
      "File: 018_RestingTStamps.csv\n",
      "Length of time between EC_start and EC_stop: 5 minutes and 7 seconds\n",
      "Length of time between EO_start and EO_stop: 5 minutes and 53 seconds\n",
      "=============================\n",
      "File: 057_RestingTStamps.csv\n",
      "Length of time between EC_start and EC_stop: 5 minutes and 8 seconds\n",
      "Length of time between EO_start and EO_stop: 5 minutes and 3 seconds\n",
      "=============================\n",
      "File: 007_RestingTStamps.csv\n",
      "Length of time between EC_start and EC_stop: 4 minutes and 37 seconds\n",
      "Length of time between EO_start and EO_stop: 4 minutes and 30 seconds\n",
      "=============================\n",
      "File: C3._RestingTStamps.csv\n",
      "Length of time between EC_start and EC_stop: 5 minutes and 11 seconds\n",
      "Length of time between EO_start and EO_stop: 5 minutes and 8 seconds\n",
      "=============================\n",
      "File: 038_RestingTStamps.csv\n",
      "Length of time between EC_start and EC_stop: 5 minutes and 8 seconds\n",
      "Length of time between EO_start and EO_stop: 5 minutes and 4 seconds\n",
      "=============================\n",
      "File: C11_RestingTStamps.csv\n",
      "Length of time between EC_start and EC_stop: 5 minutes and 7 seconds\n",
      "Length of time between EO_start and EO_stop: 5 minutes and 2 seconds\n",
      "=============================\n",
      "File: C24_RestingTStamps.csv\n",
      "Length of time between EC_start and EC_stop: 5 minutes and 7 seconds\n",
      "Length of time between EO_start and EO_stop: 5 minutes and 2 seconds\n",
      "=============================\n",
      "File: C10_RestingTStamps.csv\n",
      "Length of time between EC_start and EC_stop: 5 minutes and 48 seconds\n",
      "Length of time between EO_start and EO_stop: 4 minutes and 59 seconds\n",
      "=============================\n",
      "File: 027_RestingTStamps.csv\n",
      "Length of time between EC_start and EC_stop: 4 minutes and 51 seconds\n",
      "Length of time between EO_start and EO_stop: 5 minutes and 11 seconds\n",
      "=============================\n",
      "File: C9._RestingTStamps.csv\n",
      "Length of time between EC_start and EC_stop: 5 minutes and 25 seconds\n",
      "Length of time between EO_start and EO_stop: 5 minutes and 20 seconds\n",
      "=============================\n",
      "File: C15_RestingTStamps.csv\n",
      "Length of time between EC_start and EC_stop: 5 minutes and 2 seconds\n",
      "Length of time between EO_start and EO_stop: 5 minutes and 4 seconds\n",
      "=============================\n",
      "File: C8._RestingTStamps.csv\n",
      "Length of time between EC_start and EC_stop: 5 minutes and 47 seconds\n",
      "Length of time between EO_start and EO_stop: 7 minutes and 1 seconds\n",
      "=============================\n",
      "File: 048_RestingTStamps.csv\n",
      "Length of time between EC_start and EC_stop: 5 minutes and 4 seconds\n",
      "Length of time between EO_start and EO_stop: 5 minutes and 1 seconds\n",
      "=============================\n",
      "File: 054_RestingTStamps.csv\n",
      "Length of time between EC_start and EC_stop: 5 minutes and 25 seconds\n",
      "Length of time between EO_start and EO_stop: 5 minutes and 0 seconds\n",
      "=============================\n",
      "File: 051_RestingTStamps.csv\n",
      "Length of time between EC_start and EC_stop: 6 minutes and 1 seconds\n",
      "Length of time between EO_start and EO_stop: 5 minutes and 53 seconds\n",
      "=============================\n",
      "File: C27_RestingTStamps.csv\n",
      "Length of time between EC_start and EC_stop: 5 minutes and 1 seconds\n",
      "Length of time between EO_start and EO_stop: 5 minutes and 2 seconds\n",
      "=============================\n",
      "File: C17_RestingTStamps.csv\n",
      "Length of time between EC_start and EC_stop: 4 minutes and 59 seconds\n",
      "Length of time between EO_start and EO_stop: 5 minutes and 0 seconds\n",
      "=============================\n",
      "File: 030_RestingTStamps.csv\n",
      "Length of time between EC_start and EC_stop: 5 minutes and 23 seconds\n",
      "Length of time between EO_start and EO_stop: 5 minutes and 3 seconds\n",
      "=============================\n",
      "File: 036_RestingTStamps.csv\n",
      "Length of time between EC_start and EC_stop: 4 minutes and 25 seconds\n",
      "Length of time between EO_start and EO_stop: 4 minutes and 57 seconds\n",
      "=============================\n",
      "File: 008_RestingTStamps.csv\n",
      "Length of time between EC_start and EC_stop: 0 minutes and 16 seconds\n",
      "Length of time between EO_start and EO_stop: 4 minutes and 30 seconds\n",
      "=============================\n",
      "File: 053_RestingTStamps.csv\n",
      "Length of time between EC_start and EC_stop: 5 minutes and 16 seconds\n",
      "Length of time between EO_start and EO_stop: 5 minutes and 6 seconds\n",
      "=============================\n",
      "File: 010_RestingTStamps.csv\n",
      "Length of time between EC_start and EC_stop: 0 minutes and 24 seconds\n",
      "Length of time between EO_start and EO_stop: 4 minutes and 28 seconds\n",
      "=============================\n",
      "File: C12_RestingTStamps.csv\n",
      "Length of time between EC_start and EC_stop: 5 minutes and 1 seconds\n",
      "Length of time between EO_start and EO_stop: 5 minutes and 2 seconds\n",
      "=============================\n",
      "File: C26_RestingTStamps.csv\n",
      "Length of time between EC_start and EC_stop: 5 minutes and 1 seconds\n",
      "Length of time between EO_start and EO_stop: 5 minutes and 1 seconds\n",
      "=============================\n",
      "File: 032_RestingTStamps.csv\n",
      "Length of time between EC_start and EC_stop: 6 minutes and 54 seconds\n",
      "Length of time between EO_start and EO_stop: 5 minutes and 19 seconds\n",
      "=============================\n",
      "File: C16_RestingTStamps.csv\n",
      "Length of time between EC_start and EC_stop: 5 minutes and 1 seconds\n",
      "Length of time between EO_start and EO_stop: 5 minutes and 4 seconds\n",
      "=============================\n",
      "File: 029_RestingTStamps.csv\n",
      "Length of time between EC_start and EC_stop: 6 minutes and 15 seconds\n",
      "Length of time between EO_start and EO_stop: 5 minutes and 15 seconds\n",
      "=============================\n",
      "File: 023_RestingTStamps.csv\n",
      "Length of time between EC_start and EC_stop: 5 minutes and 14 seconds\n",
      "Length of time between EO_start and EO_stop: 5 minutes and 4 seconds\n",
      "=============================\n",
      "File: 035_RestingTStamps.csv\n",
      "Length of time between EC_start and EC_stop: 4 minutes and 25 seconds\n",
      "Length of time between EO_start and EO_stop: 4 minutes and 57 seconds\n",
      "=============================\n",
      "File: 022_RestingTStamps.csv\n",
      "Length of time between EC_start and EC_stop: 5 minutes and 8 seconds\n",
      "Length of time between EO_start and EO_stop: 5 minutes and 1 seconds\n",
      "=============================\n",
      "File: 043_RestingTStamps.csv\n",
      "Length of time between EC_start and EC_stop: 4 minutes and 59 seconds\n",
      "Length of time between EO_start and EO_stop: 5 minutes and 0 seconds\n",
      "=============================\n",
      "File: C7._RestingTStamps.csv\n",
      "Length of time between EC_start and EC_stop: 5 minutes and 12 seconds\n",
      "Length of time between EO_start and EO_stop: 5 minutes and 5 seconds\n",
      "=============================\n",
      "File: 041_RestingTStamps.csv\n",
      "Length of time between EC_start and EC_stop: 5 minutes and 4 seconds\n",
      "Length of time between EO_start and EO_stop: 5 minutes and 5 seconds\n",
      "=============================\n",
      "File: 031_RestingTStamps.csv\n",
      "Length of time between EC_start and EC_stop: 5 minutes and 37 seconds\n",
      "Length of time between EO_start and EO_stop: 5 minutes and 29 seconds\n",
      "=============================\n",
      "File: C14_RestingTStamps.csv\n",
      "Length of time between EC_start and EC_stop: 5 minutes and 40 seconds\n",
      "Length of time between EO_start and EO_stop: 5 minutes and 5 seconds\n",
      "=============================\n",
      "File: 042_RestingTStamps.csv\n",
      "Length of time between EC_start and EC_stop: 4 minutes and 59 seconds\n",
      "Length of time between EO_start and EO_stop: 4 minutes and 59 seconds\n",
      "=============================\n",
      "File: 046_RestingTStamps.csv\n",
      "Length of time between EC_start and EC_stop: 5 minutes and 0 seconds\n",
      "Length of time between EO_start and EO_stop: 5 minutes and 0 seconds\n",
      "=============================\n",
      "File: 059_RestingTStamps.csv\n",
      "Length of time between EC_start and EC_stop: 5 minutes and 1 seconds\n",
      "Length of time between EO_start and EO_stop: 5 minutes and 53 seconds\n",
      "=============================\n",
      "File: 039_RestingTStamps.csv\n",
      "Length of time between EC_start and EC_stop: 5 minutes and 3 seconds\n",
      "Length of time between EO_start and EO_stop: 5 minutes and 8 seconds\n",
      "=============================\n",
      "File: 013_RestingTStamps.csv\n",
      "Length of time between EC_start and EC_stop: 0 minutes and 8 seconds\n",
      "Length of time between EO_start and EO_stop: 5 minutes and 1 seconds\n",
      "=============================\n",
      "File: C13_RestingTStamps.csv\n",
      "Length of time between EC_start and EC_stop: 5 minutes and 8 seconds\n",
      "Length of time between EO_start and EO_stop: 5 minutes and 7 seconds\n",
      "=============================\n",
      "File: C25_RestingTStamps.csv\n",
      "Length of time between EC_start and EC_stop: 5 minutes and 5 seconds\n",
      "Length of time between EO_start and EO_stop: 5 minutes and 4 seconds\n",
      "=============================\n",
      "File: 020_RestingTStamps.csv\n",
      "Length of time between EC_start and EC_stop: 5 minutes and 13 seconds\n",
      "Length of time between EO_start and EO_stop: 5 minutes and 4 seconds\n",
      "=============================\n",
      "File: 058_RestingTStamps.csv\n",
      "Length of time between EC_start and EC_stop: 5 minutes and 3 seconds\n",
      "Length of time between EO_start and EO_stop: 5 minutes and 1 seconds\n",
      "=============================\n",
      "File: 024_RestingTStamps.csv\n",
      "Length of time between EC_start and EC_stop: 4 minutes and 39 seconds\n",
      "Length of time between EO_start and EO_stop: 5 minutes and 12 seconds\n",
      "=============================\n",
      "File: 055_RestingTStamps.csv\n",
      "Length of time between EC_start and EC_stop: 5 minutes and 0 seconds\n",
      "Length of time between EO_start and EO_stop: 5 minutes and 3 seconds\n",
      "=============================\n",
      "File: 050_RestingTStamps.csv\n",
      "Length of time between EC_start and EC_stop: 5 minutes and 13 seconds\n",
      "Length of time between EO_start and EO_stop: 5 minutes and 5 seconds\n",
      "=============================\n",
      "File: C19_RestingTStamps.csv\n",
      "Length of time between EC_start and EC_stop: 4 minutes and 59 seconds\n",
      "Length of time between EO_start and EO_stop: 5 minutes and 0 seconds\n",
      "=============================\n",
      "File: 033_RestingTStamps.csv\n",
      "Length of time between EC_start and EC_stop: 5 minutes and 2 seconds\n",
      "Length of time between EO_start and EO_stop: 5 minutes and 12 seconds\n",
      "=============================\n",
      "File: C6._RestingTStamps.csv\n",
      "Length of time between EC_start and EC_stop: 6 minutes and 6 seconds\n",
      "Length of time between EO_start and EO_stop: 5 minutes and 4 seconds\n",
      "=============================\n",
      "File: 044_RestingTStamps.csv\n",
      "Length of time between EC_start and EC_stop: 4 minutes and 59 seconds\n",
      "Length of time between EO_start and EO_stop: 4 minutes and 58 seconds\n",
      "=============================\n",
      "File: C18_RestingTStamps.csv\n",
      "Length of time between EC_start and EC_stop: 5 minutes and 1 seconds\n",
      "Length of time between EO_start and EO_stop: 4 minutes and 59 seconds\n",
      "=============================\n"
     ]
    }
   ],
   "source": [
    "# Find the length of the recordings\n",
    "import os\n",
    "import pandas as pd\n",
    "from datetime import timedelta\n",
    "\n",
    "def process_csv_files(csv_path):\n",
    "    # List all CSV files in the given path\n",
    "    csv_files = [f for f in os.listdir(csv_path) if f.endswith('.csv')]\n",
    "\n",
    "    for file_name in csv_files:\n",
    "        file_path = os.path.join(csv_path, file_name)\n",
    "        \n",
    "        # Read the CSV file into a DataFrame\n",
    "        df = pd.read_csv(file_path)\n",
    "        \n",
    "        # Extract values from the DataFrame\n",
    "        EC_start = df['Seconds'][0]\n",
    "        EC_stop = df['Seconds'][1]\n",
    "        EO_start = df['Seconds'][2]\n",
    "        EO_stop = df['Seconds'][3]\n",
    "        \n",
    "        # Calculate time differences\n",
    "        time_diff_EC = timedelta(seconds=EC_stop - EC_start)\n",
    "        time_diff_EO = timedelta(seconds=EO_stop - EO_start)\n",
    "        \n",
    "        # Convert time differences to minutes and seconds\n",
    "        minutes_EC, seconds_EC = divmod(time_diff_EC.total_seconds(), 60)\n",
    "        minutes_EO, seconds_EO = divmod(time_diff_EO.total_seconds(), 60)\n",
    "        \n",
    "        print(f\"File: {file_name}\")\n",
    "        print(f\"Length of time between EC_start and EC_stop: {int(minutes_EC)} minutes and {int(seconds_EC)} seconds\")\n",
    "        print(f\"Length of time between EO_start and EO_stop: {int(minutes_EO)} minutes and {int(seconds_EO)} seconds\")\n",
    "        print(\"=============================\")\n",
    "\n",
    "# Use function defined above\n",
    "csv_path = '../../../Data/Eyes Timestamps/'\n",
    "\n",
    "process_csv_files(csv_path)\n"
   ]
  },
  {
   "cell_type": "markdown",
   "id": "689ed792-18fe-4a94-855c-65b20b82aa6c",
   "metadata": {},
   "source": [
    "#### Testing the cropping function"
   ]
  },
  {
   "cell_type": "code",
   "execution_count": 1,
   "id": "ad903fde-8ce5-48b8-a37f-e37f6140d3e7",
   "metadata": {},
   "outputs": [
    {
     "name": "stdout",
     "output_type": "stream",
     "text": [
      "0 files missing from root.txt in /home/sb10flpc002/mne_data/MNE-fsaverage-data\n",
      "0 files missing from bem.txt in /home/sb10flpc002/mne_data/MNE-fsaverage-data/fsaverage\n"
     ]
    }
   ],
   "source": [
    "import sys\n",
    "#sys.path.append('/home/wanglab/Documents/George Kenefati/Code/eeg_toolkit/')\n",
    "sys.path.append('/media/sb10flpc002/08e63286-43ce-4f61-9491-1ed048c96f20/Rachel Wu/eeg-projects/Code/eeg_toolkit/')\n",
    "import os\n",
    "import mne\n",
    "import pandas as pd\n",
    "#%conda install openpyxl -y\n",
    "import eeg_toolkit\n",
    "from eeg_toolkit import utils, preprocess, source_localization"
   ]
  },
  {
   "cell_type": "code",
   "execution_count": 43,
   "id": "5e86005b-4aee-42ee-903f-7720b31103ea",
   "metadata": {},
   "outputs": [
    {
     "data": {
      "text/plain": [
       "'\\n# viable subjects\\nsub_ids = utils.import_subs(data_path)\\n# select only 64ch subs and turn into set\\nsub_ids = sub_ids[7:]\\nprint(sub_ids)\\n'"
      ]
     },
     "execution_count": 43,
     "metadata": {},
     "output_type": "execute_result"
    }
   ],
   "source": [
    "# Read in csv files with timestamps for eyes open/closed/stop\n",
    "#csv_path = '../../../Data/Eyes Timestamps/'\n",
    "csv_path = '/media/sb10flpc002/08e63286-43ce-4f61-9491-1ed048c96f20/Rachel Wu/eeg-projects/Chronic Low Back Pain Study/Data/Eyes Timestamps'\n",
    "\n",
    "# Read in processed raw data\n",
    "data_path =         '/run/user/1000/gvfs/smb-share:server=research-cifs.nyumc.org,share=research/jwanglab/jwanglabspace/George Kenefati/Chronic Low Back Pain Study/Data/Processed Data'\n",
    "#save_path_resting = '/run/user/1000/gvfs/smb-share:server=research-cifs.nyumc.org,share=research/jwanglab/jwanglabspace/George Kenefati/Chronic Low Back Pain Study/Data/Processed Data'\n",
    "save_path_resting = '/media/sb10flpc002/08e63286-43ce-4f61-9491-1ed048c96f20/Rachel Wu/eeg-projects/Chronic Low Back Pain Study/Data/Cropped Resting'\n",
    "\n",
    "if not os.path.exists(save_path_resting):\n",
    "    os.makedirs(save_path_resting)\n",
    "\"\"\"\n",
    "# viable subjects\n",
    "sub_ids = utils.import_subs(data_path)\n",
    "# select only 64ch subs and turn into set\n",
    "sub_ids = sub_ids[7:]\n",
    "print(sub_ids)\n",
    "\"\"\""
   ]
  },
  {
   "cell_type": "code",
   "execution_count": 40,
   "id": "b14b6642-5de3-4525-a92e-58bfeb7e1c0a",
   "metadata": {},
   "outputs": [
    {
     "name": "stdout",
     "output_type": "stream",
     "text": [
      "Raw.fif file for subject 007 is found.\n"
     ]
    }
   ],
   "source": [
    "### Load the respective Raw.fif file\n",
    "\n",
    "file_list = os.listdir(data_path)\n",
    "raw_file = None\n",
    "# Only select files that end in \"raw.fif\"\n",
    "for file in file_list:\n",
    "    if file.endswith('raw.fif') and sub_id in file:\n",
    "        raw_file = file\n",
    "        break\n",
    "if raw_file is not None:\n",
    "    print(f\"Raw.fif file for subject {sub_id} is found.\")\n",
    "else:\n",
    "    print(f\"Raw.fif file with {sub_id} not found in the folder.\")\n",
    "\n",
    "\n",
    "rawfile_path = os.path.join(data_path, raw_file)\n",
    "raw = read_raw_fif(rawfile_path, preload = False)"
   ]
  },
  {
   "cell_type": "code",
   "execution_count": 39,
   "id": "f5484679-f69e-439c-a8cd-0acfa30e636f",
   "metadata": {},
   "outputs": [
    {
     "name": "stdout",
     "output_type": "stream",
     "text": [
      "CSV file for subject is found.\n"
     ]
    }
   ],
   "source": [
    "## CHANGE FOR TESTING\n",
    "sub_id = \"007\"\n",
    "#Import CSV file\n",
    "csv_folder = os.listdir(csv_path)\n",
    "data_folder = os.listdir(data_path)\n",
    "\n",
    "# Find the corresponding CSV file with the resting EEG timestamps\n",
    "timestamp_csv = None\n",
    "for file in csv_folder:\n",
    "    if file.endswith(\".csv\") and sub_id in file:\n",
    "        file_path = os.path.join(csv_path, file)\n",
    "        timestamp_csv = pd.read_csv(file_path)\n",
    "        break\n",
    "\n",
    "if timestamp_csv is not None:\n",
    "    print(f\"CSV file for subject is found.\")\n",
    "else:\n",
    "    print(f\"CSV file with {sub_id} not found in the folder.\")"
   ]
  },
  {
   "cell_type": "code",
   "execution_count": 31,
   "id": "5bc25b22-a78c-4884-b456-e203a6006a9c",
   "metadata": {},
   "outputs": [
    {
     "name": "stdout",
     "output_type": "stream",
     "text": [
      "EC_start: 10.5325, EC_stop: 190.5325, EO_start: 407.5575, EO_stop: 587.5575\n",
      "noise_start: 317.5575, noise_end: 407.5575\n",
      "\n",
      "\n"
     ]
    }
   ],
   "source": [
    "# Take in the timestamps into new variables\n",
    "EC_start = timestamp_csv['Seconds'][0]\n",
    "EC_stop = timestamp_csv['Seconds'][1]\n",
    "EO_start = timestamp_csv['Seconds'][2]\n",
    "EO_stop = timestamp_csv['Seconds'][3]\n",
    "\n",
    "## Create timestamps for EO and noise\n",
    "# Establish timestamps assuming recording is long enough for noise = 2 mins, EO = 3 mins\n",
    "noise_start = EO_start\n",
    "noise_stop = EO_start + 120\n",
    "cropped_EO_start = noise_stop\n",
    "cropped_EO_stop = noise_stop + 180\n",
    "\n",
    "# Make noise capture exactly 1.5 or 2 minutes\n",
    "# Make resting EO exactly 2 or 3 minutes   \n",
    "if abs(EO_stop - EO_start) < 300: #Resting recording is less than 5 mins\n",
    "    if abs(EO_stop - EO_start) < 260: #Resting recording is less than 4.5 mins\n",
    "        #noise is 2 min, EO is 2 minutes\n",
    "        noise_stop = EO_start + 120 # Noise is 2 minutes \n",
    "        cropped_EO_start = EO_stop - 120 # EO is 2 minutes\n",
    "        cropped_EO_stop = EO_stop\n",
    "    else:\n",
    "        #noise is 1.5 min, EO is 3 minutes\n",
    "        noise_stop = EO_start + 90 # Noise is 1.5 mins\n",
    "        cropped_EO_start = noise_stop\n",
    "        cropped_EO_stop = noise_stop + 180 # EO is 3 minutes\n",
    "# Check if eyes closed is greater than 3 mins\n",
    "if (EC_stop - EC_start) < 180:\n",
    "    print(f\"Eyes closed is not longer than 3 mins. Length of EC reading is: {EC_stop- EC_start}\")\n",
    "else:\n",
    "    EC_stop = EC_start + 180\n",
    "\n",
    "print(f\"EC_start: {EC_start}, EC_stop: {EC_stop}, EO_start: {cropped_EO_start}, EO_stop: {cropped_EO_stop}\")\n",
    "print(f\"noise_start: {noise_start}, noise_end: {noise_stop}\")\n",
    "print(\"\\n\")"
   ]
  },
  {
   "cell_type": "code",
   "execution_count": 44,
   "id": "27800302-7ec5-475b-a5f9-228df162235b",
   "metadata": {},
   "outputs": [],
   "source": [
    "# Generate the filename based on the provided convention\n",
    "EC_filename = f\"{sub_id}_eyes_closed-raw.fif\"\n",
    "noise_filename = f\"{sub_id}_noise-raw.fif\"\n",
    "EO_filename = f\"{sub_id}_eyes_open-raw.fif\"\n",
    "\n",
    "# Create filepath for the new file\n",
    "EC_filepath = os.path.join(save_path_resting, EC_filename)\n",
    "noise_filepath = os.path.join(save_path_resting, noise_filename)\n",
    "EO_filepath = os.path.join(save_path_resting, EO_filename)"
   ]
  },
  {
   "cell_type": "code",
   "execution_count": 47,
   "id": "1183e1af-4284-4dc1-8ae3-fd45b89af978",
   "metadata": {},
   "outputs": [
    {
     "ename": "ValueError",
     "evalue": "tmax (407.5575) must be less than or equal to the max time (180.0000 s)",
     "output_type": "error",
     "traceback": [
      "\u001b[0;31m---------------------------------------------------------------------------\u001b[0m",
      "\u001b[0;31mValueError\u001b[0m                                Traceback (most recent call last)",
      "Cell \u001b[0;32mIn[47], line 5\u001b[0m\n\u001b[1;32m      3\u001b[0m raw_copy \u001b[38;5;241m=\u001b[39m raw\u001b[38;5;241m.\u001b[39mcrop()\n\u001b[1;32m      4\u001b[0m eyes_closed \u001b[38;5;241m=\u001b[39m raw_copy\u001b[38;5;241m.\u001b[39mcrop(tmin \u001b[38;5;241m=\u001b[39m EC_start, tmax \u001b[38;5;241m=\u001b[39m EC_stop)\n\u001b[0;32m----> 5\u001b[0m noise_reading \u001b[38;5;241m=\u001b[39m \u001b[43mraw_copy\u001b[49m\u001b[38;5;241;43m.\u001b[39;49m\u001b[43mcrop\u001b[49m\u001b[43m(\u001b[49m\u001b[43mtmin\u001b[49m\u001b[43m \u001b[49m\u001b[38;5;241;43m=\u001b[39;49m\u001b[43m \u001b[49m\u001b[43mnoise_start\u001b[49m\u001b[43m,\u001b[49m\u001b[43m \u001b[49m\u001b[43mtmax\u001b[49m\u001b[43m \u001b[49m\u001b[38;5;241;43m=\u001b[39;49m\u001b[43m \u001b[49m\u001b[43mnoise_stop\u001b[49m\u001b[43m)\u001b[49m\n\u001b[1;32m      6\u001b[0m eyes_open \u001b[38;5;241m=\u001b[39m raw_copy\u001b[38;5;241m.\u001b[39mcrop(tmin \u001b[38;5;241m=\u001b[39m cropped_EO_start, tmax \u001b[38;5;241m=\u001b[39m cropped_EO_stop)\n\u001b[1;32m      9\u001b[0m \u001b[38;5;66;03m# Save the cropped raw data to a .fif file\u001b[39;00m\n",
      "File \u001b[0;32m<decorator-gen-238>:12\u001b[0m, in \u001b[0;36mcrop\u001b[0;34m(self, tmin, tmax, include_tmax, verbose)\u001b[0m\n",
      "File \u001b[0;32m~/anaconda3/envs/mne/lib/python3.11/site-packages/mne/io/base.py:1481\u001b[0m, in \u001b[0;36mBaseRaw.crop\u001b[0;34m(self, tmin, tmax, include_tmax, verbose)\u001b[0m\n\u001b[1;32m   1479\u001b[0m     \u001b[38;5;28;01mraise\u001b[39;00m \u001b[38;5;167;01mValueError\u001b[39;00m(\u001b[38;5;124m\"\u001b[39m\u001b[38;5;124mtmin (\u001b[39m\u001b[38;5;132;01m%s\u001b[39;00m\u001b[38;5;124m) must be >= 0\u001b[39m\u001b[38;5;124m\"\u001b[39m \u001b[38;5;241m%\u001b[39m (tmin,))\n\u001b[1;32m   1480\u001b[0m \u001b[38;5;28;01melif\u001b[39;00m tmax \u001b[38;5;241m-\u001b[39m \u001b[38;5;28mint\u001b[39m(\u001b[38;5;129;01mnot\u001b[39;00m include_tmax) \u001b[38;5;241m/\u001b[39m \u001b[38;5;28mself\u001b[39m\u001b[38;5;241m.\u001b[39minfo[\u001b[38;5;124m\"\u001b[39m\u001b[38;5;124msfreq\u001b[39m\u001b[38;5;124m\"\u001b[39m] \u001b[38;5;241m>\u001b[39m max_time:\n\u001b[0;32m-> 1481\u001b[0m     \u001b[38;5;28;01mraise\u001b[39;00m \u001b[38;5;167;01mValueError\u001b[39;00m(\n\u001b[1;32m   1482\u001b[0m         \u001b[38;5;124m\"\u001b[39m\u001b[38;5;124mtmax (\u001b[39m\u001b[38;5;132;01m%s\u001b[39;00m\u001b[38;5;124m) must be less than or equal to the max \u001b[39m\u001b[38;5;124m\"\u001b[39m\n\u001b[1;32m   1483\u001b[0m         \u001b[38;5;124m\"\u001b[39m\u001b[38;5;124mtime (\u001b[39m\u001b[38;5;132;01m%0.4f\u001b[39;00m\u001b[38;5;124m s)\u001b[39m\u001b[38;5;124m\"\u001b[39m \u001b[38;5;241m%\u001b[39m (tmax, max_time)\n\u001b[1;32m   1484\u001b[0m     )\n\u001b[1;32m   1486\u001b[0m smin, smax \u001b[38;5;241m=\u001b[39m np\u001b[38;5;241m.\u001b[39mwhere(\n\u001b[1;32m   1487\u001b[0m     _time_mask(\n\u001b[1;32m   1488\u001b[0m         \u001b[38;5;28mself\u001b[39m\u001b[38;5;241m.\u001b[39mtimes,\n\u001b[0;32m   (...)\u001b[0m\n\u001b[1;32m   1493\u001b[0m     )\n\u001b[1;32m   1494\u001b[0m )[\u001b[38;5;241m0\u001b[39m][[\u001b[38;5;241m0\u001b[39m, \u001b[38;5;241m-\u001b[39m\u001b[38;5;241m1\u001b[39m]]\n\u001b[1;32m   1495\u001b[0m cumul_lens \u001b[38;5;241m=\u001b[39m np\u001b[38;5;241m.\u001b[39mconcatenate(([\u001b[38;5;241m0\u001b[39m], np\u001b[38;5;241m.\u001b[39marray(\u001b[38;5;28mself\u001b[39m\u001b[38;5;241m.\u001b[39m_raw_lengths, dtype\u001b[38;5;241m=\u001b[39m\u001b[38;5;124m\"\u001b[39m\u001b[38;5;124mint\u001b[39m\u001b[38;5;124m\"\u001b[39m)))\n",
      "\u001b[0;31mValueError\u001b[0m: tmax (407.5575) must be less than or equal to the max time (180.0000 s)"
     ]
    }
   ],
   "source": [
    "# Create cropped files \n",
    "# First copy the raw file\n",
    "raw_copy = raw.crop()\n",
    "eyes_closed = raw_copy.crop(tmin = EC_start, tmax = EC_stop)\n",
    "noise_reading = raw_copy.crop(tmin = noise_start, tmax = noise_stop)\n",
    "eyes_open = raw_copy.crop(tmin = cropped_EO_start, tmax = cropped_EO_stop)\n",
    "\n",
    "\n",
    "# Save the cropped raw data to a .fif file\n",
    "EC_cropped = raw_copy.save(EC_filename, overwrite=True)\n",
    "noise_cropped = raw_copy.save(noise_filename, overwrite=True)\n",
    "EO_cropped = raw_copy.save(EO_filename, overwrite=True)"
   ]
  },
  {
   "cell_type": "code",
   "execution_count": null,
   "id": "8a0db356-26a3-47eb-9009-545446312f4a",
   "metadata": {},
   "outputs": [],
   "source": []
  }
 ],
 "metadata": {
  "kernelspec": {
   "display_name": "mne",
   "language": "python",
   "name": "mne"
  },
  "language_info": {
   "codemirror_mode": {
    "name": "ipython",
    "version": 3
   },
   "file_extension": ".py",
   "mimetype": "text/x-python",
   "name": "python",
   "nbconvert_exporter": "python",
   "pygments_lexer": "ipython3",
   "version": "3.11.7"
  }
 },
 "nbformat": 4,
 "nbformat_minor": 5
}
