{
 "cells": [
  {
   "cell_type": "markdown",
   "id": "2947c985-edb4-4e37-ac38-e2abc335d541",
   "metadata": {
    "tags": []
   },
   "source": [
    "## Extract eyes open and eyes closed and stop timestamps to crop data for resting state functional connectivity analysis\n",
    "##### Input: *_preprocessed-raw.fif\n",
    "#####  Output: *_RestingTStamps.csv\n",
    "######   * = Subject e.g. 018 or C14 etc"
   ]
  },
  {
   "cell_type": "code",
   "execution_count": 1,
   "id": "97247369-753f-4a4c-8a06-d0115590d4cc",
   "metadata": {
    "tags": []
   },
   "outputs": [
    {
     "name": "stdout",
     "output_type": "stream",
     "text": [
      "Requirement already satisfied: utils in /home/sb10flpc002/anaconda3/envs/mne/lib/python3.11/site-packages (1.0.1)\n"
     ]
    }
   ],
   "source": [
    "import csv\n",
    "import os\n",
    "import sys\n",
    "import mne\n",
    "from mne.io import read_raw_fif\n",
    "!pip install utils\n",
    "#import utils\n",
    "#import something to save in pickle"
   ]
  },
  {
   "cell_type": "code",
   "execution_count": 2,
   "id": "5ff2ca0f-ec76-40da-a67d-a57d3fb7b3c0",
   "metadata": {},
   "outputs": [],
   "source": [
    "annotation_keys = {'eyes closed': 1, 'Trigger#1': 1, 'EYES CLOSED': 1, # eyes closed\n",
    "                      'eyes open': 2, 'eyes opened': 2, 'Trigger#2': 2, 'EYES OPEN': 2, 'eyes openned':2, # eyes open\n",
    "                      'stop': 9, 'Stop': 9, 'STOP': 9, 'Sop': 9, # stop\n",
    "                      }"
   ]
  },
  {
   "cell_type": "code",
   "execution_count": 3,
   "id": "842b367f-9d3c-4436-868f-6fb7ffe7b719",
   "metadata": {},
   "outputs": [],
   "source": [
    "# Settings\n",
    "# Read in processed raw data\n",
    "#data_path = '../../Data/Processed Data/'\n",
    "#This data path is local to sbflpc002\n",
    "data_path = '/run/user/1000/gvfs/smb-share:server=research-cifs.nyumc.org,share=research/jwanglab/jwanglabspace/George Kenefati/Chronic Low Back Pain Study/Data/Processed Data'\n",
    "save_path = '../../../Data/Eyes Timestamps/'\n",
    "\n",
    "if not os.path.exists(save_path):\n",
    "    os.makedirs(save_path)"
   ]
  },
  {
   "cell_type": "code",
   "execution_count": 4,
   "id": "e26e75c4-73bd-4a3d-9e47-2c3ee930b96c",
   "metadata": {},
   "outputs": [],
   "source": [
    "file_list = os.listdir(data_path)\n",
    "# Only select files that end in \"raw.fif\"\n",
    "raw_fif_files = [file for file in file_list if file.endswith('raw.fif')]\n"
   ]
  },
  {
   "cell_type": "code",
   "execution_count": 17,
   "id": "d4249ff7-a4a4-45e7-a4dd-11d09a45038c",
   "metadata": {},
   "outputs": [
    {
     "name": "stdout",
     "output_type": "stream",
     "text": [
      "Opening raw data file /run/user/1000/gvfs/smb-share:server=research-cifs.nyumc.org,share=research/jwanglab/jwanglabspace/George Kenefati/Chronic Low Back Pain Study/Data/Processed Data/009_preprocessed-raw.fif...\n",
      "    Range : 0 ... 700799 =      0.000 ...  1751.997 secs\n",
      "Ready.\n",
      "Used Annotations descriptions: ['Trigger#1', 'Trigger#2']\n",
      "Timestamps and Associated Event IDs:\n",
      "Timestamp: 292.580 seconds, Event ID: 2\n",
      "Timestamp: 1114.938 seconds, Event ID: 2\n",
      "Timestamp: 1224.870 seconds, Event ID: 1\n",
      "Timestamp: 1737.495 seconds, Event ID: 2\n"
     ]
    }
   ],
   "source": [
    "file = raw_fif_files[17]\n",
    "file_path = os.path.join(data_path, file)\n",
    "raw = read_raw_fif(file_path, preload = False)\n",
    "\n",
    "\n",
    "events_from_annot, event_dict = mne.events_from_annotations(raw, event_id = annotation_keys)\n",
    "# Extract timestamps from the events\n",
    "timestamps_with_id = [(event[0] / raw.info['sfreq'], event[2]) for event in events_from_annot]\n",
    "\n",
    "# Get name of the file we're looking at\n",
    "#print(file_path)\n",
    "\n",
    "# Output timestamps with associated event IDs\n",
    "print(\"Timestamps and Associated Event IDs:\")\n",
    "for timestamp, event_id in timestamps_with_id:\n",
    "    print(f\"Timestamp: {timestamp:.3f} seconds, Event ID: {event_id}\")"
   ]
  },
  {
   "cell_type": "markdown",
   "id": "3621955b-a614-4a90-82a4-8e7de8943019",
   "metadata": {},
   "source": [
    "##### Next, collect the timepoints for the eyes closed, eyes closed stop, eyes open, and eyes open stop"
   ]
  },
  {
   "cell_type": "code",
   "execution_count": 6,
   "id": "f73dc3c3-770e-40a0-8dd4-01e97c974300",
   "metadata": {},
   "outputs": [
    {
     "name": "stdout",
     "output_type": "stream",
     "text": [
      "Saved Times: [57.1425, None, 65.1575, None]\n"
     ]
    }
   ],
   "source": [
    "### Script for a normal timestamp\n",
    "saved_times = [None, None, None, None]  # Initialize an array to store timestamps\n",
    "\n",
    "for idx, (timestamp, event_id) in enumerate(timestamps_with_id):\n",
    "    # Find first instance of event ID 1, then the first instance of event ID 9 afterwards\n",
    "    # Find first instance of event ID 2, the the first instance of event ID 9 afterwards\n",
    "    if event_id == 1:\n",
    "        if saved_times[0] is None:  # Check if the first index is empty\n",
    "            saved_times[0] = timestamp\n",
    "    elif event_id == 9 and idx > 0 and timestamps_with_id[idx - 1][1] == 1:\n",
    "        saved_times[1] = timestamp\n",
    "    elif event_id == 2:\n",
    "        if saved_times[2] is None:  # Check if the third index is empty\n",
    "            saved_times[2] = timestamp\n",
    "    elif event_id == 9 and idx > 0 and timestamps_with_id[idx - 1][1] == 2:\n",
    "        saved_times[3] = timestamp\n",
    "\n",
    "print(\"Saved Times:\", saved_times)"
   ]
  },
  {
   "cell_type": "code",
   "execution_count": 7,
   "id": "cd91584a-7f07-4478-a24f-eca37513e8a2",
   "metadata": {},
   "outputs": [
    {
     "name": "stdout",
     "output_type": "stream",
     "text": [
      "Saved Times: [57.1425, 65.157, 95.157, 396.835]\n"
     ]
    }
   ],
   "source": [
    "# Adjustments to saved times\n",
    "#Timestamp: 52.320s, Event ID: 3\n",
    "#Timestamp: 57.142s, Event ID: 1\n",
    "#Timestamp: 65.157s, Event ID: 2\n",
    "#Timestamp: 426.835s, Event ID: 7\n",
    "#saved_times[0] = 15.668\n",
    "saved_times[1] = 65.157\n",
    "saved_times[2] = 95.157\n",
    "saved_times[3] = 426.835 - 30\n",
    "print(\"Saved Times:\", saved_times)"
   ]
  },
  {
   "cell_type": "code",
   "execution_count": 8,
   "id": "0a73df93-a65a-4c12-8a39-d625b7e6ddd8",
   "metadata": {},
   "outputs": [],
   "source": [
    "# Function to extract subject ID from the file path\n",
    "def extract_subject_id(file_path):\n",
    "    file_name = file_path.split('/')[-1]  # Extract the file name\n",
    "    subject_id = file_name.split('_')[0]  # Get the part before '_preprocessed-raw.fif'\n",
    "    return subject_id\n",
    "\n",
    "# Extract subject ID from the given file paths\n",
    "subject_id = extract_subject_id(file_path)\n",
    "\n",
    "# Define the CSV file name\n",
    "csv_file_name = f\"{subject_id}_RestingTStamps.csv\"\n",
    "\n",
    "# Construct the full file path\n",
    "full_file_path = os.path.join(save_path, csv_file_name)\n",
    "\n",
    "# Write data to the CSV file\n",
    "with open(full_file_path, mode='w', newline='') as file:\n",
    "    writer = csv.writer(file)\n",
    "    writer.writerow([\"Seconds\"])\n",
    "\n",
    "    for timestamp in saved_times:\n",
    "        writer.writerow([timestamp])\n",
    "    "
   ]
  },
  {
   "cell_type": "code",
   "execution_count": 9,
   "id": "68084d04-5a2b-403d-b190-bc96229c3291",
   "metadata": {},
   "outputs": [
    {
     "name": "stdout",
     "output_type": "stream",
     "text": [
      "Opening raw data file /run/user/1000/gvfs/smb-share:server=research-cifs.nyumc.org,share=research/jwanglab/jwanglabspace/George Kenefati/Chronic Low Back Pain Study/Data/Processed Data/008_preprocessed-raw.fif...\n",
      "    Range : 0 ... 712799 =      0.000 ...  1781.997 secs\n",
      "Ready.\n",
      "Used Annotations descriptions: ['Trigger#1', 'Trigger#2', 'Trigger#3', 'Trigger#4']\n",
      "Timestamp: 291.575s, Event ID: 2\n",
      "Timestamp: 591.587s, Event ID: 1\n",
      "Timestamp: 608.535s, Event ID: 3\n",
      "Timestamp: 635.043s, Event ID: 4\n",
      "Timestamp: 654.812s, Event ID: 3\n",
      "Timestamp: 692.508s, Event ID: 3\n",
      "Timestamp: 705.725s, Event ID: 4\n",
      "Timestamp: 716.525s, Event ID: 4\n",
      "Timestamp: 717.062s, Event ID: 4\n",
      "Timestamp: 717.082s, Event ID: 4\n",
      "Timestamp: 717.115s, Event ID: 4\n",
      "Timestamp: 717.150s, Event ID: 4\n",
      "Timestamp: 717.185s, Event ID: 4\n",
      "Timestamp: 717.205s, Event ID: 4\n",
      "Timestamp: 717.245s, Event ID: 4\n",
      "Timestamp: 717.278s, Event ID: 4\n",
      "Timestamp: 717.300s, Event ID: 4\n",
      "Timestamp: 717.345s, Event ID: 4\n",
      "Timestamp: 717.367s, Event ID: 4\n",
      "Timestamp: 727.258s, Event ID: 4\n",
      "Timestamp: 739.962s, Event ID: 3\n",
      "Timestamp: 756.960s, Event ID: 4\n",
      "Timestamp: 781.658s, Event ID: 3\n",
      "Timestamp: 808.768s, Event ID: 4\n",
      "Timestamp: 816.548s, Event ID: 4\n",
      "Timestamp: 834.097s, Event ID: 3\n",
      "Timestamp: 848.410s, Event ID: 4\n",
      "Timestamp: 856.015s, Event ID: 4\n",
      "Timestamp: 876.683s, Event ID: 3\n",
      "Timestamp: 888.905s, Event ID: 3\n",
      "Timestamp: 897.900s, Event ID: 3\n",
      "Timestamp: 907.990s, Event ID: 4\n",
      "Timestamp: 915.955s, Event ID: 4\n",
      "Timestamp: 926.905s, Event ID: 3\n",
      "Timestamp: 946.950s, Event ID: 4\n",
      "Timestamp: 958.680s, Event ID: 3\n",
      "Timestamp: 968.803s, Event ID: 4\n",
      "Timestamp: 978.462s, Event ID: 3\n",
      "Timestamp: 988.268s, Event ID: 3\n",
      "Timestamp: 996.747s, Event ID: 3\n",
      "Timestamp: 997.255s, Event ID: 3\n",
      "Timestamp: 997.275s, Event ID: 3\n",
      "Timestamp: 997.310s, Event ID: 3\n",
      "Timestamp: 997.350s, Event ID: 3\n",
      "Timestamp: 997.378s, Event ID: 3\n",
      "Timestamp: 997.425s, Event ID: 3\n",
      "Timestamp: 997.450s, Event ID: 3\n",
      "Timestamp: 997.485s, Event ID: 3\n",
      "Timestamp: 1006.890s, Event ID: 4\n",
      "Timestamp: 1007.375s, Event ID: 4\n",
      "Timestamp: 1007.440s, Event ID: 4\n",
      "Timestamp: 1007.467s, Event ID: 4\n",
      "Timestamp: 1007.500s, Event ID: 4\n",
      "Timestamp: 1007.525s, Event ID: 4\n",
      "Timestamp: 1007.565s, Event ID: 4\n",
      "Timestamp: 1007.587s, Event ID: 4\n",
      "Timestamp: 1007.617s, Event ID: 4\n",
      "Timestamp: 1007.707s, Event ID: 4\n",
      "Timestamp: 1007.747s, Event ID: 4\n",
      "Timestamp: 1007.785s, Event ID: 4\n",
      "Timestamp: 1007.815s, Event ID: 4\n",
      "Timestamp: 1007.857s, Event ID: 4\n",
      "Timestamp: 1015.485s, Event ID: 4\n",
      "Timestamp: 1024.210s, Event ID: 3\n",
      "Timestamp: 1033.340s, Event ID: 4\n",
      "Timestamp: 1050.312s, Event ID: 3\n",
      "Timestamp: 1059.245s, Event ID: 4\n",
      "Timestamp: 1067.088s, Event ID: 4\n",
      "Timestamp: 1078.745s, Event ID: 3\n",
      "Timestamp: 1087.757s, Event ID: 3\n",
      "Timestamp: 1096.037s, Event ID: 4\n",
      "Timestamp: 1107.700s, Event ID: 4\n",
      "Timestamp: 1122.027s, Event ID: 3\n",
      "Timestamp: 1132.650s, Event ID: 3\n",
      "Timestamp: 1157.688s, Event ID: 2\n",
      "Timestamp: 1352.985s, Event ID: 1\n",
      "Timestamp: 1369.500s, Event ID: 3\n",
      "Timestamp: 1379.057s, Event ID: 3\n",
      "Timestamp: 1390.915s, Event ID: 4\n",
      "Timestamp: 1403.165s, Event ID: 3\n",
      "Timestamp: 1420.193s, Event ID: 4\n",
      "Timestamp: 1434.945s, Event ID: 3\n",
      "Timestamp: 1449.713s, Event ID: 4\n",
      "Timestamp: 1462.320s, Event ID: 4\n",
      "Timestamp: 1473.930s, Event ID: 4\n",
      "Timestamp: 1493.047s, Event ID: 3\n",
      "Timestamp: 1503.090s, Event ID: 3\n",
      "Timestamp: 1517.132s, Event ID: 4\n",
      "Timestamp: 1531.430s, Event ID: 3\n",
      "Timestamp: 1550.020s, Event ID: 4\n",
      "Timestamp: 1587.703s, Event ID: 3\n",
      "Timestamp: 1597.598s, Event ID: 3\n",
      "Timestamp: 1611.592s, Event ID: 4\n",
      "Timestamp: 1625.785s, Event ID: 3\n",
      "Timestamp: 1633.695s, Event ID: 4\n",
      "Timestamp: 1640.408s, Event ID: 4\n",
      "Timestamp: 1649.487s, Event ID: 3\n",
      "Timestamp: 1657.328s, Event ID: 3\n",
      "Timestamp: 1664.425s, Event ID: 3\n",
      "Timestamp: 1673.295s, Event ID: 4\n",
      "Timestamp: 1681.230s, Event ID: 3\n",
      "Timestamp: 1688.485s, Event ID: 4\n",
      "Timestamp: 1696.055s, Event ID: 3\n",
      "Timestamp: 1703.688s, Event ID: 4\n",
      "Timestamp: 1713.517s, Event ID: 3\n",
      "Timestamp: 1722.160s, Event ID: 4\n",
      "Timestamp: 1728.178s, Event ID: 4\n",
      "Timestamp: 1734.155s, Event ID: 4\n",
      "Timestamp: 1747.098s, Event ID: 4\n",
      "Timestamp: 1755.695s, Event ID: 3\n",
      "Timestamp: 1767.315s, Event ID: 4\n",
      "Timestamp: 1774.825s, Event ID: 4\n"
     ]
    }
   ],
   "source": [
    "file = raw_fif_files[43]\n",
    "file_path = os.path.join(data_path, file)\n",
    "raw = read_raw_fif(file_path, preload = False)\n",
    "\n",
    "\n",
    "events_from_annot, event_dict = mne.events_from_annotations(raw)\n",
    "# Extract timestamps from the events\n",
    "timestamps_with_id = [(event[0] / raw.info['sfreq'], event[2]) for event in events_from_annot]\n",
    "\n",
    "timestamps_event_ids_annotations = []\n",
    "for idx, event in enumerate(events_from_annot):\n",
    "    timestamp = event[0] / raw.info['sfreq']  # Timestamp in seconds\n",
    "    event_id = event[2]  # Event ID\n",
    "    #use event_dict to get the annotation\n",
    "    timestamps_event_ids_annotations.append((timestamp, event_id))\n",
    "\n",
    "# Print the extracted data\n",
    "for timestamp, event_id in timestamps_event_ids_annotations:\n",
    "    print(f\"Timestamp: {timestamp:.3f}s, Event ID: {event_id}\")"
   ]
  },
  {
   "cell_type": "code",
   "execution_count": 10,
   "id": "9638118c-c782-42bf-a210-5a1e498b6998",
   "metadata": {},
   "outputs": [
    {
     "data": {
      "text/plain": [
       "{'Trigger#1': 1, 'Trigger#2': 2, 'Trigger#3': 3, 'Trigger#4': 4}"
      ]
     },
     "execution_count": 10,
     "metadata": {},
     "output_type": "execute_result"
    }
   ],
   "source": [
    "event_dict"
   ]
  },
  {
   "cell_type": "code",
   "execution_count": 20,
   "id": "1200466d-3205-4086-86ad-2868d4a151cd",
   "metadata": {},
   "outputs": [
    {
     "name": "stdout",
     "output_type": "stream",
     "text": [
      "Using qt as 2D backend.\n"
     ]
    },
    {
     "name": "stderr",
     "output_type": "stream",
     "text": [
      "Warning: Ignoring XDG_SESSION_TYPE=wayland on Gnome. Use QT_QPA_PLATFORM=wayland to run on Wayland anyway.\n"
     ]
    },
    {
     "data": {
      "text/plain": [
       "<mne_qt_browser._pg_figure.MNEQtBrowser at 0x7f0d62c868c0>"
      ]
     },
     "execution_count": 20,
     "metadata": {},
     "output_type": "execute_result"
    },
    {
     "name": "stdout",
     "output_type": "stream",
     "text": [
      "Channels marked as bad:\n",
      "none\n"
     ]
    }
   ],
   "source": [
    "raw.plot()"
   ]
  },
  {
   "cell_type": "code",
   "execution_count": 11,
   "id": "26a26290-21e0-421d-8c07-22d8c21c5cb9",
   "metadata": {},
   "outputs": [
    {
     "name": "stdout",
     "output_type": "stream",
     "text": [
      "Opening raw data file /run/user/1000/gvfs/smb-share:server=research-cifs.nyumc.org,share=research/jwanglab/jwanglabspace/George Kenefati/Chronic Low Back Pain Study/Data/Processed Data/C21_preprocessed-raw.fif...\n",
      "    Range : 0 ... 627199 =      0.000 ...  1567.997 secs\n",
      "Ready.\n"
     ]
    },
    {
     "ename": "ValueError",
     "evalue": "Could not find any of the events you specified.",
     "output_type": "error",
     "traceback": [
      "\u001b[0;31m---------------------------------------------------------------------------\u001b[0m",
      "\u001b[0;31mValueError\u001b[0m                                Traceback (most recent call last)",
      "Cell \u001b[0;32mIn[11], line 6\u001b[0m\n\u001b[1;32m      2\u001b[0m file_path \u001b[38;5;241m=\u001b[39m os\u001b[38;5;241m.\u001b[39mpath\u001b[38;5;241m.\u001b[39mjoin(data_path, file)\n\u001b[1;32m      3\u001b[0m raw \u001b[38;5;241m=\u001b[39m read_raw_fif(file_path, preload \u001b[38;5;241m=\u001b[39m \u001b[38;5;28;01mFalse\u001b[39;00m)\n\u001b[0;32m----> 6\u001b[0m events_from_annot, event_dict \u001b[38;5;241m=\u001b[39m \u001b[43mmne\u001b[49m\u001b[38;5;241;43m.\u001b[39;49m\u001b[43mevents_from_annotations\u001b[49m\u001b[43m(\u001b[49m\u001b[43mraw\u001b[49m\u001b[43m,\u001b[49m\u001b[43m \u001b[49m\u001b[43mevent_id\u001b[49m\u001b[43m \u001b[49m\u001b[38;5;241;43m=\u001b[39;49m\u001b[43m \u001b[49m\u001b[43mannotation_keys\u001b[49m\u001b[43m)\u001b[49m\n\u001b[1;32m      7\u001b[0m \u001b[38;5;66;03m# Extract timestamps from the events\u001b[39;00m\n\u001b[1;32m      8\u001b[0m timestamps_with_id \u001b[38;5;241m=\u001b[39m [(event[\u001b[38;5;241m0\u001b[39m] \u001b[38;5;241m/\u001b[39m raw\u001b[38;5;241m.\u001b[39minfo[\u001b[38;5;124m'\u001b[39m\u001b[38;5;124msfreq\u001b[39m\u001b[38;5;124m'\u001b[39m], event[\u001b[38;5;241m2\u001b[39m]) \u001b[38;5;28;01mfor\u001b[39;00m event \u001b[38;5;129;01min\u001b[39;00m events_from_annot]\n",
      "File \u001b[0;32m<decorator-gen-39>:12\u001b[0m, in \u001b[0;36mevents_from_annotations\u001b[0;34m(raw, event_id, regexp, use_rounding, chunk_duration, verbose)\u001b[0m\n",
      "File \u001b[0;32m~/anaconda3/envs/mne/lib/python3.11/site-packages/mne/annotations.py:1596\u001b[0m, in \u001b[0;36mevents_from_annotations\u001b[0;34m(raw, event_id, regexp, use_rounding, chunk_duration, verbose)\u001b[0m\n\u001b[1;32m   1592\u001b[0m annotations \u001b[38;5;241m=\u001b[39m raw\u001b[38;5;241m.\u001b[39mannotations\n\u001b[1;32m   1594\u001b[0m event_id \u001b[38;5;241m=\u001b[39m _check_event_id(event_id, raw)\n\u001b[0;32m-> 1596\u001b[0m event_sel, event_id_ \u001b[38;5;241m=\u001b[39m \u001b[43m_select_annotations_based_on_description\u001b[49m\u001b[43m(\u001b[49m\n\u001b[1;32m   1597\u001b[0m \u001b[43m    \u001b[49m\u001b[43mannotations\u001b[49m\u001b[38;5;241;43m.\u001b[39;49m\u001b[43mdescription\u001b[49m\u001b[43m,\u001b[49m\u001b[43m \u001b[49m\u001b[43mevent_id\u001b[49m\u001b[38;5;241;43m=\u001b[39;49m\u001b[43mevent_id\u001b[49m\u001b[43m,\u001b[49m\u001b[43m \u001b[49m\u001b[43mregexp\u001b[49m\u001b[38;5;241;43m=\u001b[39;49m\u001b[43mregexp\u001b[49m\n\u001b[1;32m   1598\u001b[0m \u001b[43m\u001b[49m\u001b[43m)\u001b[49m\n\u001b[1;32m   1600\u001b[0m \u001b[38;5;28;01mif\u001b[39;00m chunk_duration \u001b[38;5;129;01mis\u001b[39;00m \u001b[38;5;28;01mNone\u001b[39;00m:\n\u001b[1;32m   1601\u001b[0m     inds \u001b[38;5;241m=\u001b[39m raw\u001b[38;5;241m.\u001b[39mtime_as_index(\n\u001b[1;32m   1602\u001b[0m         annotations\u001b[38;5;241m.\u001b[39monset, use_rounding\u001b[38;5;241m=\u001b[39muse_rounding, origin\u001b[38;5;241m=\u001b[39mannotations\u001b[38;5;241m.\u001b[39morig_time\n\u001b[1;32m   1603\u001b[0m     )\n",
      "File \u001b[0;32m~/anaconda3/envs/mne/lib/python3.11/site-packages/mne/annotations.py:1440\u001b[0m, in \u001b[0;36m_select_annotations_based_on_description\u001b[0;34m(descriptions, event_id, regexp)\u001b[0m\n\u001b[1;32m   1437\u001b[0m event_sel \u001b[38;5;241m=\u001b[39m [ii \u001b[38;5;28;01mfor\u001b[39;00m ii, kk \u001b[38;5;129;01min\u001b[39;00m \u001b[38;5;28menumerate\u001b[39m(descriptions) \u001b[38;5;28;01mif\u001b[39;00m kk \u001b[38;5;129;01min\u001b[39;00m event_id_]\n\u001b[1;32m   1439\u001b[0m \u001b[38;5;28;01mif\u001b[39;00m \u001b[38;5;28mlen\u001b[39m(event_sel) \u001b[38;5;241m==\u001b[39m \u001b[38;5;241m0\u001b[39m \u001b[38;5;129;01mand\u001b[39;00m regexp \u001b[38;5;129;01mis\u001b[39;00m \u001b[38;5;129;01mnot\u001b[39;00m \u001b[38;5;28;01mNone\u001b[39;00m:\n\u001b[0;32m-> 1440\u001b[0m     \u001b[38;5;28;01mraise\u001b[39;00m \u001b[38;5;167;01mValueError\u001b[39;00m(\u001b[38;5;124m\"\u001b[39m\u001b[38;5;124mCould not find any of the events you specified.\u001b[39m\u001b[38;5;124m\"\u001b[39m)\n\u001b[1;32m   1442\u001b[0m \u001b[38;5;28;01mreturn\u001b[39;00m event_sel, event_id_\n",
      "\u001b[0;31mValueError\u001b[0m: Could not find any of the events you specified."
     ]
    }
   ],
   "source": [
    "file = raw_fif_files[15]\n",
    "file_path = os.path.join(data_path, file)\n",
    "raw = read_raw_fif(file_path, preload = False)\n",
    "\n",
    "\n",
    "events_from_annot, event_dict = mne.events_from_annotations(raw, event_id = annotation_keys)\n",
    "# Extract timestamps from the events\n",
    "timestamps_with_id = [(event[0] / raw.info['sfreq'], event[2]) for event in events_from_annot]\n",
    "\n",
    "# Output timestamps with associated event IDs\n",
    "print(\"Timestamps and Associated Event IDs:\")\n",
    "for timestamp, event_id in timestamps_with_id:\n",
    "    print(f\"Timestamp: {timestamp:.3f} seconds, Event ID: {event_id}\")"
   ]
  },
  {
   "cell_type": "code",
   "execution_count": null,
   "id": "3cdbf6fe-ea30-41b7-9db4-c5241bbcc1ba",
   "metadata": {},
   "outputs": [],
   "source": []
  }
 ],
 "metadata": {
  "kernelspec": {
   "display_name": "mne",
   "language": "python",
   "name": "mne"
  },
  "language_info": {
   "codemirror_mode": {
    "name": "ipython",
    "version": 3
   },
   "file_extension": ".py",
   "mimetype": "text/x-python",
   "name": "python",
   "nbconvert_exporter": "python",
   "pygments_lexer": "ipython3",
   "version": "3.11.7"
  }
 },
 "nbformat": 4,
 "nbformat_minor": 5
}
