{
 "cells": [
  {
   "cell_type": "markdown",
   "id": "0c556c1c-fefc-4f4b-83a0-e434ba7d5bfc",
   "metadata": {
    "tags": []
   },
   "source": [
    "# Permutation of source time courses for testing"
   ]
  },
  {
   "cell_type": "code",
   "execution_count": 30,
   "id": "61f19c56-d9b6-4b71-8f09-7c14ce18f2fb",
   "metadata": {
    "tags": []
   },
   "outputs": [
    {
     "name": "stdout",
     "output_type": "stream",
     "text": [
      "0 files missing from root.txt in /home/wanglab/mne_data/MNE-fsaverage-data\n",
      "0 files missing from bem.txt in /home/wanglab/mne_data/MNE-fsaverage-data/fsaverage\n"
     ]
    }
   ],
   "source": [
    "import os\n",
    "from pathlib import Path\n",
    "import sys\n",
    "import mne \n",
    "import numpy as np\n",
    "from mne.datasets import fetch_fsaverage\n",
    "from tabulate import tabulate\n",
    "import scipy.io as sio\n",
    "\n",
    "fs_dir = fetch_fsaverage(verbose=True)\n",
    "subject = \"fsaverage\"\n",
    "subjects_dir = os.path.dirname(fs_dir)\n",
    "sys.path.append(\"/home/wanglab/Documents/George Kenefati/Code/eeg_toolkit/\")\n",
    "from eeg_toolkit import preprocess, utils\n",
    "import eeg_toolkit.functional_connectivity as fc\n",
    "import eeg_toolkit.permutation_testing as pt"
   ]
  },
  {
   "cell_type": "markdown",
   "id": "38c0fdae",
   "metadata": {},
   "source": [
    "### Paths"
   ]
  },
  {
   "cell_type": "code",
   "execution_count": 31,
   "id": "5917b8cd",
   "metadata": {},
   "outputs": [],
   "source": [
    "# sl_method = input(\"Source Localization Method (1- MNE or 2- dSPM): \")\n",
    "# sl_method = 'MNE' if sl_method == '1' else 'dSPM'\n",
    "sl_method = 'MNE'"
   ]
  },
  {
   "cell_type": "code",
   "execution_count": 32,
   "id": "bc472cac-3bcd-47d6-aa8b-a22a81e8562f",
   "metadata": {},
   "outputs": [
    {
     "name": "stdout",
     "output_type": "stream",
     "text": [
      "[-2.5,0.0,2.5]\n"
     ]
    }
   ],
   "source": [
    "# Settings\n",
    "times_tup, time_win_path = preprocess.get_time_window(5)\n",
    "\n",
    "# data paths\n",
    "data_dir = Path(\"../../Data\")\n",
    "processed_data_path = data_dir / \"Processed Data\"\n",
    "stc_path = data_dir / f\"Source Time Courses ({sl_method})\"\n",
    "EO_resting_data_path = stc_path / \"Eyes Open\"\n",
    "EC_resting_data_path = stc_path / \"Eyes Closed\"\n",
    "zscored_epochs_data_path = stc_path / \"zscored_Epochs\" / time_win_path\n",
    "\n",
    "# save paths\n",
    "subset = \"FFT Permuted Data\"\n",
    "fc_subset_path = stc_path / subset / \"zscored_Epochs\" / time_win_path\n",
    "save_path = fc_subset_path\n",
    "\n",
    "os.makedirs(save_path, exist_ok=True)"
   ]
  },
  {
   "cell_type": "markdown",
   "id": "f840f3c8",
   "metadata": {},
   "source": [
    "### Get subset of subjects with and without widespread pain"
   ]
  },
  {
   "cell_type": "markdown",
   "id": "74a516d5",
   "metadata": {},
   "source": [
    "### Manually enter age/sex matched subjects"
   ]
  },
  {
   "cell_type": "code",
   "execution_count": 33,
   "id": "d96f9007",
   "metadata": {},
   "outputs": [],
   "source": [
    "# All CP and HC subs\n",
    "sub_ids_CP = [  \n",
    "    '018',  \n",
    "    '020',  \n",
    "    '021',  \n",
    "    '027',  \n",
    "    '031',  \n",
    "    '032',  \n",
    "    '033',  \n",
    "    '035',  \n",
    "    '036',  \n",
    "    '037',  \n",
    "    '038',  \n",
    "    '040',  \n",
    "    '043',  \n",
    "    '044',  \n",
    "    '048',  \n",
    "    '049',  \n",
    "    '050',  \n",
    "    '057',  \n",
    "    '059',\n",
    "]\n",
    "\n",
    "sub_ids_HC = [\n",
    "    'C10',  \n",
    "    'C11',  \n",
    "    'C12',  \n",
    "    'C13',  \n",
    "    'C14',  \n",
    "    'C15',  \n",
    "    'C16',  \n",
    "    'C17',  \n",
    "    'C18',  \n",
    "    'C19',  \n",
    "    'C2.',  \n",
    "    'C24',  \n",
    "    'C25',  \n",
    "    'C26',  \n",
    "    'C27',  \n",
    "    'C3.',  \n",
    "    'C6.',  \n",
    "    'C7.',  \n",
    "    'C9.'  \n",
    "]\n",
    "  \n",
    "sub_ids = sub_ids_CP + sub_ids_HC\n",
    "\n",
    "# CP Subs with widespread pain\n",
    "sub_ids_CP_WSP = [\n",
    "    '018',\n",
    "    '022',\n",
    "    '024',\n",
    "    '031',\n",
    "    '032',\n",
    "    '034',\n",
    "    '036',\n",
    "    '039',\n",
    "    '040',\n",
    "    '045',\n",
    "    '046',\n",
    "    '052',\n",
    "]\n",
    "\n",
    "# CP Subs with localized pain\n",
    "sub_ids_CP_LP = [  \n",
    "    '020',  \n",
    "    '021',  \n",
    "    '023',  \n",
    "    '029',  \n",
    "    '031',  \n",
    "    '037',  \n",
    "    '041',  \n",
    "    '042',  \n",
    "    '048',  \n",
    "    '049',  \n",
    "    '050',  \n",
    "    '056'  \n",
    "]  "
   ]
  },
  {
   "cell_type": "code",
   "execution_count": 34,
   "id": "e38fc4d6-2341-428f-9131-1868ca9a799a",
   "metadata": {},
   "outputs": [],
   "source": [
    "# viable subjects optional import\n",
    "# sub_ids = utils.import_subs(data_dir, \"sub_ids.txt\")\n",
    "# sub_ids = sorted(sub_ids[7:])  # select only 64ch subs and turn into set\n",
    "\n",
    "# Exclude HEALTHY subjects with widespread pain\n",
    "widespread_pain_HC = ['C1.','C23']\n",
    "sub_ids_HC = [sub for sub in sub_ids_HC if sub not in widespread_pain_HC]"
   ]
  },
  {
   "cell_type": "code",
   "execution_count": 35,
   "id": "3a51a8e0",
   "metadata": {},
   "outputs": [
    {
     "name": "stdout",
     "output_type": "stream",
     "text": [
      "Chronics (all): 19\n",
      "['018', '020', '021', '027', '031', '032', '033', '035', '036', '037', '038', '040', '043', '044', '048', '049', '050', '057', '059']\n",
      "Chronics with widespread pain: 12\n",
      "['018', '022', '024', '031', '032', '034', '036', '039', '040', '045', '046', '052']\n",
      "Chronics with localized pain: 12\n",
      "['020', '021', '023', '029', '031', '037', '041', '042', '048', '049', '050', '056']\n",
      "Controls: 19\n",
      "['C10', 'C11', 'C12', 'C13', 'C14', 'C15', 'C16', 'C17', 'C18', 'C19', 'C2.', 'C24', 'C25', 'C26', 'C27', 'C3.', 'C6.', 'C7.', 'C9.']\n",
      "\n",
      "Total (Chronics + Controls): 38\n"
     ]
    }
   ],
   "source": [
    "print(f\"Chronics (all): {len(sub_ids_CP)}\")\n",
    "print([el for el in sub_ids_CP])\n",
    "print(f\"Chronics with widespread pain: {len(sub_ids_CP_WSP)}\")\n",
    "print([el for el in sub_ids_CP_WSP])\n",
    "print(f\"Chronics with localized pain: {len(sub_ids_CP_LP)}\")\n",
    "print([sub for sub in sub_ids_CP_LP])\n",
    "print(f\"Controls: {len(sub_ids_HC)}\")\n",
    "print([el for el in sub_ids_HC])\n",
    "print(f\"\\nTotal (Chronics + Controls): {len(sub_ids)}\")\n"
   ]
  },
  {
   "cell_type": "markdown",
   "id": "4d7b97ac",
   "metadata": {},
   "source": [
    "### Settings for conditions/bands/methods"
   ]
  },
  {
   "cell_type": "code",
   "execution_count": 36,
   "id": "5067f45f",
   "metadata": {},
   "outputs": [],
   "source": [
    "# Settings\n",
    "sfreq = 400  # Hz\n",
    "tmin, tmax = 0.0, 1.25  # exclude the baseline period for connectivity estimation"
   ]
  },
  {
   "cell_type": "markdown",
   "id": "cbba881e",
   "metadata": {},
   "source": [
    "### Define ROIs, frequency bands, conditions, and methods for FC"
   ]
  },
  {
   "cell_type": "code",
   "execution_count": 37,
   "id": "7d1b265e",
   "metadata": {},
   "outputs": [],
   "source": [
    "####################################################################\n",
    "# REGIONS OF INTEREST\n",
    "roi_names = [  # Left\n",
    "    \"rostralanteriorcingulate-lh\",  # Left Rostral ACC\n",
    "    \"caudalanteriorcingulate-lh\",  # Left Caudal ACC\n",
    "    \"postcentral-lh\",  # Left S1,\n",
    "    \"insula-lh\",\n",
    "    \"superiorfrontal-lh\",  # Left Insula, Left DL-PFC,\n",
    "    \"medialorbitofrontal-lh\",  # Left Medial-OFC\n",
    "    # Right\n",
    "    \"rostralanteriorcingulate-rh\",  # Right Rostral ACC\n",
    "    \"caudalanteriorcingulate-rh\",  # Right Caudal ACC\n",
    "    \"postcentral-rh\",  # , Right S1\n",
    "    \"insula-rh\",\n",
    "    \"superiorfrontal-rh\",  # Right Insula, Right DL-PFC\n",
    "    \"medialorbitofrontal-rh\",\n",
    "]  # Right Medial-OFC\n",
    "\n",
    "# Write out ROI names as acronyms\n",
    "roi_acronyms = [\"rACC-lh\", \"dACC-lh\", \"S1-lh\", \"insula-lh\", \"dlPFC-lh\", \"mOFC-lh\",\n",
    "                \"rACC-rh\", \"dACC-rh\", \"S1-rh\", \"insula-rh\", \"dlPFC-rh\", \"mOFC-rh\"]\n",
    "    \n",
    "####################################################################\n",
    "# CONDITIONS\n",
    "conditions = (\n",
    "    [\n",
    "        # \"Hand 32 mN\",\n",
    "        # 'Hand LS',\n",
    "        \"Hand 256 mN\",\n",
    "        # \"Back 32 mN\",\n",
    "        # 'Back LS',\n",
    "        # \"Back 256 mN\",\n",
    "        \"Eyes Open\",\n",
    "        # \"Eyes Closed\",\n",
    "    ]\n",
    ")\n",
    "\n",
    "####################################################################\n",
    "# CONDITION DICTIONARY\n",
    "condition_dict = {\n",
    "        \"Hand 32 mN\": 0,\n",
    "        'Hand LS': 1,\n",
    "        \"Hand 256 mN\": 2,\n",
    "        \"Back 32 mN\": 3,\n",
    "        'Back LS': 4,\n",
    "        \"Back 256 mN\": 5,\n",
    "        \"Eyes Open\": 6,\n",
    "        \"Eyes Closed\": 7,\n",
    "}"
   ]
  },
  {
   "cell_type": "markdown",
   "id": "a6fee3c0",
   "metadata": {},
   "source": [
    "### Permute source space time signal, repeat 100"
   ]
  },
  {
   "cell_type": "code",
   "execution_count": 38,
   "id": "a71bad91",
   "metadata": {},
   "outputs": [],
   "source": [
    "this_sub_ids = sub_ids_CP"
   ]
  },
  {
   "cell_type": "code",
   "execution_count": null,
   "id": "1cee5fe2",
   "metadata": {},
   "outputs": [],
   "source": [
    "repitions = 100"
   ]
  },
  {
   "cell_type": "code",
   "execution_count": 43,
   "id": "cc488ab8",
   "metadata": {},
   "outputs": [
    {
     "name": "stdout",
     "output_type": "stream",
     "text": [
      "Epoch 0: (12, 2001)\n",
      "Epoch 1: (12, 2001)\n",
      "Epoch 2: (12, 2001)\n",
      "Epoch 3: (12, 2001)\n",
      "Epoch 4: (12, 2001)\n",
      "Epoch 5: (12, 2001)\n",
      "Epoch 6: (12, 2001)\n",
      "Epoch 7: (12, 2001)\n",
      "Epoch 8: (12, 2001)\n",
      "Epoch 9: (12, 2001)\n",
      "Epoch 10: (12, 2001)\n",
      "Epoch 11: (12, 2001)\n",
      "Epoch 12: (12, 2001)\n",
      "Epoch 13: (12, 2001)\n",
      "Epoch 14: (12, 2001)\n",
      "Epoch 15: (12, 2001)\n",
      "Epoch 16: (12, 2001)\n",
      "Epoch 17: (12, 2001)\n",
      "Epoch 18: (12, 2001)\n",
      "Epoch 19: (12, 2001)\n",
      "Epoch 20: (12, 2001)\n",
      "Epoch 21: (12, 2001)\n",
      "Epoch 22: (12, 2001)\n",
      "Epoch 23: (12, 2001)\n",
      "Epoch 24: (12, 2001)\n",
      "Epoch 25: (12, 2001)\n",
      "Epoch 26: (12, 2001)\n",
      "Epoch 27: (12, 2001)\n",
      "Epoch 28: (12, 2001)\n",
      "Epoch 29: (12, 2001)\n",
      "Epoch 30: (12, 2001)\n",
      "Epoch 31: (12, 2001)\n",
      "Epoch 32: (12, 2001)\n",
      "Epoch 33: (12, 2001)\n",
      "Epoch 34: (12, 2001)\n",
      "Epoch 35: (12, 2001)\n",
      "Epoch 36: (12, 2001)\n",
      "Epoch 37: (12, 2001)\n",
      "Epoch 38: (12, 2001)\n",
      "Epoch 39: (12, 2001)\n",
      "Epoch 40: (12, 2001)\n",
      "Epoch 41: (12, 2001)\n",
      "Epoch 42: (12, 2001)\n",
      "Epoch 43: (12, 2001)\n",
      "Epoch 44: (12, 2001)\n",
      "Epoch 45: (12, 2001)\n",
      "Epoch 46: (12, 2001)\n",
      "Epoch 47: (12, 2001)\n",
      "Epoch 48: (12, 2001)\n",
      "Epoch 49: (12, 2001)\n",
      "Epoch 50: (12, 2001)\n",
      "Epoch 51: (12, 2001)\n",
      "Epoch 52: (12, 2001)\n",
      "Epoch 53: (12, 2001)\n",
      "Epoch 54: (12, 2001)\n",
      "Epoch 55: (12, 2001)\n",
      "Epoch 56: (12, 2001)\n",
      "Epoch 57: (12, 2001)\n",
      "Epoch 58: (12, 2001)\n",
      "Epoch 59: (12, 2001)\n",
      "Saved C9._epochs.pkl to ../../Data/Source Time Courses (MNE)/FFT Permuted Data/zscored_Epochs/5_sec_time_window.\n"
     ]
    }
   ],
   "source": [
    "# Loop over each group\n",
    "for this_sub_ids in [sub_ids_CP, sub_ids_CP_WSP, sub_ids_CP_LP, sub_ids_HC]:\n",
    "    for sub_id in this_sub_ids:\n",
    "        # Load the original z-scored epochs data\n",
    "        label_ts = utils.unpickle_data(zscored_epochs_data_path, f\"{sub_id}_epochs.pkl\")\n",
    "        \n",
    "        # Permute the signals one epoch at a time\n",
    "        for i,el in enumerate(label_ts):\n",
    "            print(f\"Epoch {i}:\",el.shape)\n",
    "            \n",
    "            # Create the surrogate data\n",
    "            surrogate_data = pt.create_surrogate_data(el)\n",
    "            \n",
    "            # Replace the original data with the surrogate data\n",
    "            label_ts[i] = surrogate_data\n",
    "            \n",
    "        # Save the surrogate data\n",
    "        utils.pickle_data(save_path, f\"{sub_id}_epochs.pkl\", label_ts)\n",
    "\n",
    "        # Clear display\n",
    "        utils.clear_display()\n",
    "        # break"
   ]
  },
  {
   "cell_type": "code",
   "execution_count": null,
   "id": "e834ce01",
   "metadata": {},
   "outputs": [],
   "source": []
  }
 ],
 "metadata": {
  "kernelspec": {
   "display_name": "Python 3",
   "language": "python",
   "name": "python3"
  },
  "language_info": {
   "codemirror_mode": {
    "name": "ipython",
    "version": 3
   },
   "file_extension": ".py",
   "mimetype": "text/x-python",
   "name": "python",
   "nbconvert_exporter": "python",
   "pygments_lexer": "ipython3",
   "version": "3.11.7"
  }
 },
 "nbformat": 4,
 "nbformat_minor": 5
}
