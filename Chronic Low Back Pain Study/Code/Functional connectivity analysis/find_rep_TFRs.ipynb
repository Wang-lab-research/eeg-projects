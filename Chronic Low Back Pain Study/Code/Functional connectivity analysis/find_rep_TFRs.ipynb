{
 "cells": [
  {
   "cell_type": "markdown",
   "metadata": {},
   "source": [
    "# Loop through subjects to find representative TFR and Trace figures"
   ]
  },
  {
   "cell_type": "code",
   "execution_count": 1,
   "metadata": {},
   "outputs": [
    {
     "name": "stdout",
     "output_type": "stream",
     "text": [
      "0 files missing from root.txt in /home/wanglab/mne_data/MNE-fsaverage-data\n",
      "0 files missing from bem.txt in /home/wanglab/mne_data/MNE-fsaverage-data/fsaverage\n"
     ]
    }
   ],
   "source": [
    "import os\n",
    "# import mne\n",
    "import sys\n",
    "from pathlib import Path\n",
    "import random\n",
    "from tabulate import tabulate\n",
    "sys.path.append('/home/wanglab/Documents/George Kenefati/Code/eeg_toolkit/')\n",
    "from eeg_toolkit import utils, preprocess\n",
    "import eeg_toolkit.functional_connectivity as fc\n",
    "from glob import glob\n",
    "import mne\n",
    "from mne.time_frequency import tfr_morlet\n",
    "import numpy as np\n",
    "import matplotlib.pyplot as plt\n",
    "import pickle \n",
    "import scipy.io as sio\n",
    "import seaborn as sns\n",
    "from mne.time_frequency import AverageTFRArray, EpochsTFRArray, tfr_array_morlet"
   ]
  },
  {
   "cell_type": "markdown",
   "metadata": {},
   "source": [
    "### Paths"
   ]
  },
  {
   "cell_type": "code",
   "execution_count": 2,
   "metadata": {},
   "outputs": [],
   "source": [
    "# sl_method = input(\"Source Localization Method (1- MNE or 2- dSPM): \")\n",
    "# sl_method = 'MNE' if sl_method == '1' else 'dSPM'\n",
    "# sl_method = 'dSPM'\n",
    "sl_method = 'MNE'"
   ]
  },
  {
   "cell_type": "code",
   "execution_count": 3,
   "metadata": {},
   "outputs": [
    {
     "name": "stdout",
     "output_type": "stream",
     "text": [
      "[-2.5,0.0,2.5]\n"
     ]
    }
   ],
   "source": [
    "# Settings\n",
    "times_tup, time_win_path = preprocess.get_time_window(5)\n",
    "\n",
    "# data paths\n",
    "data_dir = Path(\"../../Data\")\n",
    "processed_data_path = data_dir / \"Processed Data\"\n",
    "stc_path = data_dir / f\"Source Time Courses ({sl_method})\"\n",
    "EO_resting_data_path = stc_path / \"Eyes Open\"\n",
    "EC_resting_data_path = stc_path / \"Eyes Closed\"\n",
    "zscored_epochs_data_path = stc_path / \"zscored_Epochs\" / time_win_path\n",
    "\n",
    "# save paths\n",
    "subset = \"Representative TFR\"\n",
    "fc_path = data_dir / f\"Functional Connectivity ({sl_method})\"\n",
    "fc_subset_path = fc_path / subset\n",
    "save_path = fc_subset_path\n",
    "os.makedirs(save_path, exist_ok=True)"
   ]
  },
  {
   "cell_type": "markdown",
   "metadata": {},
   "source": [
    "### Manually enter age/sex matched subjects"
   ]
  },
  {
   "cell_type": "code",
   "execution_count": 4,
   "metadata": {},
   "outputs": [],
   "source": [
    "# All CP and HC subs\n",
    "sub_ids_CP = [  \n",
    "    '018',\n",
    "    '022',\n",
    "    '024',\n",
    "    '031',\n",
    "    '032',\n",
    "    '034',\n",
    "    '036',\n",
    "    '039',\n",
    "    '040',\n",
    "    '045',\n",
    "    '046',\n",
    "    '052', \n",
    "    '020',  \n",
    "    '021',  \n",
    "    '023',  \n",
    "    '029',  \n",
    "    '037',  \n",
    "    '041',  \n",
    "    '042',  \n",
    "    '044',  \n",
    "    '048',  \n",
    "    '049',  \n",
    "    '050',  \n",
    "    '056' \n",
    "]\n",
    "\n",
    "sub_ids_HC = [\n",
    "    'C10',  \n",
    "    'C11',  \n",
    "    'C12',  \n",
    "    'C13',  \n",
    "    'C14',  \n",
    "    'C15',  \n",
    "    'C16',  \n",
    "    'C17',  \n",
    "    'C18',  \n",
    "    'C19',  \n",
    "    'C2.',  \n",
    "    'C24',  \n",
    "    'C25',  \n",
    "    'C26',  \n",
    "    'C27',  \n",
    "    'C3.',  \n",
    "    'C6.',  \n",
    "    'C7.',  \n",
    "    'C9.'  \n",
    "]\n",
    "  \n",
    "# CP Subs with widespread pain\n",
    "sub_ids_WSP = [\n",
    "    '018',\n",
    "    '022',\n",
    "    '024',\n",
    "    '031',\n",
    "    '032',\n",
    "    '034',\n",
    "    '036',\n",
    "    '039',\n",
    "    '040',\n",
    "    '045',\n",
    "    '046',\n",
    "    '052',\n",
    "]\n",
    "\n",
    "# CP Subs with localized pain\n",
    "sub_ids_LP = [  \n",
    "    '020',  \n",
    "    '021',  \n",
    "    '023',  \n",
    "    '029',  \n",
    "    '044',  \n",
    "    '037',  \n",
    "    '041',  \n",
    "    '042',  \n",
    "    '048',  \n",
    "    '049',  \n",
    "    '050',  \n",
    "    '056'  \n",
    "]  \n",
    "\n",
    "sub_ids = sub_ids_CP + sub_ids_HC\n",
    "\n",
    "# keep only unique\n",
    "sub_ids = list(set(sub_ids))"
   ]
  },
  {
   "cell_type": "markdown",
   "metadata": {},
   "source": [
    "### Low Back Pain Laterality"
   ]
  },
  {
   "cell_type": "code",
   "execution_count": 5,
   "metadata": {},
   "outputs": [],
   "source": [
    "left_pain_ids = [\n",
    "    '016',\n",
    "    '017',\n",
    "    '018',\n",
    "    '019',\n",
    "    '020',\n",
    "    '023',\n",
    "    '024',\n",
    "    '025',\n",
    "    '027',\n",
    "    '028',\n",
    "    '029',\n",
    "    '030',\n",
    "    '032',\n",
    "    '033',\n",
    "    '036',\n",
    "    '038',\n",
    "    '045',\n",
    "    '052',\n",
    "    '054',\n",
    "    '055',\n",
    "    '057',\n",
    "    '058',\n",
    "]\n",
    "\n",
    "right_pain_ids = [\n",
    "    '021',\n",
    "    '026',\n",
    "    '031',\n",
    "    '037',\n",
    "    '039',\n",
    "    '043',\n",
    "    '044',\n",
    "    '046',\n",
    "    '047',\n",
    "    '048',\n",
    "    '049',\n",
    "    '050',\n",
    "    '051',\n",
    "    '053',\n",
    "    '056',\n",
    "]\n",
    "\n",
    "bilateral_pain_ids = [\n",
    "    '022',\n",
    "    '034',\n",
    "    '035',\n",
    "    '040',\n",
    "    '041',\n",
    "    '042',\n",
    "    '059',\n",
    "]\n",
    "\n",
    "# Randomly assign healthy subjects to left/right/bilateral pain\n",
    "lst = sub_ids_HC\n",
    "random.seed(42)\n",
    "left_pain_ids.extend(random.sample(lst, 8))\n",
    "lst = [i for i in lst if i not in left_pain_ids]  \n",
    "\n",
    "# Randomly assign 8 elements to right and remove them from lst  \n",
    "right_pain_ids.extend(random.sample(lst, 8))\n",
    "lst = [i for i in lst if i not in right_pain_ids]  \n",
    "  \n",
    "# Assign the remaining elements to bilateral  \n",
    "bilateral_pain_ids.extend(lst)  "
   ]
  },
  {
   "cell_type": "code",
   "execution_count": 6,
   "metadata": {},
   "outputs": [
    {
     "name": "stdout",
     "output_type": "stream",
     "text": [
      "\n",
      "CP\n",
      "Left - 9\n",
      "{'024', '029', '018', '052', '023', '045', '036', '020', '032'}\n",
      "Right - 10\n",
      "{'044', '031', '050', '021', '046', '056', '048', '037', '049', '039'}\n",
      "Bilateral - 5\n",
      "{'042', '022', '034', '040', '041'}\n",
      "\n",
      "WSP\n",
      "Left - 6\n",
      "{'024', '018', '052', '045', '036', '032'}\n",
      "Right - 3\n",
      "{'046', '031', '039'}\n",
      "Bilateral - 3\n",
      "{'022', '040', '034'}\n",
      "\n",
      "LP\n",
      "Left - 3\n",
      "{'029', '020', '023'}\n",
      "Right - 7\n",
      "{'044', '050', '056', '037', '021', '048', '049'}\n",
      "Bilateral - 2\n",
      "{'042', '041'}\n",
      "\n",
      "HC\n",
      "Left - 8\n",
      "{'C18', 'C24', 'C11', 'C13', 'C12', 'C9.', 'C10', 'C17'}\n",
      "Right - 8\n",
      "{'C25', 'C7.', 'C26', 'C27', 'C15', 'C14', 'C3.', 'C6.'}\n",
      "Bilateral - 3\n",
      "{'C19', 'C16', 'C2.'}\n"
     ]
    }
   ],
   "source": [
    "for sub_ids, group in zip([sub_ids_CP, sub_ids_WSP, sub_ids_LP, sub_ids_HC],\"CP WSP LP HC\".split()):  \n",
    "    print(f\"\\n{group}\")  \n",
    "    for sub_pain_ids, laterality in zip([left_pain_ids, right_pain_ids, bilateral_pain_ids],\"Left Right Bilateral\".split()):  \n",
    "        print(f\"{laterality} - {len(set(sub_ids) & set(sub_pain_ids))}\")  \n",
    "        print(set(sub_ids) & set(sub_pain_ids))  "
   ]
  },
  {
   "cell_type": "code",
   "execution_count": 7,
   "metadata": {},
   "outputs": [],
   "source": [
    "# Exclude HEALTHY subjects with widespread pain\n",
    "widespread_pain_HC = ['C1.','C23']\n",
    "sub_ids_HC = [sub for sub in sub_ids_HC if sub not in widespread_pain_HC]"
   ]
  },
  {
   "cell_type": "code",
   "execution_count": 8,
   "metadata": {},
   "outputs": [
    {
     "name": "stdout",
     "output_type": "stream",
     "text": [
      "Chronics (all): 24\n",
      "['018', '022', '024', '031', '032', '034', '036', '039', '040', '045', '046', '052', '020', '021', '023', '029', '037', '041', '042', '044', '048', '049', '050', '056']\n",
      "Chronics with widespread pain: 12\n",
      "['018', '022', '024', '031', '032', '034', '036', '039', '040', '045', '046', '052']\n",
      "Chronics with localized pain: 12\n",
      "['020', '021', '023', '029', '044', '037', '041', '042', '048', '049', '050', '056']\n",
      "Controls: 19\n",
      "['C10', 'C11', 'C12', 'C13', 'C14', 'C15', 'C16', 'C17', 'C18', 'C19', 'C2.', 'C24', 'C25', 'C26', 'C27', 'C3.', 'C6.', 'C7.', 'C9.']\n",
      "\n",
      "Total (Chronics + Controls): 19\n"
     ]
    }
   ],
   "source": [
    "print(f\"Chronics (all): {len(sub_ids_CP)}\")\n",
    "print([el for el in sub_ids_CP])\n",
    "print(f\"Chronics with widespread pain: {len(sub_ids_WSP)}\")\n",
    "print([el for el in sub_ids_WSP])\n",
    "print(f\"Chronics with localized pain: {len(sub_ids_LP)}\")\n",
    "print([sub for sub in sub_ids_LP])\n",
    "print(f\"Controls: {len(sub_ids_HC)}\")\n",
    "print([el for el in sub_ids_HC])\n",
    "print(f\"\\nTotal (Chronics + Controls): {len(sub_ids)}\")\n"
   ]
  },
  {
   "cell_type": "markdown",
   "metadata": {},
   "source": [
    "### Settings for conditions/bands/methods"
   ]
  },
  {
   "cell_type": "code",
   "execution_count": 9,
   "metadata": {},
   "outputs": [],
   "source": [
    "# Settings\n",
    "\n",
    "# Data properties\n",
    "sfreq = 400  # Hz\n"
   ]
  },
  {
   "cell_type": "markdown",
   "metadata": {},
   "source": [
    "### Define ROIs, frequency bands, conditions, and methods for FC"
   ]
  },
  {
   "cell_type": "code",
   "execution_count": 10,
   "metadata": {},
   "outputs": [],
   "source": [
    "####################################################################\n",
    "# REGIONS OF INTEREST\n",
    "# Get stc only from selected labels\n",
    "roi_names = [# Left\n",
    "             'rostralanteriorcingulate-lh', # Left Rostral ACC\n",
    "             'caudalanteriorcingulate-lh', # Left Caudal ACC\n",
    "             'postcentral-lh', # Left S1,\n",
    "             'insula-lh', 'superiorfrontal-lh', # Left Insula, Left DL-PFC,\n",
    "             'medialorbitofrontal-lh', # Left Medial-OFC\n",
    "            #  # CONTROLS\n",
    "            #  # lateral occipital\n",
    "            #  'lateraloccipital-lh', # Left Visual Cortex\n",
    "            #  'superiortemporal-lh', # Left Auditory Cortex\n",
    "             # Right\n",
    "             'rostralanteriorcingulate-rh', # Right Rostral ACC\n",
    "             'caudalanteriorcingulate-rh', # Right Caudal ACC\n",
    "             'postcentral-rh', # , Right S1\n",
    "             'insula-rh', 'superiorfrontal-rh', # Right Insula, Right DL-PFC\n",
    "             'medialorbitofrontal-rh', # Right Medial-OFC\n",
    "            #  # CONTROLS\n",
    "            #  'lateraloccipital-rh', # Right Visual Cortex\n",
    "            #  'superiortemporal-rh', # Right Auditory Cortex\n",
    "]\n",
    "\n",
    "# Write out ROI names as acronyms\n",
    "roi_acronyms = [\"rACC-lh\", \"dACC-lh\", \"S1-lh\", \n",
    "                \"insula-lh\", \"dlPFC-lh\", \"mOFC-lh\", \n",
    "                # # Controls\n",
    "                # \"lOCC-lh\", \"aud-lh\",\n",
    "                \"rACC-rh\", \"dACC-rh\", \"S1-rh\", \n",
    "                \"insula-rh\", \"dlPFC-rh\", \"mOFC-rh\", \n",
    "                # # Controls\n",
    "                # \"lOCC-rh\", \"aud-rh\"\n",
    "               ]\n",
    "\n",
    "####################################################################\n",
    "# BANDS OF INTEREST\n",
    "Freq_Bands = { # Narrower bands and overlaps\n",
    "        # 'delta': [0, 4],\n",
    "        \"theta\": [4.0, 8.0],\n",
    "        \"alpha\": [8.0, 13.0],\n",
    "        \"beta\": [13.0, 30.0],\n",
    "        \"low-gamma\": [30.0, 58.5],\n",
    "        # # \"notch\": [58.5, 61.5],\n",
    "        \"high-gamma\": [61.5, 100.0],\n",
    "    }\n",
    "band_names = [band for band in Freq_Bands]\n",
    "\n",
    "####################################################################\n",
    "# CONDITIONS\n",
    "conditions = [\n",
    "    \"Hand 256 mN\",\n",
    "    # \"Back 32 mN\",\n",
    "    # 'Back LS',\n",
    "    # \"Back 256 mN\",\n",
    "    \"Eyes Open\",\n",
    "    # \"Eyes Closed\",\n",
    "]"
   ]
  },
  {
   "cell_type": "markdown",
   "metadata": {},
   "source": [
    "### Iterate through subjects"
   ]
  },
  {
   "cell_type": "code",
   "execution_count": 11,
   "metadata": {},
   "outputs": [],
   "source": [
    "sub_id = sub_ids_CP[0]"
   ]
  },
  {
   "cell_type": "code",
   "execution_count": 12,
   "metadata": {},
   "outputs": [
    {
     "name": "stdout",
     "output_type": "stream",
     "text": [
      "Reading /home/wanglab/Documents/George Kenefati/Chronic Low Back Pain Study/Code/Functional connectivity analysis/../../Data/Processed Data/018_preprocessed-epo.fif ...\n",
      "    Found the data of interest:\n",
      "        t =   -2500.00 ...    2500.00 ms\n",
      "        0 CTF compensation matrices available\n",
      "Not setting metadata\n",
      "73 matching events found\n",
      "No baseline correction applied\n",
      "0 projection items activated\n",
      "\n",
      "Epochs stc shape: (73, 12, 2001)\n",
      "\n",
      "Eyes Open stc shape: (12, 141299)\n",
      "\n",
      "Stim labels shape: (73,)\n",
      "\n",
      "STC Hand 256 mN only shape: (20, 12, 2001)\n"
     ]
    }
   ],
   "source": [
    "# Get epochs and stc from one subject\n",
    "# this_sub_id = next(sub_id)\n",
    "this_sub_id = sub_id\n",
    "\n",
    "# Epochs\n",
    "epo_fname = glob(f\"{processed_data_path}/{this_sub_id}*epo.fif\")[0]\n",
    "epochs = mne.read_epochs(epo_fname)\n",
    "# STC\n",
    "stc_epo_fname = glob(f\"{zscored_epochs_data_path}/{this_sub_id}_epochs.pkl\")[0]\n",
    "stc_epo = pickle.load(open(stc_epo_fname, 'rb'))\n",
    "stc_epo = np.array(stc_epo)\n",
    "print(f\"\\nEpochs stc shape: {stc_epo.shape}\")\n",
    "# Eyes Open STC\n",
    "stc_eo_fname = glob(f\"{EO_resting_data_path}/{this_sub_id}_eyes_open.pkl\")\n",
    "stc_eo = pickle.load(open(stc_eo_fname[0], 'rb'))\n",
    "print(f\"\\nEyes Open stc shape: {np.array(stc_eo).shape}\")\n",
    "\n",
    "# Get stim labels from processed data folder\n",
    "stim_fname = glob(f\"{processed_data_path}/{this_sub_id}*stim_labels.mat\")[0]\n",
    "stim_labels = sio.loadmat(stim_fname)[\"stim_labels\"][0]\n",
    "print(f\"\\nStim labels shape: {stim_labels.shape}\")\n",
    "\n",
    "# Select just hand 256 mN condition (label=3)\n",
    "stc_epo_array = stc_epo[stim_labels == 3]\n",
    "print(f\"\\nSTC Hand 256 mN only shape: {stc_epo_array.shape}\")"
   ]
  },
  {
   "cell_type": "code",
   "execution_count": 24,
   "metadata": {},
   "outputs": [],
   "source": [
    "# Define parameters for the TFR computation\n",
    "freqs = np.logspace(*np.log10([1, 100]), num=50)  # Define frequency range of interest\n",
    "n_cycles = freqs / 2.  # Define the number of cycles in each frequency"
   ]
  },
  {
   "cell_type": "code",
   "execution_count": 25,
   "metadata": {},
   "outputs": [],
   "source": [
    "# Construct Epochs info\n",
    "info = mne.create_info(\n",
    "    ch_names=roi_acronyms,\n",
    "    sfreq=sfreq,\n",
    "    ch_types=\"eeg\",\n",
    ")"
   ]
  },
  {
   "cell_type": "code",
   "execution_count": 28,
   "metadata": {},
   "outputs": [
    {
     "name": "stdout",
     "output_type": "stream",
     "text": [
      "Applying baseline correction (mode: zscore)\n"
     ]
    },
    {
     "data": {
      "image/png": "[encoded data removed]",
      "text/plain": [
       "<Figure size 640x480 with 2 Axes>"
      ]
     },
     "metadata": {},
     "output_type": "display_data"
    },
    {
     "data": {
      "text/plain": [
       "[<Figure size 640x480 with 2 Axes>]"
      ]
     },
     "execution_count": 28,
     "metadata": {},
     "output_type": "execute_result"
    }
   ],
   "source": [
    "power = tfr_array_morlet(\n",
    "    stc_epo,\n",
    "    sfreq=sfreq,\n",
    "    freqs=freqs,\n",
    "    n_cycles=n_cycles,\n",
    "    output=\"avg_power\",\n",
    "    zero_mean=False,\n",
    ")\n",
    "# Put it into a TFR container for easy plotting\n",
    "tfr = AverageTFRArray(\n",
    "    info=info, \n",
    "    data=power, \n",
    "    times=epochs.times, \n",
    "    freqs=freqs, \n",
    "    nave=stc_epo.shape[0],\n",
    ")\n",
    "\n",
    "vmin, vmax = -3.0, 3.0  # Define our color limits.\n",
    "\n",
    "tfr.plot(\n",
    "    baseline=(-2.5, 0.0),\n",
    "    tmin=0.0,\n",
    "    tmax=1.0,\n",
    "    picks=[0],\n",
    "    mode=\"zscore\",\n",
    "    # vlim=(vmin, vmax),\n",
    "    title=f\"Representative TFR of Subject {this_sub_id}\",\n",
    ")"
   ]
  },
  {
   "cell_type": "code",
   "execution_count": null,
   "metadata": {},
   "outputs": [],
   "source": []
  }
 ],
 "metadata": {
  "kernelspec": {
   "display_name": "Python 3",
   "language": "python",
   "name": "python3"
  },
  "language_info": {
   "codemirror_mode": {
    "name": "ipython",
    "version": 3
   },
   "file_extension": ".py",
   "mimetype": "text/x-python",
   "name": "python",
   "nbconvert_exporter": "python",
   "pygments_lexer": "ipython3",
   "version": "3.11.7"
  }
 },
 "nbformat": 4,
 "nbformat_minor": 2
}
