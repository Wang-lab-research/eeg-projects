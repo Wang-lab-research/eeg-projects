{
 "cells": [
  {
   "cell_type": "markdown",
   "id": "98815475-cc59-43f2-ae40-5ee07b1522fd",
   "metadata": {},
   "source": [
    "### Loop through each subject to determine whether Fp1 EOG was added back in."
   ]
  },
  {
   "cell_type": "code",
   "execution_count": 1,
   "id": "17e5a59a-fa28-449d-ac91-f9cb2a3a81fe",
   "metadata": {},
   "outputs": [
    {
     "name": "stdout",
     "output_type": "stream",
     "text": [
      "0 files missing from root.txt in /home/wanglab/mne_data/MNE-fsaverage-data\n",
      "0 files missing from bem.txt in /home/wanglab/mne_data/MNE-fsaverage-data/fsaverage\n"
     ]
    }
   ],
   "source": [
    "import sys\n",
    "sys.path.append('/home/wanglab/Documents/George Kenefati/Code bank/eeg_toolkit/')\n",
    "import os\n",
    "import mne\n",
    "import glob\n",
    "import eeg_toolkit\n",
    "from eeg_toolkit import find_fp1, source_localization"
   ]
  },
  {
   "cell_type": "code",
   "execution_count": 2,
   "id": "f4234cee-ce8c-43fd-bcc5-faf523b4993c",
   "metadata": {},
   "outputs": [],
   "source": [
    "data_path = '../Data/EEG DATA/'\n",
    "save_path = '../Data/Processed Data/'"
   ]
  },
  {
   "cell_type": "code",
   "execution_count": 3,
   "id": "dd5cdccd-bb15-443b-95e2-5b295b3a03a2",
   "metadata": {},
   "outputs": [
    {
     "name": "stdout",
     "output_type": "stream",
     "text": [
      "[-2.5,0.0,2.5]\n"
     ]
    }
   ],
   "source": [
    "# Settings\n",
    "times_tup,time_win_path = source_localization.get_time_window(5)\n",
    "\n",
    "# Read in processed raw data\n",
    "stc_data_path = '../Data/Processed Data/'\n",
    "epo_path = '../Data/Processed Data/' + time_win_path\n",
    "save_path_cont = '../Data/STC_Continuous/'\n",
    "save_path_zepo = '../Data/STC_Z_scored_Epochs/' + time_win_path\n",
    "\n",
    "if not os.path.exists(save_path_cont):\n",
    "    os.makedirs(save_path_cont)\n",
    "\n",
    "if not os.path.exists(save_path_zepo):\n",
    "    os.makedirs(save_path_zepo)\n",
    "\n",
    "# Noise cov: crop raw during eyes-open resting condition\n",
    "noise_cov_win = 5.5, 7.5 # rest_min, rest_max"
   ]
  },
  {
   "cell_type": "code",
   "execution_count": 4,
   "id": "652be1e9-2130-41ab-89ee-e589242ff2c4",
   "metadata": {
    "jupyter": {
     "source_hidden": true
    }
   },
   "outputs": [],
   "source": [
    "#### all subject file names in directory for reference\n",
    "sub_ids_lst = [\n",
    " # '006', X\n",
    " '007', #32ch\n",
    " '008', #32ch\n",
    " '009', #32ch\n",
    " '010', #32ch\n",
    " '013', #32ch\n",
    " '014', #32ch\n",
    " '015', #32ch\n",
    " # '016', X\n",
    " # '017', X\n",
    " '018',\n",
    " # '019', X\n",
    " '020',\n",
    " '021',\n",
    " '022',\n",
    " '023',\n",
    " '024',\n",
    " # '025', X\n",
    " # '026', X\n",
    " '027',\n",
    " # '028', X\n",
    " '029',\n",
    " '030',\n",
    " '031',\n",
    " '032',\n",
    " '033',\n",
    " '034',\n",
    " '035',\n",
    " '036',\n",
    " '037',\n",
    " '038',\n",
    " '039',\n",
    " '040',\n",
    " '041',\n",
    " '042',\n",
    " '043',\n",
    " '044',\n",
    " '045',\n",
    " '046',\n",
    " # '047', X\n",
    " '048',\n",
    " '049',\n",
    " '050',\n",
    " '051',\n",
    " '052',\n",
    " '053',\n",
    " '054',\n",
    " '055',\n",
    " '056',\n",
    " '057',\n",
    " '058',\n",
    " 'C1.',\n",
    " 'C2.', \n",
    " 'C3.',  \n",
    " # 'C4.', X\n",
    " 'C5.', \n",
    " 'C6.',\n",
    " 'C7.',\n",
    " 'C8.',\n",
    " 'C9.',\n",
    " 'C10',\n",
    " 'C11',\n",
    " 'C12',\n",
    " 'C13',\n",
    " 'C14',\n",
    " 'C15',\n",
    " 'C16',\n",
    " 'C17',  \n",
    " 'C18',\n",
    " 'C19',\n",
    " 'C20',\n",
    " 'C21',\n",
    " 'C22',\n",
    " # 'C23', X\n",
    " 'C24',\n",
    " 'C25',\n",
    " 'C26',\n",
    " 'C27',\n",
    "]"
   ]
  },
  {
   "cell_type": "code",
   "execution_count": 5,
   "id": "25191af1-c4cf-49dc-9cf0-af11fd1f2490",
   "metadata": {},
   "outputs": [],
   "source": [
    "# fp1_subs=[]\n",
    "# for sub_id in sub_ids_lst:\n",
    "#     tmp = find_fp1.get_fp1_subs(data_path,sub_id)\n",
    "#     fp1_subs.append(tmp)"
   ]
  },
  {
   "cell_type": "code",
   "execution_count": 6,
   "id": "f39a64b8-b2a8-42d8-8ba9-4bd27877aad9",
   "metadata": {},
   "outputs": [],
   "source": [
    "# fp1_sub_ids = [el[:3] for el in fp1_subs if el is not None]"
   ]
  },
  {
   "cell_type": "code",
   "execution_count": 7,
   "id": "8e5ad473-9da1-4969-aca4-2024d9750c90",
   "metadata": {},
   "outputs": [],
   "source": [
    "# fp1_sub_ids"
   ]
  },
  {
   "cell_type": "markdown",
   "id": "3b2df890-f0d3-4d02-b124-86baffc1f8ff",
   "metadata": {},
   "source": [
    "### Reprocess these subjects"
   ]
  },
  {
   "cell_type": "code",
   "execution_count": 8,
   "id": "af071900-25c4-4398-a67d-36af758684f3",
   "metadata": {},
   "outputs": [],
   "source": [
    "fp1_sub_ids=['007', '008', '009', '010', '013', '014', '015']"
   ]
  },
  {
   "cell_type": "code",
   "execution_count": 9,
   "id": "10a6e924-0056-4a1d-9ac4-c58e4ad2ad04",
   "metadata": {},
   "outputs": [],
   "source": [
    "from eeg_toolkit import _preprocess, source_localization"
   ]
  },
  {
   "cell_type": "code",
   "execution_count": 10,
   "id": "85814949-f2b8-48fb-8c27-0a7ae5757194",
   "metadata": {
    "tags": []
   },
   "outputs": [],
   "source": [
    "# Get stc only from selected labels\n",
    "roi_names = [# Left\n",
    "             'rostralanteriorcingulate-lh', # Left Rostral ACC\n",
    "             'caudalanteriorcingulate-lh', # Left Caudal ACC\n",
    "             'postcentral-lh', # Left S1,\n",
    "             'insula-lh', 'superiorfrontal-lh', # Left Insula, Left DL-PFC,\n",
    "             'medialorbitofrontal-lh', # Left Medial-OFC\n",
    "             # Right\n",
    "             'rostralanteriorcingulate-rh', # Right Rostral ACC\n",
    "             'caudalanteriorcingulate-rh', # Right Caudal ACC\n",
    "             'postcentral-rh', # , Right S1\n",
    "             'insula-rh', 'superiorfrontal-rh', # Right Insula, Right DL-PFC\n",
    "             'medialorbitofrontal-rh'] # Right Medial-OFC"
   ]
  },
  {
   "cell_type": "code",
   "execution_count": 11,
   "id": "5410fb80-fd9b-4bcf-9c49-63ff3dd2686d",
   "metadata": {},
   "outputs": [
    {
     "name": "stdout",
     "output_type": "stream",
     "text": [
      "6.22.022_048.EEGDATA 6.2_preprocessed-raw.fif\n",
      "6.22.022_048.EEGDATA\n",
      "reading raw file...\n",
      "6.22.022_048.EEGDATA\n",
      "setting custom montage...\n"
     ]
    },
    {
     "name": "stderr",
     "output_type": "stream",
     "text": [
      "/home/wanglab/Documents/George Kenefati/Code bank/eeg_toolkit/eeg_toolkit/_preprocess.py:24: RuntimeWarning: Fiducial point nasion not found, assuming identity unknown to head transformation\n",
      "  mne_obj.set_montage(custom_montage)\n"
     ]
    },
    {
     "ename": "ValueError",
     "evalue": "DigMontage is only a subset of info. There are 246 channel positions not present in the DigMontage. The channels missing from the montage are:\n\n['EEG1', 'EEG2', 'EEG3', 'EEG4', 'EEG5', 'EEG6', 'EEG7', 'EEG8', 'EEG9', 'EEG10', 'EEG11', 'EEG12', 'EEG13', 'EEG14', 'EEG15', 'EEG16', 'EEG17', 'EEG18', 'EEG19', 'EEG20', 'EEG21', 'EEG22', 'EEG23', 'EEG24', 'EEG25', 'EEG26', 'EEG27', 'EEG28', 'EEG29', 'EEG30', 'EEG31', 'EEG32', 'EEG33', 'EEG34', 'EEG35', 'EEG36', 'EEG37', 'EEG38', 'EEG39', 'EEG40', 'EEG41', 'EEG42', 'EEG43', 'EEG44', 'EEG45', 'EEG46', 'EEG47', 'EEG48', 'EEG49', 'EEG50', 'EEG51', 'EEG52', 'EEG53', 'EEG54', 'EEG55', 'EEG56', 'EEG57', 'EEG58', 'EEG59', 'EEG60', 'EEG61', 'EEG62', 'EEG63', 'EEG64', 'EEG65', 'EEG70', 'EEG71', 'EEG72', 'EEG73', 'EEG74', 'EEG75', 'EEG76', 'EEG77', 'EEG78', 'EEG79', 'EEG80', 'EEG81', 'EEG82', 'EEG83', 'EEG84', 'EEG85', 'EEG86', 'EEG87', 'EEG88', 'EEG89', 'EEG90', 'EEG91', 'EEG92', 'EEG93', 'EEG94', 'EEG95', 'EEG96', 'EEG97', 'EEG98', 'EEG99', 'EEG100', 'EEG101', 'EEG102', 'EEG103', 'EEG104', 'EEG105', 'EEG106', 'EEG107', 'EEG108', 'EEG109', 'EEG110', 'EEG111', 'EEG112', 'EEG113', 'EEG114', 'EEG115', 'EEG116', 'EEG117', 'EEG118', 'EEG119', 'EEG120', 'EEG121', 'EEG122', 'EEG123', 'EEG124', 'EEG125', 'EEG126', 'EEG127', 'EEG128', 'EEG129', 'EEG130', 'EEG131', 'EEG132', 'EEG133', 'EEG134', 'EEG135', 'EEG136', 'EEG137', 'EEG138', 'EEG139', 'EEG140', 'EEG141', 'EEG142', 'EEG143', 'EEG144', 'EEG145', 'EEG146', 'EEG147', 'EEG148', 'EEG149', 'EEG150', 'EEG151', 'EEG152', 'EEG153', 'EEG154', 'EEG155', 'EEG156', 'EEG157', 'EEG158', 'EEG159', 'EEG160', 'EEG161', 'EEG162', 'EEG163', 'EEG164', 'EEG165', 'EEG166', 'EEG167', 'EEG168', 'EEG169', 'EEG170', 'EEG171', 'EEG172', 'EEG173', 'EEG174', 'EEG175', 'EEG176', 'EEG177', 'EEG178', 'EEG179', 'EEG180', 'EEG181', 'EEG182', 'EEG183', 'EEG184', 'EEG185', 'EEG186', 'EEG187', 'EEG188', 'EEG189', 'EEG190', 'EEG191', 'EEG192', 'EEG193', 'EEG194', 'EEG195', 'EEG196', 'EEG197', 'EEG198', 'EEG199', 'EEG200', 'EEG201', 'EEG202', 'EEG203', 'EEG204', 'EEG205', 'EEG206', 'EEG207', 'EEG208', 'EEG209', 'EEG210', 'EEG211', 'EEG212', 'EEG213', 'EEG214', 'EEG215', 'EEG216', 'EEG217', 'EEG218', 'EEG219', 'EEG220', 'EEG221', 'EEG222', 'EEG223', 'EEG224', 'EEG225', 'EEG226', 'EEG227', 'EEG228', 'EEG229', 'EEG230', 'EEG231', 'EEG232', 'EEG233', 'EEG234', 'EEG235', 'EEG236', 'EEG237', 'EEG238', 'EEG239', 'EEG240', 'EEG241', 'EEG242', 'EEG243', 'EEG244', 'EEG245', 'EEG246', 'EEG247', 'EEG248', 'EEG249', 'EEG250'].\n\nConsider using inst.rename_channels to match the montage nomenclature, or inst.set_channel_types if these are not EEG channels, or use the on_missing parameter if the channel positions are allowed to be unknown in your analyses.",
     "output_type": "error",
     "traceback": [
      "\u001b[0;31m---------------------------------------------------------------------------\u001b[0m",
      "\u001b[0;31mValueError\u001b[0m                                Traceback (most recent call last)",
      "Cell \u001b[0;32mIn[11], line 2\u001b[0m\n\u001b[1;32m      1\u001b[0m \u001b[38;5;28;01mfor\u001b[39;00m sub_id \u001b[38;5;129;01min\u001b[39;00m fp1_sub_ids:\n\u001b[0;32m----> 2\u001b[0m     raw \u001b[38;5;241m=\u001b[39m \u001b[43m_preprocess\u001b[49m\u001b[38;5;241;43m.\u001b[39;49m\u001b[43mto_raw\u001b[49m\u001b[43m(\u001b[49m\u001b[43mdata_path\u001b[49m\u001b[43m,\u001b[49m\u001b[43msub_id\u001b[49m\u001b[43m,\u001b[49m\u001b[43msave_path\u001b[49m\u001b[43m)\u001b[49m\n\u001b[1;32m      3\u001b[0m     _preprocess\u001b[38;5;241m.\u001b[39mto_epo(raw, sub_id, data_path, save_path)\n\u001b[1;32m      4\u001b[0m     _ \u001b[38;5;241m=\u001b[39m source_localization\u001b[38;5;241m.\u001b[39mto_source(sub_id,stc_data_path,epo_path,\n\u001b[1;32m      5\u001b[0m                                   save_path_cont,\n\u001b[1;32m      6\u001b[0m                                   save_path_zepo,\n\u001b[0;32m   (...)\u001b[0m\n\u001b[1;32m     10\u001b[0m                                   include_zepochs\u001b[38;5;241m=\u001b[39m\u001b[38;5;28;01mTrue\u001b[39;00m,\n\u001b[1;32m     11\u001b[0m                                   average_dipoles\u001b[38;5;241m=\u001b[39m\u001b[38;5;28;01mTrue\u001b[39;00m)    \n",
      "File \u001b[0;32m~/Documents/George Kenefati/Code bank/eeg_toolkit/eeg_toolkit/_preprocess.py:87\u001b[0m, in \u001b[0;36mto_raw\u001b[0;34m(data_path, sub_id, save_path)\u001b[0m\n\u001b[1;32m     84\u001b[0m     raw\u001b[38;5;241m.\u001b[39mcrop(tmax\u001b[38;5;241m=\u001b[39m\u001b[38;5;241m1997.8\u001b[39m)\n\u001b[1;32m     86\u001b[0m \u001b[38;5;28mprint\u001b[39m(\u001b[38;5;124mf\u001b[39m\u001b[38;5;124m\"\u001b[39m\u001b[38;5;132;01m{\u001b[39;00msub_id\u001b[38;5;132;01m}\u001b[39;00m\u001b[38;5;130;01m\\n\u001b[39;00m\u001b[38;5;124msetting custom montage...\u001b[39m\u001b[38;5;124m\"\u001b[39m)\n\u001b[0;32m---> 87\u001b[0m \u001b[43mset_montage\u001b[49m\u001b[43m(\u001b[49m\u001b[43mraw\u001b[49m\u001b[43m,\u001b[49m\u001b[43mcustom_montage\u001b[49m\u001b[43m)\u001b[49m\n\u001b[1;32m     89\u001b[0m \u001b[38;5;66;03m# high level inspection\u001b[39;00m\n\u001b[1;32m     90\u001b[0m \u001b[38;5;28mprint\u001b[39m(raw\u001b[38;5;241m.\u001b[39mch_names)\n",
      "File \u001b[0;32m~/Documents/George Kenefati/Code bank/eeg_toolkit/eeg_toolkit/_preprocess.py:24\u001b[0m, in \u001b[0;36mset_montage\u001b[0;34m(mne_obj, montage_path)\u001b[0m\n\u001b[1;32m     22\u001b[0m \u001b[38;5;66;03m# relative_path = os.path.join('../../Lab code/wanglab_eeg/montages', montage_path)\u001b[39;00m\n\u001b[1;32m     23\u001b[0m custom_montage \u001b[38;5;241m=\u001b[39m mne\u001b[38;5;241m.\u001b[39mchannels\u001b[38;5;241m.\u001b[39mread_custom_montage(relative_path)  \n\u001b[0;32m---> 24\u001b[0m \u001b[43mmne_obj\u001b[49m\u001b[38;5;241;43m.\u001b[39;49m\u001b[43mset_montage\u001b[49m\u001b[43m(\u001b[49m\u001b[43mcustom_montage\u001b[49m\u001b[43m)\u001b[49m\n",
      "File \u001b[0;32m<decorator-gen-21>:12\u001b[0m, in \u001b[0;36mset_montage\u001b[0;34m(self, montage, match_case, match_alias, on_missing, verbose)\u001b[0m\n",
      "File \u001b[0;32m~/mambaforge/envs/mne/lib/python3.11/site-packages/mne/_fiff/meas_info.py:427\u001b[0m, in \u001b[0;36mMontageMixin.set_montage\u001b[0;34m(self, montage, match_case, match_alias, on_missing, verbose)\u001b[0m\n\u001b[1;32m    424\u001b[0m \u001b[38;5;28;01mfrom\u001b[39;00m \u001b[38;5;21;01m.\u001b[39;00m\u001b[38;5;21;01m.\u001b[39;00m\u001b[38;5;21;01mchannels\u001b[39;00m\u001b[38;5;21;01m.\u001b[39;00m\u001b[38;5;21;01mmontage\u001b[39;00m \u001b[38;5;28;01mimport\u001b[39;00m _set_montage\n\u001b[1;32m    426\u001b[0m info \u001b[38;5;241m=\u001b[39m \u001b[38;5;28mself\u001b[39m \u001b[38;5;28;01mif\u001b[39;00m \u001b[38;5;28misinstance\u001b[39m(\u001b[38;5;28mself\u001b[39m, Info) \u001b[38;5;28;01melse\u001b[39;00m \u001b[38;5;28mself\u001b[39m\u001b[38;5;241m.\u001b[39minfo\n\u001b[0;32m--> 427\u001b[0m \u001b[43m_set_montage\u001b[49m\u001b[43m(\u001b[49m\u001b[43minfo\u001b[49m\u001b[43m,\u001b[49m\u001b[43m \u001b[49m\u001b[43mmontage\u001b[49m\u001b[43m,\u001b[49m\u001b[43m \u001b[49m\u001b[43mmatch_case\u001b[49m\u001b[43m,\u001b[49m\u001b[43m \u001b[49m\u001b[43mmatch_alias\u001b[49m\u001b[43m,\u001b[49m\u001b[43m \u001b[49m\u001b[43mon_missing\u001b[49m\u001b[43m)\u001b[49m\n\u001b[1;32m    428\u001b[0m \u001b[38;5;28;01mreturn\u001b[39;00m \u001b[38;5;28mself\u001b[39m\n",
      "File \u001b[0;32m~/mambaforge/envs/mne/lib/python3.11/site-packages/mne/channels/montage.py:1258\u001b[0m, in \u001b[0;36m_set_montage\u001b[0;34m(***failed resolving arguments***)\u001b[0m\n\u001b[1;32m   1247\u001b[0m are_is \u001b[38;5;241m=\u001b[39m \u001b[38;5;124m\"\u001b[39m\u001b[38;5;124mare\u001b[39m\u001b[38;5;124m\"\u001b[39m \u001b[38;5;28;01mif\u001b[39;00m pl \u001b[38;5;28;01melse\u001b[39;00m \u001b[38;5;124m\"\u001b[39m\u001b[38;5;124mis\u001b[39m\u001b[38;5;124m\"\u001b[39m\n\u001b[1;32m   1248\u001b[0m missing_coord_msg \u001b[38;5;241m=\u001b[39m (\n\u001b[1;32m   1249\u001b[0m     \u001b[38;5;124mf\u001b[39m\u001b[38;5;124m\"\u001b[39m\u001b[38;5;124mDigMontage is only a subset of info. There \u001b[39m\u001b[38;5;132;01m{\u001b[39;00mare_is\u001b[38;5;132;01m}\u001b[39;00m\u001b[38;5;124m \u001b[39m\u001b[38;5;124m\"\u001b[39m\n\u001b[1;32m   1250\u001b[0m     \u001b[38;5;124mf\u001b[39m\u001b[38;5;124m\"\u001b[39m\u001b[38;5;132;01m{\u001b[39;00m\u001b[38;5;28mlen\u001b[39m(missing)\u001b[38;5;132;01m}\u001b[39;00m\u001b[38;5;124m channel position\u001b[39m\u001b[38;5;132;01m{\u001b[39;00mpl\u001b[38;5;132;01m}\u001b[39;00m\u001b[38;5;124m not present in the \u001b[39m\u001b[38;5;124m\"\u001b[39m\n\u001b[0;32m   (...)\u001b[0m\n\u001b[1;32m   1256\u001b[0m     \u001b[38;5;124mf\u001b[39m\u001b[38;5;124m\"\u001b[39m\u001b[38;5;124mposition\u001b[39m\u001b[38;5;132;01m{\u001b[39;00mpl\u001b[38;5;132;01m}\u001b[39;00m\u001b[38;5;124m \u001b[39m\u001b[38;5;132;01m{\u001b[39;00mare_is\u001b[38;5;132;01m}\u001b[39;00m\u001b[38;5;124m allowed to be unknown in your analyses.\u001b[39m\u001b[38;5;124m\"\u001b[39m\n\u001b[1;32m   1257\u001b[0m )\n\u001b[0;32m-> 1258\u001b[0m \u001b[43m_on_missing\u001b[49m\u001b[43m(\u001b[49m\u001b[43mon_missing\u001b[49m\u001b[43m,\u001b[49m\u001b[43m \u001b[49m\u001b[43mmissing_coord_msg\u001b[49m\u001b[43m)\u001b[49m\n\u001b[1;32m   1260\u001b[0m \u001b[38;5;66;03m# set ch coordinates and names from digmontage or nan coords\u001b[39;00m\n\u001b[1;32m   1261\u001b[0m \u001b[38;5;28;01mfor\u001b[39;00m ii \u001b[38;5;129;01min\u001b[39;00m missing:\n",
      "File \u001b[0;32m~/mambaforge/envs/mne/lib/python3.11/site-packages/mne/utils/check.py:1166\u001b[0m, in \u001b[0;36m_on_missing\u001b[0;34m(on_missing, msg, name, error_klass)\u001b[0m\n\u001b[1;32m   1164\u001b[0m on_missing \u001b[38;5;241m=\u001b[39m \u001b[38;5;124m\"\u001b[39m\u001b[38;5;124mwarn\u001b[39m\u001b[38;5;124m\"\u001b[39m \u001b[38;5;28;01mif\u001b[39;00m on_missing \u001b[38;5;241m==\u001b[39m \u001b[38;5;124m\"\u001b[39m\u001b[38;5;124mwarning\u001b[39m\u001b[38;5;124m\"\u001b[39m \u001b[38;5;28;01melse\u001b[39;00m on_missing\n\u001b[1;32m   1165\u001b[0m \u001b[38;5;28;01mif\u001b[39;00m on_missing \u001b[38;5;241m==\u001b[39m \u001b[38;5;124m\"\u001b[39m\u001b[38;5;124mraise\u001b[39m\u001b[38;5;124m\"\u001b[39m:\n\u001b[0;32m-> 1166\u001b[0m     \u001b[38;5;28;01mraise\u001b[39;00m error_klass(msg)\n\u001b[1;32m   1167\u001b[0m \u001b[38;5;28;01melif\u001b[39;00m on_missing \u001b[38;5;241m==\u001b[39m \u001b[38;5;124m\"\u001b[39m\u001b[38;5;124mwarn\u001b[39m\u001b[38;5;124m\"\u001b[39m:\n\u001b[1;32m   1168\u001b[0m     warn(msg)\n",
      "\u001b[0;31mValueError\u001b[0m: DigMontage is only a subset of info. There are 246 channel positions not present in the DigMontage. The channels missing from the montage are:\n\n['EEG1', 'EEG2', 'EEG3', 'EEG4', 'EEG5', 'EEG6', 'EEG7', 'EEG8', 'EEG9', 'EEG10', 'EEG11', 'EEG12', 'EEG13', 'EEG14', 'EEG15', 'EEG16', 'EEG17', 'EEG18', 'EEG19', 'EEG20', 'EEG21', 'EEG22', 'EEG23', 'EEG24', 'EEG25', 'EEG26', 'EEG27', 'EEG28', 'EEG29', 'EEG30', 'EEG31', 'EEG32', 'EEG33', 'EEG34', 'EEG35', 'EEG36', 'EEG37', 'EEG38', 'EEG39', 'EEG40', 'EEG41', 'EEG42', 'EEG43', 'EEG44', 'EEG45', 'EEG46', 'EEG47', 'EEG48', 'EEG49', 'EEG50', 'EEG51', 'EEG52', 'EEG53', 'EEG54', 'EEG55', 'EEG56', 'EEG57', 'EEG58', 'EEG59', 'EEG60', 'EEG61', 'EEG62', 'EEG63', 'EEG64', 'EEG65', 'EEG70', 'EEG71', 'EEG72', 'EEG73', 'EEG74', 'EEG75', 'EEG76', 'EEG77', 'EEG78', 'EEG79', 'EEG80', 'EEG81', 'EEG82', 'EEG83', 'EEG84', 'EEG85', 'EEG86', 'EEG87', 'EEG88', 'EEG89', 'EEG90', 'EEG91', 'EEG92', 'EEG93', 'EEG94', 'EEG95', 'EEG96', 'EEG97', 'EEG98', 'EEG99', 'EEG100', 'EEG101', 'EEG102', 'EEG103', 'EEG104', 'EEG105', 'EEG106', 'EEG107', 'EEG108', 'EEG109', 'EEG110', 'EEG111', 'EEG112', 'EEG113', 'EEG114', 'EEG115', 'EEG116', 'EEG117', 'EEG118', 'EEG119', 'EEG120', 'EEG121', 'EEG122', 'EEG123', 'EEG124', 'EEG125', 'EEG126', 'EEG127', 'EEG128', 'EEG129', 'EEG130', 'EEG131', 'EEG132', 'EEG133', 'EEG134', 'EEG135', 'EEG136', 'EEG137', 'EEG138', 'EEG139', 'EEG140', 'EEG141', 'EEG142', 'EEG143', 'EEG144', 'EEG145', 'EEG146', 'EEG147', 'EEG148', 'EEG149', 'EEG150', 'EEG151', 'EEG152', 'EEG153', 'EEG154', 'EEG155', 'EEG156', 'EEG157', 'EEG158', 'EEG159', 'EEG160', 'EEG161', 'EEG162', 'EEG163', 'EEG164', 'EEG165', 'EEG166', 'EEG167', 'EEG168', 'EEG169', 'EEG170', 'EEG171', 'EEG172', 'EEG173', 'EEG174', 'EEG175', 'EEG176', 'EEG177', 'EEG178', 'EEG179', 'EEG180', 'EEG181', 'EEG182', 'EEG183', 'EEG184', 'EEG185', 'EEG186', 'EEG187', 'EEG188', 'EEG189', 'EEG190', 'EEG191', 'EEG192', 'EEG193', 'EEG194', 'EEG195', 'EEG196', 'EEG197', 'EEG198', 'EEG199', 'EEG200', 'EEG201', 'EEG202', 'EEG203', 'EEG204', 'EEG205', 'EEG206', 'EEG207', 'EEG208', 'EEG209', 'EEG210', 'EEG211', 'EEG212', 'EEG213', 'EEG214', 'EEG215', 'EEG216', 'EEG217', 'EEG218', 'EEG219', 'EEG220', 'EEG221', 'EEG222', 'EEG223', 'EEG224', 'EEG225', 'EEG226', 'EEG227', 'EEG228', 'EEG229', 'EEG230', 'EEG231', 'EEG232', 'EEG233', 'EEG234', 'EEG235', 'EEG236', 'EEG237', 'EEG238', 'EEG239', 'EEG240', 'EEG241', 'EEG242', 'EEG243', 'EEG244', 'EEG245', 'EEG246', 'EEG247', 'EEG248', 'EEG249', 'EEG250'].\n\nConsider using inst.rename_channels to match the montage nomenclature, or inst.set_channel_types if these are not EEG channels, or use the on_missing parameter if the channel positions are allowed to be unknown in your analyses."
     ]
    }
   ],
   "source": [
    "for sub_id in fp1_sub_ids:\n",
    "    raw = _preprocess.to_raw(data_path,sub_id,save_path)\n",
    "    _preprocess.to_epo(raw, sub_id, data_path, save_path)\n",
    "    _ = source_localization.to_source(sub_id,stc_data_path,epo_path,\n",
    "                                  save_path_cont,\n",
    "                                  save_path_zepo,\n",
    "                                  roi_names,\n",
    "                                  times_tup,\n",
    "                                  noise_cov_win,\n",
    "                                  include_zepochs=True,\n",
    "                                  average_dipoles=True)    "
   ]
  },
  {
   "cell_type": "code",
   "execution_count": null,
   "id": "5fc4b3fa-7b94-43c1-801b-f867af5ee5a1",
   "metadata": {},
   "outputs": [],
   "source": []
  }
 ],
 "metadata": {
  "kernelspec": {
   "display_name": "mne",
   "language": "python",
   "name": "mne"
  },
  "language_info": {
   "codemirror_mode": {
    "name": "ipython",
    "version": 3
   },
   "file_extension": ".py",
   "mimetype": "text/x-python",
   "name": "python",
   "nbconvert_exporter": "python",
   "pygments_lexer": "ipython3",
   "version": "3.11.6"
  }
 },
 "nbformat": 4,
 "nbformat_minor": 5
}
