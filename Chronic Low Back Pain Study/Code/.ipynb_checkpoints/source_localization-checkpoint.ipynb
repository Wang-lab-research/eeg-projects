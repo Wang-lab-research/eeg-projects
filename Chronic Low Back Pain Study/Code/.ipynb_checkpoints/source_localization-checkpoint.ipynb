{
 "cells": [
  {
   "cell_type": "markdown",
   "id": "2947c985-edb4-4e37-ac38-e2abc335d541",
   "metadata": {
    "tags": []
   },
   "source": [
    "## Compute source time course (STC) from Raw and Epochs data object\n",
    "#### Input: *_preprocessed-raw.fif, -epo.fif\n",
    "####  Output: *.stc"
   ]
  },
  {
   "cell_type": "code",
   "execution_count": 1,
   "id": "93bc0409-9fd5-479d-8dde-25a747c13efe",
   "metadata": {
    "tags": []
   },
   "outputs": [
    {
     "ename": "ImportError",
     "evalue": "attempted relative import beyond top-level package",
     "output_type": "error",
     "traceback": [
      "\u001b[0;31m---------------------------------------------------------------------------\u001b[0m",
      "\u001b[0;31mImportError\u001b[0m                               Traceback (most recent call last)",
      "Cell \u001b[0;32mIn[1], line 5\u001b[0m\n\u001b[1;32m      3\u001b[0m \u001b[38;5;28;01mimport\u001b[39;00m \u001b[38;5;21;01mos\u001b[39;00m\n\u001b[1;32m      4\u001b[0m \u001b[38;5;28;01mimport\u001b[39;00m \u001b[38;5;21;01mmne\u001b[39;00m\n\u001b[0;32m----> 5\u001b[0m \u001b[38;5;28;01mimport\u001b[39;00m \u001b[38;5;21;01meeg_toolkit\u001b[39;00m\n\u001b[1;32m      6\u001b[0m \u001b[38;5;28;01mfrom\u001b[39;00m \u001b[38;5;21;01meeg_toolkit\u001b[39;00m \u001b[38;5;28;01mimport\u001b[39;00m utils, preprocess, source_localization\n",
      "File \u001b[0;32m~/Documents/George Kenefati/Code/eeg_toolkit/eeg_toolkit/__init__.py:1\u001b[0m\n\u001b[0;32m----> 1\u001b[0m \u001b[38;5;28;01mfrom\u001b[39;00m \u001b[38;5;21;01m.\u001b[39;00m\u001b[38;5;21;01m.\u001b[39;00m\u001b[38;5;21;01m_utils\u001b[39;00m \u001b[38;5;28;01mimport\u001b[39;00m \u001b[38;5;241m*\u001b[39m\n",
      "\u001b[0;31mImportError\u001b[0m: attempted relative import beyond top-level package"
     ]
    }
   ],
   "source": [
    "import sys\n",
    "sys.path.append('/home/wanglab/Documents/George Kenefati/Code/eeg_toolkit/')\n",
    "import os\n",
    "import mne\n",
    "import eeg_toolkit\n",
    "from eeg_toolkit import utils, preprocess, source_localization"
   ]
  },
  {
   "cell_type": "code",
   "execution_count": null,
   "id": "842b367f-9d3c-4436-868f-6fb7ffe7b719",
   "metadata": {},
   "outputs": [],
   "source": [
    "# Settings\n",
    "times_tup,time_win_path = preprocess.get_time_window(5)\n",
    "\n",
    "# Read in processed raw data\n",
    "data_path = '../Data/Processed Data/'\n",
    "epo_path = '../Data/Processed Data/' + time_win_path\n",
    "save_path_cont = '../Data/STC_Continuous/'\n",
    "save_path_zepo = '../Data/STC_Z_scored_Epochs/' + time_win_path\n",
    "\n",
    "if not os.path.exists(save_path_cont):\n",
    "    os.makedirs(save_path_cont)\n",
    "\n",
    "if not os.path.exists(save_path_zepo):\n",
    "    os.makedirs(save_path_zepo)\n",
    "\n",
    "# Noise cov: crop raw during eyes-open resting condition\n",
    "noise_cov_win = 5.5, 7.5 # rest_min, rest_max"
   ]
  },
  {
   "cell_type": "code",
   "execution_count": null,
   "id": "6525eacb-e00a-4c11-aad8-c3086d8b6a48",
   "metadata": {},
   "outputs": [],
   "source": [
    "# viable subjects\n",
    "sub_ids = _utils.import_subs(data_path)\n",
    "# select only 64ch subs and turn into set\n",
    "sub_ids = sub_ids[7:]\n",
    "print(sub_ids)"
   ]
  },
  {
   "cell_type": "code",
   "execution_count": null,
   "id": "7c3a8fdb-dbfa-42b6-907d-88061fab5ea5",
   "metadata": {},
   "outputs": [],
   "source": [
    "print(f\"Chronics: {len([el for el in sub_ids if el.startswith('0')])}\")\n",
    "print(f\"Controls: {len([el for el in sub_ids if el.startswith('C')])}\")\n",
    "print(f\"Total: {len(sub_ids)}\")"
   ]
  },
  {
   "cell_type": "code",
   "execution_count": null,
   "id": "168d00bf-c009-4143-a71d-c7c200ba148b",
   "metadata": {
    "tags": []
   },
   "outputs": [],
   "source": [
    "# Get stc only from selected labels\n",
    "roi_names = [# Left\n",
    "             'rostralanteriorcingulate-lh', # Left Rostral ACC\n",
    "             'caudalanteriorcingulate-lh', # Left Caudal ACC\n",
    "             'postcentral-lh', # Left S1,\n",
    "             'insula-lh', 'superiorfrontal-lh', # Left Insula, Left DL-PFC,\n",
    "             'medialorbitofrontal-lh', # Left Medial-OFC\n",
    "             # Right\n",
    "             'rostralanteriorcingulate-rh', # Right Rostral ACC\n",
    "             'caudalanteriorcingulate-rh', # Right Caudal ACC\n",
    "             'postcentral-rh', # , Right S1\n",
    "             'insula-rh', 'superiorfrontal-rh', # Right Insula, Right DL-PFC\n",
    "             'medialorbitofrontal-rh'] # Right Medial-OFC"
   ]
  },
  {
   "cell_type": "code",
   "execution_count": null,
   "id": "0b27ddca-2548-4884-9d57-42ea6d494d76",
   "metadata": {},
   "outputs": [],
   "source": [
    "for sub_id in sub_ids:\n",
    "    _ = source_localization.to_source(sub_id,data_path,epo_path,\n",
    "                                  save_path_cont,\n",
    "                                  save_path_zepo,\n",
    "                                  roi_names,\n",
    "                                  times_tup,\n",
    "                                  noise_cov_win,\n",
    "                                  include_zepochs=True,\n",
    "                                  average_dipoles=True)       "
   ]
  },
  {
   "cell_type": "code",
   "execution_count": null,
   "id": "5ff2ca0f-ec76-40da-a67d-a57d3fb7b3c0",
   "metadata": {},
   "outputs": [],
   "source": []
  }
 ],
 "metadata": {
  "kernelspec": {
   "display_name": "mne",
   "language": "python",
   "name": "mne"
  },
  "language_info": {
   "codemirror_mode": {
    "name": "ipython",
    "version": 3
   },
   "file_extension": ".py",
   "mimetype": "text/x-python",
   "name": "python",
   "nbconvert_exporter": "python",
   "pygments_lexer": "ipython3",
   "version": "3.11.6"
  }
 },
 "nbformat": 4,
 "nbformat_minor": 5
}
