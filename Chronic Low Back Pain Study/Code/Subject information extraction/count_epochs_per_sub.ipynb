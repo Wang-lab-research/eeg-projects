{
 "cells": [
  {
   "cell_type": "code",
   "execution_count": 1,
   "id": "22520b4d-64a4-4f91-821d-2f18919890e6",
   "metadata": {
    "tags": []
   },
   "outputs": [],
   "source": [
    "import os\n",
    "import mne\n",
    "import scipy.io as scio\n",
    "import pandas as pd\n",
    "from IPython import display"
   ]
  },
  {
   "cell_type": "code",
   "execution_count": 52,
   "id": "4521c2df-6088-4d04-8e12-003a93e2c45d",
   "metadata": {},
   "outputs": [],
   "source": [
    "data_path=\"../Data/Processed Data/\""
   ]
  },
  {
   "cell_type": "code",
   "execution_count": 55,
   "id": "52d6f256-6e26-4f15-85dd-ceb77e823ae6",
   "metadata": {
    "tags": []
   },
   "outputs": [],
   "source": [
    "def import_subs(data_path=\"../Data/Processed Data/\"):\n",
    "    # import sub_ids\n",
    "    sub_ids=[]\n",
    "    with open('sub_ids.txt', 'r') as file:\n",
    "        for line in file:\n",
    "            # Check if the line is not commented out\n",
    "            if not line.strip().startswith('#'):\n",
    "                # Extracting the subject ID and ignoring any comments or trailing commas\n",
    "                sub_id = line.split(',')[0].strip().strip(\"'\")\n",
    "                if sub_id:\n",
    "                    sub_ids.append(sub_id)\n",
    "    print(sub_ids)\n",
    "    return sub_ids"
   ]
  },
  {
   "cell_type": "code",
   "execution_count": 56,
   "id": "5870b8d4-4c73-4e2c-a501-3ba90f595d14",
   "metadata": {},
   "outputs": [
    {
     "name": "stdout",
     "output_type": "stream",
     "text": [
      "['007', '008', '009', '010', '013', '014', '015', '018', '020', '021', '022', '023', '024', '027', '029', '030', '031', '032', '033', '034', '035', '036', '037', '038', '039', '040', '041', '042', '043', '044', '045', '046', '048', '049', '050', '051', '052', '053', '054', '055', '056', '057', '058', 'C1.', 'C2.', 'C3.', 'C5.', 'C6.', 'C7.', 'C8.', 'C9.', 'C10', 'C11', 'C12', 'C13', 'C14', 'C15', 'C16', 'C17', 'C18', 'C19', 'C20', 'C21', 'C22', 'C24', 'C25', 'C26', 'C27']\n"
     ]
    }
   ],
   "source": [
    "sub_ids = import_subs(data_path=\"../Data/Processed Data/\")"
   ]
  },
  {
   "cell_type": "code",
   "execution_count": 57,
   "id": "c7f33c48-b564-47ee-b4a8-c93984482bcc",
   "metadata": {},
   "outputs": [],
   "source": [
    "def create_trials_df(sub_ids, data_path=\"../Data/Processed Data/\"):\n",
    "    # Create an empty DataFrame\n",
    "    df = pd.DataFrame(columns=['Subject ID', 'Number of Trials'])\n",
    "\n",
    "    for sub_id in sub_ids:\n",
    "        try: \n",
    "            # Load data\n",
    "            stim_labels = scio.loadmat(data_path + sub_id + '_stim_labels.mat')\n",
    "            stim_labels = stim_labels['stim_labels'].tolist()\n",
    "\n",
    "            # Extract stim_labels\n",
    "            if type(stim_labels[0]) == list and len(stim_labels[0])==1:\n",
    "                stim_labels = [el[0] for el in stim_labels]\n",
    "            else:\n",
    "                stim_labels = stim_labels[0]\n",
    "\n",
    "            # Create a temporary DataFrame and add to main DataFrame  \n",
    "            temp_df = pd.DataFrame({'Subject ID': [sub_id], 'Number of Trials': [len(stim_labels)]})  \n",
    "            df = pd.concat([df, temp_df], ignore_index=True) \n",
    "            \n",
    "        except Exception as e:\n",
    "            print(f\"Error processing sub_id {sub_id}: {e}\")\n",
    "\n",
    "    # Save DataFrame to CSV\n",
    "    df.to_csv('Num_Trials_CLBP_EEG_Data.csv', index=False)\n",
    "\n",
    "    return df\n"
   ]
  },
  {
   "cell_type": "code",
   "execution_count": 58,
   "id": "5cd6dbad-c380-4f4e-96b3-a1bdfe20fe68",
   "metadata": {},
   "outputs": [],
   "source": [
    "df = create_trials_df(sub_ids)"
   ]
  },
  {
   "cell_type": "code",
   "execution_count": 59,
   "id": "a8f404d8-7396-49d1-b3bd-f73babab26c0",
   "metadata": {},
   "outputs": [
    {
     "data": {
      "text/html": [
       "<div>\n",
       "<style scoped>\n",
       "    .dataframe tbody tr th:only-of-type {\n",
       "        vertical-align: middle;\n",
       "    }\n",
       "\n",
       "    .dataframe tbody tr th {\n",
       "        vertical-align: top;\n",
       "    }\n",
       "\n",
       "    .dataframe thead th {\n",
       "        text-align: right;\n",
       "    }\n",
       "</style>\n",
       "<table border=\"1\" class=\"dataframe\">\n",
       "  <thead>\n",
       "    <tr style=\"text-align: right;\">\n",
       "      <th></th>\n",
       "      <th>Subject ID</th>\n",
       "      <th>Number of Trials</th>\n",
       "    </tr>\n",
       "  </thead>\n",
       "  <tbody>\n",
       "    <tr>\n",
       "      <th>0</th>\n",
       "      <td>007</td>\n",
       "      <td>37</td>\n",
       "    </tr>\n",
       "    <tr>\n",
       "      <th>1</th>\n",
       "      <td>008</td>\n",
       "      <td>33</td>\n",
       "    </tr>\n",
       "    <tr>\n",
       "      <th>2</th>\n",
       "      <td>009</td>\n",
       "      <td>77</td>\n",
       "    </tr>\n",
       "    <tr>\n",
       "      <th>3</th>\n",
       "      <td>010</td>\n",
       "      <td>67</td>\n",
       "    </tr>\n",
       "    <tr>\n",
       "      <th>4</th>\n",
       "      <td>013</td>\n",
       "      <td>58</td>\n",
       "    </tr>\n",
       "    <tr>\n",
       "      <th>...</th>\n",
       "      <td>...</td>\n",
       "      <td>...</td>\n",
       "    </tr>\n",
       "    <tr>\n",
       "      <th>63</th>\n",
       "      <td>C22</td>\n",
       "      <td>59</td>\n",
       "    </tr>\n",
       "    <tr>\n",
       "      <th>64</th>\n",
       "      <td>C24</td>\n",
       "      <td>55</td>\n",
       "    </tr>\n",
       "    <tr>\n",
       "      <th>65</th>\n",
       "      <td>C25</td>\n",
       "      <td>56</td>\n",
       "    </tr>\n",
       "    <tr>\n",
       "      <th>66</th>\n",
       "      <td>C26</td>\n",
       "      <td>117</td>\n",
       "    </tr>\n",
       "    <tr>\n",
       "      <th>67</th>\n",
       "      <td>C27</td>\n",
       "      <td>52</td>\n",
       "    </tr>\n",
       "  </tbody>\n",
       "</table>\n",
       "<p>68 rows × 2 columns</p>\n",
       "</div>"
      ],
      "text/plain": [
       "   Subject ID Number of Trials\n",
       "0         007               37\n",
       "1         008               33\n",
       "2         009               77\n",
       "3         010               67\n",
       "4         013               58\n",
       "..        ...              ...\n",
       "63        C22               59\n",
       "64        C24               55\n",
       "65        C25               56\n",
       "66        C26              117\n",
       "67        C27               52\n",
       "\n",
       "[68 rows x 2 columns]"
      ]
     },
     "execution_count": 59,
     "metadata": {},
     "output_type": "execute_result"
    }
   ],
   "source": [
    "df"
   ]
  },
  {
   "cell_type": "code",
   "execution_count": null,
   "id": "801756d5-8d87-43f1-bc26-2fcf991af839",
   "metadata": {},
   "outputs": [],
   "source": []
  },
  {
   "cell_type": "code",
   "execution_count": null,
   "id": "316627f3-d7c7-4c17-8a2b-86a33905c170",
   "metadata": {},
   "outputs": [],
   "source": []
  }
 ],
 "metadata": {
  "kernelspec": {
   "display_name": "Python 3 (ipykernel)",
   "language": "python",
   "name": "python3"
  },
  "language_info": {
   "codemirror_mode": {
    "name": "ipython",
    "version": 3
   },
   "file_extension": ".py",
   "mimetype": "text/x-python",
   "name": "python",
   "nbconvert_exporter": "python",
   "pygments_lexer": "ipython3",
   "version": "3.11.6"
  }
 },
 "nbformat": 4,
 "nbformat_minor": 5
}
