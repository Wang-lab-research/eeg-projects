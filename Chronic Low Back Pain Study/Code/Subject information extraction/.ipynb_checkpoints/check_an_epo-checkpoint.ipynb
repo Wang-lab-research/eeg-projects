{
 "cells": [
  {
   "cell_type": "markdown",
   "id": "22902abc-9a1c-4475-b939-967834e22a4f",
   "metadata": {},
   "source": [
    "# Check an epo.fif file"
   ]
  },
  {
   "cell_type": "code",
   "execution_count": 2,
   "id": "90cbe2d2-77cd-4a41-8142-63e08b9960b2",
   "metadata": {},
   "outputs": [
    {
     "name": "stdout",
     "output_type": "stream",
     "text": [
      "050_preprocessed-epo.fif\n",
      "reading preprocessed-raw file...\n",
      "Reading /home/wanglab/Documents/George Kenefati/EEG Decoding Project/Python code/Preprocessing/Pipeline (for deployment)/../../../Matlab Code/Processed Data/050_preprocessed-epo.fif ...\n",
      "    Found the data of interest:\n",
      "        t =    -200.00 ...     800.00 ms\n",
      "        0 CTF compensation matrices available\n",
      "Not setting metadata\n",
      "60 matching events found\n",
      "No baseline correction applied\n",
      "0 projection items activated\n"
     ]
    },
    {
     "data": {
      "text/html": [
       "<table class=\"table table-hover table-striped table-sm table-responsive small\">\n",
       "    <tr>\n",
       "        <th>Number of events</th>\n",
       "        <td>60</td>\n",
       "    </tr>\n",
       "    <tr>\n",
       "        <th>Events</th>\n",
       "        \n",
       "        <td>1000001: 30<br/>1100001: 30</td>\n",
       "        \n",
       "    </tr>\n",
       "    <tr>\n",
       "        <th>Time range</th>\n",
       "        <td>-0.200 – 0.800 sec</td>\n",
       "    </tr>\n",
       "    <tr>\n",
       "        <th>Baseline</th>\n",
       "        <td>-0.200 – 0.000 sec</td>\n",
       "    </tr>\n",
       "</table>"
      ],
      "text/plain": [
       "<EpochsFIF |  60 events (all good), -0.2 - 0.8 sec, baseline -0.2 – 0 sec, ~11.8 MB, data loaded,\n",
       " '1000001': 30\n",
       " '1100001': 30>"
      ]
     },
     "execution_count": 2,
     "metadata": {},
     "output_type": "execute_result"
    }
   ],
   "source": [
    "import mne\n",
    "import os \n",
    "\n",
    "# subject ID\n",
    "data_dir = \"../../../Matlab Code/Processed Data/\"\n",
    "# data_dir = \"../../../Matlab Code/Processed Data - Needing Marker Repair/\"\n",
    "\n",
    "# sub_num = sys.argv[1]\n",
    "sub_num = \"050\"\n",
    "\n",
    "sub_id=''\n",
    "for file in os.listdir(data_dir):\n",
    "    if file.startswith(sub_num) and file.endswith('epo.fif'):\n",
    "        sub_id = file\n",
    "\n",
    "print(f\"{sub_id}\\nreading preprocessed-raw file...\")\n",
    "epochs = mne.read_epochs(data_dir+sub_id, preload=True)\n",
    "\n",
    "epochs"
   ]
  },
  {
   "cell_type": "code",
   "execution_count": null,
   "id": "b0342757-dd54-46b9-ae12-06a09e642f1d",
   "metadata": {},
   "outputs": [],
   "source": []
  }
 ],
 "metadata": {
  "kernelspec": {
   "display_name": "eeg_env",
   "language": "python",
   "name": "eeg_env"
  },
  "language_info": {
   "codemirror_mode": {
    "name": "ipython",
    "version": 3
   },
   "file_extension": ".py",
   "mimetype": "text/x-python",
   "name": "python",
   "nbconvert_exporter": "python",
   "pygments_lexer": "ipython3",
   "version": "3.9.12"
  }
 },
 "nbformat": 4,
 "nbformat_minor": 5
}
