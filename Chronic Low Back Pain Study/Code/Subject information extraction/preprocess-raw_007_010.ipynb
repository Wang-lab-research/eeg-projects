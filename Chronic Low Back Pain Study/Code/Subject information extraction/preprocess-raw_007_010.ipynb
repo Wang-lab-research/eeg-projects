{
 "cells": [
  {
   "cell_type": "markdown",
   "id": "de2b9af6-5e16-4fcf-8d14-dd1790514ff2",
   "metadata": {
    "tags": []
   },
   "source": [
    "# Preprocess raw EDF data to filtered FIF format"
   ]
  },
  {
   "cell_type": "markdown",
   "id": "aa0c9471-77e3-4869-83bd-510bd47a3562",
   "metadata": {},
   "source": [
    "Define event names in a dictionary"
   ]
  },
  {
   "cell_type": "code",
   "execution_count": 6,
   "id": "bff087f4",
   "metadata": {
    "tags": []
   },
   "outputs": [],
   "source": [
    "import sys\n",
    "import os\n",
    "import numpy as np\n",
    "import mne\n",
    "import matplotlib.pyplot as plt\n",
    "from mne.preprocessing import ICA\n",
    "from pyprep.find_noisy_channels import NoisyChannels\n",
    "from IPython import display\n",
    "import eeglabio\n",
    "\n",
    "%matplotlib inline"
   ]
  },
  {
   "cell_type": "markdown",
   "id": "755165ef-88e5-48af-a904-12fd33e9c65d",
   "metadata": {},
   "source": [
    "Find EDF file based on subject number and load using MNE"
   ]
  },
  {
   "cell_type": "code",
   "execution_count": 7,
   "id": "99e5d0f9-0944-44fa-8612-f4ca3a9a543b",
   "metadata": {},
   "outputs": [],
   "source": [
    "sub_num = \"007\""
   ]
  },
  {
   "cell_type": "code",
   "execution_count": 8,
   "id": "dd571513-5eac-4be2-8e19-2e619f900244",
   "metadata": {
    "tags": []
   },
   "outputs": [
    {
     "name": "stdout",
     "output_type": "stream",
     "text": [
      "007.EEGDATA\n",
      "applying notch filter...\n",
      "Filtering raw data in 1 contiguous segment\n",
      "Setting up band-stop filter from 58 - 62 Hz\n",
      "\n",
      "FIR filter parameters\n",
      "---------------------\n",
      "Designing a one-pass, zero-phase, non-causal bandstop filter:\n",
      "- Windowed time-domain design (firwin) method\n",
      "- Hamming window with 0.0194 passband ripple and 53 dB stopband attenuation\n",
      "- Lower passband edge: 58.00\n",
      "- Lower transition bandwidth: 0.50 Hz (-6 dB cutoff frequency: 57.75 Hz)\n",
      "- Upper passband edge: 62.00 Hz\n",
      "- Upper transition bandwidth: 0.50 Hz (-6 dB cutoff frequency: 62.25 Hz)\n",
      "- Filter length: 3301 samples (6.602 s)\n",
      "\n"
     ]
    },
    {
     "name": "stderr",
     "output_type": "stream",
     "text": [
      "[Parallel(n_jobs=1)]: Done  17 tasks      | elapsed:    0.6s\n"
     ]
    }
   ],
   "source": [
    "data_dir =\"../../../Data/EEG DATA/\"\n",
    "save_dir =\"../../../Data/Processed Data/\"\n",
    "\n",
    "sub_id=''; acq_id=''\n",
    "for folder in os.listdir(data_dir):\n",
    "    save_fname_fif = sub_num[:3] + '_preprocessed-raw.fif'\n",
    "    if folder.startswith(sub_num):# and save_fname_fif not in os.listdir(save_dir):\n",
    "        sub_id=folder\n",
    "        print(sub_id)\n",
    "        print(save_fname_fif)\n",
    "\n",
    "for subfile in os.listdir(os.path.join(data_dir,sub_id)):\n",
    "    if not subfile.endswith(\".edf\"):\n",
    "        continue\n",
    "    else:\n",
    "        acq_id = subfile;\n",
    "\n",
    "# read data, set EOG channel, and drop unused channels\n",
    "print(f\"{sub_id}\\nreading raw file...\")\n",
    "eeg_data_raw_file = os.path.join(data_dir,sub_id,acq_id)\n",
    "\n",
    "raw = mne.io.read_raw_edf(eeg_data_raw_file)\n",
    "\n",
    "# 32 channels\n",
    "if (len(raw.ch_names)>32 and len(raw.ch_names)<64):\n",
    "    if \"X\" in raw.ch_names:\n",
    "        Fp1_eog_flag = 1\n",
    "        del raw\n",
    "        raw = mne.io.read_raw_edf(eeg_data_raw_file, eog=[\"Fp1\"], preload=True)\n",
    "    if \"X\" in raw.ch_names and \"Oth4\" in raw.ch_names:\n",
    "        non_eeg_chs = ['X', 'Y', 'Z', 'Oth4']\n",
    "    elif \"X\" in raw.ch_names:\n",
    "        non_eeg_chs = ['X', 'Y', 'Z']\n",
    "    raw.drop_channels(non_eeg_chs)\n",
    "    custom_montage = mne.channels.read_custom_montage('../../Misc/Montage/Hydro_Neo_Net_32_xyz_cms_No_FID.sfp') \n",
    "    # custom_montage = mne.channels.read_custom_montage('../Misc/Montage/Hydro_Neo_Net_32_xyz_cms.sfp') \n",
    "        \n",
    "# 64 channels\n",
    "else:\n",
    "    wrong_64_mtg_flag = 0\n",
    "    if \"FT7\" in raw.ch_names:\n",
    "        wrong_64_mtg_flag = 1\n",
    "        eog_adj = 4\n",
    "    else:\n",
    "        eog_adj = 5\n",
    "    \n",
    "    Fp1_eog_flag = 0\n",
    "    if \"VEO\" in raw.ch_names:\n",
    "        del raw\n",
    "        raw = mne.io.read_raw_edf(eeg_data_raw_file, eog=[\"VEO\"], preload=True)\n",
    "    elif \"VEOG\" in raw.ch_names:\n",
    "        del raw\n",
    "        raw = mne.io.read_raw_edf(eeg_data_raw_file, eog=[\"VEOG\"], preload=True)\n",
    "    elif \"X\" in raw.ch_names:\n",
    "        Fp1_eog_flag = 1\n",
    "        del raw\n",
    "        raw = mne.io.read_raw_edf(eeg_data_raw_file, eog=[\"Fp1\"], preload=True)\n",
    "    \n",
    "    # display.clear_output(wait=True)\n",
    "\n",
    "    # high level inspection\n",
    "    print(raw.ch_names)\n",
    "    print(len(raw.ch_names))\n",
    "    \n",
    "    # drop non EEG channels\n",
    "    if \"HEOG\" in raw.ch_names:\n",
    "        non_eeg_chs = ['HEOG', 'EKG', 'EMG', 'Trigger']\n",
    "    elif \"HEO\" in raw.ch_names:\n",
    "        non_eeg_chs = ['HEO', 'EKG', 'EMG', 'Trigger']\n",
    "    elif \"X\" in raw.ch_names and \"Oth4\" in raw.ch_names:\n",
    "        non_eeg_chs = ['X', 'Y', 'Z', 'Oth4']\n",
    "    elif \"X\" in raw.ch_names:\n",
    "        non_eeg_chs = ['X', 'Y', 'Z']\n",
    "    elif \"EEG66\" in raw.ch_names:\n",
    "        non_eeg_chs = ['EEG66','EEG67','EEG68','EEG69']\n",
    "    raw.drop_channels(non_eeg_chs)\n",
    "    \n",
    "    # make adjustment for wrong montage subjects\n",
    "    if wrong_64_mtg_flag:\n",
    "        raw.drop_channels(['FT7','FT8','PO5','PO6']) # for C24, 055, 056, 047\n",
    "    \n",
    "    print(raw.ch_names)\n",
    "    print(len(raw.ch_names))\n",
    "    \n",
    "    # load electrode locations \n",
    "    print(f\"{sub_id}\\nsetting custom montage...\")\n",
    "    if wrong_64_mtg_flag:\n",
    "        custom_montage = mne.channels.read_custom_montage('../../Misc/Montage/Hydro_Neo_Net_64_xyz_cms_No_FID_Caps.sfp') \n",
    "    else:\n",
    "        custom_montage = mne.channels.read_custom_montage('../../Misc/Montage/Hydro_Neo_Net_64_xyz_cms_No_FID.sfp') \n",
    "    \n",
    "raw.set_montage(custom_montage)\n",
    "display.clear_output(wait=True)\n",
    "\n",
    "# apply notch filter\n",
    "print(f\"{sub_id}\\napplying notch filter...\")\n",
    "raw = raw.notch_filter(60., notch_widths=3)\n",
    "display.clear_output(wait=True)"
   ]
  },
  {
   "cell_type": "markdown",
   "id": "f2394282-b981-4abe-a35f-cde058ce48d5",
   "metadata": {},
   "source": [
    "#### Crop noisy ends of data!"
   ]
  },
  {
   "cell_type": "code",
   "execution_count": 9,
   "id": "8a3ca30e-5888-40b2-8f3c-26436f89f9f3",
   "metadata": {},
   "outputs": [
    {
     "name": "stderr",
     "output_type": "stream",
     "text": [
      "2023-09-25 15:02:08,428 - qdarkstyle - INFO - QSS file successfully loaded.\n",
      "2023-09-25 15:02:08,429 - qdarkstyle - INFO - Found version patches to be applied.\n",
      "2023-09-25 15:02:08,429 - qdarkstyle - INFO - Found application patches to be applied.\n"
     ]
    },
    {
     "data": {
      "text/html": [
       "<table class=\"table table-hover table-striped table-sm table-responsive small\">\n",
       "    <tr>\n",
       "        <th>Measurement date</th>\n",
       "        \n",
       "        <td>February 13, 2020  11:09:39 GMT</td>\n",
       "        \n",
       "    </tr>\n",
       "    <tr>\n",
       "        <th>Experimenter</th>\n",
       "        \n",
       "        <td>Unknown</td>\n",
       "        \n",
       "    </tr>\n",
       "        <th>Participant</th>\n",
       "        \n",
       "        <td>Unknown</td>\n",
       "        \n",
       "    </tr>\n",
       "    <tr>\n",
       "        <th>Digitized points</th>\n",
       "        \n",
       "        <td>34 points</td>\n",
       "        \n",
       "    </tr>\n",
       "    <tr>\n",
       "        <th>Good channels</th>\n",
       "        <td>31 EEG, 1 EOG</td>\n",
       "    </tr>\n",
       "    <tr>\n",
       "        <th>Bad channels</th>\n",
       "        <td>None</td>\n",
       "    </tr>\n",
       "    <tr>\n",
       "        <th>EOG channels</th>\n",
       "        <td>Fp1</td>\n",
       "    </tr>\n",
       "    <tr>\n",
       "        <th>ECG channels</th>\n",
       "        <td>Not available</td>\n",
       "    \n",
       "    <tr>\n",
       "        <th>Sampling frequency</th>\n",
       "        <td>500.00 Hz</td>\n",
       "    </tr>\n",
       "    \n",
       "    \n",
       "    <tr>\n",
       "        <th>Highpass</th>\n",
       "        <td>0.00 Hz</td>\n",
       "    </tr>\n",
       "    \n",
       "    \n",
       "    <tr>\n",
       "        <th>Lowpass</th>\n",
       "        <td>250.00 Hz</td>\n",
       "    </tr>\n",
       "    \n",
       "    \n",
       "    \n",
       "    <tr>\n",
       "        <th>Filenames</th>\n",
       "        <td>007 Data.edf</td>\n",
       "    </tr>\n",
       "    \n",
       "    <tr>\n",
       "        <th>Duration</th>\n",
       "        <td>00:24:43 (HH:MM:SS)</td>\n",
       "    </tr>\n",
       "</table>"
      ],
      "text/plain": [
       "<RawEDF | 007 Data.edf, 32 x 741501 (1483.0 s), ~181.1 MB, data loaded>"
      ]
     },
     "execution_count": 9,
     "metadata": {},
     "output_type": "execute_result"
    }
   ],
   "source": [
    "# subject 007\n",
    "# raw.plot(start=1483,duration=1,n_channels=10,scalings=0.0005)\n",
    "# raw.crop(tmax=1483) \n",
    "# raw.plot(start=1480,duration=1,n_channels=10,scalings=0.0005)\n",
    "\n",
    "# subject 010\n",
    "# raw.plot(start=1990,duration=1,n_channels=10,scalings=0.0005)\n",
    "# raw.crop(tmax=1997.8)\n",
    "# raw.plot(start=1988,duration=1,n_channels=10,scalings=0.0005)"
   ]
  },
  {
   "cell_type": "code",
   "execution_count": 10,
   "id": "d7044ba1-e9e2-4619-a937-db8f7a21bb0d",
   "metadata": {},
   "outputs": [
    {
     "name": "stdout",
     "output_type": "stream",
     "text": [
      "Channels marked as bad:\n",
      "none\n"
     ]
    }
   ],
   "source": [
    "# apply bandpass filter\n",
    "print(f\"{sub_id}\\napplying bandpass filter...\")\n",
    "raw = raw.filter(l_freq=1., h_freq=100.)\n",
    "display.clear_output(wait=True)\n",
    "\n",
    "# resample data to decrease file size\n",
    "resample_freq = 400\n",
    "print(f\"{sub_id}\\nresampling data from {raw.info['sfreq']} Hz to {resample_freq} Hz...\")\n",
    "raw.resample(resample_freq, npad='auto')\n",
    "display.clear_output(wait=True)\n",
    "\n",
    "# find bad channels automatically\n",
    "print(f\"{sub_id}\\nremoving bad channels...\")\n",
    "raw_pyprep = NoisyChannels(raw, random_state=42)\n",
    "raw_pyprep.find_all_bads(ransac=False, channel_wise=False, max_chunk_size=None)\n",
    "raw.info['bads'] = raw_pyprep.get_bads()\n",
    "raw.interpolate_bads(reset_bads=True)\n",
    "display.clear_output(wait=True)\n",
    "\n",
    "# re-reference channels\n",
    "print(f\"{sub_id}\\nre-referencing channels to average...\")\n",
    "raw, _ = mne.set_eeg_reference(raw, ref_channels='average', copy=True)\n",
    "display.clear_output(wait=True)\n",
    "\n",
    "# fit ICA \n",
    "print(f\"{sub_id}\\nfitting ICA...\")\n",
    "num_goods = len(raw.ch_names) - len(raw.info['bads']) - 1 # adjust for EOG\n",
    "ica = ICA(n_components=int(np.floor(num_goods/2)), random_state=42, max_iter='auto')\n",
    "ica.fit(raw)\n",
    "display.clear_output(wait=True)\n",
    "\n",
    "# find EOG artifacts\n",
    "print(f\"{sub_id}\\nfinding EOG artifacts...\")\n",
    "\n",
    "# ica.find_bads_eog is BROKEN. alt: exclude first two components\n",
    "eog_indices, eog_scores = ica.find_bads_eog(raw,\n",
    "                                            threshold='auto')\n",
    "ica.exclude = eog_indices\n",
    "# ica.exclude = [0,1]\n",
    "\n",
    "display.clear_output(wait=True)\n",
    "\n",
    "# apply ICA\n",
    "print(f\"{sub_id}\\napplying ICA...\")\n",
    "ica.apply(raw)\n",
    "display.clear_output(wait=True)\n",
    "\n",
    "# save copy of data\n",
    "print(f\"Saving processed data as '{save_fname_fif}'...\")\n",
    "\n",
    "if \"VEO\" in raw.ch_names:\n",
    "    raw.drop_channels(\"VEO\")\n",
    "elif \"VEOG\" in raw.ch_names:\n",
    "    raw.drop_channels(\"VEOG\")\n",
    "elif Fp1_eog_flag:\n",
    "    raw.set_channel_types({'Fp1': 'eeg'})\n",
    "    raw.set_montage(custom_montage)\n",
    "\n",
    "# set_dir = '../../SET Data/'\n",
    "raw.save(save_dir+save_fname_fif, \n",
    "         verbose=True, overwrite=True)\n",
    "# mne.export.export_raw(set_dir+save_fname_fif[:-4]+'.set', \n",
    "#                       raw, overwrite=True, verbose=True)\n",
    "display.clear_output(wait=True)\n",
    "\n",
    "# high level inspection\n",
    "print(raw.ch_names)\n",
    "print('\\nNumber of remaining channels: ',len(raw.ch_names) - len(raw.info['bads']))\n",
    "print('\\nDropped channels: ',raw.info['bads'])\n",
    "\n",
    "print(\"Raw data preprocessing complete.\")\n",
    "\n",
    "display.clear_output(wait=True)"
   ]
  },
  {
   "cell_type": "code",
   "execution_count": null,
   "id": "605c6ca3-7721-4037-98da-deb62c899030",
   "metadata": {},
   "outputs": [],
   "source": []
  }
 ],
 "metadata": {
  "kernelspec": {
   "display_name": "mne",
   "language": "python",
   "name": "mne"
  },
  "language_info": {
   "codemirror_mode": {
    "name": "ipython",
    "version": 3
   },
   "file_extension": ".py",
   "mimetype": "text/x-python",
   "name": "python",
   "nbconvert_exporter": "python",
   "pygments_lexer": "ipython3",
   "version": "3.11.6"
  }
 },
 "nbformat": 4,
 "nbformat_minor": 5
}
