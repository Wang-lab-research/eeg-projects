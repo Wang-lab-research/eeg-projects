{
 "cells": [
  {
   "cell_type": "markdown",
   "id": "2947c985-edb4-4e37-ac38-e2abc335d541",
   "metadata": {
    "tags": []
   },
   "source": [
    "## Compute source time course (STC) from Raw and Epochs data object and save as pickle for later analyses\n",
    "#### Input: *_eyes_open-raw.fif, *_eyes_closed-raw.fif, *-epo.fif\n",
    "####  Output: *_label_ts.pkl"
   ]
  },
  {
   "cell_type": "code",
   "execution_count": 3,
   "id": "93bc0409-9fd5-479d-8dde-25a747c13efe",
   "metadata": {
    "scrolled": true,
    "tags": []
   },
   "outputs": [
    {
     "name": "stdout",
     "output_type": "stream",
     "text": [
      "0 files missing from root.txt in C:\\Users\\EISERK01\\mne_data\\MNE-fsaverage-data\n",
      "0 files missing from bem.txt in C:\\Users\\EISERK01\\mne_data\\MNE-fsaverage-data\\fsaverage\n"
     ]
    }
   ],
   "source": [
    "import os\n",
    "from pathlib import Path\n",
    "import sys\n",
    "sys.path.append(\"C:/Users/EISERK01/eeg-projects/Code/eeg_toolkit\")\n",
    "from eeg_toolkit import utils, preprocess\n",
    "from eeg_toolkit import source_localization as sl\n",
    "import mne"
   ]
  },
  {
   "cell_type": "markdown",
   "id": "a6196feb",
   "metadata": {},
   "source": [
    "### Paths"
   ]
  },
  {
   "cell_type": "code",
   "execution_count": 5,
   "id": "4b57e63e",
   "metadata": {},
   "outputs": [
    {
     "name": "stdout",
     "output_type": "stream",
     "text": [
      "[-2.5,0.0,2.5]\n"
     ]
    }
   ],
   "source": [
    "# Time window for source localization computation\n",
    "times_tup,time_win_path = preprocess.get_time_window(5)\n",
    "\n",
    "# Average dipoles, always true unless you have subject-specific MRI and know what you're doing\n",
    "average_dipoles = True\n",
    "\n",
    "# Save inverse. True if you want to plot the brain model with AEC connectivity\n",
    "save_inv = True"
   ]
  },
  {
   "cell_type": "code",
   "execution_count": 6,
   "id": "842b367f-9d3c-4436-868f-6fb7ffe7b719",
   "metadata": {},
   "outputs": [],
   "source": [
    "# Read in processed raw data\n",
    "data_dir = Path(\"../../Data\")\n",
    "processed_data_path = data_dir / 'Processed Data'\n",
    "epo_path = data_dir / time_win_path"
   ]
  },
  {
   "cell_type": "markdown",
   "id": "3b38c500",
   "metadata": {},
   "source": [
    "### Subject IDs"
   ]
  },
  {
   "cell_type": "code",
   "execution_count": 7,
   "id": "6525eacb-e00a-4c11-aad8-c3086d8b6a48",
   "metadata": {},
   "outputs": [
    {
     "name": "stdout",
     "output_type": "stream",
     "text": [
      "['023', '029', '034', '041', 'C2.', 'C3.', 'C6.', 'C7.', 'C9.', 'C10', 'C11', 'C12', 'C13', 'C14', 'C15', 'C16', 'C17', 'C18', 'C19', 'C24', 'C25', 'C26', 'C27']\n"
     ]
    }
   ],
   "source": [
    "# viable subjects\n",
    "sub_ids = ['018', '020', '021', '022', '023', '024', '027', '029','031', '032', '033', '034', '035', '036', '037', '038', '039', '040', '041', '042', '043', '044', '045', '046', '048', '049', '050', '052', '056', '057', '059', 'C2.', 'C3.', 'C6.', 'C7.', 'C9.', 'C10', 'C11', 'C12', 'C13', 'C14', 'C15', 'C16', 'C17', 'C18', 'C19', 'C24', 'C25', 'C26', 'C27']  \n",
    "    \n",
    "print(sub_ids)"
   ]
  },
  {
   "cell_type": "code",
   "execution_count": 8,
   "id": "efbb08ac",
   "metadata": {},
   "outputs": [],
   "source": [
    "# All CP and HC subs\n",
    "sub_ids_CP = [  \n",
    "    '018',  \n",
    "    '020',  \n",
    "    '021',  \n",
    "    '027',  \n",
    "    '031',  \n",
    "    '032',  \n",
    "    '033',  \n",
    "    '035',  \n",
    "    '036',  \n",
    "    '037',  \n",
    "    '038',  \n",
    "    '040',  \n",
    "    '043',  \n",
    "    '044',  \n",
    "    '048',  \n",
    "    '049',  \n",
    "    '050',  \n",
    "    '057',  \n",
    "    '059',\n",
    "]\n",
    "\n",
    "sub_ids_HC = [\n",
    "    'C10',  \n",
    "    'C11',  \n",
    "    'C12',  \n",
    "    'C13',  \n",
    "    'C14',  \n",
    "    'C15',  \n",
    "    'C16',  \n",
    "    'C17',  \n",
    "    'C18',  \n",
    "    'C19',  \n",
    "    'C2.',  \n",
    "    'C24',  \n",
    "    'C25',  \n",
    "    'C26',  \n",
    "    'C27',  \n",
    "    'C3.',  \n",
    "    'C6.',  \n",
    "    'C7.',  \n",
    "    'C9.'   \n",
    "]\n",
    " \n",
    "\n",
    "# CP Subs with widespread pain\n",
    "sub_ids_WSP = [\n",
    "    '018',\n",
    "    '022',\n",
    "    '024',\n",
    "    '031',\n",
    "    '032',\n",
    "    '034',\n",
    "    '036',\n",
    "    '039',\n",
    "    '040',\n",
    "    '045',\n",
    "    '046',\n",
    "    '052',\n",
    "]\n",
    "\n",
    "# CP Subs with localized pain\n",
    "sub_ids_LP = [  \n",
    "    '020',  \n",
    "    '021',  \n",
    "    '023',  \n",
    "    '029',  \n",
    "    '031',  \n",
    "    '037',  \n",
    "    '041',  \n",
    "    '042',  \n",
    "    '048',  \n",
    "    '049',  \n",
    "    '050',  \n",
    "    '056'  \n",
    "]  \n",
    "\n",
    " \n",
    "sub_ids = sub_ids_CP + sub_ids_HC + sub_ids_WSP + sub_ids_LP\n",
    "\n",
    "# keep only unique\n",
    "sub_ids = list(set(sub_ids))"
   ]
  },
  {
   "cell_type": "code",
   "execution_count": 9,
   "id": "7c3a8fdb-dbfa-42b6-907d-88061fab5ea5",
   "metadata": {},
   "outputs": [
    {
     "name": "stdout",
     "output_type": "stream",
     "text": [
      "Chronics: 31\n",
      "Controls: 19\n",
      "Total: 50\n"
     ]
    }
   ],
   "source": [
    "print(f\"Chronics: {len([el for el in sub_ids if el.startswith('0')])}\")\n",
    "print(f\"Controls: {len([el for el in sub_ids if el.startswith('C')])}\")\n",
    "print(f\"Total: {len(sub_ids)}\")"
   ]
  },
  {
   "cell_type": "markdown",
   "id": "334c6e28",
   "metadata": {},
   "source": [
    "#### Look for subjects who do not have EO or EC cropped data"
   ]
  },
  {
   "cell_type": "code",
   "execution_count": 12,
   "id": "e89000a3",
   "metadata": {},
   "outputs": [
    {
     "name": "stdout",
     "output_type": "stream",
     "text": [
      "[]\n",
      "['C14', 'C27', 'C15', '020', '044', '036', '042', '029', '023', 'C10', '059', 'C9.', '039', '022', '034', 'C6.', '037', '041', '046', '024', '032', '033', 'C17', 'C24', '052', '056', '040', 'C16', '018', 'C13', '050', '031', 'C7.', '048', 'C19', '057', 'C3.', '043', 'C2.', '049', 'C18', 'C26', 'C11', '035', '038', '045', 'C12', '021', 'C25', '027']\n"
     ]
    }
   ],
   "source": [
    "# For edge cases of subjects missing eyes open or eyes closed data\n",
    "no_eyes_open = []\n",
    "yes_eyes_open = []\n",
    "\n",
    "for sub_id in sub_ids:\n",
    "    if not os.path.exists(os.path.join(processed_data_path, f\"{sub_id}_eyes_open-epochs.fif\")):\n",
    "        no_eyes_open.append(sub_id)\n",
    "        print(f\"Subject: {sub_id} missing eyes open epochs data\")\n",
    "    else:\n",
    "        yes_eyes_open.append(sub_id)\n",
    "        \n",
    "print(no_eyes_open)\n",
    "print(yes_eyes_open)"
   ]
  },
  {
   "cell_type": "code",
   "execution_count": 13,
   "id": "168d00bf-c009-4143-a71d-c7c200ba148b",
   "metadata": {
    "tags": []
   },
   "outputs": [],
   "source": [
    "# Get stc only from selected labels\n",
    "roi_names = [# Left\n",
    "             'rostralanteriorcingulate-lh', # Left Rostral ACC\n",
    "             'caudalanteriorcingulate-lh', # Left Caudal ACC\n",
    "             'postcentral-lh', # Left S1,\n",
    "             'insula-lh', 'superiorfrontal-lh', # Left Insula, Left DL-PFC,\n",
    "             'medialorbitofrontal-lh', # Left Medial-OFC\n",
    "             # Right\n",
    "             'rostralanteriorcingulate-rh', # Right Rostral ACC\n",
    "             'caudalanteriorcingulate-rh', # Right Caudal ACC\n",
    "             'postcentral-rh', # , Right S1\n",
    "             'insula-rh', 'superiorfrontal-rh', # Right Insula, Right DL-PFC\n",
    "             'medialorbitofrontal-rh', # Right Medial-OFC\n",
    "]"
   ]
  },
  {
   "cell_type": "markdown",
   "id": "03df3db5",
   "metadata": {},
   "source": [
    "### Compute STCs"
   ]
  },
  {
   "cell_type": "code",
   "execution_count": 15,
   "id": "80ffacc1",
   "metadata": {},
   "outputs": [
    {
     "name": "stdout",
     "output_type": "stream",
     "text": [
      "Source Localization Method: MNE\n",
      "Using up to 1558 segments\n",
      "Number of samples used : 124640\n",
      "[done]\n",
      "Computing rank from covariance with rank=None\n",
      "    Using tolerance 1.1e-13 (2.2e-16 eps * 64 dim * 7.7  max singular value)\n",
      "    Estimated rank (eeg): 61\n",
      "    EEG: rank 61 computed from 64 data channels with 0 projectors\n",
      "0 projection items activated\n",
      "    EEG regularization : 0.1\n",
      "Computing rank from covariance with rank={'eeg': 61}\n",
      "    Setting small EEG eigenvalues to zero (without PCA)\n"
     ]
    },
    {
     "name": "stderr",
     "output_type": "stream",
     "text": [
      "C:\\Users/EISERK01/eeg-projects/Code/eeg_toolkit\\eeg_toolkit\\source_localization.py:342: RuntimeWarning: This filename (C:/Users/EISERK01/eeg-projects/Chronic Low Back Pain Study/Data/Processed Data/027_eyes_open-epochs.fif) does not conform to MNE naming conventions. All epochs files should end with -epo.fif, -epo.fif.gz, _epo.fif or _epo.fif.gz\n",
      "  raw_eo_epochs = mne.read_epochs(raw_eo_epochs_path)\n",
      "C:\\Users/EISERK01/eeg-projects/Code/eeg_toolkit\\eeg_toolkit\\source_localization.py:342: RuntimeWarning: The events passed to the Epochs constructor are not chronologically ordered.\n",
      "  raw_eo_epochs = mne.read_epochs(raw_eo_epochs_path)\n",
      "C:\\Users/EISERK01/eeg-projects/Code/eeg_toolkit\\eeg_toolkit\\source_localization.py:342: RuntimeWarning: The events passed to the Epochs constructor are not chronologically ordered.\n",
      "  raw_eo_epochs = mne.read_epochs(raw_eo_epochs_path)\n",
      "C:\\Users/EISERK01/eeg-projects/Code/eeg_toolkit\\eeg_toolkit\\source_localization.py:343: RuntimeWarning: An average reference projection was already added. The data has been left untouched.\n",
      "  raw_eo_epochs.set_eeg_reference(\"average\", projection=True)\n"
     ]
    }
   ],
   "source": [
    "nan_subjects=[]\n",
    "zscored_epochs_save_path = None\n",
    "EC_resting_save_path = None\n",
    "EO_resting_save_path = None\n",
    "\n",
    "methods = [\n",
    "    'MNE',\n",
    "    # 'dSPM',\n",
    "    ]\n",
    "\n",
    "for sub_id in sub_ids: \n",
    "    \n",
    "    for save_stc_mat in [\n",
    "        False,\n",
    "        # True,\n",
    "        ]:    \n",
    "        for method in methods:\n",
    "            print(f\"Source Localization Method: {method}\")                          \n",
    "\n",
    "            # Paths\n",
    "            stc_path = (data_dir / f'Source Time Courses ({method}) (MAT)' \n",
    "                        if save_stc_mat \n",
    "                        else data_dir / f'Source Time Courses ({method})')\n",
    "                           \n",
    "            EO_epochs_save_path = stc_path / \"Eyes Open\"\n",
    "            save_paths = [EO_epochs_save_path] \n",
    "            [os.makedirs(path) for path in save_paths if not os.path.exists(path)]\n",
    "            \n",
    "            # No resting if exporting to MAT\n",
    "            if save_stc_mat:\n",
    "                Epochs_bool = True\n",
    "                EC_bool = False\n",
    "                EO_bool = False\n",
    "            else:\n",
    "                Epochs_bool = True\n",
    "                EO_bool = False # TODO: re-compute for just epochs with noise_cov instead of \n",
    "                # just noise var\n",
    "\n",
    "            # Compute source localization for subject and save \n",
    "            label_ts_All_Conds, sub_id_if_nan = sl.to_source(sub_id,\n",
    "                                                             processed_data_path,\n",
    "                                                             zscored_epochs_save_path,\n",
    "                                                             EC_resting_save_path,\n",
    "                                                             EO_resting_save_path,\n",
    "                                                             EO_epochs_save_path,\n",
    "                                                             roi_names,\n",
    "                                                             times_tup,\n",
    "                                                             method=method,\n",
    "                                                             return_zepochs = False,\n",
    "                                                             return_EC_resting = False,\n",
    "                                                             return_EO_resting = False,\n",
    "                                                             return_EO_epochs = True,\n",
    "                                                             average_dipoles=average_dipoles,\n",
    "                                                             save_stc_mat=save_stc_mat,\n",
    "                                                             save_inv=save_inv,)\n",
    "            utils.clear_display()\n",
    "            \n",
    "            # add nan subjects to list if not None\n",
    "            if sub_id_if_nan is not None:\n",
    "                nan_subjects.append(sub_id_if_nan)"
   ]
  }
 ],
 "metadata": {
  "kernelspec": {
   "display_name": "Python 3",
   "language": "python",
   "name": "python3"
  },
  "language_info": {
   "codemirror_mode": {
    "name": "ipython",
    "version": 3
   },
   "file_extension": ".py",
   "mimetype": "text/x-python",
   "name": "python",
   "nbconvert_exporter": "python",
   "pygments_lexer": "ipython3",
   "version": "3.11.8"
  }
 },
 "nbformat": 4,
 "nbformat_minor": 5
}
