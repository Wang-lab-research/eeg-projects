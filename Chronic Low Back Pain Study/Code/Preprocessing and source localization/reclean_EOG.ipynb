{
 "cells": [
  {
   "cell_type": "markdown",
   "metadata": {},
   "source": [
    "# Re-clean Subs with EOG artifact either with EOG Channel or ICA components  "
   ]
  },
  {
   "cell_type": "code",
   "execution_count": 1,
   "metadata": {},
   "outputs": [],
   "source": [
    "import os\n",
    "import mne\n",
    "from pathlib import Path\n",
    "import numpy as np\n",
    "import preprocess\n",
    "from mne.preprocessing import ICA"
   ]
  },
  {
   "cell_type": "code",
   "execution_count": 2,
   "metadata": {},
   "outputs": [],
   "source": [
    "# Paths\n",
    "data_path = Path(\"../../Data\")\n",
    "processed_data_path = data_path / 'Processed Data'\n",
    "resting_save_path = data_path / 'Eyes Open Re-cleaned'\n",
    "os.makedirs(resting_save_path, exist_ok=True)"
   ]
  },
  {
   "cell_type": "code",
   "execution_count": 6,
   "metadata": {},
   "outputs": [],
   "source": [
    "sub_ids = [\n",
    "    '018',\n",
    "    '020',\n",
    "    '021',\n",
    "    '032',\n",
    "    '037',\n",
    "    '044',\n",
    "    'C2.',\n",
    "    'C3.',\n",
    "    'C6.',\n",
    "    'C11',\n",
    "    'C19',\n",
    "    'C24',\n",
    "    'C26'\n",
    "]"
   ]
  },
  {
   "cell_type": "markdown",
   "metadata": {},
   "source": [
    "## Load raws"
   ]
  },
  {
   "cell_type": "code",
   "execution_count": 7,
   "metadata": {},
   "outputs": [],
   "source": [
    "check_done = False\n",
    "check_done = True"
   ]
  },
  {
   "cell_type": "code",
   "execution_count": 9,
   "metadata": {},
   "outputs": [
    {
     "name": "stdout",
     "output_type": "stream",
     "text": [
      "Subject 018 data exists, skipping...\n",
      "Subject 020 data exists, skipping...\n",
      "Subject 021 data exists, skipping...\n",
      "Subject 032 data exists, skipping...\n",
      "Subject 037 data exists, skipping...\n",
      "Subject 044 data exists, skipping...\n",
      "Subject C2. data exists, skipping...\n",
      "Subject C3. data exists, skipping...\n",
      "Subject C6. data exists, skipping...\n",
      "Subject C11 data exists, skipping...\n",
      "Subject C19 data exists, skipping...\n",
      "Subject C24 data exists, skipping...\n",
      "Subject C26 data exists, skipping...\n"
     ]
    }
   ],
   "source": [
    "for sub_id in sub_ids:\n",
    "    # Check if sub is done, if so, skip\n",
    "    fname_fif = f\"{sub_id}_eyes_open-raw.fif\"\n",
    "    fname_vhdr = f\"{sub_id}_eyes_open.vhdr\"\n",
    "    if check_done and os.path.exists(resting_save_path / fname_vhdr) and \\\n",
    "        os.path.exists(resting_save_path / fname_fif):\n",
    "        print(f'Subject {sub_id} data exists, skipping...')\n",
    "        continue\n",
    "    \n",
    "    # Load processed but with EOG artifacts still present\n",
    "    raw = mne.io.read_raw(processed_data_path/ f\"{sub_id}_eyes_open-raw.fif\",\n",
    "                          preload=True)\n",
    "\n",
    "    # fit ICA\n",
    "    print(f\"{sub_id}\\nfitting ICA...\")\n",
    "    num_goods = len(raw.ch_names) - len(raw.info[\"bads\"]) - 1  # adjust for EOG\n",
    "    ica = ICA(\n",
    "        n_components=int(np.floor(num_goods / 2)),\n",
    "        random_state=42,\n",
    "        max_iter=\"auto\",\n",
    "    )\n",
    "    ica.fit(raw)\n",
    "    # clear_display()\n",
    "    \n",
    "    # find EOG artifacts\n",
    "    # ica.plot_sources(raw)\n",
    "    ica.exclude = [0,1]\n",
    "\n",
    "    # apply ICA\n",
    "    print(f\"{sub_id}\\napplying ICA...\")\n",
    "    ica.apply(raw)\n",
    "    # clear_display()\n",
    "    \n",
    "    # Export to vhdr in the same folder\n",
    "    raw.export(resting_save_path / fname_vhdr, overwrite=True)\n",
    "    raw.save(resting_save_path / fname_fif, overwrite=True)\n",
    "    \n",
    "    # break"
   ]
  },
  {
   "cell_type": "code",
   "execution_count": null,
   "metadata": {},
   "outputs": [],
   "source": []
  }
 ],
 "metadata": {
  "kernelspec": {
   "display_name": "Python 3",
   "language": "python",
   "name": "python3"
  },
  "language_info": {
   "codemirror_mode": {
    "name": "ipython",
    "version": 3
   },
   "file_extension": ".py",
   "mimetype": "text/x-python",
   "name": "python",
   "nbconvert_exporter": "python",
   "pygments_lexer": "ipython3",
   "version": "3.11.7"
  }
 },
 "nbformat": 4,
 "nbformat_minor": 2
}
