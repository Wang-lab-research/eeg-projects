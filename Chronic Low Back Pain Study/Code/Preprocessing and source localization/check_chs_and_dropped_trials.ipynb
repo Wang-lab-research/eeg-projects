{
 "cells": [
  {
   "cell_type": "code",
   "execution_count": 20,
   "id": "93bc0409-9fd5-479d-8dde-25a747c13efe",
   "metadata": {
    "scrolled": true,
    "tags": []
   },
   "outputs": [],
   "source": [
    "import os\n",
    "from pathlib import Path\n",
    "import scipy.io as sio\n",
    "import sys\n",
    "from tabulate import tabulate\n",
    "sys.path.append('/home/wanglab/Documents/George Kenefati/Code/eeg_toolkit/')\n",
    "import os\n",
    "import mne\n",
    "from eeg_toolkit import utils, preprocess, source_localization"
   ]
  },
  {
   "cell_type": "markdown",
   "id": "a6196feb",
   "metadata": {},
   "source": [
    "### Paths"
   ]
  },
  {
   "cell_type": "code",
   "execution_count": 2,
   "id": "4b57e63e",
   "metadata": {},
   "outputs": [
    {
     "name": "stdout",
     "output_type": "stream",
     "text": [
      "[-2.5,0.0,2.5]\n"
     ]
    }
   ],
   "source": [
    "# Time window\n",
    "times_tup,time_win_path = preprocess.get_time_window(5)"
   ]
  },
  {
   "cell_type": "code",
   "execution_count": 3,
   "id": "842b367f-9d3c-4436-868f-6fb7ffe7b719",
   "metadata": {},
   "outputs": [],
   "source": [
    "# Read in processed raw data\n",
    "data_dir = Path(\"../../Data\")\n",
    "processed_data_path = data_dir / 'Processed Data'"
   ]
  },
  {
   "cell_type": "markdown",
   "id": "3b38c500",
   "metadata": {},
   "source": [
    "### Subject IDs"
   ]
  },
  {
   "cell_type": "code",
   "execution_count": 4,
   "id": "6525eacb-e00a-4c11-aad8-c3086d8b6a48",
   "metadata": {},
   "outputs": [
    {
     "name": "stdout",
     "output_type": "stream",
     "text": [
      "['018', '020', '021', '022', '023', '024', '027', '029', '030', '031', '032', '033', '034', '035', '036', '037', '038', '039', '040', '041', '042', '043', '044', '045', '046', '048', '049', '050', '051', '052', '053', '054', '055', '056', '057', '058', '059', 'C1.', 'C2.', 'C3.', 'C5.', 'C6.', 'C7.', 'C8.', 'C9.', 'C10', 'C11', 'C12', 'C13', 'C14', 'C15', 'C16', 'C17', 'C18', 'C19', 'C20', 'C21', 'C22', 'C24', 'C25', 'C26', 'C27']\n"
     ]
    }
   ],
   "source": [
    "# viable subjects\n",
    "sub_ids = utils.import_subs(os.path.join(data_dir),'sub_ids.txt')\n",
    "# select only 64ch subs and turn into set\n",
    "sub_ids = sub_ids[7:]\n",
    "print(sub_ids)"
   ]
  },
  {
   "cell_type": "code",
   "execution_count": 5,
   "id": "7c3a8fdb-dbfa-42b6-907d-88061fab5ea5",
   "metadata": {},
   "outputs": [
    {
     "name": "stdout",
     "output_type": "stream",
     "text": [
      "Chronics: 37\n",
      "Controls: 25\n",
      "Total: 62\n"
     ]
    }
   ],
   "source": [
    "print(f\"Chronics: {len([el for el in sub_ids if el.startswith('0')])}\")\n",
    "print(f\"Controls: {len([el for el in sub_ids if el.startswith('C')])}\")\n",
    "print(f\"Total: {len(sub_ids)}\")"
   ]
  },
  {
   "cell_type": "markdown",
   "id": "03df3db5",
   "metadata": {},
   "source": [
    "### Loop"
   ]
  },
  {
   "cell_type": "code",
   "execution_count": 6,
   "id": "a5af6ba7",
   "metadata": {},
   "outputs": [],
   "source": [
    "stim_dict = {\n",
    "    3: 'hand 256 mN',\n",
    "    4: 'hand 128 mN',\n",
    "    5: 'hand 32 mN',\n",
    "    6: 'back 256 mN',\n",
    "    7: 'back 128 mN',\n",
    "    8: 'back 32 mN',\n",
    "}"
   ]
  },
  {
   "cell_type": "code",
   "execution_count": 7,
   "id": "d5f843c4",
   "metadata": {},
   "outputs": [],
   "source": [
    "# Define headers  \n",
    "headers = ['Data', 'Value']  "
   ]
  },
  {
   "cell_type": "code",
   "execution_count": 22,
   "id": "80ffacc1",
   "metadata": {},
   "outputs": [],
   "source": [
    "for sub_id in sub_ids: \n",
    "    # print(\"Subject: \", sub_id)\n",
    "    # load raw \n",
    "    # raw = mne.io.read_raw_fif(os.path.join(processed_data_path, f\"{sub_id}_preprocessed-raw.fif\"))\n",
    "    \n",
    "    # load epochs\n",
    "    epochs = mne.read_epochs(os.path.join(processed_data_path, f\"{sub_id}_preprocessed-epo.fif\"))\n",
    "    \n",
    "    # load dropped trials\n",
    "    # drop_log = sio.loadmat(os.path.join(processed_data_path, f\"{sub_id}_drop_log.mat\"))\n",
    "    # dropped_indices = drop_log['drop_log'][0] if len(drop_log['drop_log']) > 0 else []\n",
    "\n",
    "    # # load stim_labels\n",
    "    stim_labels = sio.loadmat(os.path.join(processed_data_path, f\"{sub_id}_stim_labels.mat\"))\n",
    "    stim_labels = stim_labels['stim_labels'][0]\n",
    "    \n",
    "    # # count dropped trials for each stimulus type  \n",
    "    # dropped_counts = {key: 0 for key in stim_dict.keys()}  \n",
    "    # for index in dropped_indices:  \n",
    "    #     print(dropped_counts)\n",
    "    #     dropped_counts[stim_labels[index]] += 1  \n",
    "      \n",
    "    # create table using tabulate with bads from raw and ratio of dropped to total trials    \n",
    "    # bads = len(list(raw.info['bads']))    \n",
    "    # drop_ratio = f\"{len(dropped_indices)} / {len(epochs)}\"    \n",
    "    table = [['Subject', sub_id],  \n",
    "            #  ['# Bad Channels', bads],  \n",
    "            #  ['Trial Drop Ratio', drop_ratio],\n",
    "             ['Length of stim labels', len(stim_labels)],\n",
    "             ['Length of Epochs', len(epochs)],\n",
    "             ['Matching length?', len(stim_labels) == len(epochs)],  \n",
    "             ]    \n",
    "    \n",
    "    if len(stim_labels) != len(epochs):\n",
    "        print(tabulate(table, headers=headers),\"\\n\\n\")   "
   ]
  },
  {
   "cell_type": "code",
   "execution_count": null,
   "id": "ebb1ded5",
   "metadata": {},
   "outputs": [],
   "source": []
  }
 ],
 "metadata": {
  "kernelspec": {
   "display_name": "Python 3",
   "language": "python",
   "name": "python3"
  },
  "language_info": {
   "codemirror_mode": {
    "name": "ipython",
    "version": 3
   },
   "file_extension": ".py",
   "mimetype": "text/x-python",
   "name": "python",
   "nbconvert_exporter": "python",
   "pygments_lexer": "ipython3",
   "version": "3.11.7"
  }
 },
 "nbformat": 4,
 "nbformat_minor": 5
}
