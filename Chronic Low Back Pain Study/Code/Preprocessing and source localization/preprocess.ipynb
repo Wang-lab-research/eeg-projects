{
 "cells": [
  {
   "cell_type": "markdown",
   "id": "2947c985-edb4-4e37-ac38-e2abc335d541",
   "metadata": {
    "tags": []
   },
   "source": [
    "# Turn raw EEG data into processed (epochs,eyes open, eyes closed, and noise) segments\n",
    "#### Input: *.edf with recording data and the .csv containing timestamps for resting recording\n",
    "####  Output: *-preprocessed-epo.fif, *-resting_EC-raw.fif, *resting_EO-raw.fif, *-noise_EO-raw.fif"
   ]
  },
  {
   "cell_type": "code",
   "execution_count": 1,
   "id": "93bc0409-9fd5-479d-8dde-25a747c13efe",
   "metadata": {
    "scrolled": true,
    "tags": []
   },
   "outputs": [
    {
     "name": "stdout",
     "output_type": "stream",
     "text": [
      "0 files missing from root.txt in /home/wanglab/mne_data/MNE-fsaverage-data\n",
      "0 files missing from bem.txt in /home/wanglab/mne_data/MNE-fsaverage-data/fsaverage\n"
     ]
    }
   ],
   "source": [
    "import os\n",
    "import mne\n",
    "import pandas as pd\n",
    "from pathlib import Path\n",
    "import sys\n",
    "sys.path.append('/home/wanglab/Documents/George Kenefati/Code/eeg_toolkit/')\n",
    "# sys.path.append('/media/sb10flpc002/08e63286-43ce-4f61-9491-1ed048c96f20/Rachel Wu/eeg-projects/Code/eeg_toolkit/')\n",
    "from eeg_toolkit import utils, preprocess, source_localization"
   ]
  },
  {
   "cell_type": "code",
   "execution_count": 28,
   "id": "842b367f-9d3c-4436-868f-6fb7ffe7b719",
   "metadata": {},
   "outputs": [
    {
     "name": "stdout",
     "output_type": "stream",
     "text": [
      "[-2.5,0.0,2.5]\n"
     ]
    }
   ],
   "source": [
    "# Settings\n",
    "times_tup,time_win_path = preprocess.get_time_window(5)\n",
    "\n",
    "# Read in data\n",
    "data_dir = Path('../../Data/')\n",
    "data_path = data_dir / 'EEG DATA/'\n",
    "processed_data_path = data_dir / 'Processed Data/'\n",
    "csv_path = data_dir / 'Eyes Timestamps/'\n",
    "epo_path = processed_data_path / time_win_path\n",
    "save_path_resting = processed_data_path\n",
    "\n",
    "save_paths=[save_path_resting,]\n",
    "[os.makedirs(path, exist_ok=True) for path in save_paths];"
   ]
  },
  {
   "cell_type": "code",
   "execution_count": 24,
   "id": "6525eacb-e00a-4c11-aad8-c3086d8b6a48",
   "metadata": {},
   "outputs": [
    {
     "name": "stdout",
     "output_type": "stream",
     "text": [
      "['007', '008', '009', '010', '013', '014', '015', '018', '020', '021', '022', '023', '024', '027', '029', '030', '031', '032', '033', '034', '035', '036', '037', '038', '039', '040', '041', '042', '043', '044', '045', '046', '048', '049', '050', '051', '052', '053', '054', '055', '056', '057', '058', 'C1.', 'C2.', 'C3.', 'C5.', 'C6.', 'C7.', 'C8.', 'C9.', 'C10', 'C11', 'C12', 'C13', 'C14', 'C15', 'C16', 'C17', 'C18', 'C19', 'C20', 'C21', 'C22', 'C24', 'C25', 'C26', 'C27']\n"
     ]
    }
   ],
   "source": [
    "# viable subjects\n",
    "sub_ids = utils.import_subs(data_dir,'sub_ids.txt')\n",
    "# select only 64ch subs and turn into set\n",
    "# sub_ids = sub_ids[7:]\n",
    "print(sub_ids)"
   ]
  },
  {
   "cell_type": "code",
   "execution_count": 25,
   "id": "7c3a8fdb-dbfa-42b6-907d-88061fab5ea5",
   "metadata": {},
   "outputs": [
    {
     "name": "stdout",
     "output_type": "stream",
     "text": [
      "Chronics: 43\n",
      "Controls: 25\n",
      "Total: 68\n"
     ]
    }
   ],
   "source": [
    "print(f\"Chronics: {len([el for el in sub_ids if el.startswith('0')])}\")\n",
    "print(f\"Controls: {len([el for el in sub_ids if el.startswith('C')])}\")\n",
    "print(f\"Total: {len(sub_ids)}\")"
   ]
  },
  {
   "cell_type": "code",
   "execution_count": 29,
   "id": "0b27ddca-2548-4884-9d57-42ea6d494d76",
   "metadata": {},
   "outputs": [
    {
     "name": "stdout",
     "output_type": "stream",
     "text": [
      "Eyes closed is not longer than 3 mins. Length of EC reading is: 54.51999999999998 seconds.\n",
      "Eyes closed is not longer than 3 mins. Length of EC reading is: 8.014999999999993 seconds.\n",
      "CSV file with 015 not found in the folder.\n",
      "No CSV for 015 found, no cropped recordings created\n",
      "CSV file with 045 not found in the folder.\n",
      "No CSV for 045 found, no cropped recordings created\n",
      "CSV file with C1. not found in the folder.\n",
      "No CSV for C1. found, no cropped recordings created\n",
      "CSV file with C5. not found in the folder.\n",
      "No CSV for C5. found, no cropped recordings created\n",
      "CSV file with C8. not found in the folder.\n",
      "No CSV for C8. found, no cropped recordings created\n",
      "CSV file with C20 not found in the folder.\n",
      "No CSV for C20 found, no cropped recordings created\n",
      "CSV file with C21 not found in the folder.\n",
      "No CSV for C21 found, no cropped recordings created\n",
      "CSV file with C22 not found in the folder.\n",
      "No CSV for C22 found, no cropped recordings created\n"
     ]
    }
   ],
   "source": [
    "for sub_id in sub_ids:\n",
    "    # Preprocess continuous to eyes open, noise calibration, and eyes closed\n",
    "    # raw = preprocess.to_raw(data_path,sub_id,save_path=processed_data_path,csv_path=csv_path)\n",
    "    \n",
    "    # TODO: temporary for getting just the cropped data\n",
    "    raw = mne.io.read_raw_fif(processed_data_path / f\"{sub_id}_preprocessed-raw.fif\")\n",
    "    preprocess.get_cropped_resting_EEGs(sub_id, raw, csv_path, save_path=processed_data_path)"
   ]
  },
  {
   "cell_type": "code",
   "execution_count": null,
   "id": "5ff2ca0f-ec76-40da-a67d-a57d3fb7b3c0",
   "metadata": {},
   "outputs": [],
   "source": []
  }
 ],
 "metadata": {
  "kernelspec": {
   "display_name": "Python 3",
   "language": "python",
   "name": "python3"
  },
  "language_info": {
   "codemirror_mode": {
    "name": "ipython",
    "version": 3
   },
   "file_extension": ".py",
   "mimetype": "text/x-python",
   "name": "python",
   "nbconvert_exporter": "python",
   "pygments_lexer": "ipython3",
   "version": "3.11.7"
  }
 },
 "nbformat": 4,
 "nbformat_minor": 5
}
