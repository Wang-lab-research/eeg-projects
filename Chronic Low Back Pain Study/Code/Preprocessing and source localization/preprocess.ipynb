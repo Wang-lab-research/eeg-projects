{
 "cells": [
  {
   "cell_type": "markdown",
   "id": "2947c985-edb4-4e37-ac38-e2abc335d541",
   "metadata": {
    "tags": []
   },
   "source": [
    "# Turn raw EEG data into processed (epochs,eyes open, eyes closed, and noise) segments\n",
    "#### Input: *.edf with recording data and the .csv containing timestamps for resting recording\n",
    "####  Output: *-preprocessed-epo.fif, *-resting_EC-raw.fif, *resting_EO-raw.fif, *-noise_EO-raw.fif"
   ]
  },
  {
   "cell_type": "code",
   "execution_count": 1,
   "id": "93bc0409-9fd5-479d-8dde-25a747c13efe",
   "metadata": {
    "scrolled": true,
    "tags": []
   },
   "outputs": [
    {
     "name": "stdout",
     "output_type": "stream",
     "text": [
      "0 files missing from root.txt in /home/wanglab/mne_data/MNE-fsaverage-data\n",
      "0 files missing from bem.txt in /home/wanglab/mne_data/MNE-fsaverage-data/fsaverage\n"
     ]
    }
   ],
   "source": [
    "import os\n",
    "import mne\n",
    "import pandas as pd\n",
    "from pathlib import Path\n",
    "import sys\n",
    "sys.path.append('/home/wanglab/Documents/George Kenefati/Code/eeg_toolkit/')\n",
    "# sys.path.append('/media/sb10flpc002/08e63286-43ce-4f61-9491-1ed048c96f20/Rachel Wu/eeg-projects/Code/eeg_toolkit/')\n",
    "from eeg_toolkit import utils, preprocess, source_localization"
   ]
  },
  {
   "cell_type": "code",
   "execution_count": 2,
   "id": "842b367f-9d3c-4436-868f-6fb7ffe7b719",
   "metadata": {},
   "outputs": [
    {
     "name": "stdout",
     "output_type": "stream",
     "text": [
      "[-2.5,0.0,2.5]\n"
     ]
    }
   ],
   "source": [
    "# Settings\n",
    "times_tup,time_win_path = preprocess.get_time_window(5)\n",
    "\n",
    "# Read in data\n",
    "data_dir = Path('../../Data/')\n",
    "data_path = data_dir / 'EEG DATA/'\n",
    "processed_data_path = data_dir / 'Processed Data/'\n",
    "csv_path = data_dir / 'Eyes Timestamps/'\n",
    "epo_path = processed_data_path / time_win_path\n",
    "save_path_resting = processed_data_path\n",
    "\n",
    "save_paths=[save_path_resting,]\n",
    "[os.makedirs(path, exist_ok=True) for path in save_paths];"
   ]
  },
  {
   "cell_type": "code",
   "execution_count": 3,
   "id": "6525eacb-e00a-4c11-aad8-c3086d8b6a48",
   "metadata": {},
   "outputs": [
    {
     "name": "stdout",
     "output_type": "stream",
     "text": [
      "['007', '008', '009', '010', '013', '014', '015', '018', '020', '021', '022', '023', '024', '027', '029', '030', '031', '032', '033', '034', '035', '036', '037', '038', '039', '040', '041', '042', '043', '044', '045', '046', '048', '049', '050', '051', '052', '053', '054', '055', '056', '057', '058', 'C1.', 'C2.', 'C3.', 'C5.', 'C6.', 'C7.', 'C8.', 'C9.', 'C10', 'C11', 'C12', 'C13', 'C14', 'C15', 'C16', 'C17', 'C18', 'C19', 'C20', 'C21', 'C22', 'C24', 'C25', 'C26', 'C27']\n"
     ]
    }
   ],
   "source": [
    "# viable subjects\n",
    "sub_ids = utils.import_subs(data_dir,'sub_ids.txt')\n",
    "# select only 64ch subs and turn into set\n",
    "# sub_ids = sub_ids[7:]\n",
    "print(sub_ids)"
   ]
  },
  {
   "cell_type": "code",
   "execution_count": 4,
   "id": "7c3a8fdb-dbfa-42b6-907d-88061fab5ea5",
   "metadata": {},
   "outputs": [
    {
     "name": "stdout",
     "output_type": "stream",
     "text": [
      "Chronics: 43\n",
      "Controls: 25\n",
      "Total: 68\n"
     ]
    }
   ],
   "source": [
    "print(f\"Chronics: {len([el for el in sub_ids if el.startswith('0')])}\")\n",
    "print(f\"Controls: {len([el for el in sub_ids if el.startswith('C')])}\")\n",
    "print(f\"Total: {len(sub_ids)}\")"
   ]
  },
  {
   "cell_type": "code",
   "execution_count": 5,
   "id": "c9b45a49",
   "metadata": {},
   "outputs": [],
   "source": [
    "sub_ids = ['046']"
   ]
  },
  {
   "cell_type": "code",
   "execution_count": 6,
   "id": "0b27ddca-2548-4884-9d57-42ea6d494d76",
   "metadata": {},
   "outputs": [
    {
     "name": "stdout",
     "output_type": "stream",
     "text": [
      "046\n",
      "Creating epochs WITH key presses\n",
      "\n",
      "046\n",
      "Removing repeated epochs from annotations...\n",
      "\n",
      "Dropped 3 repeated epochs\n",
      "046\n",
      "finding the 60 pin-prick epochs...\n",
      "<Epochs |  456 events (all good), -0.2 – 0.8 s, baseline 0 – 0 s, ~89.4 MB, data loaded,\n",
      " '1000001': 115\n",
      " '1000010': 115\n",
      " '1100001': 106\n",
      " '1100010': 106\n",
      " 'Med Pain Hand': 2\n",
      " 'No Pain Hand': 3\n",
      " 'eyes closed': 2\n",
      " 'eyes opened': 1\n",
      " 'stop': 3\n",
      " '1000001/1000010': 2\n",
      " and 1 more events ...>\n",
      "[10, 11, 12, 13, 4, 5, 1, 2, 9]\n",
      "['1000001', '1000010', '1100001', '1100010', 'Med Pain Hand', 'No Pain Hand', 'eyes closed', 'eyes opened', 'stop']\n",
      "LAGS BETWEEN PINPRICK UP AND DOWN:\n",
      "[1410.0, 1042.5, 1125.0, 1230.0, 1112.5, 1295.0, 1392.5, 1320.0, 1292.5, 1225.0, 1500.0, 1550.0, 1255.0, 1287.5, 345.0, 580.0, 1207.5, 1357.5, 1325.0, 1247.5, 1382.5, 1372.5, 1225.0, 1142.5, 1265.0, 492.5, 1115.0, 1310.0, 1080.0, 1232.5, 1247.5, 1187.5, 1202.5, 1310.0, 1307.5, 1115.0, 1280.0, 1297.5, 552.5, 1360.0, 1195.0, 437.5, 1595.0, 1127.5, 1107.5, 1252.5, 1377.5, 1197.5, 1092.5, 1055.0, 947.5, 1027.5, 1082.5, 1267.5, 1087.5, 1242.5, 405.0, 1227.5, 1172.5, 1310.0, 1320.0, 1555.0, 1405.0, 412.5, 1500.0]\n",
      "65\n",
      "LAGS BETWEEN STIMULUS EVENTS:\n",
      "[657.5, 602.5, 495.0, 500.0, 897.5, 7122.5, 5877.5, 6602.5, 7050.0, 7267.5, 14132.5, 3512.5, 8072.5, 3167.5, 350.0, 555.0, 4437.5, 3445.0, 6785.0, 5492.5, 5852.5, 5655.0, 7495.0, 4532.5, 5567.5, 995.0, 6967.5, 7375.0, 3972.5, 7705.0, 3592.5, 6817.5, 6412.5, 8645.0, 5757.5, 3787.5, 4615.0, 3632.5, 57.5, 3582.5, 6912.5, 45.0, 5325.0, 7962.5, 6835.0, 7827.5, 6305.0, 7110.0, 7650.0, 7442.5, 7717.5, 7677.5, 7415.0, 4750.0, 14807.5, 7802.5, 1187.5, 7280.0, 5375.0, 7890.0, 7462.5, 7305.0, 6637.5, 1350.0, 3580.0]\n",
      "65\n",
      "STIMULUS INDICES FROM ALL EVENTS:\n",
      "[9, 20, 23, 28, 35, 41, 47, 55, 59, 67, 69, 75, 81, 89, 91, 93, 99, 105, 111, 121, 129, 135, 143, 149, 156, 158, 164, 168, 174, 182, 191, 197, 203, 211, 215, 225, 231, 243, 255, 270, 276, 280, 292, 298, 304, 312, 318, 324, 330, 338, 348, 356, 364, 370, 376, 382, 384, 390, 402, 410, 420, 430, 438, 440, 446]\n",
      "\n",
      "\tLENGTH: 65\n",
      "\n",
      "CONVERTED KEYS FROM LABELS:\n",
      "[]\n",
      "\n",
      "\tLENGTH: 0\n",
      "\n",
      "\tLENGTH: 0\n",
      "\n",
      "LABELS OF KEY PRESS WITHOUT PINPRICKS:\n",
      "[]\n",
      "\n",
      "INDICES OF KEY PRESS WITHOUT PINPRICKS:\n",
      "[]\n",
      "\n",
      "TIME STAMPS OF KEY PRESS WITHOUT PINPRICKS (in seconds):\n",
      "[]\n",
      "\n",
      "\tLENGTH: 0\n",
      "\n",
      "No need to account for missing PP's.\n"
     ]
    },
    {
     "ename": "ValueError",
     "evalue": "'LOWER BACK ' is not in list",
     "output_type": "error",
     "traceback": [
      "\u001b[0;31m---------------------------------------------------------------------------\u001b[0m",
      "\u001b[0;31mValueError\u001b[0m                                Traceback (most recent call last)",
      "Cell \u001b[0;32mIn[6], line 7\u001b[0m\n\u001b[1;32m      1\u001b[0m \u001b[38;5;28;01mfor\u001b[39;00m sub_id \u001b[38;5;129;01min\u001b[39;00m sub_ids:\n\u001b[1;32m      2\u001b[0m     \u001b[38;5;66;03m# Preprocess continuous to eyes open, noise calibration, and eyes closed\u001b[39;00m\n\u001b[1;32m      3\u001b[0m     \u001b[38;5;66;03m# raw = preprocess.to_raw(data_path,sub_id,save_path=processed_data_path,csv_path=csv_path)\u001b[39;00m\n\u001b[1;32m      4\u001b[0m     \u001b[38;5;66;03m# preprocess.get_cropped_resting_EEGs(sub_id, raw, csv_path, save_path=processed_data_path)\u001b[39;00m\n\u001b[1;32m      6\u001b[0m     raw \u001b[38;5;241m=\u001b[39m mne\u001b[38;5;241m.\u001b[39mio\u001b[38;5;241m.\u001b[39mread_raw_fif(processed_data_path \u001b[38;5;241m/\u001b[39m \u001b[38;5;124mf\u001b[39m\u001b[38;5;124m\"\u001b[39m\u001b[38;5;132;01m{\u001b[39;00msub_id\u001b[38;5;132;01m}\u001b[39;00m\u001b[38;5;124m_preprocessed-raw.fif\u001b[39m\u001b[38;5;124m\"\u001b[39m)\n\u001b[0;32m----> 7\u001b[0m     stim_epochs, epo_times, stim_labels, pain_ratings \u001b[38;5;241m=\u001b[39m \u001b[43mpreprocess\u001b[49m\u001b[38;5;241;43m.\u001b[39;49m\u001b[43mto_epo\u001b[49m\u001b[43m(\u001b[49m\u001b[43mraw\u001b[49m\u001b[43m,\u001b[49m\u001b[43m \u001b[49m\u001b[43msub_id\u001b[49m\u001b[43m,\u001b[49m\u001b[43m \u001b[49m\u001b[43mdata_path\u001b[49m\u001b[43m,\u001b[49m\u001b[43m \u001b[49m\u001b[43msave_path\u001b[49m\u001b[38;5;241;43m=\u001b[39;49m\u001b[43mprocessed_data_path\u001b[49m\u001b[43m)\u001b[49m \n",
      "File \u001b[0;32m~/Documents/George Kenefati/Code/eeg_toolkit/eeg_toolkit/preprocess.py:1038\u001b[0m, in \u001b[0;36mto_epo\u001b[0;34m(raw, sub_id, data_path, save_path)\u001b[0m\n\u001b[1;32m   1036\u001b[0m lower_back_flag \u001b[38;5;241m=\u001b[39m \u001b[38;5;241m0\u001b[39m\n\u001b[1;32m   1037\u001b[0m \u001b[38;5;28;01mtry\u001b[39;00m:\n\u001b[0;32m-> 1038\u001b[0m     \u001b[38;5;28;01mif\u001b[39;00m \u001b[38;5;28misinstance\u001b[39m(df[\u001b[38;5;124m\"\u001b[39m\u001b[38;5;124mUnnamed: 2\u001b[39m\u001b[38;5;124m\"\u001b[39m]\u001b[38;5;241m.\u001b[39mtolist()\u001b[38;5;241m.\u001b[39mindex(\u001b[38;5;124m\"\u001b[39m\u001b[38;5;124mLOWER BACK \u001b[39m\u001b[38;5;124m\"\u001b[39m), \u001b[38;5;28mint\u001b[39m):\n\u001b[1;32m   1039\u001b[0m         lower_back_flag \u001b[38;5;241m=\u001b[39m \u001b[38;5;241m1\u001b[39m\n\u001b[1;32m   1040\u001b[0m         column_back_idx \u001b[38;5;241m=\u001b[39m df[\u001b[38;5;124m\"\u001b[39m\u001b[38;5;124mUnnamed: 2\u001b[39m\u001b[38;5;124m\"\u001b[39m]\u001b[38;5;241m.\u001b[39mtolist()\u001b[38;5;241m.\u001b[39mindex(\u001b[38;5;124m\"\u001b[39m\u001b[38;5;124mLOWER BACK \u001b[39m\u001b[38;5;124m\"\u001b[39m)\n",
      "\u001b[0;31mValueError\u001b[0m: 'LOWER BACK ' is not in list"
     ]
    }
   ],
   "source": [
    "for sub_id in sub_ids:\n",
    "    # Preprocess continuous to eyes open, noise calibration, and eyes closed\n",
    "    # raw = preprocess.to_raw(data_path,sub_id,save_path=processed_data_path,csv_path=csv_path)\n",
    "    # preprocess.get_cropped_resting_EEGs(sub_id, raw, csv_path, save_path=processed_data_path)\n",
    "    \n",
    "    raw = mne.io.read_raw_fif(processed_data_path / f\"{sub_id}_preprocessed-raw.fif\")\n",
    "    stim_epochs, epo_times, stim_labels, pain_ratings = preprocess.to_epo(raw, sub_id, data_path, save_path=processed_data_path) "
   ]
  },
  {
   "cell_type": "code",
   "execution_count": null,
   "id": "5ff2ca0f-ec76-40da-a67d-a57d3fb7b3c0",
   "metadata": {},
   "outputs": [],
   "source": [
    "raw "
   ]
  },
  {
   "cell_type": "code",
   "execution_count": null,
   "id": "e7a71f31",
   "metadata": {},
   "outputs": [],
   "source": []
  }
 ],
 "metadata": {
  "kernelspec": {
   "display_name": "Python 3",
   "language": "python",
   "name": "python3"
  },
  "language_info": {
   "codemirror_mode": {
    "name": "ipython",
    "version": 3
   },
   "file_extension": ".py",
   "mimetype": "text/x-python",
   "name": "python",
   "nbconvert_exporter": "python",
   "pygments_lexer": "ipython3",
   "version": "3.11.7"
  }
 },
 "nbformat": 4,
 "nbformat_minor": 5
}
