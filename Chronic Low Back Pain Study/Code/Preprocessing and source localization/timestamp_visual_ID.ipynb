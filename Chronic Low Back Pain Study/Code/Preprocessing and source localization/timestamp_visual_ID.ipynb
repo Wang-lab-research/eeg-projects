{
 "cells": [
  {
   "cell_type": "code",
   "execution_count": 1,
   "id": "235bf74f-f134-4837-8817-4db9597a12cf",
   "metadata": {},
   "outputs": [],
   "source": [
    "import csv\n",
    "import os\n",
    "import sys\n",
    "import mne\n",
    "from mne.io import read_raw_fif\n",
    "#%conda install utils\n",
    "#import something to save in pickle"
   ]
  },
  {
   "cell_type": "code",
   "execution_count": 2,
   "id": "570ed148-ffe6-4f63-b098-223d00f66d15",
   "metadata": {},
   "outputs": [],
   "source": [
    "#The data path below is local to sbflpc002\n",
    "data_path = '/run/user/1000/gvfs/smb-share:server=research-cifs.nyumc.org,share=research/jwanglab/jwanglabspace/George Kenefati/Chronic Low Back Pain Study/Data/Processed Data'\n",
    "save_path = '../../../Data/Eyes Timestamps/'\n",
    "\n",
    "if not os.path.exists(save_path):\n",
    "    os.makedirs(save_path)"
   ]
  },
  {
   "cell_type": "code",
   "execution_count": 5,
   "id": "a2376ebb-cb67-4421-8c1d-72ee059d43f4",
   "metadata": {},
   "outputs": [],
   "source": [
    "sub_id = 'C20'\n",
    "# Find all raw.fif files containing \"C20\" in their filename\n",
    "raw_files = [f for f in os.listdir(data_path) if f.endswith('raw.fif') and sub_id in f]\n",
    "\n",
    "file = raw_files[0]\n",
    "file_path = os.path.join(data_path, file)"
   ]
  },
  {
   "cell_type": "code",
   "execution_count": 7,
   "id": "7faee384-26f4-4d34-a003-7ec35da6714c",
   "metadata": {},
   "outputs": [
    {
     "name": "stdout",
     "output_type": "stream",
     "text": [
      "Opening raw data file /run/user/1000/gvfs/smb-share:server=research-cifs.nyumc.org,share=research/jwanglab/jwanglabspace/George Kenefati/Chronic Low Back Pain Study/Data/Processed Data/C20_preprocessed-raw.fif...\n",
      "    Range : 0 ... 526879 =      0.000 ...  1317.197 secs\n",
      "Ready.\n",
      "Reading 0 ... 526879  =      0.000 ...  1317.197 secs...\n",
      "Filtering raw data in 1 contiguous segment\n",
      "Setting up band-pass filter from 8 - 13 Hz\n",
      "\n",
      "FIR filter parameters\n",
      "---------------------\n",
      "Designing a one-pass, zero-phase, non-causal bandpass filter:\n",
      "- Windowed time-domain design (firwin) method\n",
      "- Hamming window with 0.0194 passband ripple and 53 dB stopband attenuation\n",
      "- Lower passband edge: 8.00\n",
      "- Lower transition bandwidth: 2.00 Hz (-6 dB cutoff frequency: 7.00 Hz)\n",
      "- Upper passband edge: 13.00 Hz\n",
      "- Upper transition bandwidth: 3.25 Hz (-6 dB cutoff frequency: 14.62 Hz)\n",
      "- Filter length: 661 samples (1.653 s)\n",
      "\n"
     ]
    },
    {
     "name": "stderr",
     "output_type": "stream",
     "text": [
      "[Parallel(n_jobs=1)]: Done  17 tasks      | elapsed:    0.2s\n"
     ]
    },
    {
     "ename": "ValueError",
     "evalue": "Parameters for all channel types (with the exception of \"meg\", \"ref_meg\", \"fnirs\", and \"eyetrack\") must be of type bool, not <class 'str'>.",
     "output_type": "error",
     "traceback": [
      "\u001b[0;31m---------------------------------------------------------------------------\u001b[0m",
      "\u001b[0;31mValueError\u001b[0m                                Traceback (most recent call last)",
      "Cell \u001b[0;32mIn[7], line 7\u001b[0m\n\u001b[1;32m      4\u001b[0m \u001b[38;5;66;03m# Extract alpha bands using the filter_data method\u001b[39;00m\n\u001b[1;32m      5\u001b[0m raw_alpha \u001b[38;5;241m=\u001b[39m raw\u001b[38;5;241m.\u001b[39mcopy()\u001b[38;5;241m.\u001b[39mfilter(l_freq\u001b[38;5;241m=\u001b[39m\u001b[38;5;241m8\u001b[39m, h_freq\u001b[38;5;241m=\u001b[39m\u001b[38;5;241m13\u001b[39m, fir_design\u001b[38;5;241m=\u001b[39m\u001b[38;5;124m'\u001b[39m\u001b[38;5;124mfirwin\u001b[39m\u001b[38;5;124m'\u001b[39m)\n\u001b[0;32m----> 7\u001b[0m picks \u001b[38;5;241m=\u001b[39m \u001b[43mmne\u001b[49m\u001b[38;5;241;43m.\u001b[39;49m\u001b[43mpick_types\u001b[49m\u001b[43m(\u001b[49m\u001b[43mraw_alpha\u001b[49m\u001b[38;5;241;43m.\u001b[39;49m\u001b[43minfo\u001b[49m\u001b[43m,\u001b[49m\u001b[43m \u001b[49m\u001b[43meeg\u001b[49m\u001b[38;5;241;43m=\u001b[39;49m\u001b[38;5;28;43;01mTrue\u001b[39;49;00m\u001b[43m,\u001b[49m\u001b[43m \u001b[49m\u001b[43meog\u001b[49m\u001b[38;5;241;43m=\u001b[39;49m\u001b[38;5;124;43m'\u001b[39;49m\u001b[38;5;124;43mVEOG\u001b[39;49m\u001b[38;5;124;43m'\u001b[39;49m\u001b[43m)\u001b[49m\n\u001b[1;32m      8\u001b[0m raw_alpha\u001b[38;5;241m.\u001b[39mplot(n_channels\u001b[38;5;241m=\u001b[39m\u001b[38;5;241m32\u001b[39m, scalings\u001b[38;5;241m=\u001b[39m\u001b[38;5;28mdict\u001b[39m(eeg\u001b[38;5;241m=\u001b[39m\u001b[38;5;241m20e-6\u001b[39m, eog\u001b[38;5;241m=\u001b[39m\u001b[38;5;241m150e-6\u001b[39m), picks\u001b[38;5;241m=\u001b[39mpicks,\n\u001b[1;32m      9\u001b[0m                    title\u001b[38;5;241m=\u001b[39m\u001b[38;5;124m'\u001b[39m\u001b[38;5;124mEEG recording with Alpha Bands and VEOG\u001b[39m\u001b[38;5;124m'\u001b[39m)\n",
      "File \u001b[0;32m~/anaconda3/envs/mne/lib/python3.11/site-packages/mne/_fiff/pick.py:549\u001b[0m, in \u001b[0;36mpick_types\u001b[0;34m(info, meg, eeg, stim, eog, ecg, emg, ref_meg, misc, resp, chpi, exci, ias, syst, seeg, dipole, gof, bio, ecog, fnirs, csd, dbs, temperature, gsr, eyetrack, include, exclude, selection)\u001b[0m\n\u001b[1;32m    543\u001b[0m     \u001b[38;5;28;01mif\u001b[39;00m \u001b[38;5;129;01mnot\u001b[39;00m \u001b[38;5;28misinstance\u001b[39m(param, \u001b[38;5;28mbool\u001b[39m):\n\u001b[1;32m    544\u001b[0m         w \u001b[38;5;241m=\u001b[39m (\n\u001b[1;32m    545\u001b[0m             \u001b[38;5;124m\"\u001b[39m\u001b[38;5;124mParameters for all channel types (with the exception of \u001b[39m\u001b[38;5;124m\"\u001b[39m\n\u001b[1;32m    546\u001b[0m             \u001b[38;5;124m'\u001b[39m\u001b[38;5;124m\"\u001b[39m\u001b[38;5;124mmeg\u001b[39m\u001b[38;5;124m\"\u001b[39m\u001b[38;5;124m, \u001b[39m\u001b[38;5;124m\"\u001b[39m\u001b[38;5;124mref_meg\u001b[39m\u001b[38;5;124m\"\u001b[39m\u001b[38;5;124m, \u001b[39m\u001b[38;5;124m\"\u001b[39m\u001b[38;5;124mfnirs\u001b[39m\u001b[38;5;124m\"\u001b[39m\u001b[38;5;124m, and \u001b[39m\u001b[38;5;124m\"\u001b[39m\u001b[38;5;124meyetrack\u001b[39m\u001b[38;5;124m\"\u001b[39m\u001b[38;5;124m) must be of type \u001b[39m\u001b[38;5;124m'\u001b[39m\n\u001b[1;32m    547\u001b[0m             \u001b[38;5;124m\"\u001b[39m\u001b[38;5;124mbool, not \u001b[39m\u001b[38;5;132;01m{}\u001b[39;00m\u001b[38;5;124m.\u001b[39m\u001b[38;5;124m\"\u001b[39m\n\u001b[1;32m    548\u001b[0m         )\n\u001b[0;32m--> 549\u001b[0m         \u001b[38;5;28;01mraise\u001b[39;00m \u001b[38;5;167;01mValueError\u001b[39;00m(w\u001b[38;5;241m.\u001b[39mformat(\u001b[38;5;28mtype\u001b[39m(param)))\n\u001b[1;32m    551\u001b[0m param_dict \u001b[38;5;241m=\u001b[39m \u001b[38;5;28mdict\u001b[39m(\n\u001b[1;32m    552\u001b[0m     eeg\u001b[38;5;241m=\u001b[39meeg,\n\u001b[1;32m    553\u001b[0m     stim\u001b[38;5;241m=\u001b[39mstim,\n\u001b[0;32m   (...)\u001b[0m\n\u001b[1;32m    572\u001b[0m     eyetrack\u001b[38;5;241m=\u001b[39meyetrack,\n\u001b[1;32m    573\u001b[0m )\n\u001b[1;32m    575\u001b[0m \u001b[38;5;66;03m# avoid triage if possible\u001b[39;00m\n",
      "\u001b[0;31mValueError\u001b[0m: Parameters for all channel types (with the exception of \"meg\", \"ref_meg\", \"fnirs\", and \"eyetrack\") must be of type bool, not <class 'str'>."
     ]
    }
   ],
   "source": [
    "# Load the raw EEG data\n",
    "raw = mne.io.read_raw_fif(file_path, preload=True)\n",
    "\n",
    "# Extract alpha bands using the filter_data method\n",
    "raw_alpha = raw.copy().filter(l_freq=8, h_freq=13, fir_design='firwin')\n",
    "\n",
    "picks = mne.pick_types(raw_alpha.info, eeg=True, eog='VEOG')\n",
    "raw_alpha.plot(n_channels=32, scalings=dict(eeg=20e-6, eog=150e-6), picks=picks,\n",
    "                   title='EEG recording with Alpha Bands and VEOG')"
   ]
  },
  {
   "cell_type": "code",
   "execution_count": null,
   "id": "1b61f0c3-5df8-437e-869e-84623ec91a61",
   "metadata": {},
   "outputs": [],
   "source": []
  }
 ],
 "metadata": {
  "kernelspec": {
   "display_name": "Python 3 (ipykernel)",
   "language": "python",
   "name": "python3"
  },
  "language_info": {
   "codemirror_mode": {
    "name": "ipython",
    "version": 3
   },
   "file_extension": ".py",
   "mimetype": "text/x-python",
   "name": "python",
   "nbconvert_exporter": "python",
   "pygments_lexer": "ipython3",
   "version": "3.11.7"
  }
 },
 "nbformat": 4,
 "nbformat_minor": 5
}
