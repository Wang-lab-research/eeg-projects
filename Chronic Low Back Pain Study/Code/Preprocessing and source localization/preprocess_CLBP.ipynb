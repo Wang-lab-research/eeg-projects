{
 "cells": [
  {
   "cell_type": "markdown",
   "id": "2947c985-edb4-4e37-ac38-e2abc335d541",
   "metadata": {
    "tags": []
   },
   "source": [
    "# Turn raw EEG data into processed (epochs,eyes open, eyes closed, and noise) segments\n",
    "#### Input: *.edf with recording data and the .csv containing timestamps for resting recording\n",
    "####  Output: *-preprocessed-epo.fif, *-resting_EC-raw.fif, *resting_EO-raw.fif, *-noise_EO-raw.fif"
   ]
  },
  {
   "cell_type": "code",
   "execution_count": 1,
   "id": "93bc0409-9fd5-479d-8dde-25a747c13efe",
   "metadata": {
    "scrolled": true,
    "tags": []
   },
   "outputs": [
    {
     "name": "stdout",
     "output_type": "stream",
     "text": [
      "0 files missing from root.txt in /home/wanglab/mne_data/MNE-fsaverage-data\n",
      "0 files missing from bem.txt in /home/wanglab/mne_data/MNE-fsaverage-data/fsaverage\n"
     ]
    }
   ],
   "source": [
    "import os\n",
    "import mne\n",
    "import pandas as pd\n",
    "from pathlib import Path\n",
    "import sys\n",
    "sys.path.append('/home/wanglab/Documents/George Kenefati/Code/eeg_toolkit/')\n",
    "# sys.path.append('/media/sb10flpc002/08e63286-43ce-4f61-9491-1ed048c96f20/Rachel Wu/eeg-projects/Code/eeg_toolkit/')\n",
    "from eeg_toolkit import utils, preprocess, source_localization"
   ]
  },
  {
   "cell_type": "code",
   "execution_count": 2,
   "id": "842b367f-9d3c-4436-868f-6fb7ffe7b719",
   "metadata": {},
   "outputs": [
    {
     "name": "stdout",
     "output_type": "stream",
     "text": [
      "[-2.5,0.0,2.5]\n"
     ]
    }
   ],
   "source": [
    "# Settings\n",
    "times_tup,time_win_path = preprocess.get_time_window(5)\n",
    "\n",
    "# Read in data\n",
    "data_dir = Path('../../Data/')\n",
    "data_path = data_dir / 'EEG DATA/'\n",
    "processed_data_path = data_dir / 'Processed Data/'\n",
    "csv_path = data_dir / 'Eyes Timestamps/'\n",
    "epo_path = processed_data_path \n",
    "save_path_resting = processed_data_path\n",
    "\n",
    "save_paths=[save_path_resting,]\n",
    "[os.makedirs(path, exist_ok=True) for path in save_paths];"
   ]
  },
  {
   "cell_type": "code",
   "execution_count": 3,
   "id": "6525eacb-e00a-4c11-aad8-c3086d8b6a48",
   "metadata": {},
   "outputs": [
    {
     "name": "stdout",
     "output_type": "stream",
     "text": [
      "['007', '008', '009', '010', '013', '014', '015', '018', '020', '021', '022', '023', '024', '027', '029', '030', '031', '032', '033', '034', '035', '036', '037', '038', '039', '040', '041', '042', '043', '044', '045', '046', '048', '049', '050', '051', '052', '053', '054', '055', '056', '057', '058', '059', 'C1.', 'C2.', 'C3.', 'C5.', 'C6.', 'C7.', 'C8.', 'C9.', 'C10', 'C11', 'C12', 'C13', 'C14', 'C15', 'C16', 'C17', 'C18', 'C19', 'C20', 'C21', 'C22', 'C24', 'C25', 'C26', 'C27']\n"
     ]
    }
   ],
   "source": [
    "# viable subjects\n",
    "sub_ids = utils.import_subs(data_dir,'sub_ids.txt')\n",
    "# select only 64ch subs and turn into set\n",
    "# sub_ids = sub_ids[7:]\n",
    "print(sub_ids)"
   ]
  },
  {
   "cell_type": "code",
   "execution_count": 4,
   "id": "7c3a8fdb-dbfa-42b6-907d-88061fab5ea5",
   "metadata": {},
   "outputs": [
    {
     "name": "stdout",
     "output_type": "stream",
     "text": [
      "Chronics: 44\n",
      "Controls: 25\n",
      "Total: 69\n"
     ]
    }
   ],
   "source": [
    "print(f\"Chronics: {len([el for el in sub_ids if el.startswith('0')])}\")\n",
    "print(f\"Controls: {len([el for el in sub_ids if el.startswith('C')])}\")\n",
    "print(f\"Total: {len(sub_ids)}\")"
   ]
  },
  {
   "cell_type": "code",
   "execution_count": 19,
   "id": "a6aec751",
   "metadata": {},
   "outputs": [],
   "source": [
    "sub_ids = ['056']"
   ]
  },
  {
   "cell_type": "code",
   "execution_count": 26,
   "id": "0b27ddca-2548-4884-9d57-42ea6d494d76",
   "metadata": {},
   "outputs": [
    {
     "name": "stdout",
     "output_type": "stream",
     "text": [
      "056\n",
      "Creating epochs WITH key presses\n",
      "\n",
      "056\n",
      "Removing repeated epochs from annotations...\n",
      "\n",
      "Dropped 4 repeated epochs\n",
      "056\n",
      "finding the 60 pin-prick epochs...\n",
      "<Epochs |  495 events (all good), -0.2 – 0.8 s, baseline 0 – 0 s, ~92.5 MB, data loaded,\n",
      " '1000001': 99\n",
      " '1000010': 99\n",
      " '1100001': 115\n",
      " '1100010': 115\n",
      " 'Med Pain Back': 10\n",
      " 'Med Pain Hand': 9\n",
      " 'No Pain Back': 10\n",
      " 'No Pain Hand': 10\n",
      " 'Yes Pain Back': 10\n",
      " 'Yes Pain Hand': 10\n",
      " and 5 more events ...>\n",
      "[10, 11, 12, 13, 7, 4, 8, 5, 6, 3, 1, 2, 9]\n",
      "['1000001', '1000010', '1100001', '1100010', 'Med Pain Back', 'Med Pain Hand', 'No Pain Back', 'No Pain Hand', 'Yes Pain Back', 'Yes Pain Hand', 'eyes closed', 'eyes opened', 'stop']\n",
      "1100001\n",
      "1000001\n",
      "1000001\n",
      "1000001\n",
      "1100001\n",
      "1000001\n",
      "1000001\n",
      "1100001\n",
      "1100001\n",
      "1000001\n",
      "1000001\n",
      "1100001\n",
      "1100001\n",
      "1000001\n",
      "1100001\n",
      "1100001\n",
      "1000001\n",
      "1100001\n",
      "1000001\n",
      "1000001\n",
      "1100001\n",
      "1000001\n",
      "1100001\n",
      "1000001\n",
      "1000001\n",
      "1100001\n",
      "1000001\n",
      "1100001\n",
      "1100001\n",
      "1100001\n",
      "1100001\n",
      "1000001\n",
      "1000001\n",
      "1100001\n",
      "1000001\n",
      "1100001\n",
      "1000001\n",
      "1100001\n",
      "1000001\n",
      "1100001\n",
      "1100001\n",
      "1000001\n",
      "1000001\n",
      "1100001\n",
      "1000001\n",
      "1000001\n",
      "1100001\n",
      "1000001\n",
      "1100001\n",
      "1000001\n",
      "1100001\n",
      "1100001\n",
      "1000001\n",
      "1100001\n",
      "1100001\n",
      "1000001\n",
      "1100001\n",
      "Med Pain Back\n",
      "1000001\n",
      "STIMULUS INDICES FROM ALL EVENTS:\n",
      "[7, 17, 28, 37, 42, 49, 54, 59, 66, 79, 86, 93, 108, 115, 124, 137, 146, 155, 166, 183, 190, 204, 209, 214, 221, 230, 237, 246, 251, 258, 265, 274, 281, 286, 293, 298, 310, 315, 320, 330, 337, 344, 355, 364, 371, 378, 389, 398, 409, 420, 431, 444, 453, 466, 473, 478, 483, 489]\n",
      "\n",
      "\tLENGTH: 58\n",
      "\n",
      "CONVERTED KEYS FROM LABELS:\n",
      "[4, 5, 5, 5, 4, 5, 5, 4, 4, 8, 8, 7, 7, 8, 7, 7, 8, 7, 8, 5, 3, 5, 3, 5, 5, 3, 5, 3, 3, 6, 6, 8, 8, 6, 8, 6, 8, 6, 8, 3, 3, 4, 4, 3, 4, 4, 3, 4, 3, 7, 6, 6, 7, 6, 6, 7, 6, 7]\n",
      "\n",
      "\tLENGTH: 58\n",
      "\n",
      "\tMean: 892.0 ms,  St Dev: 158.0 ms\n",
      "\n",
      "\tLENGTH: 58\n",
      "\n",
      "LABELS OF KEY PRESS WITHOUT PINPRICKS:\n",
      "['Med Pain Back']\n",
      "\n",
      "INDICES OF KEY PRESS WITHOUT PINPRICKS:\n",
      "[487]\n",
      "\n",
      "TIME STAMPS OF KEY PRESS WITHOUT PINPRICKS (in seconds):\n",
      "[1880.1]\n",
      "\n",
      "\tLENGTH: 1\n",
      "Events with missing pinprick keys_from_annot:\n",
      "[752021, 0, 7]\n",
      "New event after 200ms adjustment for missing pinprick:\n",
      "[752101, 0, 7]\n",
      "Corrected keys_from_annot!\n",
      "\n",
      "[4, 5, 5, 5, 4, 5, 5, 4, 4, 8, 8, 7, 7, 8, 7, 7, 8, 7, 8, 5, 3, 5, 3, 5, 5, 3, 5, 3, 3, 6, 6, 8, 8, 6, 8, 6, 8, 6, 8, 3, 3, 4, 4, 3, 4, 4, 3, 4, 3, 7, 6, 6, 7, 6, 6, 7, 6, 7, 7]\n",
      "LENGTH: 59\n"
     ]
    },
    {
     "ename": "ValueError",
     "evalue": "'LOWER BACK ' is not in list",
     "output_type": "error",
     "traceback": [
      "\u001b[0;31m---------------------------------------------------------------------------\u001b[0m",
      "\u001b[0;31mValueError\u001b[0m                                Traceback (most recent call last)",
      "Cell \u001b[0;32mIn[26], line 5\u001b[0m\n\u001b[1;32m      1\u001b[0m \u001b[38;5;28;01mfor\u001b[39;00m sub_id \u001b[38;5;129;01min\u001b[39;00m sub_ids:\n\u001b[1;32m      2\u001b[0m     \u001b[38;5;66;03m# Preprocess continuous to eyes open, noise calibration, and eyes closed\u001b[39;00m\n\u001b[1;32m      3\u001b[0m     \u001b[38;5;66;03m# raw, eyes_closed, noise_segment, eyes_open = preprocess.to_raw(data_path,sub_id,save_path=processed_data_path,csv_path=csv_path)\u001b[39;00m\n\u001b[1;32m      4\u001b[0m     stim_epochs \u001b[38;5;241m=\u001b[39m mne\u001b[38;5;241m.\u001b[39mread_epochs(epo_path \u001b[38;5;241m/\u001b[39m \u001b[38;5;124mf\u001b[39m\u001b[38;5;124m'\u001b[39m\u001b[38;5;132;01m{\u001b[39;00msub_id\u001b[38;5;132;01m}\u001b[39;00m\u001b[38;5;124m_preprocessed-epo.fif\u001b[39m\u001b[38;5;124m'\u001b[39m)\n\u001b[0;32m----> 5\u001b[0m     stim_epochs, epo_times, stim_labels, pain_ratings \u001b[38;5;241m=\u001b[39m \u001b[43mpreprocess\u001b[49m\u001b[38;5;241;43m.\u001b[39;49m\u001b[43mto_epo\u001b[49m\u001b[43m(\u001b[49m\u001b[43mraw\u001b[49m\u001b[43m[\u001b[49m\u001b[38;5;241;43m0\u001b[39;49m\u001b[43m]\u001b[49m\u001b[43m,\u001b[49m\u001b[43m \u001b[49m\u001b[43msub_id\u001b[49m\u001b[43m,\u001b[49m\u001b[43m \u001b[49m\u001b[43mdata_path\u001b[49m\u001b[43m,\u001b[49m\u001b[43m \u001b[49m\u001b[43msave_path\u001b[49m\u001b[38;5;241;43m=\u001b[39;49m\u001b[43mprocessed_data_path\u001b[49m\u001b[43m)\u001b[49m \n\u001b[1;32m      7\u001b[0m     \u001b[38;5;66;03m# check epochs for duration in seconds\u001b[39;00m\n\u001b[1;32m      8\u001b[0m     dur \u001b[38;5;241m=\u001b[39m stim_epochs\u001b[38;5;241m.\u001b[39mtimes[\u001b[38;5;241m-\u001b[39m\u001b[38;5;241m1\u001b[39m] \u001b[38;5;241m-\u001b[39m stim_epochs\u001b[38;5;241m.\u001b[39mtimes[\u001b[38;5;241m0\u001b[39m]\n",
      "File \u001b[0;32m~/Documents/George Kenefati/Code/eeg_toolkit/eeg_toolkit/preprocess.py:1024\u001b[0m, in \u001b[0;36mto_epo\u001b[0;34m(raw, sub_id, data_path, save_path)\u001b[0m\n\u001b[1;32m   1022\u001b[0m lower_back_flag \u001b[38;5;241m=\u001b[39m \u001b[38;5;241m0\u001b[39m\n\u001b[1;32m   1023\u001b[0m \u001b[38;5;28;01mtry\u001b[39;00m:\n\u001b[0;32m-> 1024\u001b[0m     \u001b[38;5;28;01mif\u001b[39;00m \u001b[38;5;28misinstance\u001b[39m(df[\u001b[38;5;124m\"\u001b[39m\u001b[38;5;124mUnnamed: 2\u001b[39m\u001b[38;5;124m\"\u001b[39m]\u001b[38;5;241m.\u001b[39mtolist()\u001b[38;5;241m.\u001b[39mindex(\u001b[38;5;124m\"\u001b[39m\u001b[38;5;124mLOWER BACK \u001b[39m\u001b[38;5;124m\"\u001b[39m), \u001b[38;5;28mint\u001b[39m):\n\u001b[1;32m   1025\u001b[0m         lower_back_flag \u001b[38;5;241m=\u001b[39m \u001b[38;5;241m1\u001b[39m\n\u001b[1;32m   1026\u001b[0m         column_back_idx \u001b[38;5;241m=\u001b[39m df[\u001b[38;5;124m\"\u001b[39m\u001b[38;5;124mUnnamed: 2\u001b[39m\u001b[38;5;124m\"\u001b[39m]\u001b[38;5;241m.\u001b[39mtolist()\u001b[38;5;241m.\u001b[39mindex(\u001b[38;5;124m\"\u001b[39m\u001b[38;5;124mLOWER BACK \u001b[39m\u001b[38;5;124m\"\u001b[39m)\n",
      "\u001b[0;31mValueError\u001b[0m: 'LOWER BACK ' is not in list"
     ]
    }
   ],
   "source": [
    "for sub_id in sub_ids:\n",
    "    # Preprocess continuous to eyes open, noise calibration, and eyes closed\n",
    "    # raw, eyes_closed, noise_segment, eyes_open = preprocess.to_raw(data_path,sub_id,save_path=processed_data_path,csv_path=csv_path)\n",
    "    stim_epochs = mne.read_epochs(epo_path / f'{sub_id}_preprocessed-epo.fif')\n",
    "    stim_epochs, epo_times, stim_labels, pain_ratings = preprocess.to_epo(raw[0], sub_id, data_path, save_path=processed_data_path) \n",
    "    \n",
    "    # check epochs for duration in seconds\n",
    "    dur = stim_epochs.times[-1] - stim_epochs.times[0]\n",
    "    print(f\"{sub_id} duration: {dur}\")\n",
    "    if dur < 5.0:\n",
    "        print(f\"{sub_id} too short\")\n",
    "        continue"
   ]
  },
  {
   "cell_type": "code",
   "execution_count": null,
   "id": "5c08d431",
   "metadata": {},
   "outputs": [],
   "source": [
    "# NO Keypresses\n",
    "sub_ids = ['045', 'C1.', 'C5.', 'C8.', 'C20', 'C21', 'C22']"
   ]
  },
  {
   "cell_type": "code",
   "execution_count": null,
   "id": "e7a71f31",
   "metadata": {},
   "outputs": [],
   "source": []
  }
 ],
 "metadata": {
  "kernelspec": {
   "display_name": "Python 3",
   "language": "python",
   "name": "python3"
  },
  "language_info": {
   "codemirror_mode": {
    "name": "ipython",
    "version": 3
   },
   "file_extension": ".py",
   "mimetype": "text/x-python",
   "name": "python",
   "nbconvert_exporter": "python",
   "pygments_lexer": "ipython3",
   "version": "3.11.7"
  }
 },
 "nbformat": 4,
 "nbformat_minor": 5
}
