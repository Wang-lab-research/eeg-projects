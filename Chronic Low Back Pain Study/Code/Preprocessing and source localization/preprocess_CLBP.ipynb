{
 "cells": [
  {
   "cell_type": "markdown",
   "id": "2947c985-edb4-4e37-ac38-e2abc335d541",
   "metadata": {
    "tags": []
   },
   "source": [
    "# Turn raw EEG data into processed (epochs,eyes open, eyes closed, and noise) segments\n",
    "#### Input: *.edf with recording data and the .csv containing timestamps for resting recording\n",
    "####  Output: *-preprocessed-epo.fif, *-resting_EC-raw.fif, *resting_EO-raw.fif, *-noise_EO-raw.fif"
   ]
  },
  {
   "cell_type": "code",
   "execution_count": 1,
   "id": "93bc0409-9fd5-479d-8dde-25a747c13efe",
   "metadata": {
    "scrolled": true,
    "tags": []
   },
   "outputs": [
    {
     "name": "stdout",
     "output_type": "stream",
     "text": [
      "0 files missing from root.txt in /home/wanglab/mne_data/MNE-fsaverage-data\n",
      "0 files missing from bem.txt in /home/wanglab/mne_data/MNE-fsaverage-data/fsaverage\n"
     ]
    }
   ],
   "source": [
    "import os\n",
    "import mne\n",
    "import pandas as pd\n",
    "from pathlib import Path\n",
    "import sys\n",
    "sys.path.append('/home/wanglab/Documents/George Kenefati/Code/eeg_toolkit/')\n",
    "# sys.path.append('/media/sb10flpc002/08e63286-43ce-4f61-9491-1ed048c96f20/Rachel Wu/eeg-projects/Code/eeg_toolkit/')\n",
    "from eeg_toolkit import utils, preprocess, source_localization"
   ]
  },
  {
   "cell_type": "code",
   "execution_count": 2,
   "id": "842b367f-9d3c-4436-868f-6fb7ffe7b719",
   "metadata": {},
   "outputs": [
    {
     "name": "stdout",
     "output_type": "stream",
     "text": [
      "[-2.5,0.0,2.5]\n"
     ]
    }
   ],
   "source": [
    "# Settings\n",
    "times_tup,time_win_path = preprocess.get_time_window(5)\n",
    "\n",
    "# Read in data\n",
    "data_dir = Path('../../Data/')\n",
    "data_path = data_dir / 'EEG DATA/'\n",
    "processed_data_path = data_dir / 'Processed Data/'\n",
    "csv_path = data_dir / 'Eyes Timestamps/'\n",
    "epo_path = processed_data_path \n",
    "save_path_resting = processed_data_path\n",
    "\n",
    "save_paths=[save_path_resting,]\n",
    "[os.makedirs(path, exist_ok=True) for path in save_paths];"
   ]
  },
  {
   "cell_type": "code",
   "execution_count": 3,
   "id": "6525eacb-e00a-4c11-aad8-c3086d8b6a48",
   "metadata": {},
   "outputs": [
    {
     "name": "stdout",
     "output_type": "stream",
     "text": [
      "['007', '008', '009', '010', '013', '014', '015', '018', '020', '021', '022', '023', '024', '027', '029', '030', '031', '032', '033', '034', '035', '036', '037', '038', '039', '040', '041', '042', '043', '044', '045', '046', '048', '049', '050', '051', '052', '053', '054', '055', '056', '057', '058', '059', 'C1.', 'C2.', 'C3.', 'C5.', 'C6.', 'C7.', 'C8.', 'C9.', 'C10', 'C11', 'C12', 'C13', 'C14', 'C15', 'C16', 'C17', 'C18', 'C19', 'C20', 'C21', 'C22', 'C24', 'C25', 'C26', 'C27']\n"
     ]
    }
   ],
   "source": [
    "# viable subjects\n",
    "sub_ids = utils.import_subs(data_dir,'sub_ids.txt')\n",
    "# select only 64ch subs and turn into set\n",
    "# sub_ids = sub_ids[7:]\n",
    "print(sub_ids)"
   ]
  },
  {
   "cell_type": "code",
   "execution_count": 4,
   "id": "7c3a8fdb-dbfa-42b6-907d-88061fab5ea5",
   "metadata": {},
   "outputs": [
    {
     "name": "stdout",
     "output_type": "stream",
     "text": [
      "Chronics: 44\n",
      "Controls: 25\n",
      "Total: 69\n"
     ]
    }
   ],
   "source": [
    "print(f\"Chronics: {len([el for el in sub_ids if el.startswith('0')])}\")\n",
    "print(f\"Controls: {len([el for el in sub_ids if el.startswith('C')])}\")\n",
    "print(f\"Total: {len(sub_ids)}\")"
   ]
  },
  {
   "cell_type": "code",
   "execution_count": 10,
   "id": "a6aec751",
   "metadata": {},
   "outputs": [],
   "source": [
    "sub_ids = ['056']"
   ]
  },
  {
   "cell_type": "code",
   "execution_count": 11,
   "id": "0b27ddca-2548-4884-9d57-42ea6d494d76",
   "metadata": {},
   "outputs": [
    {
     "name": "stdout",
     "output_type": "stream",
     "text": [
      "056 duration: 1.0\n",
      "056 too short\n"
     ]
    }
   ],
   "source": [
    "for sub_id in sub_ids:\n",
    "    # Preprocess continuous to eyes open, noise calibration, and eyes closed\n",
    "    # raw, eyes_closed, noise_segment, eyes_open = preprocess.to_raw(data_path,sub_id,save_path=processed_data_path,csv_path=csv_path)\n",
    "    # raw = mne.io.read_raw_fif(epo_path / f'{sub_id}_preprocessed-raw.fif', preload=True)\n",
    "    \n",
    "    stim_epochs = mne.read_epochs(epo_path / f'{sub_id}_preprocessed-epo.fif')\n",
    "    stim_epochs, epo_times, stim_labels, pain_ratings = preprocess.to_epo(raw, sub_id, data_path, times_tup, save_path=processed_data_path) \n",
    "    \n",
    "    # check epochs for duration in seconds\n",
    "    dur = stim_epochs.times[-1] - stim_epochs.times[0]\n",
    "    print(f\"{sub_id} duration: {dur}\")\n",
    "    if dur < 5.0:\n",
    "        print(f\"{sub_id} too short\")\n",
    "        continue"
   ]
  },
  {
   "cell_type": "code",
   "execution_count": 7,
   "id": "5c08d431",
   "metadata": {},
   "outputs": [],
   "source": [
    "# NO Keypresses\n",
    "sub_ids = ['045', 'C1.', 'C5.', 'C8.', 'C20', 'C21', 'C22']"
   ]
  },
  {
   "cell_type": "code",
   "execution_count": null,
   "id": "e7a71f31",
   "metadata": {},
   "outputs": [],
   "source": []
  }
 ],
 "metadata": {
  "kernelspec": {
   "display_name": "Python 3",
   "language": "python",
   "name": "python3"
  },
  "language_info": {
   "codemirror_mode": {
    "name": "ipython",
    "version": 3
   },
   "file_extension": ".py",
   "mimetype": "text/x-python",
   "name": "python",
   "nbconvert_exporter": "python",
   "pygments_lexer": "ipython3",
   "version": "3.11.7"
  }
 },
 "nbformat": 4,
 "nbformat_minor": 5
}
