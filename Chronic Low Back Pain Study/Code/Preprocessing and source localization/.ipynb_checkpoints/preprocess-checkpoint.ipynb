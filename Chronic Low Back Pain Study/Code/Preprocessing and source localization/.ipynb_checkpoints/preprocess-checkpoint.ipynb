{
 "cells": [
  {
   "cell_type": "markdown",
   "id": "2947c985-edb4-4e37-ac38-e2abc335d541",
   "metadata": {
    "tags": []
   },
   "source": [
    "## Cropping from Raw to extract eyes open and eyes closed recording\n",
    "#### Input: *.edf with recording data and the .csv containing timestamps for resting recording\n",
    "####  Output: *-resting_EC-raw.fif, *resting_EO-raw.fif, *-noise_EO-raw.fif"
   ]
  },
  {
   "cell_type": "code",
   "execution_count": 2,
   "id": "93bc0409-9fd5-479d-8dde-25a747c13efe",
   "metadata": {
    "scrolled": true,
    "tags": []
   },
   "outputs": [
    {
     "name": "stdout",
     "output_type": "stream",
     "text": [
      "0 files missing from root.txt in /home/sb10flpc002/mne_data/MNE-fsaverage-data\n",
      "0 files missing from bem.txt in /home/sb10flpc002/mne_data/MNE-fsaverage-data/fsaverage\n"
     ]
    }
   ],
   "source": [
    "import sys\n",
    "#sys.path.append('/home/wanglab/Documents/George Kenefati/Code/eeg_toolkit/')\n",
    "sys.path.append('/media/sb10flpc002/08e63286-43ce-4f61-9491-1ed048c96f20/Rachel Wu/eeg-projects/Code/eeg_toolkit/')\n",
    "import os\n",
    "import mne\n",
    "import pandas as pd\n",
    "#%conda install openpyxl -y\n",
    "import eeg_toolkit\n",
    "from eeg_toolkit import utils, preprocess, source_localization"
   ]
  },
  {
   "cell_type": "markdown",
   "id": "71e18c1a-a70f-4ec9-904b-819ea3223826",
   "metadata": {},
   "source": [
    "### Testing the get_cropped_resting_EEGs function"
   ]
  },
  {
   "cell_type": "code",
   "execution_count": 32,
   "id": "17921f5f-2538-44b4-9c9f-38a62b1ef6ff",
   "metadata": {},
   "outputs": [
    {
     "name": "stdout",
     "output_type": "stream",
     "text": [
      "Eyes closed is not longer than 3 mins. Length of EC reading is: 16.94749999999999\n"
     ]
    },
    {
     "data": {
      "text/plain": [
       "(<Raw | 008_preprocessed-raw.fif, 32 x 6780 (16.9 s), ~43 kB, data not loaded>,\n",
       " <Raw | 008_preprocessed-raw.fif, 32 x 36001 (90.0 s), ~43 kB, data not loaded>,\n",
       " <Raw | 008_preprocessed-raw.fif, 32 x 60001 (150.0 s), ~43 kB, data not loaded>)"
      ]
     },
     "execution_count": 32,
     "metadata": {},
     "output_type": "execute_result"
    }
   ],
   "source": [
    "save_path_resting = '/media/sb10flpc002/08e63286-43ce-4f61-9491-1ed048c96f20/Rachel Wu/eeg-projects/Chronic Low Back Pain Study/Data'\n",
    "csv_path = '/media/sb10flpc002/08e63286-43ce-4f61-9491-1ed048c96f20/Rachel Wu/eeg-projects/Chronic Low Back Pain Study/Data/Eyes Timestamps'\n",
    "file_path = '/run/user/1000/gvfs/smb-share:server=research-cifs.nyumc.org,share=research/jwanglab/jwanglabspace/George Kenefati/Chronic Low Back Pain Study/Data/Processed Data/008_preprocessed-raw.fif'\n",
    "raw_file = mne.io.read_raw_fif(file_path, preload = False)\n",
    "preprocess.get_cropped_resting_EEGs(\"008\", raw_file, csv_path, save_path_resting)"
   ]
  },
  {
   "cell_type": "code",
   "execution_count": 13,
   "id": "5fd52fa4-76f2-4e5a-bcf0-b55659de128a",
   "metadata": {},
   "outputs": [
    {
     "name": "stderr",
     "output_type": "stream",
     "text": [
      "2024-01-12 11:14:11,250 - qdarkstyle - INFO - QSS file successfully loaded.\n",
      "2024-01-12 11:14:11,251 - qdarkstyle - INFO - Found version patches to be applied.\n",
      "2024-01-12 11:14:11,252 - qdarkstyle - INFO - Found application patches to be applied.\n"
     ]
    },
    {
     "data": {
      "text/plain": [
       "<mne_qt_browser._pg_figure.MNEQtBrowser at 0x7f1ba608b760>"
      ]
     },
     "execution_count": 13,
     "metadata": {},
     "output_type": "execute_result"
    }
   ],
   "source": [
    "eyes_closed = mne.io.read_raw_fif(\"/media/sb10flpc002/08e63286-43ce-4f61-9491-1ed048c96f20/Rachel Wu/eeg-projects/Chronic Low Back Pain Study/Data/037_eyes_closed-raw.fif\", preload = False)\n",
    "eyes_closed.plot()"
   ]
  },
  {
   "cell_type": "code",
   "execution_count": 14,
   "id": "ec6ac724-3a00-4e49-b758-91ca78ff84fa",
   "metadata": {},
   "outputs": [
    {
     "name": "stderr",
     "output_type": "stream",
     "text": [
      "2024-01-12 11:15:19,982 - qdarkstyle - INFO - QSS file successfully loaded.\n",
      "2024-01-12 11:15:19,983 - qdarkstyle - INFO - Found version patches to be applied.\n",
      "2024-01-12 11:15:19,983 - qdarkstyle - INFO - Found application patches to be applied.\n"
     ]
    },
    {
     "data": {
      "text/plain": [
       "<mne_qt_browser._pg_figure.MNEQtBrowser at 0x7f1ba89f7b50>"
      ]
     },
     "execution_count": 14,
     "metadata": {},
     "output_type": "execute_result"
    }
   ],
   "source": [
    "eyes_open = mne.io.read_raw_fif(\"/media/sb10flpc002/08e63286-43ce-4f61-9491-1ed048c96f20/Rachel Wu/eeg-projects/Chronic Low Back Pain Study/Data/037_eyes_open-raw.fif\", preload = False)\n",
    "eyes_open.plot()"
   ]
  },
  {
   "cell_type": "code",
   "execution_count": null,
   "id": "be8ecbea-4a7a-476f-93ee-ea203a9d6c32",
   "metadata": {},
   "outputs": [],
   "source": []
  },
  {
   "cell_type": "code",
   "execution_count": 27,
   "id": "edc57c74-45e2-432b-9e64-238a9e859bb5",
   "metadata": {
    "scrolled": true
   },
   "outputs": [
    {
     "data": {
      "text/plain": [
       "(<Raw | 044_preprocessed-raw.fif, 64 x 72001 (180.0 s), ~80 kB, data not loaded>,\n",
       " <Raw | 044_preprocessed-raw.fif, 64 x 36001 (90.0 s), ~80 kB, data not loaded>,\n",
       " <Raw | 044_preprocessed-raw.fif, 64 x 60001 (150.0 s), ~80 kB, data not loaded>)"
      ]
     },
     "execution_count": 27,
     "metadata": {},
     "output_type": "execute_result"
    }
   ],
   "source": [
    "save_path_resting = '/media/sb10flpc002/08e63286-43ce-4f61-9491-1ed048c96f20/Rachel Wu/eeg-projects/Chronic Low Back Pain Study/Data'\n",
    "csv_path = '/media/sb10flpc002/08e63286-43ce-4f61-9491-1ed048c96f20/Rachel Wu/eeg-projects/Chronic Low Back Pain Study/Data/Eyes Timestamps'\n",
    "file_path = '/run/user/1000/gvfs/smb-share:server=research-cifs.nyumc.org,share=research/jwanglab/jwanglabspace/George Kenefati/Chronic Low Back Pain Study/Data/Processed Data/044_preprocessed-raw.fif'\n",
    "raw_file = mne.io.read_raw_fif(file_path, preload = False)\n",
    "preprocess.get_cropped_resting_EEGs(\"044\", raw_file, csv_path, save_path_resting)"
   ]
  },
  {
   "cell_type": "code",
   "execution_count": 28,
   "id": "d6bee45c-4934-4e10-a55d-801b0b380c47",
   "metadata": {
    "scrolled": true
   },
   "outputs": [
    {
     "data": {
      "text/plain": [
       "(<Raw | C6._preprocessed-raw.fif, 64 x 72001 (180.0 s), ~80 kB, data not loaded>,\n",
       " <Raw | C6._preprocessed-raw.fif, 64 x 48001 (120.0 s), ~80 kB, data not loaded>,\n",
       " <Raw | C6._preprocessed-raw.fif, 64 x 72001 (180.0 s), ~80 kB, data not loaded>)"
      ]
     },
     "execution_count": 28,
     "metadata": {},
     "output_type": "execute_result"
    }
   ],
   "source": [
    "save_path_resting = '/media/sb10flpc002/08e63286-43ce-4f61-9491-1ed048c96f20/Rachel Wu/eeg-projects/Chronic Low Back Pain Study/Data'\n",
    "csv_path = '/media/sb10flpc002/08e63286-43ce-4f61-9491-1ed048c96f20/Rachel Wu/eeg-projects/Chronic Low Back Pain Study/Data/Eyes Timestamps'\n",
    "file_path = '/run/user/1000/gvfs/smb-share:server=research-cifs.nyumc.org,share=research/jwanglab/jwanglabspace/George Kenefati/Chronic Low Back Pain Study/Data/Processed Data/C6._preprocessed-raw.fif'\n",
    "raw_file = mne.io.read_raw_fif(file_path, preload = False)\n",
    "preprocess.get_cropped_resting_EEGs(\"C6.\", raw_file, csv_path, save_path_resting)"
   ]
  },
  {
   "cell_type": "code",
   "execution_count": 9,
   "id": "842b367f-9d3c-4436-868f-6fb7ffe7b719",
   "metadata": {},
   "outputs": [
    {
     "name": "stdout",
     "output_type": "stream",
     "text": [
      "[-2.5,0.0,2.5]\n"
     ]
    }
   ],
   "source": [
    "# Settings\n",
    "times_tup,time_win_path = preprocess.get_time_window(5)\n",
    "\n",
    "# Read in csv files with timestamps for eyes open/closed/stop\n",
    "csv_path = '../../../Data/Eyes Timestamps/'\n",
    "\n",
    "# Read in processed raw data\n",
    "data_path = '../../Data/Processed Data/'\n",
    "epo_path = '../../Data/Processed Data/' + time_win_path\n",
    "save_path_resting = '../../Data/Processed Data/'\n",
    "save_path_cont = '../../Data/STC_Continuous/'\n",
    "save_path_zepo = '../../Data/STC_Z_scored_Epochs/' + time_win_path\n",
    "\n",
    "if not os.path.exists(save_path_resting):\n",
    "    os.makedirs(save_path_resting)\n",
    "    \n",
    "if not os.path.exists(save_path_cont):\n",
    "    os.makedirs(save_path_cont)\n",
    "\n",
    "if not os.path.exists(save_path_zepo):\n",
    "    os.makedirs(save_path_zepo)\n",
    "\n",
    "# Noise cov: crop raw during eyes-open resting condition\n",
    "noise_cov_win = 5.5, 7.5 # rest_min, rest_max"
   ]
  },
  {
   "cell_type": "code",
   "execution_count": 6,
   "id": "6525eacb-e00a-4c11-aad8-c3086d8b6a48",
   "metadata": {},
   "outputs": [
    {
     "name": "stdout",
     "output_type": "stream",
     "text": [
      "['018', '020', '021', '022', '023', '024', '027', '029', '030', '031', '032', '033', '034', '035', '036', '037', '038', '039', '040', '041', '042', '043', '044', '045', '046', '048', '049', '050', '051', '052', '053', '054', '055', '056', '057', '058', 'C1.', 'C2.', 'C3.', 'C5.', 'C6.', 'C7.', 'C8.', 'C9.', 'C10', 'C11', 'C12', 'C13', 'C14', 'C15', 'C16', 'C17', 'C18', 'C19', 'C20', 'C21', 'C22', 'C24', 'C25', 'C26', 'C27']\n"
     ]
    }
   ],
   "source": [
    "# viable subjects\n",
    "sub_ids = utils.import_subs(data_path)\n",
    "# select only 64ch subs and turn into set\n",
    "sub_ids = sub_ids[7:]\n",
    "print(sub_ids)"
   ]
  },
  {
   "cell_type": "code",
   "execution_count": 7,
   "id": "7c3a8fdb-dbfa-42b6-907d-88061fab5ea5",
   "metadata": {},
   "outputs": [
    {
     "name": "stdout",
     "output_type": "stream",
     "text": [
      "Chronics: 36\n",
      "Controls: 25\n",
      "Total: 61\n"
     ]
    }
   ],
   "source": [
    "print(f\"Chronics: {len([el for el in sub_ids if el.startswith('0')])}\")\n",
    "print(f\"Controls: {len([el for el in sub_ids if el.startswith('C')])}\")\n",
    "print(f\"Total: {len(sub_ids)}\")"
   ]
  },
  {
   "cell_type": "code",
   "execution_count": 1,
   "id": "e2f59dbb-def1-4166-9727-d75980930d55",
   "metadata": {},
   "outputs": [],
   "source": [
    "# Function purpose: Obtain the CSV file with timestamps for resting EEG timeframe\n",
    "# Inputs: sub_id = subject id of interest, csv_path = file path to the csv\n",
    "# Outputs: Corresponding csv file for subject of interest\n",
    "def load_csv(sub_id, csv_path):\n",
    "    csv_folder = os.listdir(csv_path)\n",
    "    for file in csv_folder:\n",
    "        if file.endswith(\".csv\") and sub_id in file:\n",
    "            return pd.read_csv(os.path.join(csv_path, file))\n",
    "    print(f\"CSV file with {sub_id} not found in the folder.\")\n",
    "    return None\n",
    "\n",
    "# Function purpose: Create cropped files and save them.\n",
    "# Inputs: raw = *raw.fif file, start = beginning timepoint in seconds, stop = ending timepoint in seconds\n",
    "            # save_path = file path to file for saved cropped data\n",
    "            # category = name for file (eyes_closed, noise, eyes_open)\n",
    "# Outputs: cropped file\n",
    "def save_cropped_data(raw, start, stop, sub_id, save_path, category):\n",
    "    filename = f\"{sub_id}_{category}-raw.fif\"\n",
    "    filepath = os.path.join(save_path, filename)\n",
    "    cropped = raw.copy().crop(tmin=start, tmax=stop)\n",
    "    cropped.save(filepath, overwrite=True)\n",
    "    return cropped\n",
    "\n",
    "# Function purpose: Create recording of the full resting EEG\n",
    "# Inputs: sub_id = subject ID ie the patient number, csv_path = file path for the csv with the resting timestamps\n",
    "        # raw = *{sub_id}...raw.fif file\n",
    "# Outputs: *raw.fif file with recording for eyes closed only (e.g. 007_eyes_closed-raw.fif)\n",
    "        # *raw.fif file with recording for noise calibration only (e.g. 007_noise-raw.fif)\n",
    "        # *raw.fif file with recording for eyes open only (e.g. 007_eyes_open-raw.fif)\n",
    "def crop_resting(sub_id, csv_path, raw):\n",
    "    timestamp_csv = load_csv(sub_id, csv_path)\n",
    "    if timestamp_csv is None: return None\n",
    "\n",
    "    EC_start, EC_stop, EO_start, EO_stop = timestamp_csv['Seconds'][0:4]\n",
    "    \n",
    "    # Establish timestamps assuming enough recorded for 5 mins of eyes open noise = 2 mins, EO = 3 mins\n",
    "    noise_start = EO_start\n",
    "    noise_stop = EO_start + 120\n",
    "    cropped_EO_start = noise_stop\n",
    "    cropped_EO_stop = noise_stop + 180\n",
    "\n",
    "    EO_duration = EO_stop - EO_start\n",
    "\n",
    "    # Adjust durations based on the length of the recording\n",
    "    if EO_duration < 300: #Resting recording is less than 5 mins\n",
    "        if EO_duration < 270: #Resting recording is less than 4.5 mins\n",
    "            noise_stop = EO_start + 60 # Noise is 1 minute \n",
    "            cropped_EO_start = noise_stop\n",
    "            cropped_EO_stop = noise_stop + 180 # EO is 3 minutes\n",
    "        else:\n",
    "            noise_stop = EO_start + 90 # Noise is 1.5 mins\n",
    "            cropped_EO_stop = noise_stop + 180 # EO is 3 minutes\n",
    "\n",
    "    # Send message if eyes closed is shorter than 3 mins, otherwise default is 3 min eyes closed recording\n",
    "    if (EC_stop - EC_start) < 180:\n",
    "        print(f\"Eyes closed is not longer than 3 mins. Length of EC reading is: {EC_stop- EC_start}\")\n",
    "    else:\n",
    "        EC_stop = EC_start + 180\n",
    "\n",
    "    # Crop and save the cropped raw data to a raw.fif file\n",
    "    EC_cropped = save_cropped_data(raw, EC_start, EC_stop, sub_id, save_path_resting, 'eyes_closed')\n",
    "    noise_cropped = save_cropped_data(raw, noise_start, noise_stop, sub_id, save_path_resting, 'noise')\n",
    "    EO_cropped = save_cropped_data(raw, cropped_EO_start, cropped_EO_stop, sub_id, save_path_resting, 'eyes_open')\n",
    "\n",
    "    return EC_cropped, noise_cropped, EO_cropped"
   ]
  },
  {
   "cell_type": "code",
   "execution_count": 11,
   "id": "0b27ddca-2548-4884-9d57-42ea6d494d76",
   "metadata": {},
   "outputs": [
    {
     "name": "stdout",
     "output_type": "stream",
     "text": [
      "%%%%%%%%%%%%%%\t11\t!! ZEPOCHS !! medialorbitofrontal-rh\t\t%%%%%%%%%%%%%%\n",
      "\n",
      "C27_preprocessed-epo.fif\n",
      "Preparing the inverse operator for use...\n",
      "    Scaled noise and source covariance from nave = 1 to nave = 1\n",
      "    Created the regularized inverter\n",
      "    Created an SSP operator (subspace dimension = 1)\n",
      "    Created the whitener using a noise covariance matrix with rank 60 (4 small eigenvalues omitted)\n",
      "    Computing noise-normalization factors (dSPM)...\n",
      "[done]\n",
      "Picked 64 channels from the data\n",
      "Computing inverse...\n",
      "    Eigenleads need to be weighted ...\n",
      "Processing epoch : 1 / 52\n",
      "combining the current components...\n",
      "Processing epoch : 2 / 52\n",
      "combining the current components...\n",
      "Processing epoch : 3 / 52\n",
      "combining the current components...\n",
      "Processing epoch : 4 / 52\n",
      "combining the current components...\n",
      "Processing epoch : 5 / 52\n",
      "combining the current components...\n",
      "Processing epoch : 6 / 52\n",
      "combining the current components...\n",
      "Processing epoch : 7 / 52\n",
      "combining the current components...\n",
      "Processing epoch : 8 / 52\n",
      "combining the current components...\n",
      "Processing epoch : 9 / 52\n",
      "combining the current components...\n",
      "Processing epoch : 10 / 52\n",
      "combining the current components...\n",
      "Processing epoch : 11 / 52\n",
      "combining the current components...\n",
      "Processing epoch : 12 / 52\n",
      "combining the current components...\n",
      "Processing epoch : 13 / 52\n",
      "combining the current components...\n",
      "Processing epoch : 14 / 52\n",
      "combining the current components...\n",
      "Processing epoch : 15 / 52\n",
      "combining the current components...\n",
      "Processing epoch : 16 / 52\n",
      "combining the current components...\n",
      "Processing epoch : 17 / 52\n",
      "combining the current components...\n",
      "Processing epoch : 18 / 52\n",
      "combining the current components...\n",
      "Processing epoch : 19 / 52\n",
      "combining the current components...\n",
      "Processing epoch : 20 / 52\n",
      "combining the current components...\n",
      "Processing epoch : 21 / 52\n",
      "combining the current components...\n",
      "Processing epoch : 22 / 52\n",
      "combining the current components...\n",
      "Processing epoch : 23 / 52\n",
      "combining the current components...\n",
      "Processing epoch : 24 / 52\n",
      "combining the current components...\n",
      "Processing epoch : 25 / 52\n",
      "combining the current components...\n",
      "Processing epoch : 26 / 52\n",
      "combining the current components...\n",
      "Processing epoch : 27 / 52\n",
      "combining the current components...\n",
      "Processing epoch : 28 / 52\n",
      "combining the current components...\n",
      "Processing epoch : 29 / 52\n",
      "combining the current components...\n",
      "Processing epoch : 30 / 52\n",
      "combining the current components...\n",
      "Processing epoch : 31 / 52\n",
      "combining the current components...\n",
      "Processing epoch : 32 / 52\n",
      "combining the current components...\n",
      "Processing epoch : 33 / 52\n",
      "combining the current components...\n",
      "Processing epoch : 34 / 52\n",
      "combining the current components...\n",
      "Processing epoch : 35 / 52\n",
      "combining the current components...\n",
      "Processing epoch : 36 / 52\n",
      "combining the current components...\n",
      "Processing epoch : 37 / 52\n",
      "combining the current components...\n",
      "Processing epoch : 38 / 52\n",
      "combining the current components...\n",
      "Processing epoch : 39 / 52\n",
      "combining the current components...\n",
      "Processing epoch : 40 / 52\n",
      "combining the current components...\n",
      "Processing epoch : 41 / 52\n",
      "combining the current components...\n",
      "Processing epoch : 42 / 52\n",
      "combining the current components...\n",
      "Processing epoch : 43 / 52\n",
      "combining the current components...\n",
      "Processing epoch : 44 / 52\n",
      "combining the current components...\n",
      "Processing epoch : 45 / 52\n",
      "combining the current components...\n",
      "Processing epoch : 46 / 52\n",
      "combining the current components...\n",
      "Processing epoch : 47 / 52\n",
      "combining the current components...\n",
      "Processing epoch : 48 / 52\n",
      "combining the current components...\n",
      "Processing epoch : 49 / 52\n",
      "combining the current components...\n",
      "Processing epoch : 50 / 52\n",
      "combining the current components...\n",
      "Processing epoch : 51 / 52\n",
      "combining the current components...\n",
      "Processing epoch : 52 / 52\n",
      "combining the current components...\n",
      "[done]\n",
      "Saving file: medialorbitofrontal_stc_zepo.mat\n"
     ]
    }
   ],
   "source": [
    "for sub_id in sub_ids:\n",
    "    _ = source_localization.to_source(sub_id,data_path,epo_path,\n",
    "                                  save_path_cont,\n",
    "                                  save_path_zepo,\n",
    "                                  roi_names,\n",
    "                                  times_tup,\n",
    "                                  noise_cov_win,\n",
    "                                  include_zepochs=True,\n",
    "                                  average_dipoles=True)       "
   ]
  },
  {
   "cell_type": "code",
   "execution_count": null,
   "id": "5ff2ca0f-ec76-40da-a67d-a57d3fb7b3c0",
   "metadata": {},
   "outputs": [],
   "source": []
  }
 ],
 "metadata": {
  "kernelspec": {
   "display_name": "mne",
   "language": "python",
   "name": "mne"
  },
  "language_info": {
   "codemirror_mode": {
    "name": "ipython",
    "version": 3
   },
   "file_extension": ".py",
   "mimetype": "text/x-python",
   "name": "python",
   "nbconvert_exporter": "python",
   "pygments_lexer": "ipython3",
   "version": "3.11.7"
  }
 },
 "nbformat": 4,
 "nbformat_minor": 5
}
