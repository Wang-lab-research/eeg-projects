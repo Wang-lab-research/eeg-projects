{
 "cells": [
  {
   "cell_type": "markdown",
   "id": "3b5c831f-978e-40da-92ea-40f777c23a1e",
   "metadata": {
    "tags": []
   },
   "source": [
    "# Preprocess continous FIF data to epoched FIF data\n",
    "###  Output: *-epo.fif, *-epo_times.mat, and *-stim_labels.mat"
   ]
  },
  {
   "cell_type": "markdown",
   "id": "42f43f34-7d46-4912-85e0-69d823aefb14",
   "metadata": {
    "tags": []
   },
   "source": [
    "##### Define functions for finding relevant events + event name dictionary"
   ]
  },
  {
   "cell_type": "code",
   "execution_count": 51,
   "id": "c246eb5e",
   "metadata": {
    "jupyter": {
     "source_hidden": true
    },
    "tags": []
   },
   "outputs": [],
   "source": [
    "import sys\n",
    "import os\n",
    "import numpy as np\n",
    "import mne\n",
    "import matplotlib.pyplot as plt\n",
    "\n",
    "from mne.preprocessing import ICA\n",
    "from pyprep.find_noisy_channels import NoisyChannels\n",
    "\n",
    "from autoreject import AutoReject\n",
    "from autoreject import get_rejection_threshold\n",
    "\n",
    "from IPython import display\n",
    "\n",
    "import scipy.io as scio\n",
    "\n",
    "import re\n",
    "\n",
    "## define functions for extracting relevant epochs\n",
    "def delete_multiple_elements(list_object, indices):\n",
    "    indices = sorted(indices, reverse=True)\n",
    "    for idx in indices:\n",
    "        if idx < len(list_object):\n",
    "            list_object.pop(idx)## define functions for extracting relevant epochs\n",
    "\n",
    "def labels_to_keys(txt_labels_list, val_list):\n",
    "    stim_labels = [0]*len(txt_labels_list)\n",
    "    if 10 in val_list or 11 in val_list or 12 in val_list or 13 in val_list:\n",
    "        for i in range(0,len(stim_labels)):\n",
    "            if txt_labels_list[i] in yes_hand_pain_list:\n",
    "                    stim_labels[i] = 3\n",
    "            elif txt_labels_list[i] in med_hand_pain_list:\n",
    "                    stim_labels[i] = 4\n",
    "            elif txt_labels_list[i] in no_hand_pain_list:\n",
    "                    stim_labels[i] = 5\n",
    "            elif txt_labels_list[i] in yes_back_pain_list:\n",
    "                    stim_labels[i] = 6\n",
    "            elif txt_labels_list[i] in med_back_pain_list:\n",
    "                    stim_labels[i] = 7\n",
    "            elif txt_labels_list[i] in no_back_pain_list:\n",
    "                    stim_labels[i] = 8\n",
    "                \n",
    "    else:\n",
    "        for i in range(0,len(stim_labels)):\n",
    "            if txt_labels_list[i] in yes_hand_pain_list:\n",
    "                stim_labels[i] = 3\n",
    "            elif txt_labels_list[i] in no_hand_pain_list:\n",
    "                stim_labels[i] = 4\n",
    "            elif txt_labels_list[i] in yes_back_pain_list:\n",
    "                stim_labels[i] = 5\n",
    "            elif txt_labels_list[i] in no_back_pain_list:\n",
    "                stim_labels[i] = 6\n",
    "\n",
    "    # extract only integer keys\n",
    "    key_els = [num for num in stim_labels if isinstance(num, (int))]        \n",
    "    \n",
    "    return key_els\n",
    "\n",
    "## define label dictionary for epoch annotations\n",
    "## different keys account for different naming conventions\n",
    "## NOTE: the Trigger#X naming convention does not specify between hand and back stimulus\n",
    "custom_mapping = {'eyes closed': 1, 'Trigger#1': 1, 'EYES CLOSED': 1, # eyes closed\n",
    "                  'eyes open': 2, 'eyes opened': 2, 'Trigger#2': 2, 'EYES OPEN': 2, 'eyes openned':2, # eyes open\n",
    "                  'pinprick hand': 3, 'hand pinprick': 3, 'Yes Pain Hand': 3, 'Trigger#3': 3, 'HAND PINPRICK': 3, 'hand 32 gauge pinprick': 3, 'Yes Hand Pain': 3, 'Hand YES Pain prick' : 3,\n",
    "                  # highest intensity pain stimulus\n",
    "                  'Med Pain Hand': 4 , 'Med Hand Pain': 4 , 'Hand Medium Pain prick' : 4, # intermediate intensity pain stimulus (HAND)\n",
    "                  'No Pain Hand': 5, 'hand plastic':5, 'plastic hand': 5, 'Trigger#4': 5,  'HAND PLASTIC': 5, 'hand plastic filament':5, 'No Hand Pain': 5, 'Hand NO Pain' :5 ,\n",
    "                  # sensory stimulus, no pain \n",
    "                  'pinprick back': 6, 'back pinprick':6, 'Yes Pain Back': 6, 'BACK  PINPRICK': 6, 'BACK PINPRICK': 6, 'Trigger#5': 6, 'back 32 gauge pinprick':6, 'Yes Back Pain': 6, 'Back YES Pain prick':6, \n",
    "                  # highest intensity pain stimulus (BACK)\n",
    "                  'Med Pain Back': 7, 'Med Back Pain': 7, 'Back Medium Pain prick' : 7 , # intermediate intensity pain stimulus (BACK)\n",
    "                  'plastic back': 8, 'back plastic':8, 'No Pain Back': 8, 'BACK PLASTIC': 8, 'Trigger#6': 8, 'back plastic filament': 8 , 'No Back Pain': 8, 'Back No Pain': 8,\n",
    "                  # sensory stimulus, no pain (BACK)\n",
    "                  'stop': 9, 'Stop': 9, 'STOP': 9, # stop\n",
    "                  '1000001': 10, '100160': 10, '100480': 10, '1000000': 10, # lesser weight pen tip down\n",
    "                  '1000010': 11, '100048': 11, # lesser weight pen tip up\n",
    "                  '1100001': 12, '100320': 12, '1000000': 12, # greater weight pen tip down\n",
    "                  '1100010': 13, # greater weight pen tip up\n",
    "                  }\n",
    "\n",
    "# conversion factor for converting from given MS to SAMPLES\n",
    "MS_TO_SAMP = 400/1000 # e.g. 300 ms * (400 Hz / 1000 ms) = 120 samples\n",
    "SAMPS_TO_MS = 1000/400"
   ]
  },
  {
   "cell_type": "code",
   "execution_count": 52,
   "id": "597774c2-ff47-42cc-87c7-ae55ff7d898c",
   "metadata": {
    "jupyter": {
     "source_hidden": true
    },
    "tags": []
   },
   "outputs": [],
   "source": [
    "def get_stim_epochs(epochs, val_list, key_list, events_from_annot_drop_repeats_list,\n",
    "                   min_dur_stim, max_dur_stim,gap_ITI):\n",
    "    for i in range( len(epochs)-1 ):\n",
    "        # current epoch\n",
    "        pre_curr_pos = val_list.index(events_from_annot_drop_repeats_list[i-1][-1]) # get position of epoch description value \n",
    "        pre_curr_key_str = key_list[pre_curr_pos] # get key at position (e.g., 'Yes Pain Hand')\n",
    "        pre_curr_val = val_list[pre_curr_pos]\n",
    "\n",
    "        curr_pos = val_list.index(events_from_annot_drop_repeats_list[i][-1]) # get position of epoch description value \n",
    "        curr_key_str = key_list[curr_pos] # get key at position (e.g., 'Yes Pain Hand')\n",
    "        curr_val = val_list[curr_pos]\n",
    "\n",
    "        next_pos = val_list.index(events_from_annot_drop_repeats_list[i+1][-1]) # get position of epoch description value \n",
    "        next_key_str = key_list[next_pos] # get key at position (e.g., 'Yes Pain Hand')\n",
    "        next_val = val_list[next_pos]\n",
    "\n",
    "        # for paradigms with NS, LS, HS pinprick keys_from_annot AND key presses\n",
    "        if ((10 in val_list or 12 in val_list) and 3 in val_list):\n",
    "            # print(0)\n",
    "            if ( (curr_val in range(3,9)) and (next_val in range(10,14)) ):\n",
    "                # print('00')\n",
    "                StimOn_ids.append(i+1) # save pinprick marker\n",
    "                stim_labels.append(curr_key_str) # save label\n",
    "                key_to_pp_lag.append( (events_from_annot_drop_repeats_list[i+1][0] - events_from_annot_drop_repeats_list[i][0])*SAMPS_TO_MS ) \n",
    "                # print(next_key_str)\n",
    "\n",
    "            # check whether there are any pinprick keys_from_annot missing for some of the key presses\n",
    "            elif ( (curr_val in range(3,9)) and (next_val not in range(10,14)) ):\n",
    "                # print(curr_val, next_val)\n",
    "                # print('01')\n",
    "                key_wo_pp_ids.append(i) # save pinprick marker\n",
    "                key_wo_pp_lbls.append(curr_key_str) # save label\n",
    "                key_wo_pp_samps_to_ms.append(events_from_annot_drop_repeats_list[i][0]*SAMPS_TO_MS)\n",
    "\n",
    "                # print(next_key_str)\n",
    "\n",
    "        # for paradigms with NS and HS, no LS. Key presses but no pinprick keys_from_annot\n",
    "        elif 10 not in val_list or 12 not in val_list:\n",
    "            # print(1)\n",
    "            if (curr_val in range(3,9)): #and curr_val <= 8 and curr_val != 4 and curr_val != 7:\n",
    "                # print('11')\n",
    "                StimOn_ids.append(i)\n",
    "                stim_labels.append(curr_key_str) # save label\n",
    "                # key_to_pp_lag.append( (events_from_annot_drop_repeats_list[i+1][0] - events_from_annot_drop_repeats_list[i][0])*SAMPS_TO_MS )\n",
    "\n",
    "        # for data missing all key presses, but has pinprick keys_from_annot\n",
    "        elif 3 not in val_list:\n",
    "            # print(2)\n",
    "            # if current is pinprick down and next is pinprick up within:\n",
    "            # max_dur_stim = 1500 # milliseconds\n",
    "            # min_dur_stim =  344 # milliseconds\n",
    "            # and if pinpricks occur at least gap_ITI apart:\n",
    "            # gap_ITI = 6000 # milliseconds\n",
    "\n",
    "            # if current is pinprick down and next is pinprick up within dur_stim:\n",
    "            if ( (curr_val == 10 or curr_val == 12) and (next_val == 11 or next_val == 13) and\n",
    "            (events_from_annot_drop_repeats_list[i+1][0] - events_from_annot_drop_repeats_list[i][0]) > float(min_dur_stim*MS_TO_SAMP) and \n",
    "            (events_from_annot_drop_repeats_list[i+1][0] - events_from_annot_drop_repeats_list[i][0]) < float(max_dur_stim*MS_TO_SAMP) ): # and\n",
    "            # AND if last pinprick marker is greater than gap_ITI before current marker:\n",
    "                # (pre_curr_val in range(10,14)) and (curr_val in range(10,14)) and\n",
    "            # ((events_from_annot_drop_repeats_list[i][0] - events_from_annot_drop_repeats_list[i-1][0]) > gap_ITI*MS_TO_SAMP ) ) :\n",
    "                StimOn_ids.append(i)\n",
    "                pp_updown_dur.append( (events_from_annot_drop_repeats_list[i+1][0] - events_from_annot_drop_repeats_list[i][0])*SAMPS_TO_MS )\n",
    "                ITI_stim_gap.append( (events_from_annot_drop_repeats_list[i][0] - events_from_annot_drop_repeats_list[i-1][0])*SAMPS_TO_MS )\n",
    "    \n",
    "    return stim_labels, StimOn_ids, key_wo_pp_ids, key_wo_pp_lbls, key_wo_pp_samps_to_ms, key_to_pp_lag, pp_updown_dur, ITI_stim_gap"
   ]
  },
  {
   "cell_type": "code",
   "execution_count": 53,
   "id": "ab3694ea-0f6d-42bf-9132-c8811d0274f9",
   "metadata": {
    "tags": []
   },
   "outputs": [
    {
     "name": "stdin",
     "output_type": "stream",
     "text": [
      "sub_num:  C20\n"
     ]
    }
   ],
   "source": [
    "sub_num = input(\"sub_num: \") "
   ]
  },
  {
   "cell_type": "code",
   "execution_count": 54,
   "id": "50576e7e-0d41-44b3-b799-6f3294ceb0e2",
   "metadata": {
    "tags": []
   },
   "outputs": [
    {
     "name": "stdout",
     "output_type": "stream",
     "text": [
      "Loaded 'C20 pinprick.xlsx'!\n"
     ]
    }
   ],
   "source": [
    "# import pain ratings to compare to annotations\n",
    "import pandas as pd\n",
    "eeg_dir = \"../../Data/EEG DATA/\"\n",
    "\n",
    "for file in os.listdir(eeg_dir):\n",
    "    if file.startswith(sub_num):\n",
    "        edf_dir = file\n",
    "\n",
    "xfname=\"\"\n",
    "for file in os.listdir(eeg_dir+edf_dir):\n",
    "    if file.endswith(\".xlsx\"):\n",
    "        xfname = file\n",
    "\n",
    "df = pd.read_excel((eeg_dir+edf_dir+'/'+xfname), sheet_name=0) \n",
    "\n",
    "lower_back_flag = 0\n",
    "try:\n",
    "    if isinstance(df['Unnamed: 2'].tolist().index('LOWER BACK '), int):\n",
    "        column_back_idx = df['Unnamed: 2'].tolist().index('LOWER BACK ')\n",
    "        ground_truth_hand = df['PIN PRICK PAIN SCALE '][3:column_back_idx].tolist()\n",
    "        \n",
    "        pain_ratings_hand = df['Unnamed: 1'][3:column_back_idx].tolist()\n",
    "        pain_ratings_back = df['Unnamed: 1'][column_back_idx:].tolist()\n",
    "\n",
    "    if ' 32 guage (3) ' in ground_truth_hand:\n",
    "        # index where rows switch to back\n",
    "        ground_truth_hand_new = []\n",
    "        for idx, el in enumerate(ground_truth_hand):\n",
    "            if el == ' 32 guage (3) ':\n",
    "                ground_truth_hand_new.append(3)\n",
    "            elif el == 'PM (4)':\n",
    "                ground_truth_hand_new.append(4)\n",
    "        # back rows\n",
    "        ground_truth_back = df['PIN PRICK PAIN SCALE '][column_back_id:].tolist()\n",
    "        ground_truth_back_new = []\n",
    "        for idx, el in enumerate(ground_truth_back):\n",
    "            if el == ' 32 guage (3) ':\n",
    "                ground_truth_back_new.append(5)\n",
    "            elif el == 'PM (4)':\n",
    "                ground_truth_back_new.append(6)\n",
    "    \n",
    "    lower_back_flag = 1\n",
    "except: pass\n",
    "\n",
    "if lower_back_flag:\n",
    "    # concatenate lists\n",
    "    ground_truth = ground_truth_hand_new + ground_truth_back_new\n",
    "    pain_ratings_lst = pain_ratings_hand + pain_ratings_back\n",
    "else:\n",
    "    # concatenate lists\n",
    "    ground_truth = df['PIN PRICK PAIN SCALE '][3:].tolist() \n",
    "    pain_ratings_lst = df['Unnamed: 1'][3:].tolist()\n",
    "\n",
    "# check if ground_truth contains nans which happens for some reason\n",
    "if np.any(np.isnan(ground_truth)):\n",
    "    excel_nans = np.where(np.isnan(ground_truth))\n",
    "    excel_nans = excel_nans[0].tolist()\n",
    "    delete_multiple_elements(ground_truth,excel_nans)\n",
    "    \n",
    "    pain_nans = np.where(np.isnan(pain_ratings_lst))\n",
    "    pain_nans = pain_nans[0].tolist()\n",
    "    delete_multiple_elements(pain_ratings_lst,pain_nans)\n",
    "    \n",
    "print(f\"Loaded '{xfname}'!\")\n",
    "\n",
    "ground_truth=ground_truth"
   ]
  },
  {
   "cell_type": "code",
   "execution_count": 55,
   "id": "59da9b9c-2231-45c8-a9e0-bb222c149c2c",
   "metadata": {
    "tags": []
   },
   "outputs": [],
   "source": [
    "# Notes:\n",
    "# C5 has a glitch where the 100048 keys_from_annot are all at time 0, so there are 6 key press keys_from_annot missing PP because they are followed by a 100048 instead of a 100480.\n",
    "# C5 epoch correction sequence is (after 1 for starting correction): 1 0 1 1 1 1."
   ]
  },
  {
   "cell_type": "code",
   "execution_count": 56,
   "id": "0403a812",
   "metadata": {
    "tags": []
   },
   "outputs": [
    {
     "name": "stdout",
     "output_type": "stream",
     "text": [
      "C20_preprocessed-raw.fif\n",
      "reading preprocessed-raw file...\n",
      "Opening raw data file ../../Data/Processed Data/C20_preprocessed-raw.fif...\n",
      "    Range : 0 ... 526879 =      0.000 ...  1317.197 secs\n",
      "Ready.\n",
      "Reading 0 ... 526879  =      0.000 ...  1317.197 secs...\n",
      "Used Annotations descriptions: ['1000001', '1000010', '1100001', '1100010']\n"
     ]
    },
    {
     "data": {
      "text/html": [
       "<table class=\"table table-hover table-striped table-sm table-responsive small\">\n",
       "    <tr>\n",
       "        <th>Measurement date</th>\n",
       "        \n",
       "        <td>March 08, 2022  12:26:41 GMT</td>\n",
       "        \n",
       "    </tr>\n",
       "    <tr>\n",
       "        <th>Experimenter</th>\n",
       "        \n",
       "        <td>Unknown</td>\n",
       "        \n",
       "    </tr>\n",
       "        <th>Participant</th>\n",
       "        \n",
       "        <td>Unknown</td>\n",
       "        \n",
       "    </tr>\n",
       "    <tr>\n",
       "        <th>Digitized points</th>\n",
       "        \n",
       "        <td>67 points</td>\n",
       "        \n",
       "    </tr>\n",
       "    <tr>\n",
       "        <th>Good channels</th>\n",
       "        <td>64 EEG</td>\n",
       "    </tr>\n",
       "    <tr>\n",
       "        <th>Bad channels</th>\n",
       "        <td>None</td>\n",
       "    </tr>\n",
       "    <tr>\n",
       "        <th>EOG channels</th>\n",
       "        <td>Not available</td>\n",
       "    </tr>\n",
       "    <tr>\n",
       "        <th>ECG channels</th>\n",
       "        <td>Not available</td>\n",
       "    \n",
       "    <tr>\n",
       "        <th>Sampling frequency</th>\n",
       "        <td>400.00 Hz</td>\n",
       "    </tr>\n",
       "    \n",
       "    \n",
       "    <tr>\n",
       "        <th>Highpass</th>\n",
       "        <td>1.00 Hz</td>\n",
       "    </tr>\n",
       "    \n",
       "    \n",
       "    <tr>\n",
       "        <th>Lowpass</th>\n",
       "        <td>100.00 Hz</td>\n",
       "    </tr>\n",
       "    \n",
       "    \n",
       "    \n",
       "    <tr>\n",
       "        <th>Filenames</th>\n",
       "        <td>C20_preprocessed-raw.fif</td>\n",
       "    </tr>\n",
       "    \n",
       "    <tr>\n",
       "        <th>Duration</th>\n",
       "        <td>00:21:58 (HH:MM:SS)</td>\n",
       "    </tr>\n",
       "</table>"
      ],
      "text/plain": [
       "<Raw | C20_preprocessed-raw.fif, 64 x 526880 (1317.2 s), ~257.3 MB, data loaded>"
      ]
     },
     "execution_count": 56,
     "metadata": {},
     "output_type": "execute_result"
    }
   ],
   "source": [
    "# subject ID\n",
    "data_dir = \"../../Data/Processed Data/\"\n",
    "save_dir = \"../../Data/Processed Data/\"\n",
    "\n",
    "sub_id=''\n",
    "for file in os.listdir(data_dir):\n",
    "    if file.startswith(sub_num) and file.endswith('raw.fif'):\n",
    "        sub_id = file\n",
    "\n",
    "print(f\"{sub_id}\\nreading preprocessed-raw file...\")\n",
    "raw = mne.io.read_raw_fif(data_dir+sub_id, preload=True)\n",
    "\n",
    "(events_from_annot, event_dict) = mne.events_from_annotations(raw, event_id=custom_mapping)\n",
    "\n",
    "# get key and val lists from event_dict\n",
    "key_list = list(event_dict.keys())\n",
    "val_list = list(event_dict.values())\n",
    "\n",
    "raw"
   ]
  },
  {
   "cell_type": "markdown",
   "id": "eeebe8b4-7211-4762-95b8-b0ab1f033449",
   "metadata": {},
   "source": [
    "#### **ARE THERE ANY EPOCHS SHARING A SAMPLE INDEX WITH A KEYPRESS?**\n",
    "#### *IF so, delete the issue event prior/after key-press before instantiating Epochs object*"
   ]
  },
  {
   "cell_type": "code",
   "execution_count": 57,
   "id": "fcea964c-d6a6-4ec0-b5a9-a82403c25c60",
   "metadata": {
    "tags": []
   },
   "outputs": [],
   "source": [
    "merged_flag = 0\n",
    "events_from_annot_new = events_from_annot.copy()\n",
    "for i in range(0,len(events_from_annot)-1):\n",
    "    # if any consecutive events occur at the same sample, delete the one thats not \n",
    "    if events_from_annot[i][0] == events_from_annot[i+1][0] and events_from_annot[i][2] < 10 :\n",
    "        merged_flag = 1\n",
    "        print(f\"Found merged epochs with labels {events_from_annot[i][2]} and {events_from_annot[i+1][2]}. Deleting epoch at index {i+1}.\")\n",
    "        print(f\"{i}: {events_from_annot[i]}\\n{i+1}: {events_from_annot [i+1]}\")\n",
    "        events_from_annot_new = np.delete(events_from_annot_new,i+1,axis=0)\n",
    "        \n",
    "    elif events_from_annot[i][0] == events_from_annot [i+1][0] and events_from_annot[i+1][2] < 10 :\n",
    "        merged_flag = 1\n",
    "        print(f\"Found merged epochs with labels {events_from_annot[i][2]} and {events_from_annot[i+1][2]}. Deleting epoch at index {i}.\")\n",
    "        print(f\"{i}: {events_from_annot[i]}\\n{i+1}: {events_from_annot [i+1]}\")\n",
    "        events_from_annot_new = np.delete(events_from_annot_new,i,axis=0)\n",
    "\n",
    "if merged_flag:\n",
    "    events_from_annot = events_from_annot_new"
   ]
  },
  {
   "cell_type": "markdown",
   "id": "83d2fa07-825f-49ca-8c68-4e9efeb43b05",
   "metadata": {},
   "source": [
    "#### **ARE THERE ANY REPEATED KEYPRESS keys_from_annot WITHIN THE SAME SECOND OR TWO?**\n",
    "#### *IF so, delete all prior issue events and just keep the last, then instantiate Epochs object*"
   ]
  },
  {
   "cell_type": "code",
   "execution_count": 58,
   "id": "03c8da50-225d-4dcc-ab47-2543689e3b88",
   "metadata": {
    "tags": []
   },
   "outputs": [],
   "source": [
    "repeated_flag = 0; repeated_count = 0\n",
    "events_from_annot_new = events_from_annot.copy()\n",
    "for i in range(0,len(events_from_annot_new)-1):\n",
    "    # if any consecutive events occur at the same sample, delete the one thats not \n",
    "    if events_from_annot[i][2] in range(3,8) and events_from_annot[i+1][2] in range(3,8):\n",
    "        # if the current and previous events have the same epoch and are less than a second apart BUT the following epoch is not less than a second apart:\n",
    "        if ( ((events_from_annot[i+1][0] - events_from_annot[i][0]) < 1000*MS_TO_SAMP) and (events_from_annot[i][2] == events_from_annot[i+1][2]) and \\\n",
    "            (events_from_annot[i+2][2] == events_from_annot[i+1][2]) ): # and not \\\n",
    "            # ( (events_from_annot[i+2][0] - events_from_annot[i+1][0]) > 1000*MS_TO_SAMP ) ):\n",
    "            \n",
    "            repeated_flag = 1\n",
    "            print(f\"Found repeated key press ({events_from_annot[i][2]}) at index {i}. Deleting epoch at index {i} and keeping the following epoch.\")\n",
    "            print(f\"{np.round(events_from_annot[i][0]*SAMPS_TO_MS/1000,2)}: {events_from_annot[i]}\")\n",
    "            print(f\"{np.round(events_from_annot[i+1][0]*SAMPS_TO_MS/1000,2)}: {events_from_annot[i+1]}\")\n",
    "            # events_from_annot_new = np.delete(events_from_annot_new, i+1, axis=0)\n",
    "            repeated_count += 1\n",
    "            \n",
    "#         # else if \n",
    "#         elif ( (events_from_annot[i+1][0] - events_from_annot[i][0]) < 1000*MS_TO_SAMP and \\\n",
    "#                (events_from_annot[i][2] == events_from_annot[i+1][2]) and not \\\n",
    "#                (events_from_annot[i+2][0] - events_from_annot[i+1][0]) > 1000*MS_TO_SAMP and \\\n",
    "#                (events_from_annot[i+2][2] != events_from_annot[i+1][2]) ):\n",
    "            \n",
    "if repeated_flag:\n",
    "    events_from_annot = events_from_annot_new\n",
    "    print(f\"\\nRemoved {repeated_count} extra keys_from_annot.\")"
   ]
  },
  {
   "cell_type": "markdown",
   "id": "457284e0-a186-48c5-a2bd-906e031c3681",
   "metadata": {},
   "source": [
    "Create initial epochs object with available keys_from_annot"
   ]
  },
  {
   "cell_type": "code",
   "execution_count": 59,
   "id": "5b2897d5-f699-4f04-9e5f-73919321456b",
   "metadata": {
    "tags": []
   },
   "outputs": [
    {
     "name": "stdout",
     "output_type": "stream",
     "text": [
      "C20_preprocessed-raw.fif\n",
      "Creating epochs WITH key presses\n",
      "\n",
      "Not setting metadata\n",
      "401 matching events found\n",
      "Applying baseline correction (mode: mean)\n",
      "0 projection items activated\n",
      "Using data from preloaded Raw for 401 events and 401 original time points ...\n",
      "0 bad epochs dropped\n"
     ]
    },
    {
     "data": {
      "text/html": [
       "<table class=\"table table-hover table-striped table-sm table-responsive small\">\n",
       "    <tr>\n",
       "        <th>Number of events</th>\n",
       "        <td>401</td>\n",
       "    </tr>\n",
       "    <tr>\n",
       "        <th>Events</th>\n",
       "        \n",
       "        <td>1000001: 103<br/>1000010: 104<br/>1100001: 97<br/>1100010: 97</td>\n",
       "        \n",
       "    </tr>\n",
       "    <tr>\n",
       "        <th>Time range</th>\n",
       "        <td>-0.200 – 0.800 s</td>\n",
       "    </tr>\n",
       "    <tr>\n",
       "        <th>Baseline</th>\n",
       "        <td>0.000 – 0.000 s</td>\n",
       "    </tr>\n",
       "</table>"
      ],
      "text/plain": [
       "<Epochs |  401 events (all good), -0.2 – 0.8 s, baseline 0 – 0 s, ~78.6 MB, data loaded,\n",
       " '1000001': 103\n",
       " '1000010': 104\n",
       " '1100001': 97\n",
       " '1100010': 97>"
      ]
     },
     "execution_count": 59,
     "metadata": {},
     "output_type": "execute_result"
    }
   ],
   "source": [
    "# create events to epoch-ize data\n",
    "\n",
    "# get key and val lists from event_dict\n",
    "key_list = list(event_dict.keys())\n",
    "val_list = list(event_dict.values())\n",
    "\n",
    "# create epochs object differently depending on paradigm\n",
    "if (10 in event_dict.values() or 12 in event_dict.values()):\n",
    "    print(f\"{sub_id}\\nCreating epochs WITH key presses\\n\")\n",
    "    epochs = mne.Epochs(raw, events_from_annot, event_dict, tmin=-0.2, tmax=0.8, proj=True, preload=True,\n",
    "                        event_repeated='merge', baseline=(0,0))\n",
    "else:    \n",
    "    # when we don't have key presses, let's assume that the key press is 200 ms before the pinprick, as the tmin for the first case ^\n",
    "    print(f\"{sub_id}\\nCreating epochs WITHOUT key presses\\n\")\n",
    "    epochs = mne.Epochs(raw, events_from_annot, event_dict, tmin=0.0, tmax=1.0, proj=True, preload=True,\n",
    "                        event_repeated='merge', baseline=(0,0))\n",
    "    \n",
    "# display.clear_output(wait=True)\n",
    "\n",
    "epochs\n",
    "\n",
    "# del raw # clear memory"
   ]
  },
  {
   "cell_type": "code",
   "execution_count": 60,
   "id": "c3de28bb-ecbb-4afd-83cc-bacc823a159a",
   "metadata": {
    "tags": []
   },
   "outputs": [
    {
     "name": "stdout",
     "output_type": "stream",
     "text": [
      "C20_preprocessed-raw.fif\n",
      "Removing repeated epochs from annotations...\n",
      "\n",
      "Dropped 0 repeated epochs\n"
     ]
    }
   ],
   "source": [
    "# adjust events_from_annot for repeated events that are dropped by MNE\n",
    "print(f\"{sub_id}\\nRemoving repeated epochs from annotations...\")\n",
    "epo_drop_arr = np.array(epochs.drop_log, dtype=object)\n",
    "repeated_ids = np.argwhere(epo_drop_arr)\n",
    "events_from_annot_drop_repeats_arr = np.delete(events_from_annot, repeated_ids, 0)\n",
    "events_from_annot_drop_repeats_list = events_from_annot_drop_repeats_arr.tolist()\n",
    "print(f\"\\nDropped {len(events_from_annot) - len(events_from_annot_drop_repeats_arr)} repeated epochs\")\n",
    "# display.clear_output(wait=True)"
   ]
  },
  {
   "cell_type": "markdown",
   "id": "bcacde85-50af-4f92-9445-bfbe6fe4c486",
   "metadata": {
    "tags": []
   },
   "source": [
    "##### Find stimulus events, labels, missing labels/samples, and PP/Stimulus Lags"
   ]
  },
  {
   "cell_type": "code",
   "execution_count": 61,
   "id": "79d802c2-b217-49e4-b21c-0301da746e7a",
   "metadata": {
    "tags": []
   },
   "outputs": [
    {
     "name": "stdout",
     "output_type": "stream",
     "text": [
      "C20_preprocessed-raw.fif\n",
      "finding the 60 pin-prick epochs...\n",
      "LAGS BETWEEN PINPRICK UP AND DOWN:\n",
      "[1030.0, 885.0, 965.0, 920.0, 992.5, 790.0, 800.0, 877.5, 877.5, 1015.0, 1240.0, 1120.0, 1160.0, 1045.0, 992.5, 807.5, 955.0, 1165.0, 930.0, 1177.5, 965.0, 860.0, 950.0, 902.5, 955.0, 790.0, 935.0, 860.0, 737.5, 732.5, 920.0, 925.0, 1042.5, 315.0, 865.0, 822.5, 835.0, 815.0, 835.0, 937.5, 915.0, 897.5, 910.0, 930.0, 910.0, 760.0, 825.0, 877.5, 842.5, 987.5, 1010.0, 910.0, 1027.5, 1082.5, 817.5, 822.5, 837.5, 907.5, 832.5, 887.5, 905.0]\n",
      "61\n"
     ]
    },
    {
     "data": {
      "text/html": [
       "<table class=\"table table-hover table-striped table-sm table-responsive small\">\n",
       "    <tr>\n",
       "        <th>Number of events</th>\n",
       "        <td>61</td>\n",
       "    </tr>\n",
       "    <tr>\n",
       "        <th>Events</th>\n",
       "        \n",
       "        <td>1000001: 30<br/>1100001: 31</td>\n",
       "        \n",
       "    </tr>\n",
       "    <tr>\n",
       "        <th>Time range</th>\n",
       "        <td>-0.200 – 0.800 s</td>\n",
       "    </tr>\n",
       "    <tr>\n",
       "        <th>Baseline</th>\n",
       "        <td>0.000 – 0.000 s</td>\n",
       "    </tr>\n",
       "</table>"
      ],
      "text/plain": [
       "<Epochs |  61 events (all good), -0.2 – 0.8 s, baseline 0 – 0 s, ~12.0 MB, data loaded,\n",
       " '1000001': 30\n",
       " '1100001': 31>"
      ]
     },
     "execution_count": 61,
     "metadata": {},
     "output_type": "execute_result"
    }
   ],
   "source": [
    "# find epochs only from stim events\n",
    "print(f\"{sub_id}\\nfinding the 60 pin-prick epochs...\")\n",
    "\n",
    "# get lists for keys and values of event_dict\n",
    "key_list = list(event_dict.keys())\n",
    "val_list = list(event_dict.values())\n",
    "\n",
    "# intialize lists for epoch indices and labels\n",
    "stim_labels = []\n",
    "StimOn_ids  = []\n",
    "key_wo_pp_ids = []\n",
    "key_wo_pp_lbls = []\n",
    "key_wo_pp_samps_to_ms = []\n",
    "key_to_pp_lag = []\n",
    "pp_updown_dur = []\n",
    "ITI_stim_gap = [] # uncertain whether this is calculated well enough to output it\n",
    "\n",
    "# save only stimulus epochs\n",
    "stim_labels, StimOn_ids, key_wo_pp_ids, key_wo_pp_lbls, key_wo_pp_samps_to_ms, key_to_pp_lag, pp_updown_dur, _ = get_stim_epochs(epochs,\n",
    "    val_list,\n",
    "    key_list,\n",
    "    events_from_annot_drop_repeats_list,\n",
    "    # min_dur_stim = 100, max_dur_stim = 1900, gap_ITI = 100) # 044\n",
    "    # min_dur_stim = 199, max_dur_stim = 1960, gap_ITI = 100) # 045\n",
    "    # min_dur_stim = 255, max_dur_stim = 1600, gap_ITI = 100) # 046\n",
    "    # min_dur_stim = 260, max_dur_stim = 1980, gap_ITI = 100) # C20\n",
    "    # min_dur_stim = 250, max_dur_stim = 1990, gap_ITI = 100) # C21\n",
    "    # min_dur_stim = 320, max_dur_stim = 1800, gap_ITI = 100) # C22\n",
    "\n",
    "stim_epochs = epochs[StimOn_ids]; #del epochs\n",
    "\n",
    "if 3 not in val_list:\n",
    "    print('LAGS BETWEEN PINPRICK UP AND DOWN:')\n",
    "    print(pp_updown_dur)\n",
    "    print(len(pp_updown_dur))\n",
    "\n",
    "    # if ITI_stim_gap:\n",
    "    #     print('LAGS BETWEEN STIMULUS EVENTS:')\n",
    "    #     print(ITI_stim_gap)\n",
    "    #     print(len(ITI_stim_gap))\n",
    "\n",
    "stim_epochs"
   ]
  },
  {
   "cell_type": "markdown",
   "id": "272e56e9-656f-4432-87f4-46e9b6413cb2",
   "metadata": {},
   "source": [
    "#### IF greater than 60, print below cell to compare to SigViewer.\n",
    "#### Then, if find an extra epoch, drop as usual"
   ]
  },
  {
   "cell_type": "code",
   "execution_count": 62,
   "id": "95e9c2fa-4e43-4be1-9965-30e0266cf666",
   "metadata": {
    "tags": []
   },
   "outputs": [
    {
     "name": "stdout",
     "output_type": "stream",
     "text": [
      "61 \n",
      "\n",
      "729.065\n",
      "737.3475\n",
      "748.29\n",
      "753.9975\n",
      "763.9575\n",
      "770.435\n",
      "778.435\n",
      "785.6275\n",
      "795.6775\n",
      "804.2375\n",
      "815.215\n",
      "821.2325\n",
      "831.59\n",
      "838.575\n",
      "848.7925\n",
      "858.8\n",
      "865.81\n",
      "875.61\n",
      "883.28\n",
      "893.845\n",
      "919.49\n",
      "927.1925\n",
      "935.9975\n",
      "946.55\n",
      "956.4\n",
      "966.3525\n",
      "975.9475\n",
      "987.12\n",
      "997.705\n",
      "1007.945\n",
      "1020.4075\n",
      "1029.9775\n",
      "1039.9275\n",
      "1042.24\n",
      "1047.925\n",
      "1057.51\n",
      "1066.755\n",
      "1076.335\n",
      "1085.3725\n",
      "1095.095\n",
      "1104.1625\n",
      "1118.925\n",
      "1128.215\n",
      "1146.115\n",
      "1154.9925\n",
      "1163.685\n",
      "1173.475\n",
      "1180.5175\n",
      "1189.895\n",
      "1199.3\n",
      "1209.16\n",
      "1220.6\n",
      "1229.1075\n",
      "1238.9625\n",
      "1248.8075\n",
      "1260.425\n",
      "1268.8175\n",
      "1279.8725\n",
      "1288.53\n",
      "1298.2525\n",
      "1308.5375\n"
     ]
    }
   ],
   "source": [
    "estimated_pp_times = [i[0]*SAMPS_TO_MS/1000 for i in stim_epochs.events.tolist()]\n",
    "print(len(estimated_pp_times),\"\\n\")\n",
    "[print(f\"{el}\") for i,el in enumerate(estimated_pp_times)];\n",
    "# [print(f\"{i}\\t{el}\") for i,el in enumerate(estimated_pp_times)];"
   ]
  },
  {
   "cell_type": "code",
   "execution_count": 63,
   "id": "dd1dc215-0a16-47a3-b897-7c0bca1c6dc5",
   "metadata": {},
   "outputs": [],
   "source": [
    "# [print(f\"{i}\\t{el}\") for i,el in enumerate(ground_truth)]"
   ]
  },
  {
   "cell_type": "markdown",
   "id": "e2d410f5-bb95-4a4a-bbbc-4ff2ca23ac50",
   "metadata": {
    "tags": []
   },
   "source": [
    "##### Create label lists for each stimulus type"
   ]
  },
  {
   "cell_type": "code",
   "execution_count": 64,
   "id": "7d56d7ee-992c-4038-8f6b-41c296226527",
   "metadata": {
    "tags": []
   },
   "outputs": [],
   "source": [
    "# define labels in separate lists\n",
    "custom_mapping.keys()\n",
    "\n",
    "# HAND\n",
    "yes_hand_pain_list = list(custom_mapping.keys())[8:16]\n",
    "# print(yes_hand_pain_list)\n",
    "med_hand_pain_list = list(custom_mapping.keys())[16:19]\n",
    "# print(med_hand_pain_list)\n",
    "no_hand_pain_list = list(custom_mapping.keys())[19:27]\n",
    "# print(no_hand_pain_list)\n",
    "\n",
    "\n",
    "# BACK\n",
    "yes_back_pain_list = list(custom_mapping.keys())[27:36]\n",
    "# print(yes_back_pain_list)\n",
    "med_back_pain_list = list(custom_mapping.keys())[36:39]\n",
    "# print(med_back_pain_list)\n",
    "no_back_pain_list = list(custom_mapping.keys())[39:47]\n",
    "# print(no_back_pain_list)"
   ]
  },
  {
   "cell_type": "markdown",
   "id": "c3bfc218-de6e-4662-b017-8ffd6403a1d1",
   "metadata": {
    "tags": []
   },
   "source": [
    "##### Create label array from annotations for comparison to ground truth (from Excel file)"
   ]
  },
  {
   "cell_type": "code",
   "execution_count": 65,
   "id": "ef636e17-ca8f-4d1b-ade4-44a17819af52",
   "metadata": {
    "tags": []
   },
   "outputs": [
    {
     "name": "stdout",
     "output_type": "stream",
     "text": [
      "STIMULUS INDICES FROM ALL EVENTS:\n",
      "[0, 6, 12, 18, 24, 28, 36, 44, 50, 60, 66, 72, 78, 84, 88, 94, 100, 108, 112, 122, 128, 132, 140, 144, 152, 156, 164, 170, 174, 182, 192, 196, 202, 204, 208, 218, 226, 230, 243, 247, 253, 261, 265, 271, 281, 287, 295, 303, 307, 313, 321, 329, 339, 343, 347, 365, 369, 375, 381, 389, 393]\n",
      "\n",
      "\tLENGTH: 61\n",
      "\n",
      "STIMULUS LABELS FROM ANNOTATIONS:\n",
      "[]\n",
      "\n",
      "\tLENGTH: 0\n",
      "\n",
      "CONVERTED KEYS FROM LABELS:\n",
      "[]\n",
      "\n",
      "\tLENGTH: 0\n",
      "\n",
      "\tLENGTH: 0\n",
      "\n",
      "LABELS OF KEY PRESS WITHOUT PINPRICKS:\n",
      "[]\n",
      "\n",
      "INDICES OF KEY PRESS WITHOUT PINPRICKS:\n",
      "[]\n",
      "\n",
      "TIME STAMPS OF KEY PRESS WITHOUT PINPRICKS (in seconds):\n",
      "[]\n",
      "\n",
      "\tLENGTH: 0\n"
     ]
    }
   ],
   "source": [
    "# change labels to keys\n",
    "\n",
    "keys_from_annot = labels_to_keys(stim_labels, val_list)\n",
    "\n",
    "print('STIMULUS INDICES FROM ALL EVENTS:')\n",
    "print(StimOn_ids)\n",
    "print('\\n\\tLENGTH:',len(StimOn_ids))\n",
    "\n",
    "print('\\nSTIMULUS LABELS FROM ANNOTATIONS:')\n",
    "print(stim_labels)\n",
    "print('\\n\\tLENGTH:',len(stim_labels))\n",
    "\n",
    "print('\\nCONVERTED KEYS FROM LABELS:')\n",
    "print(keys_from_annot)\n",
    "print('\\n\\tLENGTH:',len(keys_from_annot))\n",
    "\n",
    "if key_to_pp_lag:\n",
    "    print('\\nLAGS BETWEEN KEY PRESSES AND PINPRICKS:')\n",
    "    print(key_to_pp_lag)\n",
    "    from statistics import mean, stdev\n",
    "    key_to_pp_lag_mean = mean(key_to_pp_lag)\n",
    "    key_to_pp_lag_stdev = stdev(key_to_pp_lag)\n",
    "\n",
    "    print(f'\\n\\tMean: {np.round(key_to_pp_lag_mean)} ms,  St Dev: {np.round(key_to_pp_lag_stdev)} ms')\n",
    "\n",
    "print('\\n\\tLENGTH:',len(key_to_pp_lag))\n",
    "\n",
    "print('\\nLABELS OF KEY PRESS WITHOUT PINPRICKS:')\n",
    "print(key_wo_pp_lbls)\n",
    "\n",
    "print('\\nINDICES OF KEY PRESS WITHOUT PINPRICKS:')\n",
    "print(key_wo_pp_ids)\n",
    "\n",
    "print('\\nTIME STAMPS OF KEY PRESS WITHOUT PINPRICKS (in seconds):')\n",
    "print([ np.round((i/1000),1) for i in key_wo_pp_samps_to_ms])\n",
    "print('\\n\\tLENGTH:',len(key_wo_pp_samps_to_ms))\n"
   ]
  },
  {
   "cell_type": "markdown",
   "id": "c15a8f35-4fcf-40bb-a8b3-40fed80c3861",
   "metadata": {
    "tags": []
   },
   "source": [
    "#### **Import stimulus and pain report information for the subject (from excel)**"
   ]
  },
  {
   "cell_type": "code",
   "execution_count": 66,
   "id": "a62ea5d0-412f-4de0-9cb4-bcf00686261f",
   "metadata": {
    "tags": []
   },
   "outputs": [
    {
     "name": "stdout",
     "output_type": "stream",
     "text": [
      "FROM ANNOTATIONS:\n",
      "[]\n",
      "LENGTH: 0\n",
      "\n",
      "GROUND TRUTH STIMULUS KEYS:\n",
      "[4, 5, 4, 5, 5, 4, 5, 5, 4, 4, 8, 8, 7, 7, 8, 7, 7, 8, 7, 8, 5, 3, 5, 3, 5, 5, 3, 5, 3, 3, 6, 6, 8, 8, 6, 8, 6, 8, 6, 8, 3, 3, 4, 4, 3, 4, 4, 3, 4, 3, 7, 6, 6, 7, 6, 6, 7, 6, 7, 7]\n",
      "LENGTH: 60\n",
      "\n",
      "Do the lists match?\n",
      "No!\n"
     ]
    }
   ],
   "source": [
    "print('FROM ANNOTATIONS:')\n",
    "print(keys_from_annot)\n",
    "print('LENGTH:',len(keys_from_annot))\n",
    "\n",
    "print('\\nGROUND TRUTH STIMULUS KEYS:')\n",
    "print(ground_truth)\n",
    "print('LENGTH:',len(ground_truth))\n",
    "\n",
    "print('\\nDo the lists match?')\n",
    "mtch_ans = 'Yes.' if ground_truth == keys_from_annot else 'No!'\n",
    "print(mtch_ans)"
   ]
  },
  {
   "cell_type": "markdown",
   "id": "ac169598-8ade-4835-ae7a-eb179938825b",
   "metadata": {},
   "source": [
    "#### Are there 5's that should be 4's, etc?"
   ]
  },
  {
   "cell_type": "code",
   "execution_count": 67,
   "id": "63f4ef46-9a1a-45ae-8215-6dccdd4f374c",
   "metadata": {
    "tags": []
   },
   "outputs": [],
   "source": [
    "# keys_from_annot_new = keys_from_annot.copy()\n",
    "# for i in range(0, len(keys_from_annot)):\n",
    "#     if keys_from_annot[i] == 5:\n",
    "#         keys_from_annot_new[i] = 4\n",
    "#     elif keys_from_annot[i] == 8:\n",
    "#         keys_from_annot_new[i] = 6\n",
    "#     elif keys_from_annot[i] == 6:\n",
    "#         keys_from_annot_new[i] = 5\n",
    "        \n",
    "# # validate first,\n",
    "# print(keys_from_annot_new)\n",
    "# print(len(keys_from_annot_new))\n",
    "\n",
    "# # then uncomment and allow overwrite\n",
    "# keys_from_annot = keys_from_annot_new"
   ]
  },
  {
   "cell_type": "markdown",
   "id": "b600ddd7-cd87-42f6-b7c8-04759b41202d",
   "metadata": {},
   "source": [
    "#### *IF missing back pinpricks (5 and 6), adjust here:*"
   ]
  },
  {
   "cell_type": "code",
   "execution_count": 68,
   "id": "fbdc3c4f-2b5a-43ee-9ac5-55b0008b594a",
   "metadata": {
    "tags": []
   },
   "outputs": [],
   "source": [
    "# adjustment for Trigger# keys_from_annot that require changing 3 and 4 to 5 and 6 for back keys_from_annot\n",
    "if 3 in keys_from_annot and (5 not in keys_from_annot or 6 not in keys_from_annot):\n",
    "    back_switch_id = input(\"Enter the index at which pinpricks switch to the lower back: \")\n",
    "    keys_from_annot_new = keys_from_annot.copy()\n",
    "    for i in range(int(back_switch_id), len(keys_from_annot)):\n",
    "        if keys_from_annot[i] == 3:\n",
    "            keys_from_annot_new[i] = 5\n",
    "        elif keys_from_annot[i] == 4:\n",
    "            keys_from_annot_new[i] = 6\n",
    "\n",
    "    # validate first,\n",
    "    print(keys_from_annot_new)\n",
    "    print(len(keys_from_annot_new))\n",
    "\n",
    "    # then uncomment and allow overwrite\n",
    "    keys_from_annot = keys_from_annot_new"
   ]
  },
  {
   "cell_type": "markdown",
   "id": "e5f07fa3-d4dc-4600-9efe-515111f52538",
   "metadata": {},
   "source": [
    "#### ***IF lists don't match, check for missing, extra, or point errors:***\n",
    "#### * *ONLY WORKS FOR SINGLE ERRORS* *\n",
    "#### * *If more errors exist after an 'Unknown Error' code, they will not be reported* *"
   ]
  },
  {
   "cell_type": "code",
   "execution_count": 69,
   "id": "316d33c9-9820-4728-a8f3-6d2c3f0ec495",
   "metadata": {
    "tags": []
   },
   "outputs": [],
   "source": [
    "# mismatch_list = []\n",
    "# iss_ids = []\n",
    "\n",
    "# if mtch_ans == 'No!':\n",
    "#     simple_issue_check = input(\"0 or 1: Does the issue appear to consist of single mismatches ONLY?\\n\")\n",
    "#     if simple_issue_check == '1':\n",
    "#         for i, el in enumerate(keys_from_annot):\n",
    "#             # find mismatch\n",
    "#             try:\n",
    "#                 mismatch = next( (idx, x, y) for idx, (x, y) in enumerate(zip(keys_from_annot, ground_truth)) if x!=y )\n",
    "#             except: \n",
    "#                 print('No (more) mismatches found. Exiting loop.')\n",
    "#                 break\n",
    "#             else:\n",
    "#                 iss_i = mismatch[0]\n",
    "#                 if iss_i in iss_ids: continue\n",
    "#                 else:  \n",
    "#                     iss_ids.append( iss_i ); print(iss_i)\n",
    "#                     if keys_from_annot[iss_i+1:iss_i+1+2] == ground_truth[iss_i+1:iss_i+1+2]:\n",
    "#                         keys_from_annot[iss_i] = mismatch[2]\n",
    "#                         print(f'Point error mismatch: changed label {mismatch[1]} to {mismatch[2]} in [keys_from_annot]\\n')\n",
    "#                     elif keys_from_annot[iss_i+1:iss_i+1+2] == ground_truth[iss_i:iss_i+2]:\n",
    "#                         del keys_from_annot[iss_i]; del StimOn_ids[iss_i]; stim_epochs.drop(iss_i)\n",
    "#                         print(f'Extra label mismatch: expected {mismatch[2]}, got {mismatch[1]}. Deleted label from [keys_from_annot].\\n')\n",
    "#                     elif keys_from_annot[iss_i+1:iss_i+1+2] == ground_truth[iss_i+1+1:iss_i+1+1+2]:\n",
    "#                         del ground_truth[iss_i];\n",
    "#                         print(f'Missing label mismatch: expected {mismatch[2]} in keys, deleted trial {iss_i} from [ground_truth] and from [txt_samps_list].\\n')\n",
    "#                     else:\n",
    "#                         print(f'Unknown error, check manually. **May be more than one marker missing/extra.\\n')\n",
    "#                         # continue\n",
    "#                         # break\n",
    "\n",
    "\n",
    "#         print('\\nAFTER CORRECTION:\\n')\n",
    "\n",
    "#         print('FROM ANNOTATIONS:')\n",
    "#         print(keys_from_annot)\n",
    "#         print(len(keys_from_annot))\n",
    "      \n",
    "#         print('GROUND TRUTH:')\n",
    "#         print(ground_truth)\n",
    "#         print(len(ground_truth))\n",
    "\n",
    "#         print('\\nDo the lists match now?')\n",
    "#         mtch_ans = 'Yes.' if ground_truth == keys_from_annot else 'No!'\n",
    "#         print(mtch_ans)\n",
    "#     else:\n",
    "#         print('\\nPlease correct the issues manually using SigViewer, deleting epochs if necessary.')\n",
    "# else: \n",
    "#     print('Labels already match.')"
   ]
  },
  {
   "cell_type": "markdown",
   "id": "a2d23883-63c0-4c43-95fd-069530b2abe4",
   "metadata": {
    "tags": []
   },
   "source": [
    "### Use this cell as a workspace if need to manually delete any epochs from stim_epochs and keys_from_annot:"
   ]
  },
  {
   "cell_type": "code",
   "execution_count": 70,
   "id": "448ee32e-9cc2-4ef7-9a97-e8d93c9f1b38",
   "metadata": {
    "tags": []
   },
   "outputs": [
    {
     "name": "stdin",
     "output_type": "stream",
     "text": [
      "annotations drop START/LIST/NONE:  33\n",
      "annotations drop END:  33\n"
     ]
    },
    {
     "name": "stdout",
     "output_type": "stream",
     "text": [
      "Dropped 1 epoch: 33\n",
      "len(epo_times):\t 60\n"
     ]
    }
   ],
   "source": [
    "### what to delete\n",
    "drop_start = input('annotations drop START/LIST/NONE: ')\n",
    "if '.' not in drop_start and ',' not in drop_start:\n",
    "    drop_end = input('annotations drop END: ')\n",
    "    drop_list = [*range(int(drop_start),int(drop_end)+1)]\n",
    "elif ',' in drop_start:\n",
    "    drop_list = [int(el) for el in drop_start.split(',')]\n",
    "elif drop_start == '.':\n",
    "    drop_list = []\n",
    "\n",
    "# where to delete\n",
    "stim_epochs.drop(drop_list)\n",
    "delete_multiple_elements(StimOn_ids, drop_list)\n",
    "delete_multiple_elements(keys_from_annot, drop_list)\n",
    "\n",
    "print('len(epo_times):\\t', len(StimOn_ids) )"
   ]
  },
  {
   "cell_type": "code",
   "execution_count": 71,
   "id": "0e13a713-bd2a-4880-9ae2-18e68bb01852",
   "metadata": {
    "tags": []
   },
   "outputs": [
    {
     "name": "stdout",
     "output_type": "stream",
     "text": [
      "len(ground_truth):\t 60\n"
     ]
    },
    {
     "name": "stdin",
     "output_type": "stream",
     "text": [
      "gt & pain ratings drop START:  .\n"
     ]
    },
    {
     "name": "stdout",
     "output_type": "stream",
     "text": [
      "len(ground_truth):\t 60\n"
     ]
    }
   ],
   "source": [
    "###########################################\n",
    "# DROPPING FOR STIM LABELS AND PAIN RATINGS\n",
    "###########################################\n",
    "print('len(ground_truth):\\t',len(ground_truth) )\n",
    "gt_drop_start = input('gt & pain ratings drop START: ')\n",
    "if '.' not in gt_drop_start and ',' not in gt_drop_start:\n",
    "    gt_drop_end = input('gt & pain ratings drop END: ')\n",
    "    gt_drop = [*range(int(gt_drop_start),int(gt_drop_end)+1)]\n",
    "elif ',' in gt_drop_start:\n",
    "    gt_drop = [int(el) for el in gt_drop_start.split(',')]\n",
    "elif gt_drop_start == '.':\n",
    "    gt_drop = []\n",
    "\n",
    "delete_multiple_elements(ground_truth, gt_drop)\n",
    "delete_multiple_elements(pain_ratings_lst, gt_drop)\n",
    "print('len(ground_truth):\\t',len(ground_truth) )"
   ]
  },
  {
   "cell_type": "code",
   "execution_count": 72,
   "id": "1d8cc74d-55f0-4515-9a6d-f09028b716e6",
   "metadata": {},
   "outputs": [],
   "source": [
    "# # custom ground_truth for 044\n",
    "# ground_truth = [4,5,4,5,5,4,5,5,4,4,8,8,7,7,8,7,7,8,7,8,5,5,\n",
    "#                 5,5,5,6,6,8,8,6,8,6,8,6,8,3,3,4,4,3,4,4,3,4,\n",
    "#                 3,7,6,6,7,6,6,7,6,7,7]\n",
    "# print(len(ground_truth))\n",
    "\n",
    "# pain_ratings_lst = [1,0,1,1,1,1,1,2,1,2,0,1,2,2,3,3,1,1,1,1,\n",
    "#                     0,0,0,0,0,2,1,1,0,1,0,1,1,2,0,2,2,1,1,2,\n",
    "#                     1,1,1,1,2,1,1,1,1,1,1,2,2,2,1]\n",
    "# print(len(pain_ratings_lst))"
   ]
  },
  {
   "cell_type": "markdown",
   "id": "94f0440b-4cee-45be-8539-d94e1b091631",
   "metadata": {
    "tags": []
   },
   "source": [
    "## Complete preprocessing and save"
   ]
  },
  {
   "cell_type": "code",
   "execution_count": 73,
   "id": "7abbcd3d-2234-465a-9fad-1f5ef2e40323",
   "metadata": {
    "tags": []
   },
   "outputs": [
    {
     "name": "stdout",
     "output_type": "stream",
     "text": [
      "FINAL EPOCH COUNT: 60\n"
     ]
    },
    {
     "data": {
      "text/html": [
       "<table class=\"table table-hover table-striped table-sm table-responsive small\">\n",
       "    <tr>\n",
       "        <th>Number of events</th>\n",
       "        <td>60</td>\n",
       "    </tr>\n",
       "    <tr>\n",
       "        <th>Events</th>\n",
       "        \n",
       "        <td>1000001: 30<br/>1100001: 30</td>\n",
       "        \n",
       "    </tr>\n",
       "    <tr>\n",
       "        <th>Time range</th>\n",
       "        <td>-0.200 – 0.800 s</td>\n",
       "    </tr>\n",
       "    <tr>\n",
       "        <th>Baseline</th>\n",
       "        <td>0.000 – 0.000 s</td>\n",
       "    </tr>\n",
       "</table>"
      ],
      "text/plain": [
       "<Epochs |  60 events (all good), -0.2 – 0.8 s, baseline 0 – 0 s, ~11.8 MB, data loaded,\n",
       " '1000001': 30\n",
       " '1100001': 30>"
      ]
     },
     "execution_count": 73,
     "metadata": {},
     "output_type": "execute_result"
    }
   ],
   "source": [
    "# verify stim_epochs object looks correct\n",
    "print('FINAL EPOCH COUNT:', len(stim_epochs))\n",
    "stim_epochs"
   ]
  },
  {
   "cell_type": "markdown",
   "id": "a5a7e4ea-e40e-4446-b71a-aaeadbc6972c",
   "metadata": {},
   "source": [
    "#### Implement AutoReject, Save and Export"
   ]
  },
  {
   "cell_type": "code",
   "execution_count": 74,
   "id": "a3537edd-08aa-48da-b795-4a99bf377e80",
   "metadata": {
    "tags": []
   },
   "outputs": [
    {
     "name": "stdout",
     "output_type": "stream",
     "text": [
      "len(stim_epochs):\t 60\n",
      "\n",
      "len(ground_truth):\t 60\n",
      "\n",
      "len(pain_ratings_lst):\t 60\n",
      "\n",
      "len(epo_times):\t\t 60\n"
     ]
    }
   ],
   "source": [
    "# Final check\n",
    "epo_times = events_from_annot[StimOn_ids]\n",
    "\n",
    "print('len(stim_epochs):\\t', len(stim_epochs))\n",
    "\n",
    "print(\"\\nlen(ground_truth):\\t\",len(ground_truth))\n",
    "\n",
    "print(\"\\nlen(pain_ratings_lst):\\t\",len(pain_ratings_lst))\n",
    "\n",
    "print('\\nlen(epo_times):\\t\\t', len(epo_times))"
   ]
  },
  {
   "cell_type": "code",
   "execution_count": 75,
   "id": "65503ca2-4b6d-4091-82ee-2f7ebbb91a0c",
   "metadata": {
    "tags": []
   },
   "outputs": [],
   "source": [
    "# stim_epochs.drop_channels('Fp1')"
   ]
  },
  {
   "cell_type": "code",
   "execution_count": 76,
   "id": "83e8b903-1bb3-4d0e-9ba3-43eb6efa91fd",
   "metadata": {
    "tags": []
   },
   "outputs": [
    {
     "name": "stdout",
     "output_type": "stream",
     "text": [
      "C20_preprocessed-raw.fif\n",
      "Finding epochs to clean...\n",
      "Running autoreject on ch_type=eeg\n"
     ]
    },
    {
     "data": {
      "application/vnd.jupyter.widget-view+json": {
       "model_id": "fe68d6fa221e4d079335c6fcaa2237a8",
       "version_major": 2,
       "version_minor": 0
      },
      "text/plain": [
       "  0%|          | Creating augmented epochs : 0/64 [00:00<?,       ?it/s]"
      ]
     },
     "metadata": {},
     "output_type": "display_data"
    },
    {
     "data": {
      "application/vnd.jupyter.widget-view+json": {
       "model_id": "04b1f836eae749578c323c55bd2e7f22",
       "version_major": 2,
       "version_minor": 0
      },
      "text/plain": [
       "  0%|          | Computing thresholds ... : 0/64 [00:00<?,       ?it/s]"
      ]
     },
     "metadata": {},
     "output_type": "display_data"
    },
    {
     "data": {
      "application/vnd.jupyter.widget-view+json": {
       "model_id": "f4c02484287044a49ab974cab2ca0819",
       "version_major": 2,
       "version_minor": 0
      },
      "text/plain": [
       "  0%|          | Repairing epochs : 0/60 [00:00<?,       ?it/s]"
      ]
     },
     "metadata": {},
     "output_type": "display_data"
    },
    {
     "data": {
      "application/vnd.jupyter.widget-view+json": {
       "model_id": "695d4930f7cb48ba97de2917966f8a18",
       "version_major": 2,
       "version_minor": 0
      },
      "text/plain": [
       "  0%|          | n_interp : 0/3 [00:00<?,       ?it/s]"
      ]
     },
     "metadata": {},
     "output_type": "display_data"
    },
    {
     "data": {
      "application/vnd.jupyter.widget-view+json": {
       "model_id": "8b6951db21d646dbad6883653548d091",
       "version_major": 2,
       "version_minor": 0
      },
      "text/plain": [
       "  0%|          | Repairing epochs : 0/60 [00:00<?,       ?it/s]"
      ]
     },
     "metadata": {},
     "output_type": "display_data"
    },
    {
     "data": {
      "application/vnd.jupyter.widget-view+json": {
       "model_id": "9a2fd7590839428d9e8d96bcb82b4528",
       "version_major": 2,
       "version_minor": 0
      },
      "text/plain": [
       "  0%|          | Fold : 0/10 [00:00<?,       ?it/s]"
      ]
     },
     "metadata": {},
     "output_type": "display_data"
    },
    {
     "data": {
      "application/vnd.jupyter.widget-view+json": {
       "model_id": "66c84beb29924196ae5d7dbbe7b7eecf",
       "version_major": 2,
       "version_minor": 0
      },
      "text/plain": [
       "  0%|          | Repairing epochs : 0/60 [00:00<?,       ?it/s]"
      ]
     },
     "metadata": {},
     "output_type": "display_data"
    },
    {
     "data": {
      "application/vnd.jupyter.widget-view+json": {
       "model_id": "a972c08bbbeb4abe941ecf2f0ad83fa4",
       "version_major": 2,
       "version_minor": 0
      },
      "text/plain": [
       "  0%|          | Fold : 0/10 [00:00<?,       ?it/s]"
      ]
     },
     "metadata": {},
     "output_type": "display_data"
    },
    {
     "data": {
      "application/vnd.jupyter.widget-view+json": {
       "model_id": "c6ea1d80490441d28bf072d2c46b1ac0",
       "version_major": 2,
       "version_minor": 0
      },
      "text/plain": [
       "  0%|          | Repairing epochs : 0/60 [00:00<?,       ?it/s]"
      ]
     },
     "metadata": {},
     "output_type": "display_data"
    },
    {
     "data": {
      "application/vnd.jupyter.widget-view+json": {
       "model_id": "665085e919e5402ebe6ccd3ad4cd4bd7",
       "version_major": 2,
       "version_minor": 0
      },
      "text/plain": [
       "  0%|          | Fold : 0/10 [00:00<?,       ?it/s]"
      ]
     },
     "metadata": {},
     "output_type": "display_data"
    },
    {
     "name": "stdout",
     "output_type": "stream",
     "text": [
      "\n",
      "\n",
      "\n",
      "\n",
      "Estimated consensus=0.60 and n_interpolate=32\n"
     ]
    },
    {
     "data": {
      "application/vnd.jupyter.widget-view+json": {
       "model_id": "8ca0c82e0b5c4c788668fc0ce84e7ce3",
       "version_major": 2,
       "version_minor": 0
      },
      "text/plain": [
       "  0%|          | Repairing epochs : 0/60 [00:00<?,       ?it/s]"
      ]
     },
     "metadata": {},
     "output_type": "display_data"
    },
    {
     "name": "stdout",
     "output_type": "stream",
     "text": [
      "No bad epochs were found for your data. Returning a copy of the data you wanted to clean. Interpolation may have been done.\n",
      "<autoreject.autoreject.RejectLog object at 0x7f4d6b5ec690>\n",
      "Dropped 0 epochs:  []\n",
      "\n",
      "Saving processed epochs...\n",
      "Dropped 0 epochs: \n"
     ]
    }
   ],
   "source": [
    "# use autoreject package to automatically clean epochs \n",
    "print(f\"{sub_id}\\nFinding epochs to clean...\")\n",
    "ar = AutoReject(random_state=42)\n",
    "_, reject_log = ar.fit_transform(stim_epochs, return_log=True)\n",
    "print(reject_log)\n",
    "# display.clear_output(wait=True)\n",
    "\n",
    "# drop rejected epochs\n",
    "bad_epochs_bool = reject_log.bad_epochs.tolist()\n",
    "dropped_epochs_list = [i for i, val in enumerate(bad_epochs_bool) if val]\n",
    "print(f'Dropped {len(dropped_epochs_list)} epochs: ', dropped_epochs_list)\n",
    "\n",
    "# save processed epochs\n",
    "print(\"\\nSaving processed epochs...\")\n",
    "\n",
    "save_fname = sub_id[:3] + '_preprocessed-epo'\n",
    "\n",
    "stim_epochs.drop(dropped_epochs_list)\n",
    "epo_times = np.delete(epo_times,dropped_epochs_list,axis=0)\n",
    "delete_multiple_elements(ground_truth,dropped_epochs_list)\n",
    "delete_multiple_elements(pain_ratings_lst,dropped_epochs_list)\n"
   ]
  },
  {
   "cell_type": "code",
   "execution_count": 77,
   "id": "b3648522-0137-442d-ad7c-0281f7bea3fb",
   "metadata": {
    "tags": []
   },
   "outputs": [
    {
     "name": "stdout",
     "output_type": "stream",
     "text": [
      "len(dropped_epochs_list):\t 0\n",
      "\n",
      "len(stim_epochs):\t 60\n",
      "\n",
      "len(epo_times):\t\t 60\n",
      "\n",
      "len(ground_truth):\t 60\n",
      "\n",
      "len(pain_ratings_lst):\t 60\n"
     ]
    }
   ],
   "source": [
    "# Final check\n",
    "print('len(dropped_epochs_list):\\t', len(dropped_epochs_list))\n",
    "print('\\nlen(stim_epochs):\\t', len(stim_epochs))\n",
    "print('\\nlen(epo_times):\\t\\t', len(epo_times))\n",
    "print(\"\\nlen(ground_truth):\\t\",len(ground_truth))\n",
    "print(\"\\nlen(pain_ratings_lst):\\t\",len(pain_ratings_lst))"
   ]
  },
  {
   "cell_type": "code",
   "execution_count": 78,
   "id": "5e581779",
   "metadata": {
    "tags": []
   },
   "outputs": [
    {
     "name": "stdout",
     "output_type": "stream",
     "text": [
      "\n",
      "Saving drop_log as mat file...\n",
      "\n",
      "Saving epoch_times as mat file...\n",
      "\n",
      "Saving stim_labels as mat file...\n",
      "\n",
      "Saving pain_ratings as mat file...\n",
      "\n",
      "Done.\n"
     ]
    }
   ],
   "source": [
    "# Complete the saves\n",
    "stim_epochs.save(data_dir + save_fname + '.fif', \n",
    "         verbose=True, overwrite=True)\n",
    "\n",
    "# save drop log\n",
    "print(\"\\nSaving drop_log as mat file...\")\n",
    "mdic = {\"drop_log\": dropped_epochs_list}\n",
    "scio.savemat(data_dir+sub_id[:3]+'_drop_log.mat', mdic)\n",
    "\n",
    "# save epo_times\n",
    "print(\"\\nSaving epoch_times as mat file...\")\n",
    "mdic = {\"epo_times\": epo_times}\n",
    "scio.savemat(data_dir+sub_id[:3]+'_epo_times.mat', mdic)\n",
    "\n",
    "# save stim labels\n",
    "print(\"\\nSaving stim_labels as mat file...\")\n",
    "mdic = {\"stim_labels\": ground_truth}\n",
    "scio.savemat(data_dir+sub_id[:3]+'_stim_labels.mat', mdic)\n",
    "\n",
    "# save pain ratings\n",
    "print(\"\\nSaving pain_ratings as mat file...\\n\")\n",
    "mdic = {\"pain_ratings\": pain_ratings_lst}\n",
    "scio.savemat(save_dir+sub_id[:3]+'_pain_ratings.mat', mdic)\n",
    "\n",
    "print(\"Done.\")\n",
    "# display.clear_output(wait=True)"
   ]
  },
  {
   "cell_type": "code",
   "execution_count": null,
   "id": "8ba8fa3d-42a4-45eb-bfd9-7d5babeb8710",
   "metadata": {
    "tags": []
   },
   "outputs": [],
   "source": []
  },
  {
   "cell_type": "code",
   "execution_count": null,
   "id": "9eec7dc0-b491-4158-85b5-355302d60b36",
   "metadata": {},
   "outputs": [],
   "source": []
  }
 ],
 "metadata": {
  "kernelspec": {
   "display_name": "mne",
   "language": "python",
   "name": "mne"
  },
  "language_info": {
   "codemirror_mode": {
    "name": "ipython",
    "version": 3
   },
   "file_extension": ".py",
   "mimetype": "text/x-python",
   "name": "python",
   "nbconvert_exporter": "python",
   "pygments_lexer": "ipython3",
   "version": "3.11.6"
  }
 },
 "nbformat": 4,
 "nbformat_minor": 5
}
