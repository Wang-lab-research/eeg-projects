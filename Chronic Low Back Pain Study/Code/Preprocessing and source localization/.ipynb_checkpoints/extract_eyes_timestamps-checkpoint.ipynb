{
 "cells": [
  {
   "cell_type": "markdown",
   "id": "2947c985-edb4-4e37-ac38-e2abc335d541",
   "metadata": {
    "tags": []
   },
   "source": [
    "## Extract eyes open and eyes closed and stop timestamps to crop data for resting state functional connectivity analysis\n",
    "##### Input: *_preprocessed-raw.fif\n",
    "#####  Output: *_RestingTStamps.csv\n",
    "######   * = Subject e.g. 018 or C14 etc"
   ]
  },
  {
   "cell_type": "code",
   "execution_count": 3,
   "id": "97247369-753f-4a4c-8a06-d0115590d4cc",
   "metadata": {
    "tags": []
   },
   "outputs": [],
   "source": [
    "import csv\n",
    "import os\n",
    "import sys\n",
    "import mne\n",
    "from mne.io import read_raw_fif\n",
    "#%conda install utils\n",
    "#import something to save in pickle"
   ]
  },
  {
   "cell_type": "code",
   "execution_count": 9,
   "id": "5ff2ca0f-ec76-40da-a67d-a57d3fb7b3c0",
   "metadata": {},
   "outputs": [],
   "source": [
    "annotation_keys = {'eyes closed': 1, 'Trigger#1': 1, 'EYES CLOSED': 1, # eyes closed\n",
    "                      'eyes open': 2, 'eyes opened': 2, 'Trigger#2': 2, 'EYES OPEN': 2, 'eyes openned':2, # eyes open\n",
    "                      'stop': 9, 'Stop': 9, 'STOP': 9, 'Sop': 9, # stop\n",
    "                      }"
   ]
  },
  {
   "cell_type": "code",
   "execution_count": 8,
   "id": "842b367f-9d3c-4436-868f-6fb7ffe7b719",
   "metadata": {},
   "outputs": [],
   "source": [
    "# Settings\n",
    "# Read in processed raw data\n",
    "#data_path = '../../Data/Processed Data/'\n",
    "#The data path below is local to sbflpc002\n",
    "data_path = '/run/user/1000/gvfs/smb-share:server=research-cifs.nyumc.org,share=research/jwanglab/jwanglabspace/George Kenefati/Chronic Low Back Pain Study/Data/Processed Data'\n",
    "save_path = '../../../Data/Eyes Timestamps/'\n",
    "\n",
    "if not os.path.exists(save_path):\n",
    "    os.makedirs(save_path)"
   ]
  },
  {
   "cell_type": "code",
   "execution_count": 10,
   "id": "e26e75c4-73bd-4a3d-9e47-2c3ee930b96c",
   "metadata": {},
   "outputs": [],
   "source": [
    "file_list = os.listdir(data_path)\n",
    "# Only select files that end in \"raw.fif\"\n",
    "raw_fif_files = [file for file in file_list if file.endswith('raw.fif')]"
   ]
  },
  {
   "cell_type": "code",
   "execution_count": 5,
   "id": "d4249ff7-a4a4-45e7-a4dd-11d09a45038c",
   "metadata": {},
   "outputs": [
    {
     "name": "stdout",
     "output_type": "stream",
     "text": [
      "Opening raw data file /run/user/1000/gvfs/smb-share:server=research-cifs.nyumc.org,share=research/jwanglab/jwanglabspace/George Kenefati/Chronic Low Back Pain Study/Data/Processed Data/039_preprocessed-raw.fif...\n",
      "    Range : 0 ... 602879 =      0.000 ...  1507.197 secs\n",
      "Ready.\n",
      "Used Annotations descriptions: ['Stop', 'eyes closed', 'eyes opened']\n",
      "Timestamps and Associated Event IDs:\n",
      "Timestamp: 5.223 seconds, Event ID: 1\n",
      "Timestamp: 309.095 seconds, Event ID: 9\n",
      "Timestamp: 339.295 seconds, Event ID: 2\n",
      "Timestamp: 647.395 seconds, Event ID: 9\n",
      "Timestamp: 1504.095 seconds, Event ID: 9\n"
     ]
    }
   ],
   "source": [
    "# Manually change index to identify timestamps of eyes closed/open\n",
    "# Manually checking bc little standardization\n",
    "file = raw_fif_files[0]\n",
    "file_path = os.path.join(data_path, file)\n",
    "raw = read_raw_fif(file_path, preload = False)\n",
    "\n",
    "events_from_annot, event_dict = mne.events_from_annotations(raw, event_id = annotation_keys)\n",
    "# Extract timestamps from the events\n",
    "timestamps_with_id = [(event[0] / raw.info['sfreq'], event[2]) for event in events_from_annot]\n",
    "\n",
    "# Get name of the file we're looking at\n",
    "#print(file_path)\n",
    "\n",
    "# Output timestamps with associated event IDs\n",
    "print(\"Timestamps and Associated Event IDs:\")\n",
    "for timestamp, event_id in timestamps_with_id:\n",
    "    print(f\"Timestamp: {timestamp:.3f} seconds, Event ID: {event_id}\")"
   ]
  },
  {
   "cell_type": "markdown",
   "id": "3621955b-a614-4a90-82a4-8e7de8943019",
   "metadata": {},
   "source": [
    "##### Next, collect the timepoints for the eyes closed, eyes closed stop, eyes open, and eyes open stop"
   ]
  },
  {
   "cell_type": "code",
   "execution_count": 6,
   "id": "f73dc3c3-770e-40a0-8dd4-01e97c974300",
   "metadata": {},
   "outputs": [
    {
     "name": "stdout",
     "output_type": "stream",
     "text": [
      "Saved Times: [5.2225, 309.095, 339.295, 647.395]\n"
     ]
    }
   ],
   "source": [
    "### Script for a normal timestamp\n",
    "saved_times = [None, None, None, None]  # Initialize an array to store timestamps\n",
    "\n",
    "for idx, (timestamp, event_id) in enumerate(timestamps_with_id):\n",
    "    # Find first instance of event ID 1, then the first instance of event ID 9 afterwards\n",
    "    # Find first instance of event ID 2, the the first instance of event ID 9 afterwards\n",
    "    if event_id == 1:\n",
    "        if saved_times[0] is None:  # Check if the first index is empty\n",
    "            saved_times[0] = timestamp\n",
    "    elif event_id == 9 and idx > 0 and timestamps_with_id[idx - 1][1] == 1:\n",
    "        saved_times[1] = timestamp\n",
    "    elif event_id == 2:\n",
    "        if saved_times[2] is None:  # Check if the third index is empty\n",
    "            saved_times[2] = timestamp\n",
    "    elif event_id == 9 and idx > 0 and timestamps_with_id[idx - 1][1] == 2:\n",
    "        saved_times[3] = timestamp\n",
    "\n",
    "print(\"Saved Times:\", saved_times)"
   ]
  },
  {
   "cell_type": "code",
   "execution_count": 16,
   "id": "0a73df93-a65a-4c12-8a39-d625b7e6ddd8",
   "metadata": {},
   "outputs": [],
   "source": [
    "# Function to extract subject ID from the file path\n",
    "def extract_subject_id(file_path):\n",
    "    file_name = file_path.split('/')[-1]  # Extract the file name\n",
    "    subject_id = file_name.split('_')[0]  # Get the part before '_preprocessed-raw.fif'\n",
    "    return subject_id\n",
    "\n",
    "# Extract subject ID from the given file paths\n",
    "subject_id = extract_subject_id(file_path)\n",
    "\n",
    "# Define the CSV file name\n",
    "csv_file_name = f\"{subject_id}_RestingTStamps.csv\"\n",
    "\n",
    "# Construct the full file path\n",
    "full_file_path = os.path.join(save_path, csv_file_name)\n",
    "\n",
    "# Write data to the CSV file\n",
    "with open(full_file_path, mode='w', newline='') as file:\n",
    "    writer = csv.writer(file)\n",
    "    writer.writerow([\"Seconds\"])\n",
    "\n",
    "    for timestamp in saved_times:\n",
    "        writer.writerow([timestamp])\n",
    "    "
   ]
  },
  {
   "cell_type": "code",
   "execution_count": 19,
   "id": "68084d04-5a2b-403d-b190-bc96229c3291",
   "metadata": {},
   "outputs": [
    {
     "name": "stdout",
     "output_type": "stream",
     "text": [
      "Opening raw data file /run/user/1000/gvfs/smb-share:server=research-cifs.nyumc.org,share=research/jwanglab/jwanglabspace/George Kenefati/Chronic Low Back Pain Study/Data/Processed Data/008_preprocessed-raw.fif...\n",
      "    Range : 0 ... 712799 =      0.000 ...  1781.997 secs\n",
      "Ready.\n"
     ]
    },
    {
     "ename": "TypeError",
     "evalue": "'datetime.datetime' object cannot be interpreted as an integer",
     "output_type": "error",
     "traceback": [
      "\u001b[0;31m---------------------------------------------------------------------------\u001b[0m",
      "\u001b[0;31mTypeError\u001b[0m                                 Traceback (most recent call last)",
      "Cell \u001b[0;32mIn[19], line 14\u001b[0m\n\u001b[1;32m     11\u001b[0m recording_date \u001b[38;5;241m=\u001b[39m raw\u001b[38;5;241m.\u001b[39minfo[\u001b[38;5;124m'\u001b[39m\u001b[38;5;124mmeas_date\u001b[39m\u001b[38;5;124m'\u001b[39m]\n\u001b[1;32m     13\u001b[0m \u001b[38;5;66;03m# Convert the mne date into something readable\u001b[39;00m\n\u001b[0;32m---> 14\u001b[0m recording_date_readable \u001b[38;5;241m=\u001b[39m \u001b[43mdatetime\u001b[49m\u001b[38;5;241;43m.\u001b[39;49m\u001b[43mfromtimestamp\u001b[49m\u001b[43m(\u001b[49m\u001b[43mrecording_date\u001b[49m\u001b[43m)\u001b[49m\u001b[38;5;241m.\u001b[39mstrftime(\u001b[38;5;124m'\u001b[39m\u001b[38;5;124m%\u001b[39m\u001b[38;5;124mY-\u001b[39m\u001b[38;5;124m%\u001b[39m\u001b[38;5;124mm-\u001b[39m\u001b[38;5;132;01m%d\u001b[39;00m\u001b[38;5;124m \u001b[39m\u001b[38;5;124m%\u001b[39m\u001b[38;5;124mH:\u001b[39m\u001b[38;5;124m%\u001b[39m\u001b[38;5;124mM:\u001b[39m\u001b[38;5;124m%\u001b[39m\u001b[38;5;124mS\u001b[39m\u001b[38;5;124m'\u001b[39m)\n\u001b[1;32m     15\u001b[0m \u001b[38;5;28mprint\u001b[39m(\u001b[38;5;124mf\u001b[39m\u001b[38;5;124m\"\u001b[39m\u001b[38;5;124mThe recording date in human-readable format is: \u001b[39m\u001b[38;5;132;01m{\u001b[39;00mrecording_date_readable\u001b[38;5;132;01m}\u001b[39;00m\u001b[38;5;124m\"\u001b[39m)\n\u001b[1;32m     16\u001b[0m \u001b[38;5;124;03m\"\"\"\u001b[39;00m\n\u001b[1;32m     17\u001b[0m \u001b[38;5;124;03mevents_from_annot, event_dict = mne.events_from_annotations(raw) #Removed annotations_key to see all annotations\u001b[39;00m\n\u001b[1;32m     18\u001b[0m \n\u001b[0;32m   (...)\u001b[0m\n\u001b[1;32m     32\u001b[0m \n\u001b[1;32m     33\u001b[0m \u001b[38;5;124;03m\"\"\"\u001b[39;00m\n",
      "\u001b[0;31mTypeError\u001b[0m: 'datetime.datetime' object cannot be interpreted as an integer"
     ]
    },
    {
     "name": "stdout",
     "output_type": "stream",
     "text": [
      "Channels marked as bad:\n",
      "none\n"
     ]
    }
   ],
   "source": [
    "## SCRIPT START FOR IRREGULAR TIMES/ANNOTATIONS\n",
    "\"\"\"  #USE IF FILE DOES NOT COMPLY WITH PARSING \n",
    "from datetime import datetime\n",
    "\n",
    "file = raw_fif_files[43]\n",
    "file_path = os.path.join(data_path, file)\n",
    "raw = read_raw_fif(file_path, preload = False)\n",
    "\n",
    "events_from_annot, event_dict = mne.events_from_annotations(raw) #Removed annotations_key to see all annotations\n",
    "\n",
    "# Extract timestamps from the events\n",
    "timestamps_with_id = [(event[0] / raw.info['sfreq'], event[2]) for event in events_from_annot]\n",
    "\n",
    "timestamps_event_ids_annotations = []\n",
    "for idx, event in enumerate(events_from_annot):\n",
    "    timestamp = event[0] / raw.info['sfreq']  # Timestamp in seconds\n",
    "    event_id = event[2]  # Event ID\n",
    "    #use event_dict to get the annotation\n",
    "    timestamps_event_ids_annotations.append((timestamp, event_id))\n",
    "\n",
    "# Print the extracted data\n",
    "for timestamp, event_id in timestamps_event_ids_annotations:\n",
    "    print(f\"Timestamp: {timestamp:.3f}s, Event ID: {event_id}\")\n",
    "\n",
    "\"\"\""
   ]
  },
  {
   "cell_type": "code",
   "execution_count": 13,
   "id": "9638118c-c782-42bf-a210-5a1e498b6998",
   "metadata": {},
   "outputs": [
    {
     "data": {
      "text/plain": [
       "{'Trigger#1': 1,\n",
       " 'Trigger#2': 2,\n",
       " 'Trigger#3': 3,\n",
       " 'Trigger#4': 4,\n",
       " 'Trigger#6': 5}"
      ]
     },
     "execution_count": 13,
     "metadata": {},
     "output_type": "execute_result"
    }
   ],
   "source": [
    "event_dict"
   ]
  },
  {
   "cell_type": "code",
   "execution_count": 14,
   "id": "1200466d-3205-4086-86ad-2868d4a151cd",
   "metadata": {},
   "outputs": [
    {
     "name": "stdout",
     "output_type": "stream",
     "text": [
      "Using qt as 2D backend.\n"
     ]
    },
    {
     "data": {
      "text/plain": [
       "<mne_qt_browser._pg_figure.MNEQtBrowser at 0x7fbdd6d284c0>"
      ]
     },
     "execution_count": 14,
     "metadata": {},
     "output_type": "execute_result"
    }
   ],
   "source": [
    "raw.plot()"
   ]
  },
  {
   "cell_type": "code",
   "execution_count": 15,
   "id": "cd91584a-7f07-4478-a24f-eca37513e8a2",
   "metadata": {},
   "outputs": [
    {
     "name": "stdout",
     "output_type": "stream",
     "text": [
      "Saved Times: [590.695, 598.705, 290.42, 560.695]\n"
     ]
    }
   ],
   "source": [
    "## SCRIPT CONTINUED FOR IRREGULAR TIMES/ANNOTATIONS\n",
    "saved_times = [None, None, None, None]  # Initialize an array to store timestamps\n",
    "# Have manual adjustments to saved times\n",
    "saved_times[0] = 590.695\n",
    "saved_times[1] = 628.705 - 30\n",
    "saved_times[2] = 290.420\n",
    "saved_times[3] = 590.695 - 30\n",
    "print(\"Saved Times:\", saved_times)"
   ]
  },
  {
   "cell_type": "markdown",
   "id": "67393ff4-8b38-489c-9e8a-f06412f2f025",
   "metadata": {},
   "source": [
    "## Script below should be used after all CSVs are created"
   ]
  },
  {
   "cell_type": "code",
   "execution_count": 17,
   "id": "cea253f5-d930-4cb0-b085-2147be4d313a",
   "metadata": {},
   "outputs": [
    {
     "name": "stdout",
     "output_type": "stream",
     "text": [
      "File: 037_RestingTStamps.csv\n",
      "Length of time between EC_start and EC_stop: 5 minutes and 12 seconds\n",
      "Length of time between EO_start and EO_stop: 5 minutes and 13 seconds\n",
      "=============================\n",
      "File: 034_RestingTStamps.csv\n",
      "Length of time between EC_start and EC_stop: 5 minutes and 3 seconds\n",
      "Length of time between EO_start and EO_stop: 5 minutes and 1 seconds\n",
      "=============================\n",
      "File: 049_RestingTStamps.csv\n",
      "Length of time between EC_start and EC_stop: 5 minutes and 17 seconds\n",
      "Length of time between EO_start and EO_stop: 5 minutes and 4 seconds\n",
      "=============================\n",
      "File: 056_RestingTStamps.csv\n",
      "Length of time between EC_start and EC_stop: 4 minutes and 57 seconds\n",
      "Length of time between EO_start and EO_stop: 5 minutes and 1 seconds\n",
      "=============================\n",
      "File: 021_RestingTStamps.csv\n",
      "Length of time between EC_start and EC_stop: 5 minutes and 14 seconds\n",
      "Length of time between EO_start and EO_stop: 4 minutes and 53 seconds\n",
      "=============================\n",
      "File: 014_RestingTStamps.csv\n",
      "Length of time between EC_start and EC_stop: 0 minutes and 8 seconds\n",
      "Length of time between EO_start and EO_stop: 4 minutes and 30 seconds\n",
      "=============================\n",
      "File: C2._RestingTStamps.csv\n",
      "Length of time between EC_start and EC_stop: 5 minutes and 10 seconds\n",
      "Length of time between EO_start and EO_stop: 6 minutes and 1 seconds\n",
      "=============================\n",
      "File: 052_RestingTStamps.csv\n",
      "Length of time between EC_start and EC_stop: 6 minutes and 11 seconds\n",
      "Length of time between EO_start and EO_stop: 5 minutes and 9 seconds\n",
      "=============================\n",
      "File: 040_RestingTStamps.csv\n",
      "Length of time between EC_start and EC_stop: 4 minutes and 57 seconds\n",
      "Length of time between EO_start and EO_stop: 5 minutes and 0 seconds\n",
      "=============================\n",
      "File: 018_RestingTStamps.csv\n",
      "Length of time between EC_start and EC_stop: 5 minutes and 7 seconds\n",
      "Length of time between EO_start and EO_stop: 5 minutes and 53 seconds\n",
      "=============================\n",
      "File: 057_RestingTStamps.csv\n",
      "Length of time between EC_start and EC_stop: 5 minutes and 8 seconds\n",
      "Length of time between EO_start and EO_stop: 5 minutes and 3 seconds\n",
      "=============================\n",
      "File: 007_RestingTStamps.csv\n",
      "Length of time between EC_start and EC_stop: 4 minutes and 37 seconds\n",
      "Length of time between EO_start and EO_stop: 4 minutes and 30 seconds\n",
      "=============================\n",
      "File: C3._RestingTStamps.csv\n",
      "Length of time between EC_start and EC_stop: 5 minutes and 11 seconds\n",
      "Length of time between EO_start and EO_stop: 5 minutes and 8 seconds\n",
      "=============================\n",
      "File: 038_RestingTStamps.csv\n",
      "Length of time between EC_start and EC_stop: 5 minutes and 8 seconds\n",
      "Length of time between EO_start and EO_stop: 5 minutes and 4 seconds\n",
      "=============================\n",
      "File: C11_RestingTStamps.csv\n",
      "Length of time between EC_start and EC_stop: 5 minutes and 7 seconds\n",
      "Length of time between EO_start and EO_stop: 5 minutes and 2 seconds\n",
      "=============================\n",
      "File: C24_RestingTStamps.csv\n",
      "Length of time between EC_start and EC_stop: 5 minutes and 7 seconds\n",
      "Length of time between EO_start and EO_stop: 5 minutes and 2 seconds\n",
      "=============================\n",
      "File: C10_RestingTStamps.csv\n",
      "Length of time between EC_start and EC_stop: 5 minutes and 48 seconds\n",
      "Length of time between EO_start and EO_stop: 4 minutes and 59 seconds\n",
      "=============================\n",
      "File: 027_RestingTStamps.csv\n",
      "Length of time between EC_start and EC_stop: 4 minutes and 51 seconds\n",
      "Length of time between EO_start and EO_stop: 5 minutes and 11 seconds\n",
      "=============================\n",
      "File: C9._RestingTStamps.csv\n",
      "Length of time between EC_start and EC_stop: 5 minutes and 25 seconds\n",
      "Length of time between EO_start and EO_stop: 5 minutes and 20 seconds\n",
      "=============================\n",
      "File: C15_RestingTStamps.csv\n",
      "Length of time between EC_start and EC_stop: 5 minutes and 2 seconds\n",
      "Length of time between EO_start and EO_stop: 5 minutes and 4 seconds\n",
      "=============================\n",
      "File: C8._RestingTStamps.csv\n",
      "Length of time between EC_start and EC_stop: 5 minutes and 47 seconds\n",
      "Length of time between EO_start and EO_stop: 7 minutes and 1 seconds\n",
      "=============================\n",
      "File: 048_RestingTStamps.csv\n",
      "Length of time between EC_start and EC_stop: 5 minutes and 4 seconds\n",
      "Length of time between EO_start and EO_stop: 5 minutes and 1 seconds\n",
      "=============================\n",
      "File: 054_RestingTStamps.csv\n",
      "Length of time between EC_start and EC_stop: 5 minutes and 25 seconds\n",
      "Length of time between EO_start and EO_stop: 5 minutes and 0 seconds\n",
      "=============================\n",
      "File: 051_RestingTStamps.csv\n",
      "Length of time between EC_start and EC_stop: 6 minutes and 1 seconds\n",
      "Length of time between EO_start and EO_stop: 5 minutes and 53 seconds\n",
      "=============================\n",
      "File: C27_RestingTStamps.csv\n",
      "Length of time between EC_start and EC_stop: 5 minutes and 1 seconds\n",
      "Length of time between EO_start and EO_stop: 5 minutes and 2 seconds\n",
      "=============================\n",
      "File: C17_RestingTStamps.csv\n",
      "Length of time between EC_start and EC_stop: 4 minutes and 59 seconds\n",
      "Length of time between EO_start and EO_stop: 5 minutes and 0 seconds\n",
      "=============================\n",
      "File: 030_RestingTStamps.csv\n",
      "Length of time between EC_start and EC_stop: 5 minutes and 23 seconds\n",
      "Length of time between EO_start and EO_stop: 5 minutes and 3 seconds\n",
      "=============================\n",
      "File: 036_RestingTStamps.csv\n",
      "Length of time between EC_start and EC_stop: 4 minutes and 25 seconds\n",
      "Length of time between EO_start and EO_stop: 4 minutes and 57 seconds\n",
      "=============================\n",
      "File: 008_RestingTStamps.csv\n",
      "Length of time between EC_start and EC_stop: 0 minutes and 16 seconds\n",
      "Length of time between EO_start and EO_stop: 4 minutes and 30 seconds\n",
      "=============================\n",
      "File: 053_RestingTStamps.csv\n",
      "Length of time between EC_start and EC_stop: 5 minutes and 16 seconds\n",
      "Length of time between EO_start and EO_stop: 5 minutes and 6 seconds\n",
      "=============================\n",
      "File: 010_RestingTStamps.csv\n",
      "Length of time between EC_start and EC_stop: 0 minutes and 24 seconds\n",
      "Length of time between EO_start and EO_stop: 4 minutes and 28 seconds\n",
      "=============================\n",
      "File: C12_RestingTStamps.csv\n",
      "Length of time between EC_start and EC_stop: 5 minutes and 1 seconds\n",
      "Length of time between EO_start and EO_stop: 5 minutes and 2 seconds\n",
      "=============================\n",
      "File: C26_RestingTStamps.csv\n",
      "Length of time between EC_start and EC_stop: 5 minutes and 1 seconds\n",
      "Length of time between EO_start and EO_stop: 5 minutes and 1 seconds\n",
      "=============================\n",
      "File: 032_RestingTStamps.csv\n",
      "Length of time between EC_start and EC_stop: 6 minutes and 54 seconds\n",
      "Length of time between EO_start and EO_stop: 5 minutes and 19 seconds\n",
      "=============================\n",
      "File: C16_RestingTStamps.csv\n",
      "Length of time between EC_start and EC_stop: 5 minutes and 1 seconds\n",
      "Length of time between EO_start and EO_stop: 5 minutes and 4 seconds\n",
      "=============================\n",
      "File: 029_RestingTStamps.csv\n",
      "Length of time between EC_start and EC_stop: 6 minutes and 15 seconds\n",
      "Length of time between EO_start and EO_stop: 5 minutes and 15 seconds\n",
      "=============================\n",
      "File: 023_RestingTStamps.csv\n",
      "Length of time between EC_start and EC_stop: 5 minutes and 14 seconds\n",
      "Length of time between EO_start and EO_stop: 5 minutes and 4 seconds\n",
      "=============================\n",
      "File: 035_RestingTStamps.csv\n",
      "Length of time between EC_start and EC_stop: 4 minutes and 25 seconds\n",
      "Length of time between EO_start and EO_stop: 4 minutes and 57 seconds\n",
      "=============================\n",
      "File: 022_RestingTStamps.csv\n",
      "Length of time between EC_start and EC_stop: 5 minutes and 8 seconds\n",
      "Length of time between EO_start and EO_stop: 5 minutes and 1 seconds\n",
      "=============================\n",
      "File: 043_RestingTStamps.csv\n",
      "Length of time between EC_start and EC_stop: 4 minutes and 59 seconds\n",
      "Length of time between EO_start and EO_stop: 5 minutes and 0 seconds\n",
      "=============================\n",
      "File: C7._RestingTStamps.csv\n",
      "Length of time between EC_start and EC_stop: 5 minutes and 12 seconds\n",
      "Length of time between EO_start and EO_stop: 5 minutes and 5 seconds\n",
      "=============================\n",
      "File: 041_RestingTStamps.csv\n",
      "Length of time between EC_start and EC_stop: 5 minutes and 4 seconds\n",
      "Length of time between EO_start and EO_stop: 5 minutes and 5 seconds\n",
      "=============================\n",
      "File: 031_RestingTStamps.csv\n",
      "Length of time between EC_start and EC_stop: 5 minutes and 37 seconds\n",
      "Length of time between EO_start and EO_stop: 5 minutes and 29 seconds\n",
      "=============================\n",
      "File: C14_RestingTStamps.csv\n",
      "Length of time between EC_start and EC_stop: 5 minutes and 40 seconds\n",
      "Length of time between EO_start and EO_stop: 5 minutes and 5 seconds\n",
      "=============================\n",
      "File: 042_RestingTStamps.csv\n",
      "Length of time between EC_start and EC_stop: 4 minutes and 59 seconds\n",
      "Length of time between EO_start and EO_stop: 4 minutes and 59 seconds\n",
      "=============================\n",
      "File: 046_RestingTStamps.csv\n",
      "Length of time between EC_start and EC_stop: 5 minutes and 0 seconds\n",
      "Length of time between EO_start and EO_stop: 5 minutes and 0 seconds\n",
      "=============================\n",
      "File: 059_RestingTStamps.csv\n",
      "Length of time between EC_start and EC_stop: 5 minutes and 1 seconds\n",
      "Length of time between EO_start and EO_stop: 5 minutes and 53 seconds\n",
      "=============================\n",
      "File: 039_RestingTStamps.csv\n",
      "Length of time between EC_start and EC_stop: 5 minutes and 3 seconds\n",
      "Length of time between EO_start and EO_stop: 5 minutes and 8 seconds\n",
      "=============================\n",
      "File: 013_RestingTStamps.csv\n",
      "Length of time between EC_start and EC_stop: 0 minutes and 8 seconds\n",
      "Length of time between EO_start and EO_stop: 5 minutes and 1 seconds\n",
      "=============================\n",
      "File: C13_RestingTStamps.csv\n",
      "Length of time between EC_start and EC_stop: 5 minutes and 8 seconds\n",
      "Length of time between EO_start and EO_stop: 5 minutes and 7 seconds\n",
      "=============================\n",
      "File: C25_RestingTStamps.csv\n",
      "Length of time between EC_start and EC_stop: 5 minutes and 5 seconds\n",
      "Length of time between EO_start and EO_stop: 5 minutes and 4 seconds\n",
      "=============================\n",
      "File: 020_RestingTStamps.csv\n",
      "Length of time between EC_start and EC_stop: 5 minutes and 13 seconds\n",
      "Length of time between EO_start and EO_stop: 5 minutes and 4 seconds\n",
      "=============================\n",
      "File: 058_RestingTStamps.csv\n",
      "Length of time between EC_start and EC_stop: 5 minutes and 3 seconds\n",
      "Length of time between EO_start and EO_stop: 5 minutes and 1 seconds\n",
      "=============================\n",
      "File: 024_RestingTStamps.csv\n",
      "Length of time between EC_start and EC_stop: 4 minutes and 39 seconds\n",
      "Length of time between EO_start and EO_stop: 5 minutes and 12 seconds\n",
      "=============================\n",
      "File: 055_RestingTStamps.csv\n",
      "Length of time between EC_start and EC_stop: 5 minutes and 0 seconds\n",
      "Length of time between EO_start and EO_stop: 5 minutes and 3 seconds\n",
      "=============================\n",
      "File: 050_RestingTStamps.csv\n",
      "Length of time between EC_start and EC_stop: 5 minutes and 13 seconds\n",
      "Length of time between EO_start and EO_stop: 5 minutes and 5 seconds\n",
      "=============================\n",
      "File: C19_RestingTStamps.csv\n",
      "Length of time between EC_start and EC_stop: 4 minutes and 59 seconds\n",
      "Length of time between EO_start and EO_stop: 5 minutes and 0 seconds\n",
      "=============================\n",
      "File: 033_RestingTStamps.csv\n",
      "Length of time between EC_start and EC_stop: 5 minutes and 2 seconds\n",
      "Length of time between EO_start and EO_stop: 5 minutes and 12 seconds\n",
      "=============================\n",
      "File: C6._RestingTStamps.csv\n",
      "Length of time between EC_start and EC_stop: 6 minutes and 6 seconds\n",
      "Length of time between EO_start and EO_stop: 5 minutes and 4 seconds\n",
      "=============================\n",
      "File: 044_RestingTStamps.csv\n",
      "Length of time between EC_start and EC_stop: 4 minutes and 59 seconds\n",
      "Length of time between EO_start and EO_stop: 4 minutes and 58 seconds\n",
      "=============================\n",
      "File: C18_RestingTStamps.csv\n",
      "Length of time between EC_start and EC_stop: 5 minutes and 1 seconds\n",
      "Length of time between EO_start and EO_stop: 4 minutes and 59 seconds\n",
      "=============================\n"
     ]
    }
   ],
   "source": [
    "# Find the length of the recordings\n",
    "import os\n",
    "import pandas as pd\n",
    "from datetime import timedelta\n",
    "\n",
    "def process_csv_files(csv_path):\n",
    "    # List all CSV files in the given path\n",
    "    csv_files = [f for f in os.listdir(csv_path) if f.endswith('.csv')]\n",
    "\n",
    "    for file_name in csv_files:\n",
    "        file_path = os.path.join(csv_path, file_name)\n",
    "        \n",
    "        # Read the CSV file into a DataFrame\n",
    "        df = pd.read_csv(file_path)\n",
    "        \n",
    "        # Extract values from the DataFrame\n",
    "        EC_start = df['Seconds'][0]\n",
    "        EC_stop = df['Seconds'][1]\n",
    "        EO_start = df['Seconds'][2]\n",
    "        EO_stop = df['Seconds'][3]\n",
    "        \n",
    "        # Calculate time differences\n",
    "        time_diff_EC = timedelta(seconds=EC_stop - EC_start)\n",
    "        time_diff_EO = timedelta(seconds=EO_stop - EO_start)\n",
    "        \n",
    "        # Convert time differences to minutes and seconds\n",
    "        minutes_EC, seconds_EC = divmod(time_diff_EC.total_seconds(), 60)\n",
    "        minutes_EO, seconds_EO = divmod(time_diff_EO.total_seconds(), 60)\n",
    "        \n",
    "        print(f\"File: {file_name}\")\n",
    "        print(f\"Length of time between EC_start and EC_stop: {int(minutes_EC)} minutes and {int(seconds_EC)} seconds\")\n",
    "        print(f\"Length of time between EO_start and EO_stop: {int(minutes_EO)} minutes and {int(seconds_EO)} seconds\")\n",
    "        print(\"=============================\")\n",
    "\n",
    "# Use function defined above\n",
    "csv_path = '../../../Data/Eyes Timestamps/'\n",
    "\n",
    "process_csv_files(csv_path)\n"
   ]
  },
  {
   "cell_type": "code",
   "execution_count": null,
   "id": "1aee9e9a-9fdd-4f9e-9e81-3ab417772d28",
   "metadata": {},
   "outputs": [],
   "source": []
  }
 ],
 "metadata": {
  "kernelspec": {
   "display_name": "mne",
   "language": "python",
   "name": "mne"
  },
  "language_info": {
   "codemirror_mode": {
    "name": "ipython",
    "version": 3
   },
   "file_extension": ".py",
   "mimetype": "text/x-python",
   "name": "python",
   "nbconvert_exporter": "python",
   "pygments_lexer": "ipython3",
   "version": "3.11.7"
  }
 },
 "nbformat": 4,
 "nbformat_minor": 5
}
