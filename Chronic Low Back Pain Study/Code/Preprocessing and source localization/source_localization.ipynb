{
 "cells": [
  {
   "cell_type": "markdown",
   "id": "2947c985-edb4-4e37-ac38-e2abc335d541",
   "metadata": {
    "tags": []
   },
   "source": [
    "## Compute source time course (STC) from Raw and Epochs data object and save as pickle for later analyses\n",
    "#### Input: *_eyes_open-raw.fif, *_eyes_closed-raw.fif, *-epo.fif\n",
    "####  Output: *_label_ts.pkl"
   ]
  },
  {
   "cell_type": "code",
   "execution_count": 1,
   "id": "93bc0409-9fd5-479d-8dde-25a747c13efe",
   "metadata": {
    "scrolled": true,
    "tags": []
   },
   "outputs": [
    {
     "name": "stdout",
     "output_type": "stream",
     "text": [
      "0 files missing from root.txt in /home/wanglab/mne_data/MNE-fsaverage-data\n",
      "0 files missing from bem.txt in /home/wanglab/mne_data/MNE-fsaverage-data/fsaverage\n"
     ]
    }
   ],
   "source": [
    "import os\n",
    "from pathlib import Path\n",
    "import sys\n",
    "sys.path.append('/home/wanglab/Documents/George Kenefati/Code/eeg_toolkit/')\n",
    "import os\n",
    "import mne\n",
    "import eeg_toolkit\n",
    "from eeg_toolkit import utils, preprocess, source_localization"
   ]
  },
  {
   "cell_type": "code",
   "execution_count": 2,
   "id": "842b367f-9d3c-4436-868f-6fb7ffe7b719",
   "metadata": {},
   "outputs": [
    {
     "name": "stdout",
     "output_type": "stream",
     "text": [
      "[-2.5,0.0,2.5]\n"
     ]
    },
    {
     "data": {
      "text/plain": [
       "[]"
      ]
     },
     "execution_count": 2,
     "metadata": {},
     "output_type": "execute_result"
    }
   ],
   "source": [
    "# Settings\n",
    "times_tup,time_win_path = preprocess.get_time_window(5)\n",
    "\n",
    "# Read in processed raw data\n",
    "data_dir = Path(\"../../Data\")\n",
    "processed_data_path = data_dir / 'Processed Data/'\n",
    "epo_path = data_dir / time_win_path\n",
    "stc_path = data_dir / \"Source Time Courses with MAT\"\n",
    "EO_resting_save_path = stc_path / \"Eyes Open\"\n",
    "EC_resting_save_path = stc_path / \"Eyes Closed\"\n",
    "zscored_epochs_save_path = stc_path / \"zscored_Epochs\" / time_win_path\n",
    "save_paths = [EC_resting_save_path,EO_resting_save_path,zscored_epochs_save_path] \n",
    "\n",
    "# Create save paths\n",
    "[os.makedirs(path) for path in save_paths if not os.path.exists(path)]"
   ]
  },
  {
   "cell_type": "code",
   "execution_count": 3,
   "id": "6525eacb-e00a-4c11-aad8-c3086d8b6a48",
   "metadata": {},
   "outputs": [
    {
     "name": "stdout",
     "output_type": "stream",
     "text": [
      "['018', '020', '021', '022', '023', '024', '027', '029', '030', '031', '032', '033', '034', '035', '036', '037', '038', '039', '040', '041', '042', '043', '044', '045', '046', '048', '049', '050', '051', '052', '053', '054', '055', '056', '057', '058', 'C1.', 'C2.', 'C3.', 'C5.', 'C6.', 'C7.', 'C8.', 'C9.', 'C10', 'C11', 'C12', 'C13', 'C14', 'C15', 'C16', 'C17', 'C18', 'C19', 'C20', 'C21', 'C22', 'C24', 'C25', 'C26', 'C27']\n"
     ]
    }
   ],
   "source": [
    "# viable subjects\n",
    "sub_ids = utils.import_subs(os.path.join(processed_data_path,os.pardir),'sub_ids.txt')\n",
    "# select only 64ch subs and turn into set\n",
    "sub_ids = sub_ids[7:]\n",
    "print(sub_ids)"
   ]
  },
  {
   "cell_type": "code",
   "execution_count": 4,
   "id": "7c3a8fdb-dbfa-42b6-907d-88061fab5ea5",
   "metadata": {},
   "outputs": [
    {
     "name": "stdout",
     "output_type": "stream",
     "text": [
      "Chronics: 36\n",
      "Controls: 25\n",
      "Total: 61\n"
     ]
    }
   ],
   "source": [
    "print(f\"Chronics: {len([el for el in sub_ids if el.startswith('0')])}\")\n",
    "print(f\"Controls: {len([el for el in sub_ids if el.startswith('C')])}\")\n",
    "print(f\"Total: {len(sub_ids)}\")"
   ]
  },
  {
   "cell_type": "markdown",
   "id": "334c6e28",
   "metadata": {},
   "source": [
    "#### Look for subjects who do not have EO or EC cropped data"
   ]
  },
  {
   "cell_type": "code",
   "execution_count": 5,
   "id": "e89000a3",
   "metadata": {},
   "outputs": [
    {
     "name": "stdout",
     "output_type": "stream",
     "text": [
      "Subject: 045 missing eyes closed data\n",
      "Subject: 045 missing eyes open data\n",
      "Subject: C1. missing eyes closed data\n",
      "Subject: C1. missing eyes open data\n",
      "Subject: C5. missing eyes closed data\n",
      "Subject: C5. missing eyes open data\n",
      "Subject: C8. missing eyes closed data\n",
      "Subject: C8. missing eyes open data\n",
      "Subject: C20 missing eyes closed data\n",
      "Subject: C20 missing eyes open data\n",
      "Subject: C21 missing eyes closed data\n",
      "Subject: C21 missing eyes open data\n",
      "Subject: C22 missing eyes closed data\n",
      "Subject: C22 missing eyes open data\n",
      "['045', 'C1.', 'C5.', 'C8.', 'C20', 'C21', 'C22']\n",
      "['045', 'C1.', 'C5.', 'C8.', 'C20', 'C21', 'C22']\n"
     ]
    }
   ],
   "source": [
    "# For edge cases of subjects missing eyes open or eyes closed data\n",
    "no_eyes_open = []\n",
    "no_eyes_closed = []\n",
    "\n",
    "for sub_id in sub_ids:\n",
    "    if not os.path.exists(os.path.join(processed_data_path, f\"{sub_id}_eyes_closed-raw.fif\")):\n",
    "        no_eyes_closed.append(sub_id)\n",
    "        print(f\"Subject: {sub_id} missing eyes closed data\")\n",
    "    if not os.path.exists(os.path.join(processed_data_path, f\"{sub_id}_eyes_open-raw.fif\")):\n",
    "        no_eyes_open.append(sub_id)\n",
    "        print(f\"Subject: {sub_id} missing eyes open data\")\n",
    "        \n",
    "print(no_eyes_open)\n",
    "print(no_eyes_closed)"
   ]
  },
  {
   "cell_type": "code",
   "execution_count": 6,
   "id": "168d00bf-c009-4143-a71d-c7c200ba148b",
   "metadata": {
    "tags": []
   },
   "outputs": [],
   "source": [
    "# Get stc only from selected labels\n",
    "roi_names = [# Left\n",
    "             'rostralanteriorcingulate-lh', # Left Rostral ACC\n",
    "             'caudalanteriorcingulate-lh', # Left Caudal ACC\n",
    "             'postcentral-lh', # Left S1,\n",
    "             'insula-lh', 'superiorfrontal-lh', # Left Insula, Left DL-PFC,\n",
    "             'medialorbitofrontal-lh', # Left Medial-OFC\n",
    "             # Right\n",
    "             'rostralanteriorcingulate-rh', # Right Rostral ACC\n",
    "             'caudalanteriorcingulate-rh', # Right Caudal ACC\n",
    "             'postcentral-rh', # , Right S1\n",
    "             'insula-rh', 'superiorfrontal-rh', # Right Insula, Right DL-PFC\n",
    "             'medialorbitofrontal-rh'] # Right Medial-OFC"
   ]
  },
  {
   "cell_type": "code",
   "execution_count": 7,
   "id": "80ffacc1",
   "metadata": {},
   "outputs": [
    {
     "name": "stdout",
     "output_type": "stream",
     "text": [
      "Converting forward solution to surface orientation\n",
      "    No patch info available. The standard source space normals will be employed in the rotation to the local surface coordinates....\n",
      "    Converting to surface-based source orientations...\n",
      "    [done]\n",
      "Computing inverse operator with 64 channels.\n",
      "    64 out of 64 channels remain after picking\n",
      "Selected 64 channels\n",
      "Creating the depth weighting matrix...\n",
      "    64 EEG channels\n",
      "    limit = 20485/20484 = 2.207463\n",
      "    scale = 125765 exp = 0.8\n",
      "Applying loose dipole orientations to surface source spaces: 0.2\n",
      "Whitening the forward solution.\n",
      "    Created an SSP operator (subspace dimension = 1)\n",
      "Computing rank from covariance with rank=None\n",
      "    Using tolerance 6e-13 (2.2e-16 eps * 64 dim * 42  max singular value)\n",
      "    Estimated rank (eeg): 58\n",
      "    EEG: rank 58 computed from 64 data channels with 1 projector\n",
      "    Setting small EEG eigenvalues to zero (without PCA)\n",
      "Creating the source covariance matrix\n",
      "Adjusting source covariance matrix.\n",
      "Computing SVD of whitened and weighted lead field matrix.\n",
      "    largest singular value = 2.95847\n",
      "    scaling factor to adjust the trace = 1.74954e+19 (nchan = 64 nzero = 6)\n",
      "Applying inverse to Epochs object\n",
      "Preparing the inverse operator for use...\n",
      "    Scaled noise and source covariance from nave = 1 to nave = 1\n",
      "    Created the regularized inverter\n",
      "    Created an SSP operator (subspace dimension = 1)\n",
      "    Created the whitener using a noise covariance matrix with rank 58 (6 small eigenvalues omitted)\n",
      "    Computing noise-normalization factors (dSPM)...\n",
      "[done]\n",
      "Picked 64 channels from the data\n",
      "Computing inverse...\n",
      "    Eigenleads need to be weighted ...\n",
      "Processing epoch : 1 / 73\n",
      "combining the current components...\n",
      "Processing epoch : 2 / 73\n",
      "combining the current components...\n",
      "Processing epoch : 3 / 73\n",
      "combining the current components...\n",
      "Processing epoch : 4 / 73\n",
      "combining the current components...\n",
      "Processing epoch : 5 / 73\n",
      "combining the current components...\n",
      "Processing epoch : 6 / 73\n",
      "combining the current components...\n",
      "Processing epoch : 7 / 73\n",
      "combining the current components...\n",
      "Processing epoch : 8 / 73\n",
      "combining the current components...\n",
      "Processing epoch : 9 / 73\n",
      "combining the current components...\n",
      "Processing epoch : 10 / 73\n",
      "combining the current components...\n",
      "Processing epoch : 11 / 73\n",
      "combining the current components...\n",
      "Processing epoch : 12 / 73\n",
      "combining the current components...\n",
      "Processing epoch : 13 / 73\n",
      "combining the current components...\n",
      "Processing epoch : 14 / 73\n",
      "combining the current components...\n",
      "Processing epoch : 15 / 73\n",
      "combining the current components...\n",
      "Processing epoch : 16 / 73\n",
      "combining the current components...\n",
      "Processing epoch : 17 / 73\n",
      "combining the current components...\n",
      "Processing epoch : 18 / 73\n",
      "combining the current components...\n",
      "Processing epoch : 19 / 73\n",
      "combining the current components...\n",
      "Processing epoch : 20 / 73\n",
      "combining the current components...\n",
      "Processing epoch : 21 / 73\n",
      "combining the current components...\n",
      "Processing epoch : 22 / 73\n",
      "combining the current components...\n",
      "Processing epoch : 23 / 73\n",
      "combining the current components...\n",
      "Processing epoch : 24 / 73\n",
      "combining the current components...\n",
      "Processing epoch : 25 / 73\n",
      "combining the current components...\n",
      "Processing epoch : 26 / 73\n",
      "combining the current components...\n",
      "Processing epoch : 27 / 73\n",
      "combining the current components...\n",
      "Processing epoch : 28 / 73\n",
      "combining the current components...\n",
      "Processing epoch : 29 / 73\n",
      "combining the current components...\n",
      "Processing epoch : 30 / 73\n",
      "combining the current components...\n",
      "Processing epoch : 31 / 73\n",
      "combining the current components...\n",
      "Processing epoch : 32 / 73\n",
      "combining the current components...\n",
      "Processing epoch : 33 / 73\n",
      "combining the current components...\n",
      "Processing epoch : 34 / 73\n",
      "combining the current components...\n",
      "Processing epoch : 35 / 73\n",
      "combining the current components...\n",
      "Processing epoch : 36 / 73\n",
      "combining the current components...\n",
      "Processing epoch : 37 / 73\n",
      "combining the current components...\n",
      "Processing epoch : 38 / 73\n",
      "combining the current components...\n",
      "Processing epoch : 39 / 73\n",
      "combining the current components...\n",
      "Processing epoch : 40 / 73\n",
      "combining the current components...\n",
      "Processing epoch : 41 / 73\n",
      "combining the current components...\n",
      "Processing epoch : 42 / 73\n",
      "combining the current components...\n",
      "Processing epoch : 43 / 73\n",
      "combining the current components...\n",
      "Processing epoch : 44 / 73\n",
      "combining the current components...\n",
      "Processing epoch : 45 / 73\n",
      "combining the current components...\n",
      "Processing epoch : 46 / 73\n",
      "combining the current components...\n",
      "Processing epoch : 47 / 73\n",
      "combining the current components...\n",
      "Processing epoch : 48 / 73\n",
      "combining the current components...\n",
      "Processing epoch : 49 / 73\n",
      "combining the current components...\n",
      "Processing epoch : 50 / 73\n",
      "combining the current components...\n",
      "Processing epoch : 51 / 73\n",
      "combining the current components...\n",
      "Processing epoch : 52 / 73\n",
      "combining the current components...\n",
      "Processing epoch : 53 / 73\n",
      "combining the current components...\n",
      "Processing epoch : 54 / 73\n",
      "combining the current components...\n",
      "Processing epoch : 55 / 73\n",
      "combining the current components...\n",
      "Processing epoch : 56 / 73\n",
      "combining the current components...\n",
      "Processing epoch : 57 / 73\n",
      "combining the current components...\n",
      "Processing epoch : 58 / 73\n",
      "combining the current components...\n",
      "Processing epoch : 59 / 73\n",
      "combining the current components...\n",
      "Processing epoch : 60 / 73\n",
      "combining the current components...\n",
      "Processing epoch : 61 / 73\n",
      "combining the current components...\n",
      "Processing epoch : 62 / 73\n",
      "combining the current components...\n",
      "Processing epoch : 63 / 73\n",
      "combining the current components...\n",
      "Processing epoch : 64 / 73\n",
      "combining the current components...\n",
      "Processing epoch : 65 / 73\n",
      "combining the current components...\n",
      "Processing epoch : 66 / 73\n",
      "combining the current components...\n",
      "Processing epoch : 67 / 73\n",
      "combining the current components...\n",
      "Processing epoch : 68 / 73\n",
      "combining the current components...\n",
      "Processing epoch : 69 / 73\n",
      "combining the current components...\n",
      "Processing epoch : 70 / 73\n",
      "combining the current components...\n",
      "Processing epoch : 71 / 73\n",
      "combining the current components...\n",
      "Processing epoch : 72 / 73\n",
      "combining the current components...\n",
      "Processing epoch : 73 / 73\n",
      "combining the current components...\n",
      "[done]\n",
      "Saving stc.mat for 018 in region: rostralanteriorcingulate-lh\n",
      "73\n",
      "(12, 401)\n"
     ]
    },
    {
     "ename": "ValueError",
     "evalue": "values must have 1 or 2 dimensions, got 3",
     "output_type": "error",
     "traceback": [
      "\u001b[0;31m---------------------------------------------------------------------------\u001b[0m",
      "\u001b[0;31mValueError\u001b[0m                                Traceback (most recent call last)",
      "Cell \u001b[0;32mIn[7], line 8\u001b[0m\n\u001b[1;32m      5\u001b[0m EO_bool \u001b[38;5;241m=\u001b[39m \u001b[38;5;28;01mFalse\u001b[39;00m \u001b[38;5;28;01mif\u001b[39;00m sub_id \u001b[38;5;129;01min\u001b[39;00m no_eyes_closed \u001b[38;5;28;01melse\u001b[39;00m \u001b[38;5;28;01mTrue\u001b[39;00m\n\u001b[1;32m      7\u001b[0m \u001b[38;5;66;03m# Compute source localization for subject and save \u001b[39;00m\n\u001b[0;32m----> 8\u001b[0m label_ts_All_Conds, sub_id_if_nan \u001b[38;5;241m=\u001b[39m \u001b[43msource_localization\u001b[49m\u001b[38;5;241;43m.\u001b[39;49m\u001b[43mto_source\u001b[49m\u001b[43m(\u001b[49m\u001b[43msub_id\u001b[49m\u001b[43m,\u001b[49m\n\u001b[1;32m      9\u001b[0m \u001b[43m                                                                  \u001b[49m\u001b[43mprocessed_data_path\u001b[49m\u001b[43m,\u001b[49m\n\u001b[1;32m     10\u001b[0m \u001b[43m                                                                    \u001b[49m\u001b[43mzscored_epochs_save_path\u001b[49m\u001b[43m,\u001b[49m\n\u001b[1;32m     11\u001b[0m \u001b[43m                                                                    \u001b[49m\u001b[43mEC_resting_save_path\u001b[49m\u001b[43m,\u001b[49m\n\u001b[1;32m     12\u001b[0m \u001b[43m                                                                    \u001b[49m\u001b[43mEO_resting_save_path\u001b[49m\u001b[43m,\u001b[49m\n\u001b[1;32m     13\u001b[0m \u001b[43m                                                                    \u001b[49m\u001b[43mroi_names\u001b[49m\u001b[43m,\u001b[49m\n\u001b[1;32m     14\u001b[0m \u001b[43m                                                                    \u001b[49m\u001b[43mtimes_tup\u001b[49m\u001b[43m,\u001b[49m\n\u001b[1;32m     15\u001b[0m \u001b[43m                                                                    \u001b[49m\u001b[43mreturn_zepochs\u001b[49m\u001b[38;5;241;43m=\u001b[39;49m\u001b[43mEO_bool\u001b[49m\u001b[43m,\u001b[49m\u001b[43m \u001b[49m\u001b[38;5;66;43;03m# cannot return epochs without eyes open noise segment\u001b[39;49;00m\n\u001b[1;32m     16\u001b[0m \u001b[43m                                                                    \u001b[49m\u001b[43mreturn_EC_resting\u001b[49m\u001b[43m \u001b[49m\u001b[38;5;241;43m=\u001b[39;49m\u001b[43m \u001b[49m\u001b[38;5;28;43;01mFalse\u001b[39;49;00m\u001b[43m,\u001b[49m\u001b[43m \u001b[49m\u001b[38;5;66;43;03m#EC_bool,\u001b[39;49;00m\n\u001b[1;32m     17\u001b[0m \u001b[43m                                                                    \u001b[49m\u001b[43mreturn_EO_resting\u001b[49m\u001b[43m \u001b[49m\u001b[38;5;241;43m=\u001b[39;49m\u001b[43m \u001b[49m\u001b[38;5;28;43;01mFalse\u001b[39;49;00m\u001b[43m,\u001b[49m\u001b[43m \u001b[49m\u001b[38;5;66;43;03m#EO_bool,\u001b[39;49;00m\n\u001b[1;32m     18\u001b[0m \u001b[43m                                                                    \u001b[49m\u001b[43maverage_dipoles\u001b[49m\u001b[38;5;241;43m=\u001b[39;49m\u001b[38;5;28;43;01mTrue\u001b[39;49;00m\u001b[43m,\u001b[49m\n\u001b[1;32m     19\u001b[0m \u001b[43m                                                                    \u001b[49m\u001b[43msave_stc_mat\u001b[49m\u001b[38;5;241;43m=\u001b[39;49m\u001b[38;5;28;43;01mTrue\u001b[39;49;00m\u001b[43m,\u001b[49m\n\u001b[1;32m     20\u001b[0m \u001b[43m                                                                    \u001b[49m\u001b[43m)\u001b[49m\n\u001b[1;32m     21\u001b[0m \u001b[38;5;66;03m# If sub_id(str) output, append to nan_subjects\u001b[39;00m\n\u001b[1;32m     22\u001b[0m \u001b[38;5;28;01mif\u001b[39;00m sub_id_if_nan \u001b[38;5;129;01mis\u001b[39;00m \u001b[38;5;129;01mnot\u001b[39;00m \u001b[38;5;28;01mNone\u001b[39;00m:\n",
      "File \u001b[0;32m~/Documents/George Kenefati/Code/eeg_toolkit/eeg_toolkit/source_localization.py:352\u001b[0m, in \u001b[0;36mto_source\u001b[0;34m(sub_id, data_path, zscored_epochs_save_path, EC_resting_save_path, EO_resting_save_path, roi_names, times_tup, return_zepochs, return_EC_resting, return_EO_resting, average_dipoles, save_stc_mat)\u001b[0m\n\u001b[1;32m    347\u001b[0m \u001b[38;5;28;01mif\u001b[39;00m return_zepochs \u001b[38;5;129;01mand\u001b[39;00m \u001b[38;5;129;01mnot\u001b[39;00m os\u001b[38;5;241m.\u001b[39mpath\u001b[38;5;241m.\u001b[39mexists(\n\u001b[1;32m    348\u001b[0m     \u001b[38;5;124mf\u001b[39m\u001b[38;5;124m\"\u001b[39m\u001b[38;5;132;01m{\u001b[39;00mzscored_epochs_save_path\u001b[38;5;132;01m}\u001b[39;00m\u001b[38;5;124m/\u001b[39m\u001b[38;5;132;01m{\u001b[39;00mzepochs_save_fname\u001b[38;5;132;01m}\u001b[39;00m\u001b[38;5;124m\"\u001b[39m\n\u001b[1;32m    349\u001b[0m ):\n\u001b[1;32m    350\u001b[0m     zepochs \u001b[38;5;241m=\u001b[39m zscore_epochs(sub_id, data_path, tmin, raw)\n\u001b[0;32m--> 352\u001b[0m     label_ts_Epochs, sub_id_if_nan \u001b[38;5;241m=\u001b[39m \u001b[43mcompute_fwd_and_inv\u001b[49m\u001b[43m(\u001b[49m\n\u001b[1;32m    353\u001b[0m \u001b[43m        \u001b[49m\u001b[43msub_id\u001b[49m\u001b[43m,\u001b[49m\n\u001b[1;32m    354\u001b[0m \u001b[43m        \u001b[49m\u001b[38;5;124;43m\"\u001b[39;49m\u001b[38;5;124;43mepochs\u001b[39;49m\u001b[38;5;124;43m\"\u001b[39;49m\u001b[43m,\u001b[49m\n\u001b[1;32m    355\u001b[0m \u001b[43m        \u001b[49m\u001b[43msnr\u001b[49m\u001b[43m,\u001b[49m\n\u001b[1;32m    356\u001b[0m \u001b[43m        \u001b[49m\u001b[43mtrans\u001b[49m\u001b[43m,\u001b[49m\n\u001b[1;32m    357\u001b[0m \u001b[43m        \u001b[49m\u001b[43msrc\u001b[49m\u001b[43m,\u001b[49m\n\u001b[1;32m    358\u001b[0m \u001b[43m        \u001b[49m\u001b[43mbem\u001b[49m\u001b[43m,\u001b[49m\n\u001b[1;32m    359\u001b[0m \u001b[43m        \u001b[49m\u001b[43mzepochs\u001b[49m\u001b[43m,\u001b[49m\n\u001b[1;32m    360\u001b[0m \u001b[43m        \u001b[49m\u001b[43mnoise_cov\u001b[49m\u001b[43m,\u001b[49m\n\u001b[1;32m    361\u001b[0m \u001b[43m        \u001b[49m\u001b[43mlabels\u001b[49m\u001b[43m,\u001b[49m\n\u001b[1;32m    362\u001b[0m \u001b[43m        \u001b[49m\u001b[43mzscored_epochs_save_path\u001b[49m\u001b[43m,\u001b[49m\n\u001b[1;32m    363\u001b[0m \u001b[43m        \u001b[49m\u001b[43mzepochs_save_fname\u001b[49m\u001b[43m,\u001b[49m\n\u001b[1;32m    364\u001b[0m \u001b[43m        \u001b[49m\u001b[43maverage_dipoles\u001b[49m\u001b[38;5;241;43m=\u001b[39;49m\u001b[38;5;28;43;01mTrue\u001b[39;49;00m\u001b[43m,\u001b[49m\n\u001b[1;32m    365\u001b[0m \u001b[43m        \u001b[49m\u001b[43msave_stc_mat\u001b[49m\u001b[38;5;241;43m=\u001b[39;49m\u001b[43msave_stc_mat\u001b[49m\u001b[43m,\u001b[49m\n\u001b[1;32m    366\u001b[0m \u001b[43m    \u001b[49m\u001b[43m)\u001b[49m\n\u001b[1;32m    368\u001b[0m \u001b[38;5;28;01mreturn\u001b[39;00m (label_ts_EO, label_ts_EC, label_ts_Epochs), sub_id_if_nan\n",
      "File \u001b[0;32m~/Documents/George Kenefati/Code/eeg_toolkit/eeg_toolkit/source_localization.py:225\u001b[0m, in \u001b[0;36mcompute_fwd_and_inv\u001b[0;34m(sub_id, condition, snr, trans, src, bem, mne_object, noise_cov, labels, save_path, save_fname, average_dipoles, save_stc_mat)\u001b[0m\n\u001b[1;32m    219\u001b[0m utils\u001b[38;5;241m.\u001b[39mclear_display()\n\u001b[1;32m    221\u001b[0m inverse_operator \u001b[38;5;241m=\u001b[39m mne\u001b[38;5;241m.\u001b[39mminimum_norm\u001b[38;5;241m.\u001b[39mmake_inverse_operator(\n\u001b[1;32m    222\u001b[0m     mne_object\u001b[38;5;241m.\u001b[39minfo, fwd, noise_cov, verbose\u001b[38;5;241m=\u001b[39m\u001b[38;5;28;01mTrue\u001b[39;00m\n\u001b[1;32m    223\u001b[0m )\n\u001b[0;32m--> 225\u001b[0m label_ts, sub_id_if_nan \u001b[38;5;241m=\u001b[39m \u001b[43mapply_inverse_and_save\u001b[49m\u001b[43m(\u001b[49m\n\u001b[1;32m    226\u001b[0m \u001b[43m    \u001b[49m\u001b[43mmne_object\u001b[49m\u001b[43m,\u001b[49m\n\u001b[1;32m    227\u001b[0m \u001b[43m    \u001b[49m\u001b[43minverse_operator\u001b[49m\u001b[43m,\u001b[49m\n\u001b[1;32m    228\u001b[0m \u001b[43m    \u001b[49m\u001b[43mlabels\u001b[49m\u001b[43m,\u001b[49m\n\u001b[1;32m    229\u001b[0m \u001b[43m    \u001b[49m\u001b[43msave_path\u001b[49m\u001b[43m,\u001b[49m\n\u001b[1;32m    230\u001b[0m \u001b[43m    \u001b[49m\u001b[43msave_fname\u001b[49m\u001b[43m,\u001b[49m\n\u001b[1;32m    231\u001b[0m \u001b[43m    \u001b[49m\u001b[43msub_id\u001b[49m\u001b[43m,\u001b[49m\n\u001b[1;32m    232\u001b[0m \u001b[43m    \u001b[49m\u001b[43mcondition\u001b[49m\u001b[43m,\u001b[49m\n\u001b[1;32m    233\u001b[0m \u001b[43m    \u001b[49m\u001b[43maverage_dipoles\u001b[49m\u001b[38;5;241;43m=\u001b[39;49m\u001b[38;5;28;43;01mTrue\u001b[39;49;00m\u001b[43m,\u001b[49m\n\u001b[1;32m    234\u001b[0m \u001b[43m    \u001b[49m\u001b[43msave_stc_mat\u001b[49m\u001b[38;5;241;43m=\u001b[39;49m\u001b[43msave_stc_mat\u001b[49m\u001b[43m,\u001b[49m\n\u001b[1;32m    235\u001b[0m \u001b[43m\u001b[49m\u001b[43m)\u001b[49m\n\u001b[1;32m    237\u001b[0m \u001b[38;5;28;01mreturn\u001b[39;00m label_ts, sub_id_if_nan\n\u001b[1;32m    238\u001b[0m utils\u001b[38;5;241m.\u001b[39mclear_display()\n",
      "File \u001b[0;32m~/Documents/George Kenefati/Code/eeg_toolkit/eeg_toolkit/source_localization.py:137\u001b[0m, in \u001b[0;36mapply_inverse_and_save\u001b[0;34m(mne_object, inverse_operator, labels, save_path, save_fname, sub_id, condition, average_dipoles, save_stc_mat)\u001b[0m\n\u001b[1;32m    135\u001b[0m \u001b[38;5;28mprint\u001b[39m(\u001b[38;5;28mlen\u001b[39m(label_ts))\n\u001b[1;32m    136\u001b[0m \u001b[38;5;28mprint\u001b[39m(label_ts[\u001b[38;5;241m0\u001b[39m]\u001b[38;5;241m.\u001b[39mshape)\n\u001b[0;32m--> 137\u001b[0m stc \u001b[38;5;241m=\u001b[39m \u001b[43mmne\u001b[49m\u001b[38;5;241;43m.\u001b[39;49m\u001b[43mlabels_to_stc\u001b[49m\u001b[43m(\u001b[49m\u001b[43mlabels\u001b[49m\u001b[43m,\u001b[49m\u001b[43m \u001b[49m\u001b[43mlabel_ts\u001b[49m\u001b[43m,\u001b[49m\u001b[43m \u001b[49m\u001b[43msrc\u001b[49m\u001b[38;5;241;43m=\u001b[39;49m\u001b[43msrc\u001b[49m\u001b[43m)\u001b[49m\n\u001b[1;32m    139\u001b[0m stc_data \u001b[38;5;241m=\u001b[39m stc\u001b[38;5;241m.\u001b[39mdata  \u001b[38;5;66;03m# [epoch.data for epoch in stc]\u001b[39;00m\n\u001b[1;32m    140\u001b[0m \u001b[38;5;66;03m# Turn into 3D array\u001b[39;00m\n",
      "File \u001b[0;32m<decorator-gen-351>:12\u001b[0m, in \u001b[0;36mlabels_to_stc\u001b[0;34m(labels, values, tmin, tstep, subject, src, verbose)\u001b[0m\n",
      "File \u001b[0;32m~/mambaforge/envs/mne/lib/python3.11/site-packages/mne/label.py:2524\u001b[0m, in \u001b[0;36mlabels_to_stc\u001b[0;34m(labels, values, tmin, tstep, subject, src, verbose)\u001b[0m\n\u001b[1;32m   2522\u001b[0m     values \u001b[38;5;241m=\u001b[39m values[:, np\u001b[38;5;241m.\u001b[39mnewaxis]\n\u001b[1;32m   2523\u001b[0m \u001b[38;5;28;01mif\u001b[39;00m values\u001b[38;5;241m.\u001b[39mndim \u001b[38;5;241m!=\u001b[39m \u001b[38;5;241m2\u001b[39m:\n\u001b[0;32m-> 2524\u001b[0m     \u001b[38;5;28;01mraise\u001b[39;00m \u001b[38;5;167;01mValueError\u001b[39;00m(\u001b[38;5;124m\"\u001b[39m\u001b[38;5;124mvalues must have 1 or 2 dimensions, got \u001b[39m\u001b[38;5;132;01m%s\u001b[39;00m\u001b[38;5;124m\"\u001b[39m \u001b[38;5;241m%\u001b[39m (values\u001b[38;5;241m.\u001b[39mndim,))\n\u001b[1;32m   2525\u001b[0m _validate_type(src, (SourceSpaces, \u001b[38;5;28;01mNone\u001b[39;00m))\n\u001b[1;32m   2526\u001b[0m \u001b[38;5;28;01mif\u001b[39;00m src \u001b[38;5;129;01mis\u001b[39;00m \u001b[38;5;28;01mNone\u001b[39;00m:\n",
      "\u001b[0;31mValueError\u001b[0m: values must have 1 or 2 dimensions, got 3"
     ]
    }
   ],
   "source": [
    "nan_subjects=[]\n",
    "for sub_id in sub_ids:  \n",
    "    # Check if eyes open or eyes closed need to be computed\n",
    "    EC_bool = False if sub_id in no_eyes_open else True\n",
    "    EO_bool = False if sub_id in no_eyes_closed else True\n",
    "    \n",
    "    # Compute source localization for subject and save \n",
    "    label_ts_All_Conds, sub_id_if_nan = source_localization.to_source(sub_id,\n",
    "                                                                      processed_data_path,\n",
    "                                                                        zscored_epochs_save_path,\n",
    "                                                                        EC_resting_save_path,\n",
    "                                                                        EO_resting_save_path,\n",
    "                                                                        roi_names,\n",
    "                                                                        times_tup,\n",
    "                                                                        return_zepochs=EO_bool, # cannot return epochs without eyes open noise segment\n",
    "                                                                        return_EC_resting = False, #EC_bool,\n",
    "                                                                        return_EO_resting = False, #EO_bool,\n",
    "                                                                        average_dipoles=True,\n",
    "                                                                        save_stc_mat=True,\n",
    "                                                                        )\n",
    "    # If sub_id(str) output, append to nan_subjects\n",
    "    if sub_id_if_nan is not None:\n",
    "        nan_subjects.append(sub_id_if_nan)"
   ]
  },
  {
   "cell_type": "markdown",
   "id": "3b646755",
   "metadata": {},
   "source": [
    "### Assess results"
   ]
  },
  {
   "cell_type": "code",
   "execution_count": null,
   "id": "9268a1aa",
   "metadata": {},
   "outputs": [],
   "source": [
    "label_ts_All_Conds"
   ]
  },
  {
   "cell_type": "code",
   "execution_count": null,
   "id": "83c740ac",
   "metadata": {},
   "outputs": [],
   "source": [
    "nan_subjects"
   ]
  },
  {
   "cell_type": "code",
   "execution_count": null,
   "id": "206212ea",
   "metadata": {},
   "outputs": [],
   "source": []
  }
 ],
 "metadata": {
  "kernelspec": {
   "display_name": "Python 3",
   "language": "python",
   "name": "python3"
  },
  "language_info": {
   "codemirror_mode": {
    "name": "ipython",
    "version": 3
   },
   "file_extension": ".py",
   "mimetype": "text/x-python",
   "name": "python",
   "nbconvert_exporter": "python",
   "pygments_lexer": "ipython3",
   "version": "3.11.7"
  }
 },
 "nbformat": 4,
 "nbformat_minor": 5
}
