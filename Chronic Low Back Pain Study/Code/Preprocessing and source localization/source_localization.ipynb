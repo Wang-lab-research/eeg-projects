{
 "cells": [
  {
   "cell_type": "markdown",
   "id": "2947c985-edb4-4e37-ac38-e2abc335d541",
   "metadata": {
    "tags": []
   },
   "source": [
    "## Compute source time course (STC) from Raw and Epochs data object and save as pickle for later analyses\n",
    "#### Input: *_eyes_open-raw.fif, *_eyes_closed-raw.fif, *-epo.fif\n",
    "####  Output: *_label_ts.pkl"
   ]
  },
  {
   "cell_type": "code",
   "execution_count": 1,
   "id": "93bc0409-9fd5-479d-8dde-25a747c13efe",
   "metadata": {
    "scrolled": true,
    "tags": []
   },
   "outputs": [
    {
     "name": "stdout",
     "output_type": "stream",
     "text": [
      "0 files missing from root.txt in /home/wanglab/mne_data/MNE-fsaverage-data\n",
      "0 files missing from bem.txt in /home/wanglab/mne_data/MNE-fsaverage-data/fsaverage\n"
     ]
    }
   ],
   "source": [
    "import os\n",
    "from pathlib import Path\n",
    "import sys\n",
    "sys.path.append('/home/wanglab/Documents/George Kenefati/Code/eeg_toolkit/')\n",
    "import os\n",
    "import mne\n",
    "from eeg_toolkit import utils, preprocess, source_localization"
   ]
  },
  {
   "cell_type": "markdown",
   "id": "a6196feb",
   "metadata": {},
   "source": [
    "### Paths"
   ]
  },
  {
   "cell_type": "code",
   "execution_count": 2,
   "id": "4b57e63e",
   "metadata": {},
   "outputs": [
    {
     "name": "stdout",
     "output_type": "stream",
     "text": [
      "[-2.5,0.0,2.5]\n"
     ]
    }
   ],
   "source": [
    "# Time window for source localization computation\n",
    "times_tup,time_win_path = preprocess.get_time_window(5)\n",
    "\n",
    "# Average dipoles, always true unless you have subject-specific MRI and know what you're doing\n",
    "average_dipoles = True\n",
    "\n",
    "# Save inverse. True if you want to plot the brain model with AEC connectivity\n",
    "save_inv = True"
   ]
  },
  {
   "cell_type": "code",
   "execution_count": 3,
   "id": "842b367f-9d3c-4436-868f-6fb7ffe7b719",
   "metadata": {},
   "outputs": [],
   "source": [
    "# Read in processed raw data\n",
    "data_dir = Path(\"../../Data\")\n",
    "processed_data_path = data_dir / 'Processed Data'\n",
    "epo_path = data_dir / time_win_path"
   ]
  },
  {
   "cell_type": "markdown",
   "id": "3b38c500",
   "metadata": {},
   "source": [
    "### Subject IDs"
   ]
  },
  {
   "cell_type": "code",
   "execution_count": 4,
   "id": "6525eacb-e00a-4c11-aad8-c3086d8b6a48",
   "metadata": {},
   "outputs": [
    {
     "name": "stdout",
     "output_type": "stream",
     "text": [
      "['018', '020', '021', '022', '023', '024', '027', '029', '030', '031', '032', '033', '034', '035', '036', '037', '038', '039', '040', '041', '042', '043', '044', '045', '046', '048', '049', '050', '051', '052', '053', '054', '055', '056', '057', '058', 'C1.', 'C2.', 'C3.', 'C5.', 'C6.', 'C7.', 'C8.', 'C9.', 'C10', 'C11', 'C12', 'C13', 'C14', 'C15', 'C16', 'C17', 'C18', 'C19', 'C20', 'C21', 'C22', 'C24', 'C25', 'C26', 'C27']\n"
     ]
    }
   ],
   "source": [
    "# viable subjects\n",
    "sub_ids = utils.import_subs(os.path.join(data_dir),'sub_ids.txt')\n",
    "# select only 64ch subs and turn into set\n",
    "sub_ids = sub_ids[7:]\n",
    "print(sub_ids)"
   ]
  },
  {
   "cell_type": "code",
   "execution_count": 5,
   "id": "7c3a8fdb-dbfa-42b6-907d-88061fab5ea5",
   "metadata": {},
   "outputs": [
    {
     "name": "stdout",
     "output_type": "stream",
     "text": [
      "Chronics: 36\n",
      "Controls: 25\n",
      "Total: 61\n"
     ]
    }
   ],
   "source": [
    "print(f\"Chronics: {len([el for el in sub_ids if el.startswith('0')])}\")\n",
    "print(f\"Controls: {len([el for el in sub_ids if el.startswith('C')])}\")\n",
    "print(f\"Total: {len(sub_ids)}\")"
   ]
  },
  {
   "cell_type": "markdown",
   "id": "334c6e28",
   "metadata": {},
   "source": [
    "#### Look for subjects who do not have EO or EC cropped data"
   ]
  },
  {
   "cell_type": "code",
   "execution_count": 6,
   "id": "e89000a3",
   "metadata": {},
   "outputs": [
    {
     "name": "stdout",
     "output_type": "stream",
     "text": [
      "Subject: 045 missing eyes closed data\n",
      "Subject: 045 missing eyes open data\n",
      "Subject: C1. missing eyes closed data\n",
      "Subject: C1. missing eyes open data\n",
      "Subject: C5. missing eyes closed data\n",
      "Subject: C5. missing eyes open data\n",
      "Subject: C8. missing eyes closed data\n",
      "Subject: C8. missing eyes open data\n",
      "Subject: C20 missing eyes closed data\n",
      "Subject: C20 missing eyes open data\n",
      "Subject: C21 missing eyes closed data\n",
      "Subject: C21 missing eyes open data\n",
      "Subject: C22 missing eyes closed data\n",
      "Subject: C22 missing eyes open data\n",
      "['045', 'C1.', 'C5.', 'C8.', 'C20', 'C21', 'C22']\n",
      "['045', 'C1.', 'C5.', 'C8.', 'C20', 'C21', 'C22']\n"
     ]
    }
   ],
   "source": [
    "# For edge cases of subjects missing eyes open or eyes closed data\n",
    "no_eyes_open = []\n",
    "no_eyes_closed = []\n",
    "\n",
    "for sub_id in sub_ids:\n",
    "    if not os.path.exists(os.path.join(processed_data_path, f\"{sub_id}_eyes_closed-raw.fif\")):\n",
    "        no_eyes_closed.append(sub_id)\n",
    "        print(f\"Subject: {sub_id} missing eyes closed data\")\n",
    "    if not os.path.exists(os.path.join(processed_data_path, f\"{sub_id}_eyes_open-raw.fif\")):\n",
    "        no_eyes_open.append(sub_id)\n",
    "        print(f\"Subject: {sub_id} missing eyes open data\")\n",
    "        \n",
    "print(no_eyes_open)\n",
    "print(no_eyes_closed)"
   ]
  },
  {
   "cell_type": "code",
   "execution_count": 7,
   "id": "168d00bf-c009-4143-a71d-c7c200ba148b",
   "metadata": {
    "tags": []
   },
   "outputs": [],
   "source": [
    "# Get stc only from selected labels\n",
    "roi_names = [# Left\n",
    "             'rostralanteriorcingulate-lh', # Left Rostral ACC\n",
    "             'caudalanteriorcingulate-lh', # Left Caudal ACC\n",
    "             'postcentral-lh', # Left S1,\n",
    "             'insula-lh', 'superiorfrontal-lh', # Left Insula, Left DL-PFC,\n",
    "             'medialorbitofrontal-lh', # Left Medial-OFC\n",
    "             # Right\n",
    "             'rostralanteriorcingulate-rh', # Right Rostral ACC\n",
    "             'caudalanteriorcingulate-rh', # Right Caudal ACC\n",
    "             'postcentral-rh', # , Right S1\n",
    "             'insula-rh', 'superiorfrontal-rh', # Right Insula, Right DL-PFC\n",
    "             'medialorbitofrontal-rh'] # Right Medial-OFC"
   ]
  },
  {
   "cell_type": "markdown",
   "id": "03df3db5",
   "metadata": {},
   "source": [
    "### Compute STCs"
   ]
  },
  {
   "cell_type": "code",
   "execution_count": 8,
   "id": "80ffacc1",
   "metadata": {},
   "outputs": [
    {
     "name": "stdout",
     "output_type": "stream",
     "text": [
      "Converting forward solution to surface orientation\n",
      "    No patch info available. The standard source space normals will be employed in the rotation to the local surface coordinates....\n",
      "    Converting to surface-based source orientations...\n",
      "    [done]\n",
      "Computing inverse operator with 64 channels.\n",
      "    64 out of 64 channels remain after picking\n",
      "Selected 64 channels\n",
      "Creating the depth weighting matrix...\n",
      "    64 EEG channels\n",
      "    limit = 20485/20484 = 2.207463\n",
      "    scale = 125765 exp = 0.8\n",
      "Applying loose dipole orientations to surface source spaces: 0.2\n",
      "Whitening the forward solution.\n",
      "    Created an SSP operator (subspace dimension = 1)\n",
      "Computing rank from covariance with rank=None\n",
      "    Using tolerance 1.8e-13 (2.2e-16 eps * 64 dim * 13  max singular value)\n",
      "    Estimated rank (eeg): 59\n",
      "    EEG: rank 59 computed from 64 data channels with 1 projector\n",
      "    Setting small EEG eigenvalues to zero (without PCA)\n",
      "Creating the source covariance matrix\n",
      "Adjusting source covariance matrix.\n",
      "Computing SVD of whitened and weighted lead field matrix.\n",
      "    largest singular value = 3.24753\n",
      "    scaling factor to adjust the trace = 2.28193e+19 (nchan = 64 nzero = 5)\n",
      "Applying inverse to Epochs object\n",
      "Preparing the inverse operator for use...\n",
      "    Scaled noise and source covariance from nave = 1 to nave = 1\n",
      "    Created the regularized inverter\n",
      "    Created an SSP operator (subspace dimension = 1)\n",
      "    Created the whitener using a noise covariance matrix with rank 59 (5 small eigenvalues omitted)\n",
      "    Computing noise-normalization factors (dSPM)...\n",
      "[done]\n",
      "Picked 64 channels from the data\n",
      "Computing inverse...\n",
      "    Eigenleads need to be weighted ...\n",
      "Processing epoch : 1 / 57\n",
      "combining the current components...\n",
      "Processing epoch : 2 / 57\n",
      "combining the current components...\n",
      "Processing epoch : 3 / 57\n",
      "combining the current components...\n",
      "Processing epoch : 4 / 57\n",
      "combining the current components...\n",
      "Processing epoch : 5 / 57\n",
      "combining the current components...\n",
      "Processing epoch : 6 / 57\n",
      "combining the current components...\n",
      "Processing epoch : 7 / 57\n",
      "combining the current components...\n",
      "Processing epoch : 8 / 57\n",
      "combining the current components...\n",
      "Processing epoch : 9 / 57\n",
      "combining the current components...\n",
      "Processing epoch : 10 / 57\n",
      "combining the current components...\n",
      "Processing epoch : 11 / 57\n",
      "combining the current components...\n",
      "Processing epoch : 12 / 57\n",
      "combining the current components...\n",
      "Processing epoch : 13 / 57\n",
      "combining the current components...\n",
      "Processing epoch : 14 / 57\n",
      "combining the current components...\n",
      "Processing epoch : 15 / 57\n",
      "combining the current components...\n",
      "Processing epoch : 16 / 57\n",
      "combining the current components...\n",
      "Processing epoch : 17 / 57\n",
      "combining the current components...\n",
      "Processing epoch : 18 / 57\n",
      "combining the current components...\n",
      "Processing epoch : 19 / 57\n",
      "combining the current components...\n",
      "Processing epoch : 20 / 57\n",
      "combining the current components...\n",
      "Processing epoch : 21 / 57\n",
      "combining the current components...\n",
      "Processing epoch : 22 / 57\n",
      "combining the current components...\n",
      "Processing epoch : 23 / 57\n",
      "combining the current components...\n",
      "Processing epoch : 24 / 57\n",
      "combining the current components...\n",
      "Processing epoch : 25 / 57\n",
      "combining the current components...\n",
      "Processing epoch : 26 / 57\n",
      "combining the current components...\n",
      "Processing epoch : 27 / 57\n",
      "combining the current components...\n",
      "Processing epoch : 28 / 57\n",
      "combining the current components...\n",
      "Processing epoch : 29 / 57\n",
      "combining the current components...\n",
      "Processing epoch : 30 / 57\n",
      "combining the current components...\n",
      "Processing epoch : 31 / 57\n",
      "combining the current components...\n",
      "Processing epoch : 32 / 57\n",
      "combining the current components...\n",
      "Processing epoch : 33 / 57\n",
      "combining the current components...\n",
      "Processing epoch : 34 / 57\n",
      "combining the current components...\n",
      "Processing epoch : 35 / 57\n",
      "combining the current components...\n",
      "Processing epoch : 36 / 57\n",
      "combining the current components...\n",
      "Processing epoch : 37 / 57\n",
      "combining the current components...\n",
      "Processing epoch : 38 / 57\n",
      "combining the current components...\n",
      "Processing epoch : 39 / 57\n",
      "combining the current components...\n",
      "Processing epoch : 40 / 57\n",
      "combining the current components...\n",
      "Processing epoch : 41 / 57\n",
      "combining the current components...\n",
      "Processing epoch : 42 / 57\n",
      "combining the current components...\n",
      "Processing epoch : 43 / 57\n",
      "combining the current components...\n",
      "Processing epoch : 44 / 57\n",
      "combining the current components...\n",
      "Processing epoch : 45 / 57\n",
      "combining the current components...\n",
      "Processing epoch : 46 / 57\n",
      "combining the current components...\n",
      "Processing epoch : 47 / 57\n",
      "combining the current components...\n",
      "Processing epoch : 48 / 57\n",
      "combining the current components...\n",
      "Processing epoch : 49 / 57\n",
      "combining the current components...\n",
      "Processing epoch : 50 / 57\n",
      "combining the current components...\n",
      "Processing epoch : 51 / 57\n",
      "combining the current components...\n",
      "Processing epoch : 52 / 57\n",
      "combining the current components...\n",
      "Processing epoch : 53 / 57\n",
      "combining the current components...\n",
      "Processing epoch : 54 / 57\n",
      "combining the current components...\n",
      "Processing epoch : 55 / 57\n",
      "combining the current components...\n",
      "Processing epoch : 56 / 57\n",
      "combining the current components...\n",
      "Processing epoch : 57 / 57\n",
      "combining the current components...\n",
      "[done]\n"
     ]
    }
   ],
   "source": [
    "nan_subjects=[]\n",
    "\n",
    "# TODO: add MNE back in later\n",
    "methods = ['dSPM',\n",
    "        #    'MNE',\n",
    "           ]\n",
    "\n",
    "for sub_id in sub_ids: \n",
    "    # Check if eyes open or eyes closed need to be computed\n",
    "    EC_bool = False if sub_id in no_eyes_open else True\n",
    "    EO_bool = False if sub_id in no_eyes_closed else True\n",
    "    print(f\"Subject: {sub_id} | EC: {EC_bool} | EO: {EO_bool}\")\n",
    "    \n",
    "    for save_stc_mat in [False]:#True, False]:    \n",
    "        # if no Eyes Open and saving to pkl, skip\n",
    "        if not save_stc_mat and not EO_bool:\n",
    "            continue\n",
    "\n",
    "        # else, compute\n",
    "        for method in methods:\n",
    "            print(f\"Source Localization Method: {method}\")                          \n",
    "            # Paths\n",
    "            stc_path = (data_dir / f'Source Time Courses ({method}) (MAT)' \n",
    "                        if save_stc_mat \n",
    "                        else data_dir / f'Source Time Courses ({method})')\n",
    "            EO_resting_save_path = stc_path / \"Eyes Open\"\n",
    "            EC_resting_save_path = stc_path / \"Eyes Closed\"\n",
    "            zscored_epochs_save_path = stc_path / \"zscored_Epochs\" / time_win_path\n",
    "            save_paths = [EC_resting_save_path,EO_resting_save_path,zscored_epochs_save_path] \n",
    "\n",
    "            # Create paths\n",
    "            [os.makedirs(path) for path in save_paths if not os.path.exists(path)]\n",
    "            \n",
    "            # No resting if exporting to MAT\n",
    "            if save_stc_mat:\n",
    "                Epochs_bool = True\n",
    "                EC_bool = False\n",
    "                EO_bool = False\n",
    "            else:\n",
    "                Epochs_bool = EO_bool\n",
    "\n",
    "            # Compute source localization for subject and save \n",
    "            label_ts_All_Conds, sub_id_if_nan = source_localization.to_source(sub_id,\n",
    "                                                                              processed_data_path,\n",
    "                                                                              zscored_epochs_save_path,\n",
    "                                                                              EC_resting_save_path,\n",
    "                                                                              EO_resting_save_path,\n",
    "                                                                              roi_names,\n",
    "                                                                              times_tup,\n",
    "                                                                              method=method,\n",
    "                                                                              return_zepochs=Epochs_bool, # cannot return epochs without eyes open noise segment\n",
    "                                                                              return_EC_resting = EC_bool,\n",
    "                                                                              return_EO_resting = EO_bool,\n",
    "                                                                              average_dipoles=average_dipoles,\n",
    "                                                                              save_stc_mat=save_stc_mat,\n",
    "                                                                              save_inv=save_inv,\n",
    "                                                                              )\n",
    "            utils.clear_display()\n",
    "            \n",
    "            # Commented out because FC code checks and skips if nan \n",
    "            # # If sub_id(str) output, append to nan_subjects\n",
    "            # if sub_id_if_nan is not None:\n",
    "            #     nan_subjects.append(sub_id_if_nan)\n",
    "            # # break"
   ]
  },
  {
   "cell_type": "markdown",
   "id": "3b646755",
   "metadata": {},
   "source": [
    "### Assess results"
   ]
  },
  {
   "cell_type": "code",
   "execution_count": null,
   "id": "83c740ac",
   "metadata": {},
   "outputs": [],
   "source": [
    "nan_subjects"
   ]
  },
  {
   "cell_type": "code",
   "execution_count": null,
   "id": "9268a1aa",
   "metadata": {},
   "outputs": [],
   "source": [
    "label_ts_All_Conds"
   ]
  },
  {
   "cell_type": "code",
   "execution_count": null,
   "id": "c3d32c9f",
   "metadata": {},
   "outputs": [],
   "source": []
  }
 ],
 "metadata": {
  "kernelspec": {
   "display_name": "Python 3",
   "language": "python",
   "name": "python3"
  },
  "language_info": {
   "codemirror_mode": {
    "name": "ipython",
    "version": 3
   },
   "file_extension": ".py",
   "mimetype": "text/x-python",
   "name": "python",
   "nbconvert_exporter": "python",
   "pygments_lexer": "ipython3",
   "version": "3.11.7"
  }
 },
 "nbformat": 4,
 "nbformat_minor": 5
}
