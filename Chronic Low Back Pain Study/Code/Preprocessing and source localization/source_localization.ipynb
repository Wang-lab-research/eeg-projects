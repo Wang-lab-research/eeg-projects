{
 "cells": [
  {
   "cell_type": "markdown",
   "id": "2947c985-edb4-4e37-ac38-e2abc335d541",
   "metadata": {
    "tags": []
   },
   "source": [
    "## Compute source time course (STC) from Raw and Epochs data object and save as pickle for later analyses\n",
    "#### Input: *_eyes_open-raw.fif, *_eyes_closed-raw.fif, *-epo.fif\n",
    "####  Output: *_label_ts.pkl"
   ]
  },
  {
   "cell_type": "code",
   "execution_count": 1,
   "id": "93bc0409-9fd5-479d-8dde-25a747c13efe",
   "metadata": {
    "scrolled": true,
    "tags": []
   },
   "outputs": [
    {
     "name": "stdout",
     "output_type": "stream",
     "text": [
      "0 files missing from root.txt in /home/wanglab/mne_data/MNE-fsaverage-data\n",
      "0 files missing from bem.txt in /home/wanglab/mne_data/MNE-fsaverage-data/fsaverage\n"
     ]
    }
   ],
   "source": [
    "import os\n",
    "from pathlib import Path\n",
    "import sys\n",
    "sys.path.append('/home/wanglab/Documents/George Kenefati/Code/eeg_toolkit/')\n",
    "import os\n",
    "import mne\n",
    "import eeg_toolkit\n",
    "from eeg_toolkit import utils, preprocess, source_localization"
   ]
  },
  {
   "cell_type": "code",
   "execution_count": 2,
   "id": "842b367f-9d3c-4436-868f-6fb7ffe7b719",
   "metadata": {},
   "outputs": [
    {
     "name": "stdout",
     "output_type": "stream",
     "text": [
      "[-2.5,0.0,2.5]\n"
     ]
    },
    {
     "data": {
      "text/plain": [
       "[]"
      ]
     },
     "execution_count": 2,
     "metadata": {},
     "output_type": "execute_result"
    }
   ],
   "source": [
    "# Settings\n",
    "times_tup,time_win_path = preprocess.get_time_window(5)\n",
    "\n",
    "# Read in processed raw data\n",
    "data_dir = Path(\"../../Data\")\n",
    "processed_data_path = data_dir / 'Processed Data/'\n",
    "epo_path = data_dir / time_win_path\n",
    "stc_path = data_dir / \"Source Time Courses with MAT\"\n",
    "EO_resting_save_path = stc_path / \"Eyes Open\"\n",
    "EC_resting_save_path = stc_path / \"Eyes Closed\"\n",
    "zscored_epochs_save_path = stc_path / \"zscored_Epochs\" / time_win_path\n",
    "save_paths = [EC_resting_save_path,EO_resting_save_path,zscored_epochs_save_path] \n",
    "\n",
    "# Create save paths\n",
    "[os.makedirs(path) for path in save_paths if not os.path.exists(path)]"
   ]
  },
  {
   "cell_type": "code",
   "execution_count": 3,
   "id": "6525eacb-e00a-4c11-aad8-c3086d8b6a48",
   "metadata": {},
   "outputs": [
    {
     "name": "stdout",
     "output_type": "stream",
     "text": [
      "['018', '020', '021', '022', '023', '024', '027', '029', '030', '031', '032', '033', '034', '035', '036', '037', '038', '039', '040', '041', '042', '043', '044', '045', '046', '048', '049', '050', '051', '052', '053', '054', '055', '056', '057', '058', 'C1.', 'C2.', 'C3.', 'C5.', 'C6.', 'C7.', 'C8.', 'C9.', 'C10', 'C11', 'C12', 'C13', 'C14', 'C15', 'C16', 'C17', 'C18', 'C19', 'C20', 'C21', 'C22', 'C24', 'C25', 'C26', 'C27']\n"
     ]
    }
   ],
   "source": [
    "# viable subjects\n",
    "sub_ids = utils.import_subs(os.path.join(processed_data_path,os.pardir),'sub_ids.txt')\n",
    "# select only 64ch subs and turn into set\n",
    "sub_ids = sub_ids[7:]\n",
    "print(sub_ids)"
   ]
  },
  {
   "cell_type": "code",
   "execution_count": 4,
   "id": "7c3a8fdb-dbfa-42b6-907d-88061fab5ea5",
   "metadata": {},
   "outputs": [
    {
     "name": "stdout",
     "output_type": "stream",
     "text": [
      "Chronics: 36\n",
      "Controls: 25\n",
      "Total: 61\n"
     ]
    }
   ],
   "source": [
    "print(f\"Chronics: {len([el for el in sub_ids if el.startswith('0')])}\")\n",
    "print(f\"Controls: {len([el for el in sub_ids if el.startswith('C')])}\")\n",
    "print(f\"Total: {len(sub_ids)}\")"
   ]
  },
  {
   "cell_type": "markdown",
   "id": "334c6e28",
   "metadata": {},
   "source": [
    "#### Look for subjects who do not have EO or EC cropped data"
   ]
  },
  {
   "cell_type": "code",
   "execution_count": 5,
   "id": "e89000a3",
   "metadata": {},
   "outputs": [
    {
     "name": "stdout",
     "output_type": "stream",
     "text": [
      "Subject: 045 missing eyes closed data\n",
      "Subject: 045 missing eyes open data\n",
      "Subject: C1. missing eyes closed data\n",
      "Subject: C1. missing eyes open data\n",
      "Subject: C5. missing eyes closed data\n",
      "Subject: C5. missing eyes open data\n",
      "Subject: C8. missing eyes closed data\n",
      "Subject: C8. missing eyes open data\n",
      "Subject: C20 missing eyes closed data\n",
      "Subject: C20 missing eyes open data\n",
      "Subject: C21 missing eyes closed data\n",
      "Subject: C21 missing eyes open data\n",
      "Subject: C22 missing eyes closed data\n",
      "Subject: C22 missing eyes open data\n",
      "['045', 'C1.', 'C5.', 'C8.', 'C20', 'C21', 'C22']\n",
      "['045', 'C1.', 'C5.', 'C8.', 'C20', 'C21', 'C22']\n"
     ]
    }
   ],
   "source": [
    "# For edge cases of subjects missing eyes open or eyes closed data\n",
    "no_eyes_open = []\n",
    "no_eyes_closed = []\n",
    "\n",
    "for sub_id in sub_ids:\n",
    "    if not os.path.exists(os.path.join(processed_data_path, f\"{sub_id}_eyes_closed-raw.fif\")):\n",
    "        no_eyes_closed.append(sub_id)\n",
    "        print(f\"Subject: {sub_id} missing eyes closed data\")\n",
    "    if not os.path.exists(os.path.join(processed_data_path, f\"{sub_id}_eyes_open-raw.fif\")):\n",
    "        no_eyes_open.append(sub_id)\n",
    "        print(f\"Subject: {sub_id} missing eyes open data\")\n",
    "        \n",
    "print(no_eyes_open)\n",
    "print(no_eyes_closed)"
   ]
  },
  {
   "cell_type": "code",
   "execution_count": 6,
   "id": "168d00bf-c009-4143-a71d-c7c200ba148b",
   "metadata": {
    "tags": []
   },
   "outputs": [],
   "source": [
    "# Get stc only from selected labels\n",
    "roi_names = [# Left\n",
    "             'rostralanteriorcingulate-lh', # Left Rostral ACC\n",
    "             'caudalanteriorcingulate-lh', # Left Caudal ACC\n",
    "             'postcentral-lh', # Left S1,\n",
    "             'insula-lh', 'superiorfrontal-lh', # Left Insula, Left DL-PFC,\n",
    "             'medialorbitofrontal-lh', # Left Medial-OFC\n",
    "             # Right\n",
    "             'rostralanteriorcingulate-rh', # Right Rostral ACC\n",
    "             'caudalanteriorcingulate-rh', # Right Caudal ACC\n",
    "             'postcentral-rh', # , Right S1\n",
    "             'insula-rh', 'superiorfrontal-rh', # Right Insula, Right DL-PFC\n",
    "             'medialorbitofrontal-rh'] # Right Medial-OFC"
   ]
  },
  {
   "cell_type": "code",
   "execution_count": 7,
   "id": "80ffacc1",
   "metadata": {},
   "outputs": [
    {
     "name": "stdout",
     "output_type": "stream",
     "text": [
      "Converting forward solution to surface orientation\n",
      "    No patch info available. The standard source space normals will be employed in the rotation to the local surface coordinates....\n",
      "    Converting to surface-based source orientations...\n",
      "    [done]\n",
      "Computing inverse operator with 64 channels.\n",
      "    64 out of 64 channels remain after picking\n",
      "Selected 64 channels\n",
      "Creating the depth weighting matrix...\n",
      "    64 EEG channels\n",
      "    limit = 20485/20484 = 2.207463\n",
      "    scale = 125765 exp = 0.8\n",
      "Applying loose dipole orientations to surface source spaces: 0.2\n",
      "Whitening the forward solution.\n",
      "    Created an SSP operator (subspace dimension = 1)\n",
      "Computing rank from covariance with rank=None\n",
      "    Using tolerance 6e-13 (2.2e-16 eps * 64 dim * 42  max singular value)\n",
      "    Estimated rank (eeg): 58\n",
      "    EEG: rank 58 computed from 64 data channels with 1 projector\n",
      "    Setting small EEG eigenvalues to zero (without PCA)\n",
      "Creating the source covariance matrix\n",
      "Adjusting source covariance matrix.\n",
      "Computing SVD of whitened and weighted lead field matrix.\n",
      "    largest singular value = 2.95847\n",
      "    scaling factor to adjust the trace = 1.74954e+19 (nchan = 64 nzero = 6)\n",
      "Applying inverse to Raw object\n",
      "Preparing the inverse operator for use...\n",
      "    Scaled noise and source covariance from nave = 1 to nave = 1\n",
      "    Created the regularized inverter\n",
      "    Created an SSP operator (subspace dimension = 1)\n",
      "    Created the whitener using a noise covariance matrix with rank 58 (6 small eigenvalues omitted)\n",
      "    Computing noise-normalization factors (dSPM)...\n",
      "[done]\n",
      "Applying inverse to raw...\n",
      "    Picked 64 channels from the data\n",
      "    Computing inverse...\n",
      "    Eigenleads need to be weighted ...\n",
      "    combining the current components...\n",
      "[done]\n",
      "Saving stc.mat for 018 in region: rostralanteriorcingulate-lh\n"
     ]
    },
    {
     "ename": "MatWriteError",
     "evalue": "Matrix too large to save with Matlab 5 format",
     "output_type": "error",
     "traceback": [
      "\u001b[0;31m---------------------------------------------------------------------------\u001b[0m",
      "\u001b[0;31mMatWriteError\u001b[0m                             Traceback (most recent call last)",
      "Cell \u001b[0;32mIn[7], line 8\u001b[0m\n\u001b[1;32m      5\u001b[0m EO_bool \u001b[38;5;241m=\u001b[39m \u001b[38;5;28;01mFalse\u001b[39;00m \u001b[38;5;28;01mif\u001b[39;00m sub_id \u001b[38;5;129;01min\u001b[39;00m no_eyes_closed \u001b[38;5;28;01melse\u001b[39;00m \u001b[38;5;28;01mTrue\u001b[39;00m\n\u001b[1;32m      7\u001b[0m \u001b[38;5;66;03m# Compute source localization for subject and save \u001b[39;00m\n\u001b[0;32m----> 8\u001b[0m label_ts_All_Conds, sub_id_if_nan \u001b[38;5;241m=\u001b[39m \u001b[43msource_localization\u001b[49m\u001b[38;5;241;43m.\u001b[39;49m\u001b[43mto_source\u001b[49m\u001b[43m(\u001b[49m\u001b[43msub_id\u001b[49m\u001b[43m,\u001b[49m\n\u001b[1;32m      9\u001b[0m \u001b[43m                                                                  \u001b[49m\u001b[43mprocessed_data_path\u001b[49m\u001b[43m,\u001b[49m\n\u001b[1;32m     10\u001b[0m \u001b[43m                                                                    \u001b[49m\u001b[43mzscored_epochs_save_path\u001b[49m\u001b[43m,\u001b[49m\n\u001b[1;32m     11\u001b[0m \u001b[43m                                                                    \u001b[49m\u001b[43mEC_resting_save_path\u001b[49m\u001b[43m,\u001b[49m\n\u001b[1;32m     12\u001b[0m \u001b[43m                                                                    \u001b[49m\u001b[43mEO_resting_save_path\u001b[49m\u001b[43m,\u001b[49m\n\u001b[1;32m     13\u001b[0m \u001b[43m                                                                    \u001b[49m\u001b[43mroi_names\u001b[49m\u001b[43m,\u001b[49m\n\u001b[1;32m     14\u001b[0m \u001b[43m                                                                    \u001b[49m\u001b[43mtimes_tup\u001b[49m\u001b[43m,\u001b[49m\n\u001b[1;32m     15\u001b[0m \u001b[43m                                                                    \u001b[49m\u001b[43mreturn_zepochs\u001b[49m\u001b[38;5;241;43m=\u001b[39;49m\u001b[43mEO_bool\u001b[49m\u001b[43m,\u001b[49m\u001b[43m \u001b[49m\u001b[38;5;66;43;03m# cannot return epochs without eyes open noise segment\u001b[39;49;00m\n\u001b[1;32m     16\u001b[0m \u001b[43m                                                                    \u001b[49m\u001b[43mreturn_EC_resting\u001b[49m\u001b[43m \u001b[49m\u001b[38;5;241;43m=\u001b[39;49m\u001b[43m \u001b[49m\u001b[43mEC_bool\u001b[49m\u001b[43m,\u001b[49m\n\u001b[1;32m     17\u001b[0m \u001b[43m                                                                    \u001b[49m\u001b[43mreturn_EO_resting\u001b[49m\u001b[43m \u001b[49m\u001b[38;5;241;43m=\u001b[39;49m\u001b[43m \u001b[49m\u001b[43mEO_bool\u001b[49m\u001b[43m,\u001b[49m\n\u001b[1;32m     18\u001b[0m \u001b[43m                                                                    \u001b[49m\u001b[43maverage_dipoles\u001b[49m\u001b[38;5;241;43m=\u001b[39;49m\u001b[38;5;28;43;01mTrue\u001b[39;49;00m\u001b[43m,\u001b[49m\n\u001b[1;32m     19\u001b[0m \u001b[43m                                                                    \u001b[49m\u001b[43m)\u001b[49m\n\u001b[1;32m     20\u001b[0m \u001b[38;5;66;03m# If sub_id(str) output, append to nan_subjects\u001b[39;00m\n\u001b[1;32m     21\u001b[0m \u001b[38;5;28;01mif\u001b[39;00m sub_id_if_nan \u001b[38;5;129;01mis\u001b[39;00m \u001b[38;5;129;01mnot\u001b[39;00m \u001b[38;5;28;01mNone\u001b[39;00m:\n",
      "File \u001b[0;32m~/Documents/George Kenefati/Code/eeg_toolkit/eeg_toolkit/source_localization.py:291\u001b[0m, in \u001b[0;36mto_source\u001b[0;34m(sub_id, data_path, zscored_epochs_save_path, EC_resting_save_path, EO_resting_save_path, roi_names, times_tup, return_zepochs, return_EC_resting, return_EO_resting, average_dipoles)\u001b[0m\n\u001b[1;32m    287\u001b[0m \u001b[38;5;66;03m# If desired and eyes open resting data not yet processed, process it\u001b[39;00m\n\u001b[1;32m    288\u001b[0m \u001b[38;5;28;01mif\u001b[39;00m return_EO_resting \u001b[38;5;129;01mand\u001b[39;00m \u001b[38;5;129;01mnot\u001b[39;00m os\u001b[38;5;241m.\u001b[39mpath\u001b[38;5;241m.\u001b[39mexists(\n\u001b[1;32m    289\u001b[0m     \u001b[38;5;124mf\u001b[39m\u001b[38;5;124m\"\u001b[39m\u001b[38;5;132;01m{\u001b[39;00mEO_resting_save_path\u001b[38;5;132;01m}\u001b[39;00m\u001b[38;5;124m/\u001b[39m\u001b[38;5;132;01m{\u001b[39;00mEO_save_fname\u001b[38;5;132;01m}\u001b[39;00m\u001b[38;5;124m\"\u001b[39m\n\u001b[1;32m    290\u001b[0m ):\n\u001b[0;32m--> 291\u001b[0m     label_ts_EO, sub_id_if_nan \u001b[38;5;241m=\u001b[39m \u001b[43mcompute_fwd_and_inv\u001b[49m\u001b[43m(\u001b[49m\n\u001b[1;32m    292\u001b[0m \u001b[43m        \u001b[49m\u001b[43msub_id\u001b[49m\u001b[43m,\u001b[49m\n\u001b[1;32m    293\u001b[0m \u001b[43m        \u001b[49m\u001b[38;5;124;43m\"\u001b[39;49m\u001b[38;5;124;43mEO\u001b[39;49m\u001b[38;5;124;43m\"\u001b[39;49m\u001b[43m,\u001b[49m\n\u001b[1;32m    294\u001b[0m \u001b[43m        \u001b[49m\u001b[43msnr\u001b[49m\u001b[43m,\u001b[49m\n\u001b[1;32m    295\u001b[0m \u001b[43m        \u001b[49m\u001b[43mtrans\u001b[49m\u001b[43m,\u001b[49m\n\u001b[1;32m    296\u001b[0m \u001b[43m        \u001b[49m\u001b[43msrc\u001b[49m\u001b[43m,\u001b[49m\n\u001b[1;32m    297\u001b[0m \u001b[43m        \u001b[49m\u001b[43mbem\u001b[49m\u001b[43m,\u001b[49m\n\u001b[1;32m    298\u001b[0m \u001b[43m        \u001b[49m\u001b[43mraw_eo\u001b[49m\u001b[43m,\u001b[49m\n\u001b[1;32m    299\u001b[0m \u001b[43m        \u001b[49m\u001b[43mnoise_cov\u001b[49m\u001b[43m,\u001b[49m\n\u001b[1;32m    300\u001b[0m \u001b[43m        \u001b[49m\u001b[43mlabels\u001b[49m\u001b[43m,\u001b[49m\n\u001b[1;32m    301\u001b[0m \u001b[43m        \u001b[49m\u001b[43mEO_resting_save_path\u001b[49m\u001b[43m,\u001b[49m\n\u001b[1;32m    302\u001b[0m \u001b[43m        \u001b[49m\u001b[43mEO_save_fname\u001b[49m\u001b[43m,\u001b[49m\n\u001b[1;32m    303\u001b[0m \u001b[43m        \u001b[49m\u001b[43maverage_dipoles\u001b[49m\u001b[38;5;241;43m=\u001b[39;49m\u001b[38;5;28;43;01mTrue\u001b[39;49;00m\u001b[43m,\u001b[49m\n\u001b[1;32m    304\u001b[0m \u001b[43m    \u001b[49m\u001b[43m)\u001b[49m\n\u001b[1;32m    306\u001b[0m \u001b[38;5;66;03m# If desired and eyes closed resting data not yet processed, process it\u001b[39;00m\n\u001b[1;32m    307\u001b[0m \u001b[38;5;28;01mif\u001b[39;00m return_EC_resting \u001b[38;5;129;01mand\u001b[39;00m \u001b[38;5;129;01mnot\u001b[39;00m os\u001b[38;5;241m.\u001b[39mpath\u001b[38;5;241m.\u001b[39mexists(\n\u001b[1;32m    308\u001b[0m     \u001b[38;5;124mf\u001b[39m\u001b[38;5;124m\"\u001b[39m\u001b[38;5;132;01m{\u001b[39;00mEC_resting_save_path\u001b[38;5;132;01m}\u001b[39;00m\u001b[38;5;124m/\u001b[39m\u001b[38;5;132;01m{\u001b[39;00mEC_save_fname\u001b[38;5;132;01m}\u001b[39;00m\u001b[38;5;124m\"\u001b[39m\n\u001b[1;32m    309\u001b[0m ):\n",
      "File \u001b[0;32m~/Documents/George Kenefati/Code/eeg_toolkit/eeg_toolkit/source_localization.py:209\u001b[0m, in \u001b[0;36mcompute_fwd_and_inv\u001b[0;34m(sub_id, condition, snr, trans, src, bem, mne_object, noise_cov, labels, save_path, save_fname, average_dipoles)\u001b[0m\n\u001b[1;32m    203\u001b[0m utils\u001b[38;5;241m.\u001b[39mclear_display()\n\u001b[1;32m    205\u001b[0m inverse_operator \u001b[38;5;241m=\u001b[39m mne\u001b[38;5;241m.\u001b[39mminimum_norm\u001b[38;5;241m.\u001b[39mmake_inverse_operator(\n\u001b[1;32m    206\u001b[0m     mne_object\u001b[38;5;241m.\u001b[39minfo, fwd, noise_cov, verbose\u001b[38;5;241m=\u001b[39m\u001b[38;5;28;01mTrue\u001b[39;00m\n\u001b[1;32m    207\u001b[0m )\n\u001b[0;32m--> 209\u001b[0m label_ts, sub_id_if_nan \u001b[38;5;241m=\u001b[39m \u001b[43mapply_inverse_and_save\u001b[49m\u001b[43m(\u001b[49m\n\u001b[1;32m    210\u001b[0m \u001b[43m    \u001b[49m\u001b[43mmne_object\u001b[49m\u001b[43m,\u001b[49m\n\u001b[1;32m    211\u001b[0m \u001b[43m    \u001b[49m\u001b[43minverse_operator\u001b[49m\u001b[43m,\u001b[49m\n\u001b[1;32m    212\u001b[0m \u001b[43m    \u001b[49m\u001b[43mlabels\u001b[49m\u001b[43m,\u001b[49m\n\u001b[1;32m    213\u001b[0m \u001b[43m    \u001b[49m\u001b[43msave_path\u001b[49m\u001b[43m,\u001b[49m\n\u001b[1;32m    214\u001b[0m \u001b[43m    \u001b[49m\u001b[43msave_fname\u001b[49m\u001b[43m,\u001b[49m\n\u001b[1;32m    215\u001b[0m \u001b[43m    \u001b[49m\u001b[43msub_id\u001b[49m\u001b[43m,\u001b[49m\n\u001b[1;32m    216\u001b[0m \u001b[43m    \u001b[49m\u001b[43mcondition\u001b[49m\u001b[43m,\u001b[49m\n\u001b[1;32m    217\u001b[0m \u001b[43m    \u001b[49m\u001b[43maverage_dipoles\u001b[49m\u001b[38;5;241;43m=\u001b[39;49m\u001b[38;5;28;43;01mTrue\u001b[39;49;00m\u001b[43m,\u001b[49m\n\u001b[1;32m    218\u001b[0m \u001b[43m\u001b[49m\u001b[43m)\u001b[49m\n\u001b[1;32m    220\u001b[0m \u001b[38;5;28;01mreturn\u001b[39;00m label_ts, sub_id_if_nan\n\u001b[1;32m    221\u001b[0m utils\u001b[38;5;241m.\u001b[39mclear_display()\n",
      "File \u001b[0;32m~/Documents/George Kenefati/Code/eeg_toolkit/eeg_toolkit/source_localization.py:151\u001b[0m, in \u001b[0;36mapply_inverse_and_save\u001b[0;34m(mne_object, inverse_operator, labels, save_path, save_fname, sub_id, condition, average_dipoles, save_stc_mat)\u001b[0m\n\u001b[1;32m    149\u001b[0m         \u001b[38;5;28;01mif\u001b[39;00m \u001b[38;5;129;01mnot\u001b[39;00m os\u001b[38;5;241m.\u001b[39mpath\u001b[38;5;241m.\u001b[39mexists(sub_save_path):\n\u001b[1;32m    150\u001b[0m             os\u001b[38;5;241m.\u001b[39mmakedirs(sub_save_path)\n\u001b[0;32m--> 151\u001b[0m         \u001b[43msavemat\u001b[49m\u001b[43m(\u001b[49m\n\u001b[1;32m    152\u001b[0m \u001b[43m            \u001b[49m\u001b[43mos\u001b[49m\u001b[38;5;241;43m.\u001b[39;49m\u001b[43mpath\u001b[49m\u001b[38;5;241;43m.\u001b[39;49m\u001b[43mjoin\u001b[49m\u001b[43m(\u001b[49m\u001b[43msub_save_path\u001b[49m\u001b[43m,\u001b[49m\u001b[43m \u001b[49m\u001b[38;5;124;43mf\u001b[39;49m\u001b[38;5;124;43m\"\u001b[39;49m\u001b[38;5;132;43;01m{\u001b[39;49;00m\u001b[43mlabels\u001b[49m\u001b[43m[\u001b[49m\u001b[43mi\u001b[49m\u001b[43m]\u001b[49m\u001b[38;5;241;43m.\u001b[39;49m\u001b[43mname\u001b[49m\u001b[38;5;132;43;01m}\u001b[39;49;00m\u001b[38;5;124;43m_\u001b[39;49m\u001b[38;5;132;43;01m{\u001b[39;49;00m\u001b[43mcondition\u001b[49m\u001b[38;5;132;43;01m}\u001b[39;49;00m\u001b[38;5;124;43m.mat\u001b[39;49m\u001b[38;5;124;43m\"\u001b[39;49m\u001b[43m)\u001b[49m\u001b[43m,\u001b[49m\n\u001b[1;32m    153\u001b[0m \u001b[43m            \u001b[49m\u001b[43mmdict\u001b[49m\u001b[43m,\u001b[49m\n\u001b[1;32m    154\u001b[0m \u001b[43m        \u001b[49m\u001b[43m)\u001b[49m\n\u001b[1;32m    155\u001b[0m         utils\u001b[38;5;241m.\u001b[39mclear_display()\n\u001b[1;32m    157\u001b[0m \u001b[38;5;28;01mreturn\u001b[39;00m label_ts, sub_id_if_nan\n",
      "File \u001b[0;32m~/mambaforge/envs/mne/lib/python3.11/site-packages/scipy/io/matlab/_mio.py:300\u001b[0m, in \u001b[0;36msavemat\u001b[0;34m(file_name, mdict, appendmat, format, long_field_names, do_compression, oned_as)\u001b[0m\n\u001b[1;32m    298\u001b[0m \u001b[38;5;28;01melse\u001b[39;00m:\n\u001b[1;32m    299\u001b[0m     \u001b[38;5;28;01mraise\u001b[39;00m \u001b[38;5;167;01mValueError\u001b[39;00m(\u001b[38;5;124m\"\u001b[39m\u001b[38;5;124mFormat should be \u001b[39m\u001b[38;5;124m'\u001b[39m\u001b[38;5;124m4\u001b[39m\u001b[38;5;124m'\u001b[39m\u001b[38;5;124m or \u001b[39m\u001b[38;5;124m'\u001b[39m\u001b[38;5;124m5\u001b[39m\u001b[38;5;124m'\u001b[39m\u001b[38;5;124m\"\u001b[39m)\n\u001b[0;32m--> 300\u001b[0m \u001b[43mMW\u001b[49m\u001b[38;5;241;43m.\u001b[39;49m\u001b[43mput_variables\u001b[49m\u001b[43m(\u001b[49m\u001b[43mmdict\u001b[49m\u001b[43m)\u001b[49m\n",
      "File \u001b[0;32m~/mambaforge/envs/mne/lib/python3.11/site-packages/scipy/io/matlab/_mio5.py:895\u001b[0m, in \u001b[0;36mMatFile5Writer.put_variables\u001b[0;34m(self, mdict, write_header)\u001b[0m\n\u001b[1;32m    893\u001b[0m     \u001b[38;5;28mself\u001b[39m\u001b[38;5;241m.\u001b[39mfile_stream\u001b[38;5;241m.\u001b[39mwrite(out_str)\n\u001b[1;32m    894\u001b[0m \u001b[38;5;28;01melse\u001b[39;00m:  \u001b[38;5;66;03m# not compressing\u001b[39;00m\n\u001b[0;32m--> 895\u001b[0m     \u001b[38;5;28;43mself\u001b[39;49m\u001b[38;5;241;43m.\u001b[39;49m\u001b[43m_matrix_writer\u001b[49m\u001b[38;5;241;43m.\u001b[39;49m\u001b[43mwrite_top\u001b[49m\u001b[43m(\u001b[49m\u001b[43mvar\u001b[49m\u001b[43m,\u001b[49m\u001b[43m \u001b[49m\u001b[43mname\u001b[49m\u001b[38;5;241;43m.\u001b[39;49m\u001b[43mencode\u001b[49m\u001b[43m(\u001b[49m\u001b[38;5;124;43m'\u001b[39;49m\u001b[38;5;124;43mlatin1\u001b[39;49m\u001b[38;5;124;43m'\u001b[39;49m\u001b[43m)\u001b[49m\u001b[43m,\u001b[49m\u001b[43m \u001b[49m\u001b[43mis_global\u001b[49m\u001b[43m)\u001b[49m\n",
      "File \u001b[0;32m~/mambaforge/envs/mne/lib/python3.11/site-packages/scipy/io/matlab/_mio5.py:636\u001b[0m, in \u001b[0;36mVarWriter5.write_top\u001b[0;34m(self, arr, name, is_global)\u001b[0m\n\u001b[1;32m    634\u001b[0m \u001b[38;5;28mself\u001b[39m\u001b[38;5;241m.\u001b[39m_var_name \u001b[38;5;241m=\u001b[39m name\n\u001b[1;32m    635\u001b[0m \u001b[38;5;66;03m# write the header and data\u001b[39;00m\n\u001b[0;32m--> 636\u001b[0m \u001b[38;5;28;43mself\u001b[39;49m\u001b[38;5;241;43m.\u001b[39;49m\u001b[43mwrite\u001b[49m\u001b[43m(\u001b[49m\u001b[43marr\u001b[49m\u001b[43m)\u001b[49m\n",
      "File \u001b[0;32m~/mambaforge/envs/mne/lib/python3.11/site-packages/scipy/io/matlab/_mio5.py:676\u001b[0m, in \u001b[0;36mVarWriter5.write\u001b[0;34m(self, arr)\u001b[0m\n\u001b[1;32m    674\u001b[0m \u001b[38;5;28;01melse\u001b[39;00m:\n\u001b[1;32m    675\u001b[0m     \u001b[38;5;28mself\u001b[39m\u001b[38;5;241m.\u001b[39mwrite_numeric(narr)\n\u001b[0;32m--> 676\u001b[0m \u001b[38;5;28;43mself\u001b[39;49m\u001b[38;5;241;43m.\u001b[39;49m\u001b[43mupdate_matrix_tag\u001b[49m\u001b[43m(\u001b[49m\u001b[43mmat_tag_pos\u001b[49m\u001b[43m)\u001b[49m\n",
      "File \u001b[0;32m~/mambaforge/envs/mne/lib/python3.11/site-packages/scipy/io/matlab/_mio5.py:612\u001b[0m, in \u001b[0;36mVarWriter5.update_matrix_tag\u001b[0;34m(self, start_pos)\u001b[0m\n\u001b[1;32m    610\u001b[0m byte_count \u001b[38;5;241m=\u001b[39m curr_pos \u001b[38;5;241m-\u001b[39m start_pos \u001b[38;5;241m-\u001b[39m \u001b[38;5;241m8\u001b[39m\n\u001b[1;32m    611\u001b[0m \u001b[38;5;28;01mif\u001b[39;00m byte_count \u001b[38;5;241m>\u001b[39m\u001b[38;5;241m=\u001b[39m \u001b[38;5;241m2\u001b[39m\u001b[38;5;241m*\u001b[39m\u001b[38;5;241m*\u001b[39m\u001b[38;5;241m32\u001b[39m:\n\u001b[0;32m--> 612\u001b[0m     \u001b[38;5;28;01mraise\u001b[39;00m MatWriteError(\u001b[38;5;124m\"\u001b[39m\u001b[38;5;124mMatrix too large to save with Matlab \u001b[39m\u001b[38;5;124m\"\u001b[39m\n\u001b[1;32m    613\u001b[0m                         \u001b[38;5;124m\"\u001b[39m\u001b[38;5;124m5 format\u001b[39m\u001b[38;5;124m\"\u001b[39m)\n\u001b[1;32m    614\u001b[0m \u001b[38;5;28mself\u001b[39m\u001b[38;5;241m.\u001b[39mmat_tag[\u001b[38;5;124m'\u001b[39m\u001b[38;5;124mbyte_count\u001b[39m\u001b[38;5;124m'\u001b[39m] \u001b[38;5;241m=\u001b[39m byte_count\n\u001b[1;32m    615\u001b[0m \u001b[38;5;28mself\u001b[39m\u001b[38;5;241m.\u001b[39mwrite_bytes(\u001b[38;5;28mself\u001b[39m\u001b[38;5;241m.\u001b[39mmat_tag)\n",
      "\u001b[0;31mMatWriteError\u001b[0m: Matrix too large to save with Matlab 5 format"
     ]
    }
   ],
   "source": [
    "nan_subjects=[]\n",
    "for sub_id in sub_ids:  \n",
    "    # Check if eyes open or eyes closed need to be computed\n",
    "    EC_bool = False if sub_id in no_eyes_open else True\n",
    "    EO_bool = False if sub_id in no_eyes_closed else True\n",
    "    \n",
    "    # Compute source localization for subject and save \n",
    "    label_ts_All_Conds, sub_id_if_nan = source_localization.to_source(sub_id,\n",
    "                                                                      processed_data_path,\n",
    "                                                                        zscored_epochs_save_path,\n",
    "                                                                        EC_resting_save_path,\n",
    "                                                                        EO_resting_save_path,\n",
    "                                                                        roi_names,\n",
    "                                                                        times_tup,\n",
    "                                                                        return_zepochs=EO_bool, # cannot return epochs without eyes open noise segment\n",
    "                                                                        return_EC_resting = EC_bool,\n",
    "                                                                        return_EO_resting = EO_bool,\n",
    "                                                                        average_dipoles=True,\n",
    "                                                                        )\n",
    "    # If sub_id(str) output, append to nan_subjects\n",
    "    if sub_id_if_nan is not None:\n",
    "        nan_subjects.append(sub_id_if_nan)"
   ]
  },
  {
   "cell_type": "markdown",
   "id": "3b646755",
   "metadata": {},
   "source": [
    "### Assess results"
   ]
  },
  {
   "cell_type": "code",
   "execution_count": null,
   "id": "9268a1aa",
   "metadata": {},
   "outputs": [],
   "source": [
    "label_ts_All_Conds"
   ]
  },
  {
   "cell_type": "code",
   "execution_count": null,
   "id": "83c740ac",
   "metadata": {},
   "outputs": [],
   "source": [
    "nan_subjects"
   ]
  },
  {
   "cell_type": "code",
   "execution_count": null,
   "id": "206212ea",
   "metadata": {},
   "outputs": [],
   "source": []
  }
 ],
 "metadata": {
  "kernelspec": {
   "display_name": "Python 3",
   "language": "python",
   "name": "python3"
  },
  "language_info": {
   "codemirror_mode": {
    "name": "ipython",
    "version": 3
   },
   "file_extension": ".py",
   "mimetype": "text/x-python",
   "name": "python",
   "nbconvert_exporter": "python",
   "pygments_lexer": "ipython3",
   "version": "3.11.7"
  }
 },
 "nbformat": 4,
 "nbformat_minor": 5
}
