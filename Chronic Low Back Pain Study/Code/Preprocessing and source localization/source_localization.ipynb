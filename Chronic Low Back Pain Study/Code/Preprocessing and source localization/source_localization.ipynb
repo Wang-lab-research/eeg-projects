{
 "cells": [
  {
   "cell_type": "markdown",
   "id": "2947c985-edb4-4e37-ac38-e2abc335d541",
   "metadata": {
    "tags": []
   },
   "source": [
    "## Compute source time course (STC) from Raw and Epochs data object and save as pickle for later analyses\n",
    "#### Input: *_eyes_open-raw.fif, *_eyes_closed-raw.fif, *-epo.fif\n",
    "####  Output: *_label_ts.pkl"
   ]
  },
  {
   "cell_type": "code",
   "execution_count": 1,
   "id": "93bc0409-9fd5-479d-8dde-25a747c13efe",
   "metadata": {
    "scrolled": true,
    "tags": []
   },
   "outputs": [
    {
     "name": "stdout",
     "output_type": "stream",
     "text": [
      "0 files missing from root.txt in /home/wanglab/mne_data/MNE-fsaverage-data\n",
      "0 files missing from bem.txt in /home/wanglab/mne_data/MNE-fsaverage-data/fsaverage\n"
     ]
    }
   ],
   "source": [
    "import os\n",
    "from pathlib import Path\n",
    "import sys\n",
    "sys.path.append('/home/wanglab/Documents/George Kenefati/Code/eeg_toolkit/')\n",
    "import os\n",
    "import mne\n",
    "import eeg_toolkit\n",
    "from eeg_toolkit import utils, preprocess, source_localization"
   ]
  },
  {
   "cell_type": "code",
   "execution_count": 2,
   "id": "842b367f-9d3c-4436-868f-6fb7ffe7b719",
   "metadata": {},
   "outputs": [
    {
     "name": "stdout",
     "output_type": "stream",
     "text": [
      "[-2.5,0.0,2.5]\n"
     ]
    },
    {
     "data": {
      "text/plain": [
       "[]"
      ]
     },
     "execution_count": 2,
     "metadata": {},
     "output_type": "execute_result"
    }
   ],
   "source": [
    "# Settings\n",
    "times_tup,time_win_path = preprocess.get_time_window(5)\n",
    "\n",
    "# Read in processed raw data\n",
    "data_dir = Path(\"../../Data\")\n",
    "processed_data_path = data_dir / 'Processed Data/'\n",
    "epo_path = data_dir / time_win_path\n",
    "stc_path = data_dir / \"Source Time Courses\"\n",
    "EO_resting_save_path = stc_path / \"Eyes Open\"\n",
    "EC_resting_save_path = stc_path / \"Eyes Closed\"\n",
    "zscored_epochs_save_path = stc_path / \"zscored_Epochs\" / time_win_path\n",
    "save_paths = [EC_resting_save_path,EO_resting_save_path,zscored_epochs_save_path] \n",
    "\n",
    "# Create save paths\n",
    "[os.makedirs(path) for path in save_paths if not os.path.exists(path)]"
   ]
  },
  {
   "cell_type": "code",
   "execution_count": 3,
   "id": "6525eacb-e00a-4c11-aad8-c3086d8b6a48",
   "metadata": {},
   "outputs": [
    {
     "name": "stdout",
     "output_type": "stream",
     "text": [
      "['018', '020', '021', '022', '023', '024', '027', '029', '030', '031', '032', '033', '034', '035', '036', '037', '038', '039', '040', '041', '042', '043', '044', '045', '046', '048', '049', '050', '051', '052', '053', '054', '055', '056', '057', '058', 'C1.', 'C2.', 'C3.', 'C5.', 'C6.', 'C7.', 'C8.', 'C9.', 'C10', 'C11', 'C12', 'C13', 'C14', 'C15', 'C16', 'C17', 'C18', 'C19', 'C20', 'C21', 'C22', 'C24', 'C25', 'C26', 'C27']\n"
     ]
    }
   ],
   "source": [
    "# viable subjects\n",
    "sub_ids = utils.import_subs(os.path.join(processed_data_path,os.pardir),'sub_ids.txt')\n",
    "# select only 64ch subs and turn into set\n",
    "sub_ids = sub_ids[7:]\n",
    "print(sub_ids)"
   ]
  },
  {
   "cell_type": "code",
   "execution_count": 4,
   "id": "7c3a8fdb-dbfa-42b6-907d-88061fab5ea5",
   "metadata": {},
   "outputs": [
    {
     "name": "stdout",
     "output_type": "stream",
     "text": [
      "Chronics: 36\n",
      "Controls: 25\n",
      "Total: 61\n"
     ]
    }
   ],
   "source": [
    "print(f\"Chronics: {len([el for el in sub_ids if el.startswith('0')])}\")\n",
    "print(f\"Controls: {len([el for el in sub_ids if el.startswith('C')])}\")\n",
    "print(f\"Total: {len(sub_ids)}\")"
   ]
  },
  {
   "cell_type": "markdown",
   "id": "334c6e28",
   "metadata": {},
   "source": [
    "#### Look for subjects who do not have EO or EC cropped data"
   ]
  },
  {
   "cell_type": "code",
   "execution_count": 5,
   "id": "e89000a3",
   "metadata": {},
   "outputs": [
    {
     "name": "stdout",
     "output_type": "stream",
     "text": [
      "Subject: 045 missing eyes closed data\n",
      "Subject: 045 missing eyes open data\n",
      "Subject: C1. missing eyes closed data\n",
      "Subject: C1. missing eyes open data\n",
      "Subject: C5. missing eyes closed data\n",
      "Subject: C5. missing eyes open data\n",
      "Subject: C8. missing eyes closed data\n",
      "Subject: C8. missing eyes open data\n",
      "Subject: C20 missing eyes closed data\n",
      "Subject: C20 missing eyes open data\n",
      "Subject: C21 missing eyes closed data\n",
      "Subject: C21 missing eyes open data\n",
      "Subject: C22 missing eyes closed data\n",
      "Subject: C22 missing eyes open data\n",
      "['045', 'C1.', 'C5.', 'C8.', 'C20', 'C21', 'C22']\n",
      "['045', 'C1.', 'C5.', 'C8.', 'C20', 'C21', 'C22']\n"
     ]
    }
   ],
   "source": [
    "# For edge cases of subjects missing eyes open or eyes closed data\n",
    "no_eyes_open = []\n",
    "no_eyes_closed = []\n",
    "\n",
    "for sub_id in sub_ids:\n",
    "    if not os.path.exists(os.path.join(processed_data_path, f\"{sub_id}_eyes_closed-raw.fif\")):\n",
    "        no_eyes_closed.append(sub_id)\n",
    "        print(f\"Subject: {sub_id} missing eyes closed data\")\n",
    "    if not os.path.exists(os.path.join(processed_data_path, f\"{sub_id}_eyes_open-raw.fif\")):\n",
    "        no_eyes_open.append(sub_id)\n",
    "        print(f\"Subject: {sub_id} missing eyes open data\")\n",
    "        \n",
    "print(no_eyes_open)\n",
    "print(no_eyes_closed)"
   ]
  },
  {
   "cell_type": "code",
   "execution_count": 6,
   "id": "168d00bf-c009-4143-a71d-c7c200ba148b",
   "metadata": {
    "tags": []
   },
   "outputs": [],
   "source": [
    "# Get stc only from selected labels\n",
    "roi_names = [# Left\n",
    "             'rostralanteriorcingulate-lh', # Left Rostral ACC\n",
    "             'caudalanteriorcingulate-lh', # Left Caudal ACC\n",
    "             'postcentral-lh', # Left S1,\n",
    "             'insula-lh', 'superiorfrontal-lh', # Left Insula, Left DL-PFC,\n",
    "             'medialorbitofrontal-lh', # Left Medial-OFC\n",
    "             # Right\n",
    "             'rostralanteriorcingulate-rh', # Right Rostral ACC\n",
    "             'caudalanteriorcingulate-rh', # Right Caudal ACC\n",
    "             'postcentral-rh', # , Right S1\n",
    "             'insula-rh', 'superiorfrontal-rh', # Right Insula, Right DL-PFC\n",
    "             'medialorbitofrontal-rh'] # Right Medial-OFC"
   ]
  },
  {
   "cell_type": "code",
   "execution_count": 10,
   "id": "80ffacc1",
   "metadata": {},
   "outputs": [
    {
     "name": "stdout",
     "output_type": "stream",
     "text": [
      "Subject: C27 | EC: True | EO: True\n",
      "Using up to 600 segments\n",
      "Number of samples used : 48000\n",
      "[done]\n",
      "Computing rank from covariance with rank=None\n",
      "    Using tolerance 3.5e-13 (2.2e-16 eps * 64 dim * 24  max singular value)\n",
      "    Estimated rank (eeg): 60\n",
      "    EEG: rank 60 computed from 64 data channels with 1 projector\n",
      "2 projection items activated\n",
      "    EEG regularization : 0.1\n",
      "    Created an SSP operator (subspace dimension = 1)\n",
      "Computing rank from covariance with rank={'eeg': 60}\n",
      "    Setting small EEG eigenvalues to zero (without PCA)\n",
      "setting custom montage...\n",
      "<DigMontage | 0 extras (headshape), 0 HPIs, 3 fiducials, 64 channels>\n"
     ]
    },
    {
     "name": "stderr",
     "output_type": "stream",
     "text": [
      "/home/wanglab/Documents/George Kenefati/Code/eeg_toolkit/eeg_toolkit/source_localization.py:58: FutureWarning: The current default of copy=False will change to copy=True in 1.7. Set the value of copy explicitly to avoid this warning\n",
      "  data_epochs = epochs.get_data()\n",
      "/home/wanglab/Documents/George Kenefati/Code/eeg_toolkit/eeg_toolkit/source_localization.py:60: FutureWarning: The current default of copy=False will change to copy=True in 1.7. Set the value of copy explicitly to avoid this warning\n",
      "  base_data = epochs.get_data(tmin=tmin, tmax=0.0)\n"
     ]
    }
   ],
   "source": [
    "nan_subjects=[]\n",
    "\n",
    "# Save the inverse for AEC in FC code\n",
    "save_inv = True\n",
    "\n",
    "for sub_id in sub_ids:  \n",
    "    # Check if eyes open or eyes closed need to be computed\n",
    "    EC_bool = False if sub_id in no_eyes_open else True\n",
    "    EO_bool = False if sub_id in no_eyes_closed else True\n",
    "    print(f\"Subject: {sub_id} | EC: {EC_bool} | EO: {EO_bool}\")\n",
    "    \n",
    "    # Skip if no Eyes Open\n",
    "    if not EO_bool:\n",
    "        continue\n",
    "      \n",
    "    # Compute source localization for subject and save \n",
    "    label_ts_All_Conds, sub_id_if_nan = source_localization.to_source(sub_id,\n",
    "                                                                      processed_data_path,\n",
    "                                                                        zscored_epochs_save_path,\n",
    "                                                                        EC_resting_save_path,\n",
    "                                                                        EO_resting_save_path,\n",
    "                                                                        roi_names,\n",
    "                                                                        times_tup,\n",
    "                                                                        return_zepochs=EO_bool, # cannot return epochs without eyes open noise segment\n",
    "                                                                        return_EC_resting = False, #EC_bool,\n",
    "                                                                        return_EO_resting = False, #EO_bool,\n",
    "                                                                        average_dipoles=True,\n",
    "                                                                        save_stc_mat=True,\n",
    "                                                                        save_inv=save_inv,\n",
    "                                                                        )\n",
    "    utils.clear_display()\n",
    "    # If sub_id(str) output, append to nan_subjects\n",
    "    if sub_id_if_nan is not None:\n",
    "        nan_subjects.append(sub_id_if_nan)\n",
    "        \n",
    "    "
   ]
  },
  {
   "cell_type": "markdown",
   "id": "3b646755",
   "metadata": {},
   "source": [
    "### Assess results"
   ]
  },
  {
   "cell_type": "code",
   "execution_count": 8,
   "id": "9268a1aa",
   "metadata": {},
   "outputs": [
    {
     "data": {
      "text/plain": [
       "(None,\n",
       " None,\n",
       " array([[[ 81607.95179331, 135178.79132622, 133748.78453978, ...,\n",
       "           76366.4750467 , 107311.82976259, 173984.68750014],\n",
       "         [ 57085.67905582,  77226.13589962,  94554.70192137, ...,\n",
       "          101714.01110004,  92978.27464825, 111933.52373535],\n",
       "         [  6903.52217452,  14451.04794133,  27939.28598299, ...,\n",
       "           17100.63601586,  18880.84550005,  21251.13819214],\n",
       "         ...,\n",
       "         [ 82101.06655289,  91563.97060652,  75933.45861288, ...,\n",
       "           58490.29471001,  51049.73686307,  52821.07159247],\n",
       "         [ 12368.76283543,  22037.92132002,  20493.27537794, ...,\n",
       "           12340.72970134,  10207.16062387,  14939.02343251],\n",
       "         [ 33302.4643097 ,  43670.80524709,  39682.21019209, ...,\n",
       "           16121.29191107,  27557.57913007,  51584.44165692]],\n",
       " \n",
       "        [[ 42278.83983378,  25004.02371935,  22379.53509688, ...,\n",
       "           58841.76583603,  45311.62686474,  49596.54902976],\n",
       "         [ 22414.9667745 ,  21921.04467065,  16879.69504647, ...,\n",
       "           74674.68548384,  25025.283622  ,  42564.22266013],\n",
       "         [ 13972.4676786 ,  14369.28817288,  10270.05098766, ...,\n",
       "            7369.44148278,  11282.30264616,  15213.81015952],\n",
       "         ...,\n",
       "         [ 56923.20174662,  38589.56997368,  33057.67676388, ...,\n",
       "           51093.40188069,  46018.35315235,  57810.81451412],\n",
       "         [  2201.26824367,   2013.92182083,    841.31117463, ...,\n",
       "           10776.71762297,   8820.70186159,   6369.44114983],\n",
       "         [ 15855.55712196,  12790.03620456,   2907.27925471, ...,\n",
       "           29332.39216115,  25079.98422767,  36979.84254443]],\n",
       " \n",
       "        [[ 81501.9842334 , 125216.55917135, 110414.65942021, ...,\n",
       "          105292.98623709,  81987.77068683,  29167.71427767],\n",
       "         [ 30754.85236007,  61199.22722792,  72025.75092569, ...,\n",
       "           40065.28198839,  80297.42059583,  91708.8112781 ],\n",
       "         [ 15671.80045507,  16228.18680574,  11090.92620688, ...,\n",
       "           16574.62468142,  16967.57157259,  17346.27499988],\n",
       "         ...,\n",
       "         [126789.75489704, 162147.0710593 , 120270.64181924, ...,\n",
       "           52647.77664858,  41999.15687756,  50969.09486463],\n",
       "         [  9072.03486387,   9286.2519776 ,   7870.51358709, ...,\n",
       "           16495.73904338,  16262.74301636,   7872.61333056],\n",
       "         [ 39381.47561774,  42742.86163217,  28163.10713203, ...,\n",
       "           47913.70438013,  36601.54260602,  14452.76386583]],\n",
       " \n",
       "        ...,\n",
       " \n",
       "        [[ 54696.33594063,  32504.75433537, 109661.66180754, ...,\n",
       "           71591.67873067,  90356.0048336 ,  54804.30358672],\n",
       "         [ 67162.22377588,  39585.67298172,  56640.06764084, ...,\n",
       "           32619.63857557,  28267.93684995,  50471.94270717],\n",
       "         [  2052.36092889,  12851.10139771,   8502.01967512, ...,\n",
       "           10909.6598803 ,  11963.60367455,  17065.31283668],\n",
       "         ...,\n",
       "         [ 71560.4932182 ,  66433.85217902,  62583.53600887, ...,\n",
       "          122040.1616518 , 146840.07617334, 169801.27312824],\n",
       "         [  5406.9596951 ,   7962.05394155,   4319.56103709, ...,\n",
       "           11949.3705459 ,  17606.68642696,   9900.51590223],\n",
       "         [ 15457.2138794 ,  49290.30385783,  46043.79898382, ...,\n",
       "           60794.29169162,  44000.20113605,  18713.16460094]],\n",
       " \n",
       "        [[ 76681.48594784,  70694.59709334,  23877.8029706 , ...,\n",
       "           35586.28854332,  74588.17354798,  76565.86018186],\n",
       "         [ 45347.40016382,  38808.83734019,  21327.29932835, ...,\n",
       "           55507.38005781,  46998.33044228,  56545.6895069 ],\n",
       "         [ 20536.56918096,  22617.0177723 ,  19419.59491178, ...,\n",
       "           23298.18364224,  24596.91523705,  21345.40233492],\n",
       "         ...,\n",
       "         [ 65156.01937385,  63035.21756195,  54443.61014575, ...,\n",
       "           66229.14514543,  67368.79912092,  52720.93134506],\n",
       "         [  8260.49027209,   4414.92070242,   4170.25155786, ...,\n",
       "            8874.43288103,  10305.69247215,   1645.95499694],\n",
       "         [ 23284.502182  ,  16175.65199286,   6800.94056011, ...,\n",
       "           26790.74096638,  43170.5146794 ,  47048.02128276]],\n",
       " \n",
       "        [[ 44004.147132  ,  46418.72957054,  79835.38718625, ...,\n",
       "           56087.95529769,  44602.26065323,  26184.54010813],\n",
       "         [ 69367.91581253,  60069.59131513,  66765.65131732, ...,\n",
       "           51643.57659541,  59198.95966556,  62701.42083455],\n",
       "         [ 10518.01215636,  10851.95738069,   9359.91149893, ...,\n",
       "           -1327.34656013,   3396.1199444 ,  11351.58541046],\n",
       "         ...,\n",
       "         [ 98462.73992991, 124513.41752949, 117921.58816429, ...,\n",
       "           89897.13145358,  96953.24372106, 124504.68364345],\n",
       "         [  5480.37328067,  15016.28405534,  19605.92386049, ...,\n",
       "           27518.07415461,  22349.59395958,  12217.67317122],\n",
       "         [ 56599.12262365,  58475.68732734,  45889.05198962, ...,\n",
       "           24571.20468313,  15446.45592533,  42179.04169512]]]))"
      ]
     },
     "execution_count": 8,
     "metadata": {},
     "output_type": "execute_result"
    }
   ],
   "source": [
    "label_ts_All_Conds"
   ]
  },
  {
   "cell_type": "code",
   "execution_count": 9,
   "id": "83c740ac",
   "metadata": {},
   "outputs": [
    {
     "data": {
      "text/plain": [
       "['C2.', 'C3.']"
      ]
     },
     "execution_count": 9,
     "metadata": {},
     "output_type": "execute_result"
    }
   ],
   "source": [
    "nan_subjects"
   ]
  },
  {
   "cell_type": "code",
   "execution_count": null,
   "id": "206212ea",
   "metadata": {},
   "outputs": [],
   "source": []
  }
 ],
 "metadata": {
  "kernelspec": {
   "display_name": "Python 3",
   "language": "python",
   "name": "python3"
  },
  "language_info": {
   "codemirror_mode": {
    "name": "ipython",
    "version": 3
   },
   "file_extension": ".py",
   "mimetype": "text/x-python",
   "name": "python",
   "nbconvert_exporter": "python",
   "pygments_lexer": "ipython3",
   "version": "3.11.7"
  }
 },
 "nbformat": 4,
 "nbformat_minor": 5
}
