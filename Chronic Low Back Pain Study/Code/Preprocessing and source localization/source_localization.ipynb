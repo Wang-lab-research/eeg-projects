{
 "cells": [
  {
   "cell_type": "markdown",
   "id": "2947c985-edb4-4e37-ac38-e2abc335d541",
   "metadata": {
    "tags": []
   },
   "source": [
    "## Compute source time course (STC) from Raw and Epochs data object and save as pickle for later analyses\n",
    "#### Input: *_eyes_open-raw.fif, *_eyes_closed-raw.fif, *-epo.fif\n",
    "####  Output: *_label_ts.pkl"
   ]
  },
  {
   "cell_type": "code",
   "execution_count": 1,
   "id": "93bc0409-9fd5-479d-8dde-25a747c13efe",
   "metadata": {
    "scrolled": true,
    "tags": []
   },
   "outputs": [
    {
     "name": "stdout",
     "output_type": "stream",
     "text": [
      "0 files missing from root.txt in /home/wanglab/mne_data/MNE-fsaverage-data\n",
      "0 files missing from bem.txt in /home/wanglab/mne_data/MNE-fsaverage-data/fsaverage\n"
     ]
    }
   ],
   "source": [
    "import os\n",
    "from pathlib import Path\n",
    "import sys\n",
    "sys.path.append('/home/wanglab/Documents/George Kenefati/Code/eeg_toolkit/')\n",
    "import os\n",
    "import mne\n",
    "import eeg_toolkit\n",
    "from eeg_toolkit import utils, preprocess, source_localization"
   ]
  },
  {
   "cell_type": "code",
   "execution_count": 2,
   "id": "842b367f-9d3c-4436-868f-6fb7ffe7b719",
   "metadata": {},
   "outputs": [
    {
     "name": "stdout",
     "output_type": "stream",
     "text": [
      "[-2.5,0.0,2.5]\n"
     ]
    },
    {
     "data": {
      "text/plain": [
       "[None]"
      ]
     },
     "execution_count": 2,
     "metadata": {},
     "output_type": "execute_result"
    }
   ],
   "source": [
    "# Settings\n",
    "times_tup,time_win_path = preprocess.get_time_window(5)\n",
    "\n",
    "# Read in processed raw data\n",
    "data_dir = Path(\"../../Data\")\n",
    "processed_data_path = data_dir / 'Processed Data/'\n",
    "epo_path = data_dir / time_win_path\n",
    "stc_path = data_dir / \"Source Time Courses\"\n",
    "EO_resting_save_path = stc_path / \"Eyes Open\"\n",
    "EC_resting_save_path = stc_path / \"Eyes Closed\"\n",
    "zscored_epochs_save_path = stc_path / \"zscored_Epochs\" / time_win_path\n",
    "save_paths = [EC_resting_save_path,EO_resting_save_path,zscored_epochs_save_path] \n",
    "\n",
    "# Create save paths\n",
    "[os.makedirs(path) for path in save_paths if not os.path.exists(path)]"
   ]
  },
  {
   "cell_type": "code",
   "execution_count": 3,
   "id": "6525eacb-e00a-4c11-aad8-c3086d8b6a48",
   "metadata": {},
   "outputs": [
    {
     "name": "stdout",
     "output_type": "stream",
     "text": [
      "['018', '020', '021', '022', '023', '024', '027', '029', '030', '031', '032', '033', '034', '035', '036', '037', '038', '039', '040', '041', '042', '043', '044', '045', '046', '048', '049', '050', '051', '052', '053', '054', '055', '056', '057', '058', 'C1.', 'C2.', 'C3.', 'C5.', 'C6.', 'C7.', 'C8.', 'C9.', 'C10', 'C11', 'C12', 'C13', 'C14', 'C15', 'C16', 'C17', 'C18', 'C19', 'C20', 'C21', 'C22', 'C24', 'C25', 'C26', 'C27']\n"
     ]
    }
   ],
   "source": [
    "# viable subjects\n",
    "sub_ids = utils.import_subs(os.path.join(processed_data_path,os.pardir),'sub_ids.txt')\n",
    "# select only 64ch subs and turn into set\n",
    "sub_ids = sub_ids[7:]\n",
    "print(sub_ids)"
   ]
  },
  {
   "cell_type": "code",
   "execution_count": 4,
   "id": "7c3a8fdb-dbfa-42b6-907d-88061fab5ea5",
   "metadata": {},
   "outputs": [
    {
     "name": "stdout",
     "output_type": "stream",
     "text": [
      "Chronics: 36\n",
      "Controls: 25\n",
      "Total: 61\n"
     ]
    }
   ],
   "source": [
    "print(f\"Chronics: {len([el for el in sub_ids if el.startswith('0')])}\")\n",
    "print(f\"Controls: {len([el for el in sub_ids if el.startswith('C')])}\")\n",
    "print(f\"Total: {len(sub_ids)}\")"
   ]
  },
  {
   "cell_type": "markdown",
   "id": "334c6e28",
   "metadata": {},
   "source": [
    "#### Look for subjects who do not have EO or EC cropped data"
   ]
  },
  {
   "cell_type": "code",
   "execution_count": 5,
   "id": "e89000a3",
   "metadata": {},
   "outputs": [
    {
     "name": "stdout",
     "output_type": "stream",
     "text": [
      "Subject: 045 missing eyes closed data\n",
      "Subject: 045 missing eyes open data\n",
      "Subject: C1. missing eyes closed data\n",
      "Subject: C1. missing eyes open data\n",
      "Subject: C5. missing eyes closed data\n",
      "Subject: C5. missing eyes open data\n",
      "Subject: C8. missing eyes closed data\n",
      "Subject: C8. missing eyes open data\n",
      "Subject: C20 missing eyes closed data\n",
      "Subject: C20 missing eyes open data\n",
      "Subject: C21 missing eyes closed data\n",
      "Subject: C21 missing eyes open data\n",
      "Subject: C22 missing eyes closed data\n",
      "Subject: C22 missing eyes open data\n",
      "['045', 'C1.', 'C5.', 'C8.', 'C20', 'C21', 'C22']\n",
      "['045', 'C1.', 'C5.', 'C8.', 'C20', 'C21', 'C22']\n"
     ]
    }
   ],
   "source": [
    "# For edge cases of subjects missing eyes open or eyes closed data\n",
    "no_eyes_open = []\n",
    "no_eyes_closed = []\n",
    "\n",
    "for sub_id in sub_ids:\n",
    "    if not os.path.exists(os.path.join(processed_data_path, f\"{sub_id}_eyes_closed-raw.fif\")):\n",
    "        no_eyes_closed.append(sub_id)\n",
    "        print(f\"Subject: {sub_id} missing eyes closed data\")\n",
    "    if not os.path.exists(os.path.join(processed_data_path, f\"{sub_id}_eyes_open-raw.fif\")):\n",
    "        no_eyes_open.append(sub_id)\n",
    "        print(f\"Subject: {sub_id} missing eyes open data\")\n",
    "        \n",
    "print(no_eyes_open)\n",
    "print(no_eyes_closed)"
   ]
  },
  {
   "cell_type": "code",
   "execution_count": 6,
   "id": "168d00bf-c009-4143-a71d-c7c200ba148b",
   "metadata": {
    "tags": []
   },
   "outputs": [],
   "source": [
    "# Get stc only from selected labels\n",
    "roi_names = [# Left\n",
    "             'rostralanteriorcingulate-lh', # Left Rostral ACC\n",
    "             'caudalanteriorcingulate-lh', # Left Caudal ACC\n",
    "             'postcentral-lh', # Left S1,\n",
    "             'insula-lh', 'superiorfrontal-lh', # Left Insula, Left DL-PFC,\n",
    "             'medialorbitofrontal-lh', # Left Medial-OFC\n",
    "             # Right\n",
    "             'rostralanteriorcingulate-rh', # Right Rostral ACC\n",
    "             'caudalanteriorcingulate-rh', # Right Caudal ACC\n",
    "             'postcentral-rh', # , Right S1\n",
    "             'insula-rh', 'superiorfrontal-rh', # Right Insula, Right DL-PFC\n",
    "             'medialorbitofrontal-rh'] # Right Medial-OFC"
   ]
  },
  {
   "cell_type": "code",
   "execution_count": 7,
   "id": "80ffacc1",
   "metadata": {},
   "outputs": [
    {
     "name": "stdout",
     "output_type": "stream",
     "text": [
      "Converting forward solution to surface orientation\n",
      "    No patch info available. The standard source space normals will be employed in the rotation to the local surface coordinates....\n",
      "    Converting to surface-based source orientations...\n",
      "    [done]\n",
      "Computing inverse operator with 64 channels.\n",
      "    64 out of 64 channels remain after picking\n",
      "Selected 64 channels\n",
      "Creating the depth weighting matrix...\n",
      "    64 EEG channels\n",
      "    limit = 20485/20484 = 2.207463\n",
      "    scale = 125765 exp = 0.8\n",
      "Applying loose dipole orientations to surface source spaces: 0.2\n",
      "Whitening the forward solution.\n",
      "    Created an SSP operator (subspace dimension = 1)\n",
      "Computing rank from covariance with rank=None\n",
      "    Using tolerance 1.6e-12 (2.2e-16 eps * 64 dim * 1.1e+02  max singular value)\n",
      "    Estimated rank (eeg): 58\n",
      "    EEG: rank 58 computed from 64 data channels with 1 projector\n",
      "    Setting small EEG eigenvalues to zero (without PCA)\n",
      "Creating the source covariance matrix\n",
      "Adjusting source covariance matrix.\n",
      "Computing SVD of whitened and weighted lead field matrix.\n",
      "    largest singular value = 3.55446\n",
      "    scaling factor to adjust the trace = 1.79646e+19 (nchan = 64 nzero = 6)\n",
      "Applying inverse to Epochs object\n",
      "Preparing the inverse operator for use...\n",
      "    Scaled noise and source covariance from nave = 1 to nave = 1\n",
      "    Created the regularized inverter\n",
      "    Created an SSP operator (subspace dimension = 1)\n",
      "    Created the whitener using a noise covariance matrix with rank 58 (6 small eigenvalues omitted)\n",
      "    Computing noise-normalization factors (dSPM)...\n",
      "[done]\n",
      "Picked 64 channels from the data\n",
      "Computing inverse...\n",
      "    Eigenleads need to be weighted ...\n",
      "Processing epoch : 1 / 35\n",
      "combining the current components...\n",
      "Processing epoch : 2 / 35\n",
      "combining the current components...\n",
      "Processing epoch : 3 / 35\n",
      "combining the current components...\n",
      "Processing epoch : 4 / 35\n",
      "combining the current components...\n",
      "Processing epoch : 5 / 35\n",
      "combining the current components...\n",
      "Processing epoch : 6 / 35\n",
      "combining the current components...\n",
      "Processing epoch : 7 / 35\n",
      "combining the current components...\n",
      "Processing epoch : 8 / 35\n",
      "combining the current components...\n",
      "Processing epoch : 9 / 35\n",
      "combining the current components...\n",
      "Processing epoch : 10 / 35\n",
      "combining the current components...\n",
      "Processing epoch : 11 / 35\n",
      "combining the current components...\n",
      "Processing epoch : 12 / 35\n",
      "combining the current components...\n",
      "Processing epoch : 13 / 35\n",
      "combining the current components...\n",
      "Processing epoch : 14 / 35\n",
      "combining the current components...\n",
      "Processing epoch : 15 / 35\n",
      "combining the current components...\n",
      "Processing epoch : 16 / 35\n",
      "combining the current components...\n",
      "Processing epoch : 17 / 35\n",
      "combining the current components...\n",
      "Processing epoch : 18 / 35\n",
      "combining the current components...\n",
      "Processing epoch : 19 / 35\n",
      "combining the current components...\n",
      "Processing epoch : 20 / 35\n",
      "combining the current components...\n",
      "Processing epoch : 21 / 35\n",
      "combining the current components...\n",
      "Processing epoch : 22 / 35\n",
      "combining the current components...\n",
      "Processing epoch : 23 / 35\n",
      "combining the current components...\n",
      "Processing epoch : 24 / 35\n",
      "combining the current components...\n",
      "Processing epoch : 25 / 35\n",
      "combining the current components...\n",
      "Processing epoch : 26 / 35\n",
      "combining the current components...\n",
      "Processing epoch : 27 / 35\n",
      "combining the current components...\n",
      "Processing epoch : 28 / 35\n",
      "combining the current components...\n",
      "Processing epoch : 29 / 35\n",
      "combining the current components...\n",
      "Processing epoch : 30 / 35\n",
      "combining the current components...\n",
      "Processing epoch : 31 / 35\n",
      "combining the current components...\n",
      "Processing epoch : 32 / 35\n",
      "combining the current components...\n",
      "Processing epoch : 33 / 35\n",
      "combining the current components...\n",
      "Processing epoch : 34 / 35\n",
      "combining the current components...\n",
      "Processing epoch : 35 / 35\n",
      "combining the current components...\n",
      "[done]\n",
      "Saved 044_epochs.pkl to ../../Data/Source Time Courses/zscored_Epochs/5_sec_time_window.\n"
     ]
    },
    {
     "ename": "FileNotFoundError",
     "evalue": "fname does not exist: \"/home/wanglab/Documents/George Kenefati/Chronic Low Back Pain Study/Code/Preprocessing and source localization/../../Data/Processed Data/045_noise-raw.fif\"",
     "output_type": "error",
     "traceback": [
      "\u001b[0;31m---------------------------------------------------------------------------\u001b[0m",
      "\u001b[0;31mFileNotFoundError\u001b[0m                         Traceback (most recent call last)",
      "Cell \u001b[0;32mIn[7], line 8\u001b[0m\n\u001b[1;32m      5\u001b[0m EO_bool \u001b[38;5;241m=\u001b[39m \u001b[38;5;28;01mFalse\u001b[39;00m \u001b[38;5;28;01mif\u001b[39;00m sub_id \u001b[38;5;129;01min\u001b[39;00m no_eyes_closed \u001b[38;5;28;01melse\u001b[39;00m \u001b[38;5;28;01mTrue\u001b[39;00m\n\u001b[1;32m      7\u001b[0m \u001b[38;5;66;03m# Compute source localization for subject and save \u001b[39;00m\n\u001b[0;32m----> 8\u001b[0m label_ts_All_Conds, sub_id_if_nan \u001b[38;5;241m=\u001b[39m \u001b[43msource_localization\u001b[49m\u001b[38;5;241;43m.\u001b[39;49m\u001b[43mto_source\u001b[49m\u001b[43m(\u001b[49m\u001b[43msub_id\u001b[49m\u001b[43m,\u001b[49m\n\u001b[1;32m      9\u001b[0m \u001b[43m                                                                  \u001b[49m\u001b[43mprocessed_data_path\u001b[49m\u001b[43m,\u001b[49m\n\u001b[1;32m     10\u001b[0m \u001b[43m                                                                    \u001b[49m\u001b[43mzscored_epochs_save_path\u001b[49m\u001b[43m,\u001b[49m\n\u001b[1;32m     11\u001b[0m \u001b[43m                                                                    \u001b[49m\u001b[43mEC_resting_save_path\u001b[49m\u001b[43m,\u001b[49m\n\u001b[1;32m     12\u001b[0m \u001b[43m                                                                    \u001b[49m\u001b[43mEO_resting_save_path\u001b[49m\u001b[43m,\u001b[49m\n\u001b[1;32m     13\u001b[0m \u001b[43m                                                                    \u001b[49m\u001b[43mroi_names\u001b[49m\u001b[43m,\u001b[49m\n\u001b[1;32m     14\u001b[0m \u001b[43m                                                                    \u001b[49m\u001b[43mtimes_tup\u001b[49m\u001b[43m,\u001b[49m\n\u001b[1;32m     15\u001b[0m \u001b[43m                                                                    \u001b[49m\u001b[43mreturn_zepochs\u001b[49m\u001b[38;5;241;43m=\u001b[39;49m\u001b[38;5;28;43;01mTrue\u001b[39;49;00m\u001b[43m,\u001b[49m\n\u001b[1;32m     16\u001b[0m \u001b[43m                                                                    \u001b[49m\u001b[43mreturn_EC_resting\u001b[49m\u001b[38;5;241;43m=\u001b[39;49m\u001b[43m \u001b[49m\u001b[43mEC_bool\u001b[49m\u001b[43m,\u001b[49m\n\u001b[1;32m     17\u001b[0m \u001b[43m                                                                    \u001b[49m\u001b[43mreturn_EO_resting\u001b[49m\u001b[38;5;241;43m=\u001b[39;49m\u001b[43m \u001b[49m\u001b[43mEO_bool\u001b[49m\u001b[43m,\u001b[49m\n\u001b[1;32m     18\u001b[0m \u001b[43m                                                                    \u001b[49m\u001b[43maverage_dipoles\u001b[49m\u001b[38;5;241;43m=\u001b[39;49m\u001b[38;5;28;43;01mTrue\u001b[39;49;00m\u001b[43m,\u001b[49m\n\u001b[1;32m     19\u001b[0m \u001b[43m                                                                    \u001b[49m\u001b[43m)\u001b[49m\n\u001b[1;32m     20\u001b[0m \u001b[38;5;66;03m# If sub_id(str) output, append to nan_subjects\u001b[39;00m\n\u001b[1;32m     21\u001b[0m \u001b[38;5;28;01mif\u001b[39;00m sub_id_if_nan \u001b[38;5;129;01mis\u001b[39;00m \u001b[38;5;129;01mnot\u001b[39;00m \u001b[38;5;28;01mNone\u001b[39;00m:\n",
      "File \u001b[0;32m~/Documents/George Kenefati/Code/eeg_toolkit/eeg_toolkit/source_localization.py:241\u001b[0m, in \u001b[0;36mto_source\u001b[0;34m(sub_id, data_path, zscored_epochs_save_path, EC_resting_save_path, EO_resting_save_path, roi_names, times_tup, return_zepochs, return_EC_resting, return_EO_resting, average_dipoles)\u001b[0m\n\u001b[1;32m    238\u001b[0m tmin, tmax, bmax \u001b[38;5;241m=\u001b[39m times_tup\n\u001b[1;32m    240\u001b[0m \u001b[38;5;66;03m# Compute noise & data covariance\u001b[39;00m\n\u001b[0;32m--> 241\u001b[0m noise_segment \u001b[38;5;241m=\u001b[39m \u001b[43mload_raw\u001b[49m\u001b[43m(\u001b[49m\u001b[43mdata_path\u001b[49m\u001b[43m,\u001b[49m\u001b[43m \u001b[49m\u001b[43msub_id\u001b[49m\u001b[43m,\u001b[49m\u001b[43m \u001b[49m\u001b[43mcondition\u001b[49m\u001b[38;5;241;43m=\u001b[39;49m\u001b[38;5;124;43m\"\u001b[39;49m\u001b[38;5;124;43mnoise\u001b[39;49m\u001b[38;5;124;43m\"\u001b[39;49m\u001b[43m)\u001b[49m\n\u001b[1;32m    242\u001b[0m noise_cov \u001b[38;5;241m=\u001b[39m mne\u001b[38;5;241m.\u001b[39mcompute_raw_covariance(noise_segment, verbose\u001b[38;5;241m=\u001b[39m\u001b[38;5;28;01mTrue\u001b[39;00m)\n\u001b[1;32m    243\u001b[0m \u001b[38;5;66;03m# Regularize the covariance matrices\u001b[39;00m\n",
      "File \u001b[0;32m~/Documents/George Kenefati/Code/eeg_toolkit/eeg_toolkit/source_localization.py:29\u001b[0m, in \u001b[0;36mload_raw\u001b[0;34m(data_path, sub_id, condition)\u001b[0m\n\u001b[1;32m     27\u001b[0m sub_fname \u001b[38;5;241m=\u001b[39m \u001b[38;5;124mf\u001b[39m\u001b[38;5;124m\"\u001b[39m\u001b[38;5;132;01m{\u001b[39;00msub_id\u001b[38;5;132;01m}\u001b[39;00m\u001b[38;5;124m_\u001b[39m\u001b[38;5;132;01m{\u001b[39;00mcondition\u001b[38;5;132;01m}\u001b[39;00m\u001b[38;5;124m-raw.fif\u001b[39m\u001b[38;5;124m\"\u001b[39m\n\u001b[1;32m     28\u001b[0m raw_path \u001b[38;5;241m=\u001b[39m os\u001b[38;5;241m.\u001b[39mpath\u001b[38;5;241m.\u001b[39mjoin(data_path, sub_fname)\n\u001b[0;32m---> 29\u001b[0m raw \u001b[38;5;241m=\u001b[39m \u001b[43mmne\u001b[49m\u001b[38;5;241;43m.\u001b[39;49m\u001b[43mio\u001b[49m\u001b[38;5;241;43m.\u001b[39;49m\u001b[43mread_raw_fif\u001b[49m\u001b[43m(\u001b[49m\u001b[43mraw_path\u001b[49m\u001b[43m,\u001b[49m\u001b[43m \u001b[49m\u001b[43mpreload\u001b[49m\u001b[38;5;241;43m=\u001b[39;49m\u001b[38;5;28;43;01mTrue\u001b[39;49;00m\u001b[43m)\u001b[49m\n\u001b[1;32m     30\u001b[0m raw\u001b[38;5;241m.\u001b[39mset_eeg_reference(\u001b[38;5;124m\"\u001b[39m\u001b[38;5;124maverage\u001b[39m\u001b[38;5;124m\"\u001b[39m, projection\u001b[38;5;241m=\u001b[39m\u001b[38;5;28;01mTrue\u001b[39;00m)\n\u001b[1;32m     31\u001b[0m \u001b[38;5;28;01mreturn\u001b[39;00m raw\n",
      "File \u001b[0;32m~/mambaforge/envs/mne/lib/python3.11/site-packages/mne/io/fiff/raw.py:543\u001b[0m, in \u001b[0;36mread_raw_fif\u001b[0;34m(fname, allow_maxshield, preload, on_split_missing, verbose)\u001b[0m\n\u001b[1;32m    502\u001b[0m \u001b[38;5;129m@fill_doc\u001b[39m\n\u001b[1;32m    503\u001b[0m \u001b[38;5;28;01mdef\u001b[39;00m \u001b[38;5;21mread_raw_fif\u001b[39m(\n\u001b[1;32m    504\u001b[0m     fname, allow_maxshield\u001b[38;5;241m=\u001b[39m\u001b[38;5;28;01mFalse\u001b[39;00m, preload\u001b[38;5;241m=\u001b[39m\u001b[38;5;28;01mFalse\u001b[39;00m, on_split_missing\u001b[38;5;241m=\u001b[39m\u001b[38;5;124m\"\u001b[39m\u001b[38;5;124mraise\u001b[39m\u001b[38;5;124m\"\u001b[39m, verbose\u001b[38;5;241m=\u001b[39m\u001b[38;5;28;01mNone\u001b[39;00m\n\u001b[1;32m    505\u001b[0m ):\n\u001b[1;32m    506\u001b[0m \u001b[38;5;250m    \u001b[39m\u001b[38;5;124;03m\"\"\"Reader function for Raw FIF data.\u001b[39;00m\n\u001b[1;32m    507\u001b[0m \n\u001b[1;32m    508\u001b[0m \u001b[38;5;124;03m    Parameters\u001b[39;00m\n\u001b[0;32m   (...)\u001b[0m\n\u001b[1;32m    541\u001b[0m \u001b[38;5;124;03m    are updated accordingly.\u001b[39;00m\n\u001b[1;32m    542\u001b[0m \u001b[38;5;124;03m    \"\"\"\u001b[39;00m\n\u001b[0;32m--> 543\u001b[0m     \u001b[38;5;28;01mreturn\u001b[39;00m \u001b[43mRaw\u001b[49m\u001b[43m(\u001b[49m\n\u001b[1;32m    544\u001b[0m \u001b[43m        \u001b[49m\u001b[43mfname\u001b[49m\u001b[38;5;241;43m=\u001b[39;49m\u001b[43mfname\u001b[49m\u001b[43m,\u001b[49m\n\u001b[1;32m    545\u001b[0m \u001b[43m        \u001b[49m\u001b[43mallow_maxshield\u001b[49m\u001b[38;5;241;43m=\u001b[39;49m\u001b[43mallow_maxshield\u001b[49m\u001b[43m,\u001b[49m\n\u001b[1;32m    546\u001b[0m \u001b[43m        \u001b[49m\u001b[43mpreload\u001b[49m\u001b[38;5;241;43m=\u001b[39;49m\u001b[43mpreload\u001b[49m\u001b[43m,\u001b[49m\n\u001b[1;32m    547\u001b[0m \u001b[43m        \u001b[49m\u001b[43mverbose\u001b[49m\u001b[38;5;241;43m=\u001b[39;49m\u001b[43mverbose\u001b[49m\u001b[43m,\u001b[49m\n\u001b[1;32m    548\u001b[0m \u001b[43m        \u001b[49m\u001b[43mon_split_missing\u001b[49m\u001b[38;5;241;43m=\u001b[39;49m\u001b[43mon_split_missing\u001b[49m\u001b[43m,\u001b[49m\n\u001b[1;32m    549\u001b[0m \u001b[43m    \u001b[49m\u001b[43m)\u001b[49m\n",
      "File \u001b[0;32m<decorator-gen-377>:12\u001b[0m, in \u001b[0;36m__init__\u001b[0;34m(self, fname, allow_maxshield, preload, on_split_missing, verbose)\u001b[0m\n",
      "File \u001b[0;32m~/mambaforge/envs/mne/lib/python3.11/site-packages/mne/io/fiff/raw.py:105\u001b[0m, in \u001b[0;36mRaw.__init__\u001b[0;34m(self, fname, allow_maxshield, preload, on_split_missing, verbose)\u001b[0m\n\u001b[1;32m    103\u001b[0m next_fname \u001b[38;5;241m=\u001b[39m fname\n\u001b[1;32m    104\u001b[0m \u001b[38;5;28;01mwhile\u001b[39;00m next_fname \u001b[38;5;129;01mis\u001b[39;00m \u001b[38;5;129;01mnot\u001b[39;00m \u001b[38;5;28;01mNone\u001b[39;00m:\n\u001b[0;32m--> 105\u001b[0m     raw, next_fname, buffer_size_sec \u001b[38;5;241m=\u001b[39m \u001b[38;5;28;43mself\u001b[39;49m\u001b[38;5;241;43m.\u001b[39;49m\u001b[43m_read_raw_file\u001b[49m\u001b[43m(\u001b[49m\n\u001b[1;32m    106\u001b[0m \u001b[43m        \u001b[49m\u001b[43mnext_fname\u001b[49m\u001b[43m,\u001b[49m\u001b[43m \u001b[49m\u001b[43mallow_maxshield\u001b[49m\u001b[43m,\u001b[49m\u001b[43m \u001b[49m\u001b[43mpreload\u001b[49m\u001b[43m,\u001b[49m\u001b[43m \u001b[49m\u001b[43mdo_check_ext\u001b[49m\n\u001b[1;32m    107\u001b[0m \u001b[43m    \u001b[49m\u001b[43m)\u001b[49m\n\u001b[1;32m    108\u001b[0m     do_check_ext \u001b[38;5;241m=\u001b[39m \u001b[38;5;28;01mFalse\u001b[39;00m\n\u001b[1;32m    109\u001b[0m     raws\u001b[38;5;241m.\u001b[39mappend(raw)\n",
      "File \u001b[0;32m<decorator-gen-378>:12\u001b[0m, in \u001b[0;36m_read_raw_file\u001b[0;34m(self, fname, allow_maxshield, preload, do_check_ext, verbose)\u001b[0m\n",
      "File \u001b[0;32m~/mambaforge/envs/mne/lib/python3.11/site-packages/mne/io/fiff/raw.py:187\u001b[0m, in \u001b[0;36mRaw._read_raw_file\u001b[0;34m(self, fname, allow_maxshield, preload, do_check_ext, verbose)\u001b[0m\n\u001b[1;32m    185\u001b[0m     check_fname(fname, \u001b[38;5;124m\"\u001b[39m\u001b[38;5;124mraw\u001b[39m\u001b[38;5;124m\"\u001b[39m, endings)\n\u001b[1;32m    186\u001b[0m \u001b[38;5;66;03m# filename\u001b[39;00m\n\u001b[0;32m--> 187\u001b[0m fname \u001b[38;5;241m=\u001b[39m \u001b[38;5;28mstr\u001b[39m(\u001b[43m_check_fname\u001b[49m\u001b[43m(\u001b[49m\u001b[43mfname\u001b[49m\u001b[43m,\u001b[49m\u001b[43m \u001b[49m\u001b[38;5;124;43m\"\u001b[39;49m\u001b[38;5;124;43mread\u001b[39;49m\u001b[38;5;124;43m\"\u001b[39;49m\u001b[43m,\u001b[49m\u001b[43m \u001b[49m\u001b[38;5;28;43;01mTrue\u001b[39;49;00m\u001b[43m,\u001b[49m\u001b[43m \u001b[49m\u001b[38;5;124;43m\"\u001b[39;49m\u001b[38;5;124;43mfname\u001b[39;49m\u001b[38;5;124;43m\"\u001b[39;49m\u001b[43m)\u001b[49m)\n\u001b[1;32m    188\u001b[0m ext \u001b[38;5;241m=\u001b[39m os\u001b[38;5;241m.\u001b[39mpath\u001b[38;5;241m.\u001b[39msplitext(fname)[\u001b[38;5;241m1\u001b[39m]\u001b[38;5;241m.\u001b[39mlower()\n\u001b[1;32m    189\u001b[0m whole_file \u001b[38;5;241m=\u001b[39m preload \u001b[38;5;28;01mif\u001b[39;00m \u001b[38;5;124m\"\u001b[39m\u001b[38;5;124m.gz\u001b[39m\u001b[38;5;124m\"\u001b[39m \u001b[38;5;129;01min\u001b[39;00m ext \u001b[38;5;28;01melse\u001b[39;00m \u001b[38;5;28;01mFalse\u001b[39;00m\n",
      "File \u001b[0;32m<decorator-gen-0>:12\u001b[0m, in \u001b[0;36m_check_fname\u001b[0;34m(fname, overwrite, must_exist, name, need_dir, verbose)\u001b[0m\n",
      "File \u001b[0;32m~/mambaforge/envs/mne/lib/python3.11/site-packages/mne/utils/check.py:263\u001b[0m, in \u001b[0;36m_check_fname\u001b[0;34m(fname, overwrite, must_exist, name, need_dir, verbose)\u001b[0m\n\u001b[1;32m    261\u001b[0m             \u001b[38;5;28;01mraise\u001b[39;00m \u001b[38;5;167;01mPermissionError\u001b[39;00m(\u001b[38;5;124mf\u001b[39m\u001b[38;5;124m\"\u001b[39m\u001b[38;5;132;01m{\u001b[39;00mname\u001b[38;5;132;01m}\u001b[39;00m\u001b[38;5;124m does not have read permissions: \u001b[39m\u001b[38;5;132;01m{\u001b[39;00mfname\u001b[38;5;132;01m}\u001b[39;00m\u001b[38;5;124m\"\u001b[39m)\n\u001b[1;32m    262\u001b[0m \u001b[38;5;28;01melif\u001b[39;00m must_exist:\n\u001b[0;32m--> 263\u001b[0m     \u001b[38;5;28;01mraise\u001b[39;00m \u001b[38;5;167;01mFileNotFoundError\u001b[39;00m(\u001b[38;5;124mf\u001b[39m\u001b[38;5;124m'\u001b[39m\u001b[38;5;132;01m{\u001b[39;00mname\u001b[38;5;132;01m}\u001b[39;00m\u001b[38;5;124m does not exist: \u001b[39m\u001b[38;5;124m\"\u001b[39m\u001b[38;5;132;01m{\u001b[39;00mfname\u001b[38;5;132;01m}\u001b[39;00m\u001b[38;5;124m\"\u001b[39m\u001b[38;5;124m'\u001b[39m)\n\u001b[1;32m    265\u001b[0m \u001b[38;5;28;01mreturn\u001b[39;00m fname\n",
      "\u001b[0;31mFileNotFoundError\u001b[0m: fname does not exist: \"/home/wanglab/Documents/George Kenefati/Chronic Low Back Pain Study/Code/Preprocessing and source localization/../../Data/Processed Data/045_noise-raw.fif\""
     ]
    }
   ],
   "source": [
    "nan_subjects=[]\n",
    "for sub_id in sub_ids:  \n",
    "    # Check if eyes open or eyes closed need to be computed\n",
    "    EC_bool = False if sub_id in no_eyes_open else True\n",
    "    EO_bool = False if sub_id in no_eyes_closed else True\n",
    "    \n",
    "    # Compute source localization for subject and save \n",
    "    label_ts_All_Conds, sub_id_if_nan = source_localization.to_source(sub_id,\n",
    "                                                                      processed_data_path,\n",
    "                                                                        zscored_epochs_save_path,\n",
    "                                                                        EC_resting_save_path,\n",
    "                                                                        EO_resting_save_path,\n",
    "                                                                        roi_names,\n",
    "                                                                        times_tup,\n",
    "                                                                        return_zepochs=True,\n",
    "                                                                        return_EC_resting= EC_bool,\n",
    "                                                                        return_EO_resting= EO_bool,\n",
    "                                                                        average_dipoles=True,\n",
    "                                                                        )\n",
    "    # If sub_id(str) output, append to nan_subjects\n",
    "    if sub_id_if_nan is not None:\n",
    "        nan_subjects.append(sub_id_if_nan)"
   ]
  },
  {
   "cell_type": "markdown",
   "id": "3b646755",
   "metadata": {},
   "source": [
    "### Assess results"
   ]
  },
  {
   "cell_type": "code",
   "execution_count": null,
   "id": "9268a1aa",
   "metadata": {},
   "outputs": [],
   "source": [
    "label_ts_All_Conds"
   ]
  },
  {
   "cell_type": "code",
   "execution_count": null,
   "id": "83c740ac",
   "metadata": {},
   "outputs": [],
   "source": [
    "nan_subjects"
   ]
  },
  {
   "cell_type": "code",
   "execution_count": null,
   "id": "206212ea",
   "metadata": {},
   "outputs": [],
   "source": []
  }
 ],
 "metadata": {
  "kernelspec": {
   "display_name": "Python 3",
   "language": "python",
   "name": "python3"
  },
  "language_info": {
   "codemirror_mode": {
    "name": "ipython",
    "version": 3
   },
   "file_extension": ".py",
   "mimetype": "text/x-python",
   "name": "python",
   "nbconvert_exporter": "python",
   "pygments_lexer": "ipython3",
   "version": "3.11.7"
  }
 },
 "nbformat": 4,
 "nbformat_minor": 5
}
