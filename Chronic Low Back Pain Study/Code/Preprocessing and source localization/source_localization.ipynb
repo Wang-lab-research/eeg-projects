{
 "cells": [
  {
   "cell_type": "markdown",
   "id": "2947c985-edb4-4e37-ac38-e2abc335d541",
   "metadata": {
    "tags": []
   },
   "source": [
    "## Compute source time course (STC) from Raw and Epochs data object\n",
    "#### Input: *_preprocessed-raw.fif, -epo.fif\n",
    "####  Output: *.stc"
   ]
  },
  {
   "cell_type": "code",
   "execution_count": 10,
   "id": "93bc0409-9fd5-479d-8dde-25a747c13efe",
   "metadata": {
    "tags": []
   },
   "outputs": [],
   "source": [
    "import os\n",
    "from pathlib import Path\n",
    "import sys\n",
    "sys.path.append('/home/wanglab/Documents/George Kenefati/Code/eeg_toolkit/')\n",
    "from eeg_toolkit import preprocess, utils, source_localization\n",
    "%matplotlib inline"
   ]
  },
  {
   "cell_type": "code",
   "execution_count": 11,
   "id": "842b367f-9d3c-4436-868f-6fb7ffe7b719",
   "metadata": {},
   "outputs": [
    {
     "name": "stdout",
     "output_type": "stream",
     "text": [
      "[-2.5,0.0,2.5]\n"
     ]
    },
    {
     "data": {
      "text/plain": [
       "[]"
      ]
     },
     "execution_count": 11,
     "metadata": {},
     "output_type": "execute_result"
    }
   ],
   "source": [
    "# Settings\n",
    "times_tup,time_win_path = preprocess.get_time_window(5)\n",
    "\n",
    "# Read in processed raw data\n",
    "data_dir = Path(\"../../Data\")\n",
    "data_path = data_dir / 'Processed Data/'\n",
    "epo_path = data_dir / time_win_path\n",
    "stc_path = data_dir / \"Source time courses\"\n",
    "EO_resting_save_path = stc_path / \"Eyes Open\"\n",
    "EC_resting_save_path = stc_path / \"Eyes Closed\"\n",
    "zscored_epochs_save_path = stc_path / \"zscored_Epochs\" / time_win_path\n",
    "save_paths = [EC_resting_save_path,EO_resting_save_path,zscored_epochs_save_path] \n",
    "\n",
    "# Create save paths\n",
    "[os.makedirs(path) for path in save_paths if not os.path.exists(path)]"
   ]
  },
  {
   "cell_type": "code",
   "execution_count": 12,
   "id": "e08a83ed",
   "metadata": {},
   "outputs": [
    {
     "data": {
      "text/plain": [
       "PosixPath('../../Data/Source time courses/zscored_Epochs/5_sec_time_window')"
      ]
     },
     "execution_count": 12,
     "metadata": {},
     "output_type": "execute_result"
    }
   ],
   "source": [
    "zscored_epochs_save_path"
   ]
  },
  {
   "cell_type": "code",
   "execution_count": 13,
   "id": "6525eacb-e00a-4c11-aad8-c3086d8b6a48",
   "metadata": {},
   "outputs": [
    {
     "name": "stdout",
     "output_type": "stream",
     "text": [
      "['018', '020', '021', '022', '023', '024', '027', '029', '030', '031', '032', '033', '034', '035', '036', '037', '038', '039', '040', '041', '042', '043', '044', '045', '046', '048', '049', '050', '051', '052', '053', '054', '055', '056', '057', '058', 'C1.', 'C2.', 'C3.', 'C5.', 'C6.', 'C7.', 'C8.', 'C9.', 'C10', 'C11', 'C12', 'C13', 'C14', 'C15', 'C16', 'C17', 'C18', 'C19', 'C20', 'C21', 'C22', 'C24', 'C25', 'C26', 'C27']\n"
     ]
    }
   ],
   "source": [
    "# viable subjects\n",
    "sub_ids = utils.import_subs(os.path.join(data_path,os.pardir),'sub_ids.txt')\n",
    "# select only 64ch subs and turn into set\n",
    "sub_ids = sub_ids[7:]\n",
    "print(sub_ids)"
   ]
  },
  {
   "cell_type": "code",
   "execution_count": 14,
   "id": "7c3a8fdb-dbfa-42b6-907d-88061fab5ea5",
   "metadata": {},
   "outputs": [
    {
     "name": "stdout",
     "output_type": "stream",
     "text": [
      "Chronics: 36\n",
      "Controls: 25\n",
      "Total: 61\n"
     ]
    }
   ],
   "source": [
    "print(f\"Chronics: {len([el for el in sub_ids if el.startswith('0')])}\")\n",
    "print(f\"Controls: {len([el for el in sub_ids if el.startswith('C')])}\")\n",
    "print(f\"Total: {len(sub_ids)}\")"
   ]
  },
  {
   "cell_type": "code",
   "execution_count": 15,
   "id": "557cfc03",
   "metadata": {},
   "outputs": [],
   "source": [
    "# For edge cases of subjects missing eyes open or eyes closed data\n",
    "no_eyes_open = []\n",
    "no_eyes_closed = []"
   ]
  },
  {
   "cell_type": "code",
   "execution_count": 16,
   "id": "168d00bf-c009-4143-a71d-c7c200ba148b",
   "metadata": {
    "tags": []
   },
   "outputs": [],
   "source": [
    "# Get stc only from selected labels\n",
    "roi_names = [# Left\n",
    "             'rostralanteriorcingulate-lh', # Left Rostral ACC\n",
    "             'caudalanteriorcingulate-lh', # Left Caudal ACC\n",
    "             'postcentral-lh', # Left S1,\n",
    "             'insula-lh', 'superiorfrontal-lh', # Left Insula, Left DL-PFC,\n",
    "             'medialorbitofrontal-lh', # Left Medial-OFC\n",
    "             # Right\n",
    "             'rostralanteriorcingulate-rh', # Right Rostral ACC\n",
    "             'caudalanteriorcingulate-rh', # Right Caudal ACC\n",
    "             'postcentral-rh', # , Right S1\n",
    "             'insula-rh', 'superiorfrontal-rh', # Right Insula, Right DL-PFC\n",
    "             'medialorbitofrontal-rh'] # Right Medial-OFC"
   ]
  },
  {
   "cell_type": "code",
   "execution_count": 17,
   "id": "80ffacc1",
   "metadata": {},
   "outputs": [
    {
     "name": "stdout",
     "output_type": "stream",
     "text": [
      "Using up to 600 segments\n",
      "Number of samples used : 48000\n",
      "[done]\n",
      "Computing rank from covariance with rank=None\n",
      "    Using tolerance 6.1e-13 (2.2e-16 eps * 64 dim * 43  max singular value)\n",
      "    Estimated rank (eeg): 58\n",
      "    EEG: rank 58 computed from 64 data channels with 1 projector\n",
      "2 projection items activated\n",
      "    EEG regularization : 0.1\n",
      "    Created an SSP operator (subspace dimension = 1)\n",
      "Computing rank from covariance with rank={'eeg': 58}\n",
      "    Setting small EEG eigenvalues to zero (without PCA)\n",
      "Using up to 600 segments\n",
      "Number of samples used : 48000\n",
      "[done]\n",
      "Computing rank from covariance with rank=None\n",
      "    Using tolerance 1.3e-10 (2.2e-16 eps * 64 dim * 9.4e+03  max singular value)\n",
      "    Estimated rank (eeg): 55\n",
      "    EEG: rank 55 computed from 64 data channels with 1 projector\n",
      "2 projection items activated\n",
      "    EEG regularization : 0.1\n",
      "    Created an SSP operator (subspace dimension = 1)\n",
      "Computing rank from covariance with rank={'eeg': 55}\n",
      "    Setting small EEG eigenvalues to zero (without PCA)\n",
      "Using up to 600 segments\n",
      "Number of samples used : 48000\n",
      "[done]\n",
      "Computing rank from covariance with rank=None\n",
      "    Using tolerance 5.6e-13 (2.2e-16 eps * 64 dim * 39  max singular value)\n",
      "    Estimated rank (eeg): 60\n",
      "    EEG: rank 60 computed from 64 data channels with 1 projector\n",
      "2 projection items activated\n",
      "    EEG regularization : 0.1\n",
      "    Created an SSP operator (subspace dimension = 1)\n",
      "Computing rank from covariance with rank={'eeg': 60}\n",
      "    Setting small EEG eigenvalues to zero (without PCA)\n",
      "Using up to 600 segments\n",
      "Number of samples used : 48000\n",
      "[done]\n",
      "Computing rank from covariance with rank=None\n",
      "    Using tolerance 6.7e-13 (2.2e-16 eps * 64 dim * 47  max singular value)\n",
      "    Estimated rank (eeg): 58\n",
      "    EEG: rank 58 computed from 64 data channels with 1 projector\n",
      "2 projection items activated\n",
      "    EEG regularization : 0.1\n",
      "    Created an SSP operator (subspace dimension = 1)\n",
      "Computing rank from covariance with rank={'eeg': 58}\n",
      "    Setting small EEG eigenvalues to zero (without PCA)\n",
      "Using up to 600 segments\n",
      "Number of samples used : 48000\n",
      "[done]\n",
      "Computing rank from covariance with rank=None\n",
      "    Using tolerance 8.4e-13 (2.2e-16 eps * 64 dim * 59  max singular value)\n",
      "    Estimated rank (eeg): 56\n",
      "    EEG: rank 56 computed from 64 data channels with 1 projector\n",
      "2 projection items activated\n",
      "    EEG regularization : 0.1\n",
      "    Created an SSP operator (subspace dimension = 1)\n",
      "Computing rank from covariance with rank={'eeg': 56}\n",
      "    Setting small EEG eigenvalues to zero (without PCA)\n",
      "Using up to 600 segments\n",
      "Number of samples used : 48000\n",
      "[done]\n",
      "Computing rank from covariance with rank=None\n",
      "    Using tolerance 5.2e-13 (2.2e-16 eps * 64 dim * 37  max singular value)\n",
      "    Estimated rank (eeg): 56\n",
      "    EEG: rank 56 computed from 64 data channels with 1 projector\n",
      "2 projection items activated\n",
      "    EEG regularization : 0.1\n",
      "    Created an SSP operator (subspace dimension = 1)\n",
      "Computing rank from covariance with rank={'eeg': 56}\n",
      "    Setting small EEG eigenvalues to zero (without PCA)\n",
      "Using up to 600 segments\n",
      "Number of samples used : 48000\n",
      "[done]\n",
      "Computing rank from covariance with rank=None\n",
      "    Using tolerance 1.2e-13 (2.2e-16 eps * 64 dim * 8.2  max singular value)\n",
      "    Estimated rank (eeg): 61\n",
      "    EEG: rank 61 computed from 64 data channels with 1 projector\n",
      "2 projection items activated\n",
      "    EEG regularization : 0.1\n",
      "    Created an SSP operator (subspace dimension = 1)\n",
      "Computing rank from covariance with rank={'eeg': 61}\n",
      "    Setting small EEG eigenvalues to zero (without PCA)\n",
      "Using up to 600 segments\n",
      "Number of samples used : 48000\n",
      "[done]\n",
      "Computing rank from covariance with rank=None\n",
      "    Using tolerance 1.2e-13 (2.2e-16 eps * 64 dim * 8.7  max singular value)\n",
      "    Estimated rank (eeg): 62\n",
      "    EEG: rank 62 computed from 64 data channels with 1 projector\n",
      "2 projection items activated\n",
      "    EEG regularization : 0.1\n",
      "    Created an SSP operator (subspace dimension = 1)\n",
      "Computing rank from covariance with rank={'eeg': 62}\n",
      "    Setting small EEG eigenvalues to zero (without PCA)\n",
      "Using up to 600 segments\n",
      "Number of samples used : 48000\n",
      "[done]\n",
      "Computing rank from covariance with rank=None\n",
      "    Using tolerance 5.5e-13 (2.2e-16 eps * 64 dim * 38  max singular value)\n",
      "    Estimated rank (eeg): 60\n",
      "    EEG: rank 60 computed from 64 data channels with 1 projector\n",
      "2 projection items activated\n",
      "    EEG regularization : 0.1\n",
      "    Created an SSP operator (subspace dimension = 1)\n",
      "Computing rank from covariance with rank={'eeg': 60}\n",
      "    Setting small EEG eigenvalues to zero (without PCA)\n",
      "Using up to 600 segments\n",
      "Number of samples used : 48000\n",
      "[done]\n",
      "Computing rank from covariance with rank=None\n",
      "    Using tolerance 5.6e-13 (2.2e-16 eps * 64 dim * 39  max singular value)\n",
      "    Estimated rank (eeg): 59\n",
      "    EEG: rank 59 computed from 64 data channels with 1 projector\n",
      "2 projection items activated\n",
      "    EEG regularization : 0.1\n",
      "    Created an SSP operator (subspace dimension = 1)\n",
      "Computing rank from covariance with rank={'eeg': 59}\n",
      "    Setting small EEG eigenvalues to zero (without PCA)\n",
      "Using up to 600 segments\n",
      "Number of samples used : 48000\n",
      "[done]\n",
      "Computing rank from covariance with rank=None\n",
      "    Using tolerance 5.2e-13 (2.2e-16 eps * 64 dim * 36  max singular value)\n",
      "    Estimated rank (eeg): 55\n",
      "    EEG: rank 55 computed from 64 data channels with 1 projector\n",
      "2 projection items activated\n",
      "    EEG regularization : 0.1\n",
      "    Created an SSP operator (subspace dimension = 1)\n",
      "Computing rank from covariance with rank={'eeg': 55}\n",
      "    Setting small EEG eigenvalues to zero (without PCA)\n",
      "Using up to 600 segments\n",
      "Number of samples used : 48000\n",
      "[done]\n",
      "Computing rank from covariance with rank=None\n",
      "    Using tolerance 1.1e-13 (2.2e-16 eps * 64 dim * 7.9  max singular value)\n",
      "    Estimated rank (eeg): 56\n",
      "    EEG: rank 56 computed from 64 data channels with 1 projector\n",
      "2 projection items activated\n",
      "    EEG regularization : 0.1\n",
      "    Created an SSP operator (subspace dimension = 1)\n",
      "Computing rank from covariance with rank={'eeg': 56}\n",
      "    Setting small EEG eigenvalues to zero (without PCA)\n",
      "Using up to 600 segments\n",
      "Number of samples used : 48000\n",
      "[done]\n",
      "Computing rank from covariance with rank=None\n",
      "    Using tolerance 4.6e-13 (2.2e-16 eps * 64 dim * 32  max singular value)\n",
      "    Estimated rank (eeg): 54\n",
      "    EEG: rank 54 computed from 64 data channels with 1 projector\n",
      "2 projection items activated\n",
      "    EEG regularization : 0.1\n",
      "    Created an SSP operator (subspace dimension = 1)\n",
      "Computing rank from covariance with rank={'eeg': 54}\n",
      "    Setting small EEG eigenvalues to zero (without PCA)\n",
      "Using up to 600 segments\n",
      "Number of samples used : 48000\n",
      "[done]\n",
      "Computing rank from covariance with rank=None\n",
      "    Using tolerance 1.6e-13 (2.2e-16 eps * 64 dim * 12  max singular value)\n",
      "    Estimated rank (eeg): 59\n",
      "    EEG: rank 59 computed from 64 data channels with 1 projector\n",
      "2 projection items activated\n",
      "    EEG regularization : 0.1\n",
      "    Created an SSP operator (subspace dimension = 1)\n",
      "Computing rank from covariance with rank={'eeg': 59}\n",
      "    Setting small EEG eigenvalues to zero (without PCA)\n",
      "Using up to 600 segments\n",
      "Number of samples used : 48000\n",
      "[done]\n",
      "Computing rank from covariance with rank=None\n",
      "    Using tolerance 1.6e-13 (2.2e-16 eps * 64 dim * 12  max singular value)\n",
      "    Estimated rank (eeg): 59\n",
      "    EEG: rank 59 computed from 64 data channels with 1 projector\n",
      "2 projection items activated\n",
      "    EEG regularization : 0.1\n",
      "    Created an SSP operator (subspace dimension = 1)\n",
      "Computing rank from covariance with rank={'eeg': 59}\n",
      "    Setting small EEG eigenvalues to zero (without PCA)\n",
      "Using up to 600 segments\n",
      "Number of samples used : 48000\n",
      "[done]\n",
      "Computing rank from covariance with rank=None\n",
      "    Using tolerance 4.5e-12 (2.2e-16 eps * 64 dim * 3.1e+02  max singular value)\n",
      "    Estimated rank (eeg): 60\n",
      "    EEG: rank 60 computed from 64 data channels with 1 projector\n",
      "2 projection items activated\n",
      "    EEG regularization : 0.1\n",
      "    Created an SSP operator (subspace dimension = 1)\n",
      "Computing rank from covariance with rank={'eeg': 60}\n",
      "    Setting small EEG eigenvalues to zero (without PCA)\n",
      "Using up to 600 segments\n",
      "Number of samples used : 48000\n",
      "[done]\n",
      "Computing rank from covariance with rank=None\n",
      "    Using tolerance 1e-13 (2.2e-16 eps * 64 dim * 7  max singular value)\n",
      "    Estimated rank (eeg): 59\n",
      "    EEG: rank 59 computed from 64 data channels with 1 projector\n",
      "2 projection items activated\n",
      "    EEG regularization : 0.1\n",
      "    Created an SSP operator (subspace dimension = 1)\n",
      "Computing rank from covariance with rank={'eeg': 59}\n",
      "    Setting small EEG eigenvalues to zero (without PCA)\n",
      "Using up to 600 segments\n",
      "Number of samples used : 48000\n",
      "[done]\n",
      "Computing rank from covariance with rank=None\n",
      "    Using tolerance 1.1e-13 (2.2e-16 eps * 64 dim * 8.1  max singular value)\n",
      "    Estimated rank (eeg): 59\n",
      "    EEG: rank 59 computed from 64 data channels with 1 projector\n",
      "2 projection items activated\n",
      "    EEG regularization : 0.1\n",
      "    Created an SSP operator (subspace dimension = 1)\n",
      "Computing rank from covariance with rank={'eeg': 59}\n",
      "    Setting small EEG eigenvalues to zero (without PCA)\n",
      "Using up to 600 segments\n",
      "Number of samples used : 48000\n",
      "[done]\n",
      "Computing rank from covariance with rank=None\n",
      "    Using tolerance 3.8e-10 (2.2e-16 eps * 64 dim * 2.6e+04  max singular value)\n",
      "    Estimated rank (eeg): 59\n",
      "    EEG: rank 59 computed from 64 data channels with 1 projector\n",
      "2 projection items activated\n",
      "    EEG regularization : 0.1\n",
      "    Created an SSP operator (subspace dimension = 1)\n",
      "Computing rank from covariance with rank={'eeg': 59}\n",
      "    Setting small EEG eigenvalues to zero (without PCA)\n",
      "Using up to 600 segments\n",
      "Number of samples used : 48000\n",
      "[done]\n",
      "Computing rank from covariance with rank=None\n",
      "    Using tolerance 2.1e-13 (2.2e-16 eps * 64 dim * 15  max singular value)\n",
      "    Estimated rank (eeg): 60\n",
      "    EEG: rank 60 computed from 64 data channels with 1 projector\n",
      "2 projection items activated\n",
      "    EEG regularization : 0.1\n",
      "    Created an SSP operator (subspace dimension = 1)\n",
      "Computing rank from covariance with rank={'eeg': 60}\n",
      "    Setting small EEG eigenvalues to zero (without PCA)\n",
      "Using up to 600 segments\n",
      "Number of samples used : 48000\n",
      "[done]\n",
      "Computing rank from covariance with rank=None\n",
      "    Using tolerance 1.9e-13 (2.2e-16 eps * 64 dim * 13  max singular value)\n",
      "    Estimated rank (eeg): 59\n",
      "    EEG: rank 59 computed from 64 data channels with 1 projector\n",
      "2 projection items activated\n",
      "    EEG regularization : 0.1\n",
      "    Created an SSP operator (subspace dimension = 1)\n",
      "Computing rank from covariance with rank={'eeg': 59}\n",
      "    Setting small EEG eigenvalues to zero (without PCA)\n",
      "Using up to 600 segments\n",
      "Number of samples used : 48000\n",
      "[done]\n",
      "Computing rank from covariance with rank=None\n",
      "    Using tolerance 5.1e-12 (2.2e-16 eps * 64 dim * 3.6e+02  max singular value)\n",
      "    Estimated rank (eeg): 58\n",
      "    EEG: rank 58 computed from 64 data channels with 1 projector\n",
      "2 projection items activated\n",
      "    EEG regularization : 0.1\n",
      "    Created an SSP operator (subspace dimension = 1)\n",
      "Computing rank from covariance with rank={'eeg': 58}\n",
      "    Setting small EEG eigenvalues to zero (without PCA)\n",
      "Using up to 600 segments\n",
      "Number of samples used : 48000\n",
      "[done]\n",
      "Computing rank from covariance with rank=None\n",
      "    Using tolerance 2.6e-09 (2.2e-16 eps * 64 dim * 1.9e+05  max singular value)\n",
      "    Estimated rank (eeg): 58\n",
      "    EEG: rank 58 computed from 64 data channels with 1 projector\n",
      "2 projection items activated\n",
      "    EEG regularization : 0.1\n",
      "    Created an SSP operator (subspace dimension = 1)\n",
      "Computing rank from covariance with rank={'eeg': 58}\n",
      "    Setting small EEG eigenvalues to zero (without PCA)\n",
      "Using up to 600 segments\n",
      "Number of samples used : 48000\n",
      "[done]\n",
      "Computing rank from covariance with rank=None\n",
      "    Using tolerance 2e-13 (2.2e-16 eps * 64 dim * 14  max singular value)\n",
      "    Estimated rank (eeg): 59\n",
      "    EEG: rank 59 computed from 64 data channels with 1 projector\n",
      "2 projection items activated\n",
      "    EEG regularization : 0.1\n",
      "    Created an SSP operator (subspace dimension = 1)\n",
      "Computing rank from covariance with rank={'eeg': 59}\n",
      "    Setting small EEG eigenvalues to zero (without PCA)\n",
      "setting custom montage...\n",
      "<DigMontage | 0 extras (headshape), 0 HPIs, 3 fiducials, 64 channels>\n"
     ]
    },
    {
     "name": "stderr",
     "output_type": "stream",
     "text": [
      "/home/wanglab/Documents/George Kenefati/Code/eeg_toolkit/eeg_toolkit/source_localization.py:55: FutureWarning: The current default of copy=False will change to copy=True in 1.7. Set the value of copy explicitly to avoid this warning\n",
      "  data_epochs = epochs.get_data()\n",
      "/home/wanglab/Documents/George Kenefati/Code/eeg_toolkit/eeg_toolkit/source_localization.py:57: FutureWarning: The current default of copy=False will change to copy=True in 1.7. Set the value of copy explicitly to avoid this warning\n",
      "  base_data = epochs.get_data(tmin=tmin, tmax=0.0)\n"
     ]
    },
    {
     "name": "stdout",
     "output_type": "stream",
     "text": [
      "Source space          : /home/wanglab/mne_data/MNE-fsaverage-data/fsaverage/bem/fsaverage-ico-5-src.fif\n",
      "MRI -> head transform : /home/wanglab/mambaforge/envs/mne/lib/python3.11/site-packages/mne/data/fsaverage/fsaverage-trans.fif\n",
      "Measurement data      : instance of Info\n",
      "Conductor model   : /home/wanglab/mne_data/MNE-fsaverage-data/fsaverage/bem/fsaverage-5120-5120-5120-bem-sol.fif\n",
      "Accurate field computations\n",
      "Do computations in head coordinates\n",
      "Free source orientations\n",
      "\n",
      "Reading /home/wanglab/mne_data/MNE-fsaverage-data/fsaverage/bem/fsaverage-ico-5-src.fif...\n",
      "Read 2 source spaces a total of 20484 active source locations\n",
      "\n",
      "Coordinate transformation: MRI (surface RAS) -> head\n",
      "     0.999994  0.003552  0.000202      -1.76 mm\n",
      "    -0.003558  0.998389  0.056626      31.09 mm\n",
      "    -0.000001 -0.056626  0.998395      39.60 mm\n",
      "     0.000000  0.000000  0.000000       1.00\n",
      "\n",
      "Read  64 EEG channels from info\n",
      "Head coordinate coil definitions created.\n",
      "Source spaces are now in head coordinates.\n",
      "\n",
      "Setting up the BEM model using /home/wanglab/mne_data/MNE-fsaverage-data/fsaverage/bem/fsaverage-5120-5120-5120-bem-sol.fif...\n",
      "\n",
      "Loading surfaces...\n",
      "\n",
      "Loading the solution matrix...\n",
      "\n",
      "Three-layer model surfaces loaded.\n",
      "Loaded linear collocation BEM solution from /home/wanglab/mne_data/MNE-fsaverage-data/fsaverage/bem/fsaverage-5120-5120-5120-bem-sol.fif\n",
      "Employing the head->MRI coordinate transform with the BEM model.\n",
      "BEM model fsaverage-5120-5120-5120-bem-sol.fif is now set up\n",
      "\n",
      "Source spaces are in head coordinates.\n",
      "Checking that the sources are inside the surface (will take a few...)\n",
      "Checking surface interior status for 10242 points...\n",
      "    Found  2433/10242 points inside  an interior sphere of radius   47.7 mm\n",
      "    Found     0/10242 points outside an exterior sphere of radius   98.3 mm\n",
      "    Found     0/ 7809 points outside using surface Qhull\n"
     ]
    },
    {
     "name": "stderr",
     "output_type": "stream",
     "text": [
      "[Parallel(n_jobs=-1)]: Using backend LokyBackend with 8 concurrent workers.\n",
      "[Parallel(n_jobs=-1)]: Done   3 out of   8 | elapsed:   12.1s remaining:   20.2s\n",
      "[Parallel(n_jobs=-1)]: Done   5 out of   8 | elapsed:   12.4s remaining:    7.4s\n"
     ]
    },
    {
     "name": "stdout",
     "output_type": "stream",
     "text": [
      "    Found     0/ 7809 points outside using solid angles\n",
      "    Total 10242/10242 points inside the surface\n",
      "Interior check completed in 13036.6 ms\n",
      "Checking surface interior status for 10242 points...\n",
      "    Found  2241/10242 points inside  an interior sphere of radius   47.7 mm\n",
      "    Found     0/10242 points outside an exterior sphere of radius   98.3 mm\n",
      "    Found     0/ 8001 points outside using surface Qhull\n"
     ]
    },
    {
     "name": "stderr",
     "output_type": "stream",
     "text": [
      "[Parallel(n_jobs=-1)]: Done   8 out of   8 | elapsed:   13.0s finished\n",
      "[Parallel(n_jobs=-1)]: Using backend LokyBackend with 8 concurrent workers.\n"
     ]
    },
    {
     "name": "stdout",
     "output_type": "stream",
     "text": [
      "    Found     0/ 8001 points outside using solid angles\n",
      "    Total 10242/10242 points inside the surface\n",
      "Interior check completed in 1374.7 ms\n",
      "\n"
     ]
    },
    {
     "name": "stderr",
     "output_type": "stream",
     "text": [
      "[Parallel(n_jobs=-1)]: Done   3 out of   8 | elapsed:    1.2s remaining:    2.1s\n",
      "[Parallel(n_jobs=-1)]: Done   5 out of   8 | elapsed:    1.3s remaining:    0.8s\n",
      "[Parallel(n_jobs=-1)]: Done   8 out of   8 | elapsed:    1.4s finished\n"
     ]
    },
    {
     "name": "stdout",
     "output_type": "stream",
     "text": [
      "Setting up for EEG...\n",
      "Computing EEG at 20484 source locations (free orientations)...\n"
     ]
    },
    {
     "name": "stderr",
     "output_type": "stream",
     "text": [
      "[Parallel(n_jobs=-1)]: Using backend LokyBackend with 8 concurrent workers.\n"
     ]
    }
   ],
   "source": [
    "nan_subjects=[]\n",
    "for sub_id in sub_ids:  \n",
    "    # Check if eyes open or eyes closed need to be computed\n",
    "    EC_bool = False if sub_id in no_eyes_open else True\n",
    "    EO_bool = False if sub_id in no_eyes_closed else True\n",
    "    \n",
    "    # Compute source localization for subject and save \n",
    "    label_ts_All_Conds, sub_id_if_nan = source_localization.to_source(sub_id,\n",
    "                                                                      data_path,\n",
    "                                                                        zscored_epochs_save_path,\n",
    "                                                                        EC_resting_save_path,\n",
    "                                                                        EO_resting_save_path,\n",
    "                                                                        roi_names,\n",
    "                                                                        times_tup,\n",
    "                                                                        return_zepochs=True,\n",
    "                                                                        return_EC_resting= False, #EC_bool,\n",
    "                                                                        return_EO_resting= False, #EO_bool,\n",
    "                                                                        average_dipoles=True,\n",
    "                                                                        )\n",
    "    # If sub_id(str) output, append to nan_subjects\n",
    "    if sub_id_if_nan is not None:\n",
    "        nan_subjects.append(sub_id_if_nan)"
   ]
  },
  {
   "cell_type": "markdown",
   "id": "3b646755",
   "metadata": {},
   "source": [
    "### Assess results"
   ]
  },
  {
   "cell_type": "code",
   "execution_count": null,
   "id": "9268a1aa",
   "metadata": {},
   "outputs": [],
   "source": [
    "label_ts_All_Conds"
   ]
  },
  {
   "cell_type": "code",
   "execution_count": null,
   "id": "83c740ac",
   "metadata": {},
   "outputs": [],
   "source": [
    "nan_subjects"
   ]
  },
  {
   "cell_type": "code",
   "execution_count": null,
   "id": "206212ea",
   "metadata": {},
   "outputs": [],
   "source": []
  }
 ],
 "metadata": {
  "kernelspec": {
   "display_name": "Python 3",
   "language": "python",
   "name": "python3"
  },
  "language_info": {
   "codemirror_mode": {
    "name": "ipython",
    "version": 3
   },
   "file_extension": ".py",
   "mimetype": "text/x-python",
   "name": "python",
   "nbconvert_exporter": "python",
   "pygments_lexer": "ipython3",
   "version": "3.11.6"
  }
 },
 "nbformat": 4,
 "nbformat_minor": 5
}
