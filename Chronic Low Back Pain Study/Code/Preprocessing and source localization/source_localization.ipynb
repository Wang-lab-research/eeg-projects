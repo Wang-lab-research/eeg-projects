{
 "cells": [
  {
   "cell_type": "markdown",
   "id": "2947c985-edb4-4e37-ac38-e2abc335d541",
   "metadata": {
    "tags": []
   },
   "source": [
    "## Compute source time course (STC) from Raw and Epochs data object\n",
    "#### Input: *_preprocessed-raw.fif, -epo.fif\n",
    "####  Output: *.stc"
   ]
  },
  {
   "cell_type": "code",
   "execution_count": 5,
   "id": "93bc0409-9fd5-479d-8dde-25a747c13efe",
   "metadata": {
    "scrolled": true,
    "tags": []
   },
   "outputs": [
    {
     "name": "stdout",
     "output_type": "stream",
     "text": [
      "Channels:\n",
      " - defaults\n",
      " - conda-forge\n",
      "Platform: linux-64\n",
      "Collecting package metadata (repodata.json): done\n",
      "Solving environment: done\n",
      "\n",
      "## Package Plan ##\n",
      "\n",
      "  environment location: /home/sb10flpc002/anaconda3/envs/mne\n",
      "\n",
      "  added / updated specs:\n",
      "    - autoreject\n",
      "\n",
      "\n",
      "The following packages will be downloaded:\n",
      "\n",
      "    package                    |            build\n",
      "    ---------------------------|-----------------\n",
      "    autoreject-0.4.3           |     pyhd8ed1ab_0          31 KB  conda-forge\n",
      "    ------------------------------------------------------------\n",
      "                                           Total:          31 KB\n",
      "\n",
      "The following NEW packages will be INSTALLED:\n",
      "\n",
      "  autoreject         conda-forge/noarch::autoreject-0.4.3-pyhd8ed1ab_0 \n",
      "\n",
      "\n",
      "\n",
      "Downloading and Extracting Packages:\n",
      "                                                                                \n",
      "Preparing transaction: done\n",
      "Verifying transaction: done\n",
      "Executing transaction: done\n",
      "\n",
      "Note: you may need to restart the kernel to use updated packages.\n"
     ]
    },
    {
     "ename": "ModuleNotFoundError",
     "evalue": "No module named 'openpyxl'",
     "output_type": "error",
     "traceback": [
      "\u001b[0;31m---------------------------------------------------------------------------\u001b[0m",
      "\u001b[0;31mModuleNotFoundError\u001b[0m                       Traceback (most recent call last)",
      "Cell \u001b[0;32mIn[5], line 8\u001b[0m\n\u001b[1;32m      6\u001b[0m get_ipython()\u001b[38;5;241m.\u001b[39mrun_line_magic(\u001b[38;5;124m'\u001b[39m\u001b[38;5;124mconda\u001b[39m\u001b[38;5;124m'\u001b[39m, \u001b[38;5;124m'\u001b[39m\u001b[38;5;124minstall autoreject -y\u001b[39m\u001b[38;5;124m'\u001b[39m)\n\u001b[1;32m      7\u001b[0m \u001b[38;5;28;01mimport\u001b[39;00m \u001b[38;5;21;01meeg_toolkit\u001b[39;00m\n\u001b[0;32m----> 8\u001b[0m \u001b[38;5;28;01mfrom\u001b[39;00m \u001b[38;5;21;01meeg_toolkit\u001b[39;00m \u001b[38;5;28;01mimport\u001b[39;00m utils, preprocess, source_localization\n",
      "File \u001b[0;32m/media/sb10flpc002/08e63286-43ce-4f61-9491-1ed048c96f20/Rachel Wu/eeg-projects/Code/eeg_toolkit/eeg_toolkit/preprocess.py:208\u001b[0m\n\u001b[1;32m    206\u001b[0m \u001b[38;5;28;01mimport\u001b[39;00m \u001b[38;5;21;01mscipy\u001b[39;00m\u001b[38;5;21;01m.\u001b[39;00m\u001b[38;5;21;01mio\u001b[39;00m \u001b[38;5;28;01mas\u001b[39;00m \u001b[38;5;21;01mscio\u001b[39;00m\n\u001b[1;32m    207\u001b[0m \u001b[38;5;28;01mimport\u001b[39;00m \u001b[38;5;21;01mre\u001b[39;00m\n\u001b[0;32m--> 208\u001b[0m \u001b[38;5;28;01mimport\u001b[39;00m \u001b[38;5;21;01mopenpyxl\u001b[39;00m\n\u001b[1;32m    210\u001b[0m \u001b[38;5;28;01mdef\u001b[39;00m \u001b[38;5;21mto_epo\u001b[39m(raw, sub_id, data_path, save_path):  \n\u001b[1;32m    211\u001b[0m \u001b[38;5;250m    \u001b[39m\u001b[38;5;124;03m\"\"\"  \u001b[39;00m\n\u001b[1;32m    212\u001b[0m \u001b[38;5;124;03m    Preprocess the cleaned -raw.fif to epoched -epo.fif.  \u001b[39;00m\n\u001b[1;32m    213\u001b[0m \u001b[38;5;124;03m    Removes noisy trials and trials with movement artifact.\u001b[39;00m\n\u001b[1;32m    214\u001b[0m \u001b[38;5;124;03m    raw: gets raw from to_raw()\u001b[39;00m\n\u001b[1;32m    215\u001b[0m \u001b[38;5;124;03m    save_path: save processed epoch info as .mat files\u001b[39;00m\n\u001b[1;32m    216\u001b[0m \u001b[38;5;124;03m    \"\"\"\u001b[39;00m  \n",
      "\u001b[0;31mModuleNotFoundError\u001b[0m: No module named 'openpyxl'"
     ]
    }
   ],
   "source": [
    "import os\n",
    "from pathlib import Path\n",
    "import mne\n",
    "import numpy as np\n",
    "import scipy.io as sio\n",
    "import sys\n",
<<<<<<< HEAD
    "sys.path.append('/home/wanglab/Documents/George Kenefati/Code/eeg_toolkit/')\n",
    "from eeg_toolkit import preprocess, utils, source_localization"
=======
    "#sys.path.append('/home/wanglab/Documents/George Kenefati/Code/eeg_toolkit/')\n",
    "sys.path.append('/media/sb10flpc002/08e63286-43ce-4f61-9491-1ed048c96f20/Rachel Wu/eeg-projects/Code/eeg_toolkit/')\n",
    "import os\n",
    "import mne\n",
    "%conda install autoreject -y\n",
    "import eeg_toolkit\n",
    "from eeg_toolkit import utils, preprocess, source_localization"
>>>>>>> rachel-branch
   ]
  },
  {
   "cell_type": "code",
   "execution_count": 5,
   "id": "842b367f-9d3c-4436-868f-6fb7ffe7b719",
   "metadata": {},
   "outputs": [
    {
     "name": "stdout",
     "output_type": "stream",
     "text": [
      "[-2.5,0.0,2.5]\n"
     ]
    }
   ],
   "source": [
    "# Settings\n",
    "times_tup,time_win_path = preprocess.get_time_window(5)\n",
    "\n",
    "# Read in processed raw data\n",
    "data_dir = Path(\"../../../Data\")\n",
    "data_path = data_dir / 'Processed Data/'\n",
    "epo_path = data_dir / 'Data/Processed Data/' + time_win_path\n",
    "EC_resting_save_path = data_dir / \"STC_EC_resting\"\n",
    "EO_resting_save_path = data_dir / \"STC_EO_resting\"\n",
    "Z_scored_epochs_save_path = data_dir / \"STC_Z_scored_Epochs\"\n",
    "save_paths = [EC_resting_save_path,EO_resting_save_path,Z_scored_epochs_save_path] \n",
    "# TODO: add eye timestamps\n",
    "\n",
    "# Create save paths\n",
    "[os.makedirs(path) for path in save_paths if not os.path.exists(path)]\n",
    "\n",
    "# Noise cov: crop raw during eyes-open resting condition\n",
    "noise_cov_win = 5.5, 7.5 # rest_min, rest_max"
   ]
  },
  {
   "cell_type": "code",
   "execution_count": 8,
   "id": "6525eacb-e00a-4c11-aad8-c3086d8b6a48",
   "metadata": {},
   "outputs": [
    {
     "name": "stdout",
     "output_type": "stream",
     "text": [
      "['018', '020', '021', '022', '023', '024', '027', '029', '030', '031', '032', '033', '034', '035', '036', '037', '038', '039', '040', '041', '042', '043', '044', '045', '046', '048', '049', '050', '051', '052', '053', '054', '055', '056', '057', '058', 'C1.', 'C2.', 'C3.', 'C5.', 'C6.', 'C7.', 'C8.', 'C9.', 'C10', 'C11', 'C12', 'C13', 'C14', 'C15', 'C16', 'C17', 'C18', 'C19', 'C20', 'C21', 'C22', 'C24', 'C25', 'C26', 'C27']\n"
     ]
    }
   ],
   "source": [
    "# viable subjects\n",
    "sub_ids = utils.import_subs(os.path.join(data_path,os.pardir),'sub_ids.txt')\n",
    "# select only 64ch subs and turn into set\n",
    "sub_ids = sub_ids[7:]\n",
    "print(sub_ids)"
   ]
  },
  {
   "cell_type": "code",
   "execution_count": 9,
   "id": "7c3a8fdb-dbfa-42b6-907d-88061fab5ea5",
   "metadata": {},
   "outputs": [
    {
     "name": "stdout",
     "output_type": "stream",
     "text": [
      "Chronics: 36\n",
      "Controls: 25\n",
      "Total: 61\n"
     ]
    }
   ],
   "source": [
    "print(f\"Chronics: {len([el for el in sub_ids if el.startswith('0')])}\")\n",
    "print(f\"Controls: {len([el for el in sub_ids if el.startswith('C')])}\")\n",
    "print(f\"Total: {len(sub_ids)}\")"
   ]
  },
  {
   "cell_type": "code",
   "execution_count": 10,
   "id": "168d00bf-c009-4143-a71d-c7c200ba148b",
   "metadata": {
    "tags": []
   },
   "outputs": [],
   "source": [
    "# Get stc only from selected labels\n",
    "roi_names = [# Left\n",
    "             'rostralanteriorcingulate-lh', # Left Rostral ACC\n",
    "             'caudalanteriorcingulate-lh', # Left Caudal ACC\n",
    "             'postcentral-lh', # Left S1,\n",
    "             'insula-lh', 'superiorfrontal-lh', # Left Insula, Left DL-PFC,\n",
    "             'medialorbitofrontal-lh', # Left Medial-OFC\n",
    "             # Right\n",
    "             'rostralanteriorcingulate-rh', # Right Rostral ACC\n",
    "             'caudalanteriorcingulate-rh', # Right Caudal ACC\n",
    "             'postcentral-rh', # , Right S1\n",
    "             'insula-rh', 'superiorfrontal-rh', # Right Insula, Right DL-PFC\n",
    "             'medialorbitofrontal-rh'] # Right Medial-OFC"
   ]
  },
  {
   "cell_type": "code",
   "execution_count": 11,
   "id": "0b27ddca-2548-4884-9d57-42ea6d494d76",
   "metadata": {},
   "outputs": [
    {
     "name": "stdout",
     "output_type": "stream",
     "text": [
      "%%%%%%%%%%%%%%\t11\t!! ZEPOCHS !! medialorbitofrontal-rh\t\t%%%%%%%%%%%%%%\n",
      "\n",
      "C27_preprocessed-epo.fif\n",
      "Preparing the inverse operator for use...\n",
      "    Scaled noise and source covariance from nave = 1 to nave = 1\n",
      "    Created the regularized inverter\n",
      "    Created an SSP operator (subspace dimension = 1)\n",
      "    Created the whitener using a noise covariance matrix with rank 60 (4 small eigenvalues omitted)\n",
      "    Computing noise-normalization factors (dSPM)...\n",
      "[done]\n",
      "Picked 64 channels from the data\n",
      "Computing inverse...\n",
      "    Eigenleads need to be weighted ...\n",
      "Processing epoch : 1 / 52\n",
      "combining the current components...\n",
      "Processing epoch : 2 / 52\n",
      "combining the current components...\n",
      "Processing epoch : 3 / 52\n",
      "combining the current components...\n",
      "Processing epoch : 4 / 52\n",
      "combining the current components...\n",
      "Processing epoch : 5 / 52\n",
      "combining the current components...\n",
      "Processing epoch : 6 / 52\n",
      "combining the current components...\n",
      "Processing epoch : 7 / 52\n",
      "combining the current components...\n",
      "Processing epoch : 8 / 52\n",
      "combining the current components...\n",
      "Processing epoch : 9 / 52\n",
      "combining the current components...\n",
      "Processing epoch : 10 / 52\n",
      "combining the current components...\n",
      "Processing epoch : 11 / 52\n",
      "combining the current components...\n",
      "Processing epoch : 12 / 52\n",
      "combining the current components...\n",
      "Processing epoch : 13 / 52\n",
      "combining the current components...\n",
      "Processing epoch : 14 / 52\n",
      "combining the current components...\n",
      "Processing epoch : 15 / 52\n",
      "combining the current components...\n",
      "Processing epoch : 16 / 52\n",
      "combining the current components...\n",
      "Processing epoch : 17 / 52\n",
      "combining the current components...\n",
      "Processing epoch : 18 / 52\n",
      "combining the current components...\n",
      "Processing epoch : 19 / 52\n",
      "combining the current components...\n",
      "Processing epoch : 20 / 52\n",
      "combining the current components...\n",
      "Processing epoch : 21 / 52\n",
      "combining the current components...\n",
      "Processing epoch : 22 / 52\n",
      "combining the current components...\n",
      "Processing epoch : 23 / 52\n",
      "combining the current components...\n",
      "Processing epoch : 24 / 52\n",
      "combining the current components...\n",
      "Processing epoch : 25 / 52\n",
      "combining the current components...\n",
      "Processing epoch : 26 / 52\n",
      "combining the current components...\n",
      "Processing epoch : 27 / 52\n",
      "combining the current components...\n",
      "Processing epoch : 28 / 52\n",
      "combining the current components...\n",
      "Processing epoch : 29 / 52\n",
      "combining the current components...\n",
      "Processing epoch : 30 / 52\n",
      "combining the current components...\n",
      "Processing epoch : 31 / 52\n",
      "combining the current components...\n",
      "Processing epoch : 32 / 52\n",
      "combining the current components...\n",
      "Processing epoch : 33 / 52\n",
      "combining the current components...\n",
      "Processing epoch : 34 / 52\n",
      "combining the current components...\n",
      "Processing epoch : 35 / 52\n",
      "combining the current components...\n",
      "Processing epoch : 36 / 52\n",
      "combining the current components...\n",
      "Processing epoch : 37 / 52\n",
      "combining the current components...\n",
      "Processing epoch : 38 / 52\n",
      "combining the current components...\n",
      "Processing epoch : 39 / 52\n",
      "combining the current components...\n",
      "Processing epoch : 40 / 52\n",
      "combining the current components...\n",
      "Processing epoch : 41 / 52\n",
      "combining the current components...\n",
      "Processing epoch : 42 / 52\n",
      "combining the current components...\n",
      "Processing epoch : 43 / 52\n",
      "combining the current components...\n",
      "Processing epoch : 44 / 52\n",
      "combining the current components...\n",
      "Processing epoch : 45 / 52\n",
      "combining the current components...\n",
      "Processing epoch : 46 / 52\n",
      "combining the current components...\n",
      "Processing epoch : 47 / 52\n",
      "combining the current components...\n",
      "Processing epoch : 48 / 52\n",
      "combining the current components...\n",
      "Processing epoch : 49 / 52\n",
      "combining the current components...\n",
      "Processing epoch : 50 / 52\n",
      "combining the current components...\n",
      "Processing epoch : 51 / 52\n",
      "combining the current components...\n",
      "Processing epoch : 52 / 52\n",
      "combining the current components...\n",
      "[done]\n",
      "Saving file: medialorbitofrontal_stc_zepo.mat\n"
     ]
    }
   ],
   "source": [
    "for sub_id in sub_ids:\n",
    "    # TODO: add eye timestamps and crop\n",
    "    _ = source_localization.to_source(sub_id,data_path,epo_path,\n",
    "                                  save_path_cont,\n",
    "                                  save_path_zepo,\n",
    "                                  roi_names,\n",
    "                                  times_tup,\n",
    "                                  noise_cov_win,\n",
    "                                  include_zepochs=True,\n",
    "                                  average_dipoles=True)       "
   ]
  },
  {
   "cell_type": "code",
   "execution_count": null,
   "id": "5ff2ca0f-ec76-40da-a67d-a57d3fb7b3c0",
   "metadata": {},
   "outputs": [],
   "source": []
  }
 ],
 "metadata": {
  "kernelspec": {
   "display_name": "Python 3",
   "language": "python",
   "name": "python3"
  },
  "language_info": {
   "codemirror_mode": {
    "name": "ipython",
    "version": 3
   },
   "file_extension": ".py",
   "mimetype": "text/x-python",
   "name": "python",
   "nbconvert_exporter": "python",
   "pygments_lexer": "ipython3",
   "version": "3.11.7"
  }
 },
 "nbformat": 4,
 "nbformat_minor": 5
}
