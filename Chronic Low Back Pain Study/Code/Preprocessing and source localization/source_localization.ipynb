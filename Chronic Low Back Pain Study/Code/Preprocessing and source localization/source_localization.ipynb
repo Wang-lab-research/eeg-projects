{
 "cells": [
  {
   "cell_type": "markdown",
   "id": "2947c985-edb4-4e37-ac38-e2abc335d541",
   "metadata": {
    "tags": []
   },
   "source": [
    "## Compute source time course (STC) from Raw and Epochs data object\n",
    "#### Input: *_preprocessed-raw.fif, -epo.fif\n",
    "####  Output: *.stc"
   ]
  },
  {
   "cell_type": "code",
   "execution_count": 1,
   "id": "93bc0409-9fd5-479d-8dde-25a747c13efe",
   "metadata": {
    "tags": []
   },
   "outputs": [
    {
     "name": "stdout",
     "output_type": "stream",
     "text": [
      "0 files missing from root.txt in /home/wanglab/mne_data/MNE-fsaverage-data\n",
      "0 files missing from bem.txt in /home/wanglab/mne_data/MNE-fsaverage-data/fsaverage\n"
     ]
    }
   ],
   "source": [
    "import os\n",
    "from pathlib import Path\n",
    "import sys\n",
    "sys.path.append('/home/wanglab/Documents/George Kenefati/Code/eeg_toolkit/')\n",
    "from eeg_toolkit import preprocess, utils, source_localization\n",
    "%matplotlib inline"
   ]
  },
  {
   "cell_type": "code",
   "execution_count": 2,
   "id": "842b367f-9d3c-4436-868f-6fb7ffe7b719",
   "metadata": {},
   "outputs": [
    {
     "name": "stdout",
     "output_type": "stream",
     "text": [
      "[-1.5,0.0,1.5]\n"
     ]
    },
    {
     "data": {
      "text/plain": [
       "[None]"
      ]
     },
     "execution_count": 2,
     "metadata": {},
     "output_type": "execute_result"
    }
   ],
   "source": [
    "# Settings\n",
    "times_tup,time_win_path = preprocess.get_time_window(3)\n",
    "\n",
    "# Read in processed raw data\n",
    "data_dir = Path(\"../../Data\")\n",
    "data_path = data_dir / 'Processed Data/'\n",
    "epo_path = data_dir / 'Data/Processed Data/' / time_win_path\n",
    "EC_resting_save_path = data_dir / \"STC_EC_resting\"\n",
    "EO_resting_save_path = data_dir / \"STC_EO_resting\"\n",
    "zscored_epochs_save_path = data_dir / \"STC_zscored_Epochs\" / time_win_path\n",
    "save_paths = [EC_resting_save_path,EO_resting_save_path,zscored_epochs_save_path] \n",
    "\n",
    "# Create save paths\n",
    "[os.makedirs(path) for path in save_paths if not os.path.exists(path)]"
   ]
  },
  {
   "cell_type": "code",
   "execution_count": 3,
   "id": "6525eacb-e00a-4c11-aad8-c3086d8b6a48",
   "metadata": {},
   "outputs": [
    {
     "name": "stdout",
     "output_type": "stream",
     "text": [
      "['018', '020', '021', '022', '023', '024', '027', '029', '030', '031', '032', '033', '034', '035', '036', '037', '038', '039', '040', '041', '042', '043', '044', '045', '046', '048', '049', '050', '051', '052', '053', '054', '055', '056', '057', '058', 'C1.', 'C2.', 'C3.', 'C5.', 'C6.', 'C7.', 'C8.', 'C9.', 'C10', 'C11', 'C12', 'C13', 'C14', 'C15', 'C16', 'C17', 'C18', 'C19', 'C20', 'C21', 'C22', 'C24', 'C25', 'C26', 'C27']\n"
     ]
    }
   ],
   "source": [
    "# viable subjects\n",
    "sub_ids = utils.import_subs(os.path.join(data_path,os.pardir),'sub_ids.txt')\n",
    "# select only 64ch subs and turn into set\n",
    "sub_ids = sub_ids[7:]\n",
    "print(sub_ids)"
   ]
  },
  {
   "cell_type": "code",
   "execution_count": 4,
   "id": "7c3a8fdb-dbfa-42b6-907d-88061fab5ea5",
   "metadata": {},
   "outputs": [
    {
     "name": "stdout",
     "output_type": "stream",
     "text": [
      "Chronics: 36\n",
      "Controls: 25\n",
      "Total: 61\n"
     ]
    }
   ],
   "source": [
    "print(f\"Chronics: {len([el for el in sub_ids if el.startswith('0')])}\")\n",
    "print(f\"Controls: {len([el for el in sub_ids if el.startswith('C')])}\")\n",
    "print(f\"Total: {len(sub_ids)}\")"
   ]
  },
  {
   "cell_type": "code",
   "execution_count": 5,
   "id": "557cfc03",
   "metadata": {},
   "outputs": [],
   "source": [
    "# For edge cases of subjects missing eyes open or eyes closed data\n",
    "no_eyes_open = []\n",
    "no_eyes_closed = []"
   ]
  },
  {
   "cell_type": "code",
   "execution_count": 6,
   "id": "168d00bf-c009-4143-a71d-c7c200ba148b",
   "metadata": {
    "tags": []
   },
   "outputs": [],
   "source": [
    "# Get stc only from selected labels\n",
    "roi_names = [# Left\n",
    "             'rostralanteriorcingulate-lh', # Left Rostral ACC\n",
    "             'caudalanteriorcingulate-lh', # Left Caudal ACC\n",
    "             'postcentral-lh', # Left S1,\n",
    "             'insula-lh', 'superiorfrontal-lh', # Left Insula, Left DL-PFC,\n",
    "             'medialorbitofrontal-lh', # Left Medial-OFC\n",
    "             # Right\n",
    "             'rostralanteriorcingulate-rh', # Right Rostral ACC\n",
    "             'caudalanteriorcingulate-rh', # Right Caudal ACC\n",
    "             'postcentral-rh', # , Right S1\n",
    "             'insula-rh', 'superiorfrontal-rh', # Right Insula, Right DL-PFC\n",
    "             'medialorbitofrontal-rh'] # Right Medial-OFC"
   ]
  },
  {
   "cell_type": "code",
   "execution_count": 7,
   "id": "80ffacc1",
   "metadata": {},
   "outputs": [
    {
     "name": "stdout",
     "output_type": "stream",
     "text": [
      "Converting forward solution to surface orientation\n",
      "    No patch info available. The standard source space normals will be employed in the rotation to the local surface coordinates....\n",
      "    Converting to surface-based source orientations...\n",
      "    [done]\n",
      "Computing inverse operator with 64 channels.\n",
      "    64 out of 64 channels remain after picking\n",
      "Selected 64 channels\n",
      "Creating the depth weighting matrix...\n",
      "    64 EEG channels\n",
      "    limit = 20485/20484 = 2.207463\n",
      "    scale = 125765 exp = 0.8\n",
      "Applying loose dipole orientations to surface source spaces: 0.2\n",
      "Whitening the forward solution.\n",
      "    Created an SSP operator (subspace dimension = 1)\n",
      "Computing rank from covariance with rank=None\n",
      "    Using tolerance 6.1e-13 (2.2e-16 eps * 64 dim * 43  max singular value)\n",
      "    Estimated rank (eeg): 58\n",
      "    EEG: rank 58 computed from 64 data channels with 1 projector\n",
      "    Setting small EEG eigenvalues to zero (without PCA)\n",
      "Creating the source covariance matrix\n",
      "Adjusting source covariance matrix.\n",
      "Computing SVD of whitened and weighted lead field matrix.\n",
      "    largest singular value = 3.20518\n",
      "    scaling factor to adjust the trace = 1.01487e+19 (nchan = 64 nzero = 6)\n",
      "Applying inverse to Epochs object\n",
      "Preparing the inverse operator for use...\n",
      "    Scaled noise and source covariance from nave = 1 to nave = 1\n",
      "    Created the regularized inverter\n",
      "    Created an SSP operator (subspace dimension = 1)\n",
      "    Created the whitener using a noise covariance matrix with rank 58 (6 small eigenvalues omitted)\n",
      "    Computing noise-normalization factors (dSPM)...\n",
      "[done]\n",
      "Picked 64 channels from the data\n",
      "Computing inverse...\n",
      "    Eigenleads need to be weighted ...\n",
      "Processing epoch : 1 / 73\n",
      "combining the current components...\n",
      "Processing epoch : 2 / 73\n",
      "combining the current components...\n",
      "Processing epoch : 3 / 73\n",
      "combining the current components...\n",
      "Processing epoch : 4 / 73\n",
      "combining the current components...\n",
      "Processing epoch : 5 / 73\n",
      "combining the current components...\n",
      "Processing epoch : 6 / 73\n",
      "combining the current components...\n",
      "Processing epoch : 7 / 73\n",
      "combining the current components...\n",
      "Processing epoch : 8 / 73\n",
      "combining the current components...\n",
      "Processing epoch : 9 / 73\n",
      "combining the current components...\n",
      "Processing epoch : 10 / 73\n",
      "combining the current components...\n",
      "Processing epoch : 11 / 73\n",
      "combining the current components...\n",
      "Processing epoch : 12 / 73\n",
      "combining the current components...\n",
      "Processing epoch : 13 / 73\n",
      "combining the current components...\n",
      "Processing epoch : 14 / 73\n",
      "combining the current components...\n",
      "Processing epoch : 15 / 73\n",
      "combining the current components...\n",
      "Processing epoch : 16 / 73\n",
      "combining the current components...\n",
      "Processing epoch : 17 / 73\n",
      "combining the current components...\n",
      "Processing epoch : 18 / 73\n",
      "combining the current components...\n",
      "Processing epoch : 19 / 73\n",
      "combining the current components...\n",
      "Processing epoch : 20 / 73\n",
      "combining the current components...\n",
      "Processing epoch : 21 / 73\n",
      "combining the current components...\n",
      "Processing epoch : 22 / 73\n",
      "combining the current components...\n",
      "Processing epoch : 23 / 73\n",
      "combining the current components...\n",
      "Processing epoch : 24 / 73\n",
      "combining the current components...\n",
      "Processing epoch : 25 / 73\n",
      "combining the current components...\n",
      "Processing epoch : 26 / 73\n",
      "combining the current components...\n",
      "Processing epoch : 27 / 73\n",
      "combining the current components...\n",
      "Processing epoch : 28 / 73\n",
      "combining the current components...\n",
      "Processing epoch : 29 / 73\n",
      "combining the current components...\n",
      "Processing epoch : 30 / 73\n",
      "combining the current components...\n",
      "Processing epoch : 31 / 73\n",
      "combining the current components...\n",
      "Processing epoch : 32 / 73\n",
      "combining the current components...\n",
      "Processing epoch : 33 / 73\n",
      "combining the current components...\n",
      "Processing epoch : 34 / 73\n",
      "combining the current components...\n",
      "Processing epoch : 35 / 73\n",
      "combining the current components...\n",
      "Processing epoch : 36 / 73\n",
      "combining the current components...\n",
      "Processing epoch : 37 / 73\n",
      "combining the current components...\n",
      "Processing epoch : 38 / 73\n",
      "combining the current components...\n",
      "Processing epoch : 39 / 73\n",
      "combining the current components...\n",
      "Processing epoch : 40 / 73\n",
      "combining the current components...\n",
      "Processing epoch : 41 / 73\n",
      "combining the current components...\n",
      "Processing epoch : 42 / 73\n",
      "combining the current components...\n",
      "Processing epoch : 43 / 73\n",
      "combining the current components...\n",
      "Processing epoch : 44 / 73\n",
      "combining the current components...\n",
      "Processing epoch : 45 / 73\n",
      "combining the current components...\n",
      "Processing epoch : 46 / 73\n",
      "combining the current components...\n",
      "Processing epoch : 47 / 73\n",
      "combining the current components...\n",
      "Processing epoch : 48 / 73\n",
      "combining the current components...\n",
      "Processing epoch : 49 / 73\n",
      "combining the current components...\n",
      "Processing epoch : 50 / 73\n",
      "combining the current components...\n",
      "Processing epoch : 51 / 73\n",
      "combining the current components...\n",
      "Processing epoch : 52 / 73\n",
      "combining the current components...\n",
      "Processing epoch : 53 / 73\n",
      "combining the current components...\n",
      "Processing epoch : 54 / 73\n",
      "combining the current components...\n",
      "Processing epoch : 55 / 73\n",
      "combining the current components...\n",
      "Processing epoch : 56 / 73\n",
      "combining the current components...\n",
      "Processing epoch : 57 / 73\n",
      "combining the current components...\n",
      "Processing epoch : 58 / 73\n",
      "combining the current components...\n",
      "Processing epoch : 59 / 73\n",
      "combining the current components...\n",
      "Processing epoch : 60 / 73\n",
      "combining the current components...\n",
      "Processing epoch : 61 / 73\n",
      "combining the current components...\n",
      "Processing epoch : 62 / 73\n",
      "combining the current components...\n",
      "Processing epoch : 63 / 73\n",
      "combining the current components...\n",
      "Processing epoch : 64 / 73\n",
      "combining the current components...\n",
      "Processing epoch : 65 / 73\n",
      "combining the current components...\n",
      "Processing epoch : 66 / 73\n",
      "combining the current components...\n",
      "Processing epoch : 67 / 73\n",
      "combining the current components...\n",
      "Processing epoch : 68 / 73\n",
      "combining the current components...\n",
      "Processing epoch : 69 / 73\n",
      "combining the current components...\n",
      "Processing epoch : 70 / 73\n",
      "combining the current components...\n",
      "Processing epoch : 71 / 73\n",
      "combining the current components...\n",
      "Processing epoch : 72 / 73\n",
      "combining the current components...\n",
      "Processing epoch : 73 / 73\n",
      "combining the current components...\n",
      "[done]\n",
      "Saving 018 epochs\n"
     ]
    },
    {
     "ename": "ValueError",
     "evalue": "label_ts contains nan",
     "output_type": "error",
     "traceback": [
      "\u001b[0;31m---------------------------------------------------------------------------\u001b[0m",
      "\u001b[0;31mValueError\u001b[0m                                Traceback (most recent call last)",
      "Cell \u001b[0;32mIn[7], line 4\u001b[0m\n\u001b[1;32m      2\u001b[0m EC_bool \u001b[38;5;241m=\u001b[39m \u001b[38;5;28;01mFalse\u001b[39;00m \u001b[38;5;28;01mif\u001b[39;00m sub_id \u001b[38;5;129;01min\u001b[39;00m no_eyes_open \u001b[38;5;28;01melse\u001b[39;00m \u001b[38;5;28;01mTrue\u001b[39;00m\n\u001b[1;32m      3\u001b[0m EO_bool \u001b[38;5;241m=\u001b[39m \u001b[38;5;28;01mFalse\u001b[39;00m \u001b[38;5;28;01mif\u001b[39;00m sub_id \u001b[38;5;129;01min\u001b[39;00m no_eyes_closed \u001b[38;5;28;01melse\u001b[39;00m \u001b[38;5;28;01mTrue\u001b[39;00m\n\u001b[0;32m----> 4\u001b[0m _ \u001b[38;5;241m=\u001b[39m \u001b[43msource_localization\u001b[49m\u001b[38;5;241;43m.\u001b[39;49m\u001b[43mto_source\u001b[49m\u001b[43m(\u001b[49m\u001b[43msub_id\u001b[49m\u001b[43m,\u001b[49m\u001b[43mdata_path\u001b[49m\u001b[43m,\u001b[49m\n\u001b[1;32m      5\u001b[0m \u001b[43m                                  \u001b[49m\u001b[43mzscored_epochs_save_path\u001b[49m\u001b[43m,\u001b[49m\n\u001b[1;32m      6\u001b[0m \u001b[43m                                  \u001b[49m\u001b[43mEC_resting_save_path\u001b[49m\u001b[43m,\u001b[49m\n\u001b[1;32m      7\u001b[0m \u001b[43m                                  \u001b[49m\u001b[43mEO_resting_save_path\u001b[49m\u001b[43m,\u001b[49m\n\u001b[1;32m      8\u001b[0m \u001b[43m                                  \u001b[49m\u001b[43mroi_names\u001b[49m\u001b[43m,\u001b[49m\n\u001b[1;32m      9\u001b[0m \u001b[43m                                  \u001b[49m\u001b[43mtimes_tup\u001b[49m\u001b[43m,\u001b[49m\n\u001b[1;32m     10\u001b[0m \u001b[43m                                  \u001b[49m\u001b[43mreturn_zepochs\u001b[49m\u001b[38;5;241;43m=\u001b[39;49m\u001b[38;5;28;43;01mTrue\u001b[39;49;00m\u001b[43m,\u001b[49m\n\u001b[1;32m     11\u001b[0m \u001b[43m                                  \u001b[49m\u001b[43mreturn_EC_resting\u001b[49m\u001b[38;5;241;43m=\u001b[39;49m\u001b[43m \u001b[49m\u001b[38;5;28;43;01mFalse\u001b[39;49;00m\u001b[43m,\u001b[49m\u001b[43m \u001b[49m\u001b[38;5;66;43;03m#EC_bool,\u001b[39;49;00m\n\u001b[1;32m     12\u001b[0m \u001b[43m                                  \u001b[49m\u001b[43mreturn_EO_resting\u001b[49m\u001b[38;5;241;43m=\u001b[39;49m\u001b[43m \u001b[49m\u001b[38;5;28;43;01mFalse\u001b[39;49;00m\u001b[43m,\u001b[49m\u001b[43m \u001b[49m\u001b[38;5;66;43;03m#EO_bool,\u001b[39;49;00m\n\u001b[1;32m     13\u001b[0m \u001b[43m                                  \u001b[49m\u001b[43maverage_dipoles\u001b[49m\u001b[38;5;241;43m=\u001b[39;49m\u001b[38;5;28;43;01mTrue\u001b[39;49;00m\u001b[43m,\u001b[49m\n\u001b[1;32m     14\u001b[0m \u001b[43m                                  \u001b[49m\u001b[43m)\u001b[49m\n",
      "File \u001b[0;32m~/Documents/George Kenefati/Code/eeg_toolkit/eeg_toolkit/source_localization.py:290\u001b[0m, in \u001b[0;36mto_source\u001b[0;34m(sub_id, data_path, zscored_epochs_save_path, EC_resting_save_path, EO_resting_save_path, roi_names, times_tup, return_zepochs, return_EC_resting, return_EO_resting, average_dipoles)\u001b[0m\n\u001b[1;32m    287\u001b[0m \u001b[38;5;28;01mif\u001b[39;00m return_zepochs \u001b[38;5;129;01mand\u001b[39;00m Zepo_subpath_count \u001b[38;5;241m<\u001b[39m roi_names_count:\n\u001b[1;32m    288\u001b[0m     zepochs \u001b[38;5;241m=\u001b[39m zscore_epochs(sub_id, data_path, tmin, raw_eo)\n\u001b[0;32m--> 290\u001b[0m     label_ts_Epochs \u001b[38;5;241m=\u001b[39m \u001b[43msave_label_time_course\u001b[49m\u001b[43m(\u001b[49m\n\u001b[1;32m    291\u001b[0m \u001b[43m        \u001b[49m\u001b[43msub_id\u001b[49m\u001b[43m,\u001b[49m\n\u001b[1;32m    292\u001b[0m \u001b[43m        \u001b[49m\u001b[38;5;124;43m\"\u001b[39;49m\u001b[38;5;124;43mepochs\u001b[39;49m\u001b[38;5;124;43m\"\u001b[39;49m\u001b[43m,\u001b[49m\n\u001b[1;32m    293\u001b[0m \u001b[43m        \u001b[49m\u001b[43msnr\u001b[49m\u001b[43m,\u001b[49m\n\u001b[1;32m    294\u001b[0m \u001b[43m        \u001b[49m\u001b[43mtrans\u001b[49m\u001b[43m,\u001b[49m\n\u001b[1;32m    295\u001b[0m \u001b[43m        \u001b[49m\u001b[43msrc\u001b[49m\u001b[43m,\u001b[49m\n\u001b[1;32m    296\u001b[0m \u001b[43m        \u001b[49m\u001b[43mbem\u001b[49m\u001b[43m,\u001b[49m\n\u001b[1;32m    297\u001b[0m \u001b[43m        \u001b[49m\u001b[43mzepochs\u001b[49m\u001b[43m,\u001b[49m\n\u001b[1;32m    298\u001b[0m \u001b[43m        \u001b[49m\u001b[43mnoise_cov\u001b[49m\u001b[43m,\u001b[49m\n\u001b[1;32m    299\u001b[0m \u001b[43m        \u001b[49m\u001b[43mlabels\u001b[49m\u001b[43m,\u001b[49m\n\u001b[1;32m    300\u001b[0m \u001b[43m        \u001b[49m\u001b[43mZepo_subpath\u001b[49m\u001b[43m,\u001b[49m\n\u001b[1;32m    301\u001b[0m \u001b[43m        \u001b[49m\u001b[43maverage_dipoles\u001b[49m\u001b[38;5;241;43m=\u001b[39;49m\u001b[38;5;28;43;01mTrue\u001b[39;49;00m\u001b[43m,\u001b[49m\n\u001b[1;32m    302\u001b[0m \u001b[43m    \u001b[49m\u001b[43m)\u001b[49m\n\u001b[1;32m    304\u001b[0m \u001b[38;5;28;01mreturn\u001b[39;00m label_ts_EO, label_ts_EC, label_ts_Epochs\n",
      "File \u001b[0;32m~/Documents/George Kenefati/Code/eeg_toolkit/eeg_toolkit/source_localization.py:168\u001b[0m, in \u001b[0;36msave_label_time_course\u001b[0;34m(sub_id, condition, snr, trans, src, bem, mne_object, noise_cov, labels, save_path, average_dipoles)\u001b[0m\n\u001b[1;32m    166\u001b[0m \u001b[38;5;28;01melif\u001b[39;00m \u001b[38;5;28misinstance\u001b[39m(mne_object, mne\u001b[38;5;241m.\u001b[39mepochs\u001b[38;5;241m.\u001b[39mEpochsArray):\n\u001b[1;32m    167\u001b[0m     \u001b[38;5;28mprint\u001b[39m(\u001b[38;5;124m\"\u001b[39m\u001b[38;5;124mApplying inverse to Epochs object\u001b[39m\u001b[38;5;124m\"\u001b[39m)\n\u001b[0;32m--> 168\u001b[0m     label_ts \u001b[38;5;241m=\u001b[39m \u001b[43mapply_inverse_Epochs\u001b[49m\u001b[43m(\u001b[49m\n\u001b[1;32m    169\u001b[0m \u001b[43m        \u001b[49m\u001b[43mmne_object\u001b[49m\u001b[43m,\u001b[49m\u001b[43m \u001b[49m\u001b[43minverse_operator\u001b[49m\u001b[43m,\u001b[49m\u001b[43m \u001b[49m\u001b[43msave_path\u001b[49m\u001b[43m,\u001b[49m\u001b[43m \u001b[49m\u001b[43msub_id\u001b[49m\u001b[43m,\u001b[49m\u001b[43m \u001b[49m\u001b[43mcondition\u001b[49m\u001b[43m,\u001b[49m\u001b[43m \u001b[49m\u001b[43maverage_dipoles\u001b[49m\n\u001b[1;32m    170\u001b[0m \u001b[43m    \u001b[49m\u001b[43m)\u001b[49m\n\u001b[1;32m    171\u001b[0m \u001b[38;5;28;01melse\u001b[39;00m:\n\u001b[1;32m    172\u001b[0m     \u001b[38;5;28;01mraise\u001b[39;00m \u001b[38;5;167;01mValueError\u001b[39;00m(\u001b[38;5;124m\"\u001b[39m\u001b[38;5;124mInvalid mne_object type\u001b[39m\u001b[38;5;124m\"\u001b[39m)\n",
      "File \u001b[0;32m~/Documents/George Kenefati/Code/eeg_toolkit/eeg_toolkit/source_localization.py:151\u001b[0m, in \u001b[0;36msave_label_time_course.<locals>.apply_inverse_Epochs\u001b[0;34m(mne_object, inverse_operator, save_path, sub_id, condition, average_dipoles)\u001b[0m\n\u001b[1;32m    149\u001b[0m label_ts \u001b[38;5;241m=\u001b[39m mne\u001b[38;5;241m.\u001b[39mextract_label_time_course(stc, labels, src, mode\u001b[38;5;241m=\u001b[39mmode)\n\u001b[1;32m    150\u001b[0m \u001b[38;5;28;01mif\u001b[39;00m np\u001b[38;5;241m.\u001b[39misnan(label_ts)\u001b[38;5;241m.\u001b[39many():\n\u001b[0;32m--> 151\u001b[0m     \u001b[38;5;28;01mraise\u001b[39;00m \u001b[38;5;167;01mValueError\u001b[39;00m(\u001b[38;5;124m\"\u001b[39m\u001b[38;5;124mlabel_ts contains nan\u001b[39m\u001b[38;5;124m\"\u001b[39m)\n\u001b[1;32m    152\u001b[0m \u001b[38;5;28;01mfor\u001b[39;00m epoch_idx, epoch_ts \u001b[38;5;129;01min\u001b[39;00m \u001b[38;5;28menumerate\u001b[39m(label_ts):\n\u001b[1;32m    153\u001b[0m     \u001b[38;5;28mprint\u001b[39m(\u001b[38;5;124mf\u001b[39m\u001b[38;5;124m\"\u001b[39m\u001b[38;5;124mSaving STC for epoch \u001b[39m\u001b[38;5;132;01m{\u001b[39;00mepoch_idx\u001b[38;5;132;01m}\u001b[39;00m\u001b[38;5;124m\"\u001b[39m)\n",
      "\u001b[0;31mValueError\u001b[0m: label_ts contains nan"
     ]
    }
   ],
   "source": [
    "for sub_id in sub_ids:\n",
    "    EC_bool = False if sub_id in no_eyes_open else True\n",
    "    EO_bool = False if sub_id in no_eyes_closed else True\n",
    "    _ = source_localization.to_source(sub_id,data_path,\n",
    "                                      zscored_epochs_save_path,\n",
    "                                      EC_resting_save_path,\n",
    "                                      EO_resting_save_path,\n",
    "                                      roi_names,\n",
    "                                      times_tup,\n",
    "                                      return_zepochs=True,\n",
    "                                      return_EC_resting= False, #EC_bool,\n",
    "                                      return_EO_resting= False, #EO_bool,\n",
    "                                      average_dipoles=True,\n",
    "                                      )"
   ]
  },
  {
   "cell_type": "markdown",
   "id": "f1d37ee3",
   "metadata": {},
   "source": [
    "### TESTING"
   ]
  },
  {
   "cell_type": "code",
   "execution_count": null,
   "id": "9268a1aa",
   "metadata": {},
   "outputs": [
    {
     "data": {
      "text/plain": [
       "array([[nan, nan, nan, ..., nan, nan, nan],\n",
       "       [nan, nan, nan, ..., nan, nan, nan],\n",
       "       [nan, nan, nan, ..., nan, nan, nan],\n",
       "       ...,\n",
       "       [nan, nan, nan, ..., nan, nan, nan],\n",
       "       [nan, nan, nan, ..., nan, nan, nan],\n",
       "       [nan, nan, nan, ..., nan, nan, nan]])"
      ]
     },
     "execution_count": 73,
     "metadata": {},
     "output_type": "execute_result"
    }
   ],
   "source": [
    "label_ts_All_Conds"
   ]
  },
  {
   "cell_type": "code",
   "execution_count": null,
   "id": "48b7b533",
   "metadata": {},
   "outputs": [],
   "source": []
  }
 ],
 "metadata": {
  "kernelspec": {
   "display_name": "Python 3",
   "language": "python",
   "name": "python3"
  },
  "language_info": {
   "codemirror_mode": {
    "name": "ipython",
    "version": 3
   },
   "file_extension": ".py",
   "mimetype": "text/x-python",
   "name": "python",
   "nbconvert_exporter": "python",
   "pygments_lexer": "ipython3",
   "version": "3.11.6"
  }
 },
 "nbformat": 4,
 "nbformat_minor": 5
}
