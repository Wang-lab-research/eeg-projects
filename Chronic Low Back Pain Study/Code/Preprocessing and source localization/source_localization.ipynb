{
 "cells": [
  {
   "cell_type": "markdown",
   "id": "2947c985-edb4-4e37-ac38-e2abc335d541",
   "metadata": {
    "tags": []
   },
   "source": [
    "## Compute source time course (STC) from Raw and Epochs data object and save as pickle for later analyses\n",
    "#### Input: *_eyes_open-raw.fif, *_eyes_closed-raw.fif, *-epo.fif\n",
    "####  Output: *_label_ts.pkl"
   ]
  },
  {
   "cell_type": "code",
   "execution_count": 1,
   "id": "93bc0409-9fd5-479d-8dde-25a747c13efe",
   "metadata": {
    "scrolled": true,
    "tags": []
   },
   "outputs": [
    {
     "name": "stdout",
     "output_type": "stream",
     "text": [
      "0 files missing from root.txt in /home/wanglab/mne_data/MNE-fsaverage-data\n",
      "0 files missing from bem.txt in /home/wanglab/mne_data/MNE-fsaverage-data/fsaverage\n"
     ]
    }
   ],
   "source": [
    "import os\n",
    "from pathlib import Path\n",
    "import sys\n",
    "sys.path.append('/home/wanglab/Documents/George Kenefati/Code/eeg_toolkit/')\n",
    "import os\n",
    "import mne\n",
    "import eeg_toolkit\n",
    "from eeg_toolkit import utils, preprocess, source_localization"
   ]
  },
  {
   "cell_type": "code",
   "execution_count": 2,
   "id": "842b367f-9d3c-4436-868f-6fb7ffe7b719",
   "metadata": {},
   "outputs": [
    {
     "name": "stdout",
     "output_type": "stream",
     "text": [
      "[-2.5,0.0,2.5]\n"
     ]
    },
    {
     "data": {
      "text/plain": [
       "[]"
      ]
     },
     "execution_count": 2,
     "metadata": {},
     "output_type": "execute_result"
    }
   ],
   "source": [
    "# Settings\n",
    "times_tup,time_win_path = preprocess.get_time_window(5)\n",
    "\n",
    "# Read in processed raw data\n",
    "data_dir = Path(\"../../Data\")\n",
    "processed_data_path = data_dir / 'Processed Data/'\n",
    "epo_path = data_dir / time_win_path\n",
    "stc_path = data_dir / 'Source Time Courses (MAT)'\n",
    "EO_resting_save_path = stc_path / \"Eyes Open\"\n",
    "EC_resting_save_path = stc_path / \"Eyes Closed\"\n",
    "zscored_epochs_save_path = stc_path / \"zscored_Epochs\" / time_win_path\n",
    "save_paths = [EC_resting_save_path,EO_resting_save_path,zscored_epochs_save_path] \n",
    "\n",
    "# Create save paths\n",
    "[os.makedirs(path) for path in save_paths if not os.path.exists(path)]"
   ]
  },
  {
   "cell_type": "code",
   "execution_count": 3,
   "id": "6525eacb-e00a-4c11-aad8-c3086d8b6a48",
   "metadata": {},
   "outputs": [
    {
     "name": "stdout",
     "output_type": "stream",
     "text": [
      "['018', '020', '021', '022', '023', '024', '027', '029', '030', '031', '032', '033', '034', '035', '036', '037', '038', '039', '040', '041', '042', '043', '044', '045', '046', '048', '049', '050', '051', '052', '053', '054', '055', '056', '057', '058', 'C1.', 'C2.', 'C3.', 'C5.', 'C6.', 'C7.', 'C8.', 'C9.', 'C10', 'C11', 'C12', 'C13', 'C14', 'C15', 'C16', 'C17', 'C18', 'C19', 'C20', 'C21', 'C22', 'C24', 'C25', 'C26', 'C27']\n"
     ]
    }
   ],
   "source": [
    "# viable subjects\n",
    "sub_ids = utils.import_subs(os.path.join(processed_data_path,os.pardir),'sub_ids.txt')\n",
    "# select only 64ch subs and turn into set\n",
    "sub_ids = sub_ids[7:]\n",
    "print(sub_ids)"
   ]
  },
  {
   "cell_type": "code",
   "execution_count": 4,
   "id": "7c3a8fdb-dbfa-42b6-907d-88061fab5ea5",
   "metadata": {},
   "outputs": [
    {
     "name": "stdout",
     "output_type": "stream",
     "text": [
      "Chronics: 36\n",
      "Controls: 25\n",
      "Total: 61\n"
     ]
    }
   ],
   "source": [
    "print(f\"Chronics: {len([el for el in sub_ids if el.startswith('0')])}\")\n",
    "print(f\"Controls: {len([el for el in sub_ids if el.startswith('C')])}\")\n",
    "print(f\"Total: {len(sub_ids)}\")"
   ]
  },
  {
   "cell_type": "markdown",
   "id": "334c6e28",
   "metadata": {},
   "source": [
    "#### Look for subjects who do not have EO or EC cropped data"
   ]
  },
  {
   "cell_type": "code",
   "execution_count": 5,
   "id": "e89000a3",
   "metadata": {},
   "outputs": [
    {
     "name": "stdout",
     "output_type": "stream",
     "text": [
      "Subject: 045 missing eyes closed data\n",
      "Subject: 045 missing eyes open data\n",
      "Subject: C1. missing eyes closed data\n",
      "Subject: C1. missing eyes open data\n",
      "Subject: C5. missing eyes closed data\n",
      "Subject: C5. missing eyes open data\n",
      "Subject: C8. missing eyes closed data\n",
      "Subject: C8. missing eyes open data\n",
      "Subject: C20 missing eyes closed data\n",
      "Subject: C20 missing eyes open data\n",
      "Subject: C21 missing eyes closed data\n",
      "Subject: C21 missing eyes open data\n",
      "Subject: C22 missing eyes closed data\n",
      "Subject: C22 missing eyes open data\n",
      "['045', 'C1.', 'C5.', 'C8.', 'C20', 'C21', 'C22']\n",
      "['045', 'C1.', 'C5.', 'C8.', 'C20', 'C21', 'C22']\n"
     ]
    }
   ],
   "source": [
    "# For edge cases of subjects missing eyes open or eyes closed data\n",
    "no_eyes_open = []\n",
    "no_eyes_closed = []\n",
    "\n",
    "for sub_id in sub_ids:\n",
    "    if not os.path.exists(os.path.join(processed_data_path, f\"{sub_id}_eyes_closed-raw.fif\")):\n",
    "        no_eyes_closed.append(sub_id)\n",
    "        print(f\"Subject: {sub_id} missing eyes closed data\")\n",
    "    if not os.path.exists(os.path.join(processed_data_path, f\"{sub_id}_eyes_open-raw.fif\")):\n",
    "        no_eyes_open.append(sub_id)\n",
    "        print(f\"Subject: {sub_id} missing eyes open data\")\n",
    "        \n",
    "print(no_eyes_open)\n",
    "print(no_eyes_closed)"
   ]
  },
  {
   "cell_type": "code",
   "execution_count": 6,
   "id": "168d00bf-c009-4143-a71d-c7c200ba148b",
   "metadata": {
    "tags": []
   },
   "outputs": [],
   "source": [
    "# Get stc only from selected labels\n",
    "roi_names = [# Left\n",
    "             'rostralanteriorcingulate-lh', # Left Rostral ACC\n",
    "             'caudalanteriorcingulate-lh', # Left Caudal ACC\n",
    "             'postcentral-lh', # Left S1,\n",
    "             'insula-lh', 'superiorfrontal-lh', # Left Insula, Left DL-PFC,\n",
    "             'medialorbitofrontal-lh', # Left Medial-OFC\n",
    "             # Right\n",
    "             'rostralanteriorcingulate-rh', # Right Rostral ACC\n",
    "             'caudalanteriorcingulate-rh', # Right Caudal ACC\n",
    "             'postcentral-rh', # , Right S1\n",
    "             'insula-rh', 'superiorfrontal-rh', # Right Insula, Right DL-PFC\n",
    "             'medialorbitofrontal-rh'] # Right Medial-OFC"
   ]
  },
  {
   "cell_type": "code",
   "execution_count": 7,
   "id": "7300c43a",
   "metadata": {},
   "outputs": [
    {
     "name": "stdout",
     "output_type": "stream",
     "text": [
      "Saving stc as mat\n"
     ]
    }
   ],
   "source": [
    "# Save the inverse for AEC in FC code\n",
    "save_inv = False\n",
    "\n",
    "# Save the stc as mat instead of pickle\n",
    "if 'MAT' in str(stc_path):\n",
    "    save_stc_mat = True\n",
    "    print(\"Saving stc as mat\")\n",
    "else:\n",
    "    save_stc_mat = False"
   ]
  },
  {
   "cell_type": "code",
   "execution_count": 8,
   "id": "80ffacc1",
   "metadata": {},
   "outputs": [
    {
     "name": "stdout",
     "output_type": "stream",
     "text": [
      "Converting forward solution to surface orientation\n",
      "    No patch info available. The standard source space normals will be employed in the rotation to the local surface coordinates....\n",
      "    Converting to surface-based source orientations...\n",
      "    [done]\n",
      "Computing inverse operator with 64 channels.\n",
      "    64 out of 64 channels remain after picking\n",
      "Selected 64 channels\n",
      "Creating the depth weighting matrix...\n",
      "    64 EEG channels\n",
      "    limit = 20485/20484 = 2.207463\n",
      "    scale = 125765 exp = 0.8\n",
      "Applying loose dipole orientations to surface source spaces: 0.2\n",
      "Whitening the forward solution.\n",
      "    Created an SSP operator (subspace dimension = 1)\n",
      "Computing rank from covariance with rank=None\n",
      "    Using tolerance 5.2e-13 (2.2e-16 eps * 64 dim * 37  max singular value)\n",
      "    Estimated rank (eeg): 55\n",
      "    EEG: rank 55 computed from 64 data channels with 1 projector\n",
      "    Setting small EEG eigenvalues to zero (without PCA)\n",
      "Creating the source covariance matrix\n",
      "Adjusting source covariance matrix.\n",
      "Computing SVD of whitened and weighted lead field matrix.\n",
      "    largest singular value = 3.66002\n",
      "    scaling factor to adjust the trace = 1.68514e+19 (nchan = 64 nzero = 9)\n",
      "Saved 046_inv.pkl to ../../Data/Source Time Courses (MAT)/zscored_Epochs/5_sec_time_window.\n",
      "Applying inverse to Epochs object\n",
      "Preparing the inverse operator for use...\n",
      "    Scaled noise and source covariance from nave = 1 to nave = 1\n",
      "    Created the regularized inverter\n",
      "    Created an SSP operator (subspace dimension = 1)\n",
      "    Created the whitener using a noise covariance matrix with rank 55 (9 small eigenvalues omitted)\n",
      "    Computing noise-normalization factors (dSPM)...\n",
      "[done]\n",
      "Picked 64 channels from the data\n",
      "Computing inverse...\n",
      "    Eigenleads need to be weighted ...\n",
      "Processing epoch : 1 / 57\n",
      "combining the current components...\n",
      "Processing epoch : 2 / 57\n",
      "combining the current components...\n",
      "Processing epoch : 3 / 57\n",
      "combining the current components...\n",
      "Processing epoch : 4 / 57\n",
      "combining the current components...\n",
      "Processing epoch : 5 / 57\n",
      "combining the current components...\n",
      "Processing epoch : 6 / 57\n",
      "combining the current components...\n",
      "Processing epoch : 7 / 57\n",
      "combining the current components...\n",
      "Processing epoch : 8 / 57\n",
      "combining the current components...\n",
      "Processing epoch : 9 / 57\n",
      "combining the current components...\n",
      "Processing epoch : 10 / 57\n",
      "combining the current components...\n",
      "Processing epoch : 11 / 57\n",
      "combining the current components...\n",
      "Processing epoch : 12 / 57\n",
      "combining the current components...\n",
      "Processing epoch : 13 / 57\n",
      "combining the current components...\n",
      "Processing epoch : 14 / 57\n",
      "combining the current components...\n",
      "Processing epoch : 15 / 57\n",
      "combining the current components...\n",
      "Processing epoch : 16 / 57\n",
      "combining the current components...\n",
      "Processing epoch : 17 / 57\n",
      "combining the current components...\n",
      "Processing epoch : 18 / 57\n",
      "combining the current components...\n",
      "Processing epoch : 19 / 57\n",
      "combining the current components...\n",
      "Processing epoch : 20 / 57\n",
      "combining the current components...\n",
      "Processing epoch : 21 / 57\n",
      "combining the current components...\n",
      "Processing epoch : 22 / 57\n",
      "combining the current components...\n",
      "Processing epoch : 23 / 57\n",
      "combining the current components...\n",
      "Processing epoch : 24 / 57\n",
      "combining the current components...\n",
      "Processing epoch : 25 / 57\n",
      "combining the current components...\n",
      "Processing epoch : 26 / 57\n",
      "combining the current components...\n",
      "Processing epoch : 27 / 57\n",
      "combining the current components...\n",
      "Processing epoch : 28 / 57\n",
      "combining the current components...\n",
      "Processing epoch : 29 / 57\n",
      "combining the current components...\n",
      "Processing epoch : 30 / 57\n",
      "combining the current components...\n",
      "Processing epoch : 31 / 57\n",
      "combining the current components...\n",
      "Processing epoch : 32 / 57\n",
      "combining the current components...\n",
      "Processing epoch : 33 / 57\n",
      "combining the current components...\n",
      "Processing epoch : 34 / 57\n",
      "combining the current components...\n",
      "Processing epoch : 35 / 57\n",
      "combining the current components...\n",
      "Processing epoch : 36 / 57\n",
      "combining the current components...\n",
      "Processing epoch : 37 / 57\n",
      "combining the current components...\n",
      "Processing epoch : 38 / 57\n",
      "combining the current components...\n",
      "Processing epoch : 39 / 57\n",
      "combining the current components...\n",
      "Processing epoch : 40 / 57\n",
      "combining the current components...\n",
      "Processing epoch : 41 / 57\n",
      "combining the current components...\n",
      "Processing epoch : 42 / 57\n",
      "combining the current components...\n",
      "Processing epoch : 43 / 57\n",
      "combining the current components...\n",
      "Processing epoch : 44 / 57\n",
      "combining the current components...\n",
      "Processing epoch : 45 / 57\n",
      "combining the current components...\n",
      "Processing epoch : 46 / 57\n",
      "combining the current components...\n",
      "Processing epoch : 47 / 57\n",
      "combining the current components...\n",
      "Processing epoch : 48 / 57\n",
      "combining the current components...\n",
      "Processing epoch : 49 / 57\n",
      "combining the current components...\n",
      "Processing epoch : 50 / 57\n",
      "combining the current components...\n",
      "Processing epoch : 51 / 57\n",
      "combining the current components...\n",
      "Processing epoch : 52 / 57\n",
      "combining the current components...\n",
      "Processing epoch : 53 / 57\n",
      "combining the current components...\n",
      "Processing epoch : 54 / 57\n",
      "combining the current components...\n",
      "Processing epoch : 55 / 57\n",
      "combining the current components...\n",
      "Processing epoch : 56 / 57\n",
      "combining the current components...\n",
      "Processing epoch : 57 / 57\n",
      "combining the current components...\n",
      "[done]\n",
      "*label_ts shape =  (57, 12, 401)\n",
      "Saving stc.mat for 046 in region: rostralanteriorcingulate-lh\n",
      "*label_ts_i shape =  (12, 401)\n",
      "Saving stc.mat for 046 in region: caudalanteriorcingulate-lh\n",
      "*label_ts_i shape =  (12, 401)\n",
      "Saving stc.mat for 046 in region: postcentral-lh\n",
      "*label_ts_i shape =  (12, 401)\n",
      "Saving stc.mat for 046 in region: insula-lh\n",
      "*label_ts_i shape =  (12, 401)\n",
      "Saving stc.mat for 046 in region: superiorfrontal-lh\n",
      "*label_ts_i shape =  (12, 401)\n",
      "Saving stc.mat for 046 in region: medialorbitofrontal-lh\n",
      "*label_ts_i shape =  (12, 401)\n",
      "Saving stc.mat for 046 in region: rostralanteriorcingulate-rh\n",
      "*label_ts_i shape =  (12, 401)\n",
      "Saving stc.mat for 046 in region: caudalanteriorcingulate-rh\n",
      "*label_ts_i shape =  (12, 401)\n",
      "Saving stc.mat for 046 in region: postcentral-rh\n",
      "*label_ts_i shape =  (12, 401)\n",
      "Saving stc.mat for 046 in region: insula-rh\n",
      "*label_ts_i shape =  (12, 401)\n",
      "Saving stc.mat for 046 in region: superiorfrontal-rh\n",
      "*label_ts_i shape =  (12, 401)\n",
      "Saving stc.mat for 046 in region: medialorbitofrontal-rh\n",
      "*label_ts_i shape =  (12, 401)\n"
     ]
    }
   ],
   "source": [
    "nan_subjects=[]\n",
    "for sub_id in sub_ids:  \n",
    "    # Check if eyes open or eyes closed need to be computed\n",
    "    EC_bool = False if sub_id in no_eyes_open else True\n",
    "    EO_bool = False if sub_id in no_eyes_closed else True\n",
    "    print(f\"Subject: {sub_id} | EC: {EC_bool} | EO: {EO_bool}\")\n",
    "    \n",
    "    # Skip if no Eyes Open\n",
    "    if not EO_bool:\n",
    "        continue\n",
    "      \n",
    "    # Compute source localization for subject and save \n",
    "    label_ts_All_Conds, sub_id_if_nan = source_localization.to_source(sub_id,\n",
    "                                                                      processed_data_path,\n",
    "                                                                        zscored_epochs_save_path,\n",
    "                                                                        EC_resting_save_path,\n",
    "                                                                        EO_resting_save_path,\n",
    "                                                                        roi_names,\n",
    "                                                                        times_tup,\n",
    "                                                                        return_zepochs=EO_bool, # cannot return epochs without eyes open noise segment\n",
    "                                                                        return_EC_resting = EC_bool,\n",
    "                                                                        return_EO_resting = EO_bool,\n",
    "                                                                        average_dipoles=True,\n",
    "                                                                        save_stc_mat=save_stc_mat,\n",
    "                                                                        save_inv=save_inv,\n",
    "                                                                        )\n",
    "    utils.clear_display()\n",
    "    # If sub_id(str) output, append to nan_subjects\n",
    "    if sub_id_if_nan is not None:\n",
    "        nan_subjects.append(sub_id_if_nan)"
   ]
  },
  {
   "cell_type": "markdown",
   "id": "3b646755",
   "metadata": {},
   "source": [
    "### Assess results"
   ]
  },
  {
   "cell_type": "code",
   "execution_count": 9,
   "id": "9268a1aa",
   "metadata": {},
   "outputs": [
    {
     "data": {
      "text/plain": [
       "(None,\n",
       " None,\n",
       " array([[[ 30020.68217104,  49698.15635662,  83554.15276432, ...,\n",
       "          158990.83106847, 124504.13197326, 111671.77346593],\n",
       "         [ 52179.53350799,  73632.91774654,  95220.82407031, ...,\n",
       "           68816.67044374,  55195.34881324,  74474.56644259],\n",
       "         [ 13668.74034071,  13172.38135072,  -1125.0634792 , ...,\n",
       "            6083.35874678,   8128.66342546,   8858.66280421],\n",
       "         ...,\n",
       "         [ 70613.94397682, 137108.10443297,  70627.39405739, ...,\n",
       "           86707.83563178,  78221.33332638,  73545.51188565],\n",
       "         [  5559.6255465 ,  13431.12325571,  20011.30839859, ...,\n",
       "            8555.45101509,   6985.48407794,   8040.21780043],\n",
       "         [  7264.83567612,  27820.5591404 ,  53445.30878857, ...,\n",
       "           37422.28837256,  43448.45423889,  49452.29548998]],\n",
       " \n",
       "        [[ 39363.15386909,  57026.74337264,  64249.69608815, ...,\n",
       "          191069.88324496, 239658.83424487,  69453.38904848],\n",
       "         [ 48586.84889087,  50270.45279401,  53156.32031507, ...,\n",
       "           96322.794186  ,  62593.40480294,  77520.12380751],\n",
       "         [  -507.79391231,  12455.29534701,  12738.2693933 , ...,\n",
       "            2939.52892012,  14622.50115307,  18196.90029354],\n",
       "         ...,\n",
       "         [ 69987.01417893, 133897.40998749, 113587.02789038, ...,\n",
       "           42541.39659625,  79635.09748011,  49598.53194507],\n",
       "         [ 15709.05439522,   4326.51215407,   3964.6641238 , ...,\n",
       "           -7394.63968646,  -1450.89724685,    338.48348856],\n",
       "         [ 28515.06334628,  26243.5086881 ,  30530.51271417, ...,\n",
       "           62240.74040902,  89572.22071893,  45253.98417933]],\n",
       " \n",
       "        [[ 93661.91965275,  39411.84446537,  94524.07792141, ...,\n",
       "          110865.48375165, 112981.21364477, 109201.03942662],\n",
       "         [ 37041.05730615,  40266.62932363,  51310.8151474 , ...,\n",
       "           60346.79218479,  86746.90360999,  66188.18195503],\n",
       "         [ 13902.59955331,   5681.94530421,  16948.8337637 , ...,\n",
       "             713.18726934,  22748.48009805,   7534.19146046],\n",
       "         ...,\n",
       "         [ 72874.58257044,  68134.87963857, 139213.74816456, ...,\n",
       "           48326.69473661,  58828.77729427,  45081.37707841],\n",
       "         [  3683.30520503,   2782.80621272,    615.68025657, ...,\n",
       "           11377.74875769,  16151.52966299,  12136.33914364],\n",
       "         [ 27126.69665348,  10532.37181981,  23814.24078918, ...,\n",
       "           43771.02769827,  46769.5928897 ,  44292.10082237]],\n",
       " \n",
       "        ...,\n",
       " \n",
       "        [[ 42980.18117893,  73800.49220855,  61177.24239578, ...,\n",
       "          246632.95990231, 216913.39204444, 192514.98238665],\n",
       "         [ 83809.68074407, 121271.23747105, 116380.45209704, ...,\n",
       "          209125.11706053, 189591.61048876, 144955.69761482],\n",
       "         [   906.67400923,   4861.00185786,  10778.45262273, ...,\n",
       "           12574.81644888,  12471.22338906,   9040.40022586],\n",
       "         ...,\n",
       "         [ 52259.36904   ,  85847.40097674, 117972.34925575, ...,\n",
       "          169932.29570279, 160095.88895882, 132794.89630256],\n",
       "         [  6941.92531685,   8637.77118674,  10452.81833022, ...,\n",
       "           14900.55159385,   8552.30091689,   7420.69443688],\n",
       "         [  5765.14491853,  20940.63532688,  35200.60873155, ...,\n",
       "           84506.57147569,  67446.87947412,  62219.49482566]],\n",
       " \n",
       "        [[ 49902.41325502,  43523.09630987,  45516.83003218, ...,\n",
       "          184135.22498418, 145488.85785237, 140138.07434712],\n",
       "         [ 46153.666165  , 107934.11638526, 126193.96139925, ...,\n",
       "          253439.34802559, 216392.60602051, 177147.29466453],\n",
       "         [ 19580.419584  ,   9005.36935246,  11322.24098855, ...,\n",
       "            9711.69958997,  27337.03368261,  16216.27322346],\n",
       "         ...,\n",
       "         [159170.09662961, 140688.25717491,  70669.00947732, ...,\n",
       "          140503.57148974, 282947.70433025, 231172.02362449],\n",
       "         [  7525.8465655 ,  10884.48008179,   5786.66276985, ...,\n",
       "           12922.41323235,   9946.55611377,  22019.87780699],\n",
       "         [ 10688.5394329 ,  10209.91606605,  20814.49307579, ...,\n",
       "           43621.02020651,  34981.26174083,  56394.96979159]],\n",
       " \n",
       "        [[ 40218.74929332,  55280.83670632,  33257.82111435, ...,\n",
       "           27464.56949865,  45495.08504477,  67502.91798632],\n",
       "         [101317.56311117,  96460.87201927,  18771.91564965, ...,\n",
       "           35714.00204947,  43015.33445817,  31711.02290281],\n",
       "         [ 10803.87596428,   9005.23650405,  15557.01798786, ...,\n",
       "            4976.82354477,  10258.57918025,   4563.60234852],\n",
       "         ...,\n",
       "         [ 77984.95940145,  74240.8072112 ,  59553.60771024, ...,\n",
       "           58248.25680823,  40258.12491677,  49145.04324515],\n",
       "         [ 10264.12150366,   5953.14246737,   5052.81156749, ...,\n",
       "           12677.05343943,  13480.35710166,  16076.95055346],\n",
       "         [ 13533.20406436,  22701.18879808,  21804.04740381, ...,\n",
       "           24519.80334681,  29022.12296453,  34510.52058658]]]))"
      ]
     },
     "execution_count": 9,
     "metadata": {},
     "output_type": "execute_result"
    }
   ],
   "source": [
    "label_ts_All_Conds"
   ]
  },
  {
   "cell_type": "code",
   "execution_count": 10,
   "id": "83c740ac",
   "metadata": {},
   "outputs": [
    {
     "data": {
      "text/plain": [
       "[]"
      ]
     },
     "execution_count": 10,
     "metadata": {},
     "output_type": "execute_result"
    }
   ],
   "source": [
    "nan_subjects"
   ]
  },
  {
   "cell_type": "code",
   "execution_count": null,
   "id": "206212ea",
   "metadata": {},
   "outputs": [],
   "source": []
  },
  {
   "cell_type": "code",
   "execution_count": null,
   "id": "c4c08d32",
   "metadata": {},
   "outputs": [],
   "source": []
  }
 ],
 "metadata": {
  "kernelspec": {
   "display_name": "Python 3",
   "language": "python",
   "name": "python3"
  },
  "language_info": {
   "codemirror_mode": {
    "name": "ipython",
    "version": 3
   },
   "file_extension": ".py",
   "mimetype": "text/x-python",
   "name": "python",
   "nbconvert_exporter": "python",
   "pygments_lexer": "ipython3",
   "version": "3.11.7"
  }
 },
 "nbformat": 4,
 "nbformat_minor": 5
}
