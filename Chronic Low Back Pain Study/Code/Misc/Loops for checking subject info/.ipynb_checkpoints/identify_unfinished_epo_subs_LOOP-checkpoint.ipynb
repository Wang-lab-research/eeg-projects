{
 "cells": [
  {
   "cell_type": "markdown",
   "id": "de2b9af6-5e16-4fcf-8d14-dd1790514ff2",
   "metadata": {
    "tags": []
   },
   "source": [
    "### **Motivation**: Due to key-press errors from previous data collectors, some subject data have mismatching epo_times and stim_labels\n",
    "\n",
    "### **Function**: Identify list of subjects with such mismatch and avoid processing their data until needed/we have time to resolve"
   ]
  },
  {
   "cell_type": "code",
   "execution_count": 1,
   "id": "bff087f4",
   "metadata": {
    "tags": []
   },
   "outputs": [],
   "source": [
    "import os\n",
    "import time\n",
    "from IPython import display\n",
    "from scipy.io import loadmat\n",
    "\n",
    "data_dir = \"../../../Data/Processed Data/\""
   ]
  },
  {
   "cell_type": "code",
   "execution_count": 11,
   "id": "a83a0239-0aaf-4092-9ed2-b679cf08757c",
   "metadata": {},
   "outputs": [],
   "source": [
    "mismatch_lst=[]\n",
    "match_lst=[]"
   ]
  },
  {
   "cell_type": "code",
   "execution_count": 2,
   "id": "21cf63ee-5ae0-4f8f-9ccd-9aad49116772",
   "metadata": {},
   "outputs": [],
   "source": [
    "# subjust IDs list"
   ]
  },
  {
   "cell_type": "code",
   "execution_count": 35,
   "id": "14268584-2ce6-48e6-a006-6a213dcd7b70",
   "metadata": {
    "tags": []
   },
   "outputs": [],
   "source": [
    "# all subject file names in directory for reference\n",
    "# IGNORE subs that are commented. These have data issues, see notes on EEG processing in Notes folder\n",
    "sub_ids_lst = [\n",
    " # '006',\n",
    " # '007',\n",
    " # '008', # 32 channel\n",
    " # '009', # 32 channel\n",
    " # '010',\n",
    " # '013', # 32 channel\n",
    " # '014', # 32 channel\n",
    " # '015', # 32 channel\n",
    " # '016',\n",
    " # '017',\n",
    " '018',\n",
    " # '019',\n",
    " '020',\n",
    " '021',\n",
    " '022',\n",
    " '023',\n",
    " '024',\n",
    " # '025',\n",
    " # '026',\n",
    " '027',\n",
    " # '028',\n",
    " '029',\n",
    " '030',\n",
    " '031',\n",
    " '032',\n",
    " '033',\n",
    " '034',\n",
    " '035',\n",
    " '036',\n",
    " '037',\n",
    " '038',\n",
    " '039',\n",
    " '040',\n",
    " '041',\n",
    " '042',\n",
    " '043',\n",
    " '044',\n",
    " '045',\n",
    " '046',\n",
    " '047',\n",
    " '048',\n",
    " '049',\n",
    " '050',\n",
    " '051',\n",
    " '052',\n",
    " '053',\n",
    " '054',\n",
    " '055',\n",
    " '056',\n",
    " '057',\n",
    " '058',\n",
    " 'C1.',\n",
    " 'C2.',\n",
    " 'C3.',\n",
    " # 'C4.',\n",
    " 'C5.',\n",
    " 'C6.',\n",
    " 'C7.',\n",
    " 'C8.',\n",
    " 'C9.',\n",
    " 'C10',\n",
    " 'C11',\n",
    " 'C12',\n",
    " 'C13',\n",
    " 'C14',\n",
    " 'C15',\n",
    " 'C16',\n",
    " 'C17',\n",
    " 'C18',\n",
    " 'C19',\n",
    " 'C20',\n",
    " 'C21',\n",
    " 'C22',\n",
    " # 'C23',\n",
    " 'C24',\n",
    " 'C25',\n",
    " 'C26',\n",
    "]"
   ]
  },
  {
   "cell_type": "code",
   "execution_count": 44,
   "id": "dd571513-5eac-4be2-8e19-2e619f900244",
   "metadata": {
    "tags": []
   },
   "outputs": [
    {
     "name": "stdout",
     "output_type": "stream",
     "text": [
      "Done.\n"
     ]
    }
   ],
   "source": [
    "# Loop through subject IDs\n",
    "for sub_id in sub_ids_lst:\n",
    "    if sub_id in match_lst or sub_id in mismatch_lst: continue\n",
    "    ########################################## Select and open necessary files ##########################################\n",
    "    print(f\"\\nOpening {sub_id}_epo_times.mat ...\")\n",
    "    epo_times_fname = os.path.join(data_dir,sub_id+'_epo_times.mat')\n",
    "    epo_times_curr = loadmat(epo_times_fname)\n",
    "    epo_times_curr = epo_times_curr['epo_times']\n",
    "    \n",
    "    print(f\"\\nOpening {sub_id}_stim_labels.mat ...\")\n",
    "    stim_labels_fname = os.path.join(data_dir,sub_id+'_stim_labels.mat')\n",
    "    stim_labels_curr = loadmat(stim_labels_fname)\n",
    "    stim_labels_curr = stim_labels_curr['stim_labels'][0]\n",
    "\n",
    "    ############################ Check whether length of files match ############################\n",
    "    len_match_bool = len(epo_times_curr) == len(stim_labels_curr)\n",
    "    if len_match_bool==True:\n",
    "        print(\"\\nLengths match, moving on to next subject.\")\n",
    "        match_lst.append(sub_id)\n",
    "    else:\n",
    "        print(\"\\nLengths DO NOT match, saving subject ID to txt file.\")\n",
    "        mismatch_lst.append(sub_id)\n",
    "    \n",
    "    time.sleep(0.5)\n",
    "    display.clear_output(wait=True)\n",
    "print(\"Done.\")"
   ]
  },
  {
   "cell_type": "code",
   "execution_count": null,
   "id": "89f600a8-24a7-43e6-8ea3-eb59372195ed",
   "metadata": {},
   "outputs": [],
   "source": [
    "############################ Save mismatch IDs to txt file ############################\n",
    "timestr = time.strftime(\"  Created: %m/%d/%Y, %H:%M:%S\") # Add date/time created to header of file\n",
    "\n",
    "txt_file = open(data_dir+'Sub_IDs_with_Mismatching_Times_and_Labels.txt','w')\n",
    "\n",
    "txt_file.write(\"#################################\\n\"+timestr+\"\\n#################################\\n\\n\\n\")\n",
    "\n",
    "txt_file.write(\"Subject IDs with mismatching epo_times and stim_labels\"+\n",
    "               \" (mostly due to human error during recording):\\n\\n\\n\")\n",
    "for sub_id in mismatch_lst:\n",
    "    txt_file.write(sub_id+\"\\n\")\n",
    "txt_file.close()\n",
    "    "
   ]
  },
  {
   "cell_type": "code",
   "execution_count": null,
   "id": "5f0876a8-1e7d-4965-986b-5c86779095b1",
   "metadata": {},
   "outputs": [],
   "source": []
  }
 ],
 "metadata": {
  "kernelspec": {
   "display_name": "eeg_env",
   "language": "python",
   "name": "eeg_env"
  },
  "language_info": {
   "codemirror_mode": {
    "name": "ipython",
    "version": 3
   },
   "file_extension": ".py",
   "mimetype": "text/x-python",
   "name": "python",
   "nbconvert_exporter": "python",
   "pygments_lexer": "ipython3",
   "version": "3.9.16"
  }
 },
 "nbformat": 4,
 "nbformat_minor": 5
}
