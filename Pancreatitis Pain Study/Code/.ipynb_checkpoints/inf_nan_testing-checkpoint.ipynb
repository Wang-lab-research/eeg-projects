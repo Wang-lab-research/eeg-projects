{
 "cells": [
  {
   "cell_type": "markdown",
   "id": "98815475-cc59-43f2-ae40-5ee07b1522fd",
   "metadata": {},
   "source": [
    "# Preprocess Pancreatitis EEG data"
   ]
  },
  {
   "cell_type": "code",
   "execution_count": 14,
   "id": "17e5a59a-fa28-449d-ac91-f9cb2a3a81fe",
   "metadata": {},
   "outputs": [],
   "source": [
    "import sys\n",
    "sys.path.append('/home/wanglab/Documents/George Kenefati/Code/eeg_toolkit/')\n",
    "import os\n",
    "import mne\n",
    "import glob\n",
    "import eeg_toolkit\n",
    "from eeg_toolkit.preprocess import _preprocess\n",
    "from eeg_toolkit.source_localization import source_localization"
   ]
  },
  {
   "cell_type": "code",
   "execution_count": 15,
   "id": "dd5cdccd-bb15-443b-95e2-5b295b3a03a2",
   "metadata": {},
   "outputs": [
    {
     "name": "stdout",
     "output_type": "stream",
     "text": [
      "[-2.5,0.0,2.5]\n"
     ]
    }
   ],
   "source": [
    "# Settings\n",
    "times_tup,time_win_path = _preprocess.get_time_window(5)\n",
    "\n",
    "# Read in processed raw data\n",
    "data_path = '../Data/Raw/'\n",
    "save_path = '../Data/Processed Data/'\n",
    "epo_path = save_path + time_win_path\n",
    "\n",
    "if not os.path.exists(epo_path):\n",
    "    os.makedirs(epo_path)\n",
    "\n",
    "# Noise cov: crop raw during eyes-open resting condition\n",
    "noise_cov_win = 5.5, 7.5 # rest_min, rest_max"
   ]
  },
  {
   "cell_type": "code",
   "execution_count": 16,
   "id": "9581044d-39e2-4641-b0e3-a2df6e3cf07a",
   "metadata": {},
   "outputs": [],
   "source": [
    "from mne.preprocessing import ICA\n",
    "from pyprep.find_noisy_channels import NoisyChannels\n",
    "\n",
    "from IPython import display\n",
    "RANDOM_STATE = 42  \n",
    "\n",
    "def clear_display():  \n",
    "    display.clear_output(wait=True)  \n",
    "\n",
    "RESAMPLE_FREQ = 400  \n",
    "\n",
    "def load_raw_data(eeg_data_raw_file, eog):  \n",
    "    \"\"\"  \n",
    "    Load raw EDF data with specified EOG channel.  \n",
    "    \"\"\"  \n",
    "    return mne.io.read_raw_edf(eeg_data_raw_file, eog=[eog], preload=True)  \n",
    "\n",
    "def set_montage(mne_obj, montage):  \n",
    "    \"\"\"  \n",
    "    Set custom montage for Raw or Epochs object.  \n",
    "    \"\"\"\n",
    "    print(\"setting custom montage...\")\n",
    "    print(montage)\n",
    "    if type(montage)==str:\n",
    "        relative_path = os.path.join(os.path.dirname(__file__),montage_path)\n",
    "        montage = mne.channels.read_custom_montage(relative_path)\n",
    "        mne_obj.set_montage(montage,on_missing='ignore')  \n",
    "    else:\n",
    "        mne_obj.set_montage(montage,on_missing='ignore')  \n",
    "\n",
    "def get_time_window(peri_stim_time_win=None):\n",
    "    \"\"\"\n",
    "    Get the tmin,tmax,bmax for any custom time window.\n",
    "    Also get the custom save path.\n",
    "    \"\"\"    \n",
    "    bmax=0.\n",
    "    if peri_stim_time_win==None:\n",
    "        t_win = float(input(\"Please enter the peri-stimulus time window.\"+\n",
    "        \"\\nEx: '0 (default)' = [-0.2,0.8], '2' = [-1.0,1.0], etc...\\n\\n>> \"))\n",
    "    else: \n",
    "        t_win = float(peri_stim_time_win)\n",
    "        \n",
    "    if t_win==0.:\n",
    "        tmin,tmax = -0.2,0.8\n",
    "        time_win_path=''\n",
    "    else:\n",
    "        tmin,tmax = -t_win/2,t_win/2\n",
    "    print(f\"[{tmin},{bmax},{tmax}]\")\n",
    "    time_win_path=f'{int(t_win)}_sec_time_window/'\n",
    "    # print(time_win_path)\n",
    "    return (tmin,bmax,tmax),time_win_path\n",
    "\n",
    "def make_sub_time_win_path(sub_id,save_path_cont,save_path_zepo,\n",
    "                          include_zepochs=True):\n",
    "    \"\"\"\n",
    "    Make a subject's time window data path\n",
    "    \"\"\"\n",
    "    subpath_cont =  os.path.join(save_path_cont,sub_id)\n",
    "    if not os.path.exists(subpath_cont): # continuous\n",
    "        os.mkdir(subpath_cont)\n",
    "    if include_zepochs:\n",
    "        subpath_zepo =  os.path.join(save_path_zepo,sub_id)\n",
    "        if not os.path.exists(subpath_zepo): # zepochs\n",
    "            os.mkdir(subpath_zepo)\n",
    "    return subpath_cont,subpath_zepo"
   ]
  },
  {
   "cell_type": "code",
   "execution_count": 17,
   "id": "85814949-f2b8-48fb-8c27-0a7ae5757194",
   "metadata": {
    "tags": []
   },
   "outputs": [],
   "source": [
    "# Get stc only from selected labels\n",
    "roi_names = [# Left\n",
    "             'rostralanteriorcingulate-lh', # Left Rostral ACC\n",
    "             'caudalanteriorcingulate-lh', # Left Caudal ACC\n",
    "             'postcentral-lh', # Left S1,\n",
    "             'insula-lh', 'superiorfrontal-lh', # Left Insula, Left DL-PFC,\n",
    "             'medialorbitofrontal-lh', # Left Medial-OFC\n",
    "             # Right\n",
    "             'rostralanteriorcingulate-rh', # Right Rostral ACC\n",
    "             'caudalanteriorcingulate-rh', # Right Caudal ACC\n",
    "             'postcentral-rh', # , Right S1\n",
    "             'insula-rh', 'superiorfrontal-rh', # Right Insula, Right DL-PFC\n",
    "             'medialorbitofrontal-rh'] # Right Medial-OFC"
   ]
  },
  {
   "cell_type": "code",
   "execution_count": 20,
   "id": "652be1e9-2130-41ab-89ee-e589242ff2c4",
   "metadata": {},
   "outputs": [],
   "source": [
    "sub_ids = [\n",
    "    '001',\n",
    "    # '002',\n",
    "    # 'T01',\n",
    "    # 'T02',\n",
    "    # 'T03',\n",
    "]"
   ]
  },
  {
   "cell_type": "code",
   "execution_count": 24,
   "id": "e147031f-b9d3-4aa6-a794-6bf1efd3acfd",
   "metadata": {},
   "outputs": [],
   "source": [
    "sub_id=sub_ids[0]"
   ]
  },
  {
   "cell_type": "code",
   "execution_count": 34,
   "id": "ab8c6ce5-640c-4da8-ab03-6a369fc4c0c8",
   "metadata": {},
   "outputs": [
    {
     "name": "stdout",
     "output_type": "stream",
     "text": [
      "Current Directory /home/wanglab/Documents/George Kenefati/Pancreatitis Pain Study/Code\n",
      "/home/wanglab/Documents/George Kenefati/Pancreatitis Pain Study\n"
     ]
    }
   ],
   "source": [
    "path = os.getcwd()\n",
    "print(\"Current Directory\", path)\n",
    " \n",
    "# prints parent directory\n",
    "print(x)\n"
   ]
  },
  {
   "cell_type": "code",
   "execution_count": 37,
   "id": "949237e2-b844-46ea-8254-6d72e01024c8",
   "metadata": {},
   "outputs": [
    {
     "data": {
      "text/plain": [
       "'/home/wanglab/Documents/George Kenefati/Pancreatitis Pain Study'"
      ]
     },
     "execution_count": 37,
     "metadata": {},
     "output_type": "execute_result"
    }
   ],
   "source": [
    "os.path.abspath(os.path.join(os.getcwd(), os.pardir))"
   ]
  },
  {
   "cell_type": "code",
   "execution_count": 25,
   "id": "38d5b197-76c7-4dc7-8f4d-7ff9e14c4c3a",
   "metadata": {},
   "outputs": [
    {
     "name": "stdout",
     "output_type": "stream",
     "text": [
      "001\n",
      "removing bad channels...\n"
     ]
    },
    {
     "ename": "ValueError",
     "evalue": "array must not contain infs or NaNs",
     "output_type": "error",
     "traceback": [
      "\u001b[0;31m---------------------------------------------------------------------------\u001b[0m",
      "\u001b[0;31mValueError\u001b[0m                                Traceback (most recent call last)",
      "Cell \u001b[0;32mIn[25], line 102\u001b[0m\n\u001b[1;32m    100\u001b[0m raw_pyprep\u001b[38;5;241m.\u001b[39mfind_all_bads(ransac\u001b[38;5;241m=\u001b[39m\u001b[38;5;28;01mFalse\u001b[39;00m, channel_wise\u001b[38;5;241m=\u001b[39m\u001b[38;5;28;01mFalse\u001b[39;00m, max_chunk_size\u001b[38;5;241m=\u001b[39m\u001b[38;5;28;01mNone\u001b[39;00m)\n\u001b[1;32m    101\u001b[0m raw\u001b[38;5;241m.\u001b[39minfo[\u001b[38;5;124m'\u001b[39m\u001b[38;5;124mbads\u001b[39m\u001b[38;5;124m'\u001b[39m] \u001b[38;5;241m=\u001b[39m raw_pyprep\u001b[38;5;241m.\u001b[39mget_bads()\n\u001b[0;32m--> 102\u001b[0m \u001b[43mraw\u001b[49m\u001b[38;5;241;43m.\u001b[39;49m\u001b[43minterpolate_bads\u001b[49m\u001b[43m(\u001b[49m\u001b[43mreset_bads\u001b[49m\u001b[38;5;241;43m=\u001b[39;49m\u001b[38;5;28;43;01mTrue\u001b[39;49;00m\u001b[43m)\u001b[49m\n\u001b[1;32m    103\u001b[0m clear_display()\n\u001b[1;32m    105\u001b[0m \u001b[38;5;66;03m# re-reference channels\u001b[39;00m\n",
      "File \u001b[0;32m<decorator-gen-126>:12\u001b[0m, in \u001b[0;36minterpolate_bads\u001b[0;34m(self, reset_bads, mode, origin, method, exclude, verbose)\u001b[0m\n",
      "File \u001b[0;32m~/mambaforge/envs/mne/lib/python3.11/site-packages/mne/channels/channels.py:910\u001b[0m, in \u001b[0;36mInterpolationMixin.interpolate_bads\u001b[0;34m(self, reset_bads, mode, origin, method, exclude, verbose)\u001b[0m\n\u001b[1;32m    908\u001b[0m origin \u001b[38;5;241m=\u001b[39m _check_origin(origin, \u001b[38;5;28mself\u001b[39m\u001b[38;5;241m.\u001b[39minfo)\n\u001b[1;32m    909\u001b[0m \u001b[38;5;28;01mif\u001b[39;00m method\u001b[38;5;241m.\u001b[39mget(\u001b[38;5;124m\"\u001b[39m\u001b[38;5;124meeg\u001b[39m\u001b[38;5;124m\"\u001b[39m, \u001b[38;5;124m\"\u001b[39m\u001b[38;5;124m\"\u001b[39m) \u001b[38;5;241m==\u001b[39m \u001b[38;5;124m\"\u001b[39m\u001b[38;5;124mspline\u001b[39m\u001b[38;5;124m\"\u001b[39m:\n\u001b[0;32m--> 910\u001b[0m     \u001b[43m_interpolate_bads_eeg\u001b[49m\u001b[43m(\u001b[49m\u001b[38;5;28;43mself\u001b[39;49m\u001b[43m,\u001b[49m\u001b[43m \u001b[49m\u001b[43morigin\u001b[49m\u001b[38;5;241;43m=\u001b[39;49m\u001b[43morigin\u001b[49m\u001b[43m,\u001b[49m\u001b[43m \u001b[49m\u001b[43mexclude\u001b[49m\u001b[38;5;241;43m=\u001b[39;49m\u001b[43mexclude\u001b[49m\u001b[43m)\u001b[49m\n\u001b[1;32m    911\u001b[0m     eeg_mne \u001b[38;5;241m=\u001b[39m \u001b[38;5;28;01mFalse\u001b[39;00m\n\u001b[1;32m    912\u001b[0m \u001b[38;5;28;01melif\u001b[39;00m \u001b[38;5;124m\"\u001b[39m\u001b[38;5;124meeg\u001b[39m\u001b[38;5;124m\"\u001b[39m \u001b[38;5;129;01mnot\u001b[39;00m \u001b[38;5;129;01min\u001b[39;00m method:\n",
      "File \u001b[0;32m<decorator-gen-284>:12\u001b[0m, in \u001b[0;36m_interpolate_bads_eeg\u001b[0;34m(inst, origin, exclude, verbose)\u001b[0m\n",
      "File \u001b[0;32m~/mambaforge/envs/mne/lib/python3.11/site-packages/mne/channels/interpolation.py:172\u001b[0m, in \u001b[0;36m_interpolate_bads_eeg\u001b[0;34m(inst, origin, exclude, verbose)\u001b[0m\n\u001b[1;32m    167\u001b[0m pos_bad \u001b[38;5;241m=\u001b[39m pos[bads_idx_pos] \u001b[38;5;241m-\u001b[39m origin\n\u001b[1;32m    168\u001b[0m logger\u001b[38;5;241m.\u001b[39minfo(\n\u001b[1;32m    169\u001b[0m     \u001b[38;5;124m\"\u001b[39m\u001b[38;5;124mComputing interpolation matrix from \u001b[39m\u001b[38;5;132;01m{}\u001b[39;00m\u001b[38;5;124m sensor \u001b[39m\u001b[38;5;124m\"\u001b[39m\n\u001b[1;32m    170\u001b[0m     \u001b[38;5;124m\"\u001b[39m\u001b[38;5;124mpositions\u001b[39m\u001b[38;5;124m\"\u001b[39m\u001b[38;5;241m.\u001b[39mformat(\u001b[38;5;28mlen\u001b[39m(pos_good))\n\u001b[1;32m    171\u001b[0m )\n\u001b[0;32m--> 172\u001b[0m interpolation \u001b[38;5;241m=\u001b[39m \u001b[43m_make_interpolation_matrix\u001b[49m\u001b[43m(\u001b[49m\u001b[43mpos_good\u001b[49m\u001b[43m,\u001b[49m\u001b[43m \u001b[49m\u001b[43mpos_bad\u001b[49m\u001b[43m)\u001b[49m\n\u001b[1;32m    174\u001b[0m logger\u001b[38;5;241m.\u001b[39minfo(\u001b[38;5;124m\"\u001b[39m\u001b[38;5;124mInterpolating \u001b[39m\u001b[38;5;132;01m{}\u001b[39;00m\u001b[38;5;124m sensors\u001b[39m\u001b[38;5;124m\"\u001b[39m\u001b[38;5;241m.\u001b[39mformat(\u001b[38;5;28mlen\u001b[39m(pos_bad)))\n\u001b[1;32m    175\u001b[0m _do_interp_dots(inst, interpolation, goods_idx, bads_idx)\n",
      "File \u001b[0;32m~/mambaforge/envs/mne/lib/python3.11/site-packages/mne/channels/interpolation.py:115\u001b[0m, in \u001b[0;36m_make_interpolation_matrix\u001b[0;34m(pos_from, pos_to, alpha)\u001b[0m\n\u001b[1;32m    107\u001b[0m     G_from\u001b[38;5;241m.\u001b[39mflat[:: \u001b[38;5;28mlen\u001b[39m(G_from) \u001b[38;5;241m+\u001b[39m \u001b[38;5;241m1\u001b[39m] \u001b[38;5;241m+\u001b[39m\u001b[38;5;241m=\u001b[39m alpha\n\u001b[1;32m    109\u001b[0m C \u001b[38;5;241m=\u001b[39m np\u001b[38;5;241m.\u001b[39mvstack(\n\u001b[1;32m    110\u001b[0m     [\n\u001b[1;32m    111\u001b[0m         np\u001b[38;5;241m.\u001b[39mhstack([G_from, np\u001b[38;5;241m.\u001b[39mones((n_from, \u001b[38;5;241m1\u001b[39m))]),\n\u001b[1;32m    112\u001b[0m         np\u001b[38;5;241m.\u001b[39mhstack([np\u001b[38;5;241m.\u001b[39mones((\u001b[38;5;241m1\u001b[39m, n_from)), [[\u001b[38;5;241m0\u001b[39m]]]),\n\u001b[1;32m    113\u001b[0m     ]\n\u001b[1;32m    114\u001b[0m )\n\u001b[0;32m--> 115\u001b[0m C_inv \u001b[38;5;241m=\u001b[39m \u001b[43mpinv\u001b[49m\u001b[43m(\u001b[49m\u001b[43mC\u001b[49m\u001b[43m)\u001b[49m\n\u001b[1;32m    117\u001b[0m interpolation \u001b[38;5;241m=\u001b[39m np\u001b[38;5;241m.\u001b[39mhstack([G_to_from, np\u001b[38;5;241m.\u001b[39mones((n_to, \u001b[38;5;241m1\u001b[39m))]) \u001b[38;5;241m@\u001b[39m C_inv[:, :\u001b[38;5;241m-\u001b[39m\u001b[38;5;241m1\u001b[39m]\n\u001b[1;32m    118\u001b[0m \u001b[38;5;28;01massert\u001b[39;00m interpolation\u001b[38;5;241m.\u001b[39mshape \u001b[38;5;241m==\u001b[39m (n_to, n_from)\n",
      "File \u001b[0;32m~/mambaforge/envs/mne/lib/python3.11/site-packages/scipy/linalg/_basic.py:1433\u001b[0m, in \u001b[0;36mpinv\u001b[0;34m(a, atol, rtol, return_rank, check_finite, cond, rcond)\u001b[0m\n\u001b[1;32m   1319\u001b[0m \u001b[38;5;28;01mdef\u001b[39;00m \u001b[38;5;21mpinv\u001b[39m(a, atol\u001b[38;5;241m=\u001b[39m\u001b[38;5;28;01mNone\u001b[39;00m, rtol\u001b[38;5;241m=\u001b[39m\u001b[38;5;28;01mNone\u001b[39;00m, return_rank\u001b[38;5;241m=\u001b[39m\u001b[38;5;28;01mFalse\u001b[39;00m, check_finite\u001b[38;5;241m=\u001b[39m\u001b[38;5;28;01mTrue\u001b[39;00m,\n\u001b[1;32m   1320\u001b[0m          cond\u001b[38;5;241m=\u001b[39m\u001b[38;5;28;01mNone\u001b[39;00m, rcond\u001b[38;5;241m=\u001b[39m\u001b[38;5;28;01mNone\u001b[39;00m):\n\u001b[1;32m   1321\u001b[0m \u001b[38;5;250m    \u001b[39m\u001b[38;5;124;03m\"\"\"\u001b[39;00m\n\u001b[1;32m   1322\u001b[0m \u001b[38;5;124;03m    Compute the (Moore-Penrose) pseudo-inverse of a matrix.\u001b[39;00m\n\u001b[1;32m   1323\u001b[0m \n\u001b[0;32m   (...)\u001b[0m\n\u001b[1;32m   1431\u001b[0m \n\u001b[1;32m   1432\u001b[0m \u001b[38;5;124;03m    \"\"\"\u001b[39;00m\n\u001b[0;32m-> 1433\u001b[0m     a \u001b[38;5;241m=\u001b[39m \u001b[43m_asarray_validated\u001b[49m\u001b[43m(\u001b[49m\u001b[43ma\u001b[49m\u001b[43m,\u001b[49m\u001b[43m \u001b[49m\u001b[43mcheck_finite\u001b[49m\u001b[38;5;241;43m=\u001b[39;49m\u001b[43mcheck_finite\u001b[49m\u001b[43m)\u001b[49m\n\u001b[1;32m   1434\u001b[0m     u, s, vh \u001b[38;5;241m=\u001b[39m _decomp_svd\u001b[38;5;241m.\u001b[39msvd(a, full_matrices\u001b[38;5;241m=\u001b[39m\u001b[38;5;28;01mFalse\u001b[39;00m, check_finite\u001b[38;5;241m=\u001b[39m\u001b[38;5;28;01mFalse\u001b[39;00m)\n\u001b[1;32m   1435\u001b[0m     t \u001b[38;5;241m=\u001b[39m u\u001b[38;5;241m.\u001b[39mdtype\u001b[38;5;241m.\u001b[39mchar\u001b[38;5;241m.\u001b[39mlower()\n",
      "File \u001b[0;32m~/mambaforge/envs/mne/lib/python3.11/site-packages/scipy/_lib/_util.py:240\u001b[0m, in \u001b[0;36m_asarray_validated\u001b[0;34m(a, check_finite, sparse_ok, objects_ok, mask_ok, as_inexact)\u001b[0m\n\u001b[1;32m    238\u001b[0m         \u001b[38;5;28;01mraise\u001b[39;00m \u001b[38;5;167;01mValueError\u001b[39;00m(\u001b[38;5;124m'\u001b[39m\u001b[38;5;124mmasked arrays are not supported\u001b[39m\u001b[38;5;124m'\u001b[39m)\n\u001b[1;32m    239\u001b[0m toarray \u001b[38;5;241m=\u001b[39m np\u001b[38;5;241m.\u001b[39masarray_chkfinite \u001b[38;5;28;01mif\u001b[39;00m check_finite \u001b[38;5;28;01melse\u001b[39;00m np\u001b[38;5;241m.\u001b[39masarray\n\u001b[0;32m--> 240\u001b[0m a \u001b[38;5;241m=\u001b[39m \u001b[43mtoarray\u001b[49m\u001b[43m(\u001b[49m\u001b[43ma\u001b[49m\u001b[43m)\u001b[49m\n\u001b[1;32m    241\u001b[0m \u001b[38;5;28;01mif\u001b[39;00m \u001b[38;5;129;01mnot\u001b[39;00m objects_ok:\n\u001b[1;32m    242\u001b[0m     \u001b[38;5;28;01mif\u001b[39;00m a\u001b[38;5;241m.\u001b[39mdtype \u001b[38;5;129;01mis\u001b[39;00m np\u001b[38;5;241m.\u001b[39mdtype(\u001b[38;5;124m'\u001b[39m\u001b[38;5;124mO\u001b[39m\u001b[38;5;124m'\u001b[39m):\n",
      "File \u001b[0;32m~/mambaforge/envs/mne/lib/python3.11/site-packages/numpy/lib/function_base.py:630\u001b[0m, in \u001b[0;36masarray_chkfinite\u001b[0;34m(a, dtype, order)\u001b[0m\n\u001b[1;32m    628\u001b[0m a \u001b[38;5;241m=\u001b[39m asarray(a, dtype\u001b[38;5;241m=\u001b[39mdtype, order\u001b[38;5;241m=\u001b[39morder)\n\u001b[1;32m    629\u001b[0m \u001b[38;5;28;01mif\u001b[39;00m a\u001b[38;5;241m.\u001b[39mdtype\u001b[38;5;241m.\u001b[39mchar \u001b[38;5;129;01min\u001b[39;00m typecodes[\u001b[38;5;124m'\u001b[39m\u001b[38;5;124mAllFloat\u001b[39m\u001b[38;5;124m'\u001b[39m] \u001b[38;5;129;01mand\u001b[39;00m \u001b[38;5;129;01mnot\u001b[39;00m np\u001b[38;5;241m.\u001b[39misfinite(a)\u001b[38;5;241m.\u001b[39mall():\n\u001b[0;32m--> 630\u001b[0m     \u001b[38;5;28;01mraise\u001b[39;00m \u001b[38;5;167;01mValueError\u001b[39;00m(\n\u001b[1;32m    631\u001b[0m         \u001b[38;5;124m\"\u001b[39m\u001b[38;5;124marray must not contain infs or NaNs\u001b[39m\u001b[38;5;124m\"\u001b[39m)\n\u001b[1;32m    632\u001b[0m \u001b[38;5;28;01mreturn\u001b[39;00m a\n",
      "\u001b[0;31mValueError\u001b[0m: array must not contain infs or NaNs"
     ]
    }
   ],
   "source": [
    "\"\"\"  \n",
    "Preprocess raw EDF data to filtered FIF format.  \n",
    "\"\"\"  \n",
    "for sub_folder in os.listdir(data_path):  \n",
    "    if sub_folder.startswith(sub_id):  \n",
    "        save_fname_fif = sub_id + '_preprocessed-raw.fif'  \n",
    "        print(sub_id, save_fname_fif)  \n",
    "        break  \n",
    "\n",
    "eeg_data_raw_file = os.path.join(data_path, sub_folder, next(subfile for subfile in os.listdir(os.path.join(data_path,sub_folder)) if (subfile.endswith(('.edf', '.EDF')))))  \n",
    "\n",
    "# read data, set EOG channel, and drop unused channels\n",
    "print(f\"{sub_id}\\nreading raw file...\")\n",
    "raw = load_raw_data(eeg_data_raw_file, 'eog')\n",
    "\n",
    "montage_fname = '../montages/Hydro_Neo_Net_64_xyz_cms_No_FID.sfp'\n",
    "Fp1_eog_flag=0\n",
    "# 32 channel case\n",
    "if 'X' in raw.ch_names and len(raw.ch_names)<64:  \n",
    "    raw = load_raw_data(eeg_data_raw_file, 'Fp1')  \n",
    "    Fp1_eog_flag=1\n",
    "    \n",
    "    non_eeg_chs = ['X', 'Y', 'Z'] if 'X' in raw.ch_names else []  \n",
    "    non_eeg_chs += ['Oth4'] if 'Oth4' in raw.ch_names else []  \n",
    "\n",
    "    raw.drop_channels(non_eeg_chs)\n",
    "    montage_fname = '../montages/Hydro_Neo_Net_32_xyz_cms_No_Fp1.sfp'\n",
    "    set_montage(raw, montage_fname)\n",
    "\n",
    "# 64 channel case\n",
    "else:\n",
    "    wrong_64_mtg_flag=0\n",
    "    if {'FT7', 'P05'}.issubset(set(raw.ch_names)):  \n",
    "        wrong_64_mtg_flag=1\n",
    "        eog_adj = 4\n",
    "    elif 'VEO' in raw.ch_names or 'VEOG' in raw.ch_names:  \n",
    "        eog_adj = 5\n",
    "        raw = load_raw_data(eeg_data_raw_file, 'VEO' if 'VEO' in raw.ch_names else 'VEOG')  \n",
    "        non_eeg_chs = ['HEOG', 'EKG', 'EMG', 'Trigger'] if 'HEOG' in raw.ch_names else ['HEO', 'EKG', 'EMG', 'Trigger']  \n",
    "        raw.drop_channels(non_eeg_chs)\n",
    "        montage_fname = '../montages/Hydro_Neo_Net_64_xyz_cms_No_FID.sfp'\n",
    "        set_montage(raw, montage_fname)\n",
    "\n",
    "    if \"EEG66\" in raw.ch_names:\n",
    "        non_eeg_chs = ['EEG66','EEG67','EEG68','EEG69']\n",
    "        raw.drop_channels(non_eeg_chs)\n",
    "\n",
    "    # For 64 channel gTec cap\n",
    "    if 'AF8' in raw.ch_names:\n",
    "        # Form the 10-20 montage\n",
    "        mont1020 = mne.channels.make_standard_montage('standard_1020')\n",
    "        # Choose what channels you want to keep \n",
    "        # Make sure that these channels exist e.g. T1 does not exist in the standard 10-20 EEG system!\n",
    "        kept_channels = raw.info['ch_names'][:64]\n",
    "        ind = [i for (i, channel) in enumerate(mont1020.ch_names) if channel.lower() in map(str.lower, kept_channels)]\n",
    "        mont1020_new = mont1020.copy()\n",
    "        # Keep only the desired channels\n",
    "        mont1020_new.ch_names = [mont1020.ch_names[x] for x in ind]\n",
    "        kept_channel_info = [mont1020.dig[x+3] for x in ind]\n",
    "        # Keep the first three rows as they are the fiducial points information\n",
    "        mont1020_new.dig = mont1020.dig[0:3]+kept_channel_info\n",
    "        set_montage(raw, mont1020_new)\n",
    "        raw.pick([*range(62)]) # drop reference channels\n",
    "\n",
    "    # make adjustment for wrong montage subjects\n",
    "    if wrong_64_mtg_flag:\n",
    "        raw.drop_channels(['FT7','FT8','PO5','PO6']) # for subjects C24, 055, 056, 047\n",
    "        montage_fname = '../montages/Hydro_Neo_Net_64_xyz_cms_No_FID_Caps.sfp' \n",
    "        set_montage(raw, montage_fname)\n",
    "\n",
    "# CLBP 007 and 010 had extremely noisy data near the ends of their recordings.\n",
    "# Crop it out. \n",
    "parent_dir = os.path.abspath(os.path.join(os.getcwd(), os.pardir))\n",
    "if ('Chronic Low Back Pain' in parent_dir and sub_id=='007'):\n",
    "    raw.crop(tmax=1483) \n",
    "if ('Chronic Low Back Pain' in parent_dir and sub_id=='010'):\n",
    "    raw.crop(tmax=1997.8)\n",
    "  \n",
    "# high level inspection\n",
    "print(raw.ch_names)\n",
    "print(len(raw.ch_names))\n",
    "                      \n",
    "# apply notch filter\n",
    "print(f\"{sub_id}\\napplying notch filter...\")\n",
    "raw = raw.notch_filter(60., notch_widths=3)\n",
    "clear_display()\n",
    "\n",
    "# apply bandpass filter\n",
    "print(f\"{sub_id}\\napplying bandpass filter...\")\n",
    "raw = raw.filter(l_freq=1., h_freq=100.)\n",
    "clear_display()\n",
    "\n",
    "# resample data to decrease file size\n",
    "print(f\"{sub_id}\\nresampling data from {raw.info['sfreq']} Hz to {RESAMPLE_FREQ} Hz...\")\n",
    "raw.resample(RESAMPLE_FREQ, npad='auto')\n",
    "clear_display()\n",
    "\n",
    "# find bad channels automatically\n",
    "print(f\"{sub_id}\\nremoving bad channels...\")\n",
    "raw_pyprep = NoisyChannels(raw, random_state=RANDOM_STATE)\n",
    "raw_pyprep.find_all_bads(ransac=False, channel_wise=False, max_chunk_size=None)\n",
    "raw.info['bads'] = raw_pyprep.get_bads()\n",
    "raw.interpolate_bads(reset_bads=True)\n",
    "clear_display()\n",
    "\n",
    "# re-reference channels\n",
    "print(f\"{sub_id}\\nre-referencing channels to average...\")\n",
    "raw, _ = mne.set_eeg_reference(raw, ref_channels='average', copy=True)\n",
    "clear_display()\n",
    "\n",
    "# fit ICA \n",
    "print(f\"{sub_id}\\nfitting ICA...\")\n",
    "num_goods = len(raw.ch_names) - len(raw.info['bads']) - 1 # adjust for EOG\n",
    "ica = ICA(n_components=int(np.floor(num_goods/2)), random_state=RANDOM_STATE, max_iter='auto')\n",
    "ica.fit(raw)\n",
    "clear_display()\n",
    "\n",
    "# find EOG artifacts\n",
    "print(f\"{sub_id}\\nfinding EOG artifacts...\")\n",
    "\n",
    "try: \n",
    "    eog_indices, eog_scores = ica.find_bads_eog(raw,\n",
    "                                                threshold='auto')\n",
    "    ica.exclude = eog_indices\n",
    "\n",
    "except:\n",
    "    ica.exclude = [0,1]\n",
    "clear_display()\n",
    "\n",
    "# apply ICA\n",
    "print(f\"{sub_id}\\napplying ICA...\")\n",
    "ica.apply(raw)\n",
    "clear_display()\n",
    "\n",
    "# save copy of data\n",
    "print(f\"Saving processed data as '{save_fname_fif}'...\")\n",
    "\n",
    "if 'VEO' in raw.ch_names:\n",
    "    raw.drop_channels('VEO')\n",
    "elif 'VEOG' in raw.ch_names:\n",
    "    raw.drop_channels('VEOG')\n",
    "elif Fp1_eog_flag:\n",
    "    montage_fname = '../montages/Hydro_Neo_Net_32_xyz_cms_No_Fp1.sfp'\n",
    "    set_montage(raw,montage_fname)\n",
    "\n",
    "raw.save(save_path+save_fname_fif, \n",
    "         verbose=True, overwrite=True)\n",
    "clear_display()\n",
    "\n",
    "# high level inspection\n",
    "print(raw.ch_names)\n",
    "print('\\nNumber of remaining channels: ',len(raw.ch_names) - len(raw.info['bads']))\n",
    "print('\\nDropped channels: ',raw.info['bads'])\n",
    "\n",
    "print(\"Raw data preprocessing complete.\")\n",
    "\n",
    "clear_display()"
   ]
  },
  {
   "cell_type": "code",
   "execution_count": 26,
   "id": "4e02e07b-187b-4420-b17b-5a8abe18a67f",
   "metadata": {},
   "outputs": [
    {
     "data": {
      "text/html": [
       "<details open>\n",
       "    <summary><strong>General</strong></summary>\n",
       "    <table class=\"table table-hover table-striped table-sm table-responsive small\">\n",
       "        <tr>\n",
       "            <th>Measurement date</th>\n",
       "            \n",
       "            <td>January 01, 2000  00:00:00 GMT</td>\n",
       "            \n",
       "        </tr>\n",
       "        <tr>\n",
       "            <th>Experimenter</th>\n",
       "            \n",
       "            <td>Unknown</td>\n",
       "            \n",
       "        </tr>\n",
       "        <tr>\n",
       "            <th>Participant</th>\n",
       "            \n",
       "            \n",
       "            <td>XX</td>\n",
       "            \n",
       "            \n",
       "        </tr>\n",
       "    </table>\n",
       "    </details>\n",
       "    <details open>\n",
       "        <summary><strong>Channels</strong></summary>\n",
       "        <table class=\"table table-hover table-striped table-sm table-responsive small\">\n",
       "            <tr>\n",
       "                <th>Digitized points</th>\n",
       "                \n",
       "                <td>64 points</td>\n",
       "                \n",
       "            </tr>\n",
       "            <tr>\n",
       "                <th>Good channels</th>\n",
       "                <td>50 EEG</td>\n",
       "            </tr>\n",
       "            <tr>\n",
       "                <th>Bad channels</th>\n",
       "                <td>F1, P4, P7, Oz, P8, FC2, PO3, P3, P6, O2, F9, F2</td>\n",
       "            </tr>\n",
       "            <tr>\n",
       "                <th>EOG channels</th>\n",
       "                <td>Not available</td>\n",
       "            </tr>\n",
       "            <tr>\n",
       "                <th>ECG channels</th>\n",
       "                <td>Not available</td>\n",
       "            </tr>\n",
       "        </table>\n",
       "        </details>\n",
       "        <details open>\n",
       "            <summary><strong>Data</strong></summary>\n",
       "            <table class=\"table table-hover table-striped table-sm table-responsive small\">\n",
       "                \n",
       "                <tr>\n",
       "                    <th>Sampling frequency</th>\n",
       "                    <td>400.00 Hz</td>\n",
       "                </tr>\n",
       "                \n",
       "                \n",
       "                <tr>\n",
       "                    <th>Highpass</th>\n",
       "                    <td>1.00 Hz</td>\n",
       "                </tr>\n",
       "                \n",
       "                \n",
       "                <tr>\n",
       "                    <th>Lowpass</th>\n",
       "                    <td>100.00 Hz</td>\n",
       "                </tr>\n",
       "                \n",
       "                \n",
       "                \n",
       "                <tr>\n",
       "                    <th>Filenames</th>\n",
       "                    <td>001 test pinprick2023.12.04_09.58.12.EDF</td>\n",
       "                </tr>\n",
       "                \n",
       "                \n",
       "                <tr>\n",
       "                    <th>Duration</th>\n",
       "                    <td>00:25:26 (HH:MM:SS)</td>\n",
       "                </tr>\n",
       "                \n",
       "            </table>\n",
       "            </details>"
      ],
      "text/plain": [
       "<RawEDF | 001 test pinprick2023.12.04_09.58.12.EDF, 62 x 610400 (1526.0 s), ~288.8 MB, data loaded>"
      ]
     },
     "execution_count": 26,
     "metadata": {},
     "output_type": "execute_result"
    }
   ],
   "source": [
    "raw"
   ]
  },
  {
   "cell_type": "code",
   "execution_count": 27,
   "id": "ddb807b9-3ae3-4449-b5c1-93c827214f78",
   "metadata": {},
   "outputs": [],
   "source": [
    "data = raw.get_data()"
   ]
  },
  {
   "cell_type": "code",
   "execution_count": 28,
   "id": "0b70df08-5168-4760-81e1-2ff4eb863c16",
   "metadata": {},
   "outputs": [],
   "source": [
    "import numpy as np \n",
    "inds = np.where(np.isnan(data) | np.isinf(data))"
   ]
  },
  {
   "cell_type": "code",
   "execution_count": 29,
   "id": "dd4c66e8-0531-4e3e-8cb9-44cf8e905732",
   "metadata": {},
   "outputs": [
    {
     "data": {
      "text/plain": [
       "(array([], dtype=int64), array([], dtype=int64))"
      ]
     },
     "execution_count": 29,
     "metadata": {},
     "output_type": "execute_result"
    }
   ],
   "source": [
    "inds"
   ]
  },
  {
   "cell_type": "code",
   "execution_count": 30,
   "id": "a427ef4c-817f-439e-86b6-e2cb5a43dd4f",
   "metadata": {},
   "outputs": [],
   "source": [
    "import pandas as pd\n",
    "df = pd.DataFrame(data)"
   ]
  },
  {
   "cell_type": "code",
   "execution_count": null,
   "id": "37b3cba2-d359-45ab-9ae8-34b85016fbc3",
   "metadata": {},
   "outputs": [],
   "source": []
  },
  {
   "cell_type": "code",
   "execution_count": null,
   "id": "d51f2348-6590-4905-aed5-9900ce10bf61",
   "metadata": {},
   "outputs": [],
   "source": []
  }
 ],
 "metadata": {
  "kernelspec": {
   "display_name": "mne",
   "language": "python",
   "name": "mne"
  },
  "language_info": {
   "codemirror_mode": {
    "name": "ipython",
    "version": 3
   },
   "file_extension": ".py",
   "mimetype": "text/x-python",
   "name": "python",
   "nbconvert_exporter": "python",
   "pygments_lexer": "ipython3",
   "version": "3.11.6"
  }
 },
 "nbformat": 4,
 "nbformat_minor": 5
}
