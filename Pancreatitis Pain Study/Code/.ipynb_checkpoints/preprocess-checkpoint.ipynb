{
 "cells": [
  {
   "cell_type": "markdown",
   "id": "98815475-cc59-43f2-ae40-5ee07b1522fd",
   "metadata": {},
   "source": [
    "# Preprocess subjects' EEG data"
   ]
  },
  {
   "cell_type": "code",
   "execution_count": 1,
   "id": "17e5a59a-fa28-449d-ac91-f9cb2a3a81fe",
   "metadata": {},
   "outputs": [
    {
     "name": "stdout",
     "output_type": "stream",
     "text": [
      "0 files missing from root.txt in /home/wanglab/mne_data/MNE-fsaverage-data\n",
      "0 files missing from bem.txt in /home/wanglab/mne_data/MNE-fsaverage-data/fsaverage\n"
     ]
    }
   ],
   "source": [
    "import sys\n",
    "sys.path.append('/home/wanglab/Documents/George Kenefati/Code/eeg_toolkit/')\n",
    "import os\n",
    "import mne\n",
    "import glob\n",
    "import eeg_toolkit\n",
    "from eeg_toolkit import _preprocess, source_localization"
   ]
  },
  {
   "cell_type": "code",
   "execution_count": 2,
   "id": "dd5cdccd-bb15-443b-95e2-5b295b3a03a2",
   "metadata": {},
   "outputs": [
    {
     "name": "stdout",
     "output_type": "stream",
     "text": [
      "[-2.5,0.0,2.5]\n"
     ]
    }
   ],
   "source": [
    "# Settings\n",
    "times_tup,time_win_path = _preprocess.get_time_window(5)\n",
    "\n",
    "# Read in processed raw data\n",
    "data_path = '../Data/Raw/'\n",
    "save_path = '../Data/Processed Data/'\n",
    "epo_path = save_path + time_win_path\n",
    "\n",
    "if not os.path.exists(epo_path):\n",
    "    os.makedirs(epo_path)\n",
    "\n",
    "# Noise cov: crop raw during eyes-open resting condition\n",
    "noise_cov_win = 5.5, 7.5 # rest_min, rest_max"
   ]
  },
  {
   "cell_type": "code",
   "execution_count": 3,
   "id": "85814949-f2b8-48fb-8c27-0a7ae5757194",
   "metadata": {
    "tags": []
   },
   "outputs": [],
   "source": [
    "# Get stc only from selected labels\n",
    "roi_names = [# Left\n",
    "             'rostralanteriorcingulate-lh', # Left Rostral ACC\n",
    "             'caudalanteriorcingulate-lh', # Left Caudal ACC\n",
    "             'postcentral-lh', # Left S1,\n",
    "             'insula-lh', 'superiorfrontal-lh', # Left Insula, Left DL-PFC,\n",
    "             'medialorbitofrontal-lh', # Left Medial-OFC\n",
    "             # Right\n",
    "             'rostralanteriorcingulate-rh', # Right Rostral ACC\n",
    "             'caudalanteriorcingulate-rh', # Right Caudal ACC\n",
    "             'postcentral-rh', # , Right S1\n",
    "             'insula-rh', 'superiorfrontal-rh', # Right Insula, Right DL-PFC\n",
    "             'medialorbitofrontal-rh'] # Right Medial-OFC"
   ]
  },
  {
   "cell_type": "code",
   "execution_count": 4,
   "id": "652be1e9-2130-41ab-89ee-e589242ff2c4",
   "metadata": {},
   "outputs": [],
   "source": [
    "sub_ids = [\n",
    "    '001',\n",
    "    # 'T01',\n",
    "    # 'T02',\n",
    "    # 'T03',\n",
    "]"
   ]
  },
  {
   "cell_type": "code",
   "execution_count": 5,
   "id": "25191af1-c4cf-49dc-9cf0-af11fd1f2490",
   "metadata": {
    "scrolled": true
   },
   "outputs": [
    {
     "name": "stdout",
     "output_type": "stream",
     "text": [
      "001\n",
      "removing bad channels...\n"
     ]
    },
    {
     "ename": "ValueError",
     "evalue": "array must not contain infs or NaNs",
     "output_type": "error",
     "traceback": [
      "\u001b[0;31m---------------------------------------------------------------------------\u001b[0m",
      "\u001b[0;31mValueError\u001b[0m                                Traceback (most recent call last)",
      "Cell \u001b[0;32mIn[5], line 2\u001b[0m\n\u001b[1;32m      1\u001b[0m \u001b[38;5;28;01mfor\u001b[39;00m sub_id \u001b[38;5;129;01min\u001b[39;00m sub_ids:\n\u001b[0;32m----> 2\u001b[0m     raw \u001b[38;5;241m=\u001b[39m \u001b[43m_preprocess\u001b[49m\u001b[38;5;241;43m.\u001b[39;49m\u001b[43mto_raw\u001b[49m\u001b[43m(\u001b[49m\u001b[43mdata_path\u001b[49m\u001b[43m,\u001b[49m\u001b[43msub_id\u001b[49m\u001b[43m,\u001b[49m\u001b[43msave_path\u001b[49m\u001b[43m)\u001b[49m\n\u001b[1;32m      3\u001b[0m     _preprocess\u001b[38;5;241m.\u001b[39mto_epo(raw, sub_id, data_path, save_path)\n\u001b[1;32m      4\u001b[0m     \u001b[38;5;66;03m# _ = source_localization.to_source(sub_id,stc_data_path,epo_path,\u001b[39;00m\n\u001b[1;32m      5\u001b[0m     \u001b[38;5;66;03m#                               save_path_cont,\u001b[39;00m\n\u001b[1;32m      6\u001b[0m     \u001b[38;5;66;03m#                               save_path_zepo,\u001b[39;00m\n\u001b[0;32m   (...)\u001b[0m\n\u001b[1;32m     10\u001b[0m     \u001b[38;5;66;03m#                               include_zepochs=True,\u001b[39;00m\n\u001b[1;32m     11\u001b[0m     \u001b[38;5;66;03m#                               average_dipoles=True)        \u001b[39;00m\n",
      "File \u001b[0;32m~/Documents/George Kenefati/Code/eeg_toolkit/eeg_toolkit/_preprocess.py:167\u001b[0m, in \u001b[0;36mto_raw\u001b[0;34m(data_path, sub_id, save_path)\u001b[0m\n\u001b[1;32m    165\u001b[0m raw_pyprep\u001b[38;5;241m.\u001b[39mfind_all_bads(ransac\u001b[38;5;241m=\u001b[39m\u001b[38;5;28;01mFalse\u001b[39;00m, channel_wise\u001b[38;5;241m=\u001b[39m\u001b[38;5;28;01mFalse\u001b[39;00m, max_chunk_size\u001b[38;5;241m=\u001b[39m\u001b[38;5;28;01mNone\u001b[39;00m)\n\u001b[1;32m    166\u001b[0m raw\u001b[38;5;241m.\u001b[39minfo[\u001b[38;5;124m'\u001b[39m\u001b[38;5;124mbads\u001b[39m\u001b[38;5;124m'\u001b[39m] \u001b[38;5;241m=\u001b[39m raw_pyprep\u001b[38;5;241m.\u001b[39mget_bads()\n\u001b[0;32m--> 167\u001b[0m \u001b[43mraw\u001b[49m\u001b[38;5;241;43m.\u001b[39;49m\u001b[43minterpolate_bads\u001b[49m\u001b[43m(\u001b[49m\u001b[43mreset_bads\u001b[49m\u001b[38;5;241;43m=\u001b[39;49m\u001b[38;5;28;43;01mTrue\u001b[39;49;00m\u001b[43m)\u001b[49m\n\u001b[1;32m    168\u001b[0m clear_display()\n\u001b[1;32m    170\u001b[0m \u001b[38;5;66;03m# re-reference channels\u001b[39;00m\n",
      "File \u001b[0;32m<decorator-gen-126>:12\u001b[0m, in \u001b[0;36minterpolate_bads\u001b[0;34m(self, reset_bads, mode, origin, method, exclude, verbose)\u001b[0m\n",
      "File \u001b[0;32m~/mambaforge/envs/mne/lib/python3.11/site-packages/mne/channels/channels.py:910\u001b[0m, in \u001b[0;36mInterpolationMixin.interpolate_bads\u001b[0;34m(self, reset_bads, mode, origin, method, exclude, verbose)\u001b[0m\n\u001b[1;32m    908\u001b[0m origin \u001b[38;5;241m=\u001b[39m _check_origin(origin, \u001b[38;5;28mself\u001b[39m\u001b[38;5;241m.\u001b[39minfo)\n\u001b[1;32m    909\u001b[0m \u001b[38;5;28;01mif\u001b[39;00m method\u001b[38;5;241m.\u001b[39mget(\u001b[38;5;124m\"\u001b[39m\u001b[38;5;124meeg\u001b[39m\u001b[38;5;124m\"\u001b[39m, \u001b[38;5;124m\"\u001b[39m\u001b[38;5;124m\"\u001b[39m) \u001b[38;5;241m==\u001b[39m \u001b[38;5;124m\"\u001b[39m\u001b[38;5;124mspline\u001b[39m\u001b[38;5;124m\"\u001b[39m:\n\u001b[0;32m--> 910\u001b[0m     \u001b[43m_interpolate_bads_eeg\u001b[49m\u001b[43m(\u001b[49m\u001b[38;5;28;43mself\u001b[39;49m\u001b[43m,\u001b[49m\u001b[43m \u001b[49m\u001b[43morigin\u001b[49m\u001b[38;5;241;43m=\u001b[39;49m\u001b[43morigin\u001b[49m\u001b[43m,\u001b[49m\u001b[43m \u001b[49m\u001b[43mexclude\u001b[49m\u001b[38;5;241;43m=\u001b[39;49m\u001b[43mexclude\u001b[49m\u001b[43m)\u001b[49m\n\u001b[1;32m    911\u001b[0m     eeg_mne \u001b[38;5;241m=\u001b[39m \u001b[38;5;28;01mFalse\u001b[39;00m\n\u001b[1;32m    912\u001b[0m \u001b[38;5;28;01melif\u001b[39;00m \u001b[38;5;124m\"\u001b[39m\u001b[38;5;124meeg\u001b[39m\u001b[38;5;124m\"\u001b[39m \u001b[38;5;129;01mnot\u001b[39;00m \u001b[38;5;129;01min\u001b[39;00m method:\n",
      "File \u001b[0;32m<decorator-gen-284>:12\u001b[0m, in \u001b[0;36m_interpolate_bads_eeg\u001b[0;34m(inst, origin, exclude, verbose)\u001b[0m\n",
      "File \u001b[0;32m~/mambaforge/envs/mne/lib/python3.11/site-packages/mne/channels/interpolation.py:172\u001b[0m, in \u001b[0;36m_interpolate_bads_eeg\u001b[0;34m(inst, origin, exclude, verbose)\u001b[0m\n\u001b[1;32m    167\u001b[0m pos_bad \u001b[38;5;241m=\u001b[39m pos[bads_idx_pos] \u001b[38;5;241m-\u001b[39m origin\n\u001b[1;32m    168\u001b[0m logger\u001b[38;5;241m.\u001b[39minfo(\n\u001b[1;32m    169\u001b[0m     \u001b[38;5;124m\"\u001b[39m\u001b[38;5;124mComputing interpolation matrix from \u001b[39m\u001b[38;5;132;01m{}\u001b[39;00m\u001b[38;5;124m sensor \u001b[39m\u001b[38;5;124m\"\u001b[39m\n\u001b[1;32m    170\u001b[0m     \u001b[38;5;124m\"\u001b[39m\u001b[38;5;124mpositions\u001b[39m\u001b[38;5;124m\"\u001b[39m\u001b[38;5;241m.\u001b[39mformat(\u001b[38;5;28mlen\u001b[39m(pos_good))\n\u001b[1;32m    171\u001b[0m )\n\u001b[0;32m--> 172\u001b[0m interpolation \u001b[38;5;241m=\u001b[39m \u001b[43m_make_interpolation_matrix\u001b[49m\u001b[43m(\u001b[49m\u001b[43mpos_good\u001b[49m\u001b[43m,\u001b[49m\u001b[43m \u001b[49m\u001b[43mpos_bad\u001b[49m\u001b[43m)\u001b[49m\n\u001b[1;32m    174\u001b[0m logger\u001b[38;5;241m.\u001b[39minfo(\u001b[38;5;124m\"\u001b[39m\u001b[38;5;124mInterpolating \u001b[39m\u001b[38;5;132;01m{}\u001b[39;00m\u001b[38;5;124m sensors\u001b[39m\u001b[38;5;124m\"\u001b[39m\u001b[38;5;241m.\u001b[39mformat(\u001b[38;5;28mlen\u001b[39m(pos_bad)))\n\u001b[1;32m    175\u001b[0m _do_interp_dots(inst, interpolation, goods_idx, bads_idx)\n",
      "File \u001b[0;32m~/mambaforge/envs/mne/lib/python3.11/site-packages/mne/channels/interpolation.py:115\u001b[0m, in \u001b[0;36m_make_interpolation_matrix\u001b[0;34m(pos_from, pos_to, alpha)\u001b[0m\n\u001b[1;32m    107\u001b[0m     G_from\u001b[38;5;241m.\u001b[39mflat[:: \u001b[38;5;28mlen\u001b[39m(G_from) \u001b[38;5;241m+\u001b[39m \u001b[38;5;241m1\u001b[39m] \u001b[38;5;241m+\u001b[39m\u001b[38;5;241m=\u001b[39m alpha\n\u001b[1;32m    109\u001b[0m C \u001b[38;5;241m=\u001b[39m np\u001b[38;5;241m.\u001b[39mvstack(\n\u001b[1;32m    110\u001b[0m     [\n\u001b[1;32m    111\u001b[0m         np\u001b[38;5;241m.\u001b[39mhstack([G_from, np\u001b[38;5;241m.\u001b[39mones((n_from, \u001b[38;5;241m1\u001b[39m))]),\n\u001b[1;32m    112\u001b[0m         np\u001b[38;5;241m.\u001b[39mhstack([np\u001b[38;5;241m.\u001b[39mones((\u001b[38;5;241m1\u001b[39m, n_from)), [[\u001b[38;5;241m0\u001b[39m]]]),\n\u001b[1;32m    113\u001b[0m     ]\n\u001b[1;32m    114\u001b[0m )\n\u001b[0;32m--> 115\u001b[0m C_inv \u001b[38;5;241m=\u001b[39m \u001b[43mpinv\u001b[49m\u001b[43m(\u001b[49m\u001b[43mC\u001b[49m\u001b[43m)\u001b[49m\n\u001b[1;32m    117\u001b[0m interpolation \u001b[38;5;241m=\u001b[39m np\u001b[38;5;241m.\u001b[39mhstack([G_to_from, np\u001b[38;5;241m.\u001b[39mones((n_to, \u001b[38;5;241m1\u001b[39m))]) \u001b[38;5;241m@\u001b[39m C_inv[:, :\u001b[38;5;241m-\u001b[39m\u001b[38;5;241m1\u001b[39m]\n\u001b[1;32m    118\u001b[0m \u001b[38;5;28;01massert\u001b[39;00m interpolation\u001b[38;5;241m.\u001b[39mshape \u001b[38;5;241m==\u001b[39m (n_to, n_from)\n",
      "File \u001b[0;32m~/mambaforge/envs/mne/lib/python3.11/site-packages/scipy/linalg/_basic.py:1433\u001b[0m, in \u001b[0;36mpinv\u001b[0;34m(a, atol, rtol, return_rank, check_finite, cond, rcond)\u001b[0m\n\u001b[1;32m   1319\u001b[0m \u001b[38;5;28;01mdef\u001b[39;00m \u001b[38;5;21mpinv\u001b[39m(a, atol\u001b[38;5;241m=\u001b[39m\u001b[38;5;28;01mNone\u001b[39;00m, rtol\u001b[38;5;241m=\u001b[39m\u001b[38;5;28;01mNone\u001b[39;00m, return_rank\u001b[38;5;241m=\u001b[39m\u001b[38;5;28;01mFalse\u001b[39;00m, check_finite\u001b[38;5;241m=\u001b[39m\u001b[38;5;28;01mTrue\u001b[39;00m,\n\u001b[1;32m   1320\u001b[0m          cond\u001b[38;5;241m=\u001b[39m\u001b[38;5;28;01mNone\u001b[39;00m, rcond\u001b[38;5;241m=\u001b[39m\u001b[38;5;28;01mNone\u001b[39;00m):\n\u001b[1;32m   1321\u001b[0m \u001b[38;5;250m    \u001b[39m\u001b[38;5;124;03m\"\"\"\u001b[39;00m\n\u001b[1;32m   1322\u001b[0m \u001b[38;5;124;03m    Compute the (Moore-Penrose) pseudo-inverse of a matrix.\u001b[39;00m\n\u001b[1;32m   1323\u001b[0m \n\u001b[0;32m   (...)\u001b[0m\n\u001b[1;32m   1431\u001b[0m \n\u001b[1;32m   1432\u001b[0m \u001b[38;5;124;03m    \"\"\"\u001b[39;00m\n\u001b[0;32m-> 1433\u001b[0m     a \u001b[38;5;241m=\u001b[39m \u001b[43m_asarray_validated\u001b[49m\u001b[43m(\u001b[49m\u001b[43ma\u001b[49m\u001b[43m,\u001b[49m\u001b[43m \u001b[49m\u001b[43mcheck_finite\u001b[49m\u001b[38;5;241;43m=\u001b[39;49m\u001b[43mcheck_finite\u001b[49m\u001b[43m)\u001b[49m\n\u001b[1;32m   1434\u001b[0m     u, s, vh \u001b[38;5;241m=\u001b[39m _decomp_svd\u001b[38;5;241m.\u001b[39msvd(a, full_matrices\u001b[38;5;241m=\u001b[39m\u001b[38;5;28;01mFalse\u001b[39;00m, check_finite\u001b[38;5;241m=\u001b[39m\u001b[38;5;28;01mFalse\u001b[39;00m)\n\u001b[1;32m   1435\u001b[0m     t \u001b[38;5;241m=\u001b[39m u\u001b[38;5;241m.\u001b[39mdtype\u001b[38;5;241m.\u001b[39mchar\u001b[38;5;241m.\u001b[39mlower()\n",
      "File \u001b[0;32m~/mambaforge/envs/mne/lib/python3.11/site-packages/scipy/_lib/_util.py:240\u001b[0m, in \u001b[0;36m_asarray_validated\u001b[0;34m(a, check_finite, sparse_ok, objects_ok, mask_ok, as_inexact)\u001b[0m\n\u001b[1;32m    238\u001b[0m         \u001b[38;5;28;01mraise\u001b[39;00m \u001b[38;5;167;01mValueError\u001b[39;00m(\u001b[38;5;124m'\u001b[39m\u001b[38;5;124mmasked arrays are not supported\u001b[39m\u001b[38;5;124m'\u001b[39m)\n\u001b[1;32m    239\u001b[0m toarray \u001b[38;5;241m=\u001b[39m np\u001b[38;5;241m.\u001b[39masarray_chkfinite \u001b[38;5;28;01mif\u001b[39;00m check_finite \u001b[38;5;28;01melse\u001b[39;00m np\u001b[38;5;241m.\u001b[39masarray\n\u001b[0;32m--> 240\u001b[0m a \u001b[38;5;241m=\u001b[39m \u001b[43mtoarray\u001b[49m\u001b[43m(\u001b[49m\u001b[43ma\u001b[49m\u001b[43m)\u001b[49m\n\u001b[1;32m    241\u001b[0m \u001b[38;5;28;01mif\u001b[39;00m \u001b[38;5;129;01mnot\u001b[39;00m objects_ok:\n\u001b[1;32m    242\u001b[0m     \u001b[38;5;28;01mif\u001b[39;00m a\u001b[38;5;241m.\u001b[39mdtype \u001b[38;5;129;01mis\u001b[39;00m np\u001b[38;5;241m.\u001b[39mdtype(\u001b[38;5;124m'\u001b[39m\u001b[38;5;124mO\u001b[39m\u001b[38;5;124m'\u001b[39m):\n",
      "File \u001b[0;32m~/mambaforge/envs/mne/lib/python3.11/site-packages/numpy/lib/function_base.py:630\u001b[0m, in \u001b[0;36masarray_chkfinite\u001b[0;34m(a, dtype, order)\u001b[0m\n\u001b[1;32m    628\u001b[0m a \u001b[38;5;241m=\u001b[39m asarray(a, dtype\u001b[38;5;241m=\u001b[39mdtype, order\u001b[38;5;241m=\u001b[39morder)\n\u001b[1;32m    629\u001b[0m \u001b[38;5;28;01mif\u001b[39;00m a\u001b[38;5;241m.\u001b[39mdtype\u001b[38;5;241m.\u001b[39mchar \u001b[38;5;129;01min\u001b[39;00m typecodes[\u001b[38;5;124m'\u001b[39m\u001b[38;5;124mAllFloat\u001b[39m\u001b[38;5;124m'\u001b[39m] \u001b[38;5;129;01mand\u001b[39;00m \u001b[38;5;129;01mnot\u001b[39;00m np\u001b[38;5;241m.\u001b[39misfinite(a)\u001b[38;5;241m.\u001b[39mall():\n\u001b[0;32m--> 630\u001b[0m     \u001b[38;5;28;01mraise\u001b[39;00m \u001b[38;5;167;01mValueError\u001b[39;00m(\n\u001b[1;32m    631\u001b[0m         \u001b[38;5;124m\"\u001b[39m\u001b[38;5;124marray must not contain infs or NaNs\u001b[39m\u001b[38;5;124m\"\u001b[39m)\n\u001b[1;32m    632\u001b[0m \u001b[38;5;28;01mreturn\u001b[39;00m a\n",
      "\u001b[0;31mValueError\u001b[0m: array must not contain infs or NaNs"
     ]
    }
   ],
   "source": [
    "for sub_id in sub_ids:\n",
    "    raw = _preprocess.to_raw(data_path,sub_id,save_path)\n",
    "    _preprocess.to_epo(raw, sub_id, data_path, save_path)\n",
    "    # _ = source_localization.to_source(sub_id,stc_data_path,epo_path,\n",
    "    #                               save_path_cont,\n",
    "    #                               save_path_zepo,\n",
    "    #                               roi_names,\n",
    "    #                               times_tup,\n",
    "    #                               noise_cov_win,\n",
    "    #                               include_zepochs=True,\n",
    "    #                               average_dipoles=True)        "
   ]
  }
 ],
 "metadata": {
  "kernelspec": {
   "display_name": "mne",
   "language": "python",
   "name": "mne"
  },
  "language_info": {
   "codemirror_mode": {
    "name": "ipython",
    "version": 3
   },
   "file_extension": ".py",
   "mimetype": "text/x-python",
   "name": "python",
   "nbconvert_exporter": "python",
   "pygments_lexer": "ipython3",
   "version": "3.11.6"
  }
 },
 "nbformat": 4,
 "nbformat_minor": 5
}
