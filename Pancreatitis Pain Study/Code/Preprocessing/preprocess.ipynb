{
 "cells": [
  {
   "cell_type": "markdown",
   "id": "2947c985-edb4-4e37-ac38-e2abc335d541",
   "metadata": {
    "tags": []
   },
   "source": [
    "# Chronic Pancreatitis - Turn raw EEG data into processed (epochs,eyes open, eyes closed, and noise) segments\n",
    "#### Input: *.edf with recording data and the .csv containing timestamps for resting recording\n",
    "####  Output: *-preprocessed-epo.fif, *-resting_EC-raw.fif, *resting_EO-raw.fif, *-noise_EO-raw.fif"
   ]
  },
  {
   "cell_type": "code",
   "execution_count": 1,
   "id": "93bc0409-9fd5-479d-8dde-25a747c13efe",
   "metadata": {
    "scrolled": true,
    "tags": []
   },
   "outputs": [
    {
     "name": "stdout",
     "output_type": "stream",
     "text": [
      "0 files missing from root.txt in /home/wanglab/mne_data/MNE-fsaverage-data\n",
      "0 files missing from bem.txt in /home/wanglab/mne_data/MNE-fsaverage-data/fsaverage\n"
     ]
    }
   ],
   "source": [
    "import os\n",
    "# import mne\n",
    "# import pandas as pd\n",
    "from pathlib import Path\n",
    "import sys\n",
    "sys.path.append('/home/wanglab/Documents/George Kenefati/Code/eeg_toolkit/')\n",
    "# sys.path.append('/media/sb10flpc002/08e63286-43ce-4f61-9491-1ed048c96f20/Rachel Wu/eeg-projects/Code/eeg_toolkit/')\n",
    "from eeg_toolkit import utils, preprocess, source_localization"
   ]
  },
  {
   "cell_type": "code",
   "execution_count": 2,
   "id": "842b367f-9d3c-4436-868f-6fb7ffe7b719",
   "metadata": {},
   "outputs": [
    {
     "name": "stdout",
     "output_type": "stream",
     "text": [
      "[-2.5,0.0,2.5]\n"
     ]
    }
   ],
   "source": [
    "# Settings\n",
    "times_tup,time_win_path = preprocess.get_time_window(5)\n",
    "\n",
    "# Read in data\n",
    "data_dir = Path('../../Data/')\n",
    "data_path = data_dir / 'Raw'\n",
    "processed_data_path = data_dir / 'Processed Data'\n",
    "csv_path = data_dir / 'Eyes Timestamps'\n",
    "epo_path = processed_data_path / time_win_path\n",
    "\n",
    "save_paths=[csv_path,processed_data_path,epo_path]\n",
    "[os.makedirs(path, exist_ok=True) for path in save_paths];"
   ]
  },
  {
   "cell_type": "code",
   "execution_count": 3,
   "id": "6525eacb-e00a-4c11-aad8-c3086d8b6a48",
   "metadata": {},
   "outputs": [
    {
     "name": "stdout",
     "output_type": "stream",
     "text": [
      "['002', '003', '006']\n",
      "Chronics: 3\n",
      "Controls: 0\n",
      "Total: 3\n"
     ]
    }
   ],
   "source": [
    "# viable subjects\n",
    "sub_ids = utils.import_subs(data_dir,'sub_ids.txt')\n",
    "print(sub_ids)\n",
    "\n",
    "print(f\"Chronics: {len([el for el in sub_ids if el.startswith('0')])}\")\n",
    "print(f\"Controls: {len([el for el in sub_ids if el.startswith('C')])}\")\n",
    "print(f\"Total: {len(sub_ids)}\")"
   ]
  },
  {
   "cell_type": "code",
   "execution_count": 4,
   "id": "7c3a8fdb-dbfa-42b6-907d-88061fab5ea5",
   "metadata": {},
   "outputs": [],
   "source": [
    "# Settings\n",
    "sfreq=400"
   ]
  },
  {
   "cell_type": "code",
   "execution_count": 22,
   "id": "435bf395",
   "metadata": {},
   "outputs": [
    {
     "name": "stdout",
     "output_type": "stream",
     "text": [
      "003\n",
      "removing bad channels...\n",
      "003 bad channels: ['Fp2', 'A2', 'A1', 'Fp1', 'FC1']\n",
      "003\n",
      "re-referencing channels to average...\n",
      "003\n",
      "fitting ICA...\n",
      "['Fp1', 'Fpz', 'Fp2', 'AF7', 'AF3', 'AF4', 'AF8', 'F7', 'F5', 'F3', 'F1', 'Fz', 'F2', 'F4', 'F6', 'F8', 'FT7', 'FC5', 'FC3', 'FC1', 'FCz', 'FC2', 'FC4', 'FC6', 'FT8', 'T7', 'C5', 'C3', 'C1', 'Cz', 'C2', 'C4', 'C6', 'T8', 'TP7', 'CP5', 'CP3', 'CP1', 'CPz', 'CP2', 'CP4', 'CP6', 'TP8', 'P7', 'P5', 'P3', 'P1', 'Pz', 'P2', 'P4', 'P6', 'P8', 'PO7', 'PO3', 'POz', 'PO4', 'PO8', 'O1', 'Oz', 'O2', 'F9', 'F10', 'A1', 'A2']\n",
      "003\n",
      "applying ICA...\n",
      "Saving processed data as '003_preprocessed-raw.fif'...\n",
      "CSV file with 003 not found in the folder.\n",
      "No CSV for 003 found, no cropped recordings created\n"
     ]
    },
    {
     "ename": "TypeError",
     "evalue": "cannot unpack non-iterable NoneType object",
     "output_type": "error",
     "traceback": [
      "\u001b[0;31m---------------------------------------------------------------------------\u001b[0m",
      "\u001b[0;31mTypeError\u001b[0m                                 Traceback (most recent call last)",
      "Cell \u001b[0;32mIn[22], line 7\u001b[0m\n\u001b[1;32m      4\u001b[0m raw \u001b[38;5;241m=\u001b[39m preprocess\u001b[38;5;241m.\u001b[39mload_raw_data(data_path, sub_id, \u001b[38;5;124m'\u001b[39m\u001b[38;5;124meog\u001b[39m\u001b[38;5;124m'\u001b[39m)\n\u001b[1;32m      6\u001b[0m \u001b[38;5;66;03m# Preprocess continuous to eyes open, noise calibration, and eyes closed\u001b[39;00m\n\u001b[0;32m----> 7\u001b[0m raw \u001b[38;5;241m=\u001b[39m \u001b[43mpreprocess\u001b[49m\u001b[38;5;241;43m.\u001b[39;49m\u001b[43mto_raw\u001b[49m\u001b[43m(\u001b[49m\u001b[43mdata_path\u001b[49m\u001b[43m,\u001b[49m\u001b[43msub_id\u001b[49m\u001b[43m,\u001b[49m\u001b[43msave_path\u001b[49m\u001b[38;5;241;43m=\u001b[39;49m\u001b[43mprocessed_data_path\u001b[49m\u001b[43m,\u001b[49m\u001b[43mcsv_path\u001b[49m\u001b[38;5;241;43m=\u001b[39;49m\u001b[43mcsv_path\u001b[49m\u001b[43m)\u001b[49m\n\u001b[1;32m      8\u001b[0m \u001b[38;5;66;03m# preprocess.get_cropped_resting_EEGs(sub_id, raw, csv_path, save_path=processed_data_path)\u001b[39;00m\n\u001b[1;32m      9\u001b[0m \n\u001b[1;32m     10\u001b[0m \u001b[38;5;66;03m# Preprocess to epochs\u001b[39;00m\n\u001b[1;32m     11\u001b[0m \u001b[38;5;66;03m# stim_epochs, epo_times, stim_labels, pain_ratings = preprocess.to_epo(raw, sub_id, data_path, save_path=processed_data_path) \u001b[39;00m\n",
      "File \u001b[0;32m~/Documents/George Kenefati/Code/eeg_toolkit/eeg_toolkit/preprocess.py:379\u001b[0m, in \u001b[0;36mto_raw\u001b[0;34m(data_path, sub_id, save_path, csv_path)\u001b[0m\n\u001b[1;32m    376\u001b[0m     montage_fname \u001b[38;5;241m=\u001b[39m \u001b[38;5;124m\"\u001b[39m\u001b[38;5;124m../montages/Hydro_Neo_Net_32_xyz_cms_No_Fp1.sfp\u001b[39m\u001b[38;5;124m\"\u001b[39m\n\u001b[1;32m    377\u001b[0m     set_montage(raw, montage_fname)\n\u001b[0;32m--> 379\u001b[0m (\n\u001b[1;32m    380\u001b[0m     eyes_closed_recording,\n\u001b[1;32m    381\u001b[0m     noise_recording,\n\u001b[1;32m    382\u001b[0m     eyes_open_recording,\n\u001b[1;32m    383\u001b[0m ) \u001b[38;5;241m=\u001b[39m get_cropped_resting_EEGs(\n\u001b[1;32m    384\u001b[0m     sub_id, raw, csv_path, save_path\n\u001b[1;32m    385\u001b[0m )  \u001b[38;5;66;03m# get_cropped_resting_EEGs saves the three resting recordings into same folder as raw\u001b[39;00m\n\u001b[1;32m    387\u001b[0m \u001b[38;5;66;03m# No need to save raw anymore, saving the cropped files instead\u001b[39;00m\n\u001b[1;32m    388\u001b[0m \u001b[38;5;66;03m# raw.save(save_path+save_fname_fif,\u001b[39;00m\n\u001b[1;32m    389\u001b[0m \u001b[38;5;66;03m#          verbose=True, overwrite=True)\u001b[39;00m\n\u001b[1;32m    390\u001b[0m \u001b[38;5;66;03m# clear_display()\u001b[39;00m\n\u001b[1;32m    391\u001b[0m \n\u001b[1;32m    392\u001b[0m \u001b[38;5;66;03m# high level inspection\u001b[39;00m\n\u001b[1;32m    393\u001b[0m \u001b[38;5;28mprint\u001b[39m(raw\u001b[38;5;241m.\u001b[39mch_names)\n",
      "\u001b[0;31mTypeError\u001b[0m: cannot unpack non-iterable NoneType object"
     ]
    }
   ],
   "source": [
    "for sub_id in sub_ids[1:2]:\n",
    "    # Load raw and inspects\n",
    "    print(sub_id)\n",
    "    raw = preprocess.load_raw_data(data_path, sub_id, 'eog')\n",
    "\n",
    "    # Preprocess continuous to eyes open, noise calibration, and eyes closed\n",
    "    raw = preprocess.to_raw(data_path,sub_id,save_path=processed_data_path,csv_path=csv_path)\n",
    "    # preprocess.get_cropped_resting_EEGs(sub_id, raw, csv_path, save_path=processed_data_path)\n",
    "    \n",
    "    # Preprocess to epochs\n",
    "    # stim_epochs, epo_times, stim_labels, pain_ratings = preprocess.to_epo(raw, sub_id, data_path, save_path=processed_data_path) \n"
   ]
  },
  {
   "cell_type": "code",
   "execution_count": null,
   "id": "b1d66f8f",
   "metadata": {},
   "outputs": [
    {
     "name": "stderr",
     "output_type": "stream",
     "text": [
      "2024-02-14 16:13:04,380 - qdarkstyle - INFO - QSS file successfully loaded.\n",
      "2024-02-14 16:13:04,381 - qdarkstyle - INFO - Found version patches to be applied.\n",
      "2024-02-14 16:13:04,381 - qdarkstyle - INFO - Found application patches to be applied.\n"
     ]
    },
    {
     "data": {
      "text/plain": [
       "<mne_qt_browser._pg_figure.MNEQtBrowser at 0x7fd904d25360>"
      ]
     },
     "execution_count": 21,
     "metadata": {},
     "output_type": "execute_result"
    }
   ],
   "source": [
    "raw.plot()"
   ]
  },
  {
   "cell_type": "code",
   "execution_count": 13,
   "id": "c7dc509a",
   "metadata": {},
   "outputs": [
    {
     "data": {
      "text/plain": [
       "array(['KB-Marker-1 (Eyes closed) ', 'KB-Marker-9 (END/STOP test) ',\n",
       "       'KB-Marker-0 (Eyes open) ', 'KB-Marker-9 (END/STOP test) ',\n",
       "       'HR-2018.02.02-Trigger 2 (256 mN) ',\n",
       "       'HR-2018.02.02-Trigger 2 (256 mN) ',\n",
       "       'HR-2018.02.02-Trigger 2 (256 mN) ',\n",
       "       'HR-2018.02.02-Trigger 2 (256 mN) ',\n",
       "       'HR-2018.02.02-Trigger 2 (256 mN) ', 'KB-Marker-1 (Eyes closed) ',\n",
       "       'HR-2018.02.02-Trigger 2 (256 mN) ',\n",
       "       'KB-Marker-3 (256 mN forear...) ',\n",
       "       'HR-2018.02.02-Trigger 2 (256 mN) ',\n",
       "       'KB-Marker-3 (256 mN forear...) ',\n",
       "       'HR-2018.02.02-Trigger 2 (256 mN) ',\n",
       "       'HR-2018.02.02-Trigger 2 (256 mN) ',\n",
       "       'KB-Marker-3 (256 mN forear...) ',\n",
       "       'HR-2018.02.02-Trigger 2 (256 mN) ',\n",
       "       'KB-Marker-3 (256 mN forear...) ',\n",
       "       'HR-2018.02.02-Trigger 2 (256 mN) ',\n",
       "       'KB-Marker-3 (256 mN forear...) ',\n",
       "       'HR-2018.02.02-Trigger 2 (256 mN) ',\n",
       "       'KB-Marker-3 (256 mN forear...) ',\n",
       "       'HR-2018.02.02-Trigger 2 (256 mN) ',\n",
       "       'KB-Marker-3 (256 mN forear...) ',\n",
       "       'HR-2018.02.02-Trigger 2 (256 mN) ',\n",
       "       'KB-Marker-3 (256 mN forear...) ',\n",
       "       'HR-2018.02.02-Trigger 2 (256 mN) ',\n",
       "       'KB-Marker-3 (256 mN forear...) ',\n",
       "       'HR-2018.02.02-Trigger 2 (256 mN) ',\n",
       "       'KB-Marker-3 (256 mN forear...) ', 'KB-Marker-9 (END/STOP test) ',\n",
       "       'HR-2018.02.02-Trigger 2 (256 mN) ',\n",
       "       'HR-2018.02.02-Trigger 2 (256 mN) ',\n",
       "       'HR-2018.02.02-Trigger 2 (256 mN) ',\n",
       "       'KB-Marker-4 (256 mN abdn 1...) ',\n",
       "       'HR-2018.02.02-Trigger 2 (256 mN) ',\n",
       "       'KB-Marker-5 (256 mN abdn 1...) ',\n",
       "       'HR-2018.02.02-Trigger 2 (256 mN) ',\n",
       "       'KB-Marker-5 (256 mN abdn 1...) ',\n",
       "       'HR-2018.02.02-Trigger 2 (256 mN) ',\n",
       "       'HR-2018.02.02-Trigger 2 (256 mN) ',\n",
       "       'KB-Marker-5 (256 mN abdn 1...) ',\n",
       "       'HR-2018.02.02-Trigger 2 (256 mN) ',\n",
       "       'KB-Marker-5 (256 mN abdn 1...) ',\n",
       "       'HR-2018.02.02-Trigger 2 (256 mN) ',\n",
       "       'KB-Marker-5 (256 mN abdn 1...) ',\n",
       "       'HR-2018.02.02-Trigger 2 (256 mN) ',\n",
       "       'KB-Marker-5 (256 mN abdn 1...) ',\n",
       "       'HR-2018.02.02-Trigger 2 (256 mN) ',\n",
       "       'KB-Marker-5 (256 mN abdn 1...) ',\n",
       "       'HR-2018.02.02-Trigger 2 (256 mN) ',\n",
       "       'KB-Marker-5 (256 mN abdn 1...) ',\n",
       "       'HR-2018.02.02-Trigger 2 (256 mN) ',\n",
       "       'KB-Marker-5 (256 mN abdn 1...) ',\n",
       "       'HR-2018.02.02-Trigger 2 (256 mN) ',\n",
       "       'KB-Marker-5 (256 mN abdn 1...) ',\n",
       "       'HR-2018.02.02-Trigger 2 (256 mN) ',\n",
       "       'HR-2018.02.02-Trigger 1 (Pressure end) ',\n",
       "       'HR-2018.02.02-Trigger 3', 'HR-2018.02.02-Trigger 4 (32 mN) ',\n",
       "       'HR-2018.02.02-Trigger 2 (256 mN) ', 'KB-Marker-m (TEST) ',\n",
       "       'HR-2018.02.02-Trigger 1 (Pressure end) ',\n",
       "       'KB-Marker-8 (Cold pressure...) ',\n",
       "       'HR-2018.02.02-Trigger 1 (Pressure end) ',\n",
       "       'KB-Marker-9 (END/STOP test) ', 'KB-Marker-8 (Cold pressure...) ',\n",
       "       'HR-2018.02.02-Trigger 1 (Pressure end) ',\n",
       "       'KB-Marker-8 (Cold pressure...) ',\n",
       "       'HR-2018.02.02-Trigger 1 (Pressure end) ',\n",
       "       'KB-Marker-8 (Cold pressure...) ',\n",
       "       'HR-2018.02.02-Trigger 1 (Pressure end) ',\n",
       "       'KB-Marker-8 (Cold pressure...) ',\n",
       "       'HR-2018.02.02-Trigger 1 (Pressure end) ',\n",
       "       'KB-Marker-8 (Cold pressure...) ',\n",
       "       'HR-2018.02.02-Trigger 1 (Pressure end) ',\n",
       "       'KB-Marker-8 (Cold pressure...) ',\n",
       "       'HR-2018.02.02-Trigger 1 (Pressure end) ',\n",
       "       'KB-Marker-8 (Cold pressure...) ',\n",
       "       'HR-2018.02.02-Trigger 1 (Pressure end) ',\n",
       "       'KB-Marker-8 (Cold pressure...) ',\n",
       "       'HR-2018.02.02-Trigger 1 (Pressure end) ',\n",
       "       'KB-Marker-8 (Cold pressure...) ',\n",
       "       'HR-2018.02.02-Trigger 1 (Pressure end) ',\n",
       "       'KB-Marker-8 (Cold pressure...) ',\n",
       "       'KB-Marker-8 (Cold pressure...) ',\n",
       "       'HR-2018.02.02-Trigger 1 (Pressure end) ',\n",
       "       'KB-Marker-8 (Cold pressure...) ', 'KB-Marker-9 (END/STOP test) '],\n",
       "      dtype='<U39')"
      ]
     },
     "execution_count": 13,
     "metadata": {},
     "output_type": "execute_result"
    }
   ],
   "source": [
    "raw.annotations.description"
   ]
  },
  {
   "cell_type": "code",
   "execution_count": null,
   "id": "0c0d8c23",
   "metadata": {},
   "outputs": [],
   "source": []
  }
 ],
 "metadata": {
  "kernelspec": {
   "display_name": "Python 3",
   "language": "python",
   "name": "python3"
  },
  "language_info": {
   "codemirror_mode": {
    "name": "ipython",
    "version": 3
   },
   "file_extension": ".py",
   "mimetype": "text/x-python",
   "name": "python",
   "nbconvert_exporter": "python",
   "pygments_lexer": "ipython3",
   "version": "3.11.7"
  }
 },
 "nbformat": 4,
 "nbformat_minor": 5
}
