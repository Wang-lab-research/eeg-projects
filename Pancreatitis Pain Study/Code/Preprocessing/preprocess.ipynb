{
 "cells": [
  {
   "cell_type": "markdown",
   "id": "2947c985-edb4-4e37-ac38-e2abc335d541",
   "metadata": {
    "tags": []
   },
   "source": [
    "# Chronic Pancreatitis - Turn raw EEG data into processed (epochs,eyes open, eyes closed, and noise) segments\n",
    "#### Input: *.edf with recording data and the .csv containing timestamps for resting recording\n",
    "####  Output: *-preprocessed-epo.fif, *-resting_EC-raw.fif, *resting_EO-raw.fif, *-noise_EO-raw.fif"
   ]
  },
  {
   "cell_type": "code",
   "execution_count": 10,
   "id": "93bc0409-9fd5-479d-8dde-25a747c13efe",
   "metadata": {
    "scrolled": true,
    "tags": []
   },
   "outputs": [],
   "source": [
    "import os\n",
    "import mne\n",
    "# import pandas as pd\n",
    "from pathlib import Path\n",
    "import sys\n",
    "sys.path.append('/home/wanglab/Documents/George Kenefati/Code/eeg_toolkit/')\n",
    "# sys.path.append('/media/sb10flpc002/08e63286-43ce-4f61-9491-1ed048c96f20/Rachel Wu/eeg-projects/Code/eeg_toolkit/')\n",
    "from eeg_toolkit import preprocess"
   ]
  },
  {
   "cell_type": "code",
   "execution_count": 3,
   "id": "842b367f-9d3c-4436-868f-6fb7ffe7b719",
   "metadata": {},
   "outputs": [
    {
     "name": "stdout",
     "output_type": "stream",
     "text": [
      "[-2.5,0.0,2.5]\n"
     ]
    }
   ],
   "source": [
    "# Settings\n",
    "times_tup,time_win_path = preprocess.get_time_window(5)\n",
    "\n",
    "# Read in data\n",
    "data_dir = Path('../../Data/')\n",
    "data_path = data_dir / 'Raw'\n",
    "processed_data_path = data_dir / 'Processed Data'\n",
    "csv_path = data_dir / 'Eyes Timestamps'\n",
    "epo_path = processed_data_path / time_win_path\n",
    "\n",
    "save_paths=[csv_path,processed_data_path,epo_path]\n",
    "[os.makedirs(path, exist_ok=True) for path in save_paths];"
   ]
  },
  {
   "cell_type": "code",
   "execution_count": 7,
   "id": "6525eacb-e00a-4c11-aad8-c3086d8b6a48",
   "metadata": {},
   "outputs": [
    {
     "name": "stdout",
     "output_type": "stream",
     "text": [
      "['002', '003', '006', '007', '008', '009']\n",
      "Chronics: 6\n",
      "Controls: 0\n",
      "Total: 6\n"
     ]
    }
   ],
   "source": [
    "# viable subjects\n",
    "sub_ids = sorted([el[:3] for el in os.listdir(data_path) if el.startswith('0')])\n",
    "print(sub_ids)\n",
    "\n",
    "print(f\"Chronics: {len([el for el in sub_ids if el.startswith('0')])}\")\n",
    "print(f\"Controls: {len([el for el in sub_ids if el.startswith('C')])}\")\n",
    "print(f\"Total: {len(sub_ids)}\")"
   ]
  },
  {
   "cell_type": "code",
   "execution_count": 8,
   "id": "7c3a8fdb-dbfa-42b6-907d-88061fab5ea5",
   "metadata": {},
   "outputs": [],
   "source": [
    "# Settings\n",
    "sfreq=400"
   ]
  },
  {
   "cell_type": "code",
   "execution_count": null,
   "id": "264602dd",
   "metadata": {},
   "outputs": [
    {
     "name": "stdout",
     "output_type": "stream",
     "text": [
      "C22\n",
      "removing bad channels...\n",
      "C22 bad channels: ['CPz', 'T8', 'Cz', 'Fz']\n",
      "C22\n",
      "re-referencing channels to average...\n",
      "C22\n",
      "fitting ICA...\n",
      "['Fp1', 'Fpz', 'Fp2', 'AF3', 'AF4', 'F11', 'F7', 'F5', 'F3', 'F1', 'Fz', 'F2', 'F4', 'F6', 'F8', 'F12', 'FT11', 'FC5', 'FC3', 'FC1', 'FCz', 'FC2', 'FC4', 'FC6', 'FT12', 'T7', 'C5', 'C3', 'C1', 'Cz', 'C2', 'C4', 'C6', 'T8', 'TP7', 'CP5', 'CP3', 'CP1', 'CPz', 'CP2', 'CP4', 'CP6', 'TP8', 'M1', 'M2', 'P7', 'P5', 'P3', 'P1', 'Pz', 'P2', 'P4', 'P6', 'P8', 'PO7', 'PO3', 'POz', 'PO4', 'PO8', 'O1', 'Oz', 'O2', 'Cb1', 'Cb2', 'EOG']\n",
      "C22\n",
      "finding EOG artifacts...\n",
      "C22\n",
      "applying ICA...\n",
      "Saving processed data as 'C22_preprocessed-raw.fif'...\n",
      "['Fp1', 'Fpz', 'Fp2', 'AF3', 'AF4', 'F11', 'F7', 'F5', 'F3', 'F1', 'Fz', 'F2', 'F4', 'F6', 'F8', 'F12', 'FT11', 'FC5', 'FC3', 'FC1', 'FCz', 'FC2', 'FC4', 'FC6', 'FT12', 'T7', 'C5', 'C3', 'C1', 'Cz', 'C2', 'C4', 'C6', 'T8', 'TP7', 'CP5', 'CP3', 'CP1', 'CPz', 'CP2', 'CP4', 'CP6', 'TP8', 'M1', 'M2', 'P7', 'P5', 'P3', 'P1', 'Pz', 'P2', 'P4', 'P6', 'P8', 'PO7', 'PO3', 'POz', 'PO4', 'PO8', 'O1', 'Oz', 'O2', 'Cb1', 'Cb2', 'EOG']\n",
      "\n",
      "Number of remaining channels:  65\n",
      "\n",
      "Dropped channels:  []\n",
      "Raw data preprocessing complete.\n",
      "C22 duration: 5.0\n",
      "C23 C23_preprocessed-raw.fif\n",
      "C23\n",
      "reading raw file...\n"
     ]
    },
    {
     "ename": "StopIteration",
     "evalue": "",
     "output_type": "error",
     "traceback": [
      "\u001b[0;31m---------------------------------------------------------------------------\u001b[0m\n",
      "\u001b[0;31mStopIteration\u001b[0m                             Traceback (most recent call last)\n",
      "Cell \u001b[0;32mIn[63], line 3\u001b[0m\n",
      "\u001b[1;32m      1\u001b[0m \u001b[38;5;28;01mfor\u001b[39;00m sub_id \u001b[38;5;129;01min\u001b[39;00m sub_ids:\n",
      "\u001b[1;32m      2\u001b[0m     \u001b[38;5;66;03m# Preprocess continuous to eyes open, noise calibration, and eyes closed\u001b[39;00m\n",
      "\u001b[0;32m----> 3\u001b[0m     raw, eyes_closed, noise_segment, eyes_open \u001b[38;5;241m=\u001b[39m \u001b[43mpreprocess\u001b[49m\u001b[38;5;241;43m.\u001b[39;49m\u001b[43mto_raw\u001b[49m\u001b[43m(\u001b[49m\u001b[43mdata_path\u001b[49m\u001b[43m,\u001b[49m\u001b[43msub_id\u001b[49m\u001b[43m,\u001b[49m\u001b[43msave_path\u001b[49m\u001b[38;5;241;43m=\u001b[39;49m\u001b[43mprocessed_data_path\u001b[49m\u001b[43m,\u001b[49m\u001b[43mcsv_path\u001b[49m\u001b[38;5;241;43m=\u001b[39;49m\u001b[43mcsv_path\u001b[49m\u001b[43m)\u001b[49m\n",
      "\u001b[1;32m      4\u001b[0m     \u001b[38;5;66;03m# raw = mne.io.read_raw_fif(epo_path / f'{sub_id}_preprocessed-raw.fif', preload=True)\u001b[39;00m\n",
      "\u001b[1;32m      6\u001b[0m     stim_epochs \u001b[38;5;241m=\u001b[39m mne\u001b[38;5;241m.\u001b[39mread_epochs(epo_path \u001b[38;5;241m/\u001b[39m \u001b[38;5;124mf\u001b[39m\u001b[38;5;124m'\u001b[39m\u001b[38;5;132;01m{\u001b[39;00msub_id\u001b[38;5;132;01m}\u001b[39;00m\u001b[38;5;124m_preprocessed-epo.fif\u001b[39m\u001b[38;5;124m'\u001b[39m)\n",
      "\n",
      "File \u001b[0;32m~/Documents/George Kenefati/Code/eeg_toolkit/eeg_toolkit/preprocess.py:212\u001b[0m, in \u001b[0;36mto_raw\u001b[0;34m(data_path, sub_id, save_path, csv_path)\u001b[0m\n",
      "\u001b[1;32m    210\u001b[0m \u001b[38;5;66;03m# read data, set EOG channel, and drop unused channels\u001b[39;00m\n",
      "\u001b[1;32m    211\u001b[0m \u001b[38;5;28mprint\u001b[39m(\u001b[38;5;124mf\u001b[39m\u001b[38;5;124m\"\u001b[39m\u001b[38;5;132;01m{\u001b[39;00msub_id\u001b[38;5;132;01m}\u001b[39;00m\u001b[38;5;130;01m\\n\u001b[39;00m\u001b[38;5;124mreading raw file...\u001b[39m\u001b[38;5;124m\"\u001b[39m)\n",
      "\u001b[0;32m--> 212\u001b[0m raw \u001b[38;5;241m=\u001b[39m \u001b[43mload_raw_data\u001b[49m\u001b[43m(\u001b[49m\u001b[43mdata_path\u001b[49m\u001b[43m,\u001b[49m\u001b[43m \u001b[49m\u001b[43msub_folder\u001b[49m\u001b[43m,\u001b[49m\u001b[43m \u001b[49m\u001b[38;5;124;43m\"\u001b[39;49m\u001b[38;5;124;43mEOG\u001b[39;49m\u001b[38;5;124;43m\"\u001b[39;49m\u001b[43m)\u001b[49m\n",
      "\u001b[1;32m    213\u001b[0m sfreq \u001b[38;5;241m=\u001b[39m raw\u001b[38;5;241m.\u001b[39minfo[\u001b[38;5;124m\"\u001b[39m\u001b[38;5;124msfreq\u001b[39m\u001b[38;5;124m\"\u001b[39m]\n",
      "\u001b[1;32m    214\u001b[0m \u001b[38;5;66;03m# Assuming `raw`, `sub_id`, and `raw_sfreq` are already defined:\u001b[39;00m\n",
      "\n",
      "File \u001b[0;32m~/Documents/George Kenefati/Code/eeg_toolkit/eeg_toolkit/utils.py:23\u001b[0m, in \u001b[0;36mload_raw_data\u001b[0;34m(data_path, sub_id, eog)\u001b[0m\n",
      "\u001b[1;32m     12\u001b[0m \u001b[38;5;250m\u001b[39m\u001b[38;5;124;03m\"\"\"\u001b[39;00m\n",
      "\u001b[1;32m     13\u001b[0m \u001b[38;5;124;03mLoad raw EDF data with specified EOG channel.\u001b[39;00m\n",
      "\u001b[1;32m     14\u001b[0m \u001b[38;5;124;03m\"\"\"\u001b[39;00m\n",
      "\u001b[1;32m     15\u001b[0m sub_folder \u001b[38;5;241m=\u001b[39m \u001b[38;5;28mnext\u001b[39m(\n",
      "\u001b[1;32m     16\u001b[0m     sub_folder\n",
      "\u001b[1;32m     17\u001b[0m     \u001b[38;5;28;01mfor\u001b[39;00m sub_folder \u001b[38;5;129;01min\u001b[39;00m os\u001b[38;5;241m.\u001b[39mlistdir(os\u001b[38;5;241m.\u001b[39mpath\u001b[38;5;241m.\u001b[39mjoin(data_path))\n",
      "\u001b[1;32m     18\u001b[0m     \u001b[38;5;28;01mif\u001b[39;00m (sub_folder\u001b[38;5;241m.\u001b[39mstartswith(sub_id))\n",
      "\u001b[1;32m     19\u001b[0m )\n",
      "\u001b[1;32m     20\u001b[0m eeg_data_raw_file \u001b[38;5;241m=\u001b[39m os\u001b[38;5;241m.\u001b[39mpath\u001b[38;5;241m.\u001b[39mjoin(\n",
      "\u001b[1;32m     21\u001b[0m     data_path,\n",
      "\u001b[1;32m     22\u001b[0m     sub_folder,\n",
      "\u001b[0;32m---> 23\u001b[0m     \u001b[38;5;28mnext\u001b[39m(\n",
      "\u001b[1;32m     24\u001b[0m         subfile\n",
      "\u001b[1;32m     25\u001b[0m         \u001b[38;5;28;01mfor\u001b[39;00m subfile \u001b[38;5;129;01min\u001b[39;00m os\u001b[38;5;241m.\u001b[39mlistdir(os\u001b[38;5;241m.\u001b[39mpath\u001b[38;5;241m.\u001b[39mjoin(data_path, sub_folder))\n",
      "\u001b[1;32m     26\u001b[0m         \u001b[38;5;28;01mif\u001b[39;00m (subfile\u001b[38;5;241m.\u001b[39mendswith((\u001b[38;5;124m\"\u001b[39m\u001b[38;5;124m.edf\u001b[39m\u001b[38;5;124m\"\u001b[39m, \u001b[38;5;124m\"\u001b[39m\u001b[38;5;124m.EDF\u001b[39m\u001b[38;5;124m\"\u001b[39m)))\n",
      "\u001b[1;32m     27\u001b[0m     ),\n",
      "\u001b[1;32m     28\u001b[0m )\n",
      "\u001b[1;32m     30\u001b[0m \u001b[38;5;28;01mreturn\u001b[39;00m mne\u001b[38;5;241m.\u001b[39mio\u001b[38;5;241m.\u001b[39mread_raw_edf(eeg_data_raw_file, eog\u001b[38;5;241m=\u001b[39m[eog], preload\u001b[38;5;241m=\u001b[39m\u001b[38;5;28;01mTrue\u001b[39;00m)\n",
      "\n",
      "\u001b[0;31mStopIteration\u001b[0m: "
     ]
    }
   ],
   "source": [
    "for sub_id in sub_ids:\n",
    "    # Preprocess continuous to eyes open, noise calibration, and eyes closed\n",
    "    raw, eyes_closed, noise_segment, eyes_open = preprocess.to_raw(data_path,sub_id,save_path=processed_data_path,csv_path=csv_path)\n",
    "    # raw = mne.io.read_raw_fif(epo_path / f'{sub_id}_preprocessed-raw.fif', preload=True)\n",
    "    # preprocess.get_cropped_resting_EEGs(sub_id, raw, csv_path, save_path=processed_data_path)\n",
    "\n",
    "    stim_epochs = mne.read_epochs(epo_path / f'{sub_id}_preprocessed-epo.fif')\n",
    "    # stim_epochs, epo_times, stim_labels, pain_ratings = preprocess.to_epo(raw, sub_id, data_path, save_path=processed_data_path) \n",
    "    \n",
    "    # check epochs for duration in seconds\n",
    "    dur = stim_epochs.times[-1] - stim_epochs.times[0]\n",
    "    print(f\"{sub_id} duration: {dur}\")\n",
    "    if dur < 5.0:\n",
    "        print(f\"{sub_id} too short\")\n",
    "        break"
   ]
  },
  {
   "cell_type": "code",
   "execution_count": null,
   "id": "b1d66f8f",
   "metadata": {},
   "outputs": [
    {
     "name": "stderr",
     "output_type": "stream",
     "text": [
      "2024-02-14 16:13:04,380 - qdarkstyle - INFO - QSS file successfully loaded.\n",
      "2024-02-14 16:13:04,381 - qdarkstyle - INFO - Found version patches to be applied.\n",
      "2024-02-14 16:13:04,381 - qdarkstyle - INFO - Found application patches to be applied.\n"
     ]
    },
    {
     "data": {
      "text/plain": [
       "<mne_qt_browser._pg_figure.MNEQtBrowser at 0x7fd904d25360>"
      ]
     },
     "execution_count": 21,
     "metadata": {},
     "output_type": "execute_result"
    }
   ],
   "source": [
    "raw.plot()"
   ]
  },
  {
   "cell_type": "code",
   "execution_count": 13,
   "id": "c7dc509a",
   "metadata": {},
   "outputs": [
    {
     "data": {
      "text/plain": [
       "array(['KB-Marker-1 (Eyes closed) ', 'KB-Marker-9 (END/STOP test) ',\n",
       "       'KB-Marker-0 (Eyes open) ', 'KB-Marker-9 (END/STOP test) ',\n",
       "       'HR-2018.02.02-Trigger 2 (256 mN) ',\n",
       "       'HR-2018.02.02-Trigger 2 (256 mN) ',\n",
       "       'HR-2018.02.02-Trigger 2 (256 mN) ',\n",
       "       'HR-2018.02.02-Trigger 2 (256 mN) ',\n",
       "       'HR-2018.02.02-Trigger 2 (256 mN) ', 'KB-Marker-1 (Eyes closed) ',\n",
       "       'HR-2018.02.02-Trigger 2 (256 mN) ',\n",
       "       'KB-Marker-3 (256 mN forear...) ',\n",
       "       'HR-2018.02.02-Trigger 2 (256 mN) ',\n",
       "       'KB-Marker-3 (256 mN forear...) ',\n",
       "       'HR-2018.02.02-Trigger 2 (256 mN) ',\n",
       "       'HR-2018.02.02-Trigger 2 (256 mN) ',\n",
       "       'KB-Marker-3 (256 mN forear...) ',\n",
       "       'HR-2018.02.02-Trigger 2 (256 mN) ',\n",
       "       'KB-Marker-3 (256 mN forear...) ',\n",
       "       'HR-2018.02.02-Trigger 2 (256 mN) ',\n",
       "       'KB-Marker-3 (256 mN forear...) ',\n",
       "       'HR-2018.02.02-Trigger 2 (256 mN) ',\n",
       "       'KB-Marker-3 (256 mN forear...) ',\n",
       "       'HR-2018.02.02-Trigger 2 (256 mN) ',\n",
       "       'KB-Marker-3 (256 mN forear...) ',\n",
       "       'HR-2018.02.02-Trigger 2 (256 mN) ',\n",
       "       'KB-Marker-3 (256 mN forear...) ',\n",
       "       'HR-2018.02.02-Trigger 2 (256 mN) ',\n",
       "       'KB-Marker-3 (256 mN forear...) ',\n",
       "       'HR-2018.02.02-Trigger 2 (256 mN) ',\n",
       "       'KB-Marker-3 (256 mN forear...) ', 'KB-Marker-9 (END/STOP test) ',\n",
       "       'HR-2018.02.02-Trigger 2 (256 mN) ',\n",
       "       'HR-2018.02.02-Trigger 2 (256 mN) ',\n",
       "       'HR-2018.02.02-Trigger 2 (256 mN) ',\n",
       "       'KB-Marker-4 (256 mN abdn 1...) ',\n",
       "       'HR-2018.02.02-Trigger 2 (256 mN) ',\n",
       "       'KB-Marker-5 (256 mN abdn 1...) ',\n",
       "       'HR-2018.02.02-Trigger 2 (256 mN) ',\n",
       "       'KB-Marker-5 (256 mN abdn 1...) ',\n",
       "       'HR-2018.02.02-Trigger 2 (256 mN) ',\n",
       "       'HR-2018.02.02-Trigger 2 (256 mN) ',\n",
       "       'KB-Marker-5 (256 mN abdn 1...) ',\n",
       "       'HR-2018.02.02-Trigger 2 (256 mN) ',\n",
       "       'KB-Marker-5 (256 mN abdn 1...) ',\n",
       "       'HR-2018.02.02-Trigger 2 (256 mN) ',\n",
       "       'KB-Marker-5 (256 mN abdn 1...) ',\n",
       "       'HR-2018.02.02-Trigger 2 (256 mN) ',\n",
       "       'KB-Marker-5 (256 mN abdn 1...) ',\n",
       "       'HR-2018.02.02-Trigger 2 (256 mN) ',\n",
       "       'KB-Marker-5 (256 mN abdn 1...) ',\n",
       "       'HR-2018.02.02-Trigger 2 (256 mN) ',\n",
       "       'KB-Marker-5 (256 mN abdn 1...) ',\n",
       "       'HR-2018.02.02-Trigger 2 (256 mN) ',\n",
       "       'KB-Marker-5 (256 mN abdn 1...) ',\n",
       "       'HR-2018.02.02-Trigger 2 (256 mN) ',\n",
       "       'KB-Marker-5 (256 mN abdn 1...) ',\n",
       "       'HR-2018.02.02-Trigger 2 (256 mN) ',\n",
       "       'HR-2018.02.02-Trigger 1 (Pressure end) ',\n",
       "       'HR-2018.02.02-Trigger 3', 'HR-2018.02.02-Trigger 4 (32 mN) ',\n",
       "       'HR-2018.02.02-Trigger 2 (256 mN) ', 'KB-Marker-m (TEST) ',\n",
       "       'HR-2018.02.02-Trigger 1 (Pressure end) ',\n",
       "       'KB-Marker-8 (Cold pressure...) ',\n",
       "       'HR-2018.02.02-Trigger 1 (Pressure end) ',\n",
       "       'KB-Marker-9 (END/STOP test) ', 'KB-Marker-8 (Cold pressure...) ',\n",
       "       'HR-2018.02.02-Trigger 1 (Pressure end) ',\n",
       "       'KB-Marker-8 (Cold pressure...) ',\n",
       "       'HR-2018.02.02-Trigger 1 (Pressure end) ',\n",
       "       'KB-Marker-8 (Cold pressure...) ',\n",
       "       'HR-2018.02.02-Trigger 1 (Pressure end) ',\n",
       "       'KB-Marker-8 (Cold pressure...) ',\n",
       "       'HR-2018.02.02-Trigger 1 (Pressure end) ',\n",
       "       'KB-Marker-8 (Cold pressure...) ',\n",
       "       'HR-2018.02.02-Trigger 1 (Pressure end) ',\n",
       "       'KB-Marker-8 (Cold pressure...) ',\n",
       "       'HR-2018.02.02-Trigger 1 (Pressure end) ',\n",
       "       'KB-Marker-8 (Cold pressure...) ',\n",
       "       'HR-2018.02.02-Trigger 1 (Pressure end) ',\n",
       "       'KB-Marker-8 (Cold pressure...) ',\n",
       "       'HR-2018.02.02-Trigger 1 (Pressure end) ',\n",
       "       'KB-Marker-8 (Cold pressure...) ',\n",
       "       'HR-2018.02.02-Trigger 1 (Pressure end) ',\n",
       "       'KB-Marker-8 (Cold pressure...) ',\n",
       "       'KB-Marker-8 (Cold pressure...) ',\n",
       "       'HR-2018.02.02-Trigger 1 (Pressure end) ',\n",
       "       'KB-Marker-8 (Cold pressure...) ', 'KB-Marker-9 (END/STOP test) '],\n",
       "      dtype='<U39')"
      ]
     },
     "execution_count": 13,
     "metadata": {},
     "output_type": "execute_result"
    }
   ],
   "source": [
    "raw.annotations.description"
   ]
  },
  {
   "cell_type": "code",
   "execution_count": null,
   "id": "0c0d8c23",
   "metadata": {},
   "outputs": [],
   "source": []
  }
 ],
 "metadata": {
  "kernelspec": {
   "display_name": "Python 3",
   "language": "python",
   "name": "python3"
  },
  "language_info": {
   "codemirror_mode": {
    "name": "ipython",
    "version": 3
   },
   "file_extension": ".py",
   "mimetype": "text/x-python",
   "name": "python",
   "nbconvert_exporter": "python",
   "pygments_lexer": "ipython3",
   "version": "3.11.7"
  }
 },
 "nbformat": 4,
 "nbformat_minor": 5
}
