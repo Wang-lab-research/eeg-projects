{
 "cells": [
  {
   "cell_type": "markdown",
   "id": "98815475-cc59-43f2-ae40-5ee07b1522fd",
   "metadata": {},
   "source": [
    "# Preprocess subjects' EEG data"
   ]
  },
  {
   "cell_type": "code",
   "execution_count": 1,
   "id": "17e5a59a-fa28-449d-ac91-f9cb2a3a81fe",
   "metadata": {},
   "outputs": [
    {
     "name": "stdout",
     "output_type": "stream",
     "text": [
      "0 files missing from root.txt in /home/wanglab/mne_data/MNE-fsaverage-data\n",
      "0 files missing from bem.txt in /home/wanglab/mne_data/MNE-fsaverage-data/fsaverage\n"
     ]
    }
   ],
   "source": [
    "import sys\n",
    "sys.path.append('/home/wanglab/Documents/George Kenefati/Code/eeg_toolkit/')\n",
    "import os\n",
    "import mne\n",
    "import glob\n",
    "import eeg_toolkit\n",
    "from eeg_toolkit import _preprocess, source_localization"
   ]
  },
  {
   "cell_type": "code",
   "execution_count": 2,
   "id": "dd5cdccd-bb15-443b-95e2-5b295b3a03a2",
   "metadata": {},
   "outputs": [
    {
     "name": "stdout",
     "output_type": "stream",
     "text": [
      "[-2.5,0.0,2.5]\n"
     ]
    }
   ],
   "source": [
    "# Settings\n",
    "times_tup,time_win_path = _preprocess.get_time_window(5)\n",
    "\n",
    "# Read in processed raw data\n",
    "data_path = '../Data/Raw/'\n",
    "save_path = '../Data/Processed Data/'\n",
    "epo_path = save_path + time_win_path\n",
    "\n",
    "if not os.path.exists(epo_path):\n",
    "    os.makedirs(epo_path)\n",
    "\n",
    "# Noise cov: crop raw during eyes-open resting condition\n",
    "noise_cov_win = 5.5, 7.5 # rest_min, rest_max"
   ]
  },
  {
   "cell_type": "code",
   "execution_count": 3,
   "id": "85814949-f2b8-48fb-8c27-0a7ae5757194",
   "metadata": {
    "tags": []
   },
   "outputs": [],
   "source": [
    "# Get stc only from selected labels\n",
    "roi_names = [# Left\n",
    "             'rostralanteriorcingulate-lh', # Left Rostral ACC\n",
    "             'caudalanteriorcingulate-lh', # Left Caudal ACC\n",
    "             'postcentral-lh', # Left S1,\n",
    "             'insula-lh', 'superiorfrontal-lh', # Left Insula, Left DL-PFC,\n",
    "             'medialorbitofrontal-lh', # Left Medial-OFC\n",
    "             # Right\n",
    "             'rostralanteriorcingulate-rh', # Right Rostral ACC\n",
    "             'caudalanteriorcingulate-rh', # Right Caudal ACC\n",
    "             'postcentral-rh', # , Right S1\n",
    "             'insula-rh', 'superiorfrontal-rh', # Right Insula, Right DL-PFC\n",
    "             'medialorbitofrontal-rh'] # Right Medial-OFC"
   ]
  },
  {
   "cell_type": "code",
   "execution_count": 4,
   "id": "652be1e9-2130-41ab-89ee-e589242ff2c4",
   "metadata": {},
   "outputs": [],
   "source": [
    "sub_ids = [\n",
    "    '001',\n",
    "    # 'T01',\n",
    "    # 'T02',\n",
    "    # 'T03',\n",
    "]"
   ]
  },
  {
   "cell_type": "code",
   "execution_count": 5,
   "id": "25191af1-c4cf-49dc-9cf0-af11fd1f2490",
   "metadata": {},
   "outputs": [
    {
     "name": "stdout",
     "output_type": "stream",
     "text": [
      "001 001_preprocessed-raw.fif\n",
      "001\n",
      "reading raw file...\n",
      "001\n",
      "setting custom montage...\n",
      "../montages/gHIamp_64ch.xml\n"
     ]
    },
    {
     "ename": "ValueError",
     "evalue": "substring not found",
     "output_type": "error",
     "traceback": [
      "\u001b[0;31m---------------------------------------------------------------------------\u001b[0m",
      "\u001b[0;31mValueError\u001b[0m                                Traceback (most recent call last)",
      "Cell \u001b[0;32mIn[5], line 2\u001b[0m\n\u001b[1;32m      1\u001b[0m \u001b[38;5;28;01mfor\u001b[39;00m sub_id \u001b[38;5;129;01min\u001b[39;00m sub_ids:\n\u001b[0;32m----> 2\u001b[0m     raw \u001b[38;5;241m=\u001b[39m \u001b[43m_preprocess\u001b[49m\u001b[38;5;241;43m.\u001b[39;49m\u001b[43mto_raw\u001b[49m\u001b[43m(\u001b[49m\u001b[43mdata_path\u001b[49m\u001b[43m,\u001b[49m\u001b[43msub_id\u001b[49m\u001b[43m,\u001b[49m\u001b[43msave_path\u001b[49m\u001b[43m)\u001b[49m\n\u001b[1;32m      3\u001b[0m     _preprocess\u001b[38;5;241m.\u001b[39mto_epo(raw, sub_id, data_path, save_path)\n\u001b[1;32m      4\u001b[0m     \u001b[38;5;66;03m# _ = source_localization.to_source(sub_id,stc_data_path,epo_path,\u001b[39;00m\n\u001b[1;32m      5\u001b[0m     \u001b[38;5;66;03m#                               save_path_cont,\u001b[39;00m\n\u001b[1;32m      6\u001b[0m     \u001b[38;5;66;03m#                               save_path_zepo,\u001b[39;00m\n\u001b[0;32m   (...)\u001b[0m\n\u001b[1;32m     10\u001b[0m     \u001b[38;5;66;03m#                               include_zepochs=True,\u001b[39;00m\n\u001b[1;32m     11\u001b[0m     \u001b[38;5;66;03m#                               average_dipoles=True)        \u001b[39;00m\n",
      "File \u001b[0;32m~/Documents/George Kenefati/Code/eeg_toolkit/eeg_toolkit/_preprocess.py:129\u001b[0m, in \u001b[0;36mto_raw\u001b[0;34m(data_path, sub_id, save_path)\u001b[0m\n\u001b[1;32m    127\u001b[0m \u001b[38;5;28mprint\u001b[39m(\u001b[38;5;124mf\u001b[39m\u001b[38;5;124m\"\u001b[39m\u001b[38;5;132;01m{\u001b[39;00msub_id\u001b[38;5;132;01m}\u001b[39;00m\u001b[38;5;130;01m\\n\u001b[39;00m\u001b[38;5;124msetting custom montage...\u001b[39m\u001b[38;5;124m\"\u001b[39m)\n\u001b[1;32m    128\u001b[0m \u001b[38;5;28mprint\u001b[39m(montage_fname)\n\u001b[0;32m--> 129\u001b[0m \u001b[43mset_montage\u001b[49m\u001b[43m(\u001b[49m\u001b[43mraw\u001b[49m\u001b[43m,\u001b[49m\u001b[43m \u001b[49m\u001b[43mmontage_fname\u001b[49m\u001b[43m)\u001b[49m\n\u001b[1;32m    131\u001b[0m \u001b[38;5;66;03m# high level inspection\u001b[39;00m\n\u001b[1;32m    132\u001b[0m \u001b[38;5;28mprint\u001b[39m(raw\u001b[38;5;241m.\u001b[39mch_names)\n",
      "File \u001b[0;32m~/Documents/George Kenefati/Code/eeg_toolkit/eeg_toolkit/_preprocess.py:23\u001b[0m, in \u001b[0;36mset_montage\u001b[0;34m(mne_obj, montage_path)\u001b[0m\n\u001b[1;32m     21\u001b[0m relative_path \u001b[38;5;241m=\u001b[39m os\u001b[38;5;241m.\u001b[39mpath\u001b[38;5;241m.\u001b[39mjoin(os\u001b[38;5;241m.\u001b[39mpath\u001b[38;5;241m.\u001b[39mdirname(\u001b[38;5;18m__file__\u001b[39m),montage_path)\n\u001b[1;32m     22\u001b[0m \u001b[38;5;28;01mif\u001b[39;00m os\u001b[38;5;241m.\u001b[39mpath\u001b[38;5;241m.\u001b[39msplitext(montage_path)[\u001b[38;5;241m1\u001b[39m]\u001b[38;5;241m==\u001b[39m\u001b[38;5;124m'\u001b[39m\u001b[38;5;124m.xml\u001b[39m\u001b[38;5;124m'\u001b[39m: \u001b[38;5;66;03m# gTec\u001b[39;00m\n\u001b[0;32m---> 23\u001b[0m     montage \u001b[38;5;241m=\u001b[39m \u001b[43mmne\u001b[49m\u001b[38;5;241;43m.\u001b[39;49m\u001b[43mchannels\u001b[49m\u001b[38;5;241;43m.\u001b[39;49m\u001b[43mread_dig_egi\u001b[49m\u001b[43m(\u001b[49m\u001b[43mrelative_path\u001b[49m\u001b[43m)\u001b[49m  \n\u001b[1;32m     24\u001b[0m \u001b[38;5;28;01melif\u001b[39;00m os\u001b[38;5;241m.\u001b[39mpath\u001b[38;5;241m.\u001b[39msplitext(montage_path)[\u001b[38;5;241m1\u001b[39m]\u001b[38;5;241m==\u001b[39m\u001b[38;5;124m'\u001b[39m\u001b[38;5;124m.sfp\u001b[39m\u001b[38;5;124m'\u001b[39m: \u001b[38;5;66;03m# Compumedics\u001b[39;00m\n\u001b[1;32m     25\u001b[0m     montage \u001b[38;5;241m=\u001b[39m mne\u001b[38;5;241m.\u001b[39mchannels\u001b[38;5;241m.\u001b[39mread_montage_fname(relative_path)  \n",
      "File \u001b[0;32m~/mambaforge/envs/mne/lib/python3.11/site-packages/mne/channels/montage.py:983\u001b[0m, in \u001b[0;36mread_dig_egi\u001b[0;34m(fname)\u001b[0m\n\u001b[1;32m    958\u001b[0m \u001b[38;5;250m\u001b[39m\u001b[38;5;124;03m\"\"\"Read electrode locations from EGI system.\u001b[39;00m\n\u001b[1;32m    959\u001b[0m \n\u001b[1;32m    960\u001b[0m \u001b[38;5;124;03mParameters\u001b[39;00m\n\u001b[0;32m   (...)\u001b[0m\n\u001b[1;32m    979\u001b[0m \u001b[38;5;124;03mmake_dig_montage\u001b[39;00m\n\u001b[1;32m    980\u001b[0m \u001b[38;5;124;03m\"\"\"\u001b[39;00m\n\u001b[1;32m    981\u001b[0m _check_fname(fname, overwrite\u001b[38;5;241m=\u001b[39m\u001b[38;5;124m\"\u001b[39m\u001b[38;5;124mread\u001b[39m\u001b[38;5;124m\"\u001b[39m, must_exist\u001b[38;5;241m=\u001b[39m\u001b[38;5;28;01mTrue\u001b[39;00m)\n\u001b[0;32m--> 983\u001b[0m data \u001b[38;5;241m=\u001b[39m \u001b[43m_read_dig_montage_egi\u001b[49m\u001b[43m(\u001b[49m\n\u001b[1;32m    984\u001b[0m \u001b[43m    \u001b[49m\u001b[43mfname\u001b[49m\u001b[38;5;241;43m=\u001b[39;49m\u001b[43mfname\u001b[49m\u001b[43m,\u001b[49m\u001b[43m \u001b[49m\u001b[43m_scaling\u001b[49m\u001b[38;5;241;43m=\u001b[39;49m\u001b[38;5;241;43m1.0\u001b[39;49m\u001b[43m,\u001b[49m\u001b[43m \u001b[49m\u001b[43m_all_data_kwargs_are_none\u001b[49m\u001b[38;5;241;43m=\u001b[39;49m\u001b[38;5;28;43;01mTrue\u001b[39;49;00m\n\u001b[1;32m    985\u001b[0m \u001b[43m\u001b[49m\u001b[43m)\u001b[49m\n\u001b[1;32m    986\u001b[0m \u001b[38;5;28;01mreturn\u001b[39;00m make_dig_montage(\u001b[38;5;241m*\u001b[39m\u001b[38;5;241m*\u001b[39mdata)\n",
      "File \u001b[0;32m~/mambaforge/envs/mne/lib/python3.11/site-packages/mne/channels/_dig_montage_utils.py:33\u001b[0m, in \u001b[0;36m_read_dig_montage_egi\u001b[0;34m(fname, _scaling, _all_data_kwargs_are_none)\u001b[0m\n\u001b[1;32m     30\u001b[0m _check_fname(fname, overwrite\u001b[38;5;241m=\u001b[39m\u001b[38;5;124m\"\u001b[39m\u001b[38;5;124mread\u001b[39m\u001b[38;5;124m\"\u001b[39m, must_exist\u001b[38;5;241m=\u001b[39m\u001b[38;5;28;01mTrue\u001b[39;00m)\n\u001b[1;32m     32\u001b[0m root \u001b[38;5;241m=\u001b[39m ElementTree\u001b[38;5;241m.\u001b[39mparse(fname)\u001b[38;5;241m.\u001b[39mgetroot()\n\u001b[0;32m---> 33\u001b[0m ns \u001b[38;5;241m=\u001b[39m root\u001b[38;5;241m.\u001b[39mtag[\u001b[43mroot\u001b[49m\u001b[38;5;241;43m.\u001b[39;49m\u001b[43mtag\u001b[49m\u001b[38;5;241;43m.\u001b[39;49m\u001b[43mindex\u001b[49m\u001b[43m(\u001b[49m\u001b[38;5;124;43m\"\u001b[39;49m\u001b[38;5;124;43m{\u001b[39;49m\u001b[38;5;124;43m\"\u001b[39;49m\u001b[43m)\u001b[49m : root\u001b[38;5;241m.\u001b[39mtag\u001b[38;5;241m.\u001b[39mindex(\u001b[38;5;124m\"\u001b[39m\u001b[38;5;124m}\u001b[39m\u001b[38;5;124m\"\u001b[39m) \u001b[38;5;241m+\u001b[39m \u001b[38;5;241m1\u001b[39m]\n\u001b[1;32m     34\u001b[0m sensors \u001b[38;5;241m=\u001b[39m root\u001b[38;5;241m.\u001b[39mfind(\u001b[38;5;124m\"\u001b[39m\u001b[38;5;132;01m%s\u001b[39;00m\u001b[38;5;124msensorLayout/\u001b[39m\u001b[38;5;132;01m%s\u001b[39;00m\u001b[38;5;124msensors\u001b[39m\u001b[38;5;124m\"\u001b[39m \u001b[38;5;241m%\u001b[39m (ns, ns))\n\u001b[1;32m     35\u001b[0m fids \u001b[38;5;241m=\u001b[39m \u001b[38;5;28mdict\u001b[39m()\n",
      "\u001b[0;31mValueError\u001b[0m: substring not found"
     ]
    }
   ],
   "source": [
    "for sub_id in sub_ids:\n",
    "    raw = _preprocess.to_raw(data_path,sub_id,save_path)\n",
    "    _preprocess.to_epo(raw, sub_id, data_path, save_path)\n",
    "    # _ = source_localization.to_source(sub_id,stc_data_path,epo_path,\n",
    "    #                               save_path_cont,\n",
    "    #                               save_path_zepo,\n",
    "    #                               roi_names,\n",
    "    #                               times_tup,\n",
    "    #                               noise_cov_win,\n",
    "    #                               include_zepochs=True,\n",
    "    #                               average_dipoles=True)        "
   ]
  },
  {
   "cell_type": "code",
   "execution_count": null,
   "id": "5fc4b3fa-7b94-43c1-801b-f867af5ee5a1",
   "metadata": {},
   "outputs": [],
   "source": []
  }
 ],
 "metadata": {
  "kernelspec": {
   "display_name": "mne",
   "language": "python",
   "name": "mne"
  },
  "language_info": {
   "codemirror_mode": {
    "name": "ipython",
    "version": 3
   },
   "file_extension": ".py",
   "mimetype": "text/x-python",
   "name": "python",
   "nbconvert_exporter": "python",
   "pygments_lexer": "ipython3",
   "version": "3.11.6"
  }
 },
 "nbformat": 4,
 "nbformat_minor": 5
}
