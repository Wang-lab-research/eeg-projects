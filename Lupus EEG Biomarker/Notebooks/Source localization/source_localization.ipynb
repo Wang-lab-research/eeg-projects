{
 "cells": [
  {
   "cell_type": "markdown",
   "id": "2947c985-edb4-4e37-ac38-e2abc335d541",
   "metadata": {
    "tags": []
   },
   "source": [
    "## Compute source time course (STC) from Raw and Epochs data object and save as pickle for later analyses\n",
    "#### Input: *_eyes_open-raw.fif\n",
    "####  Output: *_label_ts.pkl"
   ]
  },
  {
   "cell_type": "code",
   "execution_count": 15,
   "id": "93bc0409-9fd5-479d-8dde-25a747c13efe",
   "metadata": {
    "scrolled": true,
    "tags": []
   },
   "outputs": [],
   "source": [
    "import os\n",
    "from pathlib import Path\n",
    "import sys\n",
    "sys.path.append('/home/wanglab/Documents/George Kenefati/Code/eeg_toolkit/')\n",
    "from eeg_toolkit import utils, preprocess\n",
    "from eeg_toolkit import source_localization as sl"
   ]
  },
  {
   "cell_type": "markdown",
   "id": "a6196feb",
   "metadata": {},
   "source": [
    "### Paths"
   ]
  },
  {
   "cell_type": "code",
   "execution_count": 16,
   "id": "4b57e63e",
   "metadata": {},
   "outputs": [
    {
     "name": "stdout",
     "output_type": "stream",
     "text": [
      "[-2.5,0.0,2.5]\n"
     ]
    }
   ],
   "source": [
    "# Time window for source localization computation\n",
    "times_tup,time_win_path = preprocess.get_time_window(5)\n",
    "\n",
    "# Average dipoles, always true unless you have subject-specific MRI and know what you're doing\n",
    "average_dipoles = True\n",
    "\n",
    "# Save inverse. True if you want to plot the brain model with AEC connectivity\n",
    "save_inv = True"
   ]
  },
  {
   "cell_type": "code",
   "execution_count": 17,
   "id": "842b367f-9d3c-4436-868f-6fb7ffe7b719",
   "metadata": {},
   "outputs": [],
   "source": [
    "# Read in processed raw data\n",
    "data_dir = Path(\"../../Data\")\n",
    "# processed_data_path = data_dir / 'Processed Data/'\n",
    "processed_data_path = data_dir / 'Resampled'"
   ]
  },
  {
   "cell_type": "markdown",
   "id": "3b38c500",
   "metadata": {},
   "source": [
    "### Subject IDs"
   ]
  },
  {
   "cell_type": "code",
   "execution_count": 18,
   "id": "955bf412",
   "metadata": {},
   "outputs": [],
   "source": [
    "# 1 means chronic pain, 0 means control\n",
    "sub_ids = {\n",
    "    '5186': 1,\n",
    "    '5295': 1,\n",
    "    '5648': 0,\n",
    "    '5675': 0,\n",
    "    '5873': 0,\n",
    "    '6100': 0,\n",
    "    '6106': 0,\n",
    "    '6310': 1,\n",
    "}"
   ]
  },
  {
   "cell_type": "code",
   "execution_count": 19,
   "id": "7c3a8fdb-dbfa-42b6-907d-88061fab5ea5",
   "metadata": {},
   "outputs": [
    {
     "name": "stdout",
     "output_type": "stream",
     "text": [
      "Chronics: 3\n",
      "Controls: 5\n",
      "Total: 8\n"
     ]
    }
   ],
   "source": [
    "print(f\"Chronics: {len([k for k,v in sub_ids.items() if v == 1])}\") \n",
    "print(f\"Controls: {len([k for k,v in sub_ids.items() if v == 0])}\")\n",
    "print(f\"Total: {len(sub_ids)}\")"
   ]
  },
  {
   "cell_type": "code",
   "execution_count": 20,
   "id": "168d00bf-c009-4143-a71d-c7c200ba148b",
   "metadata": {
    "tags": []
   },
   "outputs": [],
   "source": [
    "# Get stc only from selected labels\n",
    "roi_names = [# Left\n",
    "             'rostralanteriorcingulate-lh', # Left Rostral ACC\n",
    "             'caudalanteriorcingulate-lh', # Left Caudal ACC\n",
    "             'postcentral-lh', # Left S1,\n",
    "             'insula-lh', 'superiorfrontal-lh', # Left Insula, Left DL-PFC,\n",
    "             'medialorbitofrontal-lh', # Left Medial-OFC\n",
    "             # CONTROLS\n",
    "             # lateral occipital\n",
    "             'lateraloccipital-lh', # Left Visual Cortex\n",
    "             'superiortemporal-lh', # Left Auditory Cortex\n",
    "             # Right\n",
    "             'rostralanteriorcingulate-rh', # Right Rostral ACC\n",
    "             'caudalanteriorcingulate-rh', # Right Caudal ACC\n",
    "             'postcentral-rh', # , Right S1\n",
    "             'insula-rh', 'superiorfrontal-rh', # Right Insula, Right DL-PFC\n",
    "             'medialorbitofrontal-rh', # Right Medial-OFC\n",
    "             # CONTROLS\n",
    "             'lateraloccipital-rh', # Right Visual Cortex\n",
    "             'superiortemporal-rh', # Right Auditory Cortex\n",
    "]"
   ]
  },
  {
   "cell_type": "markdown",
   "id": "03df3db5",
   "metadata": {},
   "source": [
    "### Compute STCs"
   ]
  },
  {
   "cell_type": "code",
   "execution_count": 21,
   "id": "80ffacc1",
   "metadata": {},
   "outputs": [
    {
     "name": "stdout",
     "output_type": "stream",
     "text": [
      "Converting forward solution to surface orientation\n",
      "    No patch info available. The standard source space normals will be employed in the rotation to the local surface coordinates....\n",
      "    Converting to surface-based source orientations...\n",
      "    [done]\n",
      "Computing inverse operator with 60 channels.\n",
      "    60 out of 62 channels remain after picking\n",
      "Selected 60 channels\n",
      "Creating the depth weighting matrix...\n",
      "    60 EEG channels\n",
      "    limit = 20485/20484 = 2.285416\n",
      "    scale = 110390 exp = 0.8\n",
      "Applying loose dipole orientations to surface source spaces: 0.2\n",
      "Whitening the forward solution.\n"
     ]
    },
    {
     "ename": "IndexError",
     "evalue": "index 60 is out of bounds for axis 0 with size 60",
     "output_type": "error",
     "traceback": [
      "\u001b[0;31m---------------------------------------------------------------------------\u001b[0m",
      "\u001b[0;31mIndexError\u001b[0m                                Traceback (most recent call last)",
      "Cell \u001b[0;32mIn[21], line 43\u001b[0m\n\u001b[1;32m     40\u001b[0m     Epochs_bool \u001b[38;5;241m=\u001b[39m \u001b[38;5;28;01mTrue\u001b[39;00m\n\u001b[1;32m     42\u001b[0m \u001b[38;5;66;03m# Compute source localization for subject and save \u001b[39;00m\n\u001b[0;32m---> 43\u001b[0m label_ts_All_Conds, sub_id_if_nan \u001b[38;5;241m=\u001b[39m \u001b[43msl\u001b[49m\u001b[38;5;241;43m.\u001b[39;49m\u001b[43mto_source\u001b[49m\u001b[43m(\u001b[49m\u001b[43msub_id\u001b[49m\u001b[43m,\u001b[49m\n\u001b[1;32m     44\u001b[0m \u001b[43m                                                 \u001b[49m\u001b[43mprocessed_data_path\u001b[49m\u001b[43m,\u001b[49m\n\u001b[1;32m     45\u001b[0m \u001b[43m                                                 \u001b[49m\u001b[43mzscored_epochs_save_path\u001b[49m\u001b[43m,\u001b[49m\n\u001b[1;32m     46\u001b[0m \u001b[43m                                                 \u001b[49m\u001b[43mEC_resting_save_path\u001b[49m\u001b[43m,\u001b[49m\n\u001b[1;32m     47\u001b[0m \u001b[43m                                                 \u001b[49m\u001b[43mEO_resting_save_path\u001b[49m\u001b[43m,\u001b[49m\n\u001b[1;32m     48\u001b[0m \u001b[43m                                                 \u001b[49m\u001b[43mroi_names\u001b[49m\u001b[43m,\u001b[49m\n\u001b[1;32m     49\u001b[0m \u001b[43m                                                 \u001b[49m\u001b[43mtimes_tup\u001b[49m\u001b[43m,\u001b[49m\n\u001b[1;32m     50\u001b[0m \u001b[43m                                                 \u001b[49m\u001b[43mmethod\u001b[49m\u001b[38;5;241;43m=\u001b[39;49m\u001b[43mmethod\u001b[49m\u001b[43m,\u001b[49m\n\u001b[1;32m     51\u001b[0m \u001b[43m                                                 \u001b[49m\u001b[43mreturn_zepochs\u001b[49m\u001b[38;5;241;43m=\u001b[39;49m\u001b[43m \u001b[49m\u001b[38;5;28;43;01mFalse\u001b[39;49;00m\u001b[43m,\u001b[49m\u001b[43m \u001b[49m\u001b[38;5;66;43;03m# No epochs for Lupus\u001b[39;49;00m\n\u001b[1;32m     52\u001b[0m \u001b[43m                                                 \u001b[49m\u001b[43mreturn_EC_resting\u001b[49m\u001b[43m \u001b[49m\u001b[38;5;241;43m=\u001b[39;49m\u001b[43m \u001b[49m\u001b[38;5;28;43;01mFalse\u001b[39;49;00m\u001b[43m,\u001b[49m\n\u001b[1;32m     53\u001b[0m \u001b[43m                                                 \u001b[49m\u001b[43mreturn_EO_resting\u001b[49m\u001b[43m \u001b[49m\u001b[38;5;241;43m=\u001b[39;49m\u001b[43m \u001b[49m\u001b[43mEO_bool\u001b[49m\u001b[43m,\u001b[49m\n\u001b[1;32m     54\u001b[0m \u001b[43m                                                 \u001b[49m\u001b[43maverage_dipoles\u001b[49m\u001b[38;5;241;43m=\u001b[39;49m\u001b[43maverage_dipoles\u001b[49m\u001b[43m,\u001b[49m\n\u001b[1;32m     55\u001b[0m \u001b[43m                                                 \u001b[49m\u001b[43msave_stc_mat\u001b[49m\u001b[38;5;241;43m=\u001b[39;49m\u001b[43msave_stc_mat\u001b[49m\u001b[43m,\u001b[49m\n\u001b[1;32m     56\u001b[0m \u001b[43m                                                 \u001b[49m\u001b[43msave_inv\u001b[49m\u001b[38;5;241;43m=\u001b[39;49m\u001b[43msave_inv\u001b[49m\u001b[43m,\u001b[49m\u001b[43m)\u001b[49m\n\u001b[1;32m     57\u001b[0m utils\u001b[38;5;241m.\u001b[39mclear_display()\n\u001b[1;32m     59\u001b[0m \u001b[38;5;66;03m# add nan subjects to list if not None\u001b[39;00m\n",
      "File \u001b[0;32m~/Documents/George Kenefati/Code/eeg_toolkit/eeg_toolkit/source_localization.py:340\u001b[0m, in \u001b[0;36mto_source\u001b[0;34m(sub_id, processed_data_path, zscored_epochs_save_path, EC_resting_save_path, EO_resting_save_path, roi_names, times_tup, method, return_zepochs, return_EC_resting, return_EO_resting, average_dipoles, save_stc_mat, save_inv)\u001b[0m\n\u001b[1;32m    336\u001b[0m \u001b[38;5;66;03m# If desired and eyes open resting data not yet processed, process it\u001b[39;00m\n\u001b[1;32m    337\u001b[0m \u001b[38;5;28;01mif\u001b[39;00m return_EO_resting \u001b[38;5;129;01mand\u001b[39;00m \u001b[38;5;129;01mnot\u001b[39;00m os\u001b[38;5;241m.\u001b[39mpath\u001b[38;5;241m.\u001b[39mexists(\n\u001b[1;32m    338\u001b[0m     \u001b[38;5;124mf\u001b[39m\u001b[38;5;124m\"\u001b[39m\u001b[38;5;132;01m{\u001b[39;00mEO_resting_save_path\u001b[38;5;132;01m}\u001b[39;00m\u001b[38;5;124m/\u001b[39m\u001b[38;5;132;01m{\u001b[39;00mEO_save_fname\u001b[38;5;132;01m}\u001b[39;00m\u001b[38;5;124m\"\u001b[39m\n\u001b[1;32m    339\u001b[0m ):\n\u001b[0;32m--> 340\u001b[0m     label_ts_EO, sub_id_if_nan \u001b[38;5;241m=\u001b[39m \u001b[43mcompute_fwd_and_inv\u001b[49m\u001b[43m(\u001b[49m\n\u001b[1;32m    341\u001b[0m \u001b[43m        \u001b[49m\u001b[43msub_id\u001b[49m\u001b[43m,\u001b[49m\n\u001b[1;32m    342\u001b[0m \u001b[43m        \u001b[49m\u001b[38;5;124;43m\"\u001b[39;49m\u001b[38;5;124;43mEO\u001b[39;49m\u001b[38;5;124;43m\"\u001b[39;49m\u001b[43m,\u001b[49m\n\u001b[1;32m    343\u001b[0m \u001b[43m        \u001b[49m\u001b[43msnr\u001b[49m\u001b[43m,\u001b[49m\n\u001b[1;32m    344\u001b[0m \u001b[43m        \u001b[49m\u001b[43mtrans\u001b[49m\u001b[43m,\u001b[49m\n\u001b[1;32m    345\u001b[0m \u001b[43m        \u001b[49m\u001b[43msrc\u001b[49m\u001b[43m,\u001b[49m\n\u001b[1;32m    346\u001b[0m \u001b[43m        \u001b[49m\u001b[43mbem\u001b[49m\u001b[43m,\u001b[49m\n\u001b[1;32m    347\u001b[0m \u001b[43m        \u001b[49m\u001b[43mraw_eo\u001b[49m\u001b[43m,\u001b[49m\n\u001b[1;32m    348\u001b[0m \u001b[43m        \u001b[49m\u001b[43mnoise_var\u001b[49m\u001b[43m,\u001b[49m\n\u001b[1;32m    349\u001b[0m \u001b[43m        \u001b[49m\u001b[43mlabels\u001b[49m\u001b[43m,\u001b[49m\n\u001b[1;32m    350\u001b[0m \u001b[43m        \u001b[49m\u001b[43mEO_resting_save_path\u001b[49m\u001b[43m,\u001b[49m\n\u001b[1;32m    351\u001b[0m \u001b[43m        \u001b[49m\u001b[43mEO_save_fname\u001b[49m\u001b[43m,\u001b[49m\n\u001b[1;32m    352\u001b[0m \u001b[43m        \u001b[49m\u001b[43mmethod\u001b[49m\u001b[38;5;241;43m=\u001b[39;49m\u001b[43mmethod\u001b[49m\u001b[43m,\u001b[49m\n\u001b[1;32m    353\u001b[0m \u001b[43m        \u001b[49m\u001b[43maverage_dipoles\u001b[49m\u001b[38;5;241;43m=\u001b[39;49m\u001b[38;5;28;43;01mTrue\u001b[39;49;00m\u001b[43m,\u001b[49m\n\u001b[1;32m    354\u001b[0m \u001b[43m        \u001b[49m\u001b[43msave_stc_mat\u001b[49m\u001b[38;5;241;43m=\u001b[39;49m\u001b[43msave_stc_mat\u001b[49m\u001b[43m,\u001b[49m\n\u001b[1;32m    355\u001b[0m \u001b[43m        \u001b[49m\u001b[43msave_inv\u001b[49m\u001b[38;5;241;43m=\u001b[39;49m\u001b[43msave_inv\u001b[49m\u001b[43m,\u001b[49m\n\u001b[1;32m    356\u001b[0m \u001b[43m    \u001b[49m\u001b[43m)\u001b[49m\n\u001b[1;32m    358\u001b[0m \u001b[38;5;66;03m# If desired and eyes closed resting data not yet processed, process it\u001b[39;00m\n\u001b[1;32m    359\u001b[0m \u001b[38;5;28;01mif\u001b[39;00m return_EC_resting \u001b[38;5;129;01mand\u001b[39;00m \u001b[38;5;129;01mnot\u001b[39;00m os\u001b[38;5;241m.\u001b[39mpath\u001b[38;5;241m.\u001b[39mexists(\n\u001b[1;32m    360\u001b[0m     \u001b[38;5;124mf\u001b[39m\u001b[38;5;124m\"\u001b[39m\u001b[38;5;132;01m{\u001b[39;00mEC_resting_save_path\u001b[38;5;132;01m}\u001b[39;00m\u001b[38;5;124m/\u001b[39m\u001b[38;5;132;01m{\u001b[39;00mEC_save_fname\u001b[38;5;132;01m}\u001b[39;00m\u001b[38;5;124m\"\u001b[39m\n\u001b[1;32m    361\u001b[0m ):\n",
      "File \u001b[0;32m~/Documents/George Kenefati/Code/eeg_toolkit/eeg_toolkit/source_localization.py:231\u001b[0m, in \u001b[0;36mcompute_fwd_and_inv\u001b[0;34m(sub_id, condition, snr, trans, src, bem, mne_object, noise_var, labels, save_path, save_fname, method, average_dipoles, save_stc_mat, save_inv)\u001b[0m\n\u001b[1;32m    219\u001b[0m fwd \u001b[38;5;241m=\u001b[39m mne\u001b[38;5;241m.\u001b[39mmake_forward_solution(\n\u001b[1;32m    220\u001b[0m     mne_object\u001b[38;5;241m.\u001b[39minfo,\n\u001b[1;32m    221\u001b[0m     trans\u001b[38;5;241m=\u001b[39mtrans,\n\u001b[0;32m   (...)\u001b[0m\n\u001b[1;32m    227\u001b[0m     verbose\u001b[38;5;241m=\u001b[39m\u001b[38;5;28;01mTrue\u001b[39;00m,\n\u001b[1;32m    228\u001b[0m )\n\u001b[1;32m    229\u001b[0m utils\u001b[38;5;241m.\u001b[39mclear_display()\n\u001b[0;32m--> 231\u001b[0m inverse_operator \u001b[38;5;241m=\u001b[39m \u001b[43mmne\u001b[49m\u001b[38;5;241;43m.\u001b[39;49m\u001b[43mminimum_norm\u001b[49m\u001b[38;5;241;43m.\u001b[39;49m\u001b[43mmake_inverse_operator\u001b[49m\u001b[43m(\u001b[49m\n\u001b[1;32m    232\u001b[0m \u001b[43m    \u001b[49m\u001b[43mmne_object\u001b[49m\u001b[38;5;241;43m.\u001b[39;49m\u001b[43minfo\u001b[49m\u001b[43m,\u001b[49m\u001b[43m \u001b[49m\u001b[43mfwd\u001b[49m\u001b[43m,\u001b[49m\u001b[43m \u001b[49m\u001b[43mnoise_var\u001b[49m\u001b[43m,\u001b[49m\u001b[43m \u001b[49m\u001b[43mverbose\u001b[49m\u001b[38;5;241;43m=\u001b[39;49m\u001b[38;5;28;43;01mTrue\u001b[39;49;00m\n\u001b[1;32m    233\u001b[0m \u001b[43m\u001b[49m\u001b[43m)\u001b[49m\n\u001b[1;32m    235\u001b[0m label_ts, sub_id_if_nan \u001b[38;5;241m=\u001b[39m apply_inverse_and_save(\n\u001b[1;32m    236\u001b[0m     mne_object,\n\u001b[1;32m    237\u001b[0m     inverse_operator,\n\u001b[0;32m   (...)\u001b[0m\n\u001b[1;32m    245\u001b[0m     save_stc_mat\u001b[38;5;241m=\u001b[39msave_stc_mat,\n\u001b[1;32m    246\u001b[0m )\n\u001b[1;32m    248\u001b[0m \u001b[38;5;66;03m# Save inverse operator for just one of the data types, make it the epochs\u001b[39;00m\n",
      "File \u001b[0;32m<decorator-gen-415>:10\u001b[0m, in \u001b[0;36mmake_inverse_operator\u001b[0;34m(info, forward, noise_cov, loose, depth, fixed, rank, use_cps, verbose)\u001b[0m\n",
      "File \u001b[0;32m~/mambaforge/envs/mne/lib/python3.11/site-packages/mne/minimum_norm/inverse.py:1984\u001b[0m, in \u001b[0;36mmake_inverse_operator\u001b[0;34m(info, forward, noise_cov, loose, depth, fixed, rank, use_cps, verbose)\u001b[0m\n\u001b[1;32m   1971\u001b[0m \u001b[38;5;66;03m# For now we always have pca='white'. It does not seem to affect\u001b[39;00m\n\u001b[1;32m   1972\u001b[0m \u001b[38;5;66;03m# calculations and is also backward-compatible with MNE-C\u001b[39;00m\n\u001b[1;32m   1973\u001b[0m depth \u001b[38;5;241m=\u001b[39m _check_depth(depth, \u001b[38;5;124m\"\u001b[39m\u001b[38;5;124mdepth_mne\u001b[39m\u001b[38;5;124m\"\u001b[39m)\n\u001b[1;32m   1974\u001b[0m (\n\u001b[1;32m   1975\u001b[0m     forward,\n\u001b[1;32m   1976\u001b[0m     gain_info,\n\u001b[1;32m   1977\u001b[0m     gain,\n\u001b[1;32m   1978\u001b[0m     depth_prior,\n\u001b[1;32m   1979\u001b[0m     orient_prior,\n\u001b[1;32m   1980\u001b[0m     source_std,\n\u001b[1;32m   1981\u001b[0m     trace_GRGT,\n\u001b[1;32m   1982\u001b[0m     noise_cov,\n\u001b[1;32m   1983\u001b[0m     _,\n\u001b[0;32m-> 1984\u001b[0m ) \u001b[38;5;241m=\u001b[39m \u001b[43m_prepare_forward\u001b[49m\u001b[43m(\u001b[49m\n\u001b[1;32m   1985\u001b[0m \u001b[43m    \u001b[49m\u001b[43mforward\u001b[49m\u001b[43m,\u001b[49m\n\u001b[1;32m   1986\u001b[0m \u001b[43m    \u001b[49m\u001b[43minfo\u001b[49m\u001b[43m,\u001b[49m\n\u001b[1;32m   1987\u001b[0m \u001b[43m    \u001b[49m\u001b[43mnoise_cov\u001b[49m\u001b[43m,\u001b[49m\n\u001b[1;32m   1988\u001b[0m \u001b[43m    \u001b[49m\u001b[43mfixed\u001b[49m\u001b[43m,\u001b[49m\n\u001b[1;32m   1989\u001b[0m \u001b[43m    \u001b[49m\u001b[43mloose\u001b[49m\u001b[43m,\u001b[49m\n\u001b[1;32m   1990\u001b[0m \u001b[43m    \u001b[49m\u001b[43mrank\u001b[49m\u001b[43m,\u001b[49m\n\u001b[1;32m   1991\u001b[0m \u001b[43m    \u001b[49m\u001b[43mpca\u001b[49m\u001b[38;5;241;43m=\u001b[39;49m\u001b[38;5;124;43m\"\u001b[39;49m\u001b[38;5;124;43mwhite\u001b[39;49m\u001b[38;5;124;43m\"\u001b[39;49m\u001b[43m,\u001b[49m\n\u001b[1;32m   1992\u001b[0m \u001b[43m    \u001b[49m\u001b[43muse_cps\u001b[49m\u001b[38;5;241;43m=\u001b[39;49m\u001b[43muse_cps\u001b[49m\u001b[43m,\u001b[49m\n\u001b[1;32m   1993\u001b[0m \u001b[43m    \u001b[49m\u001b[38;5;241;43m*\u001b[39;49m\u001b[38;5;241;43m*\u001b[39;49m\u001b[43mdepth\u001b[49m\u001b[43m,\u001b[49m\n\u001b[1;32m   1994\u001b[0m \u001b[43m\u001b[49m\u001b[43m)\u001b[49m\n\u001b[1;32m   1995\u001b[0m \u001b[38;5;66;03m# no need to copy any attributes of forward here because there is\u001b[39;00m\n\u001b[1;32m   1996\u001b[0m \u001b[38;5;66;03m# a deepcopy in _prepare_forward\u001b[39;00m\n\u001b[1;32m   1997\u001b[0m inv \u001b[38;5;241m=\u001b[39m \u001b[38;5;28mdict\u001b[39m(\n\u001b[1;32m   1998\u001b[0m     projs\u001b[38;5;241m=\u001b[39mdeepcopy(gain_info[\u001b[38;5;124m\"\u001b[39m\u001b[38;5;124mprojs\u001b[39m\u001b[38;5;124m\"\u001b[39m]),\n\u001b[1;32m   1999\u001b[0m     eigen_leads_weighted\u001b[38;5;241m=\u001b[39m\u001b[38;5;28;01mFalse\u001b[39;00m,\n\u001b[0;32m   (...)\u001b[0m\n\u001b[1;32m   2008\u001b[0m     info\u001b[38;5;241m=\u001b[39mdeepcopy(forward[\u001b[38;5;124m\"\u001b[39m\u001b[38;5;124minfo\u001b[39m\u001b[38;5;124m\"\u001b[39m]),\n\u001b[1;32m   2009\u001b[0m )\n",
      "File \u001b[0;32m~/mambaforge/envs/mne/lib/python3.11/site-packages/mne/minimum_norm/inverse.py:1848\u001b[0m, in \u001b[0;36m_prepare_forward\u001b[0;34m(***failed resolving arguments***)\u001b[0m\n\u001b[1;32m   1845\u001b[0m     orient_prior \u001b[38;5;241m=\u001b[39m compute_orient_prior(forward, loose\u001b[38;5;241m=\u001b[39mloose)\n\u001b[1;32m   1847\u001b[0m logger\u001b[38;5;241m.\u001b[39minfo(\u001b[38;5;124m\"\u001b[39m\u001b[38;5;124mWhitening the forward solution.\u001b[39m\u001b[38;5;124m\"\u001b[39m)\n\u001b[0;32m-> 1848\u001b[0m noise_cov \u001b[38;5;241m=\u001b[39m \u001b[43mprepare_noise_cov\u001b[49m\u001b[43m(\u001b[49m\u001b[43mnoise_cov\u001b[49m\u001b[43m,\u001b[49m\u001b[43m \u001b[49m\u001b[43minfo\u001b[49m\u001b[43m,\u001b[49m\u001b[43m \u001b[49m\u001b[43minfo_picked\u001b[49m\u001b[43m[\u001b[49m\u001b[38;5;124;43m\"\u001b[39;49m\u001b[38;5;124;43mch_names\u001b[39;49m\u001b[38;5;124;43m\"\u001b[39;49m\u001b[43m]\u001b[49m\u001b[43m,\u001b[49m\u001b[43m \u001b[49m\u001b[43mrank\u001b[49m\u001b[43m)\u001b[49m\n\u001b[1;32m   1849\u001b[0m whitener, _ \u001b[38;5;241m=\u001b[39m compute_whitener(\n\u001b[1;32m   1850\u001b[0m     noise_cov,\n\u001b[1;32m   1851\u001b[0m     info,\n\u001b[0;32m   (...)\u001b[0m\n\u001b[1;32m   1855\u001b[0m     verbose\u001b[38;5;241m=\u001b[39m_verbose_safe_false(),\n\u001b[1;32m   1856\u001b[0m )\n\u001b[1;32m   1857\u001b[0m gain \u001b[38;5;241m=\u001b[39m np\u001b[38;5;241m.\u001b[39mdot(whitener, forward[\u001b[38;5;124m\"\u001b[39m\u001b[38;5;124msol\u001b[39m\u001b[38;5;124m\"\u001b[39m][\u001b[38;5;124m\"\u001b[39m\u001b[38;5;124mdata\u001b[39m\u001b[38;5;124m\"\u001b[39m])\n",
      "File \u001b[0;32m<decorator-gen-222>:12\u001b[0m, in \u001b[0;36mprepare_noise_cov\u001b[0;34m(noise_cov, info, ch_names, rank, scalings, on_rank_mismatch, verbose)\u001b[0m\n",
      "File \u001b[0;32m~/mambaforge/envs/mne/lib/python3.11/site-packages/mne/cov.py:1761\u001b[0m, in \u001b[0;36mprepare_noise_cov\u001b[0;34m(noise_cov, info, ch_names, rank, scalings, on_rank_mismatch, verbose)\u001b[0m\n\u001b[1;32m   1757\u001b[0m \u001b[38;5;28;01mif\u001b[39;00m \u001b[38;5;28mlen\u001b[39m(missing):\n\u001b[1;32m   1758\u001b[0m     \u001b[38;5;28;01mraise\u001b[39;00m \u001b[38;5;167;01mRuntimeError\u001b[39;00m(\n\u001b[1;32m   1759\u001b[0m         \u001b[38;5;124m\"\u001b[39m\u001b[38;5;124mNot all channels present in noise covariance:\u001b[39m\u001b[38;5;130;01m\\n\u001b[39;00m\u001b[38;5;132;01m%s\u001b[39;00m\u001b[38;5;124m\"\u001b[39m \u001b[38;5;241m%\u001b[39m missing\n\u001b[1;32m   1760\u001b[0m     )\n\u001b[0;32m-> 1761\u001b[0m C \u001b[38;5;241m=\u001b[39m \u001b[43mnoise_cov\u001b[49m\u001b[38;5;241;43m.\u001b[39;49m\u001b[43m_get_square\u001b[49m\u001b[43m(\u001b[49m\u001b[43m)\u001b[49m\u001b[43m[\u001b[49m\u001b[43mnp\u001b[49m\u001b[38;5;241;43m.\u001b[39;49m\u001b[43mix_\u001b[49m\u001b[43m(\u001b[49m\u001b[43mnoise_cov_idx\u001b[49m\u001b[43m,\u001b[49m\u001b[43m \u001b[49m\u001b[43mnoise_cov_idx\u001b[49m\u001b[43m)\u001b[49m\u001b[43m]\u001b[49m\n\u001b[1;32m   1762\u001b[0m info \u001b[38;5;241m=\u001b[39m pick_info(info, pick_channels(info[\u001b[38;5;124m\"\u001b[39m\u001b[38;5;124mch_names\u001b[39m\u001b[38;5;124m\"\u001b[39m], ch_names, ordered\u001b[38;5;241m=\u001b[39m\u001b[38;5;28;01mFalse\u001b[39;00m))\n\u001b[1;32m   1763\u001b[0m projs \u001b[38;5;241m=\u001b[39m info[\u001b[38;5;124m\"\u001b[39m\u001b[38;5;124mprojs\u001b[39m\u001b[38;5;124m\"\u001b[39m] \u001b[38;5;241m+\u001b[39m noise_cov[\u001b[38;5;124m\"\u001b[39m\u001b[38;5;124mprojs\u001b[39m\u001b[38;5;124m\"\u001b[39m]\n",
      "\u001b[0;31mIndexError\u001b[0m: index 60 is out of bounds for axis 0 with size 60"
     ]
    }
   ],
   "source": [
    "nan_subjects=[]\n",
    "\n",
    "methods = [\n",
    "    'MNE',\n",
    "    # 'dSPM',\n",
    "    ]\n",
    "\n",
    "for sub_id in sub_ids: \n",
    "    # Check if eyes open or eyes closed need to be computed\n",
    "    for save_stc_mat in [\n",
    "        False,\n",
    "        # True,\n",
    "        ]:    \n",
    "        for method in methods:\n",
    "            print(f\"Source Localization Method: {method}\")                          \n",
    "\n",
    "            # Paths\n",
    "            stc_path = (data_dir / f'Source Time Courses ({method}) (MAT)' \n",
    "                        if save_stc_mat \n",
    "                        else data_dir / f'Source Time Courses ({method})')\n",
    "            \n",
    "            EO_resting_save_path = stc_path / \"Eyes Open\"\n",
    "            EC_resting_save_path = stc_path / \"Eyes Closed\"\n",
    "            # zscored_epochs_save_path = stc_path / \"zscored_Epochs\" / time_win_path\n",
    "            zscored_epochs_save_path = stc_path / \"zscored_Epochs\" / time_win_path\n",
    "            save_paths = [EO_resting_save_path,zscored_epochs_save_path] \n",
    "            [os.makedirs(path) for path in save_paths if not os.path.exists(path)]\n",
    "            \n",
    "            # No resting if exporting to MAT\n",
    "            if save_stc_mat:\n",
    "                Epochs_bool = True\n",
    "                EC_bool = False\n",
    "                EO_bool = False\n",
    "            else:\n",
    "                Epochs_bool = True\n",
    "\n",
    "            # Compute source localization for subject and save \n",
    "            label_ts_All_Conds, sub_id_if_nan = sl.to_source(sub_id,\n",
    "                                                             processed_data_path,\n",
    "                                                             zscored_epochs_save_path,\n",
    "                                                             EC_resting_save_path,\n",
    "                                                             EO_resting_save_path,\n",
    "                                                             roi_names,\n",
    "                                                             times_tup,\n",
    "                                                             method=method,\n",
    "                                                             return_zepochs= False, # No epochs for Lupus\n",
    "                                                             return_EC_resting = False,\n",
    "                                                             return_EO_resting = EO_bool,\n",
    "                                                             average_dipoles=average_dipoles,\n",
    "                                                             save_stc_mat=save_stc_mat,\n",
    "                                                             save_inv=save_inv,)\n",
    "            utils.clear_display()\n",
    "            \n",
    "            # add nan subjects to list if not None\n",
    "            if sub_id_if_nan is not None:\n",
    "                nan_subjects.append(sub_id_if_nan)"
   ]
  },
  {
   "cell_type": "code",
   "execution_count": null,
   "id": "e75e4bfb",
   "metadata": {},
   "outputs": [],
   "source": [
    "nan_subjects"
   ]
  }
 ],
 "metadata": {
  "kernelspec": {
   "display_name": "Python 3",
   "language": "python",
   "name": "python3"
  },
  "language_info": {
   "codemirror_mode": {
    "name": "ipython",
    "version": 3
   },
   "file_extension": ".py",
   "mimetype": "text/x-python",
   "name": "python",
   "nbconvert_exporter": "python",
   "pygments_lexer": "ipython3",
   "version": "3.11.7"
  }
 },
 "nbformat": 4,
 "nbformat_minor": 5
}
