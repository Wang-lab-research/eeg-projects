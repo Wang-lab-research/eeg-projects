{
 "cells": [
  {
   "cell_type": "markdown",
   "id": "2947c985-edb4-4e37-ac38-e2abc335d541",
   "metadata": {
    "tags": []
   },
   "source": [
    "## Compute source time course (STC) from Raw and Epochs data object and save as pickle for later analyses\n",
    "#### Input: *_eyes_open-raw.fif\n",
    "####  Output: *_label_ts.pkl"
   ]
  },
  {
   "cell_type": "code",
   "execution_count": 1,
   "id": "93bc0409-9fd5-479d-8dde-25a747c13efe",
   "metadata": {
    "scrolled": true,
    "tags": []
   },
   "outputs": [
    {
     "name": "stdout",
     "output_type": "stream",
     "text": [
      "0 files missing from root.txt in /home/wanglab/mne_data/MNE-fsaverage-data\n",
      "0 files missing from bem.txt in /home/wanglab/mne_data/MNE-fsaverage-data/fsaverage\n"
     ]
    }
   ],
   "source": [
    "import os\n",
    "from pathlib import Path\n",
    "import sys\n",
    "sys.path.append('/home/wanglab/Documents/George Kenefati/Code/eeg_toolkit/')\n",
    "from eeg_toolkit import utils, preprocess\n",
    "from eeg_toolkit import source_localization as sl"
   ]
  },
  {
   "cell_type": "markdown",
   "id": "a6196feb",
   "metadata": {},
   "source": [
    "### Paths"
   ]
  },
  {
   "cell_type": "code",
   "execution_count": 2,
   "id": "4b57e63e",
   "metadata": {},
   "outputs": [
    {
     "name": "stdout",
     "output_type": "stream",
     "text": [
      "[-2.5,0.0,2.5]\n"
     ]
    }
   ],
   "source": [
    "# Time window for source localization computation\n",
    "times_tup,time_win_path = preprocess.get_time_window(5)\n",
    "\n",
    "# Average dipoles, always true unless you have subject-specific MRI and know what you're doing\n",
    "average_dipoles = True\n",
    "\n",
    "# Save inverse. True if you want to plot the brain model with AEC connectivity\n",
    "save_inv = True"
   ]
  },
  {
   "cell_type": "code",
   "execution_count": 3,
   "id": "842b367f-9d3c-4436-868f-6fb7ffe7b719",
   "metadata": {},
   "outputs": [],
   "source": [
    "# Read in processed raw data\n",
    "data_dir = Path(\"../../Data\")\n",
    "# processed_data_path = data_dir / 'Processed Data/'\n",
    "processed_data_path = data_dir / 'Resampled'"
   ]
  },
  {
   "cell_type": "markdown",
   "id": "3b38c500",
   "metadata": {},
   "source": [
    "### Subject IDs"
   ]
  },
  {
   "cell_type": "code",
   "execution_count": 4,
   "id": "955bf412",
   "metadata": {},
   "outputs": [],
   "source": [
    "# 1 means chronic pain, 0 means control\n",
    "sub_ids = {\n",
    "    '5186': 1,\n",
    "    '5295': 1,\n",
    "    '5648': 0,\n",
    "    '5675': 0,\n",
    "    '5873': 0,\n",
    "    '6100': 0,\n",
    "    '6106': 0,\n",
    "    '6310': 1,\n",
    "}"
   ]
  },
  {
   "cell_type": "code",
   "execution_count": 5,
   "id": "7c3a8fdb-dbfa-42b6-907d-88061fab5ea5",
   "metadata": {},
   "outputs": [
    {
     "name": "stdout",
     "output_type": "stream",
     "text": [
      "Chronics: 3\n",
      "Controls: 5\n",
      "Total: 8\n"
     ]
    }
   ],
   "source": [
    "print(f\"Chronics: {len([k for k,v in sub_ids.items() if v == 1])}\") \n",
    "print(f\"Controls: {len([k for k,v in sub_ids.items() if v == 0])}\")\n",
    "print(f\"Total: {len(sub_ids)}\")"
   ]
  },
  {
   "cell_type": "code",
   "execution_count": 6,
   "id": "168d00bf-c009-4143-a71d-c7c200ba148b",
   "metadata": {
    "tags": []
   },
   "outputs": [],
   "source": [
    "# Get stc only from selected labels\n",
    "roi_names = [# Left\n",
    "             'rostralanteriorcingulate-lh', # Left Rostral ACC\n",
    "             'caudalanteriorcingulate-lh', # Left Caudal ACC\n",
    "             'postcentral-lh', # Left S1,\n",
    "             'insula-lh', 'superiorfrontal-lh', # Left Insula, Left DL-PFC,\n",
    "             'medialorbitofrontal-lh', # Left Medial-OFC\n",
    "             # CONTROLS\n",
    "             # lateral occipital\n",
    "             'lateraloccipital-lh', # Left Visual Cortex\n",
    "             'superiortemporal-lh', # Left Auditory Cortex\n",
    "             # Right\n",
    "             'rostralanteriorcingulate-rh', # Right Rostral ACC\n",
    "             'caudalanteriorcingulate-rh', # Right Caudal ACC\n",
    "             'postcentral-rh', # , Right S1\n",
    "             'insula-rh', 'superiorfrontal-rh', # Right Insula, Right DL-PFC\n",
    "             'medialorbitofrontal-rh', # Right Medial-OFC\n",
    "             # CONTROLS\n",
    "             'lateraloccipital-rh', # Right Visual Cortex\n",
    "             'superiortemporal-rh', # Right Auditory Cortex\n",
    "]"
   ]
  },
  {
   "cell_type": "markdown",
   "id": "03df3db5",
   "metadata": {},
   "source": [
    "### Compute STCs"
   ]
  },
  {
   "cell_type": "code",
   "execution_count": 7,
   "id": "80ffacc1",
   "metadata": {},
   "outputs": [
    {
     "name": "stdout",
     "output_type": "stream",
     "text": [
      "Converting forward solution to surface orientation\n",
      "    No patch info available. The standard source space normals will be employed in the rotation to the local surface coordinates....\n",
      "    Converting to surface-based source orientations...\n",
      "    [done]\n",
      "Computing inverse operator with 59 channels.\n",
      "    59 out of 62 channels remain after picking\n",
      "Selected 59 channels\n",
      "Creating the depth weighting matrix...\n",
      "    59 EEG channels\n",
      "    limit = 20485/20484 = 2.317813\n",
      "    scale = 103014 exp = 0.8\n",
      "Applying loose dipole orientations to surface source spaces: 0.2\n",
      "Whitening the forward solution.\n",
      "    Created an SSP operator (subspace dimension = 1)\n",
      "Computing rank from covariance with rank=None\n",
      "    Using tolerance 0.04 (2.2e-16 eps * 59 dim * 3.1e+12  max singular value)\n",
      "    Estimated rank (eeg): 58\n",
      "    EEG: rank 58 computed from 59 data channels with 1 projector\n",
      "    Setting small EEG eigenvalues to zero (without PCA)\n",
      "Creating the source covariance matrix\n",
      "Adjusting source covariance matrix.\n",
      "Computing SVD of whitened and weighted lead field matrix.\n",
      "    largest singular value = 4.42888\n",
      "    scaling factor to adjust the trace = 5.82795e+07 (nchan = 59 nzero = 1)\n",
      "Applying inverse to Raw object\n",
      "Preparing the inverse operator for use...\n",
      "    Scaled noise and source covariance from nave = 1 to nave = 1\n",
      "    Created the regularized inverter\n",
      "    Created an SSP operator (subspace dimension = 1)\n",
      "    Created the whitener using a noise covariance matrix with rank 58 (1 small eigenvalues omitted)\n",
      "Applying inverse to raw...\n",
      "    Picked 59 channels from the data\n",
      "    Computing inverse...\n",
      "    Eigenleads need to be weighted ...\n"
     ]
    }
   ],
   "source": [
    "nan_subjects=[]\n",
    "\n",
    "methods = [\n",
    "    'MNE',\n",
    "    # 'dSPM',\n",
    "    ]\n",
    "\n",
    "for sub_id in sub_ids: \n",
    "    # Check if eyes open or eyes closed need to be computed\n",
    "    for save_stc_mat in [\n",
    "        False,\n",
    "        # True,\n",
    "        ]:    \n",
    "        for method in methods:\n",
    "            print(f\"Source Localization Method: {method}\")                          \n",
    "\n",
    "            # Paths\n",
    "            stc_path = (data_dir / f'Source Time Courses ({method}) (MAT)' \n",
    "                        if save_stc_mat \n",
    "                        else data_dir / f'Source Time Courses ({method})')\n",
    "            \n",
    "            EO_resting_save_path = stc_path / \"Eyes Open\"\n",
    "            EC_resting_save_path = stc_path / \"Eyes Closed\"\n",
    "            # zscored_epochs_save_path = stc_path / \"zscored_Epochs\" / time_win_path\n",
    "            zscored_epochs_save_path = stc_path / \"zscored_Epochs\" / time_win_path\n",
    "            save_paths = [EO_resting_save_path,zscored_epochs_save_path] \n",
    "            [os.makedirs(path) for path in save_paths if not os.path.exists(path)]\n",
    "            \n",
    "            if os.path.exists(os.path.join(EO_resting_save_path, f\"{sub_id}_eyes_open.pkl\")):\n",
    "                continue\n",
    "        \n",
    "            # No resting if exporting to MAT\n",
    "            if save_stc_mat:\n",
    "                Epochs_bool = True\n",
    "                EC_bool = False\n",
    "                EO_bool = False\n",
    "            else:\n",
    "                Epochs_bool = True\n",
    "\n",
    "            # Compute source localization for subject and save \n",
    "            label_ts_All_Conds, sub_id_if_nan = sl.to_source(sub_id,\n",
    "                                                            processed_data_path,\n",
    "                                                            zscored_epochs_save_path,\n",
    "                                                            EC_resting_save_path,\n",
    "                                                            EO_resting_save_path,\n",
    "                                                            roi_names,\n",
    "                                                            times_tup,\n",
    "                                                            method=method,\n",
    "                                                            return_zepochs = False, # No epochs for Lupus\n",
    "                                                            return_EC_resting = False,\n",
    "                                                            return_EO_resting = True,\n",
    "                                                            average_dipoles=average_dipoles,\n",
    "                                                            save_stc_mat=save_stc_mat,\n",
    "                                                            save_inv=save_inv,)\n",
    "            utils.clear_display()\n",
    "            \n",
    "            # add nan subjects to list if not None\n",
    "            if sub_id_if_nan is not None:\n",
    "                nan_subjects.append(sub_id_if_nan)"
   ]
  },
  {
   "cell_type": "code",
   "execution_count": null,
   "id": "e75e4bfb",
   "metadata": {},
   "outputs": [],
   "source": [
    "nan_subjects"
   ]
  }
 ],
 "metadata": {
  "kernelspec": {
   "display_name": "Python 3",
   "language": "python",
   "name": "python3"
  },
  "language_info": {
   "codemirror_mode": {
    "name": "ipython",
    "version": 3
   },
   "file_extension": ".py",
   "mimetype": "text/x-python",
   "name": "python",
   "nbconvert_exporter": "python",
   "pygments_lexer": "ipython3",
   "version": "3.11.7"
  }
 },
 "nbformat": 4,
 "nbformat_minor": 5
}
