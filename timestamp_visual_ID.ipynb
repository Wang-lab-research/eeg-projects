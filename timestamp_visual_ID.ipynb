{
 "cells": [
  {
   "cell_type": "code",
   "execution_count": 34,
   "id": "235bf74f-f134-4837-8817-4db9597a12cf",
   "metadata": {},
   "outputs": [],
   "source": [
    "#import csv\n",
    "#import os\n",
    "#import sys\n",
    "\n",
    "#import matplotlib.pyplot as plt\n",
    "#import numpy as np\n",
    "import mne"
   ]
  },
  {
   "cell_type": "code",
   "execution_count": 31,
   "id": "570ed148-ffe6-4f63-b098-223d00f66d15",
   "metadata": {},
   "outputs": [],
   "source": [
    "#The data path below is local to sbflpc002\n",
    "data_path = '/users/kate/Downloads/no-keypress-subjects/'\n",
    "raw_fif_files = ['045_preprocessed-raw.fif','C1._preprocessed-raw.fif','C5._preprocessed-raw.fif','C8._preprocessed-raw.fif','C20_preprocessed-raw.fif','C21_preprocessed-raw.fif','C22_preprocessed-raw.fif']\n",
    "\n",
    "#if not os.path.exists(save_path):\n",
    "    #os.makedirs(save_path)"
   ]
  },
  {
   "cell_type": "code",
   "execution_count": 32,
   "id": "a2376ebb-cb67-4421-8c1d-72ee059d43f4",
   "metadata": {},
   "outputs": [
    {
     "name": "stdout",
     "output_type": "stream",
     "text": [
      "/users/kate/Downloads/no-keypress-subjects/C20_preprocessed-raw.fif\n"
     ]
    }
   ],
   "source": [
    "sub_id = 'C20'\n",
    "# Find all raw.fif files containing \"C20\" in their filename\n",
    "raw_files = [f for f in os.listdir(data_path) if f.endswith('raw.fif') and sub_id in f]\n",
    "\n",
    "file = raw_files[0]\n",
    "file_path = os.path.join(data_path, file)\n",
    "print(file_path)"
   ]
  },
  {
   "cell_type": "code",
   "execution_count": 36,
   "id": "7faee384-26f4-4d34-a003-7ec35da6714c",
   "metadata": {},
   "outputs": [
    {
     "name": "stdout",
     "output_type": "stream",
     "text": [
      "Opening raw data file /users/kate/Downloads/no-keypress-subjects/C20_preprocessed-raw.fif...\n",
      "    Range : 0 ... 526879 =      0.000 ...  1317.197 secs\n",
      "Ready.\n",
      "Reading 0 ... 526879  =      0.000 ...  1317.197 secs...\n",
      "Filtering raw data in 1 contiguous segment\n",
      "Setting up band-pass filter from 8 - 13 Hz\n",
      "\n",
      "FIR filter parameters\n",
      "---------------------\n",
      "Designing a one-pass, zero-phase, non-causal bandpass filter:\n",
      "- Windowed time-domain design (firwin) method\n",
      "- Hamming window with 0.0194 passband ripple and 53 dB stopband attenuation\n",
      "- Lower passband edge: 8.00\n",
      "- Lower transition bandwidth: 2.00 Hz (-6 dB cutoff frequency: 7.00 Hz)\n",
      "- Upper passband edge: 13.00 Hz\n",
      "- Upper transition bandwidth: 3.25 Hz (-6 dB cutoff frequency: 14.62 Hz)\n",
      "- Filter length: 661 samples (1.653 sec)\n",
      "\n"
     ]
    },
    {
     "name": "stderr",
     "output_type": "stream",
     "text": [
      "[Parallel(n_jobs=1)]: Using backend SequentialBackend with 1 concurrent workers.\n",
      "[Parallel(n_jobs=1)]: Done   1 out of   1 | elapsed:    0.0s remaining:    0.0s\n",
      "[Parallel(n_jobs=1)]: Done   2 out of   2 | elapsed:    0.0s remaining:    0.0s\n",
      "[Parallel(n_jobs=1)]: Done   3 out of   3 | elapsed:    0.0s remaining:    0.0s\n",
      "[Parallel(n_jobs=1)]: Done   4 out of   4 | elapsed:    0.0s remaining:    0.0s\n",
      "[Parallel(n_jobs=1)]: Done  64 out of  64 | elapsed:    0.8s finished\n"
     ]
    },
    {
     "ename": "TypeError",
     "evalue": "BaseRaw.plot() got an unexpected keyword argument 'picks'",
     "output_type": "error",
     "traceback": [
      "\u001b[0;31m---------------------------------------------------------------------------\u001b[0m",
      "\u001b[0;31mTypeError\u001b[0m                                 Traceback (most recent call last)",
      "Cell \u001b[0;32mIn[36], line 8\u001b[0m\n\u001b[1;32m      5\u001b[0m raw_alpha \u001b[38;5;241m=\u001b[39m raw\u001b[38;5;241m.\u001b[39mcopy()\u001b[38;5;241m.\u001b[39mfilter(l_freq\u001b[38;5;241m=\u001b[39m\u001b[38;5;241m8\u001b[39m, h_freq\u001b[38;5;241m=\u001b[39m\u001b[38;5;241m13\u001b[39m, fir_design\u001b[38;5;241m=\u001b[39m\u001b[38;5;124m'\u001b[39m\u001b[38;5;124mfirwin\u001b[39m\u001b[38;5;124m'\u001b[39m)\n\u001b[1;32m      7\u001b[0m picks \u001b[38;5;241m=\u001b[39m mne\u001b[38;5;241m.\u001b[39mpick_types(raw_alpha\u001b[38;5;241m.\u001b[39minfo, eeg\u001b[38;5;241m=\u001b[39m\u001b[38;5;28;01mTrue\u001b[39;00m, include\u001b[38;5;241m=\u001b[39m\u001b[38;5;124m'\u001b[39m\u001b[38;5;124mVEOG\u001b[39m\u001b[38;5;124m'\u001b[39m)\n\u001b[0;32m----> 8\u001b[0m \u001b[43mraw_alpha\u001b[49m\u001b[38;5;241;43m.\u001b[39;49m\u001b[43mplot\u001b[49m\u001b[43m(\u001b[49m\u001b[43mpicks\u001b[49m\u001b[38;5;241;43m=\u001b[39;49m\u001b[38;5;124;43m\"\u001b[39;49m\u001b[38;5;124;43mdata\u001b[39;49m\u001b[38;5;124;43m\"\u001b[39;49m\u001b[43m,\u001b[49m\u001b[43m \u001b[49m\u001b[43mexclude\u001b[49m\u001b[38;5;241;43m=\u001b[39;49m\u001b[38;5;124;43m\"\u001b[39;49m\u001b[38;5;124;43mbads\u001b[39;49m\u001b[38;5;124;43m\"\u001b[39;49m\u001b[43m)\u001b[49m\n\u001b[1;32m      9\u001b[0m \u001b[38;5;66;03m#raw_alpha.plot(n_channels=32, scalings=dict(eeg=20e-6, eog=150e-6), picks=picks,\u001b[39;00m\n\u001b[1;32m     10\u001b[0m                    \u001b[38;5;66;03m#title='EEG recording with Alpha Bands and VEOG')\u001b[39;00m\n",
      "\u001b[0;31mTypeError\u001b[0m: BaseRaw.plot() got an unexpected keyword argument 'picks'"
     ]
    }
   ],
   "source": [
    "# Load the raw EEG data\n",
    "raw = mne.io.read_raw_fif(file_path, preload=True)\n",
    "\n",
    "# Extract alpha bands using the filter_data method\n",
    "raw_alpha = raw.copy().filter(l_freq=8, h_freq=13, fir_design='firwin')\n",
    "\n",
    "picks = mne.pick_types(raw_alpha.info, eeg=True, include='VEOG')\n",
    "raw_alpha.plot(picks=\"data\", exclude=\"bads\")\n",
    "#raw_alpha.plot(n_channels=32, scalings=dict(eeg=20e-6, eog=150e-6), picks=picks,\n",
    "                   #title='EEG recording with Alpha Bands and VEOG')"
   ]
  },
  {
   "cell_type": "code",
   "execution_count": null,
   "id": "1b61f0c3-5df8-437e-869e-84623ec91a61",
   "metadata": {},
   "outputs": [],
   "source": []
  }
 ],
 "metadata": {
  "kernelspec": {
   "display_name": "Python 3 (ipykernel)",
   "language": "python",
   "name": "python3"
  },
  "language_info": {
   "codemirror_mode": {
    "name": "ipython",
    "version": 3
   },
   "file_extension": ".py",
   "mimetype": "text/x-python",
   "name": "python",
   "nbconvert_exporter": "python",
   "pygments_lexer": "ipython3",
   "version": "3.11.2"
  }
 },
 "nbformat": 4,
 "nbformat_minor": 5
}
